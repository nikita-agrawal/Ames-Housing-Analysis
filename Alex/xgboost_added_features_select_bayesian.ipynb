{
 "cells": [
  {
   "cell_type": "code",
   "execution_count": 1,
   "metadata": {},
   "outputs": [],
   "source": [
    "import pandas as pd\n",
    "import numpy as np\n",
    "from sklearn import linear_model\n",
    "from sklearn.linear_model import LinearRegression\n",
    "from sklearn.linear_model import Ridge\n",
    "from sklearn.linear_model import Lasso\n",
    "from sklearn.preprocessing import OneHotEncoder\n",
    "from sklearn.preprocessing import OrdinalEncoder\n",
    "from sklearn.compose import ColumnTransformer\n",
    "from sklearn.cluster import KMeans\n",
    "from sklearn.metrics import silhouette_samples, silhouette_score\n",
    "from sklearn.preprocessing import StandardScaler\n",
    "from sklearn.feature_selection import SelectFromModel\n",
    "from sklearn.model_selection import ShuffleSplit\n",
    "from sklearn.model_selection import cross_val_score\n",
    "from sklearn.model_selection import RepeatedKFold\n",
    "from sklearn.model_selection import KFold\n",
    "from sklearn.model_selection import GridSearchCV\n",
    "from sklearn.metrics import r2_score\n",
    "import xgboost as xgb\n",
    "from bayes_opt import BayesianOptimization\n",
    "import matplotlib.pyplot as plt\n",
    "import matplotlib.cm as cm\n",
    "import seaborn as sns\n",
    "import matplotlib.style as style\n",
    "style.use('fivethirtyeight')\n",
    "import helper"
   ]
  },
  {
   "cell_type": "code",
   "execution_count": 2,
   "metadata": {},
   "outputs": [],
   "source": [
    "colors = [\"#FF0B04\", \"#F1BE48\",\n",
    "           \"#B9975B\", \"#8B5B29\",\n",
    "           \"#524727\",\n",
    "         ]\n",
    "sns.set_palette(sns.color_palette(colors))"
   ]
  },
  {
   "cell_type": "code",
   "execution_count": 3,
   "metadata": {},
   "outputs": [],
   "source": [
    "# importing data\n",
    "housing = pd.read_csv('Ames_Housing_Price_Data.csv', index_col=0,low_memory = False)\n",
    "# data processing\n",
    "train, test = helper.data_processing_wrapper(housing,\n",
    "                                               num_to_cat_list = ['MSSubClass','MoSold'],\n",
    "                                             remove_PID = False\n",
    "                                        )\n",
    "\n",
    "# feature engineering wrapper\n",
    "train, test = helper.feature_engineering_wrapper(train, test)\n",
    "\n",
    "# importing school feature\n",
    "schools = pd.read_csv('schoolFeatures.csv',index_col = 0)\n",
    "school_keep = [\n",
    "    'PID',\n",
    "    'closestSchool'\n",
    "]\n",
    "schools = schools[school_keep]\n",
    "\n",
    "# merge school feature onto original data set.\n",
    "train = train.merge(schools, how = 'left', left_on = 'PID', right_on = 'PID')\n",
    "test = test.merge(schools, how = 'left', left_on = 'PID', right_on = 'PID')\n",
    "\n",
    "train = train.dropna(subset=['closestSchool'])\n",
    "train = train.reset_index(drop=True)\n",
    "\n",
    "test = test.dropna(subset=['closestSchool'])\n",
    "test = test.reset_index(drop=True)"
   ]
  },
  {
   "cell_type": "code",
   "execution_count": 4,
   "metadata": {},
   "outputs": [],
   "source": [
    "train_raw = train.copy()\n",
    "test_raw = test.copy()\n",
    "\n",
    "X_train = train_raw.drop(['SalePrice','PID'],axis='columns')\n",
    "y_train = np.log(train_raw['SalePrice'])\n",
    "X_test = test_raw.drop(['SalePrice','PID'],axis='columns')\n",
    "y_test = np.log(test_raw['SalePrice'])"
   ]
  },
  {
   "cell_type": "code",
   "execution_count": 5,
   "metadata": {},
   "outputs": [],
   "source": [
    "coef_df = pd.read_csv('lasso_coef.csv',index_col=0)"
   ]
  },
  {
   "cell_type": "code",
   "execution_count": 6,
   "metadata": {},
   "outputs": [],
   "source": [
    "selected_features = list(coef_df['features'])"
   ]
  },
  {
   "cell_type": "code",
   "execution_count": 7,
   "metadata": {},
   "outputs": [],
   "source": [
    "cat_feats = X_train.select_dtypes(['object']).columns.to_list()\n",
    "num_feats = X_train.select_dtypes(['int64','float64']).columns.to_list()"
   ]
  },
  {
   "cell_type": "code",
   "execution_count": 8,
   "metadata": {},
   "outputs": [],
   "source": [
    "preprocessor = ColumnTransformer(transformers=[\n",
    "    ('tf1',OneHotEncoder(sparse=False, handle_unknown='ignore'), cat_feats)],remainder='passthrough')\n",
    "\n",
    "X_train_transformed = preprocessor.fit_transform(X_train)\n",
    "\n",
    "columns_transformed = preprocessor.named_transformers_['tf1'].get_feature_names(input_features = cat_feats)\n",
    "new_columns = list(columns_transformed) + num_feats\n",
    "\n",
    "X_train_transformed = pd.DataFrame(X_train_transformed,columns=new_columns)\n",
    "\n",
    "X_test_transformed = preprocessor.transform(X_test)\n",
    "X_test_transformed = pd.DataFrame(X_test_transformed,columns=new_columns)"
   ]
  },
  {
   "cell_type": "code",
   "execution_count": 9,
   "metadata": {},
   "outputs": [],
   "source": [
    "X_train = X_train_transformed[selected_features]\n",
    "X_test = X_test_transformed[selected_features]"
   ]
  },
  {
   "cell_type": "markdown",
   "metadata": {},
   "source": [
    "# XGBoost without Bayesian optimization"
   ]
  },
  {
   "cell_type": "code",
   "execution_count": 15,
   "metadata": {},
   "outputs": [
    {
     "name": "stdout",
     "output_type": "stream",
     "text": [
      "0.9316554588904126\n",
      "{'eta': 0.1, 'max_depth': 50, 'n_estimators': 100}\n"
     ]
    }
   ],
   "source": [
    "X = X_train\n",
    "y = y_train\n",
    "\n",
    "boost = xgb.XGBRegressor()\n",
    "\n",
    "param_grid = {\n",
    "    'n_estimators':[1,10,100],\n",
    "    'max_depth':[20,50],\n",
    "    'eta':[0.1,0.3,0.5]\n",
    "}\n",
    "\n",
    "cv = RepeatedKFold(n_splits=4, n_repeats=5, random_state=42)\n",
    "\n",
    "grid = GridSearchCV(boost, param_grid, scoring='r2', cv=cv, n_jobs=-1)\n",
    "\n",
    "grid.fit(X,y)\n",
    "\n",
    "print(grid.best_score_)\n",
    "print(grid.best_params_)"
   ]
  },
  {
   "cell_type": "code",
   "execution_count": 16,
   "metadata": {},
   "outputs": [
    {
     "data": {
      "text/plain": [
       "0.9999678413571278"
      ]
     },
     "execution_count": 16,
     "metadata": {},
     "output_type": "execute_result"
    }
   ],
   "source": [
    "grid.score(X, y)"
   ]
  },
  {
   "cell_type": "code",
   "execution_count": 18,
   "metadata": {},
   "outputs": [
    {
     "data": {
      "text/plain": [
       "0.9143127321077821"
      ]
     },
     "execution_count": 18,
     "metadata": {},
     "output_type": "execute_result"
    }
   ],
   "source": [
    "X = X_test\n",
    "y = y_test\n",
    "grid.score(X, y)"
   ]
  },
  {
   "cell_type": "markdown",
   "metadata": {},
   "source": [
    "# XGBoost with Bayesian Optimization"
   ]
  },
  {
   "cell_type": "code",
   "execution_count": 19,
   "metadata": {},
   "outputs": [],
   "source": [
    "xgb.set_config(verbosity=0)"
   ]
  },
  {
   "cell_type": "code",
   "execution_count": 50,
   "metadata": {},
   "outputs": [],
   "source": [
    "def bo_tune_xgb(max_depth, gamma, n_estimators, learning_rate):\n",
    "    \n",
    "    param_grid = {'max_depth':int(max_depth), \n",
    "                  'gamma':gamma, \n",
    "                  'n_estimators':int(n_estimators), \n",
    "                  'learning_rate':learning_rate,\n",
    "                  'subsample':0.8,\n",
    "                  'eta':0.1}\n",
    "    \n",
    "    boost = xgb.XGBRegressor()\n",
    "    cv = KFold(n_splits=4, shuffle=True, random_state=42)\n",
    "    cross = cross_val_score(boost, X_train, y_train, scoring='r2', cv=cv, n_jobs=-1)\n",
    "            \n",
    "    return cross.mean()"
   ]
  },
  {
   "cell_type": "code",
   "execution_count": 51,
   "metadata": {},
   "outputs": [
    {
     "name": "stdout",
     "output_type": "stream",
     "text": [
      "|   iter    |  target   |   gamma   | learni... | max_depth | n_esti... |\n",
      "-------------------------------------------------------------------------\n",
      "| \u001b[0m 1       \u001b[0m | \u001b[0m 0.9263  \u001b[0m | \u001b[0m 0.3745  \u001b[0m | \u001b[0m 0.9507  \u001b[0m | \u001b[0m 45.26   \u001b[0m | \u001b[0m 108.0   \u001b[0m |\n",
      "| \u001b[0m 2       \u001b[0m | \u001b[0m 0.9263  \u001b[0m | \u001b[0m 0.156   \u001b[0m | \u001b[0m 0.156   \u001b[0m | \u001b[0m 8.195   \u001b[0m | \u001b[0m 116.0   \u001b[0m |\n",
      "| \u001b[0m 3       \u001b[0m | \u001b[0m 0.9263  \u001b[0m | \u001b[0m 0.6011  \u001b[0m | \u001b[0m 0.7081  \u001b[0m | \u001b[0m 6.132   \u001b[0m | \u001b[0m 119.1   \u001b[0m |\n",
      "| \u001b[0m 4       \u001b[0m | \u001b[0m 0.9263  \u001b[0m | \u001b[0m 0.8324  \u001b[0m | \u001b[0m 0.2123  \u001b[0m | \u001b[0m 15.0    \u001b[0m | \u001b[0m 95.5    \u001b[0m |\n",
      "| \u001b[0m 5       \u001b[0m | \u001b[0m 0.9263  \u001b[0m | \u001b[0m 0.3042  \u001b[0m | \u001b[0m 0.5248  \u001b[0m | \u001b[0m 28.76   \u001b[0m | \u001b[0m 98.74   \u001b[0m |\n",
      "| \u001b[0m 6       \u001b[0m | \u001b[0m 0.9263  \u001b[0m | \u001b[0m 0.6119  \u001b[0m | \u001b[0m 0.1395  \u001b[0m | \u001b[0m 21.07   \u001b[0m | \u001b[0m 101.0   \u001b[0m |\n",
      "| \u001b[0m 7       \u001b[0m | \u001b[0m 0.9263  \u001b[0m | \u001b[0m 0.4561  \u001b[0m | \u001b[0m 0.7852  \u001b[0m | \u001b[0m 15.98   \u001b[0m | \u001b[0m 105.4   \u001b[0m |\n",
      "| \u001b[0m 8       \u001b[0m | \u001b[0m 0.9263  \u001b[0m | \u001b[0m 0.5924  \u001b[0m | \u001b[0m 0.04645 \u001b[0m | \u001b[0m 38.41   \u001b[0m | \u001b[0m 95.12   \u001b[0m |\n",
      "| \u001b[0m 9       \u001b[0m | \u001b[0m 0.9263  \u001b[0m | \u001b[0m 0.8647  \u001b[0m | \u001b[0m 0.8129  \u001b[0m | \u001b[0m 59.98   \u001b[0m | \u001b[0m 119.9   \u001b[0m |\n",
      "| \u001b[0m 10      \u001b[0m | \u001b[0m 0.9263  \u001b[0m | \u001b[0m 0.5175  \u001b[0m | \u001b[0m 0.1887  \u001b[0m | \u001b[0m 59.68   \u001b[0m | \u001b[0m 90.13   \u001b[0m |\n",
      "| \u001b[0m 11      \u001b[0m | \u001b[0m 0.9263  \u001b[0m | \u001b[0m 0.7329  \u001b[0m | \u001b[0m 0.2315  \u001b[0m | \u001b[0m 59.77   \u001b[0m | \u001b[0m 120.0   \u001b[0m |\n",
      "| \u001b[0m 12      \u001b[0m | \u001b[0m 0.9263  \u001b[0m | \u001b[0m 0.05584 \u001b[0m | \u001b[0m 0.6822  \u001b[0m | \u001b[0m 5.225   \u001b[0m | \u001b[0m 90.33   \u001b[0m |\n",
      "| \u001b[0m 13      \u001b[0m | \u001b[0m 0.9263  \u001b[0m | \u001b[0m 0.04592 \u001b[0m | \u001b[0m 0.8918  \u001b[0m | \u001b[0m 59.87   \u001b[0m | \u001b[0m 90.21   \u001b[0m |\n",
      "=========================================================================\n"
     ]
    }
   ],
   "source": [
    "xgb_bo = BayesianOptimization(bo_tune_xgb, {'max_depth':(5,60), \n",
    "                                           'gamma':(0,1),\n",
    "                                           'learning_rate':(0,1),\n",
    "                                           'n_estimators':(90,120)},\n",
    "                             random_state = 42)\n",
    "\n",
    "xgb_bo.maximize(n_iter=5, init_points=8, acq='ei')"
   ]
  },
  {
   "cell_type": "code",
   "execution_count": 52,
   "metadata": {
    "scrolled": true
   },
   "outputs": [
    {
     "name": "stdout",
     "output_type": "stream",
     "text": [
      "{'gamma': 0.3745401188473625, 'learning_rate': 0.9507143064099162, 'max_depth': 45.25966679962728, 'n_estimators': 107.9597545259111}\n"
     ]
    }
   ],
   "source": [
    "params = xgb_bo.max['params']\n",
    "print(params)"
   ]
  },
  {
   "cell_type": "code",
   "execution_count": 53,
   "metadata": {},
   "outputs": [],
   "source": [
    "params['max_depth']= int(params['max_depth'])\n",
    "params['n_estimators']= int(params['n_estimators'])"
   ]
  },
  {
   "cell_type": "code",
   "execution_count": 54,
   "metadata": {},
   "outputs": [],
   "source": [
    "boost = xgb.XGBRegressor(**params).fit(X_train, y_train)\n",
    "predicts_train = boost.predict(X_train)"
   ]
  },
  {
   "cell_type": "code",
   "execution_count": 55,
   "metadata": {},
   "outputs": [
    {
     "data": {
      "text/plain": [
       "0.9136974131291594"
      ]
     },
     "execution_count": 55,
     "metadata": {},
     "output_type": "execute_result"
    }
   ],
   "source": [
    "r2_score(y_train, predicts_train)"
   ]
  },
  {
   "cell_type": "code",
   "execution_count": 56,
   "metadata": {},
   "outputs": [
    {
     "data": {
      "text/plain": [
       "0.8328442015089369"
      ]
     },
     "execution_count": 56,
     "metadata": {},
     "output_type": "execute_result"
    }
   ],
   "source": [
    "predicts_test = boost.predict(X_test)\n",
    "r2_score(y_test, predicts_test)"
   ]
  }
 ],
 "metadata": {
  "kernelspec": {
   "display_name": "Python 3",
   "language": "python",
   "name": "python3"
  },
  "language_info": {
   "codemirror_mode": {
    "name": "ipython",
    "version": 3
   },
   "file_extension": ".py",
   "mimetype": "text/x-python",
   "name": "python",
   "nbconvert_exporter": "python",
   "pygments_lexer": "ipython3",
   "version": "3.8.5"
  }
 },
 "nbformat": 4,
 "nbformat_minor": 5
}
