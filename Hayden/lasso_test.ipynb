{
 "cells": [
  {
   "cell_type": "code",
   "execution_count": 5,
   "id": "865ac6cf",
   "metadata": {},
   "outputs": [],
   "source": [
    "import pandas as pd\n",
    "import numpy as np\n",
    "from sklearn import linear_model\n",
    "from sklearn.preprocessing import OneHotEncoder\n",
    "from sklearn.compose import ColumnTransformer\n",
    "from sklearn.preprocessing import StandardScaler\n",
    "from sklearn.feature_selection import SelectFromModel\n",
    "import matplotlib.pyplot as plt\n",
    "import seaborn as sns\n",
    "import matplotlib.style as style\n",
    "import helper\n",
    "style.use('fivethirtyeight')"
   ]
  },
  {
   "cell_type": "code",
   "execution_count": 6,
   "id": "d3a7dcbf",
   "metadata": {},
   "outputs": [],
   "source": [
    "colors = [\"#FF0B04\", \"#F1BE48\",\n",
    "           \"#B9975B\", \"#8B5B29\",\n",
    "           \"#524727\",\n",
    "         ]\n",
    "sns.set_palette(sns.color_palette(colors))"
   ]
  },
  {
   "cell_type": "markdown",
   "id": "0eec64a0",
   "metadata": {},
   "source": [
    "## Data processing"
   ]
  },
  {
   "cell_type": "code",
   "execution_count": 19,
   "id": "ff32e9d0",
   "metadata": {},
   "outputs": [],
   "source": [
    "housing = pd.read_csv('Ames_Housing_Price_Data.csv', index_col=0,low_memory = False)\n",
    "\n",
    "\n",
    "train_, test_ = helper.data_processing_wrapper(housing)"
   ]
  },
  {
   "cell_type": "code",
   "execution_count": 20,
   "id": "4d366bca",
   "metadata": {},
   "outputs": [],
   "source": [
    "train = pd.read_csv('train_clean.csv', index_col=0)\n",
    "test = pd.read_csv('test_clean.csv', index_col=0)"
   ]
  },
  {
   "cell_type": "code",
   "execution_count": 21,
   "id": "fc9bc4e8",
   "metadata": {},
   "outputs": [],
   "source": [
    "cat_feats_ = train_.select_dtypes(['object','bool']).columns.to_list()\n",
    "cat_feats_ = cat_feats + ['YearBuilt','KitchenQual','GarageCars', 'BedroomAbvGr']"
   ]
  },
  {
   "cell_type": "code",
   "execution_count": 22,
   "id": "9af76f12",
   "metadata": {},
   "outputs": [],
   "source": [
    "num_cols_ = train_.select_dtypes(['float64','int64']).columns.to_list()\n",
    "num_cols_.remove('SalePrice')\n"
   ]
  },
  {
   "cell_type": "code",
   "execution_count": null,
   "id": "52f6aee6",
   "metadata": {},
   "outputs": [],
   "source": []
  },
  {
   "cell_type": "code",
   "execution_count": 23,
   "id": "5223ad61",
   "metadata": {},
   "outputs": [],
   "source": [
    "cat_feats = train.select_dtypes(['object','bool']).columns.to_list()\n",
    "cat_feats = cat_feats + ['YearBuilt','KitchenQual','GarageCars', 'BedroomAbvGr']"
   ]
  },
  {
   "cell_type": "code",
   "execution_count": 24,
   "id": "ecb1d92b",
   "metadata": {},
   "outputs": [],
   "source": [
    "num_cols = train.select_dtypes(['float64','int64']).columns.to_list()\n",
    "num_cols.remove('SalePrice')\n",
    "num_cols.remove('PID')"
   ]
  },
  {
   "cell_type": "markdown",
   "id": "8292dbbd",
   "metadata": {},
   "source": [
    "## Simple linear model"
   ]
  },
  {
   "cell_type": "code",
   "execution_count": 25,
   "id": "882563cf",
   "metadata": {},
   "outputs": [],
   "source": [
    "def simple_linear_model_score(train, test, cols, target):\n",
    "    ols = linear_model.LinearRegression()\n",
    "    X = train[cols]\n",
    "    cat_feats = X.select_dtypes(['object','bool']).columns.to_list()\n",
    "    transformer = ColumnTransformer([(\"Cat\", OneHotEncoder(handle_unknown = 'ignore'), cat_feats)], remainder='passthrough')\n",
    "    X = transformer.fit_transform(X)\n",
    "    y = np.log(train[target])\n",
    "    \n",
    "    ols.fit(X, y)\n",
    "    train_score = ols.score(X, y)\n",
    "    \n",
    "    X_tst = test[cols]\n",
    "    X_tst = transformer.transform(X_tst)\n",
    "    y_tst = np.log(test[target])\n",
    "    test_score = ols.score(X_tst, y_tst)\n",
    "    \n",
    "    return train_score, test_score"
   ]
  },
  {
   "cell_type": "markdown",
   "id": "9810a187",
   "metadata": {},
   "source": [
    "The kitchen sink model of every feature over learns. And has a negative test score"
   ]
  },
  {
   "cell_type": "code",
   "execution_count": 26,
   "id": "fc4570d2",
   "metadata": {},
   "outputs": [
    {
     "data": {
      "text/plain": [
       "(0.9577940526767014, -50366487498.91418)"
      ]
     },
     "execution_count": 26,
     "metadata": {},
     "output_type": "execute_result"
    }
   ],
   "source": [
    "simple_linear_model_score(train, test, cat_feats+num_cols, 'SalePrice')"
   ]
  },
  {
   "cell_type": "markdown",
   "id": "01ba5797",
   "metadata": {},
   "source": [
    "The numerical kitchen sink model is very successful"
   ]
  },
  {
   "cell_type": "code",
   "execution_count": 13,
   "id": "bba02fa9",
   "metadata": {},
   "outputs": [
    {
     "data": {
      "text/plain": [
       "(0.9290445015300175, 0.8849212267144508)"
      ]
     },
     "execution_count": 13,
     "metadata": {},
     "output_type": "execute_result"
    }
   ],
   "source": [
    "simple_linear_model_score(train, test, num_cols, 'SalePrice')"
   ]
  },
  {
   "cell_type": "code",
   "execution_count": 28,
   "id": "ae1e340b",
   "metadata": {},
   "outputs": [
    {
     "data": {
      "text/plain": [
       "(0.9301860929679749, 0.8859787117907402)"
      ]
     },
     "execution_count": 28,
     "metadata": {},
     "output_type": "execute_result"
    }
   ],
   "source": [
    "simple_linear_model_score(train_, test_, num_cols, 'SalePrice')"
   ]
  },
  {
   "cell_type": "markdown",
   "id": "871354fe",
   "metadata": {},
   "source": [
    "The numerical kitchen sink model gets better when we selectively pick our favorite categorical features"
   ]
  },
  {
   "cell_type": "code",
   "execution_count": 9,
   "id": "417fad0e",
   "metadata": {},
   "outputs": [
    {
     "data": {
      "text/plain": [
       "(0.9418781919970982, 0.8991659160993932)"
      ]
     },
     "execution_count": 9,
     "metadata": {},
     "output_type": "execute_result"
    }
   ],
   "source": [
    "fav_cat = ['YearBuilt', 'ExterQual', 'Neighborhood', 'KitchenQual']\n",
    "simple_linear_model_score(train, test, num_cols+fav_cat, 'SalePrice')"
   ]
  },
  {
   "cell_type": "code",
   "execution_count": 29,
   "id": "9beb3f7e",
   "metadata": {},
   "outputs": [
    {
     "data": {
      "text/plain": [
       "(0.9429838134276152, 0.9000142390219559)"
      ]
     },
     "execution_count": 29,
     "metadata": {},
     "output_type": "execute_result"
    }
   ],
   "source": [
    "fav_cat = ['YearBuilt', 'ExterQual', 'Neighborhood', 'KitchenQual']\n",
    "simple_linear_model_score(train_, test_, num_cols+fav_cat, 'SalePrice')"
   ]
  },
  {
   "cell_type": "markdown",
   "id": "d611ca60",
   "metadata": {},
   "source": [
    "We can see that as we add more and more numerical features our model gets better."
   ]
  },
  {
   "cell_type": "code",
   "execution_count": 10,
   "id": "3644113b",
   "metadata": {},
   "outputs": [
    {
     "name": "stdout",
     "output_type": "stream",
     "text": [
      "GrLivArea\n",
      "(0.5361242929283243, 0.5052486795731859)\n",
      "ExterQual\n",
      "(0.7034962809602388, 0.6644905975921633)\n",
      "TotalBsmtSF\n",
      "(0.7792598241555013, 0.7229657933399387)\n",
      "KitchenQual\n",
      "(0.7974247390402703, 0.7489550650148744)\n",
      "1stFlrSF\n",
      "(0.7975069805128663, 0.7497354661616471)\n",
      "GarageArea\n",
      "(0.8182544807598195, 0.779205489561503)\n",
      "GarageCars\n",
      "(0.8229613212881246, 0.7862240548493213)\n",
      "BsmtQual\n",
      "(0.8367316241545875, 0.8093688234853456)\n",
      "YearBuilt\n",
      "(0.8496799637760847, 0.8201252110298075)\n",
      "FullBath\n",
      "(0.8515427358211811, 0.8194532379214836)\n",
      "GarageFinish\n",
      "(0.8546721816101726, 0.8239315804336104)\n",
      "FireplaceQu\n",
      "(0.862791589110423, 0.8355690508933211)\n",
      "MasVnrArea\n",
      "(0.863014924192381, 0.8357178472479138)\n",
      "TotRmsAbvGrd\n",
      "(0.8634271653730479, 0.8341419606401707)\n",
      "YearRemodAdd\n",
      "(0.8695869148482882, 0.8386413512424243)\n",
      "Fireplaces\n",
      "(0.8735302259811796, 0.8403365999459429)\n",
      "BsmtFinSF1\n",
      "(0.8805143918287985, 0.8482424745087166)\n",
      "HeatingQC\n",
      "(0.8819825209355477, 0.8512038129217325)\n",
      "BsmtExposure\n",
      "(0.8837381955399547, 0.8524812209245907)\n",
      "LotFrontage\n",
      "(0.886730870495398, 0.8548446790680634)\n",
      "WoodDeckSF\n",
      "(0.8868047028906969, 0.8554065023688026)\n",
      "OpenPorchSF\n",
      "(0.8868612716683469, 0.8552851534535748)\n",
      "HalfBath\n",
      "(0.886883163408948, 0.8556627406789722)\n",
      "BsmtFullBath\n",
      "(0.8869743676682755, 0.8560963662911645)\n",
      "LotArea\n",
      "(0.8881865864459205, 0.8544190453660485)\n",
      "2ndFlrSF\n",
      "(0.8886235291245643, 0.8542595628385624)\n",
      "GarageQual\n",
      "(0.8907916226465491, 0.856544759837957)\n",
      "PavedDrive\n",
      "(0.8938717581605865, 0.8588246373933198)\n",
      "GarageCond\n",
      "(0.8941509212619154, 0.8596414422924247)\n",
      "GarageYrBlt\n",
      "(0.8949157138028354, 0.8590126484796159)\n",
      "BsmtCond\n",
      "(0.8950863908007834, 0.8595581140569745)\n",
      "BsmtUnfSF\n",
      "(0.8952749499518509, 0.8596682334222788)\n",
      "BedroomAbvGr\n",
      "(0.8955718473438916, 0.8590871212488155)\n",
      "ScreenPorch\n",
      "(0.8966450390376742, 0.8618080137911743)\n",
      "PoolQC\n",
      "(0.8966498282230969, 0.8618803405059996)\n",
      "PoolArea\n",
      "(0.8968327378808116, 0.861959275587816)\n",
      "YrSold\n",
      "(0.8969915500000273, 0.8621040511102986)\n",
      "BsmtFinSF2\n",
      "(0.8969915500000273, 0.8621040511102744)\n",
      "3SsnPorch\n",
      "(0.8970867615213393, 0.8622403500594918)\n",
      "ExterCond\n",
      "(0.8974605662127457, 0.8637890930134755)\n",
      "MoSold\n",
      "(0.897464391303063, 0.8638200421464576)\n",
      "MiscVal\n",
      "(0.8974695351316921, 0.8638613618432454)\n",
      "LowQualFinSF\n",
      "(0.8974695351316923, 0.8638613618431711)\n",
      "BsmtHalfBath\n",
      "(0.8975133980019672, 0.8638769131891589)\n",
      "Alley\n",
      "(0.8977233988283987, 0.8635147679933722)\n",
      "OverallCond\n",
      "(0.9119801058748869, 0.870308399056246)\n",
      "KitchenAbvGr\n",
      "(0.9138459324455738, 0.8716522368254509)\n",
      "EnclosedPorch\n",
      "(0.9145169532048038, 0.8711878087925697)\n",
      "PID\n",
      "(0.9146036935066741, 0.8714409177729507)\n"
     ]
    }
   ],
   "source": [
    "k=100\n",
    "cols = train.corr().nlargest(k, 'SalePrice')['SalePrice'].index\n",
    "cols = cols[1:]\n",
    "for num_features in range(1,len(cols)):\n",
    "    print(cols[num_features])\n",
    "    print(simple_linear_model_score(train, test, cols[1:1+num_features], 'SalePrice'))"
   ]
  },
  {
   "cell_type": "code",
   "execution_count": 30,
   "id": "19ab5280",
   "metadata": {},
   "outputs": [
    {
     "name": "stdout",
     "output_type": "stream",
     "text": [
      "GrLivArea\n",
      "(0.5361242929283243, 0.5052486795731859)\n",
      "ExterQual\n",
      "(0.7034962809602388, 0.6644905975921633)\n",
      "TotalBsmtSF\n",
      "(0.7792598241555013, 0.7229657933399387)\n",
      "KitchenQual\n",
      "(0.7974247390402703, 0.7489550650148744)\n",
      "1stFlrSF\n",
      "(0.7975069805128663, 0.7497354661616471)\n",
      "GarageArea\n",
      "(0.8182544807598195, 0.779205489561503)\n",
      "BsmtQual\n",
      "(0.8342641233283596, 0.8060471284296409)\n",
      "YearBuilt\n",
      "(0.8489363096053784, 0.8185587963092968)\n",
      "FullBath\n",
      "(0.8505082900397859, 0.8176308304541391)\n",
      "GarageFinish\n",
      "(0.8542220076535905, 0.8228187288247628)\n",
      "FireplaceQu\n",
      "(0.8626195006512688, 0.8350800445975372)\n",
      "MasVnrArea\n",
      "(0.8628483702101578, 0.8352495571126983)\n",
      "TotRmsAbvGrd\n",
      "(0.8632383769769689, 0.8336224655514265)\n",
      "YearRemodAdd\n",
      "(0.8694099127364687, 0.838164057448497)\n",
      "Fireplaces\n",
      "(0.8733877848875367, 0.8399358974204559)\n",
      "BsmtFinSF1\n",
      "(0.880251013075894, 0.8476901670373542)\n",
      "HeatingQC\n",
      "(0.8817333279495017, 0.850659889034522)\n",
      "BsmtExposure\n",
      "(0.88347050795087, 0.8519796400713437)\n",
      "LotFrontage\n",
      "(0.8863651852994867, 0.8544557162923521)\n",
      "WoodDeckSF\n",
      "(0.8864319656805495, 0.8549873362495516)\n",
      "OpenPorchSF\n",
      "(0.8864651031878009, 0.8548966549882399)\n",
      "HalfBath\n",
      "(0.8865009039862443, 0.8553853705446152)\n",
      "BsmtFullBath\n",
      "(0.8865924779830666, 0.8558358554155902)\n",
      "LotArea\n",
      "(0.8878090061957011, 0.8542140539729158)\n",
      "2ndFlrSF\n",
      "(0.8882453605136309, 0.8541070695334334)\n",
      "GarageQual\n",
      "(0.8906410661826952, 0.856601838127671)\n",
      "PavedDrive\n",
      "(0.8935834000063267, 0.8588123955149947)\n",
      "GarageCond\n",
      "(0.89390029528059, 0.8596781169710341)\n",
      "GarageYrBlt\n",
      "(0.894520784788088, 0.8590278755146775)\n",
      "BsmtCond\n",
      "(0.894666052416033, 0.859508631273829)\n",
      "BsmtUnfSF\n",
      "(0.8948377754686012, 0.8596173971273282)\n",
      "ScreenPorch\n",
      "(0.8958741530564373, 0.8622849563758057)\n",
      "PoolQC\n",
      "(0.8958892869921954, 0.8623517435122192)\n",
      "PoolArea\n",
      "(0.8960650461436044, 0.8624893132638329)\n",
      "BsmtFinSF2\n",
      "(0.8960650461436044, 0.862489313263946)\n",
      "3SsnPorch\n",
      "(0.896182299653942, 0.8625618230013704)\n",
      "ExterCond\n",
      "(0.896503180092148, 0.8639741211334795)\n",
      "MiscVal\n",
      "(0.8965064900364007, 0.8640011071933458)\n",
      "LowQualFinSF\n",
      "(0.8965064900364007, 0.8640011071933278)\n",
      "BsmtHalfBath\n",
      "(0.8965459109045433, 0.8639944638452387)\n",
      "Alley\n",
      "(0.8967819253847551, 0.8636104383950245)\n",
      "OverallCond\n",
      "(0.9108491581410724, 0.8705217777954076)\n",
      "EnclosedPorch\n",
      "(0.9115401823450141, 0.8704427490718103)\n"
     ]
    }
   ],
   "source": [
    "k=100\n",
    "cols = train_.corr().nlargest(k, 'SalePrice')['SalePrice'].index\n",
    "cols = cols[1:]\n",
    "for num_features in range(1,len(cols)):\n",
    "    print(cols[num_features])\n",
    "    print(simple_linear_model_score(train_, test_, cols[1:1+num_features], 'SalePrice'))"
   ]
  },
  {
   "cell_type": "markdown",
   "id": "bb64ab6d",
   "metadata": {},
   "source": [
    "## Problem section"
   ]
  },
  {
   "cell_type": "markdown",
   "id": "66fa3e3a",
   "metadata": {},
   "source": [
    "Can do lasso feature selction. Train a linear model with those selected features. But I get a dimension mismatch when trying to score the test dataset. "
   ]
  },
  {
   "cell_type": "code",
   "execution_count": 31,
   "id": "a09ba49c",
   "metadata": {},
   "outputs": [],
   "source": [
    "scaler = StandardScaler(with_mean=False)"
   ]
  },
  {
   "cell_type": "code",
   "execution_count": 32,
   "id": "e785105f",
   "metadata": {},
   "outputs": [],
   "source": [
    "ols = linear_model.LinearRegression()"
   ]
  },
  {
   "cell_type": "code",
   "execution_count": 85,
   "id": "d95c5f33",
   "metadata": {},
   "outputs": [
    {
     "data": {
      "text/html": [
       "<div>\n",
       "<style scoped>\n",
       "    .dataframe tbody tr th:only-of-type {\n",
       "        vertical-align: middle;\n",
       "    }\n",
       "\n",
       "    .dataframe tbody tr th {\n",
       "        vertical-align: top;\n",
       "    }\n",
       "\n",
       "    .dataframe thead th {\n",
       "        text-align: right;\n",
       "    }\n",
       "</style>\n",
       "<table border=\"1\" class=\"dataframe\">\n",
       "  <thead>\n",
       "    <tr style=\"text-align: right;\">\n",
       "      <th></th>\n",
       "      <th>GrLivArea</th>\n",
       "      <th>SalePrice</th>\n",
       "      <th>MSSubClass</th>\n",
       "      <th>MSZoning</th>\n",
       "      <th>LotFrontage</th>\n",
       "      <th>LotArea</th>\n",
       "      <th>Street</th>\n",
       "      <th>Alley</th>\n",
       "      <th>LotShape</th>\n",
       "      <th>LandContour</th>\n",
       "      <th>...</th>\n",
       "      <th>ScreenPorch</th>\n",
       "      <th>PoolArea</th>\n",
       "      <th>PoolQC</th>\n",
       "      <th>Fence</th>\n",
       "      <th>MiscFeature</th>\n",
       "      <th>MiscVal</th>\n",
       "      <th>MoSold</th>\n",
       "      <th>YrSold</th>\n",
       "      <th>SaleType</th>\n",
       "      <th>SaleCondition</th>\n",
       "    </tr>\n",
       "  </thead>\n",
       "  <tbody>\n",
       "    <tr>\n",
       "      <th>0</th>\n",
       "      <td>1296</td>\n",
       "      <td>90000</td>\n",
       "      <td>90</td>\n",
       "      <td>RL</td>\n",
       "      <td>72.000000</td>\n",
       "      <td>10791</td>\n",
       "      <td>Pave</td>\n",
       "      <td>0</td>\n",
       "      <td>Reg</td>\n",
       "      <td>Lvl</td>\n",
       "      <td>...</td>\n",
       "      <td>0</td>\n",
       "      <td>0</td>\n",
       "      <td>0</td>\n",
       "      <td>None</td>\n",
       "      <td>Shed</td>\n",
       "      <td>500</td>\n",
       "      <td>10</td>\n",
       "      <td>2006</td>\n",
       "      <td>WD</td>\n",
       "      <td>Normal</td>\n",
       "    </tr>\n",
       "    <tr>\n",
       "      <th>1</th>\n",
       "      <td>1229</td>\n",
       "      <td>137000</td>\n",
       "      <td>160</td>\n",
       "      <td>RM</td>\n",
       "      <td>24.000000</td>\n",
       "      <td>1488</td>\n",
       "      <td>Pave</td>\n",
       "      <td>0</td>\n",
       "      <td>Reg</td>\n",
       "      <td>Lvl</td>\n",
       "      <td>...</td>\n",
       "      <td>0</td>\n",
       "      <td>0</td>\n",
       "      <td>0</td>\n",
       "      <td>GdPrv</td>\n",
       "      <td>None</td>\n",
       "      <td>0</td>\n",
       "      <td>10</td>\n",
       "      <td>2009</td>\n",
       "      <td>WD</td>\n",
       "      <td>Normal</td>\n",
       "    </tr>\n",
       "    <tr>\n",
       "      <th>2</th>\n",
       "      <td>948</td>\n",
       "      <td>89000</td>\n",
       "      <td>160</td>\n",
       "      <td>RM</td>\n",
       "      <td>21.000000</td>\n",
       "      <td>1680</td>\n",
       "      <td>Pave</td>\n",
       "      <td>0</td>\n",
       "      <td>Reg</td>\n",
       "      <td>Lvl</td>\n",
       "      <td>...</td>\n",
       "      <td>0</td>\n",
       "      <td>0</td>\n",
       "      <td>0</td>\n",
       "      <td>None</td>\n",
       "      <td>None</td>\n",
       "      <td>0</td>\n",
       "      <td>7</td>\n",
       "      <td>2006</td>\n",
       "      <td>WD</td>\n",
       "      <td>Normal</td>\n",
       "    </tr>\n",
       "    <tr>\n",
       "      <th>3</th>\n",
       "      <td>1040</td>\n",
       "      <td>123900</td>\n",
       "      <td>50</td>\n",
       "      <td>RM</td>\n",
       "      <td>52.000000</td>\n",
       "      <td>6240</td>\n",
       "      <td>Pave</td>\n",
       "      <td>0</td>\n",
       "      <td>Reg</td>\n",
       "      <td>Lvl</td>\n",
       "      <td>...</td>\n",
       "      <td>0</td>\n",
       "      <td>0</td>\n",
       "      <td>0</td>\n",
       "      <td>None</td>\n",
       "      <td>None</td>\n",
       "      <td>0</td>\n",
       "      <td>5</td>\n",
       "      <td>2010</td>\n",
       "      <td>WD</td>\n",
       "      <td>Normal</td>\n",
       "    </tr>\n",
       "    <tr>\n",
       "      <th>4</th>\n",
       "      <td>912</td>\n",
       "      <td>156000</td>\n",
       "      <td>85</td>\n",
       "      <td>RL</td>\n",
       "      <td>61.990202</td>\n",
       "      <td>7540</td>\n",
       "      <td>Pave</td>\n",
       "      <td>0</td>\n",
       "      <td>IR1</td>\n",
       "      <td>Lvl</td>\n",
       "      <td>...</td>\n",
       "      <td>192</td>\n",
       "      <td>0</td>\n",
       "      <td>0</td>\n",
       "      <td>MnPrv</td>\n",
       "      <td>None</td>\n",
       "      <td>0</td>\n",
       "      <td>6</td>\n",
       "      <td>2007</td>\n",
       "      <td>WD</td>\n",
       "      <td>Normal</td>\n",
       "    </tr>\n",
       "    <tr>\n",
       "      <th>...</th>\n",
       "      <td>...</td>\n",
       "      <td>...</td>\n",
       "      <td>...</td>\n",
       "      <td>...</td>\n",
       "      <td>...</td>\n",
       "      <td>...</td>\n",
       "      <td>...</td>\n",
       "      <td>...</td>\n",
       "      <td>...</td>\n",
       "      <td>...</td>\n",
       "      <td>...</td>\n",
       "      <td>...</td>\n",
       "      <td>...</td>\n",
       "      <td>...</td>\n",
       "      <td>...</td>\n",
       "      <td>...</td>\n",
       "      <td>...</td>\n",
       "      <td>...</td>\n",
       "      <td>...</td>\n",
       "      <td>...</td>\n",
       "      <td>...</td>\n",
       "    </tr>\n",
       "    <tr>\n",
       "      <th>1866</th>\n",
       "      <td>1200</td>\n",
       "      <td>151000</td>\n",
       "      <td>160</td>\n",
       "      <td>FV</td>\n",
       "      <td>30.000000</td>\n",
       "      <td>3182</td>\n",
       "      <td>Pave</td>\n",
       "      <td>2</td>\n",
       "      <td>Reg</td>\n",
       "      <td>Lvl</td>\n",
       "      <td>...</td>\n",
       "      <td>0</td>\n",
       "      <td>0</td>\n",
       "      <td>0</td>\n",
       "      <td>None</td>\n",
       "      <td>None</td>\n",
       "      <td>0</td>\n",
       "      <td>6</td>\n",
       "      <td>2010</td>\n",
       "      <td>WD</td>\n",
       "      <td>Normal</td>\n",
       "    </tr>\n",
       "    <tr>\n",
       "      <th>1867</th>\n",
       "      <td>2400</td>\n",
       "      <td>290000</td>\n",
       "      <td>60</td>\n",
       "      <td>RL</td>\n",
       "      <td>96.000000</td>\n",
       "      <td>13262</td>\n",
       "      <td>Pave</td>\n",
       "      <td>0</td>\n",
       "      <td>IR1</td>\n",
       "      <td>Lvl</td>\n",
       "      <td>...</td>\n",
       "      <td>0</td>\n",
       "      <td>0</td>\n",
       "      <td>0</td>\n",
       "      <td>None</td>\n",
       "      <td>None</td>\n",
       "      <td>0</td>\n",
       "      <td>6</td>\n",
       "      <td>2009</td>\n",
       "      <td>WD</td>\n",
       "      <td>Normal</td>\n",
       "    </tr>\n",
       "    <tr>\n",
       "      <th>1868</th>\n",
       "      <td>1346</td>\n",
       "      <td>112000</td>\n",
       "      <td>50</td>\n",
       "      <td>RL</td>\n",
       "      <td>70.000000</td>\n",
       "      <td>11767</td>\n",
       "      <td>Pave</td>\n",
       "      <td>0</td>\n",
       "      <td>Reg</td>\n",
       "      <td>Lvl</td>\n",
       "      <td>...</td>\n",
       "      <td>0</td>\n",
       "      <td>0</td>\n",
       "      <td>0</td>\n",
       "      <td>GdWo</td>\n",
       "      <td>None</td>\n",
       "      <td>0</td>\n",
       "      <td>5</td>\n",
       "      <td>2007</td>\n",
       "      <td>WD</td>\n",
       "      <td>Normal</td>\n",
       "    </tr>\n",
       "    <tr>\n",
       "      <th>1869</th>\n",
       "      <td>2031</td>\n",
       "      <td>237000</td>\n",
       "      <td>60</td>\n",
       "      <td>RL</td>\n",
       "      <td>75.000000</td>\n",
       "      <td>9473</td>\n",
       "      <td>Pave</td>\n",
       "      <td>0</td>\n",
       "      <td>Reg</td>\n",
       "      <td>Lvl</td>\n",
       "      <td>...</td>\n",
       "      <td>0</td>\n",
       "      <td>0</td>\n",
       "      <td>0</td>\n",
       "      <td>None</td>\n",
       "      <td>None</td>\n",
       "      <td>0</td>\n",
       "      <td>3</td>\n",
       "      <td>2008</td>\n",
       "      <td>WD</td>\n",
       "      <td>Normal</td>\n",
       "    </tr>\n",
       "    <tr>\n",
       "      <th>1870</th>\n",
       "      <td>1320</td>\n",
       "      <td>137000</td>\n",
       "      <td>160</td>\n",
       "      <td>RH</td>\n",
       "      <td>31.414227</td>\n",
       "      <td>3612</td>\n",
       "      <td>Pave</td>\n",
       "      <td>0</td>\n",
       "      <td>IR1</td>\n",
       "      <td>Lvl</td>\n",
       "      <td>...</td>\n",
       "      <td>0</td>\n",
       "      <td>0</td>\n",
       "      <td>0</td>\n",
       "      <td>MnPrv</td>\n",
       "      <td>None</td>\n",
       "      <td>0</td>\n",
       "      <td>6</td>\n",
       "      <td>2006</td>\n",
       "      <td>WD</td>\n",
       "      <td>Normal</td>\n",
       "    </tr>\n",
       "  </tbody>\n",
       "</table>\n",
       "<p>1871 rows × 80 columns</p>\n",
       "</div>"
      ],
      "text/plain": [
       "      GrLivArea  SalePrice MSSubClass MSZoning  LotFrontage  LotArea Street  \\\n",
       "0          1296      90000         90       RL    72.000000    10791   Pave   \n",
       "1          1229     137000        160       RM    24.000000     1488   Pave   \n",
       "2           948      89000        160       RM    21.000000     1680   Pave   \n",
       "3          1040     123900         50       RM    52.000000     6240   Pave   \n",
       "4           912     156000         85       RL    61.990202     7540   Pave   \n",
       "...         ...        ...        ...      ...          ...      ...    ...   \n",
       "1866       1200     151000        160       FV    30.000000     3182   Pave   \n",
       "1867       2400     290000         60       RL    96.000000    13262   Pave   \n",
       "1868       1346     112000         50       RL    70.000000    11767   Pave   \n",
       "1869       2031     237000         60       RL    75.000000     9473   Pave   \n",
       "1870       1320     137000        160       RH    31.414227     3612   Pave   \n",
       "\n",
       "      Alley LotShape LandContour  ... ScreenPorch PoolArea PoolQC  Fence  \\\n",
       "0         0      Reg         Lvl  ...           0        0      0   None   \n",
       "1         0      Reg         Lvl  ...           0        0      0  GdPrv   \n",
       "2         0      Reg         Lvl  ...           0        0      0   None   \n",
       "3         0      Reg         Lvl  ...           0        0      0   None   \n",
       "4         0      IR1         Lvl  ...         192        0      0  MnPrv   \n",
       "...     ...      ...         ...  ...         ...      ...    ...    ...   \n",
       "1866      2      Reg         Lvl  ...           0        0      0   None   \n",
       "1867      0      IR1         Lvl  ...           0        0      0   None   \n",
       "1868      0      Reg         Lvl  ...           0        0      0   GdWo   \n",
       "1869      0      Reg         Lvl  ...           0        0      0   None   \n",
       "1870      0      IR1         Lvl  ...           0        0      0  MnPrv   \n",
       "\n",
       "     MiscFeature MiscVal MoSold YrSold  SaleType  SaleCondition  \n",
       "0           Shed     500     10   2006       WD          Normal  \n",
       "1           None       0     10   2009       WD          Normal  \n",
       "2           None       0      7   2006       WD          Normal  \n",
       "3           None       0      5   2010       WD          Normal  \n",
       "4           None       0      6   2007       WD          Normal  \n",
       "...          ...     ...    ...    ...       ...            ...  \n",
       "1866        None       0      6   2010       WD          Normal  \n",
       "1867        None       0      6   2009       WD          Normal  \n",
       "1868        None       0      5   2007       WD          Normal  \n",
       "1869        None       0      3   2008       WD          Normal  \n",
       "1870        None       0      6   2006       WD          Normal  \n",
       "\n",
       "[1871 rows x 80 columns]"
      ]
     },
     "execution_count": 85,
     "metadata": {},
     "output_type": "execute_result"
    }
   ],
   "source": [
    "train_"
   ]
  },
  {
   "cell_type": "code",
   "execution_count": 86,
   "id": "d77aa490",
   "metadata": {},
   "outputs": [
    {
     "data": {
      "text/html": [
       "<div>\n",
       "<style scoped>\n",
       "    .dataframe tbody tr th:only-of-type {\n",
       "        vertical-align: middle;\n",
       "    }\n",
       "\n",
       "    .dataframe tbody tr th {\n",
       "        vertical-align: top;\n",
       "    }\n",
       "\n",
       "    .dataframe thead th {\n",
       "        text-align: right;\n",
       "    }\n",
       "</style>\n",
       "<table border=\"1\" class=\"dataframe\">\n",
       "  <thead>\n",
       "    <tr style=\"text-align: right;\">\n",
       "      <th></th>\n",
       "      <th>GrLivArea</th>\n",
       "      <th>SalePrice</th>\n",
       "      <th>MSSubClass</th>\n",
       "      <th>MSZoning</th>\n",
       "      <th>LotFrontage</th>\n",
       "      <th>LotArea</th>\n",
       "      <th>Street</th>\n",
       "      <th>Alley</th>\n",
       "      <th>LotShape</th>\n",
       "      <th>LandContour</th>\n",
       "      <th>...</th>\n",
       "      <th>ScreenPorch</th>\n",
       "      <th>PoolArea</th>\n",
       "      <th>PoolQC</th>\n",
       "      <th>Fence</th>\n",
       "      <th>MiscFeature</th>\n",
       "      <th>MiscVal</th>\n",
       "      <th>MoSold</th>\n",
       "      <th>YrSold</th>\n",
       "      <th>SaleType</th>\n",
       "      <th>SaleCondition</th>\n",
       "    </tr>\n",
       "  </thead>\n",
       "  <tbody>\n",
       "    <tr>\n",
       "      <th>0</th>\n",
       "      <td>1820</td>\n",
       "      <td>184000</td>\n",
       "      <td>50</td>\n",
       "      <td>RL</td>\n",
       "      <td>60.000000</td>\n",
       "      <td>9120</td>\n",
       "      <td>Pave</td>\n",
       "      <td>2</td>\n",
       "      <td>Reg</td>\n",
       "      <td>Lvl</td>\n",
       "      <td>...</td>\n",
       "      <td>0</td>\n",
       "      <td>0</td>\n",
       "      <td>0</td>\n",
       "      <td>GdPrv</td>\n",
       "      <td>None</td>\n",
       "      <td>0</td>\n",
       "      <td>6</td>\n",
       "      <td>2008</td>\n",
       "      <td>WD</td>\n",
       "      <td>Normal</td>\n",
       "    </tr>\n",
       "    <tr>\n",
       "      <th>1</th>\n",
       "      <td>1296</td>\n",
       "      <td>104000</td>\n",
       "      <td>30</td>\n",
       "      <td>RL</td>\n",
       "      <td>67.000000</td>\n",
       "      <td>4853</td>\n",
       "      <td>Pave</td>\n",
       "      <td>0</td>\n",
       "      <td>Reg</td>\n",
       "      <td>Bnk</td>\n",
       "      <td>...</td>\n",
       "      <td>0</td>\n",
       "      <td>0</td>\n",
       "      <td>0</td>\n",
       "      <td>MnPrv</td>\n",
       "      <td>None</td>\n",
       "      <td>0</td>\n",
       "      <td>5</td>\n",
       "      <td>2010</td>\n",
       "      <td>WD</td>\n",
       "      <td>Normal</td>\n",
       "    </tr>\n",
       "    <tr>\n",
       "      <th>2</th>\n",
       "      <td>1434</td>\n",
       "      <td>189000</td>\n",
       "      <td>20</td>\n",
       "      <td>RL</td>\n",
       "      <td>65.000000</td>\n",
       "      <td>8529</td>\n",
       "      <td>Pave</td>\n",
       "      <td>0</td>\n",
       "      <td>IR1</td>\n",
       "      <td>Lvl</td>\n",
       "      <td>...</td>\n",
       "      <td>0</td>\n",
       "      <td>0</td>\n",
       "      <td>0</td>\n",
       "      <td>None</td>\n",
       "      <td>None</td>\n",
       "      <td>0</td>\n",
       "      <td>4</td>\n",
       "      <td>2009</td>\n",
       "      <td>WD</td>\n",
       "      <td>Normal</td>\n",
       "    </tr>\n",
       "    <tr>\n",
       "      <th>3</th>\n",
       "      <td>1499</td>\n",
       "      <td>187000</td>\n",
       "      <td>60</td>\n",
       "      <td>RL</td>\n",
       "      <td>65.000000</td>\n",
       "      <td>12438</td>\n",
       "      <td>Pave</td>\n",
       "      <td>0</td>\n",
       "      <td>IR1</td>\n",
       "      <td>Lvl</td>\n",
       "      <td>...</td>\n",
       "      <td>0</td>\n",
       "      <td>0</td>\n",
       "      <td>0</td>\n",
       "      <td>None</td>\n",
       "      <td>None</td>\n",
       "      <td>0</td>\n",
       "      <td>8</td>\n",
       "      <td>2006</td>\n",
       "      <td>WD</td>\n",
       "      <td>Normal</td>\n",
       "    </tr>\n",
       "    <tr>\n",
       "      <th>4</th>\n",
       "      <td>1797</td>\n",
       "      <td>231000</td>\n",
       "      <td>60</td>\n",
       "      <td>RL</td>\n",
       "      <td>74.000000</td>\n",
       "      <td>12961</td>\n",
       "      <td>Pave</td>\n",
       "      <td>0</td>\n",
       "      <td>Reg</td>\n",
       "      <td>Lvl</td>\n",
       "      <td>...</td>\n",
       "      <td>0</td>\n",
       "      <td>0</td>\n",
       "      <td>0</td>\n",
       "      <td>None</td>\n",
       "      <td>None</td>\n",
       "      <td>0</td>\n",
       "      <td>3</td>\n",
       "      <td>2010</td>\n",
       "      <td>WD</td>\n",
       "      <td>Normal</td>\n",
       "    </tr>\n",
       "    <tr>\n",
       "      <th>...</th>\n",
       "      <td>...</td>\n",
       "      <td>...</td>\n",
       "      <td>...</td>\n",
       "      <td>...</td>\n",
       "      <td>...</td>\n",
       "      <td>...</td>\n",
       "      <td>...</td>\n",
       "      <td>...</td>\n",
       "      <td>...</td>\n",
       "      <td>...</td>\n",
       "      <td>...</td>\n",
       "      <td>...</td>\n",
       "      <td>...</td>\n",
       "      <td>...</td>\n",
       "      <td>...</td>\n",
       "      <td>...</td>\n",
       "      <td>...</td>\n",
       "      <td>...</td>\n",
       "      <td>...</td>\n",
       "      <td>...</td>\n",
       "      <td>...</td>\n",
       "    </tr>\n",
       "    <tr>\n",
       "      <th>619</th>\n",
       "      <td>1501</td>\n",
       "      <td>244000</td>\n",
       "      <td>120</td>\n",
       "      <td>RL</td>\n",
       "      <td>46.000000</td>\n",
       "      <td>4054</td>\n",
       "      <td>Pave</td>\n",
       "      <td>0</td>\n",
       "      <td>IR1</td>\n",
       "      <td>Lvl</td>\n",
       "      <td>...</td>\n",
       "      <td>0</td>\n",
       "      <td>0</td>\n",
       "      <td>0</td>\n",
       "      <td>None</td>\n",
       "      <td>None</td>\n",
       "      <td>0</td>\n",
       "      <td>10</td>\n",
       "      <td>2007</td>\n",
       "      <td>WD</td>\n",
       "      <td>Normal</td>\n",
       "    </tr>\n",
       "    <tr>\n",
       "      <th>620</th>\n",
       "      <td>2087</td>\n",
       "      <td>187500</td>\n",
       "      <td>60</td>\n",
       "      <td>RL</td>\n",
       "      <td>78.868989</td>\n",
       "      <td>12205</td>\n",
       "      <td>Pave</td>\n",
       "      <td>0</td>\n",
       "      <td>IR1</td>\n",
       "      <td>Low</td>\n",
       "      <td>...</td>\n",
       "      <td>0</td>\n",
       "      <td>0</td>\n",
       "      <td>0</td>\n",
       "      <td>None</td>\n",
       "      <td>None</td>\n",
       "      <td>0</td>\n",
       "      <td>7</td>\n",
       "      <td>2007</td>\n",
       "      <td>WD</td>\n",
       "      <td>Normal</td>\n",
       "    </tr>\n",
       "    <tr>\n",
       "      <th>621</th>\n",
       "      <td>1160</td>\n",
       "      <td>152500</td>\n",
       "      <td>20</td>\n",
       "      <td>RL</td>\n",
       "      <td>95.723848</td>\n",
       "      <td>17979</td>\n",
       "      <td>Pave</td>\n",
       "      <td>0</td>\n",
       "      <td>IR1</td>\n",
       "      <td>Lvl</td>\n",
       "      <td>...</td>\n",
       "      <td>0</td>\n",
       "      <td>0</td>\n",
       "      <td>0</td>\n",
       "      <td>GdWo</td>\n",
       "      <td>Shed</td>\n",
       "      <td>500</td>\n",
       "      <td>2</td>\n",
       "      <td>2008</td>\n",
       "      <td>WD</td>\n",
       "      <td>Normal</td>\n",
       "    </tr>\n",
       "    <tr>\n",
       "      <th>622</th>\n",
       "      <td>1865</td>\n",
       "      <td>235000</td>\n",
       "      <td>60</td>\n",
       "      <td>RL</td>\n",
       "      <td>72.509189</td>\n",
       "      <td>10316</td>\n",
       "      <td>Pave</td>\n",
       "      <td>0</td>\n",
       "      <td>IR1</td>\n",
       "      <td>Lvl</td>\n",
       "      <td>...</td>\n",
       "      <td>0</td>\n",
       "      <td>0</td>\n",
       "      <td>0</td>\n",
       "      <td>None</td>\n",
       "      <td>None</td>\n",
       "      <td>0</td>\n",
       "      <td>6</td>\n",
       "      <td>2008</td>\n",
       "      <td>WD</td>\n",
       "      <td>Normal</td>\n",
       "    </tr>\n",
       "    <tr>\n",
       "      <th>623</th>\n",
       "      <td>1868</td>\n",
       "      <td>415000</td>\n",
       "      <td>20</td>\n",
       "      <td>RL</td>\n",
       "      <td>120.000000</td>\n",
       "      <td>14780</td>\n",
       "      <td>Pave</td>\n",
       "      <td>0</td>\n",
       "      <td>IR1</td>\n",
       "      <td>HLS</td>\n",
       "      <td>...</td>\n",
       "      <td>156</td>\n",
       "      <td>0</td>\n",
       "      <td>0</td>\n",
       "      <td>None</td>\n",
       "      <td>None</td>\n",
       "      <td>0</td>\n",
       "      <td>6</td>\n",
       "      <td>2006</td>\n",
       "      <td>WD</td>\n",
       "      <td>Normal</td>\n",
       "    </tr>\n",
       "  </tbody>\n",
       "</table>\n",
       "<p>624 rows × 80 columns</p>\n",
       "</div>"
      ],
      "text/plain": [
       "     GrLivArea  SalePrice MSSubClass MSZoning  LotFrontage  LotArea Street  \\\n",
       "0         1820     184000         50       RL    60.000000     9120   Pave   \n",
       "1         1296     104000         30       RL    67.000000     4853   Pave   \n",
       "2         1434     189000         20       RL    65.000000     8529   Pave   \n",
       "3         1499     187000         60       RL    65.000000    12438   Pave   \n",
       "4         1797     231000         60       RL    74.000000    12961   Pave   \n",
       "..         ...        ...        ...      ...          ...      ...    ...   \n",
       "619       1501     244000        120       RL    46.000000     4054   Pave   \n",
       "620       2087     187500         60       RL    78.868989    12205   Pave   \n",
       "621       1160     152500         20       RL    95.723848    17979   Pave   \n",
       "622       1865     235000         60       RL    72.509189    10316   Pave   \n",
       "623       1868     415000         20       RL   120.000000    14780   Pave   \n",
       "\n",
       "     Alley LotShape LandContour  ... ScreenPorch PoolArea PoolQC  Fence  \\\n",
       "0        2      Reg         Lvl  ...           0        0      0  GdPrv   \n",
       "1        0      Reg         Bnk  ...           0        0      0  MnPrv   \n",
       "2        0      IR1         Lvl  ...           0        0      0   None   \n",
       "3        0      IR1         Lvl  ...           0        0      0   None   \n",
       "4        0      Reg         Lvl  ...           0        0      0   None   \n",
       "..     ...      ...         ...  ...         ...      ...    ...    ...   \n",
       "619      0      IR1         Lvl  ...           0        0      0   None   \n",
       "620      0      IR1         Low  ...           0        0      0   None   \n",
       "621      0      IR1         Lvl  ...           0        0      0   GdWo   \n",
       "622      0      IR1         Lvl  ...           0        0      0   None   \n",
       "623      0      IR1         HLS  ...         156        0      0   None   \n",
       "\n",
       "    MiscFeature MiscVal MoSold YrSold  SaleType  SaleCondition  \n",
       "0          None       0      6   2008       WD          Normal  \n",
       "1          None       0      5   2010       WD          Normal  \n",
       "2          None       0      4   2009       WD          Normal  \n",
       "3          None       0      8   2006       WD          Normal  \n",
       "4          None       0      3   2010       WD          Normal  \n",
       "..          ...     ...    ...    ...       ...            ...  \n",
       "619        None       0     10   2007       WD          Normal  \n",
       "620        None       0      7   2007       WD          Normal  \n",
       "621        Shed     500      2   2008       WD          Normal  \n",
       "622        None       0      6   2008       WD          Normal  \n",
       "623        None       0      6   2006       WD          Normal  \n",
       "\n",
       "[624 rows x 80 columns]"
      ]
     },
     "execution_count": 86,
     "metadata": {},
     "output_type": "execute_result"
    }
   ],
   "source": [
    "test_"
   ]
  },
  {
   "cell_type": "code",
   "execution_count": 87,
   "id": "48e3a485",
   "metadata": {},
   "outputs": [
    {
     "data": {
      "text/plain": [
       "['MSSubClass',\n",
       " 'MSZoning',\n",
       " 'Street',\n",
       " 'LotShape',\n",
       " 'LandContour',\n",
       " 'Utilities',\n",
       " 'LotConfig',\n",
       " 'LandSlope',\n",
       " 'Neighborhood',\n",
       " 'Condition1',\n",
       " 'Condition2',\n",
       " 'BldgType',\n",
       " 'HouseStyle',\n",
       " 'RoofStyle',\n",
       " 'RoofMatl',\n",
       " 'Exterior1st',\n",
       " 'Exterior2nd',\n",
       " 'MasVnrType',\n",
       " 'Foundation',\n",
       " 'BsmtFinType1',\n",
       " 'BsmtFinType2',\n",
       " 'Heating',\n",
       " 'CentralAir',\n",
       " 'Electrical',\n",
       " 'Functional',\n",
       " 'GarageType',\n",
       " 'Fence',\n",
       " 'MiscFeature',\n",
       " 'SaleType',\n",
       " 'SaleCondition',\n",
       " 'YearBuilt',\n",
       " 'KitchenQual',\n",
       " 'GarageCars',\n",
       " 'BedroomAbvGr']"
      ]
     },
     "execution_count": 87,
     "metadata": {},
     "output_type": "execute_result"
    }
   ],
   "source": [
    "cat_feats"
   ]
  },
  {
   "cell_type": "markdown",
   "id": "bbec4d80",
   "metadata": {},
   "source": [
    "lasso with all columns "
   ]
  },
  {
   "cell_type": "code",
   "execution_count": 108,
   "id": "1b329d24",
   "metadata": {},
   "outputs": [
    {
     "data": {
      "text/plain": [
       "0.8596901489956692"
      ]
     },
     "execution_count": 108,
     "metadata": {},
     "output_type": "execute_result"
    }
   ],
   "source": [
    "X = train_.drop(['SalePrice', 'TotalBsmtSF'],axis=1)\n",
    "\n",
    "transformer = ColumnTransformer([(\"Cat\", OneHotEncoder(handle_unknown = 'ignore'), cat_feats)], remainder='passthrough')\n",
    "X = transformer.fit_transform(X)\n",
    "\n",
    "X = scaler.fit_transform(X)\n",
    "\n",
    "y = np.log(train_['SalePrice'])\n",
    "\n",
    "lasso = linear_model.Lasso(alpha=0.1)\n",
    "\n",
    "selector = SelectFromModel(estimator=lasso)\n",
    "\n",
    "X = selector.fit_transform(X, y)\n",
    "\n",
    "ols.fit(X,y)\n",
    "ols.score(X,y)\n"
   ]
  },
  {
   "cell_type": "code",
   "execution_count": 109,
   "id": "ca12d45e",
   "metadata": {},
   "outputs": [],
   "source": [
    "X_tst = test_.drop(['SalePrice', 'TotalBsmtSF'],axis=1)\n",
    "X_tst = transformer.transform(X_tst)\n",
    "X_tst = scaler.transform(X_tst)\n",
    "y_tst = np.log(test_['SalePrice'])\n",
    "X_tst = selector.transform(X_tst)\n"
   ]
  },
  {
   "cell_type": "code",
   "execution_count": 110,
   "id": "8be31588",
   "metadata": {},
   "outputs": [
    {
     "data": {
      "text/plain": [
       "0.8185227162036243"
      ]
     },
     "execution_count": 110,
     "metadata": {},
     "output_type": "execute_result"
    }
   ],
   "source": [
    "ols.score(X_tst,y_tst)"
   ]
  },
  {
   "cell_type": "code",
   "execution_count": 112,
   "id": "387cd12b",
   "metadata": {},
   "outputs": [
    {
     "name": "stdout",
     "output_type": "stream",
     "text": [
      "['GrLivArea', 'OverallQual', 'BsmtQual', '1stFlrSF', 'GarageArea']\n"
     ]
    }
   ],
   "source": [
    "feat_names = transformer.get_feature_names()\n",
    "\n",
    "\n",
    "mask = selector.get_support()\n",
    "\n",
    "lasso_feats = [a for a, b in zip(feat_names, mask) if b]\n",
    "print(lasso_feats)"
   ]
  },
  {
   "cell_type": "markdown",
   "id": "15e30d3a",
   "metadata": {},
   "source": [
    "lasso remove grlivearea"
   ]
  },
  {
   "cell_type": "code",
   "execution_count": 113,
   "id": "094222b5",
   "metadata": {},
   "outputs": [
    {
     "data": {
      "text/plain": [
       "0.8176024805155407"
      ]
     },
     "execution_count": 113,
     "metadata": {},
     "output_type": "execute_result"
    }
   ],
   "source": [
    "X = train_.drop(['SalePrice', 'TotalBsmtSF','GrLivArea'],axis=1)\n",
    "\n",
    "transformer = ColumnTransformer([(\"Cat\", OneHotEncoder(handle_unknown = 'ignore'), cat_feats)], remainder='passthrough')\n",
    "X = transformer.fit_transform(X)\n",
    "\n",
    "X = scaler.fit_transform(X)\n",
    "\n",
    "y = np.log(train_['SalePrice'])\n",
    "\n",
    "lasso = linear_model.Lasso(alpha=0.1)\n",
    "\n",
    "selector = SelectFromModel(estimator=lasso)\n",
    "\n",
    "X = selector.fit_transform(X, y)\n",
    "\n",
    "ols.fit(X,y)\n",
    "ols.score(X,y)"
   ]
  },
  {
   "cell_type": "code",
   "execution_count": 114,
   "id": "b7f9825b",
   "metadata": {},
   "outputs": [],
   "source": [
    "X_tst = test_.drop(['SalePrice', 'TotalBsmtSF','GrLivArea'],axis=1)\n",
    "X_tst = transformer.transform(X_tst)\n",
    "X_tst = scaler.transform(X_tst)\n",
    "y_tst = np.log(test_['SalePrice'])\n",
    "X_tst = selector.transform(X_tst)\n",
    "\n"
   ]
  },
  {
   "cell_type": "code",
   "execution_count": 115,
   "id": "355bafc4",
   "metadata": {},
   "outputs": [
    {
     "data": {
      "text/plain": [
       "0.779610763366811"
      ]
     },
     "execution_count": 115,
     "metadata": {},
     "output_type": "execute_result"
    }
   ],
   "source": [
    "ols.score(X_tst,y_tst)"
   ]
  },
  {
   "cell_type": "code",
   "execution_count": null,
   "id": "11cba45b",
   "metadata": {},
   "outputs": [],
   "source": []
  },
  {
   "cell_type": "code",
   "execution_count": 116,
   "id": "c7e29023",
   "metadata": {},
   "outputs": [
    {
     "name": "stdout",
     "output_type": "stream",
     "text": [
      "['OverallQual', '1stFlrSF', 'TotRmsAbvGrd', 'GarageArea']\n"
     ]
    }
   ],
   "source": [
    "feat_names = transformer.get_feature_names()\n",
    "\n",
    "\n",
    "mask = selector.get_support()\n",
    "\n",
    "lasso_feats = [a for a, b in zip(feat_names, mask) if b]\n",
    "print(lasso_feats)"
   ]
  },
  {
   "cell_type": "code",
   "execution_count": null,
   "id": "e5a2b25c",
   "metadata": {},
   "outputs": [],
   "source": []
  },
  {
   "cell_type": "markdown",
   "id": "59194b56",
   "metadata": {},
   "source": [
    "lasso with numerical columns only"
   ]
  },
  {
   "cell_type": "code",
   "execution_count": 118,
   "id": "9feb7cc7",
   "metadata": {},
   "outputs": [
    {
     "data": {
      "text/plain": [
       "0.8279153692167691"
      ]
     },
     "execution_count": 118,
     "metadata": {},
     "output_type": "execute_result"
    }
   ],
   "source": [
    "X = train_[num_cols_]\n",
    "X = X.drop(['GrLivArea','TotalBsmtSF'],axis=1)\n",
    "\n",
    "# transformer = ColumnTransformer([(\"Cat\", OneHotEncoder(handle_unknown = 'ignore'), cat_feats)], remainder='passthrough')\n",
    "# X = transformer.fit_transform(X)\n",
    "\n",
    "X = scaler.fit_transform(X)\n",
    "\n",
    "y = np.log(train_['SalePrice'])\n",
    "\n",
    "lasso = linear_model.Lasso(alpha=0.1)\n",
    "\n",
    "selector = SelectFromModel(estimator=lasso)\n",
    "\n",
    "X = selector.fit_transform(X, y)\n",
    "\n",
    "ols.fit(X,y)\n",
    "ols.score(X,y)\n",
    "\n"
   ]
  },
  {
   "cell_type": "code",
   "execution_count": 119,
   "id": "04b932b4",
   "metadata": {},
   "outputs": [],
   "source": [
    "X_tst = test_[num_cols_]\n",
    "X_tst = X_tst.drop(['GrLivArea','TotalBsmtSF'],axis=1)\n",
    "X_tst = scaler.transform(X_tst)\n",
    "\n",
    "# X_tst = transformer.transform(X_tst)\n",
    "y_tst = np.log(test_['SalePrice'])\n",
    "X_tst = selector.transform(X_tst)"
   ]
  },
  {
   "cell_type": "code",
   "execution_count": 120,
   "id": "988e9fec",
   "metadata": {},
   "outputs": [
    {
     "data": {
      "text/plain": [
       "0.7925941540357762"
      ]
     },
     "execution_count": 120,
     "metadata": {},
     "output_type": "execute_result"
    }
   ],
   "source": [
    "ols.score(X_tst,y_tst)"
   ]
  },
  {
   "cell_type": "code",
   "execution_count": 121,
   "id": "8c7ccf8f",
   "metadata": {},
   "outputs": [
    {
     "name": "stdout",
     "output_type": "stream",
     "text": [
      "['Cat__x0_180', 'Cat__x1_C (all)', 'Cat__x2_Pave', 'Cat__x3_IR1', 'Cat__x4_HLS']\n"
     ]
    }
   ],
   "source": [
    "feat_names = transformer.get_feature_names()\n",
    "\n",
    "\n",
    "mask = selector.get_support()\n",
    "\n",
    "lasso_feats = [a for a, b in zip(feat_names, mask) if b]\n",
    "print(lasso_feats)"
   ]
  },
  {
   "cell_type": "markdown",
   "id": "80aae099",
   "metadata": {},
   "source": [
    "model had slight improvement when GarageCars was float."
   ]
  },
  {
   "cell_type": "code",
   "execution_count": 127,
   "id": "8721a4be",
   "metadata": {},
   "outputs": [],
   "source": [
    "train_['GarageCars'] = train_['GarageCars'].astype('float')"
   ]
  },
  {
   "cell_type": "code",
   "execution_count": 128,
   "id": "0a45ed97",
   "metadata": {},
   "outputs": [],
   "source": [
    "test_['GarageCars'] = test_['GarageCars'].astype('float')"
   ]
  },
  {
   "cell_type": "code",
   "execution_count": 130,
   "id": "98e152aa",
   "metadata": {},
   "outputs": [],
   "source": [
    "cat_feats.remove('GarageCars')"
   ]
  },
  {
   "cell_type": "code",
   "execution_count": 131,
   "id": "52fd714d",
   "metadata": {},
   "outputs": [
    {
     "data": {
      "text/plain": [
       "0.8604843360147527"
      ]
     },
     "execution_count": 131,
     "metadata": {},
     "output_type": "execute_result"
    }
   ],
   "source": [
    "X = train_.drop(['SalePrice', 'TotalBsmtSF'],axis=1)\n",
    "\n",
    "transformer = ColumnTransformer([(\"Cat\", OneHotEncoder(handle_unknown = 'ignore'), cat_feats)], remainder='passthrough')\n",
    "X = transformer.fit_transform(X)\n",
    "\n",
    "X = scaler.fit_transform(X)\n",
    "\n",
    "y = np.log(train_['SalePrice'])\n",
    "\n",
    "lasso = linear_model.Lasso(alpha=0.1)\n",
    "\n",
    "selector = SelectFromModel(estimator=lasso)\n",
    "\n",
    "X = selector.fit_transform(X, y)\n",
    "\n",
    "ols.fit(X,y)\n",
    "ols.score(X,y)\n",
    "\n"
   ]
  },
  {
   "cell_type": "code",
   "execution_count": 132,
   "id": "4a05b607",
   "metadata": {},
   "outputs": [],
   "source": [
    "X_tst = test_.drop(['SalePrice', 'TotalBsmtSF'],axis=1)\n",
    "X_tst = transformer.transform(X_tst)\n",
    "X_tst = scaler.transform(X_tst)\n",
    "y_tst = np.log(test_['SalePrice'])\n",
    "X_tst = selector.transform(X_tst)\n",
    "\n"
   ]
  },
  {
   "cell_type": "code",
   "execution_count": 133,
   "id": "38fcd0ae",
   "metadata": {},
   "outputs": [
    {
     "data": {
      "text/plain": [
       "0.8197985544116193"
      ]
     },
     "execution_count": 133,
     "metadata": {},
     "output_type": "execute_result"
    }
   ],
   "source": [
    "ols.score(X_tst,y_tst)"
   ]
  },
  {
   "cell_type": "markdown",
   "id": "85bd966d",
   "metadata": {},
   "source": [
    "We can see that the top 6 lasso features are different from what happens when selecting just the top 6 correlated features. Good job lasso!"
   ]
  },
  {
   "cell_type": "code",
   "execution_count": 134,
   "id": "6f73bfc1",
   "metadata": {},
   "outputs": [
    {
     "name": "stdout",
     "output_type": "stream",
     "text": [
      "['GrLivArea', 'OverallQual', 'BsmtQual', '1stFlrSF', 'GarageCars', 'GarageArea']\n"
     ]
    }
   ],
   "source": [
    "feat_names = transformer.get_feature_names()\n",
    "\n",
    "\n",
    "mask = selector.get_support()\n",
    "\n",
    "lasso_feats = [a for a, b in zip(feat_names, mask) if b]\n",
    "print(lasso_feats)"
   ]
  },
  {
   "cell_type": "markdown",
   "id": "88d7ff0b",
   "metadata": {},
   "source": [
    "GrLivArea\n",
    "(0.5361242929283243, 0.5052486795731859)\n",
    "\n",
    "ExterQual\n",
    "(0.7034962809602388, 0.6644905975921633)\n",
    "\n",
    "TotalBsmtSF\n",
    "(0.7792598241555013, 0.7229657933399387)\n",
    "\n",
    "KitchenQual\n",
    "(0.7974247390402703, 0.7489550650148744)\n",
    "\n",
    "1stFlrSF\n",
    "(0.7975069805128663, 0.7497354661616471)\n",
    "\n",
    "GarageArea\n",
    "(0.8182544807598195, 0.779205489561503)"
   ]
  },
  {
   "cell_type": "code",
   "execution_count": null,
   "id": "c69ea027",
   "metadata": {},
   "outputs": [],
   "source": []
  }
 ],
 "metadata": {
  "kernelspec": {
   "display_name": "Python 3",
   "language": "python",
   "name": "python3"
  },
  "language_info": {
   "codemirror_mode": {
    "name": "ipython",
    "version": 3
   },
   "file_extension": ".py",
   "mimetype": "text/x-python",
   "name": "python",
   "nbconvert_exporter": "python",
   "pygments_lexer": "ipython3",
   "version": "3.8.8"
  }
 },
 "nbformat": 4,
 "nbformat_minor": 5
}
