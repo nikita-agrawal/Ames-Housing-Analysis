{
 "cells": [
  {
   "cell_type": "code",
   "execution_count": 1,
   "id": "865ac6cf",
   "metadata": {},
   "outputs": [],
   "source": [
    "import pandas as pd\n",
    "import numpy as np\n",
    "from sklearn import linear_model\n",
    "from sklearn.preprocessing import OneHotEncoder\n",
    "from sklearn.compose import ColumnTransformer\n",
    "from sklearn.preprocessing import StandardScaler\n",
    "from sklearn.feature_selection import SelectFromModel\n",
    "import matplotlib.pyplot as plt\n",
    "import seaborn as sns\n",
    "import matplotlib.style as style\n",
    "style.use('fivethirtyeight')"
   ]
  },
  {
   "cell_type": "code",
   "execution_count": 2,
   "id": "d3a7dcbf",
   "metadata": {},
   "outputs": [],
   "source": [
    "colors = [\"#FF0B04\", \"#F1BE48\",\n",
    "           \"#B9975B\", \"#8B5B29\",\n",
    "           \"#524727\",\n",
    "         ]\n",
    "sns.set_palette(sns.color_palette(colors))"
   ]
  },
  {
   "cell_type": "markdown",
   "id": "0eec64a0",
   "metadata": {},
   "source": [
    "## Data processing"
   ]
  },
  {
   "cell_type": "code",
   "execution_count": 3,
   "id": "4d366bca",
   "metadata": {},
   "outputs": [],
   "source": [
    "train = pd.read_csv('train_clean.csv', index_col=0)\n",
    "test = pd.read_csv('test_clean.csv', index_col=0)"
   ]
  },
  {
   "cell_type": "code",
   "execution_count": 4,
   "id": "5223ad61",
   "metadata": {},
   "outputs": [],
   "source": [
    "cat_feats = train.select_dtypes(['object','bool']).columns.to_list()\n",
    "cat_feats = cat_feats + ['YearBuilt','KitchenQual','GarageCars', 'BedroomAbvGr']"
   ]
  },
  {
   "cell_type": "code",
   "execution_count": 5,
   "id": "ecb1d92b",
   "metadata": {},
   "outputs": [],
   "source": [
    "num_cols = train.select_dtypes(['float64','int64']).columns.to_list()\n",
    "num_cols.remove('SalePrice')\n",
    "num_cols.remove('PID')"
   ]
  },
  {
   "cell_type": "markdown",
   "id": "8292dbbd",
   "metadata": {},
   "source": [
    "## Simple linear model"
   ]
  },
  {
   "cell_type": "code",
   "execution_count": 6,
   "id": "882563cf",
   "metadata": {},
   "outputs": [],
   "source": [
    "def simple_linear_model_score(train, test, cols, target):\n",
    "    ols = linear_model.LinearRegression()\n",
    "    X = train[cols]\n",
    "    cat_feats = X.select_dtypes(['object','bool']).columns.to_list()\n",
    "    transformer = ColumnTransformer([(\"Cat\", OneHotEncoder(handle_unknown = 'ignore'), cat_feats)], remainder='passthrough')\n",
    "    X = transformer.fit_transform(X)\n",
    "    y = np.log(train[target])\n",
    "    \n",
    "    ols.fit(X, y)\n",
    "    train_score = ols.score(X, y)\n",
    "    \n",
    "    X_tst = test[cols]\n",
    "    X_tst = transformer.transform(X_tst)\n",
    "    y_tst = np.log(test[target])\n",
    "    test_score = ols.score(X_tst, y_tst)\n",
    "    \n",
    "    return train_score, test_score"
   ]
  },
  {
   "cell_type": "markdown",
   "id": "9810a187",
   "metadata": {},
   "source": [
    "The kitchen sink model of every feature over learns. And has a negative test score"
   ]
  },
  {
   "cell_type": "code",
   "execution_count": 7,
   "id": "fc4570d2",
   "metadata": {},
   "outputs": [
    {
     "data": {
      "text/plain": [
       "(0.9577940526767014, -50366487498.91418)"
      ]
     },
     "execution_count": 7,
     "metadata": {},
     "output_type": "execute_result"
    }
   ],
   "source": [
    "simple_linear_model_score(train, test, cat_feats+num_cols, 'SalePrice')"
   ]
  },
  {
   "cell_type": "markdown",
   "id": "01ba5797",
   "metadata": {},
   "source": [
    "The numerical kitchen sink model is very successful"
   ]
  },
  {
   "cell_type": "code",
   "execution_count": 8,
   "id": "bba02fa9",
   "metadata": {},
   "outputs": [
    {
     "data": {
      "text/plain": [
       "(0.9290445015300175, 0.8849212267144508)"
      ]
     },
     "execution_count": 8,
     "metadata": {},
     "output_type": "execute_result"
    }
   ],
   "source": [
    "simple_linear_model_score(train, test, num_cols, 'SalePrice')"
   ]
  },
  {
   "cell_type": "markdown",
   "id": "871354fe",
   "metadata": {},
   "source": [
    "The numerical kitchen sink model gets better when we selectively pick our favorite categorical features"
   ]
  },
  {
   "cell_type": "code",
   "execution_count": 9,
   "id": "417fad0e",
   "metadata": {},
   "outputs": [
    {
     "data": {
      "text/plain": [
       "(0.9418781919970982, 0.8991659160993932)"
      ]
     },
     "execution_count": 9,
     "metadata": {},
     "output_type": "execute_result"
    }
   ],
   "source": [
    "fav_cat = ['YearBuilt', 'ExterQual', 'Neighborhood', 'KitchenQual']\n",
    "simple_linear_model_score(train, test, num_cols+fav_cat, 'SalePrice')"
   ]
  },
  {
   "cell_type": "markdown",
   "id": "d611ca60",
   "metadata": {},
   "source": [
    "We can see that as we add more and more numerical features our model gets better."
   ]
  },
  {
   "cell_type": "code",
   "execution_count": 10,
   "id": "3644113b",
   "metadata": {},
   "outputs": [
    {
     "name": "stdout",
     "output_type": "stream",
     "text": [
      "GrLivArea\n",
      "(0.5361242929283243, 0.5052486795731859)\n",
      "ExterQual\n",
      "(0.7034962809602388, 0.6644905975921633)\n",
      "TotalBsmtSF\n",
      "(0.7792598241555013, 0.7229657933399387)\n",
      "KitchenQual\n",
      "(0.7974247390402703, 0.7489550650148744)\n",
      "1stFlrSF\n",
      "(0.7975069805128663, 0.7497354661616471)\n",
      "GarageArea\n",
      "(0.8182544807598195, 0.779205489561503)\n",
      "GarageCars\n",
      "(0.8229613212881246, 0.7862240548493213)\n",
      "BsmtQual\n",
      "(0.8367316241545875, 0.8093688234853456)\n",
      "YearBuilt\n",
      "(0.8496799637760847, 0.8201252110298075)\n",
      "FullBath\n",
      "(0.8515427358211811, 0.8194532379214836)\n",
      "GarageFinish\n",
      "(0.8546721816101726, 0.8239315804336104)\n",
      "FireplaceQu\n",
      "(0.862791589110423, 0.8355690508933211)\n",
      "MasVnrArea\n",
      "(0.863014924192381, 0.8357178472479138)\n",
      "TotRmsAbvGrd\n",
      "(0.8634271653730479, 0.8341419606401707)\n",
      "YearRemodAdd\n",
      "(0.8695869148482882, 0.8386413512424243)\n",
      "Fireplaces\n",
      "(0.8735302259811796, 0.8403365999459429)\n",
      "BsmtFinSF1\n",
      "(0.8805143918287985, 0.8482424745087166)\n",
      "HeatingQC\n",
      "(0.8819825209355477, 0.8512038129217325)\n",
      "BsmtExposure\n",
      "(0.8837381955399547, 0.8524812209245907)\n",
      "LotFrontage\n",
      "(0.886730870495398, 0.8548446790680634)\n",
      "WoodDeckSF\n",
      "(0.8868047028906969, 0.8554065023688026)\n",
      "OpenPorchSF\n",
      "(0.8868612716683469, 0.8552851534535748)\n",
      "HalfBath\n",
      "(0.886883163408948, 0.8556627406789722)\n",
      "BsmtFullBath\n",
      "(0.8869743676682755, 0.8560963662911645)\n",
      "LotArea\n",
      "(0.8881865864459205, 0.8544190453660485)\n",
      "2ndFlrSF\n",
      "(0.8886235291245643, 0.8542595628385624)\n",
      "GarageQual\n",
      "(0.8907916226465491, 0.856544759837957)\n",
      "PavedDrive\n",
      "(0.8938717581605865, 0.8588246373933198)\n",
      "GarageCond\n",
      "(0.8941509212619154, 0.8596414422924247)\n",
      "GarageYrBlt\n",
      "(0.8949157138028354, 0.8590126484796159)\n",
      "BsmtCond\n",
      "(0.8950863908007834, 0.8595581140569745)\n",
      "BsmtUnfSF\n",
      "(0.8952749499518509, 0.8596682334222788)\n",
      "BedroomAbvGr\n",
      "(0.8955718473438916, 0.8590871212488155)\n",
      "ScreenPorch\n",
      "(0.8966450390376742, 0.8618080137911743)\n",
      "PoolQC\n",
      "(0.8966498282230969, 0.8618803405059996)\n",
      "PoolArea\n",
      "(0.8968327378808116, 0.861959275587816)\n",
      "YrSold\n",
      "(0.8969915500000273, 0.8621040511102986)\n",
      "BsmtFinSF2\n",
      "(0.8969915500000273, 0.8621040511102744)\n",
      "3SsnPorch\n",
      "(0.8970867615213393, 0.8622403500594918)\n",
      "ExterCond\n",
      "(0.8974605662127457, 0.8637890930134755)\n",
      "MoSold\n",
      "(0.897464391303063, 0.8638200421464576)\n",
      "MiscVal\n",
      "(0.8974695351316921, 0.8638613618432454)\n",
      "LowQualFinSF\n",
      "(0.8974695351316923, 0.8638613618431711)\n",
      "BsmtHalfBath\n",
      "(0.8975133980019672, 0.8638769131891589)\n",
      "Alley\n",
      "(0.8977233988283987, 0.8635147679933722)\n",
      "OverallCond\n",
      "(0.9119801058748869, 0.870308399056246)\n",
      "KitchenAbvGr\n",
      "(0.9138459324455738, 0.8716522368254509)\n",
      "EnclosedPorch\n",
      "(0.9145169532048038, 0.8711878087925697)\n",
      "PID\n",
      "(0.9146036935066741, 0.8714409177729507)\n"
     ]
    }
   ],
   "source": [
    "k=100\n",
    "cols = train.corr().nlargest(k, 'SalePrice')['SalePrice'].index\n",
    "cols = cols[1:]\n",
    "for num_features in range(1,len(cols)):\n",
    "    print(cols[num_features])\n",
    "    print(simple_linear_model_score(train, test, cols[1:1+num_features], 'SalePrice'))"
   ]
  },
  {
   "cell_type": "markdown",
   "id": "bb64ab6d",
   "metadata": {},
   "source": [
    "## Problem section"
   ]
  },
  {
   "cell_type": "markdown",
   "id": "66fa3e3a",
   "metadata": {},
   "source": [
    "Can do lasso feature selction. Train a linear model with those selected features. But I get a dimension mismatch when trying to score the test dataset. "
   ]
  },
  {
   "cell_type": "code",
   "execution_count": 11,
   "id": "a09ba49c",
   "metadata": {},
   "outputs": [],
   "source": [
    "scaler = StandardScaler(with_mean=False)"
   ]
  },
  {
   "cell_type": "code",
   "execution_count": 12,
   "id": "e785105f",
   "metadata": {},
   "outputs": [],
   "source": [
    "ols = linear_model.LinearRegression()"
   ]
  },
  {
   "cell_type": "code",
   "execution_count": 13,
   "id": "1b329d24",
   "metadata": {},
   "outputs": [
    {
     "data": {
      "text/plain": [
       "0.9036774202856266"
      ]
     },
     "execution_count": 13,
     "metadata": {},
     "output_type": "execute_result"
    }
   ],
   "source": [
    "X = train.drop(['SalePrice', 'TotalBsmtSF'],axis=1)\n",
    "\n",
    "transformer = ColumnTransformer([(\"Cat\", OneHotEncoder(handle_unknown = 'ignore'), cat_feats)], remainder='passthrough')\n",
    "X = transformer.fit_transform(X)\n",
    "\n",
    "X = scaler.fit_transform(X)\n",
    "\n",
    "y = np.log(train['SalePrice'])\n",
    "\n",
    "lasso = linear_model.Lasso(alpha=0.05)\n",
    "\n",
    "selector = SelectFromModel(estimator=lasso)\n",
    "\n",
    "X = selector.fit_transform(X, y)\n",
    "\n",
    "ols.fit(X,y)\n",
    "ols.score(X,y)\n"
   ]
  },
  {
   "cell_type": "code",
   "execution_count": 14,
   "id": "ca12d45e",
   "metadata": {},
   "outputs": [],
   "source": [
    "X_tst = test.drop(['SalePrice', 'TotalBsmtSF'],axis=1)\n",
    "X_tst = transformer.transform(X_tst)\n",
    "y_tst = np.log(test['SalePrice'])\n",
    "X_tst = selector.fit_transform(X_tst, y_tst)\n",
    "\n"
   ]
  },
  {
   "cell_type": "markdown",
   "id": "17a2f1c2",
   "metadata": {},
   "source": [
    "The problem is that the number of features between X and X_tst are not equal 11=/= 18"
   ]
  },
  {
   "cell_type": "code",
   "execution_count": 15,
   "id": "020847bc",
   "metadata": {},
   "outputs": [
    {
     "name": "stdout",
     "output_type": "stream",
     "text": [
      "X.shape: (1871, 11)\n",
      "y.shape: (1871,)\n",
      "X_tst.shape: (624, 18)\n",
      "y_tst.shape: (624,)\n"
     ]
    }
   ],
   "source": [
    "data_shapes = {'X.shape': X.shape, 'y.shape':y.shape, \n",
    "               'X_tst.shape':X_tst.shape, 'y_tst.shape':y_tst.shape}\n",
    "for data_shape in data_shapes.keys():\n",
    "    print(f'{data_shape}: {data_shapes[data_shape]}')"
   ]
  },
  {
   "cell_type": "code",
   "execution_count": 16,
   "id": "8be31588",
   "metadata": {},
   "outputs": [
    {
     "ename": "ValueError",
     "evalue": "dimension mismatch",
     "output_type": "error",
     "traceback": [
      "\u001b[0;31m---------------------------------------------------------------------------\u001b[0m",
      "\u001b[0;31mValueError\u001b[0m                                Traceback (most recent call last)",
      "\u001b[0;32m<ipython-input-16-6a5e9145de33>\u001b[0m in \u001b[0;36m<module>\u001b[0;34m\u001b[0m\n\u001b[0;32m----> 1\u001b[0;31m \u001b[0mols\u001b[0m\u001b[0;34m.\u001b[0m\u001b[0mscore\u001b[0m\u001b[0;34m(\u001b[0m\u001b[0mX_tst\u001b[0m\u001b[0;34m,\u001b[0m\u001b[0my_tst\u001b[0m\u001b[0;34m)\u001b[0m\u001b[0;34m\u001b[0m\u001b[0;34m\u001b[0m\u001b[0m\n\u001b[0m",
      "\u001b[0;32m~/opt/anaconda3/lib/python3.8/site-packages/sklearn/base.py\u001b[0m in \u001b[0;36mscore\u001b[0;34m(self, X, y, sample_weight)\u001b[0m\n\u001b[1;32m    551\u001b[0m \u001b[0;34m\u001b[0m\u001b[0m\n\u001b[1;32m    552\u001b[0m         \u001b[0;32mfrom\u001b[0m \u001b[0;34m.\u001b[0m\u001b[0mmetrics\u001b[0m \u001b[0;32mimport\u001b[0m \u001b[0mr2_score\u001b[0m\u001b[0;34m\u001b[0m\u001b[0;34m\u001b[0m\u001b[0m\n\u001b[0;32m--> 553\u001b[0;31m         \u001b[0my_pred\u001b[0m \u001b[0;34m=\u001b[0m \u001b[0mself\u001b[0m\u001b[0;34m.\u001b[0m\u001b[0mpredict\u001b[0m\u001b[0;34m(\u001b[0m\u001b[0mX\u001b[0m\u001b[0;34m)\u001b[0m\u001b[0;34m\u001b[0m\u001b[0;34m\u001b[0m\u001b[0m\n\u001b[0m\u001b[1;32m    554\u001b[0m         \u001b[0;32mreturn\u001b[0m \u001b[0mr2_score\u001b[0m\u001b[0;34m(\u001b[0m\u001b[0my\u001b[0m\u001b[0;34m,\u001b[0m \u001b[0my_pred\u001b[0m\u001b[0;34m,\u001b[0m \u001b[0msample_weight\u001b[0m\u001b[0;34m=\u001b[0m\u001b[0msample_weight\u001b[0m\u001b[0;34m)\u001b[0m\u001b[0;34m\u001b[0m\u001b[0;34m\u001b[0m\u001b[0m\n\u001b[1;32m    555\u001b[0m \u001b[0;34m\u001b[0m\u001b[0m\n",
      "\u001b[0;32m~/opt/anaconda3/lib/python3.8/site-packages/sklearn/linear_model/_base.py\u001b[0m in \u001b[0;36mpredict\u001b[0;34m(self, X)\u001b[0m\n\u001b[1;32m    236\u001b[0m             \u001b[0mReturns\u001b[0m \u001b[0mpredicted\u001b[0m \u001b[0mvalues\u001b[0m\u001b[0;34m.\u001b[0m\u001b[0;34m\u001b[0m\u001b[0;34m\u001b[0m\u001b[0m\n\u001b[1;32m    237\u001b[0m         \"\"\"\n\u001b[0;32m--> 238\u001b[0;31m         \u001b[0;32mreturn\u001b[0m \u001b[0mself\u001b[0m\u001b[0;34m.\u001b[0m\u001b[0m_decision_function\u001b[0m\u001b[0;34m(\u001b[0m\u001b[0mX\u001b[0m\u001b[0;34m)\u001b[0m\u001b[0;34m\u001b[0m\u001b[0;34m\u001b[0m\u001b[0m\n\u001b[0m\u001b[1;32m    239\u001b[0m \u001b[0;34m\u001b[0m\u001b[0m\n\u001b[1;32m    240\u001b[0m     \u001b[0m_preprocess_data\u001b[0m \u001b[0;34m=\u001b[0m \u001b[0mstaticmethod\u001b[0m\u001b[0;34m(\u001b[0m\u001b[0m_preprocess_data\u001b[0m\u001b[0;34m)\u001b[0m\u001b[0;34m\u001b[0m\u001b[0;34m\u001b[0m\u001b[0m\n",
      "\u001b[0;32m~/opt/anaconda3/lib/python3.8/site-packages/sklearn/linear_model/_base.py\u001b[0m in \u001b[0;36m_decision_function\u001b[0;34m(self, X)\u001b[0m\n\u001b[1;32m    219\u001b[0m \u001b[0;34m\u001b[0m\u001b[0m\n\u001b[1;32m    220\u001b[0m         \u001b[0mX\u001b[0m \u001b[0;34m=\u001b[0m \u001b[0mcheck_array\u001b[0m\u001b[0;34m(\u001b[0m\u001b[0mX\u001b[0m\u001b[0;34m,\u001b[0m \u001b[0maccept_sparse\u001b[0m\u001b[0;34m=\u001b[0m\u001b[0;34m[\u001b[0m\u001b[0;34m'csr'\u001b[0m\u001b[0;34m,\u001b[0m \u001b[0;34m'csc'\u001b[0m\u001b[0;34m,\u001b[0m \u001b[0;34m'coo'\u001b[0m\u001b[0;34m]\u001b[0m\u001b[0;34m)\u001b[0m\u001b[0;34m\u001b[0m\u001b[0;34m\u001b[0m\u001b[0m\n\u001b[0;32m--> 221\u001b[0;31m         return safe_sparse_dot(X, self.coef_.T,\n\u001b[0m\u001b[1;32m    222\u001b[0m                                dense_output=True) + self.intercept_\n\u001b[1;32m    223\u001b[0m \u001b[0;34m\u001b[0m\u001b[0m\n",
      "\u001b[0;32m~/opt/anaconda3/lib/python3.8/site-packages/sklearn/utils/validation.py\u001b[0m in \u001b[0;36minner_f\u001b[0;34m(*args, **kwargs)\u001b[0m\n\u001b[1;32m     61\u001b[0m             \u001b[0mextra_args\u001b[0m \u001b[0;34m=\u001b[0m \u001b[0mlen\u001b[0m\u001b[0;34m(\u001b[0m\u001b[0margs\u001b[0m\u001b[0;34m)\u001b[0m \u001b[0;34m-\u001b[0m \u001b[0mlen\u001b[0m\u001b[0;34m(\u001b[0m\u001b[0mall_args\u001b[0m\u001b[0;34m)\u001b[0m\u001b[0;34m\u001b[0m\u001b[0;34m\u001b[0m\u001b[0m\n\u001b[1;32m     62\u001b[0m             \u001b[0;32mif\u001b[0m \u001b[0mextra_args\u001b[0m \u001b[0;34m<=\u001b[0m \u001b[0;36m0\u001b[0m\u001b[0;34m:\u001b[0m\u001b[0;34m\u001b[0m\u001b[0;34m\u001b[0m\u001b[0m\n\u001b[0;32m---> 63\u001b[0;31m                 \u001b[0;32mreturn\u001b[0m \u001b[0mf\u001b[0m\u001b[0;34m(\u001b[0m\u001b[0;34m*\u001b[0m\u001b[0margs\u001b[0m\u001b[0;34m,\u001b[0m \u001b[0;34m**\u001b[0m\u001b[0mkwargs\u001b[0m\u001b[0;34m)\u001b[0m\u001b[0;34m\u001b[0m\u001b[0;34m\u001b[0m\u001b[0m\n\u001b[0m\u001b[1;32m     64\u001b[0m \u001b[0;34m\u001b[0m\u001b[0m\n\u001b[1;32m     65\u001b[0m             \u001b[0;31m# extra_args > 0\u001b[0m\u001b[0;34m\u001b[0m\u001b[0;34m\u001b[0m\u001b[0;34m\u001b[0m\u001b[0m\n",
      "\u001b[0;32m~/opt/anaconda3/lib/python3.8/site-packages/sklearn/utils/extmath.py\u001b[0m in \u001b[0;36msafe_sparse_dot\u001b[0;34m(a, b, dense_output)\u001b[0m\n\u001b[1;32m    150\u001b[0m             \u001b[0mret\u001b[0m \u001b[0;34m=\u001b[0m \u001b[0mnp\u001b[0m\u001b[0;34m.\u001b[0m\u001b[0mdot\u001b[0m\u001b[0;34m(\u001b[0m\u001b[0ma\u001b[0m\u001b[0;34m,\u001b[0m \u001b[0mb\u001b[0m\u001b[0;34m)\u001b[0m\u001b[0;34m\u001b[0m\u001b[0;34m\u001b[0m\u001b[0m\n\u001b[1;32m    151\u001b[0m     \u001b[0;32melse\u001b[0m\u001b[0;34m:\u001b[0m\u001b[0;34m\u001b[0m\u001b[0;34m\u001b[0m\u001b[0m\n\u001b[0;32m--> 152\u001b[0;31m         \u001b[0mret\u001b[0m \u001b[0;34m=\u001b[0m \u001b[0ma\u001b[0m \u001b[0;34m@\u001b[0m \u001b[0mb\u001b[0m\u001b[0;34m\u001b[0m\u001b[0;34m\u001b[0m\u001b[0m\n\u001b[0m\u001b[1;32m    153\u001b[0m \u001b[0;34m\u001b[0m\u001b[0m\n\u001b[1;32m    154\u001b[0m     if (sparse.issparse(a) and sparse.issparse(b)\n",
      "\u001b[0;32m~/opt/anaconda3/lib/python3.8/site-packages/scipy/sparse/base.py\u001b[0m in \u001b[0;36m__matmul__\u001b[0;34m(self, other)\u001b[0m\n\u001b[1;32m    558\u001b[0m             raise ValueError(\"Scalar operands are not allowed, \"\n\u001b[1;32m    559\u001b[0m                              \"use '*' instead\")\n\u001b[0;32m--> 560\u001b[0;31m         \u001b[0;32mreturn\u001b[0m \u001b[0mself\u001b[0m\u001b[0;34m.\u001b[0m\u001b[0m__mul__\u001b[0m\u001b[0;34m(\u001b[0m\u001b[0mother\u001b[0m\u001b[0;34m)\u001b[0m\u001b[0;34m\u001b[0m\u001b[0;34m\u001b[0m\u001b[0m\n\u001b[0m\u001b[1;32m    561\u001b[0m \u001b[0;34m\u001b[0m\u001b[0m\n\u001b[1;32m    562\u001b[0m     \u001b[0;32mdef\u001b[0m \u001b[0m__rmatmul__\u001b[0m\u001b[0;34m(\u001b[0m\u001b[0mself\u001b[0m\u001b[0;34m,\u001b[0m \u001b[0mother\u001b[0m\u001b[0;34m)\u001b[0m\u001b[0;34m:\u001b[0m\u001b[0;34m\u001b[0m\u001b[0;34m\u001b[0m\u001b[0m\n",
      "\u001b[0;32m~/opt/anaconda3/lib/python3.8/site-packages/scipy/sparse/base.py\u001b[0m in \u001b[0;36m__mul__\u001b[0;34m(self, other)\u001b[0m\n\u001b[1;32m    496\u001b[0m             \u001b[0;31m# dense row or column vector\u001b[0m\u001b[0;34m\u001b[0m\u001b[0;34m\u001b[0m\u001b[0;34m\u001b[0m\u001b[0m\n\u001b[1;32m    497\u001b[0m             \u001b[0;32mif\u001b[0m \u001b[0mother\u001b[0m\u001b[0;34m.\u001b[0m\u001b[0mshape\u001b[0m \u001b[0;34m!=\u001b[0m \u001b[0;34m(\u001b[0m\u001b[0mN\u001b[0m\u001b[0;34m,\u001b[0m\u001b[0;34m)\u001b[0m \u001b[0;32mand\u001b[0m \u001b[0mother\u001b[0m\u001b[0;34m.\u001b[0m\u001b[0mshape\u001b[0m \u001b[0;34m!=\u001b[0m \u001b[0;34m(\u001b[0m\u001b[0mN\u001b[0m\u001b[0;34m,\u001b[0m \u001b[0;36m1\u001b[0m\u001b[0;34m)\u001b[0m\u001b[0;34m:\u001b[0m\u001b[0;34m\u001b[0m\u001b[0;34m\u001b[0m\u001b[0m\n\u001b[0;32m--> 498\u001b[0;31m                 \u001b[0;32mraise\u001b[0m \u001b[0mValueError\u001b[0m\u001b[0;34m(\u001b[0m\u001b[0;34m'dimension mismatch'\u001b[0m\u001b[0;34m)\u001b[0m\u001b[0;34m\u001b[0m\u001b[0;34m\u001b[0m\u001b[0m\n\u001b[0m\u001b[1;32m    499\u001b[0m \u001b[0;34m\u001b[0m\u001b[0m\n\u001b[1;32m    500\u001b[0m             \u001b[0mresult\u001b[0m \u001b[0;34m=\u001b[0m \u001b[0mself\u001b[0m\u001b[0;34m.\u001b[0m\u001b[0m_mul_vector\u001b[0m\u001b[0;34m(\u001b[0m\u001b[0mnp\u001b[0m\u001b[0;34m.\u001b[0m\u001b[0mravel\u001b[0m\u001b[0;34m(\u001b[0m\u001b[0mother\u001b[0m\u001b[0;34m)\u001b[0m\u001b[0;34m)\u001b[0m\u001b[0;34m\u001b[0m\u001b[0;34m\u001b[0m\u001b[0m\n",
      "\u001b[0;31mValueError\u001b[0m: dimension mismatch"
     ]
    }
   ],
   "source": [
    "ols.score(X_tst,y_tst)"
   ]
  },
  {
   "cell_type": "code",
   "execution_count": 17,
   "id": "ce7f7303",
   "metadata": {},
   "outputs": [
    {
     "data": {
      "text/plain": [
       "(624, 81)"
      ]
     },
     "execution_count": 17,
     "metadata": {},
     "output_type": "execute_result"
    }
   ],
   "source": [
    "test.shape"
   ]
  },
  {
   "cell_type": "code",
   "execution_count": 18,
   "id": "aa10f15f",
   "metadata": {},
   "outputs": [
    {
     "data": {
      "text/plain": [
       "(1871, 81)"
      ]
     },
     "execution_count": 18,
     "metadata": {},
     "output_type": "execute_result"
    }
   ],
   "source": [
    "train.shape"
   ]
  },
  {
   "cell_type": "code",
   "execution_count": 19,
   "id": "19ab896e",
   "metadata": {},
   "outputs": [
    {
     "data": {
      "text/html": [
       "<div>\n",
       "<style scoped>\n",
       "    .dataframe tbody tr th:only-of-type {\n",
       "        vertical-align: middle;\n",
       "    }\n",
       "\n",
       "    .dataframe tbody tr th {\n",
       "        vertical-align: top;\n",
       "    }\n",
       "\n",
       "    .dataframe thead th {\n",
       "        text-align: right;\n",
       "    }\n",
       "</style>\n",
       "<table border=\"1\" class=\"dataframe\">\n",
       "  <thead>\n",
       "    <tr style=\"text-align: right;\">\n",
       "      <th></th>\n",
       "      <th>PID</th>\n",
       "      <th>GrLivArea</th>\n",
       "      <th>SalePrice</th>\n",
       "      <th>MSSubClass</th>\n",
       "      <th>MSZoning</th>\n",
       "      <th>LotFrontage</th>\n",
       "      <th>LotArea</th>\n",
       "      <th>Street</th>\n",
       "      <th>Alley</th>\n",
       "      <th>LotShape</th>\n",
       "      <th>...</th>\n",
       "      <th>ScreenPorch</th>\n",
       "      <th>PoolArea</th>\n",
       "      <th>PoolQC</th>\n",
       "      <th>Fence</th>\n",
       "      <th>MiscFeature</th>\n",
       "      <th>MiscVal</th>\n",
       "      <th>MoSold</th>\n",
       "      <th>YrSold</th>\n",
       "      <th>SaleType</th>\n",
       "      <th>SaleCondition</th>\n",
       "    </tr>\n",
       "  </thead>\n",
       "  <tbody>\n",
       "    <tr>\n",
       "      <th>0</th>\n",
       "      <td>905101330</td>\n",
       "      <td>1296</td>\n",
       "      <td>90000</td>\n",
       "      <td>MSSubClass_MSSubClass_MSSubClass_MSSubClass_90</td>\n",
       "      <td>RL</td>\n",
       "      <td>72.000000</td>\n",
       "      <td>10791</td>\n",
       "      <td>Pave</td>\n",
       "      <td>0.0</td>\n",
       "      <td>Reg</td>\n",
       "      <td>...</td>\n",
       "      <td>0</td>\n",
       "      <td>0</td>\n",
       "      <td>0.0</td>\n",
       "      <td>None</td>\n",
       "      <td>Shed</td>\n",
       "      <td>500</td>\n",
       "      <td>10</td>\n",
       "      <td>2006</td>\n",
       "      <td>WD</td>\n",
       "      <td>Normal</td>\n",
       "    </tr>\n",
       "    <tr>\n",
       "      <th>1</th>\n",
       "      <td>909451100</td>\n",
       "      <td>1229</td>\n",
       "      <td>137000</td>\n",
       "      <td>MSSubClass_MSSubClass_MSSubClass_MSSubClass_160</td>\n",
       "      <td>RM</td>\n",
       "      <td>24.000000</td>\n",
       "      <td>1488</td>\n",
       "      <td>Pave</td>\n",
       "      <td>0.0</td>\n",
       "      <td>Reg</td>\n",
       "      <td>...</td>\n",
       "      <td>0</td>\n",
       "      <td>0</td>\n",
       "      <td>0.0</td>\n",
       "      <td>GdPrv</td>\n",
       "      <td>None</td>\n",
       "      <td>0</td>\n",
       "      <td>10</td>\n",
       "      <td>2009</td>\n",
       "      <td>WD</td>\n",
       "      <td>Normal</td>\n",
       "    </tr>\n",
       "    <tr>\n",
       "      <th>2</th>\n",
       "      <td>527451450</td>\n",
       "      <td>948</td>\n",
       "      <td>89000</td>\n",
       "      <td>MSSubClass_MSSubClass_MSSubClass_MSSubClass_160</td>\n",
       "      <td>RM</td>\n",
       "      <td>21.000000</td>\n",
       "      <td>1680</td>\n",
       "      <td>Pave</td>\n",
       "      <td>0.0</td>\n",
       "      <td>Reg</td>\n",
       "      <td>...</td>\n",
       "      <td>0</td>\n",
       "      <td>0</td>\n",
       "      <td>0.0</td>\n",
       "      <td>None</td>\n",
       "      <td>None</td>\n",
       "      <td>0</td>\n",
       "      <td>7</td>\n",
       "      <td>2006</td>\n",
       "      <td>WD</td>\n",
       "      <td>Normal</td>\n",
       "    </tr>\n",
       "    <tr>\n",
       "      <th>3</th>\n",
       "      <td>903232190</td>\n",
       "      <td>1040</td>\n",
       "      <td>123900</td>\n",
       "      <td>MSSubClass_MSSubClass_MSSubClass_MSSubClass_50</td>\n",
       "      <td>RM</td>\n",
       "      <td>52.000000</td>\n",
       "      <td>6240</td>\n",
       "      <td>Pave</td>\n",
       "      <td>0.0</td>\n",
       "      <td>Reg</td>\n",
       "      <td>...</td>\n",
       "      <td>0</td>\n",
       "      <td>0</td>\n",
       "      <td>0.0</td>\n",
       "      <td>None</td>\n",
       "      <td>None</td>\n",
       "      <td>0</td>\n",
       "      <td>5</td>\n",
       "      <td>2010</td>\n",
       "      <td>WD</td>\n",
       "      <td>Normal</td>\n",
       "    </tr>\n",
       "    <tr>\n",
       "      <th>4</th>\n",
       "      <td>914452120</td>\n",
       "      <td>912</td>\n",
       "      <td>156000</td>\n",
       "      <td>MSSubClass_MSSubClass_MSSubClass_MSSubClass_85</td>\n",
       "      <td>RL</td>\n",
       "      <td>61.990202</td>\n",
       "      <td>7540</td>\n",
       "      <td>Pave</td>\n",
       "      <td>0.0</td>\n",
       "      <td>IR1</td>\n",
       "      <td>...</td>\n",
       "      <td>192</td>\n",
       "      <td>0</td>\n",
       "      <td>0.0</td>\n",
       "      <td>MnPrv</td>\n",
       "      <td>None</td>\n",
       "      <td>0</td>\n",
       "      <td>6</td>\n",
       "      <td>2007</td>\n",
       "      <td>WD</td>\n",
       "      <td>Normal</td>\n",
       "    </tr>\n",
       "  </tbody>\n",
       "</table>\n",
       "<p>5 rows × 81 columns</p>\n",
       "</div>"
      ],
      "text/plain": [
       "         PID  GrLivArea  SalePrice  \\\n",
       "0  905101330       1296      90000   \n",
       "1  909451100       1229     137000   \n",
       "2  527451450        948      89000   \n",
       "3  903232190       1040     123900   \n",
       "4  914452120        912     156000   \n",
       "\n",
       "                                        MSSubClass MSZoning  LotFrontage  \\\n",
       "0   MSSubClass_MSSubClass_MSSubClass_MSSubClass_90       RL    72.000000   \n",
       "1  MSSubClass_MSSubClass_MSSubClass_MSSubClass_160       RM    24.000000   \n",
       "2  MSSubClass_MSSubClass_MSSubClass_MSSubClass_160       RM    21.000000   \n",
       "3   MSSubClass_MSSubClass_MSSubClass_MSSubClass_50       RM    52.000000   \n",
       "4   MSSubClass_MSSubClass_MSSubClass_MSSubClass_85       RL    61.990202   \n",
       "\n",
       "   LotArea Street  Alley LotShape  ... ScreenPorch PoolArea PoolQC  Fence  \\\n",
       "0    10791   Pave    0.0      Reg  ...           0        0    0.0   None   \n",
       "1     1488   Pave    0.0      Reg  ...           0        0    0.0  GdPrv   \n",
       "2     1680   Pave    0.0      Reg  ...           0        0    0.0   None   \n",
       "3     6240   Pave    0.0      Reg  ...           0        0    0.0   None   \n",
       "4     7540   Pave    0.0      IR1  ...         192        0    0.0  MnPrv   \n",
       "\n",
       "  MiscFeature MiscVal MoSold YrSold SaleType  SaleCondition  \n",
       "0        Shed     500     10   2006      WD          Normal  \n",
       "1        None       0     10   2009      WD          Normal  \n",
       "2        None       0      7   2006      WD          Normal  \n",
       "3        None       0      5   2010      WD          Normal  \n",
       "4        None       0      6   2007      WD          Normal  \n",
       "\n",
       "[5 rows x 81 columns]"
      ]
     },
     "execution_count": 19,
     "metadata": {},
     "output_type": "execute_result"
    }
   ],
   "source": [
    "train.head()"
   ]
  },
  {
   "cell_type": "code",
   "execution_count": 20,
   "id": "1ff88eae",
   "metadata": {},
   "outputs": [
    {
     "data": {
      "text/html": [
       "<div>\n",
       "<style scoped>\n",
       "    .dataframe tbody tr th:only-of-type {\n",
       "        vertical-align: middle;\n",
       "    }\n",
       "\n",
       "    .dataframe tbody tr th {\n",
       "        vertical-align: top;\n",
       "    }\n",
       "\n",
       "    .dataframe thead th {\n",
       "        text-align: right;\n",
       "    }\n",
       "</style>\n",
       "<table border=\"1\" class=\"dataframe\">\n",
       "  <thead>\n",
       "    <tr style=\"text-align: right;\">\n",
       "      <th></th>\n",
       "      <th>PID</th>\n",
       "      <th>GrLivArea</th>\n",
       "      <th>SalePrice</th>\n",
       "      <th>MSSubClass</th>\n",
       "      <th>MSZoning</th>\n",
       "      <th>LotFrontage</th>\n",
       "      <th>LotArea</th>\n",
       "      <th>Street</th>\n",
       "      <th>Alley</th>\n",
       "      <th>LotShape</th>\n",
       "      <th>...</th>\n",
       "      <th>ScreenPorch</th>\n",
       "      <th>PoolArea</th>\n",
       "      <th>PoolQC</th>\n",
       "      <th>Fence</th>\n",
       "      <th>MiscFeature</th>\n",
       "      <th>MiscVal</th>\n",
       "      <th>MoSold</th>\n",
       "      <th>YrSold</th>\n",
       "      <th>SaleType</th>\n",
       "      <th>SaleCondition</th>\n",
       "    </tr>\n",
       "  </thead>\n",
       "  <tbody>\n",
       "    <tr>\n",
       "      <th>0</th>\n",
       "      <td>903401020</td>\n",
       "      <td>1820</td>\n",
       "      <td>184000</td>\n",
       "      <td>MSSubClass_50</td>\n",
       "      <td>RL</td>\n",
       "      <td>60.0</td>\n",
       "      <td>9120</td>\n",
       "      <td>Pave</td>\n",
       "      <td>2</td>\n",
       "      <td>Reg</td>\n",
       "      <td>...</td>\n",
       "      <td>0</td>\n",
       "      <td>0</td>\n",
       "      <td>0</td>\n",
       "      <td>GdPrv</td>\n",
       "      <td>None</td>\n",
       "      <td>0</td>\n",
       "      <td>6</td>\n",
       "      <td>2008</td>\n",
       "      <td>WD</td>\n",
       "      <td>Normal</td>\n",
       "    </tr>\n",
       "    <tr>\n",
       "      <th>1</th>\n",
       "      <td>909100080</td>\n",
       "      <td>1296</td>\n",
       "      <td>104000</td>\n",
       "      <td>MSSubClass_30</td>\n",
       "      <td>RL</td>\n",
       "      <td>67.0</td>\n",
       "      <td>4853</td>\n",
       "      <td>Pave</td>\n",
       "      <td>0</td>\n",
       "      <td>Reg</td>\n",
       "      <td>...</td>\n",
       "      <td>0</td>\n",
       "      <td>0</td>\n",
       "      <td>0</td>\n",
       "      <td>MnPrv</td>\n",
       "      <td>None</td>\n",
       "      <td>0</td>\n",
       "      <td>5</td>\n",
       "      <td>2010</td>\n",
       "      <td>WD</td>\n",
       "      <td>Normal</td>\n",
       "    </tr>\n",
       "    <tr>\n",
       "      <th>2</th>\n",
       "      <td>531385020</td>\n",
       "      <td>1434</td>\n",
       "      <td>189000</td>\n",
       "      <td>MSSubClass_20</td>\n",
       "      <td>RL</td>\n",
       "      <td>65.0</td>\n",
       "      <td>8529</td>\n",
       "      <td>Pave</td>\n",
       "      <td>0</td>\n",
       "      <td>IR1</td>\n",
       "      <td>...</td>\n",
       "      <td>0</td>\n",
       "      <td>0</td>\n",
       "      <td>0</td>\n",
       "      <td>None</td>\n",
       "      <td>None</td>\n",
       "      <td>0</td>\n",
       "      <td>4</td>\n",
       "      <td>2009</td>\n",
       "      <td>WD</td>\n",
       "      <td>Normal</td>\n",
       "    </tr>\n",
       "    <tr>\n",
       "      <th>3</th>\n",
       "      <td>907130110</td>\n",
       "      <td>1499</td>\n",
       "      <td>187000</td>\n",
       "      <td>MSSubClass_60</td>\n",
       "      <td>RL</td>\n",
       "      <td>65.0</td>\n",
       "      <td>12438</td>\n",
       "      <td>Pave</td>\n",
       "      <td>0</td>\n",
       "      <td>IR1</td>\n",
       "      <td>...</td>\n",
       "      <td>0</td>\n",
       "      <td>0</td>\n",
       "      <td>0</td>\n",
       "      <td>None</td>\n",
       "      <td>None</td>\n",
       "      <td>0</td>\n",
       "      <td>8</td>\n",
       "      <td>2006</td>\n",
       "      <td>WD</td>\n",
       "      <td>Normal</td>\n",
       "    </tr>\n",
       "    <tr>\n",
       "      <th>4</th>\n",
       "      <td>924152030</td>\n",
       "      <td>1797</td>\n",
       "      <td>231000</td>\n",
       "      <td>MSSubClass_60</td>\n",
       "      <td>RL</td>\n",
       "      <td>74.0</td>\n",
       "      <td>12961</td>\n",
       "      <td>Pave</td>\n",
       "      <td>0</td>\n",
       "      <td>Reg</td>\n",
       "      <td>...</td>\n",
       "      <td>0</td>\n",
       "      <td>0</td>\n",
       "      <td>0</td>\n",
       "      <td>None</td>\n",
       "      <td>None</td>\n",
       "      <td>0</td>\n",
       "      <td>3</td>\n",
       "      <td>2010</td>\n",
       "      <td>WD</td>\n",
       "      <td>Normal</td>\n",
       "    </tr>\n",
       "  </tbody>\n",
       "</table>\n",
       "<p>5 rows × 81 columns</p>\n",
       "</div>"
      ],
      "text/plain": [
       "         PID  GrLivArea  SalePrice     MSSubClass MSZoning  LotFrontage  \\\n",
       "0  903401020       1820     184000  MSSubClass_50       RL         60.0   \n",
       "1  909100080       1296     104000  MSSubClass_30       RL         67.0   \n",
       "2  531385020       1434     189000  MSSubClass_20       RL         65.0   \n",
       "3  907130110       1499     187000  MSSubClass_60       RL         65.0   \n",
       "4  924152030       1797     231000  MSSubClass_60       RL         74.0   \n",
       "\n",
       "   LotArea Street  Alley LotShape  ... ScreenPorch PoolArea PoolQC  Fence  \\\n",
       "0     9120   Pave      2      Reg  ...           0        0      0  GdPrv   \n",
       "1     4853   Pave      0      Reg  ...           0        0      0  MnPrv   \n",
       "2     8529   Pave      0      IR1  ...           0        0      0   None   \n",
       "3    12438   Pave      0      IR1  ...           0        0      0   None   \n",
       "4    12961   Pave      0      Reg  ...           0        0      0   None   \n",
       "\n",
       "  MiscFeature MiscVal MoSold YrSold SaleType  SaleCondition  \n",
       "0        None       0      6   2008      WD          Normal  \n",
       "1        None       0      5   2010      WD          Normal  \n",
       "2        None       0      4   2009      WD          Normal  \n",
       "3        None       0      8   2006      WD          Normal  \n",
       "4        None       0      3   2010      WD          Normal  \n",
       "\n",
       "[5 rows x 81 columns]"
      ]
     },
     "execution_count": 20,
     "metadata": {},
     "output_type": "execute_result"
    }
   ],
   "source": [
    "test.head()"
   ]
  },
  {
   "cell_type": "code",
   "execution_count": null,
   "id": "4e724dc5",
   "metadata": {},
   "outputs": [],
   "source": []
  }
 ],
 "metadata": {
  "kernelspec": {
   "display_name": "Python 3",
   "language": "python",
   "name": "python3"
  },
  "language_info": {
   "codemirror_mode": {
    "name": "ipython",
    "version": 3
   },
   "file_extension": ".py",
   "mimetype": "text/x-python",
   "name": "python",
   "nbconvert_exporter": "python",
   "pygments_lexer": "ipython3",
   "version": "3.8.8"
  }
 },
 "nbformat": 4,
 "nbformat_minor": 5
}
