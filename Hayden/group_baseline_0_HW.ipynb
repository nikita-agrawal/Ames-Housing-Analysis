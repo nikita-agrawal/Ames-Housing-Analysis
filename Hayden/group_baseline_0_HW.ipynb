{
 "cells": [
  {
   "cell_type": "code",
   "execution_count": 1,
   "id": "60842569",
   "metadata": {},
   "outputs": [],
   "source": [
    "import pandas as pd\n",
    "import numpy as np\n",
    "from sklearn import linear_model\n",
    "from sklearn.preprocessing import OneHotEncoder\n",
    "from sklearn.compose import ColumnTransformer\n",
    "from sklearn.preprocessing import StandardScaler\n",
    "from sklearn.feature_selection import SelectFromModel\n",
    "import matplotlib.pyplot as plt\n",
    "import seaborn as sns\n",
    "import matplotlib.style as style\n",
    "style.use('fivethirtyeight')"
   ]
  },
  {
   "cell_type": "code",
   "execution_count": 2,
   "id": "ca5b1e66",
   "metadata": {},
   "outputs": [],
   "source": [
    "colors = [\"#FF0B04\", \"#F1BE48\",\n",
    "           \"#B9975B\", \"#8B5B29\",\n",
    "           \"#524727\",\n",
    "         ]\n",
    "sns.set_palette(sns.color_palette(colors))"
   ]
  },
  {
   "cell_type": "code",
   "execution_count": 3,
   "id": "53de3933",
   "metadata": {
    "scrolled": false
   },
   "outputs": [],
   "source": [
    "train = pd.read_csv('train_clean.csv', index_col=0)"
   ]
  },
  {
   "cell_type": "code",
   "execution_count": 4,
   "id": "ba7ee98d",
   "metadata": {},
   "outputs": [
    {
     "data": {
      "text/plain": [
       "[]"
      ]
     },
     "execution_count": 4,
     "metadata": {},
     "output_type": "execute_result"
    }
   ],
   "source": [
    "cols_na = train.loc[:,train.isna().any(axis=0)].columns.to_list()\n",
    "cols_na"
   ]
  },
  {
   "cell_type": "code",
   "execution_count": 5,
   "id": "bebd0433",
   "metadata": {},
   "outputs": [],
   "source": [
    "cat_feats = train.select_dtypes(['object','bool']).columns.to_list()"
   ]
  },
  {
   "cell_type": "code",
   "execution_count": 7,
   "id": "80b6e7e4",
   "metadata": {},
   "outputs": [],
   "source": [
    "cat_feats = cat_feats + ['YearBuilt','KitchenQual','GarageCars', 'BedroomAbvGr']"
   ]
  },
  {
   "cell_type": "code",
   "execution_count": 10,
   "id": "f6be4ec3",
   "metadata": {},
   "outputs": [],
   "source": [
    "ols = linear_model.LinearRegression()"
   ]
  },
  {
   "cell_type": "code",
   "execution_count": 11,
   "id": "917f49fe",
   "metadata": {},
   "outputs": [
    {
     "data": {
      "text/plain": [
       "0.8445232571694062"
      ]
     },
     "execution_count": 11,
     "metadata": {},
     "output_type": "execute_result"
    }
   ],
   "source": [
    "# Note on why TotalBsmt... later\n",
    "X = train.drop(['SalePrice', 'TotalBsmtSF'],axis=1)\n",
    "transformer = ColumnTransformer([(\"Cat\", OneHotEncoder(handle_unknown = 'ignore'), cat_feats)], remainder='passthrough')\n",
    "X = transformer.fit_transform(X)\n",
    "y = np.log(train['SalePrice'])\n",
    "ols.fit(X, y)\n",
    "ols.score(X, y)"
   ]
  },
  {
   "cell_type": "code",
   "execution_count": 12,
   "id": "cc9f3f1b",
   "metadata": {},
   "outputs": [],
   "source": [
    "# 0.9580850723384223"
   ]
  },
  {
   "cell_type": "code",
   "execution_count": 13,
   "id": "ad27c019",
   "metadata": {},
   "outputs": [],
   "source": [
    "# 0.9531732835572826"
   ]
  },
  {
   "cell_type": "code",
   "execution_count": 14,
   "id": "b1ab40b5",
   "metadata": {},
   "outputs": [],
   "source": [
    "test = pd.read_csv('test_clean.csv', index_col=0)"
   ]
  },
  {
   "cell_type": "code",
   "execution_count": 15,
   "id": "7bd18d9d",
   "metadata": {},
   "outputs": [
    {
     "data": {
      "text/html": [
       "<div>\n",
       "<style scoped>\n",
       "    .dataframe tbody tr th:only-of-type {\n",
       "        vertical-align: middle;\n",
       "    }\n",
       "\n",
       "    .dataframe tbody tr th {\n",
       "        vertical-align: top;\n",
       "    }\n",
       "\n",
       "    .dataframe thead th {\n",
       "        text-align: right;\n",
       "    }\n",
       "</style>\n",
       "<table border=\"1\" class=\"dataframe\">\n",
       "  <thead>\n",
       "    <tr style=\"text-align: right;\">\n",
       "      <th></th>\n",
       "      <th>PID</th>\n",
       "      <th>GrLivArea</th>\n",
       "      <th>SalePrice</th>\n",
       "      <th>MSSubClass</th>\n",
       "      <th>MSZoning</th>\n",
       "      <th>LotFrontage</th>\n",
       "      <th>LotArea</th>\n",
       "      <th>Street</th>\n",
       "      <th>Alley</th>\n",
       "      <th>LotShape</th>\n",
       "      <th>...</th>\n",
       "      <th>ScreenPorch</th>\n",
       "      <th>PoolArea</th>\n",
       "      <th>PoolQC</th>\n",
       "      <th>Fence</th>\n",
       "      <th>MiscFeature</th>\n",
       "      <th>MiscVal</th>\n",
       "      <th>MoSold</th>\n",
       "      <th>YrSold</th>\n",
       "      <th>SaleType</th>\n",
       "      <th>SaleCondition</th>\n",
       "    </tr>\n",
       "  </thead>\n",
       "  <tbody>\n",
       "    <tr>\n",
       "      <th>0</th>\n",
       "      <td>903401020</td>\n",
       "      <td>1820</td>\n",
       "      <td>184000</td>\n",
       "      <td>MSSubClass_50</td>\n",
       "      <td>RL</td>\n",
       "      <td>60.0</td>\n",
       "      <td>9120</td>\n",
       "      <td>Pave</td>\n",
       "      <td>2</td>\n",
       "      <td>Reg</td>\n",
       "      <td>...</td>\n",
       "      <td>0</td>\n",
       "      <td>0</td>\n",
       "      <td>0</td>\n",
       "      <td>GdPrv</td>\n",
       "      <td>None</td>\n",
       "      <td>0</td>\n",
       "      <td>6</td>\n",
       "      <td>2008</td>\n",
       "      <td>WD</td>\n",
       "      <td>Normal</td>\n",
       "    </tr>\n",
       "    <tr>\n",
       "      <th>1</th>\n",
       "      <td>909100080</td>\n",
       "      <td>1296</td>\n",
       "      <td>104000</td>\n",
       "      <td>MSSubClass_30</td>\n",
       "      <td>RL</td>\n",
       "      <td>67.0</td>\n",
       "      <td>4853</td>\n",
       "      <td>Pave</td>\n",
       "      <td>0</td>\n",
       "      <td>Reg</td>\n",
       "      <td>...</td>\n",
       "      <td>0</td>\n",
       "      <td>0</td>\n",
       "      <td>0</td>\n",
       "      <td>MnPrv</td>\n",
       "      <td>None</td>\n",
       "      <td>0</td>\n",
       "      <td>5</td>\n",
       "      <td>2010</td>\n",
       "      <td>WD</td>\n",
       "      <td>Normal</td>\n",
       "    </tr>\n",
       "    <tr>\n",
       "      <th>2</th>\n",
       "      <td>531385020</td>\n",
       "      <td>1434</td>\n",
       "      <td>189000</td>\n",
       "      <td>MSSubClass_20</td>\n",
       "      <td>RL</td>\n",
       "      <td>65.0</td>\n",
       "      <td>8529</td>\n",
       "      <td>Pave</td>\n",
       "      <td>0</td>\n",
       "      <td>IR1</td>\n",
       "      <td>...</td>\n",
       "      <td>0</td>\n",
       "      <td>0</td>\n",
       "      <td>0</td>\n",
       "      <td>None</td>\n",
       "      <td>None</td>\n",
       "      <td>0</td>\n",
       "      <td>4</td>\n",
       "      <td>2009</td>\n",
       "      <td>WD</td>\n",
       "      <td>Normal</td>\n",
       "    </tr>\n",
       "    <tr>\n",
       "      <th>3</th>\n",
       "      <td>907130110</td>\n",
       "      <td>1499</td>\n",
       "      <td>187000</td>\n",
       "      <td>MSSubClass_60</td>\n",
       "      <td>RL</td>\n",
       "      <td>65.0</td>\n",
       "      <td>12438</td>\n",
       "      <td>Pave</td>\n",
       "      <td>0</td>\n",
       "      <td>IR1</td>\n",
       "      <td>...</td>\n",
       "      <td>0</td>\n",
       "      <td>0</td>\n",
       "      <td>0</td>\n",
       "      <td>None</td>\n",
       "      <td>None</td>\n",
       "      <td>0</td>\n",
       "      <td>8</td>\n",
       "      <td>2006</td>\n",
       "      <td>WD</td>\n",
       "      <td>Normal</td>\n",
       "    </tr>\n",
       "    <tr>\n",
       "      <th>4</th>\n",
       "      <td>924152030</td>\n",
       "      <td>1797</td>\n",
       "      <td>231000</td>\n",
       "      <td>MSSubClass_60</td>\n",
       "      <td>RL</td>\n",
       "      <td>74.0</td>\n",
       "      <td>12961</td>\n",
       "      <td>Pave</td>\n",
       "      <td>0</td>\n",
       "      <td>Reg</td>\n",
       "      <td>...</td>\n",
       "      <td>0</td>\n",
       "      <td>0</td>\n",
       "      <td>0</td>\n",
       "      <td>None</td>\n",
       "      <td>None</td>\n",
       "      <td>0</td>\n",
       "      <td>3</td>\n",
       "      <td>2010</td>\n",
       "      <td>WD</td>\n",
       "      <td>Normal</td>\n",
       "    </tr>\n",
       "  </tbody>\n",
       "</table>\n",
       "<p>5 rows × 81 columns</p>\n",
       "</div>"
      ],
      "text/plain": [
       "         PID  GrLivArea  SalePrice     MSSubClass MSZoning  LotFrontage  \\\n",
       "0  903401020       1820     184000  MSSubClass_50       RL         60.0   \n",
       "1  909100080       1296     104000  MSSubClass_30       RL         67.0   \n",
       "2  531385020       1434     189000  MSSubClass_20       RL         65.0   \n",
       "3  907130110       1499     187000  MSSubClass_60       RL         65.0   \n",
       "4  924152030       1797     231000  MSSubClass_60       RL         74.0   \n",
       "\n",
       "   LotArea Street  Alley LotShape  ... ScreenPorch PoolArea PoolQC  Fence  \\\n",
       "0     9120   Pave      2      Reg  ...           0        0      0  GdPrv   \n",
       "1     4853   Pave      0      Reg  ...           0        0      0  MnPrv   \n",
       "2     8529   Pave      0      IR1  ...           0        0      0   None   \n",
       "3    12438   Pave      0      IR1  ...           0        0      0   None   \n",
       "4    12961   Pave      0      Reg  ...           0        0      0   None   \n",
       "\n",
       "  MiscFeature MiscVal MoSold YrSold SaleType  SaleCondition  \n",
       "0        None       0      6   2008      WD          Normal  \n",
       "1        None       0      5   2010      WD          Normal  \n",
       "2        None       0      4   2009      WD          Normal  \n",
       "3        None       0      8   2006      WD          Normal  \n",
       "4        None       0      3   2010      WD          Normal  \n",
       "\n",
       "[5 rows x 81 columns]"
      ]
     },
     "execution_count": 15,
     "metadata": {},
     "output_type": "execute_result"
    }
   ],
   "source": [
    "test.head()"
   ]
  },
  {
   "cell_type": "code",
   "execution_count": 16,
   "id": "80a34cd4",
   "metadata": {},
   "outputs": [
    {
     "data": {
      "text/plain": [
       "[]"
      ]
     },
     "execution_count": 16,
     "metadata": {},
     "output_type": "execute_result"
    }
   ],
   "source": [
    "cols_na = test.loc[:,test.isna().any(axis=0)].columns.to_list()\n",
    "cols_na"
   ]
  },
  {
   "cell_type": "code",
   "execution_count": 17,
   "id": "5a54da54",
   "metadata": {
    "scrolled": true
   },
   "outputs": [
    {
     "data": {
      "text/plain": [
       "0.8044723701956606"
      ]
     },
     "execution_count": 17,
     "metadata": {},
     "output_type": "execute_result"
    }
   ],
   "source": [
    "X_tst = test.drop(['SalePrice','TotalBsmtSF'],axis=1)\n",
    "X_tst = transformer.transform(X_tst)\n",
    "y_tst = np.log(test['SalePrice'])\n",
    "ols.score(X_tst, y_tst)"
   ]
  },
  {
   "cell_type": "code",
   "execution_count": 18,
   "id": "527227a8",
   "metadata": {},
   "outputs": [],
   "source": [
    "# 0.9533403078902463"
   ]
  },
  {
   "cell_type": "code",
   "execution_count": 19,
   "id": "fb311249",
   "metadata": {},
   "outputs": [
    {
     "data": {
      "text/plain": [
       "0.5361242929283243"
      ]
     },
     "execution_count": 19,
     "metadata": {},
     "output_type": "execute_result"
    }
   ],
   "source": [
    "X = train[['GrLivArea']]\n",
    "y = np.log(train['SalePrice'])\n",
    "ols.fit(X, y)\n",
    "ols.score(X, y)"
   ]
  },
  {
   "cell_type": "code",
   "execution_count": 20,
   "id": "a3b2069b",
   "metadata": {},
   "outputs": [
    {
     "data": {
      "text/plain": [
       "0.5052486795731859"
      ]
     },
     "execution_count": 20,
     "metadata": {},
     "output_type": "execute_result"
    }
   ],
   "source": [
    "X_tst = test[['GrLivArea']]\n",
    "y_tst = np.log(test['SalePrice'])\n",
    "ols.score(X_tst, y_tst)"
   ]
  },
  {
   "cell_type": "code",
   "execution_count": 21,
   "id": "20e0b9a7",
   "metadata": {},
   "outputs": [],
   "source": [
    "num_cols = train.select_dtypes(['float64','int64']).columns.to_list()"
   ]
  },
  {
   "cell_type": "code",
   "execution_count": 22,
   "id": "fdf6dd87",
   "metadata": {},
   "outputs": [
    {
     "data": {
      "text/plain": [
       "['PID',\n",
       " 'GrLivArea',\n",
       " 'SalePrice',\n",
       " 'LotFrontage',\n",
       " 'LotArea',\n",
       " 'Alley',\n",
       " 'OverallQual',\n",
       " 'OverallCond',\n",
       " 'YearBuilt',\n",
       " 'YearRemodAdd',\n",
       " 'MasVnrArea',\n",
       " 'ExterQual',\n",
       " 'ExterCond',\n",
       " 'BsmtQual',\n",
       " 'BsmtCond',\n",
       " 'BsmtExposure',\n",
       " 'BsmtFinSF1',\n",
       " 'BsmtFinSF2',\n",
       " 'BsmtUnfSF',\n",
       " 'TotalBsmtSF',\n",
       " 'HeatingQC',\n",
       " '1stFlrSF',\n",
       " '2ndFlrSF',\n",
       " 'LowQualFinSF',\n",
       " 'BsmtFullBath',\n",
       " 'BsmtHalfBath',\n",
       " 'FullBath',\n",
       " 'HalfBath',\n",
       " 'BedroomAbvGr',\n",
       " 'KitchenAbvGr',\n",
       " 'KitchenQual',\n",
       " 'TotRmsAbvGrd',\n",
       " 'Fireplaces',\n",
       " 'FireplaceQu',\n",
       " 'GarageYrBlt',\n",
       " 'GarageFinish',\n",
       " 'GarageCars',\n",
       " 'GarageArea',\n",
       " 'GarageQual',\n",
       " 'GarageCond',\n",
       " 'PavedDrive',\n",
       " 'WoodDeckSF',\n",
       " 'OpenPorchSF',\n",
       " 'EnclosedPorch',\n",
       " '3SsnPorch',\n",
       " 'ScreenPorch',\n",
       " 'PoolArea',\n",
       " 'PoolQC',\n",
       " 'MiscVal',\n",
       " 'MoSold',\n",
       " 'YrSold']"
      ]
     },
     "execution_count": 22,
     "metadata": {},
     "output_type": "execute_result"
    }
   ],
   "source": [
    "num_cols"
   ]
  },
  {
   "cell_type": "code",
   "execution_count": 23,
   "id": "4f92255b",
   "metadata": {},
   "outputs": [
    {
     "data": {
      "text/plain": [
       "0.9290816310107534"
      ]
     },
     "execution_count": 23,
     "metadata": {},
     "output_type": "execute_result"
    }
   ],
   "source": [
    "num_cols.remove('SalePrice')\n",
    "X = train.loc[:,num_cols]\n",
    "y = np.log(train['SalePrice'])\n",
    "ols.fit(X, y)\n",
    "ols.score(X, y)"
   ]
  },
  {
   "cell_type": "code",
   "execution_count": 24,
   "id": "abeb6dd5",
   "metadata": {},
   "outputs": [
    {
     "data": {
      "text/plain": [
       "0.8848845580368826"
      ]
     },
     "execution_count": 24,
     "metadata": {},
     "output_type": "execute_result"
    }
   ],
   "source": [
    "X_t = test.loc[:,num_cols]\n",
    "y_t = np.log(test['SalePrice'])\n",
    "ols.score(X_t, y_t)"
   ]
  },
  {
   "cell_type": "code",
   "execution_count": 25,
   "id": "6bb3aa81",
   "metadata": {},
   "outputs": [
    {
     "data": {
      "text/plain": [
       "0.9420283906232196"
      ]
     },
     "execution_count": 25,
     "metadata": {},
     "output_type": "execute_result"
    }
   ],
   "source": [
    "X = train.loc[:,num_cols+['Neighborhood']]\n",
    "transformer = ColumnTransformer([(\"Cat\", OneHotEncoder(handle_unknown = 'ignore'), ['Neighborhood'])], remainder='passthrough')\n",
    "X = transformer.fit_transform(X)\n",
    "y = np.log(train['SalePrice'])\n",
    "ols.fit(X, y)\n",
    "ols.score(X, y)"
   ]
  },
  {
   "cell_type": "code",
   "execution_count": 26,
   "id": "38d83855",
   "metadata": {},
   "outputs": [
    {
     "data": {
      "text/plain": [
       "0.8995024460606353"
      ]
     },
     "execution_count": 26,
     "metadata": {},
     "output_type": "execute_result"
    }
   ],
   "source": [
    "X = test.loc[:,num_cols+['Neighborhood']]\n",
    "X = transformer.transform(X)\n",
    "y = np.log(test['SalePrice'])\n",
    "ols.score(X, y)"
   ]
  },
  {
   "cell_type": "code",
   "execution_count": 27,
   "id": "10be623d",
   "metadata": {},
   "outputs": [],
   "source": [
    "def simple_linear_model_score(train, test, cols, target):\n",
    "    ols = linear_model.LinearRegression()\n",
    "    X = train[cols]\n",
    "    cat_feats = X.select_dtypes(['object','bool']).columns.to_list()\n",
    "    transformer = ColumnTransformer([(\"Cat\", OneHotEncoder(handle_unknown = 'ignore'), cat_feats)], remainder='passthrough')\n",
    "    X = transformer.fit_transform(X)\n",
    "    y = np.log(train[target])\n",
    "    \n",
    "    ols.fit(X, y)\n",
    "    train_score = ols.score(X, y)\n",
    "    \n",
    "    X_tst = test[cols]\n",
    "    X_tst = transformer.transform(X_tst)\n",
    "    y_tst = np.log(test[target])\n",
    "    test_score = ols.score(X_tst, y_tst)\n",
    "    \n",
    "    return train_score, test_score"
   ]
  },
  {
   "cell_type": "code",
   "execution_count": 28,
   "id": "29971005",
   "metadata": {},
   "outputs": [
    {
     "name": "stdout",
     "output_type": "stream",
     "text": [
      "0.5361242929283243\n",
      "0.5052486795731859\n"
     ]
    }
   ],
   "source": [
    "train_score, test_score = simple_linear_model_score(train,test,['GrLivArea'],'SalePrice')\n",
    "print(train_score)\n",
    "print(test_score)"
   ]
  },
  {
   "cell_type": "code",
   "execution_count": 29,
   "id": "26f3fa2f",
   "metadata": {},
   "outputs": [],
   "source": [
    "fav_cat = ['YearBuilt', 'ExterQual', 'Neighborhood', 'KitchenQual']"
   ]
  },
  {
   "cell_type": "code",
   "execution_count": 30,
   "id": "312eadec",
   "metadata": {},
   "outputs": [
    {
     "data": {
      "text/plain": [
       "(0.9420285807108666, 0.8994953295914224)"
      ]
     },
     "execution_count": 30,
     "metadata": {},
     "output_type": "execute_result"
    }
   ],
   "source": [
    "simple_linear_model_score(train, test, num_cols + fav_cat, 'SalePrice')"
   ]
  },
  {
   "cell_type": "code",
   "execution_count": 31,
   "id": "63945044",
   "metadata": {},
   "outputs": [
    {
     "data": {
      "text/plain": [
       "(0.8691553437921314, 0.8278855701677815)"
      ]
     },
     "execution_count": 31,
     "metadata": {},
     "output_type": "execute_result"
    }
   ],
   "source": [
    "top_9 = ['OverallQual', 'GrLivArea', 'ExterQual', 'KitchenQual',\n",
    "       'TotalBsmtSF', '1stFlrSF', 'GarageArea', 'GarageCars', 'BsmtQual']\n",
    "simple_linear_model_score(train, test, top_9, 'SalePrice')"
   ]
  },
  {
   "cell_type": "code",
   "execution_count": 32,
   "id": "027c929f",
   "metadata": {},
   "outputs": [
    {
     "name": "stdout",
     "output_type": "stream",
     "text": [
      "GrLivArea\n",
      "(0.5361242929283243, 0.5052486795731859)\n",
      "ExterQual\n",
      "(0.7034962809602388, 0.6644905975921633)\n",
      "TotalBsmtSF\n",
      "(0.7792598241555013, 0.7229657933399387)\n",
      "KitchenQual\n",
      "(0.7974247390402703, 0.7489550650148744)\n",
      "1stFlrSF\n",
      "(0.7975069805128663, 0.7497354661616471)\n",
      "GarageArea\n",
      "(0.8182544807598195, 0.779205489561503)\n",
      "GarageCars\n",
      "(0.8229613212881246, 0.7862240548493213)\n",
      "BsmtQual\n",
      "(0.8367316241545875, 0.8093688234853456)\n",
      "YearBuilt\n",
      "(0.8496799637760847, 0.8201252110298075)\n",
      "FullBath\n",
      "(0.8515427358211811, 0.8194532379214836)\n",
      "GarageFinish\n",
      "(0.8546721816101726, 0.8239315804336104)\n",
      "FireplaceQu\n",
      "(0.862791589110423, 0.8355690508933211)\n",
      "MasVnrArea\n",
      "(0.863014924192381, 0.8357178472479138)\n",
      "TotRmsAbvGrd\n",
      "(0.8634271653730479, 0.8341419606401707)\n",
      "YearRemodAdd\n",
      "(0.8695869148482882, 0.8386413512424243)\n",
      "Fireplaces\n",
      "(0.8735302259811796, 0.8403365999459429)\n",
      "BsmtFinSF1\n",
      "(0.8805143918287985, 0.8482424745087166)\n",
      "HeatingQC\n",
      "(0.8819825209355477, 0.8512038129217325)\n",
      "BsmtExposure\n",
      "(0.8837381955399547, 0.8524812209245907)\n",
      "LotFrontage\n",
      "(0.886730870495398, 0.8548446790680634)\n",
      "WoodDeckSF\n",
      "(0.8868047028906969, 0.8554065023688026)\n",
      "OpenPorchSF\n",
      "(0.8868612716683469, 0.8552851534535748)\n",
      "HalfBath\n",
      "(0.886883163408948, 0.8556627406789722)\n",
      "BsmtFullBath\n",
      "(0.8869743676682755, 0.8560963662911645)\n",
      "LotArea\n",
      "(0.8881865864459205, 0.8544190453660485)\n",
      "2ndFlrSF\n",
      "(0.8886235291245643, 0.8542595628385624)\n",
      "GarageQual\n",
      "(0.8907916226465491, 0.856544759837957)\n",
      "PavedDrive\n",
      "(0.8938717581605865, 0.8588246373933198)\n",
      "GarageCond\n",
      "(0.8941509212619154, 0.8596414422924247)\n",
      "GarageYrBlt\n",
      "(0.8949157138028354, 0.8590126484796159)\n",
      "BsmtCond\n",
      "(0.8950863908007834, 0.8595581140569745)\n",
      "BsmtUnfSF\n",
      "(0.8952749499518509, 0.8596682334222788)\n",
      "BedroomAbvGr\n",
      "(0.8955718473438916, 0.8590871212488155)\n",
      "ScreenPorch\n",
      "(0.8966450390376742, 0.8618080137911743)\n",
      "PoolQC\n",
      "(0.8966498282230969, 0.8618803405059996)\n",
      "PoolArea\n",
      "(0.8968327378808116, 0.861959275587816)\n",
      "YrSold\n",
      "(0.8969915500000273, 0.8621040511102986)\n",
      "BsmtFinSF2\n",
      "(0.8969915500000273, 0.8621040511102744)\n",
      "3SsnPorch\n",
      "(0.8970867615213393, 0.8622403500594918)\n",
      "ExterCond\n",
      "(0.8974605662127457, 0.8637890930134755)\n",
      "MoSold\n",
      "(0.897464391303063, 0.8638200421464576)\n",
      "MiscVal\n",
      "(0.8974695351316921, 0.8638613618432454)\n",
      "LowQualFinSF\n",
      "(0.8974695351316923, 0.8638613618431711)\n",
      "BsmtHalfBath\n",
      "(0.8975133980019672, 0.8638769131891589)\n",
      "Alley\n",
      "(0.8977233988283987, 0.8635147679933722)\n",
      "OverallCond\n",
      "(0.9119801058748869, 0.870308399056246)\n",
      "KitchenAbvGr\n",
      "(0.9138459324455738, 0.8716522368254509)\n",
      "EnclosedPorch\n",
      "(0.9145169532048038, 0.8711878087925697)\n",
      "PID\n",
      "(0.9146036935066741, 0.8714409177729507)\n"
     ]
    }
   ],
   "source": [
    "k=100\n",
    "cols = train.corr().nlargest(k, 'SalePrice')['SalePrice'].index\n",
    "cols = cols[1:]\n",
    "for num_features in range(1,len(cols)):\n",
    "    print(cols[num_features])\n",
    "    print(simple_linear_model_score(train, test, cols[1:1+num_features], 'SalePrice'))"
   ]
  },
  {
   "cell_type": "code",
   "execution_count": 33,
   "id": "e3284839",
   "metadata": {},
   "outputs": [],
   "source": [
    "scaler = StandardScaler(with_mean=False)"
   ]
  },
  {
   "cell_type": "code",
   "execution_count": 34,
   "id": "8fe4f8b4",
   "metadata": {
    "scrolled": true
   },
   "outputs": [
    {
     "data": {
      "text/plain": [
       "0.735520076397353"
      ]
     },
     "execution_count": 34,
     "metadata": {},
     "output_type": "execute_result"
    }
   ],
   "source": [
    "X = train.drop(['SalePrice', 'TotalBsmtSF'],axis=1)\n",
    "\n",
    "transformer = ColumnTransformer([(\"Cat\", OneHotEncoder(handle_unknown = 'ignore'), cat_feats)], remainder='passthrough')\n",
    "X = transformer.fit_transform(X)\n",
    "\n",
    "X = scaler.fit_transform(X)\n",
    "\n",
    "y = np.log(train['SalePrice'])\n",
    "\n",
    "lasso = linear_model.Lasso(alpha=0.1)\n",
    "\n",
    "lasso.fit(X, y)\n",
    "lasso.score(X, y)"
   ]
  },
  {
   "cell_type": "code",
   "execution_count": 35,
   "id": "675149fd",
   "metadata": {},
   "outputs": [
    {
     "data": {
      "text/plain": [
       "0.8596901489956692"
      ]
     },
     "execution_count": 35,
     "metadata": {},
     "output_type": "execute_result"
    }
   ],
   "source": [
    "X = train.drop(['SalePrice', 'TotalBsmtSF'],axis=1)\n",
    "\n",
    "transformer = ColumnTransformer([(\"Cat\", OneHotEncoder(handle_unknown = 'ignore'), cat_feats)], remainder='passthrough')\n",
    "X = transformer.fit_transform(X)\n",
    "\n",
    "X = scaler.fit_transform(X)\n",
    "\n",
    "y = np.log(train['SalePrice'])\n",
    "\n",
    "lasso = linear_model.Lasso(alpha=0.1)\n",
    "\n",
    "selector = SelectFromModel(estimator=lasso)\n",
    "\n",
    "X = selector.fit_transform(X, y)\n",
    "\n",
    "ols.fit(X,y)\n",
    "ols.score(X,y)"
   ]
  },
  {
   "cell_type": "code",
   "execution_count": 36,
   "id": "e21d6ea8",
   "metadata": {},
   "outputs": [
    {
     "data": {
      "text/plain": [
       "(0.8596901489956691, 0.818522716203596)"
      ]
     },
     "execution_count": 36,
     "metadata": {},
     "output_type": "execute_result"
    }
   ],
   "source": [
    "X = train.drop(['SalePrice', 'TotalBsmtSF'],axis=1)\n",
    "\n",
    "transformer = ColumnTransformer([(\"Cat\", OneHotEncoder(handle_unknown = 'ignore'), cat_feats)], remainder='passthrough')\n",
    "X = transformer.fit_transform(X)\n",
    "\n",
    "feat_names = transformer.get_feature_names()\n",
    "\n",
    "X = scaler.fit_transform(X)\n",
    "\n",
    "y = np.log(train['SalePrice'])\n",
    "\n",
    "lasso = linear_model.Lasso(alpha=0.1)\n",
    "\n",
    "selector = SelectFromModel(estimator=lasso)\n",
    "\n",
    "X = selector.fit_transform(X, y)\n",
    "\n",
    "mask = selector.get_support()\n",
    "\n",
    "lasso_feats = [a for a, b in zip(feat_names, mask) if b]\n",
    "simple_linear_model_score(train, test, lasso_feats, 'SalePrice')\n"
   ]
  },
  {
   "cell_type": "markdown",
   "id": "e53f35e2",
   "metadata": {},
   "source": [
    "we have feature selector. "
   ]
  },
  {
   "cell_type": "code",
   "execution_count": 37,
   "id": "730ddeb8",
   "metadata": {},
   "outputs": [
    {
     "data": {
      "text/plain": [
       "5"
      ]
     },
     "execution_count": 37,
     "metadata": {},
     "output_type": "execute_result"
    }
   ],
   "source": [
    "len(lasso_feats)"
   ]
  },
  {
   "cell_type": "markdown",
   "id": "e52a015e",
   "metadata": {},
   "source": [
    "## work here lasso test alpha"
   ]
  },
  {
   "cell_type": "markdown",
   "id": "729fb87f",
   "metadata": {},
   "source": [
    "at a stopping point of confusion. I don't know how to do a transformer on the test dataset well enough with this lasso."
   ]
  },
  {
   "cell_type": "code",
   "execution_count": 38,
   "id": "74bc7b66",
   "metadata": {
    "scrolled": true
   },
   "outputs": [
    {
     "data": {
      "text/plain": [
       "<624x18 sparse matrix of type '<class 'numpy.float64'>'\n",
       "\twith 6806 stored elements in Compressed Sparse Row format>"
      ]
     },
     "execution_count": 38,
     "metadata": {},
     "output_type": "execute_result"
    }
   ],
   "source": [
    "X = train.drop(['SalePrice', 'TotalBsmtSF'],axis=1)\n",
    "\n",
    "transformer = ColumnTransformer([(\"Cat\", OneHotEncoder(handle_unknown = 'ignore'), cat_feats)], remainder='passthrough')\n",
    "X = transformer.fit_transform(X)\n",
    "\n",
    "feat_names = transformer.get_feature_names()\n",
    "\n",
    "X = scaler.fit_transform(X)\n",
    "\n",
    "y = np.log(train['SalePrice'])\n",
    "\n",
    "lasso = linear_model.Lasso(alpha=0.05)\n",
    "\n",
    "selector = SelectFromModel(estimator=lasso)\n",
    "\n",
    "X = selector.fit_transform(X, y)\n",
    "\n",
    "mask = selector.get_support()\n",
    "\n",
    "lasso_feats=[a for a, b in zip(feat_names, mask) if b]\n",
    "\n",
    "X_tst = test.drop(['SalePrice', 'TotalBsmtSF'],axis=1)\n",
    "X_tst = transformer.transform(X_tst)\n",
    "y_test = np.log(test['SalePrice'])\n",
    "selector.fit_transform(X_tst, y_test)\n",
    " \n",
    "    "
   ]
  },
  {
   "cell_type": "code",
   "execution_count": 45,
   "id": "26b112b1",
   "metadata": {},
   "outputs": [
    {
     "data": {
      "text/plain": [
       "['Cat__x1_RM',\n",
       " 'GrLivArea',\n",
       " 'OverallQual',\n",
       " 'YearRemodAdd',\n",
       " 'ExterQual',\n",
       " 'BsmtQual',\n",
       " 'BsmtFinSF1',\n",
       " '1stFlrSF',\n",
       " 'Fireplaces',\n",
       " 'GarageFinish',\n",
       " 'GarageArea']"
      ]
     },
     "execution_count": 45,
     "metadata": {},
     "output_type": "execute_result"
    }
   ],
   "source": [
    "lasso_feats"
   ]
  },
  {
   "cell_type": "code",
   "execution_count": 44,
   "id": "b1963473",
   "metadata": {},
   "outputs": [
    {
     "data": {
      "text/plain": [
       "0.9628237038843959"
      ]
     },
     "execution_count": 44,
     "metadata": {},
     "output_type": "execute_result"
    }
   ],
   "source": [
    "# X_tst = test.drop(['SalePrice', 'TotalBsmtSF'],axis=1)\n",
    "# X_tst = transformer.transform(X_tst)\n",
    "# y_test = np.log(test['SalePrice'])\n",
    "# X_tst = selector.fit_transform(X_tst, y_test)\n",
    "\n",
    "ols.fit(X,y)\n",
    "ols.score(X,y)\n",
    "# ols.score(X_tst,y_test)\n",
    "# lasso.fit(X, y)\n",
    "# lasso.score(X, y)\n",
    "# lasso.score(X_tst,y_test)\n"
   ]
  },
  {
   "cell_type": "code",
   "execution_count": 40,
   "id": "057b490d",
   "metadata": {},
   "outputs": [
    {
     "data": {
      "text/plain": [
       "0.9036774202856266"
      ]
     },
     "execution_count": 40,
     "metadata": {},
     "output_type": "execute_result"
    }
   ],
   "source": [
    "X = train.drop(['SalePrice', 'TotalBsmtSF'],axis=1)\n",
    "\n",
    "transformer = ColumnTransformer([(\"Cat\", OneHotEncoder(handle_unknown = 'ignore'), cat_feats)], remainder='passthrough')\n",
    "X = transformer.fit_transform(X)\n",
    "\n",
    "X = scaler.fit_transform(X)\n",
    "\n",
    "y = np.log(train['SalePrice'])\n",
    "\n",
    "lasso = linear_model.Lasso(alpha=0.05)\n",
    "\n",
    "selector = SelectFromModel(estimator=lasso)\n",
    "\n",
    "X = selector.fit_transform(X, y)\n",
    "\n",
    "ols.fit(X,y)\n",
    "ols.score(X,y)"
   ]
  },
  {
   "cell_type": "code",
   "execution_count": 41,
   "id": "9a364977",
   "metadata": {},
   "outputs": [
    {
     "data": {
      "text/plain": [
       "0.8552536493265849"
      ]
     },
     "execution_count": 41,
     "metadata": {},
     "output_type": "execute_result"
    }
   ],
   "source": [
    "X = train.drop(['SalePrice', 'TotalBsmtSF'],axis=1)\n",
    "\n",
    "transformer = ColumnTransformer([(\"Cat\", OneHotEncoder(handle_unknown = 'ignore'), cat_feats)], remainder='passthrough')\n",
    "X = transformer.fit_transform(X)\n",
    "\n",
    "X = scaler.fit_transform(X)\n",
    "\n",
    "y = np.log(train['SalePrice'])\n",
    "\n",
    "lasso = linear_model.Lasso(alpha=0.05)\n",
    "\n",
    "lasso.fit(X,y)\n",
    "lasso.score(X,y)"
   ]
  },
  {
   "cell_type": "code",
   "execution_count": 42,
   "id": "95c24962",
   "metadata": {},
   "outputs": [
    {
     "data": {
      "text/plain": [
       "'BsmtFinType2'"
      ]
     },
     "execution_count": 42,
     "metadata": {},
     "output_type": "execute_result"
    }
   ],
   "source": [
    "cat_feats[20]"
   ]
  }
 ],
 "metadata": {
  "kernelspec": {
   "display_name": "Python 3",
   "language": "python",
   "name": "python3"
  },
  "language_info": {
   "codemirror_mode": {
    "name": "ipython",
    "version": 3
   },
   "file_extension": ".py",
   "mimetype": "text/x-python",
   "name": "python",
   "nbconvert_exporter": "python",
   "pygments_lexer": "ipython3",
   "version": "3.8.8"
  }
 },
 "nbformat": 4,
 "nbformat_minor": 5
}
