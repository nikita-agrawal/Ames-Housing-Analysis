{
 "cells": [
  {
   "cell_type": "code",
   "execution_count": 1,
   "id": "13111aac",
   "metadata": {},
   "outputs": [],
   "source": [
    "import pandas as pd\n",
    "import numpy as np\n",
    "import matplotlib.pyplot as plt\n",
    "import seaborn as sns\n",
    "import matplotlib.style as style\n",
    "style.use('fivethirtyeight')\n",
    "import helper # my function that i added"
   ]
  },
  {
   "cell_type": "code",
   "execution_count": 3,
   "id": "acde6de9",
   "metadata": {},
   "outputs": [],
   "source": [
    "housing = pd.read_csv('Ames_Housing_Price_Data.csv', index_col=0,low_memory = False)\n",
    "location = pd.read_csv('Ames_Real_Estate_Data.csv', low_memory=False)\n",
    "\n",
    "# train, test = helper.stratified_split(housing,'Neighborhood')"
   ]
  },
  {
   "cell_type": "markdown",
   "id": "6a1957f9",
   "metadata": {},
   "source": [
    "looking at columns of the location column. not a lot of things that are useful."
   ]
  },
  {
   "cell_type": "code",
   "execution_count": 4,
   "id": "6f3eded1",
   "metadata": {},
   "outputs": [
    {
     "ename": "NameError",
     "evalue": "name 'PID_list' is not defined",
     "output_type": "error",
     "traceback": [
      "\u001b[0;31m---------------------------------------------------------------------------\u001b[0m",
      "\u001b[0;31mNameError\u001b[0m                                 Traceback (most recent call last)",
      "\u001b[0;32m<ipython-input-4-e33030ea2df2>\u001b[0m in \u001b[0;36m<module>\u001b[0;34m\u001b[0m\n\u001b[1;32m      1\u001b[0m \u001b[0mlocation\u001b[0m \u001b[0;34m=\u001b[0m \u001b[0mlocation\u001b[0m\u001b[0;34m[\u001b[0m\u001b[0;34m[\u001b[0m\u001b[0;34m'MapRefNo'\u001b[0m\u001b[0;34m,\u001b[0m \u001b[0;34m'Prop_Addr'\u001b[0m\u001b[0;34m,\u001b[0m \u001b[0;34m'MA_City'\u001b[0m\u001b[0;34m,\u001b[0m \u001b[0;34m'MA_State'\u001b[0m\u001b[0;34m,\u001b[0m \u001b[0;34m'MA_Zip1'\u001b[0m\u001b[0;34m]\u001b[0m\u001b[0;34m]\u001b[0m\u001b[0;34m\u001b[0m\u001b[0;34m\u001b[0m\u001b[0m\n\u001b[0;32m----> 2\u001b[0;31m \u001b[0mlocation\u001b[0m \u001b[0;34m=\u001b[0m \u001b[0mlocation\u001b[0m\u001b[0;34m[\u001b[0m\u001b[0mlocation\u001b[0m\u001b[0;34m[\u001b[0m\u001b[0;34m'MapRefNo'\u001b[0m\u001b[0;34m]\u001b[0m\u001b[0;34m.\u001b[0m\u001b[0misin\u001b[0m\u001b[0;34m(\u001b[0m\u001b[0mPID_list\u001b[0m\u001b[0;34m)\u001b[0m\u001b[0;34m]\u001b[0m\u001b[0;34m\u001b[0m\u001b[0;34m\u001b[0m\u001b[0m\n\u001b[0m\u001b[1;32m      3\u001b[0m \u001b[0mlocation\u001b[0m\u001b[0;34m.\u001b[0m\u001b[0mdrop_duplicates\u001b[0m\u001b[0;34m(\u001b[0m\u001b[0minplace\u001b[0m\u001b[0;34m=\u001b[0m\u001b[0;32mTrue\u001b[0m\u001b[0;34m)\u001b[0m\u001b[0;34m\u001b[0m\u001b[0;34m\u001b[0m\u001b[0m\n\u001b[1;32m      4\u001b[0m \u001b[0mlocation\u001b[0m \u001b[0;34m=\u001b[0m \u001b[0mlocation\u001b[0m\u001b[0;34m.\u001b[0m\u001b[0mreset_index\u001b[0m\u001b[0;34m(\u001b[0m\u001b[0mdrop\u001b[0m\u001b[0;34m=\u001b[0m\u001b[0;32mTrue\u001b[0m\u001b[0;34m)\u001b[0m\u001b[0;34m\u001b[0m\u001b[0;34m\u001b[0m\u001b[0m\n\u001b[1;32m      5\u001b[0m \u001b[0mlocation\u001b[0m\u001b[0;34m.\u001b[0m\u001b[0mloc\u001b[0m\u001b[0;34m[\u001b[0m\u001b[0;34m:\u001b[0m\u001b[0;34m,\u001b[0m\u001b[0;34m'latitude'\u001b[0m\u001b[0;34m]\u001b[0m \u001b[0;34m=\u001b[0m \u001b[0;34m-\u001b[0m\u001b[0;36m1\u001b[0m\u001b[0;34m\u001b[0m\u001b[0;34m\u001b[0m\u001b[0m\n",
      "\u001b[0;31mNameError\u001b[0m: name 'PID_list' is not defined"
     ]
    }
   ],
   "source": [
    "location = location[['MapRefNo', 'Prop_Addr', 'MA_City', 'MA_State', 'MA_Zip1']]\n",
    "PID_list = list(housing.PID.unique())\n",
    "location = location[location['MapRefNo'].isin(PID_list)]\n",
    "location.drop_duplicates(inplace=True)\n",
    "location = location.reset_index(drop=True)\n",
    "location.loc[:,'latitude'] = -1\n",
    "location.loc[:,'longitude'] = -1\n",
    "\n"
   ]
  },
  {
   "cell_type": "code",
   "execution_count": null,
   "id": "7c2fd992",
   "metadata": {},
   "outputs": [],
   "source": [
    "# import geopy\n",
    "# from geopy import Nominatim\n",
    "\n",
    "from geopy.geocoders import Nominatim\n",
    "from geopy.extra.rate_limiter import RateLimiter\n",
    "\n"
   ]
  },
  {
   "cell_type": "code",
   "execution_count": null,
   "id": "adcc1c2a",
   "metadata": {},
   "outputs": [],
   "source": [
    "locator = Nominatim(user_agent=\"ames_location\")\n",
    "geocode = RateLimiter(locator.geocode, min_delay_seconds=1)\n",
    "problem_map_ref = []\n",
    "location.loc[:,'MA_Zip1'] = location.loc[:,'MA_Zip1'].fillna(value=0)\n",
    "for house in location.index:\n",
    "    address = (str(location.loc[house,'Prop_Addr']) + ', ' + \n",
    "        str(location.loc[house,'MA_City']) + ', ' + \n",
    "        str(location.loc[house,'MA_State']) + ' ' +\n",
    "        str(int(location.loc[house,'MA_Zip1'])))\n",
    "    geolocator = Nominatim(user_agent=\"ames_location\")\n",
    "    geocode = RateLimiter(geolocator.geocode, min_delay_seconds=1)\n",
    "    loc = geolocator.geocode(address)\n",
    "    try:\n",
    "        location.loc[house,'latitude'] = loc.latitude\n",
    "        location.loc[house,'longitude'] = loc.longitude\n",
    "        print(location.loc[house,'Prop_Addr'])\n",
    "    except:\n",
    "        print(f\"{location.loc[house,'Prop_Addr']} is a problem.\")\n",
    "        problem_map_ref.append(location.loc[house,'MapRefNo'])\n"
   ]
  },
  {
   "cell_type": "code",
   "execution_count": null,
   "id": "7b1f2418",
   "metadata": {},
   "outputs": [],
   "source": [
    "location.to_csv('location_lat_long.csv')\n"
   ]
  }
 ],
 "metadata": {
  "kernelspec": {
   "display_name": "Python 3",
   "language": "python",
   "name": "python3"
  },
  "language_info": {
   "codemirror_mode": {
    "name": "ipython",
    "version": 3
   },
   "file_extension": ".py",
   "mimetype": "text/x-python",
   "name": "python",
   "nbconvert_exporter": "python",
   "pygments_lexer": "ipython3",
   "version": "3.8.8"
  }
 },
 "nbformat": 4,
 "nbformat_minor": 5
}
