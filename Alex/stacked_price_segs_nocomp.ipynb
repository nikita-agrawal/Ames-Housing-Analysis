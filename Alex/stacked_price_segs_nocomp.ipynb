{
 "cells": [
  {
   "cell_type": "code",
   "execution_count": 1,
   "metadata": {},
   "outputs": [],
   "source": [
    "import pandas as pd\n",
    "import numpy as np\n",
    "from sklearn import linear_model\n",
    "from sklearn.linear_model import LinearRegression\n",
    "from sklearn.linear_model import Ridge\n",
    "from sklearn.linear_model import Lasso\n",
    "from sklearn.preprocessing import OneHotEncoder\n",
    "from sklearn.compose import ColumnTransformer\n",
    "from sklearn.cluster import KMeans\n",
    "from sklearn.metrics import silhouette_samples, silhouette_score\n",
    "from sklearn.preprocessing import StandardScaler\n",
    "from sklearn.feature_selection import SelectFromModel\n",
    "from sklearn.model_selection import ShuffleSplit\n",
    "from sklearn.model_selection import cross_val_score\n",
    "from sklearn.model_selection import RepeatedKFold\n",
    "from sklearn.model_selection import GridSearchCV\n",
    "from sklearn.pipeline import Pipeline\n",
    "from scipy import stats\n",
    "import xgboost as xgb\n",
    "import matplotlib.pyplot as plt\n",
    "import seaborn as sns\n",
    "import matplotlib.style as style\n",
    "style.use('fivethirtyeight')\n",
    "import matplotlib.cm as cm\n",
    "import helper"
   ]
  },
  {
   "cell_type": "code",
   "execution_count": 2,
   "metadata": {},
   "outputs": [],
   "source": [
    "colors = [\"#FF0B04\", \"#F1BE48\",\n",
    "           \"#B9975B\", \"#8B5B29\",\n",
    "           \"#524727\",\n",
    "         ]\n",
    "sns.set_palette(sns.color_palette(colors))"
   ]
  },
  {
   "cell_type": "code",
   "execution_count": 3,
   "metadata": {},
   "outputs": [],
   "source": [
    "df = pd.read_csv('Ames_Housing_Price_Data.csv', \n",
    "                             index_col=0,low_memory = False)"
   ]
  },
  {
   "cell_type": "code",
   "execution_count": 4,
   "metadata": {},
   "outputs": [],
   "source": [
    "train, test = helper.data_processing_wrapper(df, num_to_cat_list=[], remove_PID=False)"
   ]
  },
  {
   "cell_type": "code",
   "execution_count": 5,
   "metadata": {},
   "outputs": [],
   "source": [
    "categorical = ['MSZoning', 'MSSubClass','Street','Alley','LotShape','LandContour','LotConfig',\n",
    "               'LandSlope','Neighborhood','Condition1','Condition2','BldgType','HouseStyle',\n",
    "               'RoofStyle','Foundation', 'BsmtFinType1','BsmtFinType2','Heating','GarageType',\n",
    "               'GarageFinish','PavedDrive','MiscFeature','SaleType','SaleCondition',\n",
    "               'BedroomAbvGr', 'CentralAir', 'Utilities', 'RoofMatl', 'Exterior1st',\n",
    "               'Exterior2nd', 'MasVnrType', 'Electrical', 'Functional', 'Fence','KitchenAbvGr',\n",
    "               'MoSold','YrSold'\n",
    "              ]"
   ]
  },
  {
   "cell_type": "code",
   "execution_count": 6,
   "metadata": {},
   "outputs": [],
   "source": [
    "train['LogSalePrice'] = np.log(train['SalePrice'])\n",
    "test['LogSalePrice'] = np.log(test['SalePrice'])"
   ]
  },
  {
   "cell_type": "code",
   "execution_count": 7,
   "metadata": {},
   "outputs": [],
   "source": [
    "nhds = train.groupby('Neighborhood').median()[['LogSalePrice']]\n",
    "nhds['LogSalePrice'] = stats.zscore(nhds['LogSalePrice'])"
   ]
  },
  {
   "cell_type": "code",
   "execution_count": 8,
   "metadata": {},
   "outputs": [],
   "source": [
    "def segment(y):\n",
    "    if round(y,2) < -0.75:\n",
    "        return 0\n",
    "    elif (round(y,2) >= -0.75) and (round(y,2) < 0.75):\n",
    "        return 1\n",
    "    else:\n",
    "        return 2"
   ]
  },
  {
   "cell_type": "code",
   "execution_count": 9,
   "metadata": {},
   "outputs": [],
   "source": [
    "nhds['Segment'] = nhds.apply(lambda x: segment(x['LogSalePrice']),axis = 1)\n",
    "nhds.sort_values('LogSalePrice')\n",
    "seg_dict = nhds.drop('LogSalePrice', axis=1).to_dict()['Segment']"
   ]
  },
  {
   "cell_type": "code",
   "execution_count": 10,
   "metadata": {},
   "outputs": [],
   "source": [
    "train['Segment'] = train.apply(lambda x: seg_dict[x['Neighborhood']], axis=1)\n",
    "test['Segment'] = test.apply(lambda x: seg_dict[x['Neighborhood']], axis=1)"
   ]
  },
  {
   "cell_type": "code",
   "execution_count": null,
   "metadata": {},
   "outputs": [],
   "source": [
    "X_train = train.drop(['SalePrice', 'PID', 'TotalBsmtSF', 'GrLivArea', 'LogSalePrice'], axis=1)\n",
    "y_train = train.loc[:, ['LogSalePrice', 'Segment']]\n"
   ]
  },
  {
   "cell_type": "code",
   "execution_count": null,
   "metadata": {},
   "outputs": [],
   "source": [
    "def stacked_selector(X, y, selector_params):\n",
    "    \n",
    "    score_dict = {'score_0':0, 'score_1':0, 'score_2':0}\n",
    "    select_dict = {'select_0':[], 'select_1':[], 'select_2':[]}\n",
    "    \n",
    "    for j in range(3):\n",
    "              \n",
    "            X_levj = pd.DataFrame(X.loc[X['Segment']==j, :].drop('Segment', axis=1))\n",
    "            y_levj = y.loc[y['Segment']==j, :].drop('Segment', axis=1)\n",
    "\n",
    "            transformer = ColumnTransformer([(\"Cat\", OneHotEncoder(handle_unknown = 'ignore'), categorical)], \n",
    "                                            remainder='passthrough')\n",
    "            X_levj = transformer.fit_transform(X_levj)\n",
    "            scaler = StandardScaler(with_mean=False)\n",
    "            X_levj = scaler.fit_transform(X_levj)\n",
    "                         \n",
    "            lasso = Lasso(alpha=selector_params[j])\n",
    "            selector = SelectFromModel(estimator=lasso)\n",
    "\n",
    "            X_levj = selector.fit_transform(X_levj, y_levj)\n",
    "\n",
    "            ols = LinearRegression()\n",
    "            ols.fit(X_levj,y_levj)\n",
    "            if ols.score(X_levj,y_levj) > score_dict[f'score_{j}']:\n",
    "                score_dict[f'score_{j}'] = ols.score(X_levj,y_levj)\n",
    "                mask = selector.get_support()\n",
    "                feat_names = transformer.get_feature_names()\n",
    "                select_dict[f'select_{j}'] = [name for name, boo in zip(feat_names, mask) if boo]\n",
    "\n",
    "    return score_dict, select_dict"
   ]
  },
  {
   "cell_type": "code",
   "execution_count": null,
   "metadata": {},
   "outputs": [],
   "source": [
    "selections = stacked_selector(X_train, y_train, [0.01, 0.01, 0.01])\n",
    "selections"
   ]
  },
  {
   "cell_type": "code",
   "execution_count": null,
   "metadata": {},
   "outputs": [],
   "source": [
    "train['LogSalePrice'] = np.log(train['SalePrice'])"
   ]
  },
  {
   "cell_type": "code",
   "execution_count": null,
   "metadata": {},
   "outputs": [],
   "source": [
    "comp_dict = train.groupby(['Neighborhood', 'BedroomAbvGr', 'BldgType',\n",
    "               'OverallQual', 'FullBath', 'KitchenQual', 'GarageCars']).mean()['LogSalePrice'].to_dict()"
   ]
  },
  {
   "cell_type": "code",
   "execution_count": null,
   "metadata": {},
   "outputs": [],
   "source": [
    "train['Comp'] = train.apply(lambda x: comp_dict[(x['Neighborhood'], x['BedroomAbvGr'], x['BldgType'],\n",
    "               x['OverallQual'], x['FullBath'], x['KitchenQual'], x['GarageCars'])],axis=1)"
   ]
  },
  {
   "cell_type": "code",
   "execution_count": null,
   "metadata": {},
   "outputs": [],
   "source": [
    "X_train = train.drop(['SalePrice', 'LogSalePrice', 'PID', 'TotalBsmtSF', 'GrLivArea'], axis=1)\n",
    "y_train = pd.DataFrame({'LogSalePrice':train['LogSalePrice'], 'NhdCluster':train['NhdCluster']})"
   ]
  },
  {
   "cell_type": "code",
   "execution_count": null,
   "metadata": {},
   "outputs": [],
   "source": [
    "selections = multilev_selector(X_train, y_train, [0.01, 0.01, 0.02])"
   ]
  },
  {
   "cell_type": "code",
   "execution_count": null,
   "metadata": {
    "scrolled": true
   },
   "outputs": [],
   "source": [
    "selections[1]['select_0']"
   ]
  },
  {
   "cell_type": "code",
   "execution_count": null,
   "metadata": {
    "scrolled": true
   },
   "outputs": [],
   "source": [
    "dict(enumerate(categorical))"
   ]
  },
  {
   "cell_type": "code",
   "execution_count": null,
   "metadata": {},
   "outputs": [],
   "source": [
    "select_0 = ['MSSubClass',\n",
    " 'SaleType',\n",
    " 'OverallQual',\n",
    " 'YearRemodAdd',\n",
    " 'ExterQual',\n",
    " 'BsmtFinSF1',\n",
    " 'HeatingQC',\n",
    " '1stFlrSF',\n",
    " '2ndFlrSF',\n",
    " 'BsmtFullBath',\n",
    " 'HalfBath',\n",
    " 'TotRmsAbvGrd',\n",
    " 'Fireplaces',\n",
    " 'FireplaceQu',\n",
    " 'OpenPorchSF',\n",
    " 'Comp']"
   ]
  },
  {
   "cell_type": "code",
   "execution_count": null,
   "metadata": {},
   "outputs": [],
   "source": [
    "cats_0 = [col for col in select_0 if col in categorical]"
   ]
  },
  {
   "cell_type": "code",
   "execution_count": null,
   "metadata": {},
   "outputs": [],
   "source": [
    "X = X_train\n",
    "X = X.loc[X['NhdCluster']==0, :].drop('NhdCluster', axis=1)\n",
    "X = X[select_0]\n",
    "\n",
    "y = y_train\n",
    "y = y.loc[y['NhdCluster']==0, :].drop('NhdCluster', axis=1)\n",
    "\n",
    "\n",
    "pipe = Pipeline([('transformer', ColumnTransformer([(\"Cat\", OneHotEncoder(handle_unknown='ignore'), cats_0)], \n",
    "                                            remainder='passthrough')),\n",
    "                 ('scaler', StandardScaler()),\n",
    "                 ('ridge', Ridge())])\n",
    "\n",
    "param_grid = {'ridge__alpha':[0.001, 0.1, 1, 10]}\n",
    "cv = RepeatedKFold(n_splits=5)\n",
    "\n",
    "grid = GridSearchCV(pipe, param_grid, scoring='r2', cv=cv, n_jobs=-1)\n",
    "\n",
    "grid.fit(X,y)"
   ]
  },
  {
   "cell_type": "code",
   "execution_count": null,
   "metadata": {},
   "outputs": [],
   "source": [
    "print(grid.cv_results_['mean_test_score'])\n",
    "print(grid.best_params_)\n",
    "print(grid.best_score_)"
   ]
  },
  {
   "cell_type": "code",
   "execution_count": null,
   "metadata": {
    "scrolled": false
   },
   "outputs": [],
   "source": [
    "selections[1]['select_1']"
   ]
  },
  {
   "cell_type": "code",
   "execution_count": null,
   "metadata": {
    "scrolled": true
   },
   "outputs": [],
   "source": [
    "dict(enumerate(categorical))"
   ]
  },
  {
   "cell_type": "code",
   "execution_count": null,
   "metadata": {},
   "outputs": [],
   "source": [
    "select_1 = ['MSSubClass',\n",
    " 'BsmtFinType1',\n",
    " 'OverallCond',\n",
    " 'YearRemodAdd',\n",
    " 'BsmtQual',\n",
    " 'BsmtExposure',\n",
    " 'BsmtFinSF1',\n",
    " '1stFlrSF',\n",
    " 'HalfBath',\n",
    " 'TotRmsAbvGrd',\n",
    " 'Fireplaces',\n",
    " 'WoodDeckSF',\n",
    " 'ScreenPorch',\n",
    " 'Comp']"
   ]
  },
  {
   "cell_type": "code",
   "execution_count": null,
   "metadata": {},
   "outputs": [],
   "source": [
    "cats_1 = [col for col in select_1 if col in categorical]"
   ]
  },
  {
   "cell_type": "code",
   "execution_count": null,
   "metadata": {},
   "outputs": [],
   "source": [
    "X = X_train\n",
    "X = X.loc[X['NhdCluster']==1, :].drop('NhdCluster', axis=1)\n",
    "X = X[select_1]\n",
    "\n",
    "y = y_train\n",
    "y = y.loc[y['NhdCluster']==1, :].drop('NhdCluster', axis=1)\n",
    "\n",
    "\n",
    "pipe = Pipeline([('transformer', ColumnTransformer([(\"Cat\", OneHotEncoder(handle_unknown='ignore'), cats_1)], \n",
    "                                            remainder='passthrough')),\n",
    "                 ('scaler', StandardScaler()),\n",
    "                 ('ridge', Ridge())])\n",
    "\n",
    "param_grid = {'ridge__alpha':[0.001, 0.1, 1, 10]}\n",
    "cv = RepeatedKFold(n_splits=5)\n",
    "\n",
    "grid = GridSearchCV(pipe, param_grid, scoring='r2', cv=cv, n_jobs=-1)\n",
    "\n",
    "grid.fit(X,y)"
   ]
  },
  {
   "cell_type": "code",
   "execution_count": null,
   "metadata": {
    "scrolled": true
   },
   "outputs": [],
   "source": [
    "print(grid.cv_results_['mean_test_score'])\n",
    "print(grid.best_params_)\n",
    "print(grid.best_score_)"
   ]
  },
  {
   "cell_type": "code",
   "execution_count": null,
   "metadata": {
    "scrolled": false
   },
   "outputs": [],
   "source": [
    "selections[1]['select_2']"
   ]
  },
  {
   "cell_type": "code",
   "execution_count": null,
   "metadata": {
    "scrolled": true
   },
   "outputs": [],
   "source": [
    "dict(enumerate(categorical))"
   ]
  },
  {
   "cell_type": "code",
   "execution_count": null,
   "metadata": {},
   "outputs": [],
   "source": [
    "select_2 = ['BsmtFinType1',\n",
    " 'LotArea',\n",
    " 'MasVnrArea',\n",
    " 'BsmtFinSF1',\n",
    " '1stFlrSF',\n",
    " '2ndFlrSF',\n",
    " 'TotRmsAbvGrd',\n",
    " 'GarageArea',\n",
    " 'Comp']"
   ]
  },
  {
   "cell_type": "code",
   "execution_count": null,
   "metadata": {},
   "outputs": [],
   "source": [
    "cats_2 = [col for col in select_2 if col in categorical]"
   ]
  },
  {
   "cell_type": "code",
   "execution_count": null,
   "metadata": {},
   "outputs": [],
   "source": [
    "X = X_train\n",
    "X = X.loc[X['NhdCluster']==2, :].drop('NhdCluster', axis=1)\n",
    "X = X[select_1]\n",
    "\n",
    "y = y_train\n",
    "y = y.loc[y['NhdCluster']==2, :].drop('NhdCluster', axis=1)\n",
    "\n",
    "\n",
    "pipe = Pipeline([('transformer', ColumnTransformer([(\"Cat\", OneHotEncoder(handle_unknown='ignore'), cats_2)], \n",
    "                                            remainder='passthrough')),\n",
    "                 ('scaler', StandardScaler()),\n",
    "                 ('ridge', Ridge())])\n",
    "\n",
    "param_grid = {'ridge__alpha':[0.001, 0.1, 1, 10]}\n",
    "cv = RepeatedKFold(n_splits=5)\n",
    "\n",
    "grid = GridSearchCV(pipe, param_grid, scoring='r2', cv=cv, n_jobs=-1)\n",
    "\n",
    "grid.fit(X,y)"
   ]
  },
  {
   "cell_type": "code",
   "execution_count": null,
   "metadata": {},
   "outputs": [],
   "source": [
    "print(grid.cv_results_['mean_test_score'])\n",
    "print(grid.best_params_)\n",
    "print(grid.best_score_)"
   ]
  }
 ],
 "metadata": {
  "kernelspec": {
   "display_name": "Python 3",
   "language": "python",
   "name": "python3"
  },
  "language_info": {
   "codemirror_mode": {
    "name": "ipython",
    "version": 3
   },
   "file_extension": ".py",
   "mimetype": "text/x-python",
   "name": "python",
   "nbconvert_exporter": "python",
   "pygments_lexer": "ipython3",
   "version": "3.8.5"
  }
 },
 "nbformat": 4,
 "nbformat_minor": 5
}
