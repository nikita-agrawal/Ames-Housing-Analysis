{
 "cells": [
  {
   "cell_type": "markdown",
   "id": "22704ada",
   "metadata": {},
   "source": [
    "# RF including Feature Engineering"
   ]
  },
  {
   "cell_type": "code",
   "execution_count": 91,
   "id": "8011ae2c",
   "metadata": {},
   "outputs": [],
   "source": [
    "import pandas as pd\n",
    "import numpy as np\n",
    "from helper import * \n",
    "from sklearn.preprocessing import OneHotEncoder\n",
    "from sklearn.compose import ColumnTransformer\n",
    "from sklearn.ensemble import RandomForestRegressor\n",
    "from sklearn.model_selection import RandomizedSearchCV\n",
    "from sklearn.model_selection import cross_val_score\n",
    "from sklearn.model_selection import GridSearchCV\n"
   ]
  },
  {
   "cell_type": "code",
   "execution_count": 92,
   "id": "70ee685e",
   "metadata": {},
   "outputs": [],
   "source": [
    "pd.set_option('display.max_columns', 500)\n",
    "pd.set_option('display.max_rows', 200)"
   ]
  },
  {
   "cell_type": "markdown",
   "id": "89f46274",
   "metadata": {},
   "source": [
    "# Import data and clean with wrapper"
   ]
  },
  {
   "cell_type": "code",
   "execution_count": 93,
   "id": "201c299c",
   "metadata": {},
   "outputs": [],
   "source": [
    "# importing data\n",
    "housing = pd.read_csv('Ames_Housing_Price_Data.csv', index_col=0,low_memory = False)\n",
    "# data processing\n",
    "train, test = data_processing_wrapper(housing,\n",
    "                                               num_to_cat_list = ['MSSubClass','MoSold'],\n",
    "                                             remove_PID = False\n",
    "                                        )\n",
    "\n",
    "# feature engineering wrapper\n",
    "train, test = feature_engineering_wrapper(train, test)\n",
    "\n",
    "# importing school feature\n",
    "schools = pd.read_csv('schoolFeatures.csv',index_col = 0)\n",
    "school_keep = [\n",
    "    'PID',\n",
    "    'closestSchool'\n",
    "]\n",
    "schools = schools[school_keep]\n",
    "\n",
    "# merge school feature onto original data set.\n",
    "train = train.merge(schools, how = 'left', left_on = 'PID', right_on = 'PID')\n",
    "test = test.merge(schools, how = 'left', left_on = 'PID', right_on = 'PID')\n",
    "\n",
    "train = train.dropna(subset=['closestSchool'])\n",
    "train = train.reset_index(drop=True)\n",
    "\n",
    "test = test.dropna(subset=['closestSchool'])\n",
    "test = test.reset_index(drop=True)"
   ]
  },
  {
   "cell_type": "code",
   "execution_count": 94,
   "id": "c4a8ada2",
   "metadata": {},
   "outputs": [],
   "source": [
    "#housing started out with 81 columns (2580 rows)\n",
    "#feature engineering - ended up with 129 columns (including PID and SalePrice)-- (added 48 new columns) (2477 rows between train and test)"
   ]
  },
  {
   "cell_type": "markdown",
   "id": "a7b63217",
   "metadata": {},
   "source": [
    "# Split into predictors and target"
   ]
  },
  {
   "cell_type": "code",
   "execution_count": 95,
   "id": "de532809",
   "metadata": {},
   "outputs": [],
   "source": [
    "train_raw = train.copy()\n",
    "test_raw = test.copy()\n",
    "\n",
    "train_X = train_raw.drop(['SalePrice','PID'],axis='columns')\n",
    "train_y = train_raw['SalePrice']\n",
    "test_X = test_raw.drop(['SalePrice','PID'],axis='columns')\n",
    "test_y = test_raw['SalePrice']"
   ]
  },
  {
   "cell_type": "code",
   "execution_count": 96,
   "id": "8a6bc1c0",
   "metadata": {},
   "outputs": [],
   "source": [
    "train_y_log = np.log(train_y).rename('LogSalePrice')\n",
    "test_y_log = np.log(test_y).rename('LogSalePrice')"
   ]
  },
  {
   "cell_type": "code",
   "execution_count": 97,
   "id": "6af6d49f",
   "metadata": {},
   "outputs": [],
   "source": [
    "cat_feats = train_X.select_dtypes(['object']).columns.to_list()\n",
    "num_feats = train_X.select_dtypes(['int','float']).columns.to_list()"
   ]
  },
  {
   "cell_type": "code",
   "execution_count": 98,
   "id": "79a88878",
   "metadata": {},
   "outputs": [
    {
     "data": {
      "text/plain": [
       "95"
      ]
     },
     "execution_count": 98,
     "metadata": {},
     "output_type": "execute_result"
    }
   ],
   "source": [
    "len(cat_feats) # 32 categorical features (43 originally in housing dataset)\n",
    "len(num_feats) #95 numeric features (38 originally)"
   ]
  },
  {
   "cell_type": "markdown",
   "id": "f06a5c72",
   "metadata": {},
   "source": [
    "# Dummify "
   ]
  },
  {
   "cell_type": "code",
   "execution_count": 99,
   "id": "f467c4e7",
   "metadata": {},
   "outputs": [],
   "source": [
    "#Preprocessing / Dummification\n",
    "preprocessor = ColumnTransformer(transformers=[\n",
    "    ('tf1',OneHotEncoder(sparse=False, handle_unknown='ignore'), cat_feats)],remainder='passthrough')\n",
    "\n",
    "train_X_transformed = preprocessor.fit_transform(train_X)"
   ]
  },
  {
   "cell_type": "code",
   "execution_count": 100,
   "id": "1c7024d3",
   "metadata": {},
   "outputs": [],
   "source": [
    "#Get one-hot encoded column names \n",
    "columns_transformed = preprocessor.named_transformers_['tf1'].get_feature_names(input_features= cat_feats)\n",
    "new_columns = list(columns_transformed)+num_feats\n",
    "\n",
    "#Place one-hot encoded train X into dataframe \n",
    "train_X_transformed = pd.DataFrame(train_X_transformed,columns=new_columns)\n",
    "\n",
    "#Repeat for test X \n",
    "test_X_transformed = preprocessor.transform(test_X)\n",
    "test_X_transformed = pd.DataFrame(test_X_transformed,columns=new_columns)"
   ]
  },
  {
   "cell_type": "markdown",
   "id": "eb999c29",
   "metadata": {},
   "source": [
    "# Filter down Features Based off of LASSO "
   ]
  },
  {
   "cell_type": "code",
   "execution_count": 101,
   "id": "5ba45d59",
   "metadata": {},
   "outputs": [],
   "source": [
    "#Features selected by LASSO model (non-zero coefficients)\n",
    "coef_df = pd.read_csv('lasso_coef.csv',index_col=0) #Hayden shared this on Slack"
   ]
  },
  {
   "cell_type": "code",
   "execution_count": 102,
   "id": "31907745",
   "metadata": {},
   "outputs": [],
   "source": [
    "selected_features = list(coef_df['features'])"
   ]
  },
  {
   "cell_type": "code",
   "execution_count": 103,
   "id": "45c3ebb3",
   "metadata": {},
   "outputs": [
    {
     "name": "stdout",
     "output_type": "stream",
     "text": [
      "Number of LASSO selected features: 140\n"
     ]
    }
   ],
   "source": [
    "print('Number of LASSO selected features: '+ str(len(selected_features)))"
   ]
  },
  {
   "cell_type": "code",
   "execution_count": 104,
   "id": "ed587091",
   "metadata": {},
   "outputs": [
    {
     "name": "stdout",
     "output_type": "stream",
     "text": [
      "Number of total features after preprocessing: 323\n"
     ]
    }
   ],
   "source": [
    "print('Number of total features after preprocessing: ' + str(len(train_X_transformed.columns.to_list())))"
   ]
  },
  {
   "cell_type": "code",
   "execution_count": 105,
   "id": "ab572f1e",
   "metadata": {},
   "outputs": [],
   "source": [
    "#Filter dataframes down to the select_features \n",
    "train_X= train_X_transformed[selected_features]\n",
    "test_X = test_X_transformed[selected_features]"
   ]
  },
  {
   "cell_type": "markdown",
   "id": "fff61c3a",
   "metadata": {},
   "source": [
    "# Random Forest Modeling "
   ]
  },
  {
   "cell_type": "code",
   "execution_count": 106,
   "id": "e251bce5",
   "metadata": {},
   "outputs": [],
   "source": [
    "#Function to print scores\n",
    "def rf_summarize(model,Xtrain,ytrain,Xtest,ytest,num=10):\n",
    "\n",
    "    print(model.get_params())\n",
    "    print('\\n')\n",
    "    print('Cross Val score: ', cross_val_score(model, Xtrain, ytrain, cv=5))\n",
    "    print('Cross Val score mean: ', cross_val_score(model, Xtrain, ytrain, cv=5).mean())\n",
    "    print('Train score: ',model.score(Xtrain,ytrain))\n",
    "    print('Test score: ',model.score(Xtest,ytest))\n",
    "    print('\\n')\n",
    "    importances = pd.Series(model.feature_importances_, index = Xtrain.columns).sort_values(ascending=False)\n",
    "    print(importances[:num])"
   ]
  },
  {
   "cell_type": "markdown",
   "id": "c8c19c9c",
   "metadata": {},
   "source": [
    "## 1. No Tuning"
   ]
  },
  {
   "cell_type": "markdown",
   "id": "914903b2",
   "metadata": {},
   "source": [
    "### 1A. Feature Selection"
   ]
  },
  {
   "cell_type": "code",
   "execution_count": 107,
   "id": "63e021a0",
   "metadata": {
    "scrolled": false
   },
   "outputs": [
    {
     "name": "stdout",
     "output_type": "stream",
     "text": [
      "{'bootstrap': True, 'ccp_alpha': 0.0, 'criterion': 'mse', 'max_depth': None, 'max_features': 'auto', 'max_leaf_nodes': None, 'max_samples': None, 'min_impurity_decrease': 0.0, 'min_impurity_split': None, 'min_samples_leaf': 1, 'min_samples_split': 2, 'min_weight_fraction_leaf': 0.0, 'n_estimators': 100, 'n_jobs': None, 'oob_score': False, 'random_state': 0, 'verbose': 0, 'warm_start': False}\n",
      "\n",
      "\n",
      "Cross Val score:  [0.92436102 0.93526875 0.92429566 0.92783612 0.91877842]\n",
      "Cross Val score mean:  0.9261079946056376\n",
      "Train score:  0.98945671606562\n",
      "Test score:  0.8984127748003494\n",
      "\n",
      "\n",
      "OverallQual_cubed               0.428616\n",
      "total_sf_square_root            0.289976\n",
      "total_high_qual_finished_sf     0.091691\n",
      "Neighborhood_log_comp           0.043746\n",
      "overall_score_square_root       0.035583\n",
      "GarageArea                      0.012643\n",
      "year_since_built_square_root    0.011987\n",
      "GrLivArea_square_root           0.009343\n",
      "YearRemodAdd                    0.006577\n",
      "LotArea_squared                 0.005978\n",
      "dtype: float64\n"
     ]
    }
   ],
   "source": [
    "rf = RandomForestRegressor(random_state=0)\n",
    "rf.fit(train_X, train_y_log)\n",
    "rf_summarize(rf,train_X,train_y_log,test_X,test_y_log)"
   ]
  },
  {
   "cell_type": "code",
   "execution_count": 109,
   "id": "0f91bddd",
   "metadata": {},
   "outputs": [
    {
     "name": "stdout",
     "output_type": "stream",
     "text": [
      "{'bootstrap': True, 'ccp_alpha': 0.0, 'criterion': 'mse', 'max_depth': None, 'max_features': 'auto', 'max_leaf_nodes': None, 'max_samples': None, 'min_impurity_decrease': 0.0, 'min_impurity_split': None, 'min_samples_leaf': 1, 'min_samples_split': 2, 'min_weight_fraction_leaf': 0.0, 'n_estimators': 100, 'n_jobs': None, 'oob_score': False, 'random_state': 0, 'verbose': 0, 'warm_start': False}\n",
      "\n",
      "\n",
      "Cross Val score:  [0.94446388 0.91958566 0.91982172 0.93378899 0.91650559]\n",
      "Cross Val score mean:  0.9268331674017437\n",
      "Train score:  0.9892740184526548\n",
      "Test score:  0.8661877287542651\n",
      "\n",
      "\n",
      "OverallQual_cubed               0.399807\n",
      "total_sf_square_root            0.350979\n",
      "total_high_qual_finished_sf     0.077981\n",
      "Neighborhood_log_comp           0.055797\n",
      "overall_score_square_root       0.017134\n",
      "year_since_built_square_root    0.009403\n",
      "GrLivArea_square_root           0.008955\n",
      "GarageArea                      0.008135\n",
      "YearRemodAdd                    0.007042\n",
      "LotArea_square_root             0.005311\n",
      "dtype: float64\n"
     ]
    }
   ],
   "source": [
    "#Try with SalePrice instead of log\n",
    "rf = RandomForestRegressor(random_state=0)\n",
    "rf.fit(train_X, train_y)\n",
    "rf_summarize(rf,train_X,train_y,test_X,test_y)"
   ]
  },
  {
   "cell_type": "markdown",
   "id": "e21ef4d7",
   "metadata": {},
   "source": [
    "### 1B. All Features"
   ]
  },
  {
   "cell_type": "code",
   "execution_count": null,
   "id": "d366739a",
   "metadata": {},
   "outputs": [],
   "source": [
    "#No feature selection"
   ]
  },
  {
   "cell_type": "code",
   "execution_count": 110,
   "id": "3001a220",
   "metadata": {},
   "outputs": [
    {
     "name": "stdout",
     "output_type": "stream",
     "text": [
      "{'bootstrap': True, 'ccp_alpha': 0.0, 'criterion': 'mse', 'max_depth': None, 'max_features': 'auto', 'max_leaf_nodes': None, 'max_samples': None, 'min_impurity_decrease': 0.0, 'min_impurity_split': None, 'min_samples_leaf': 1, 'min_samples_split': 2, 'min_weight_fraction_leaf': 0.0, 'n_estimators': 100, 'n_jobs': None, 'oob_score': False, 'random_state': 0, 'verbose': 0, 'warm_start': False}\n",
      "\n",
      "\n",
      "Cross Val score:  [0.92248157 0.93275171 0.92364538 0.9245361  0.91484611]\n",
      "Cross Val score mean:  0.9236521747474592\n",
      "Train score:  0.9891372042859093\n",
      "Test score:  0.8952997288692605\n",
      "\n",
      "\n",
      "OverallQual                    0.118576\n",
      "OverallQual_square_root        0.104625\n",
      "OverallQual_cubed              0.103060\n",
      "OverallQual_squared            0.101697\n",
      "total_high_qual_finished_sf    0.088775\n",
      "total_sf                       0.081656\n",
      "total_sf_square_root           0.073389\n",
      "total_sf_cubed                 0.071333\n",
      "total_sf_squared               0.060984\n",
      "Neighborhood_log_comp          0.042242\n",
      "dtype: float64\n"
     ]
    }
   ],
   "source": [
    "rf = RandomForestRegressor(random_state=0)\n",
    "rf.fit(train_X_transformed, train_y_log)\n",
    "rf_summarize(rf,train_X_transformed,train_y_log,test_X_transformed,test_y_log)"
   ]
  },
  {
   "cell_type": "code",
   "execution_count": 111,
   "id": "83c7b39e",
   "metadata": {},
   "outputs": [
    {
     "name": "stdout",
     "output_type": "stream",
     "text": [
      "{'bootstrap': True, 'ccp_alpha': 0.0, 'criterion': 'mse', 'max_depth': None, 'max_features': 'auto', 'max_leaf_nodes': None, 'max_samples': None, 'min_impurity_decrease': 0.0, 'min_impurity_split': None, 'min_samples_leaf': 1, 'min_samples_split': 2, 'min_weight_fraction_leaf': 0.0, 'n_estimators': 100, 'n_jobs': None, 'oob_score': False, 'random_state': 0, 'verbose': 0, 'warm_start': False}\n",
      "\n",
      "\n",
      "Cross Val score:  [0.94421031 0.91529305 0.91735592 0.92721745 0.91035143]\n",
      "Cross Val score mean:  0.9228856324406379\n",
      "Train score:  0.9888767085758192\n",
      "Test score:  0.8638453763909857\n",
      "\n",
      "\n",
      "OverallQual_squared            0.123926\n",
      "total_sf_cubed                 0.105298\n",
      "OverallQual                    0.104546\n",
      "total_sf_square_root           0.104352\n",
      "OverallQual_cubed              0.087981\n",
      "OverallQual_square_root        0.082700\n",
      "total_high_qual_finished_sf    0.074941\n",
      "total_sf_squared               0.070564\n",
      "total_sf                       0.068816\n",
      "Neighborhood_log_comp          0.053998\n",
      "dtype: float64\n"
     ]
    }
   ],
   "source": [
    "#remove log on target \n",
    "rf = RandomForestRegressor(random_state=0)\n",
    "rf.fit(train_X_transformed, train_y)\n",
    "rf_summarize(rf,train_X_transformed,train_y,test_X_transformed,test_y)"
   ]
  },
  {
   "cell_type": "markdown",
   "id": "28200592",
   "metadata": {},
   "source": [
    "## 2. Tuning"
   ]
  },
  {
   "cell_type": "markdown",
   "id": "da8085cb",
   "metadata": {},
   "source": [
    "### 2A. Feature Selection"
   ]
  },
  {
   "cell_type": "code",
   "execution_count": null,
   "id": "312488c2",
   "metadata": {},
   "outputs": [],
   "source": [
    "# # Number of trees in random forest\n",
    "# n_estimators = [100,200,400,500,600]\n",
    "# # Criterion to measure quality of split\n",
    "# criterion = [\"mse\", \"mae\"]\n",
    "# # Number of features to consider at every split\n",
    "# max_features = [round(i,2) for i in list(np.arange(0.1,1,.1))] + ['auto','sqrt']\n",
    "# # Maximum number of levels in tree\n",
    "# max_depth = list(range(10,111,10)) + ['None']\n",
    "# # Minimum number of samples required to split a node\n",
    "# min_samples_split = [2, 5, 10]\n",
    "# # Minimum number of samples required at each leaf node\n",
    "# min_samples_leaf = [1, 10]\n",
    "# # Method of selecting samples for training each tree\n",
    "# bootstrap = [True]\n",
    "# # Create the random grid\n",
    "# random_grid = {'n_estimators': n_estimators,\n",
    "#                'criterion': criterion,\n",
    "#                'max_features': max_features,\n",
    "#                'max_depth': max_depth,\n",
    "#                'min_samples_split': min_samples_split,\n",
    "#                'min_samples_leaf': min_samples_leaf,\n",
    "#                'bootstrap': bootstrap}"
   ]
  },
  {
   "cell_type": "code",
   "execution_count": null,
   "id": "47637a78",
   "metadata": {},
   "outputs": [],
   "source": [
    "#random_grid"
   ]
  },
  {
   "cell_type": "code",
   "execution_count": null,
   "id": "728c0213",
   "metadata": {},
   "outputs": [],
   "source": [
    "# {'n_estimators': [100, 200, 400, 500, 600],\n",
    "#  'criterion': ['mse', 'mae'],\n",
    "#  'max_features': [0.1, 0.2, 0.3, 0.4, 0.5, 0.6, 0.7, 0.8, 0.9, 'auto', 'sqrt'],\n",
    "#  'max_depth': [10, 20, 30, 40, 50, 60, 70, 80, 90, 100, 110, 'None'],\n",
    "#  'min_samples_split': [2, 5, 10],\n",
    "#  'min_samples_leaf': [1, 10],\n",
    "#  'bootstrap': [True]}\n",
    "\n",
    "\n",
    "# {'n_estimators': [100, 400],\n",
    "#  'criterion': ['mse'],\n",
    "#  'max_features': [0.3, 0.35, 0.4, 'auto', 'sqrt'],\n",
    "#  'max_depth': [30, 31, 32, 33, 34, 35, 40, 'None'],\n",
    "#  'min_samples_split': [2],\n",
    "#  'min_samples_leaf': [1],\n",
    "#  'bootstrap': [True]}\n",
    "\n",
    "# random_grid3 = {'n_estimators': [400,450,500],\n",
    "#  'min_samples_split': [2],\n",
    "#  'min_samples_leaf': [1],\n",
    "#  'max_features': [0.25,0.26,0.27,0.28,0.29,0.3],\n",
    "#  'max_depth': [34],\n",
    "#  'criterion': ['mse'],\n",
    "#  'bootstrap': [True]}"
   ]
  },
  {
   "cell_type": "code",
   "execution_count": null,
   "id": "416f80e8",
   "metadata": {
    "scrolled": false
   },
   "outputs": [],
   "source": [
    "# # Use the random grid to search for best hyperparameters\n",
    "# # First create the base model to tune\n",
    "# rf = RandomForestRegressor()\n",
    "# # Random search of parameters, using 3 fold cross validation, \n",
    "# # search across 100 different combinations, and use all available cores\n",
    "# rf_random = RandomizedSearchCV(estimator = rf, \n",
    "#                                param_distributions = random_grid, \n",
    "#                                n_iter = 50, \n",
    "#                                cv = 5,\n",
    "#                                verbose=2, \n",
    "#                                random_state=42, \n",
    "#                                n_jobs = -1)\n",
    "# # Fit the random search model\n",
    "# rf_random.fit(train_X, train_y_log)"
   ]
  },
  {
   "cell_type": "code",
   "execution_count": null,
   "id": "460661a2",
   "metadata": {},
   "outputs": [],
   "source": [
    "#rf_random.best_params_"
   ]
  },
  {
   "cell_type": "code",
   "execution_count": null,
   "id": "3d8968a1",
   "metadata": {},
   "outputs": [],
   "source": [
    "# Followup with grid search \n",
    "#grid_params = {'n_estimators': [475],\n",
    "#  'max_features': [0.28],\n",
    "#  'max_depth': [15,16,17,18,19,20,21,22,23,24,25]}\n",
    "\n",
    "# rf = RandomForestRegressor()\n",
    "# rf_gridsearch = GridSearchCV(estimator = rf, \n",
    "#                    param_grid = grid_params, \n",
    "#                    cv = 5,\n",
    "#                    verbose=2, \n",
    "#                    n_jobs = -1,\n",
    "#                    return_train_score=True)\n",
    "# rf_gridsearch.fit(train_X, train_y_log)\n"
   ]
  },
  {
   "cell_type": "code",
   "execution_count": null,
   "id": "17b23f72",
   "metadata": {},
   "outputs": [],
   "source": [
    "# {'n_estimators': 100,\n",
    "#  'min_samples_split': 2,\n",
    "#  'min_samples_leaf': 1,\n",
    "#  'max_features': 0.3,\n",
    "#  'max_depth': 30,\n",
    "#  'bootstrap': True}\n",
    "# Cross Val score:  [0.93579475 0.92828102 0.92433193]\n",
    "# Cross Val score mean:  0.9282121647223146\n",
    "# Train score:  0.9905555677143995\n",
    "# Test score:  0.9104753934134463\n",
    "\n",
    "# {'n_estimators': 400,\n",
    "#  'min_samples_split': 2,\n",
    "#  'min_samples_leaf': 1,\n",
    "#  'max_features': 0.4,\n",
    "#  'max_depth': 40,\n",
    "#  'criterion': 'mse',\n",
    "#  'bootstrap': True}\n",
    "# Cross Val score:  [0.93583252 0.92783454 0.92602133]\n",
    "# Cross Val score mean:  0.9288421660609751\n",
    "# Train score:  0.9911133519550306\n",
    "# Test score:  0.9097288447153569\n",
    "\n",
    "\n",
    "# {'n_estimators': 400,\n",
    "#  'min_samples_split': 5,\n",
    "#  'min_samples_leaf': 1,\n",
    "#  'max_features': 0.4,\n",
    "#  'max_depth': 30,\n",
    "#  'criterion': 'mse',\n",
    "#  'bootstrap': True}\n",
    "# Cross Val score:  [0.93560239 0.92652314 0.92355869]\n",
    "# Cross Val score mean:  0.9294543039840469\n",
    "# Train score:  0.9873146849429972\n",
    "# Test score:  0.9099829502773876\n",
    "\n",
    "# {'n_estimators': 400,\n",
    "#  'min_samples_split': 2,\n",
    "#  'min_samples_leaf': 1,\n",
    "#  'max_features': 0.3,\n",
    "#  'max_depth': 34,\n",
    "#  'criterion': 'mse',\n",
    "#  'bootstrap': True}\n",
    "\n",
    "# Cross Val score:  [0.93631747 0.92722897 0.92696265]\n",
    "# Cross Val score mean:  0.9293809452490164\n",
    "# Train score:  0.9908571241679297\n",
    "# Test score:  0.9114062426467685\n",
    "\n",
    "# {'n_estimators': 450,\n",
    "#  'min_samples_split': 2,\n",
    "#  'min_samples_leaf': 1,\n",
    "#  'max_features': 0.27,\n",
    "#  'max_depth': 34,\n",
    "#  'criterion': 'mse',\n",
    "#  'bootstrap': True}\n",
    "\n",
    "# Cross Val score:  [0.93587818 0.92713536 0.92576214]\n",
    "# Cross Val score mean:  0.9291140950912293\n",
    "# Train score:  0.9908353458911427\n",
    "# Test score:  0.9110840400893874\n",
    "\n",
    "# {'n_estimators': 450,\n",
    "#  'min_samples_split': 2,\n",
    "#  'min_samples_leaf': 1,\n",
    "#  'max_features': 0.27,\n",
    "#  'max_depth': 34,\n",
    "#  'criterion': 'mse',\n",
    "#  'bootstrap': True}\n",
    "\n",
    "#Grid search\n",
    "#{'max_depth': 23, 'max_features': 0.28, 'n_estimators': 475}\n",
    "# Cross Val score:  [0.93706284 0.92701748 0.92542083]\n",
    "# Cross Val score mean:  0.929663346136536\n",
    "# Train score:  0.9909447830148265\n",
    "# Test score:  0.920584632903027\n",
    "\n",
    "#{'max_depth': 21, 'max_features': 0.28, 'n_estimators': 475}\n",
    "# Cross Val score:  [0.93550739 0.92688435 0.92573597]\n",
    "# Cross Val score mean:  0.9296219950550052\n",
    "# Train score:  0.9908067817643416\n",
    "# Test score:  0.9113437650102342\n"
   ]
  },
  {
   "cell_type": "code",
   "execution_count": 146,
   "id": "7feee7de",
   "metadata": {},
   "outputs": [],
   "source": [
    "random_forest = RandomForestRegressor(n_estimators=475, \n",
    "                                      max_depth=23, \n",
    "                                      max_features=0.28, \n",
    "                                      n_jobs=-1,\n",
    "                                      random_state=0,\n",
    "                                      )"
   ]
  },
  {
   "cell_type": "code",
   "execution_count": 149,
   "id": "3ed350b3",
   "metadata": {},
   "outputs": [
    {
     "data": {
      "text/plain": [
       "RandomForestRegressor(max_depth=23, max_features=0.28, n_estimators=475,\n",
       "                      n_jobs=-1, random_state=0)"
      ]
     },
     "execution_count": 149,
     "metadata": {},
     "output_type": "execute_result"
    }
   ],
   "source": [
    "random_forest.fit(train_X,train_y_log)"
   ]
  },
  {
   "cell_type": "code",
   "execution_count": 150,
   "id": "3abede46",
   "metadata": {},
   "outputs": [
    {
     "name": "stdout",
     "output_type": "stream",
     "text": [
      "{'bootstrap': True, 'ccp_alpha': 0.0, 'criterion': 'mse', 'max_depth': 23, 'max_features': 0.28, 'max_leaf_nodes': None, 'max_samples': None, 'min_impurity_decrease': 0.0, 'min_impurity_split': None, 'min_samples_leaf': 1, 'min_samples_split': 2, 'min_weight_fraction_leaf': 0.0, 'n_estimators': 475, 'n_jobs': -1, 'oob_score': False, 'random_state': 0, 'verbose': 0, 'warm_start': False}\n",
      "\n",
      "\n",
      "Cross Val score:  [0.93289584 0.93699087 0.92947119 0.92741967 0.92810134]\n",
      "Cross Val score mean:  0.9309757800768788\n",
      "Train score:  0.9909824689781674\n",
      "Test score:  0.9109286902705149\n",
      "\n",
      "\n",
      "total_sf_square_root            0.219555\n",
      "OverallQual_cubed               0.191229\n",
      "total_high_qual_finished_sf     0.115746\n",
      "Neighborhood_log_comp           0.091265\n",
      "GrLivArea_square_root           0.054094\n",
      "year_since_built_square_root    0.045144\n",
      "ExterQual                       0.038058\n",
      "overall_score_square_root       0.034254\n",
      "GarageArea                      0.025890\n",
      "GarageCars_log_comp             0.023409\n",
      "GarageCars                      0.016580\n",
      "BsmtQual                        0.015127\n",
      "KitchenQual_cubed               0.014063\n",
      "LotArea_squared                 0.009416\n",
      "LotArea_square_root             0.009276\n",
      "YearRemodAdd                    0.008412\n",
      "BsmtFinSF1                      0.007112\n",
      "MasVnrArea                      0.005505\n",
      "OverallCond                     0.005320\n",
      "FireplaceQu                     0.005196\n",
      "total_deck_sf                   0.004939\n",
      "garage_score                    0.004545\n",
      "Fireplaces                      0.004404\n",
      "TotRmsAbvGrd                    0.003296\n",
      "total_full_bath                 0.003209\n",
      "dtype: float64\n"
     ]
    }
   ],
   "source": [
    "rf_summarize(random_forest,train_X, train_y_log, test_X, test_y_log,25)"
   ]
  },
  {
   "cell_type": "code",
   "execution_count": 115,
   "id": "349df153",
   "metadata": {},
   "outputs": [],
   "source": [
    "#Results for tuned rf with feature selection\n",
    "# {'bootstrap': True, 'ccp_alpha': 0.0, 'criterion': 'mse', 'max_depth': 23, 'max_features': 0.28, 'max_leaf_nodes': None, 'max_samples': None, 'min_impurity_decrease': 0.0, 'min_impurity_split': None, 'min_samples_leaf': 1, 'min_samples_split': 2, 'min_weight_fraction_leaf': 0.0, 'n_estimators': 475, 'n_jobs': -1, 'oob_score': False, 'random_state': 0, 'verbose': 0, 'warm_start': False}\n",
    "\n",
    "\n",
    "# Cross Val score:  [0.93289584 0.93699087 0.92947119 0.92741967 0.92810134]\n",
    "# Cross Val score mean:  0.9309757800768785\n",
    "# Train score:  0.9909824689781674\n",
    "# Test score:  0.9109286902705149\n",
    "\n",
    "\n",
    "# total_sf_square_root            0.219555\n",
    "# OverallQual_cubed               0.191229\n",
    "# total_high_qual_finished_sf     0.115746\n",
    "# Neighborhood_log_comp           0.091265\n",
    "# GrLivArea_square_root           0.054094\n",
    "# year_since_built_square_root    0.045144\n",
    "# ExterQual                       0.038058\n",
    "# overall_score_square_root       0.034254\n",
    "# GarageArea                      0.025890\n",
    "# GarageCars_log_comp             0.023409\n",
    "# GarageCars                      0.016580\n",
    "# BsmtQual                        0.015127\n",
    "# KitchenQual_cubed               0.014063\n",
    "# LotArea_squared                 0.009416\n",
    "# LotArea_square_root             0.009276\n",
    "# YearRemodAdd                    0.008412\n",
    "# BsmtFinSF1                      0.007112\n",
    "# MasVnrArea                      0.005505\n",
    "# OverallCond                     0.005320\n",
    "# FireplaceQu                     0.005196\n",
    "# total_deck_sf                   0.004939\n",
    "# garage_score                    0.004545\n",
    "# Fireplaces                      0.004404\n",
    "# TotRmsAbvGrd                    0.003296\n",
    "# total_full_bath                 0.003209"
   ]
  },
  {
   "cell_type": "markdown",
   "id": "7a6393ba",
   "metadata": {},
   "source": [
    "### 2B. All Features"
   ]
  },
  {
   "cell_type": "code",
   "execution_count": null,
   "id": "19c7af1c",
   "metadata": {},
   "outputs": [],
   "source": [
    "# {'n_estimators': 400,\n",
    "#  'min_samples_split': 2,\n",
    "#  'min_samples_leaf': 1,\n",
    "#  'max_features': 0.1,\n",
    "#  'max_depth': 40,\n",
    "#  'criterion': 'mse',\n",
    "#  'bootstrap': True}\n",
    "\n",
    "# Cross Val score:  [0.93226744 0.93403861 0.922266   0.92518766 0.92206218]\n",
    "# Cross Val score mean:  0.9269950077031422\n",
    "# Train score:  0.9903395273834038\n",
    "# Test score:  0.9064977926272272\n",
    "\n",
    "\n",
    "# {'n_estimators': 200,\n",
    "#  'min_samples_split': 2,\n",
    "#  'min_samples_leaf': 1,\n",
    "#  'max_features': 0.1,\n",
    "#  'max_depth': 20,\n",
    "#  'criterion': 'mse',\n",
    "#  'bootstrap': True}\n",
    "\n",
    "# Cross Val score:  [0.93378291 0.93296664 0.92223692 0.92660782 0.92151614]\n",
    "# Cross Val score mean:  0.9263690029773128\n",
    "# Train score:  0.9903314771724289\n",
    "# Test score:  0.9031112285209117\n",
    "\n",
    "#grid search\n",
    "#{'max_depth': 36, 'max_features': 0.1, 'n_estimators': 300}\n",
    "\n",
    "\n",
    "# Cross Val score:  [0.93243304 0.93325527 0.92323578 0.92613059 0.92045473]\n",
    "# Cross Val score mean:  0.9267487110711168\n",
    "# Train score:  0.9901995039746295\n",
    "# Test score:  0.9049766012854378\n"
   ]
  },
  {
   "cell_type": "code",
   "execution_count": 118,
   "id": "c3753983",
   "metadata": {},
   "outputs": [],
   "source": [
    "# random_grid = {'n_estimators': [100, 200, 400,425,450,475,500],\n",
    "#  'criterion': ['mse'],\n",
    "#  'max_features': [0.1, 0.2, 0.3, 0.4, 0.5, 0.6, 0.7, 0.8, 0.9, 'auto', 'sqrt'],\n",
    "#  'max_depth': [10, 20, 30,35, 40, 50, 60, 'None'],\n",
    "#  'min_samples_split': [2],\n",
    "#  'min_samples_leaf': [1],\n",
    "#  'bootstrap': [True]}"
   ]
  },
  {
   "cell_type": "code",
   "execution_count": 142,
   "id": "49745cab",
   "metadata": {},
   "outputs": [],
   "source": [
    "# # Use the random grid to search for best hyperparameters\n",
    "# # First create the base model to tune\n",
    "# rf = RandomForestRegressor()\n",
    "# # Random search of parameters, using 3 fold cross validation, \n",
    "# # search across 100 different combinations, and use all available cores\n",
    "# rf_random = RandomizedSearchCV(estimator = rf, \n",
    "#                                param_distributions = random_grid, \n",
    "#                                n_iter = 50, \n",
    "#                                cv = 5,\n",
    "#                                verbose=2, \n",
    "#                                random_state=42, \n",
    "#                                n_jobs = -1)\n",
    "# # Fit the random search model\n",
    "# rf_random.fit(train_X_transformed, train_y_log)"
   ]
  },
  {
   "cell_type": "code",
   "execution_count": 143,
   "id": "5d4ae58b",
   "metadata": {},
   "outputs": [],
   "source": [
    "# #Followup with grid search \n",
    "# grid_params = {'n_estimators': [200,250,300,350,400,450,475],\n",
    "#  'max_features': [0.1],\n",
    "#  'max_depth': list(range(20,45,1))}\n",
    "\n",
    "# rf = RandomForestRegressor()\n",
    "# rf_gridsearch = GridSearchCV(estimator = rf, \n",
    "#                    param_grid = grid_params, \n",
    "#                    cv = 5,\n",
    "#                    verbose=2, \n",
    "#                    n_jobs = -1,\n",
    "#                    return_train_score=True)\n",
    "# rf_gridsearch.fit(train_X_transformed, train_y_log)"
   ]
  },
  {
   "cell_type": "code",
   "execution_count": 139,
   "id": "d79f55af",
   "metadata": {},
   "outputs": [],
   "source": [
    "random_forest = RandomForestRegressor(n_estimators=300, \n",
    "                                      max_depth=36, \n",
    "                                      max_features=0.1, \n",
    "                                      n_jobs=-1,\n",
    "                                      random_state=0,\n",
    "                                      )"
   ]
  },
  {
   "cell_type": "code",
   "execution_count": 145,
   "id": "d5d648fd",
   "metadata": {},
   "outputs": [
    {
     "name": "stdout",
     "output_type": "stream",
     "text": [
      "{'bootstrap': True, 'ccp_alpha': 0.0, 'criterion': 'mse', 'max_depth': 36, 'max_features': 0.1, 'max_leaf_nodes': None, 'max_samples': None, 'min_impurity_decrease': 0.0, 'min_impurity_split': None, 'min_samples_leaf': 1, 'min_samples_split': 2, 'min_weight_fraction_leaf': 0.0, 'n_estimators': 300, 'n_jobs': -1, 'oob_score': False, 'random_state': 0, 'verbose': 0, 'warm_start': False}\n",
      "\n",
      "\n",
      "Cross Val score:  [0.93273479 0.93491204 0.92292383 0.92370534 0.92157475]\n",
      "Cross Val score mean:  0.9271701501791497\n",
      "Train score:  0.990276972313275\n",
      "Test score:  0.9042749333234227\n",
      "\n",
      "\n",
      "total_sf_squared               0.069766\n",
      "total_sf_cubed                 0.065509\n",
      "total_sf                       0.065176\n",
      "OverallQual                    0.064999\n",
      "OverallQual_squared            0.062314\n",
      "total_sf_square_root           0.056356\n",
      "OverallQual_cubed              0.052879\n",
      "OverallQual_square_root        0.052504\n",
      "total_high_qual_finished_sf    0.041294\n",
      "Neighborhood_log_comp          0.035703\n",
      "GrLivArea_squared              0.021725\n",
      "GrLivArea_square_root          0.018254\n",
      "YearBuilt                      0.018155\n",
      "GrLivArea                      0.016954\n",
      "ExterQual                      0.016779\n",
      "GrLivArea_cubed                0.016003\n",
      "year_since_built               0.013609\n",
      "GarageArea                     0.012863\n",
      "overall_score_square_root      0.012749\n",
      "year_since_built_cubed         0.012197\n",
      "GarageArea_cubed               0.011254\n",
      "overall_score_squared          0.011082\n",
      "overall_score_cubed            0.010948\n",
      "GarageCars_log_comp            0.010864\n",
      "GarageArea_squared             0.009674\n",
      "dtype: float64\n"
     ]
    }
   ],
   "source": [
    "random_forest.fit(train_X_transformed,train_y_log)\n",
    "rf_summarize(random_forest,train_X_transformed,train_y_log,test_X_transformed,test_y_log,25)"
   ]
  },
  {
   "cell_type": "code",
   "execution_count": null,
   "id": "f774ad38",
   "metadata": {},
   "outputs": [],
   "source": [
    "# #Results tuned RF with all features \n",
    "# {'bootstrap': True, 'ccp_alpha': 0.0, 'criterion': 'mse', 'max_depth': 36, 'max_features': 0.1, 'max_leaf_nodes': None, 'max_samples': None, 'min_impurity_decrease': 0.0, 'min_impurity_split': None, 'min_samples_leaf': 1, 'min_samples_split': 2, 'min_weight_fraction_leaf': 0.0, 'n_estimators': 300, 'n_jobs': -1, 'oob_score': False, 'random_state': 0, 'verbose': 0, 'warm_start': False}\n",
    "\n",
    "\n",
    "# Cross Val score:  [0.93273479 0.93491204 0.92292383 0.92370534 0.92157475]\n",
    "# Cross Val score mean:  0.9271701501791497\n",
    "# Train score:  0.990276972313275\n",
    "# Test score:  0.9042749333234227\n",
    "\n",
    "\n",
    "# total_sf_squared               0.069766\n",
    "# total_sf_cubed                 0.065509\n",
    "# total_sf                       0.065176\n",
    "# OverallQual                    0.064999\n",
    "# OverallQual_squared            0.062314\n",
    "# total_sf_square_root           0.056356\n",
    "# OverallQual_cubed              0.052879\n",
    "# OverallQual_square_root        0.052504\n",
    "# total_high_qual_finished_sf    0.041294\n",
    "# Neighborhood_log_comp          0.035703\n",
    "# GrLivArea_squared              0.021725\n",
    "# GrLivArea_square_root          0.018254\n",
    "# YearBuilt                      0.018155\n",
    "# GrLivArea                      0.016954\n",
    "# ExterQual                      0.016779\n",
    "# GrLivArea_cubed                0.016003\n",
    "# year_since_built               0.013609\n",
    "# GarageArea                     0.012863\n",
    "# overall_score_square_root      0.012749\n",
    "# year_since_built_cubed         0.012197\n",
    "# GarageArea_cubed               0.011254\n",
    "# overall_score_squared          0.011082\n",
    "# overall_score_cubed            0.010948\n",
    "# GarageCars_log_comp            0.010864\n",
    "# GarageArea_squared             0.009674\n",
    "# dtype: float64"
   ]
  }
 ],
 "metadata": {
  "kernelspec": {
   "display_name": "Python 3",
   "language": "python",
   "name": "python3"
  },
  "language_info": {
   "codemirror_mode": {
    "name": "ipython",
    "version": 3
   },
   "file_extension": ".py",
   "mimetype": "text/x-python",
   "name": "python",
   "nbconvert_exporter": "python",
   "pygments_lexer": "ipython3",
   "version": "3.8.8"
  }
 },
 "nbformat": 4,
 "nbformat_minor": 5
}
