{
 "cells": [
  {
   "cell_type": "code",
   "execution_count": 5,
   "id": "972b7114",
   "metadata": {},
   "outputs": [],
   "source": [
    "import numpy as np\n",
    "import pandas as pd\n",
    "import helper"
   ]
  },
  {
   "cell_type": "code",
   "execution_count": 6,
   "id": "77d4fe3c",
   "metadata": {},
   "outputs": [],
   "source": [
    "from sklearn.linear_model import LinearRegression\n",
    "from sklearn.linear_model import Lasso\n",
    "from sklearn.model_selection import KFold\n",
    "from sklearn.model_selection import GridSearchCV\n",
    "from sklearn.preprocessing import OneHotEncoder\n",
    "from sklearn.compose import ColumnTransformer\n",
    "from sklearn.preprocessing import StandardScaler\n",
    "from sklearn.feature_selection import SelectFromModel\n",
    "import matplotlib.pyplot as plt\n",
    "import seaborn as sns\n",
    "import matplotlib.style as style\n",
    "style.use('fivethirtyeight')"
   ]
  },
  {
   "cell_type": "code",
   "execution_count": 7,
   "id": "3a6af357",
   "metadata": {},
   "outputs": [],
   "source": [
    "## colors\n",
    "colors = [\"#FF0B04\", \"#F1BE48\",\n",
    "           \"#B9975B\", \"#8B5B29\",\n",
    "           \"#524727\",\n",
    "         ]\n",
    "sns.set_palette(sns.color_palette(colors))"
   ]
  },
  {
   "cell_type": "code",
   "execution_count": 8,
   "id": "ec6507c4",
   "metadata": {},
   "outputs": [],
   "source": [
    "## open housing latlong info\n",
    "latlong = pd.read_csv('ames_housing_latlong.csv',index_col=0,low_memory = False)"
   ]
  },
  {
   "cell_type": "code",
   "execution_count": 9,
   "id": "96c1c498",
   "metadata": {},
   "outputs": [],
   "source": [
    "## load housing data\n",
    "housing = pd.read_csv('Ames_Housing_Price_Data.csv', index_col=0,low_memory = False)\n",
    "\n",
    "train, test = helper.data_processing_wrapper(housing, remove_PID=False, \n",
    "                                               num_to_cat_list = ['MSSubClass'])\n",
    "cat_feats = train.select_dtypes(['object','bool']).columns.to_list()\n",
    "num_cols = train.select_dtypes(['float64','int64']).columns.to_list()\n",
    "num_cols.remove('SalePrice')\n"
   ]
  },
  {
   "cell_type": "code",
   "execution_count": 10,
   "id": "0b2b2f88",
   "metadata": {},
   "outputs": [],
   "source": [
    "colnames = ['PID', 'Prop_Addr', 'latitude', 'longitude']\n",
    "latlong = latlong[colnames]"
   ]
  },
  {
   "cell_type": "code",
   "execution_count": 11,
   "id": "4ed1b732",
   "metadata": {},
   "outputs": [],
   "source": [
    "combined_train = train.merge(latlong, how = 'left', left_on = 'PID', right_on = 'PID')\n",
    "combined_test = test.merge(latlong, how = 'left', left_on = 'PID', right_on = 'PID')"
   ]
  },
  {
   "cell_type": "code",
   "execution_count": 12,
   "id": "c800addf",
   "metadata": {
    "scrolled": true
   },
   "outputs": [
    {
     "name": "stdout",
     "output_type": "stream",
     "text": [
      "15\n",
      "15\n",
      "4\n",
      "4\n",
      "0\n",
      "0\n",
      "0\n",
      "0\n"
     ]
    }
   ],
   "source": [
    "## Identify missing values in lat long \n",
    "print(combined_train.latitude.isna().sum())\n",
    "print(combined_train.longitude.isna().sum())\n",
    "print(combined_test.latitude.isna().sum())\n",
    "print(combined_test.longitude.isna().sum())\n",
    "\n",
    "## get the geo cordinates and set the dictionary for housing dataset\n",
    "combined_train, latlong_map = helper.geo_cords_imputing(combined_train)\n",
    "combined_test = helper.geo_cords_imputing(combined_test, latlong_map)\n",
    "\n",
    "## using latlong dictionary, assign lat-long to training dataset\n",
    "combined_train = combined_train.dropna(subset=['latitude', 'longitude'])\n",
    "combined_train = combined_train.reset_index(drop=True)\n",
    "\n",
    "# Check missing values\n",
    "## Identify missing values in lat long \n",
    "print(combined_train.latitude.isna().sum())\n",
    "print(combined_train.longitude.isna().sum())\n",
    "print(combined_test.latitude.isna().sum())\n",
    "print(combined_test.longitude.isna().sum())"
   ]
  },
  {
   "cell_type": "markdown",
   "id": "ae27267c",
   "metadata": {},
   "source": [
    "## Latlong"
   ]
  },
  {
   "cell_type": "code",
   "execution_count": 14,
   "id": "4cd53bdf",
   "metadata": {},
   "outputs": [],
   "source": [
    "from geopy.geocoders import Nominatim\n",
    "from geopy.extra.rate_limiter import RateLimiter"
   ]
  },
  {
   "cell_type": "code",
   "execution_count": 15,
   "id": "6150dd1c",
   "metadata": {},
   "outputs": [],
   "source": [
    "## Load parks data\n",
    "parks = pd.read_csv('parks2.csv', low_memory = False)\n",
    "\n",
    "parks_latlong = pd.read_csv('parks_latlong.csv', index_col=0, low_memory = False)"
   ]
  },
  {
   "cell_type": "code",
   "execution_count": 14,
   "id": "5c2d2d9c",
   "metadata": {
    "scrolled": true
   },
   "outputs": [],
   "source": [
    "# # RUN THIS TO ADD LAT/LONG TO PARKS FILE\n",
    "# IT IS SAVED AS PARKS_LATLONG IN FOLDER\n",
    "\n",
    "# for i in range(parks.shape[0]):\n",
    "#     try:\n",
    "#         address = parks['parkAddress'][i]\n",
    "#         geolocator = Nominatim(user_agent=\"ames_location\")\n",
    "#         geocode = RateLimiter(geolocator.geocode, min_delay_seconds=1)\n",
    "#         loc = geolocator.geocode(address)\n",
    "#         parks.loc[i,'latitude'] = loc.latitude\n",
    "#         parks.loc[i,'longitude'] = loc.longitude\n",
    "#         print(loc.latitude, loc.longitude)\n",
    "#     except:\n",
    "#         print(f'{address} didnt work')\n",
    "# parks.to_csv('parks_latlong.csv')"
   ]
  },
  {
   "cell_type": "markdown",
   "id": "15d79506",
   "metadata": {},
   "source": [
    "### Find distance to nearest house for each house in housing data"
   ]
  },
  {
   "cell_type": "code",
   "execution_count": 16,
   "id": "0674ab77",
   "metadata": {},
   "outputs": [],
   "source": [
    "import haversine as hs"
   ]
  },
  {
   "cell_type": "code",
   "execution_count": 17,
   "id": "51e1435f",
   "metadata": {},
   "outputs": [],
   "source": [
    "combined_all = pd.concat([combined_train, combined_test], axis=0)\n",
    "combined_all.reset_index(drop=True, inplace=True)"
   ]
  },
  {
   "cell_type": "code",
   "execution_count": 27,
   "id": "49f3de2d",
   "metadata": {},
   "outputs": [],
   "source": [
    "# ## shortest distance to any public parkspace\n",
    "parksFrame = pd.DataFrame()\n",
    "parksFrame['PID'] = combined_all['PID']\n",
    "\n",
    "for i in range(combined_all.shape[0]):\n",
    "    for j in range(parks_latlong.shape[0]):\n",
    "        try:\n",
    "            loc1 = combined_all.loc[i,['latitude', 'longitude']]\n",
    "            loc2 = parks_latlong.loc[j, ['latitude', 'longitude']]\n",
    "            dist = hs.haversine(loc1, loc2, unit = 'mi')\n",
    "            parksFrame.loc[i,j] = dist\n",
    "        except:\n",
    "            print(f\"{combined_all['PID'][i]} for {parks_latlong['parkName'][j]} didn't work\")\n",
    "\n",
    "            parksFrameCols = ['PID']\n",
    "\n",
    "parksFrameCols = ['PID']\n",
    "parklist = parks_latlong['parkName'].to_list()\n",
    "parksFrameCols.extend(parks_latlong['parkName'].to_list())\n",
    "# parksFrame.columns = ['distance to ' + s for s in parksFrameCols]\n",
    "parksFrame.columns = parksFrameCols"
   ]
  },
  {
   "cell_type": "code",
   "execution_count": 28,
   "id": "2365fd4b",
   "metadata": {},
   "outputs": [],
   "source": [
    "## Min distances\n",
    "parksFrame['DistToPark'] = parksFrame.min(axis=1)\n",
    "\n",
    "parklist = parks_latlong.loc[parks_latlong['parkRecFacility']==1,:]['parkName'].to_list()\n",
    "parksFrame['DistToRec'] = parksFrame[parklist].min(axis=1)\n",
    "\n",
    "parklist = parks_latlong.loc[parks_latlong['parkPicnicArea']==1,:]['parkName'].to_list()\n",
    "parksFrame['DistToPicnic'] = parksFrame[parklist].min(axis=1)\n",
    "\n",
    "parklist = parks_latlong.loc[parks_latlong['parkPlayground']==1,:]['parkName'].to_list()\n",
    "parksFrame['DistToPlayground'] = parksFrame[parklist].min(axis=1)\n"
   ]
  },
  {
   "cell_type": "code",
   "execution_count": 30,
   "id": "dc9581de",
   "metadata": {},
   "outputs": [],
   "source": [
    "## Num parks under 1 mile\n",
    "\n",
    "parklist = parks_latlong['parkName'].to_list()\n",
    "parksFrame['halfMileParks'] = parksFrame[(parksFrame[parklist]<0.5)].count(axis=1)"
   ]
  },
  {
   "cell_type": "code",
   "execution_count": 29,
   "id": "b93e9072",
   "metadata": {},
   "outputs": [],
   "source": [
    "## Closest park\n",
    "parksFrame['closestPark'] = parksFrame[parks_latlong['parkName'].to_list()].idxmin(axis=1)"
   ]
  },
  {
   "cell_type": "code",
   "execution_count": 79,
   "id": "7510dee4",
   "metadata": {},
   "outputs": [],
   "source": [
    "## Save to .csv file\n",
    "# parksFrame.to_csv('parksFeatures.csv')"
   ]
  },
  {
   "cell_type": "markdown",
   "id": "244ea79f",
   "metadata": {},
   "source": [
    "## Elementary Schools"
   ]
  },
  {
   "cell_type": "code",
   "execution_count": 45,
   "id": "a0e996c6",
   "metadata": {},
   "outputs": [],
   "source": [
    "schools = pd.read_csv('school_latlong.csv', low_memory = False)"
   ]
  },
  {
   "cell_type": "code",
   "execution_count": 46,
   "id": "874e7e98",
   "metadata": {},
   "outputs": [],
   "source": [
    "# ## shortest distance to any public school\n",
    "schoolsFrame = pd.DataFrame()\n",
    "schoolsFrame['PID'] = combined_all['PID']\n",
    "\n",
    "for i in range(combined_all.shape[0]):\n",
    "    for j in range(schools.shape[0]):\n",
    "        try:\n",
    "            loc1 = combined_all.loc[i,['latitude', 'longitude']]\n",
    "            loc2 = schools.loc[j, ['latitude', 'longitude']]\n",
    "            dist = hs.haversine(loc1, loc2, unit = 'mi')\n",
    "            schoolsFrame.loc[i,j] = dist\n",
    "        except:\n",
    "            print(f\"{combined_all['PID'][i]} for {schools['parkName'][j]} didn't work\")\n",
    "\n",
    "schoolsFrameCols = ['PID']\n",
    "schoolslist = schools['schoolName'].to_list()\n",
    "schoolsFrameCols.extend(schools['schoolName'].to_list())\n",
    "schoolsFrame.columns = schoolsFrameCols"
   ]
  },
  {
   "cell_type": "code",
   "execution_count": 70,
   "id": "7d10fc53",
   "metadata": {},
   "outputs": [
    {
     "name": "stderr",
     "output_type": "stream",
     "text": [
      "<ipython-input-70-a760d75e9770>:2: FutureWarning: Dropping of nuisance columns in DataFrame reductions (with 'numeric_only=None') is deprecated; in a future version this will raise TypeError.  Select only valid columns before calling the reduction.\n",
      "  schoolsFrame['DistToSchool'] = schoolsFrame.min(axis=1)\n"
     ]
    }
   ],
   "source": [
    "## Min distances\n",
    "schoolsFrame['DistToSchool'] = schoolsFrame.min(axis=1)\n",
    "\n",
    "## Distance to elementary schools\n",
    "schoollist = schools.loc[schools['schoolElementary']==1,:]['schoolName'].to_list()\n",
    "schoolsFrame['DistToElementary'] = schoolsFrame[schoollist].min(axis=1)\n",
    "\n",
    "## Closest school\n",
    "schoolsFrame['closestSchool'] = schoolsFrame[schools['schoolName'].to_list()].idxmin(axis=1)\n",
    "\n",
    "## Closest elementary\n",
    "schoollist = schools.loc[schools['schoolElementary']==1,:]['schoolName'].to_list()\n",
    "schoolsFrame['closestElementary'] = schoolsFrame[schoollist].idxmin(axis=1)"
   ]
  },
  {
   "cell_type": "code",
   "execution_count": 68,
   "id": "c283093c",
   "metadata": {},
   "outputs": [],
   "source": [
    "schoolsFrame['closestSchool'] = schoolsFrame[schools['schoolName'].to_list()].idxmin(axis=1)"
   ]
  },
  {
   "cell_type": "code",
   "execution_count": 73,
   "id": "4c57acc1",
   "metadata": {},
   "outputs": [],
   "source": [
    "## Save to \n",
    "# schoolsFrame.to_csv('schoolFeatures.csv')"
   ]
  }
 ],
 "metadata": {
  "kernelspec": {
   "display_name": "Python 3",
   "language": "python",
   "name": "python3"
  },
  "language_info": {
   "codemirror_mode": {
    "name": "ipython",
    "version": 3
   },
   "file_extension": ".py",
   "mimetype": "text/x-python",
   "name": "python",
   "nbconvert_exporter": "python",
   "pygments_lexer": "ipython3",
   "version": "3.8.2"
  }
 },
 "nbformat": 4,
 "nbformat_minor": 5
}
