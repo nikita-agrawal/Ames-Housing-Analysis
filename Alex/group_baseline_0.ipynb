{
 "cells": [
  {
   "cell_type": "code",
   "execution_count": 2,
   "metadata": {},
   "outputs": [],
   "source": [
    "import pandas as pd\n",
    "import numpy as np\n",
    "from sklearn import linear_model\n",
    "from sklearn.preprocessing import OneHotEncoder\n",
    "from sklearn.compose import ColumnTransformer\n",
    "import matplotlib.pyplot as plt\n",
    "import seaborn as sns\n",
    "import matplotlib.style as style\n",
    "style.use('fivethirtyeight')"
   ]
  },
  {
   "cell_type": "code",
   "execution_count": 3,
   "metadata": {},
   "outputs": [],
   "source": [
    "colors = [\"#FF0B04\", \"#F1BE48\",\n",
    "           \"#B9975B\", \"#8B5B29\",\n",
    "           \"#524727\",\n",
    "         ]\n",
    "sns.set_palette(sns.color_palette(colors))"
   ]
  },
  {
   "cell_type": "code",
   "execution_count": 4,
   "metadata": {
    "scrolled": false
   },
   "outputs": [],
   "source": [
    "train = pd.read_csv('train_clean.csv', index_col=0)"
   ]
  },
  {
   "cell_type": "code",
   "execution_count": 6,
   "metadata": {},
   "outputs": [
    {
     "data": {
      "text/plain": [
       "[]"
      ]
     },
     "execution_count": 6,
     "metadata": {},
     "output_type": "execute_result"
    }
   ],
   "source": [
    "cols_na = train.loc[:,train.isna().any(axis=0)].columns.to_list()\n",
    "cols_na"
   ]
  },
  {
   "cell_type": "code",
   "execution_count": 8,
   "metadata": {},
   "outputs": [
    {
     "data": {
      "text/plain": [
       "<bound method DataFrame.select_dtypes of             PID  GrLivArea  SalePrice  \\\n",
       "0     905101330       1296      90000   \n",
       "1     909451100       1229     137000   \n",
       "2     527451450        948      89000   \n",
       "3     903232190       1040     123900   \n",
       "4     914452120        912     156000   \n",
       "...         ...        ...        ...   \n",
       "1866  533212010       1200     151000   \n",
       "1867  528168030       2400     290000   \n",
       "1868  908275090       1346     112000   \n",
       "1869  907251090       2031     237000   \n",
       "1870  907230240       1320     137000   \n",
       "\n",
       "                                           MSSubClass MSZoning  LotFrontage  \\\n",
       "0      MSSubClass_MSSubClass_MSSubClass_MSSubClass_90       RL    72.000000   \n",
       "1     MSSubClass_MSSubClass_MSSubClass_MSSubClass_160       RM    24.000000   \n",
       "2     MSSubClass_MSSubClass_MSSubClass_MSSubClass_160       RM    21.000000   \n",
       "3      MSSubClass_MSSubClass_MSSubClass_MSSubClass_50       RM    52.000000   \n",
       "4      MSSubClass_MSSubClass_MSSubClass_MSSubClass_85       RL    61.990202   \n",
       "...                                               ...      ...          ...   \n",
       "1866  MSSubClass_MSSubClass_MSSubClass_MSSubClass_160       FV    30.000000   \n",
       "1867   MSSubClass_MSSubClass_MSSubClass_MSSubClass_60       RL    96.000000   \n",
       "1868   MSSubClass_MSSubClass_MSSubClass_MSSubClass_50       RL    70.000000   \n",
       "1869   MSSubClass_MSSubClass_MSSubClass_MSSubClass_60       RL    75.000000   \n",
       "1870  MSSubClass_MSSubClass_MSSubClass_MSSubClass_160       RH    31.414227   \n",
       "\n",
       "      LotArea Street  Alley LotShape  ... ScreenPorch PoolArea PoolQC  Fence  \\\n",
       "0       10791   Pave    0.0      Reg  ...           0        0    0.0   None   \n",
       "1        1488   Pave    0.0      Reg  ...           0        0    0.0  GdPrv   \n",
       "2        1680   Pave    0.0      Reg  ...           0        0    0.0   None   \n",
       "3        6240   Pave    0.0      Reg  ...           0        0    0.0   None   \n",
       "4        7540   Pave    0.0      IR1  ...         192        0    0.0  MnPrv   \n",
       "...       ...    ...    ...      ...  ...         ...      ...    ...    ...   \n",
       "1866     3182   Pave    2.0      Reg  ...           0        0    0.0   None   \n",
       "1867    13262   Pave    0.0      IR1  ...           0        0    0.0   None   \n",
       "1868    11767   Pave    0.0      Reg  ...           0        0    0.0   GdWo   \n",
       "1869     9473   Pave    0.0      Reg  ...           0        0    0.0   None   \n",
       "1870     3612   Pave    0.0      IR1  ...           0        0    0.0  MnPrv   \n",
       "\n",
       "     MiscFeature MiscVal MoSold YrSold SaleType  SaleCondition  \n",
       "0           Shed     500     10   2006      WD          Normal  \n",
       "1           None       0     10   2009      WD          Normal  \n",
       "2           None       0      7   2006      WD          Normal  \n",
       "3           None       0      5   2010      WD          Normal  \n",
       "4           None       0      6   2007      WD          Normal  \n",
       "...          ...     ...    ...    ...      ...            ...  \n",
       "1866        None       0      6   2010      WD          Normal  \n",
       "1867        None       0      6   2009      WD          Normal  \n",
       "1868        None       0      5   2007      WD          Normal  \n",
       "1869        None       0      3   2008      WD          Normal  \n",
       "1870        None       0      6   2006      WD          Normal  \n",
       "\n",
       "[1871 rows x 81 columns]>"
      ]
     },
     "execution_count": 8,
     "metadata": {},
     "output_type": "execute_result"
    }
   ],
   "source": [
    "cat_feats = df.select_dtypes(['object','bool']).columns.to_list()\n"
   ]
  },
  {
   "cell_type": "code",
   "execution_count": 12,
   "metadata": {},
   "outputs": [],
   "source": [
    "X = train.drop('SalePrice',axis=1)\n",
    "transformer = ColumnTransformer([(\"Cat\", OneHotEncoder(drop='first'), categorical)], remainder='passthrough')\n",
    "X = transformer.fit_transform(X)"
   ]
  },
  {
   "cell_type": "code",
   "execution_count": 13,
   "metadata": {},
   "outputs": [],
   "source": [
    "y = np.log(train['SalePrice'])"
   ]
  },
  {
   "cell_type": "code",
   "execution_count": 14,
   "metadata": {},
   "outputs": [],
   "source": [
    "ols = linear_model.LinearRegression()"
   ]
  },
  {
   "cell_type": "code",
   "execution_count": 15,
   "metadata": {},
   "outputs": [
    {
     "data": {
      "text/plain": [
       "0.9531732835572826"
      ]
     },
     "execution_count": 15,
     "metadata": {},
     "output_type": "execute_result"
    }
   ],
   "source": [
    "ols.fit(X, y)\n",
    "ols.score(X, y)"
   ]
  },
  {
   "cell_type": "markdown",
   "metadata": {},
   "source": [
    "## test clean"
   ]
  },
  {
   "cell_type": "code",
   "execution_count": 16,
   "metadata": {},
   "outputs": [],
   "source": [
    "test = pd.read_csv('test.csv', index_col=0)"
   ]
  },
  {
   "cell_type": "code",
   "execution_count": 17,
   "metadata": {},
   "outputs": [],
   "source": [
    "# converting all similar mappings together\n",
    "# most popular mapping\n",
    "cat_ordinal_features = [\n",
    "    'GarageQual','GarageCond',\n",
    "    'FireplaceQu',\n",
    "    'KitchenQual',\n",
    "    'ExterQual','ExterCond',\n",
    "    'BsmtQual','BsmtCond',\n",
    "    'HeatingQC'\n",
    "    ]\n",
    "cat_ordinal_dict = {'Po':1,'Fa':2,'TA':3,'Gd':4,'Ex':5}\n",
    "test = helper.convert_cat_ordinal_vars_to_num(test,\n",
    "                                               cat_ordinal_features,\n",
    "                                               cat_ordinal_dict)\n",
    "# now just unique mappings\n",
    "# BsmtExposure\n",
    "cat_ordinal_features = [\n",
    "    'BsmtExposure'\n",
    "]\n",
    "cat_ordinal_dict = {'No':1,'Mn':2,'Av':3,'Gd':4}\n",
    "test = helper.convert_cat_ordinal_vars_to_num(test,\n",
    "                                               cat_ordinal_features,\n",
    "                                               cat_ordinal_dict)\n",
    "# Functional\n",
    "cat_ordinal_features = [\n",
    "    'Functional'\n",
    "]\n",
    "cat_ordinal_dict = {'Sal':1,'Sev':2,'Maj2':3,'Maj1':4,\n",
    "                    'Mod':5,'Min2':6,'Min1':7,'Typ':8}\n",
    "test = helper.convert_cat_ordinal_vars_to_num(test,\n",
    "                                               cat_ordinal_features,\n",
    "                                               cat_ordinal_dict)\n",
    "# PoolQC\n",
    "cat_ordinal_features = [\n",
    "    'PoolQC'\n",
    "]\n",
    "cat_ordinal_dict = {'Fa':1,'TA':2,'Gd':3,'Ex':4}\n",
    "test = helper.convert_cat_ordinal_vars_to_num(test,\n",
    "                                               cat_ordinal_features,\n",
    "                                               cat_ordinal_dict)\n",
    "# Fence\n",
    "cat_ordinal_features = [\n",
    "    'Fence'\n",
    "]\n",
    "cat_ordinal_dict = {'MnWw':1,'GdWo':2,'MnPrv':3,'GdPrv':4}\n",
    "test = helper.convert_cat_ordinal_vars_to_num(test,\n",
    "                                               cat_ordinal_features,\n",
    "                                               cat_ordinal_dict)"
   ]
  },
  {
   "cell_type": "code",
   "execution_count": 18,
   "metadata": {
    "scrolled": true
   },
   "outputs": [],
   "source": [
    "test.loc[test['LotFrontage'].isna(), 'LotFrontage'] = test.loc[test['LotFrontage'].isna(), :].apply(\n",
    "    lambda x: LotFrontage_dict[x['BldgType']]*np.sqrt(x['LotArea']), axis=1\n",
    ")"
   ]
  },
  {
   "cell_type": "code",
   "execution_count": 19,
   "metadata": {},
   "outputs": [],
   "source": [
    "## LotFrontage now dealt with above. Had to add 'Electrical', 'RoofMatl' etc.\n",
    "\n",
    "# weirdest nas. lot frontage. probably worth removing\n",
    "# not dealing with them out of expediance. \n",
    "drop_now_but_look_at_later = ['MasVnrArea','GarageYrBlt','MasVnrType', 'Electrical', 'RoofMatl', \n",
    "                              'Exterior1st', 'Exterior2nd', 'Utilities']\n",
    "test.drop(drop_now_but_look_at_later, axis=1,inplace = True)"
   ]
  },
  {
   "cell_type": "code",
   "execution_count": 20,
   "metadata": {},
   "outputs": [],
   "source": [
    "na_none_features = ['MiscFeature','Alley','BsmtFinType1','BsmtFinType2',\n",
    "                   'GarageFinish','GarageType']\n",
    "for na_none_feature in na_none_features:\n",
    "    test[na_none_feature] = test[na_none_feature].fillna(value = 'None')"
   ]
  },
  {
   "cell_type": "code",
   "execution_count": 21,
   "metadata": {},
   "outputs": [],
   "source": [
    "## Typo similar to train?\n",
    "na_zero_features = ['BsmtFullBath','BsmtHalfBath','BsmtFinSF1','BsmtFinSF2','BsmtUnfSF','TotalBsmtSF']\n",
    "for na_zero_feature in na_zero_features:\n",
    "    test[na_zero_feature] = test[na_zero_feature].fillna(value = 0)"
   ]
  },
  {
   "cell_type": "code",
   "execution_count": 22,
   "metadata": {},
   "outputs": [
    {
     "data": {
      "text/plain": [
       "[]"
      ]
     },
     "execution_count": 22,
     "metadata": {},
     "output_type": "execute_result"
    }
   ],
   "source": [
    "cols_na = test.loc[:,test.isna().any(axis=0)].columns.to_list()\n",
    "cols_na"
   ]
  },
  {
   "cell_type": "code",
   "execution_count": 23,
   "metadata": {
    "scrolled": true
   },
   "outputs": [],
   "source": [
    "X_tst = test.drop('SalePrice',axis=1)\n",
    "X_tst = transformer.transform(X_tst)"
   ]
  },
  {
   "cell_type": "code",
   "execution_count": 24,
   "metadata": {},
   "outputs": [],
   "source": [
    "y_tst = np.log(test['SalePrice'])"
   ]
  },
  {
   "cell_type": "code",
   "execution_count": 25,
   "metadata": {},
   "outputs": [
    {
     "data": {
      "text/plain": [
       "0.9533403078902463"
      ]
     },
     "execution_count": 25,
     "metadata": {},
     "output_type": "execute_result"
    }
   ],
   "source": [
    "ols.fit(X_tst, y_tst)\n",
    "ols.score(X_tst, y_tst)"
   ]
  }
 ],
 "metadata": {
  "kernelspec": {
   "display_name": "Python 3",
   "language": "python",
   "name": "python3"
  },
  "language_info": {
   "codemirror_mode": {
    "name": "ipython",
    "version": 3
   },
   "file_extension": ".py",
   "mimetype": "text/x-python",
   "name": "python",
   "nbconvert_exporter": "python",
   "pygments_lexer": "ipython3",
   "version": "3.8.5"
  }
 },
 "nbformat": 4,
 "nbformat_minor": 5
}
