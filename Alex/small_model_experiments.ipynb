{
 "cells": [
  {
   "cell_type": "code",
   "execution_count": 1,
   "metadata": {},
   "outputs": [],
   "source": [
    "import pandas as pd\n",
    "import numpy as np\n",
    "from sklearn import linear_model\n",
    "from sklearn.preprocessing import OneHotEncoder\n",
    "from sklearn.compose import ColumnTransformer\n",
    "from scipy import stats\n",
    "from scipy.stats import zscore\n",
    "import itertools\n",
    "import re\n",
    "import matplotlib.pyplot as plt\n",
    "import seaborn as sns\n",
    "import helper"
   ]
  },
  {
   "cell_type": "code",
   "execution_count": 2,
   "metadata": {},
   "outputs": [],
   "source": [
    "plt.rcParams['figure.dpi'] = 300\n",
    "plt.rcParams['savefig.dpi'] = 300\n",
    "isu_pal = [\n",
    "    \"#FF0B04\", \"#9A3324\", \"#B9975B\", \"#707372\", \"#F1BE48\",\n",
    "    \"#FF0B04\", \"#9A3324\", \"#B9975B\", \"#707372\", \"#F1BE48\",\n",
    "    \"#FF0B04\", \"#9A3324\", \"#B9975B\", \"#707372\", \"#F1BE48\",\n",
    "    \"#FF0B04\", \"#9A3324\", \"#B9975B\", \"#707372\", \"#F1BE48\",\n",
    "    \"#FF0B04\", \"#9A3324\", \"#B9975B\", \"#707372\", \"#F1BE48\",\n",
    "    \"#FF0B04\", \"#9A3324\", \"#B9975B\", \"#707372\", \"#F1BE48\"\n",
    "]\n",
    "sns.set_theme()\n",
    "sns.set_context('notebook')\n",
    "sns.set_palette(sns.color_palette(isu_pal))"
   ]
  },
  {
   "cell_type": "code",
   "execution_count": 3,
   "metadata": {},
   "outputs": [],
   "source": [
    "reg = linear_model.LinearRegression()"
   ]
  },
  {
   "cell_type": "code",
   "execution_count": 4,
   "metadata": {},
   "outputs": [],
   "source": [
    "hous_all = pd.read_csv('all.csv', index_col=0, low_memory=False)"
   ]
  },
  {
   "cell_type": "code",
   "execution_count": 5,
   "metadata": {},
   "outputs": [],
   "source": [
    "# Exclude everything except where 'SaleCondition' is 'Normal' or 'Partial'.\n",
    "hous_all = hous_all[(hous_all['SaleCondition'] == 'Normal') | (hous_all['SaleCondition'] == 'Partial')]"
   ]
  },
  {
   "cell_type": "code",
   "execution_count": 6,
   "metadata": {},
   "outputs": [
    {
     "data": {
      "text/plain": [
       "Normal     2414\n",
       "Partial      82\n",
       "Name: SaleCondition, dtype: int64"
      ]
     },
     "execution_count": 6,
     "metadata": {},
     "output_type": "execute_result"
    }
   ],
   "source": [
    "hous_all['SaleCondition'].value_counts()"
   ]
  },
  {
   "cell_type": "code",
   "execution_count": 7,
   "metadata": {},
   "outputs": [],
   "source": [
    "# Perform the split using stratified sampling based on 'Neighborhood'.\n",
    "hous_trn, hous_tst = helper.stratified_split(hous_all, 'Neighborhood')"
   ]
  },
  {
   "cell_type": "code",
   "execution_count": 8,
   "metadata": {
    "scrolled": false
   },
   "outputs": [
    {
     "name": "stdout",
     "output_type": "stream",
     "text": [
      "(1871, 81)\n",
      "(624, 81)\n"
     ]
    }
   ],
   "source": [
    "print(hous_trn.shape)\n",
    "print(hous_tst.shape)"
   ]
  },
  {
   "cell_type": "code",
   "execution_count": 9,
   "metadata": {},
   "outputs": [],
   "source": [
    "hous_trn['LogGrLivArea'] = np.log(hous_trn['GrLivArea'])"
   ]
  },
  {
   "cell_type": "code",
   "execution_count": 10,
   "metadata": {},
   "outputs": [
    {
     "data": {
      "text/plain": [
       "0.7853806529862986"
      ]
     },
     "execution_count": 10,
     "metadata": {},
     "output_type": "execute_result"
    }
   ],
   "source": [
    "## target: log(SalePrice), predictors: log(GrLivArea) and Neighborhood\n",
    "X = hous_trn.loc[:, ['LogGrLivArea', 'Neighborhood']]\n",
    "transformer = ColumnTransformer([(\"Cat\", OneHotEncoder(drop='first'), ['Neighborhood'])], remainder='passthrough')\n",
    "X = transformer.fit_transform(X)\n",
    "y = np.log(hous_trn['SalePrice'])\n",
    "reg.fit(X, y)\n",
    "reg.score(X, y)"
   ]
  },
  {
   "cell_type": "code",
   "execution_count": 11,
   "metadata": {},
   "outputs": [
    {
     "data": {
      "text/plain": [
       "0.7818429791603757"
      ]
     },
     "execution_count": 11,
     "metadata": {},
     "output_type": "execute_result"
    }
   ],
   "source": [
    "## target: log(SalePrice), predictors: GrLivArea and Neighborhood\n",
    "X = hous_trn.loc[:, ['GrLivArea', 'Neighborhood']]\n",
    "transformer = ColumnTransformer([(\"Cat\", OneHotEncoder(drop='first'), ['Neighborhood'])], remainder='passthrough')\n",
    "X = transformer.fit_transform(X)\n",
    "y = np.log(hous_trn['SalePrice'])\n",
    "reg.fit(X, y)\n",
    "reg.score(X, y)"
   ]
  },
  {
   "cell_type": "code",
   "execution_count": 12,
   "metadata": {},
   "outputs": [
    {
     "data": {
      "text/plain": [
       "0.7607642362334881"
      ]
     },
     "execution_count": 12,
     "metadata": {},
     "output_type": "execute_result"
    }
   ],
   "source": [
    "## target: SalePrice, predictors: GrLivArea and Neighborhood\n",
    "X = hous_trn.loc[:, ['GrLivArea', 'Neighborhood']]\n",
    "transformer = ColumnTransformer([(\"Cat\", OneHotEncoder(drop='first'), ['Neighborhood'])], remainder='passthrough')\n",
    "X = transformer.fit_transform(X)\n",
    "y = hous_trn['SalePrice']\n",
    "reg.fit(X, y)\n",
    "reg.score(X, y)"
   ]
  },
  {
   "cell_type": "code",
   "execution_count": 13,
   "metadata": {},
   "outputs": [
    {
     "data": {
      "text/plain": [
       "0.5153763380911464"
      ]
     },
     "execution_count": 13,
     "metadata": {},
     "output_type": "execute_result"
    }
   ],
   "source": [
    "## target: SalePrice/GrLivArea, predictors: log(GrLivArea), Neighborhood\n",
    "X = hous_trn.loc[:, ['LogGrLivArea', 'Neighborhood']]\n",
    "transformer = ColumnTransformer([(\"Cat\", OneHotEncoder(drop='first'), ['Neighborhood'])], remainder='passthrough')\n",
    "X = transformer.fit_transform(X)\n",
    "y = hous_trn['SalePrice']/hous_trn['GrLivArea']\n",
    "reg.fit(X, y)\n",
    "reg.score(X, y)"
   ]
  },
  {
   "cell_type": "code",
   "execution_count": 14,
   "metadata": {},
   "outputs": [
    {
     "data": {
      "text/plain": [
       "0.4977267693396702"
      ]
     },
     "execution_count": 14,
     "metadata": {},
     "output_type": "execute_result"
    }
   ],
   "source": [
    "## target: SalePrice/GrLivArea, predictors: GrLivArea, Neighborhood\n",
    "X = hous_trn.loc[:, ['GrLivArea', 'Neighborhood']]\n",
    "transformer = ColumnTransformer([(\"Cat\", OneHotEncoder(drop='first'), ['Neighborhood'])], remainder='passthrough')\n",
    "X = transformer.fit_transform(X)\n",
    "y = hous_trn['SalePrice']/hous_trn['GrLivArea']\n",
    "reg.fit(X, y)\n",
    "reg.score(X, y)"
   ]
  },
  {
   "cell_type": "code",
   "execution_count": 15,
   "metadata": {},
   "outputs": [
    {
     "data": {
      "text/plain": [
       "0.39629197253798154"
      ]
     },
     "execution_count": 15,
     "metadata": {},
     "output_type": "execute_result"
    }
   ],
   "source": [
    "## target: SalePrice/GrLivArea, predictors: Neighborhood\n",
    "X = hous_trn.loc[:, ['Neighborhood']]\n",
    "transformer = ColumnTransformer([(\"Cat\", OneHotEncoder(drop='first'), ['Neighborhood'])], remainder='passthrough')\n",
    "X = transformer.fit_transform(X)\n",
    "y = hous_trn['SalePrice']/hous_trn['GrLivArea']\n",
    "reg.fit(X, y)\n",
    "reg.score(X, y)"
   ]
  },
  {
   "cell_type": "code",
   "execution_count": 16,
   "metadata": {},
   "outputs": [
    {
     "data": {
      "text/plain": [
       "0.38508667411156094"
      ]
     },
     "execution_count": 16,
     "metadata": {},
     "output_type": "execute_result"
    }
   ],
   "source": [
    "## target: log(SalePrice/GrLivArea), predictors: Neighborhood\n",
    "X = hous_trn.loc[:, ['Neighborhood']]\n",
    "transformer = ColumnTransformer([(\"Cat\", OneHotEncoder(drop='first'), ['Neighborhood'])], remainder='passthrough')\n",
    "X = transformer.fit_transform(X)\n",
    "y = np.log(hous_trn['SalePrice']/hous_trn['GrLivArea'])\n",
    "reg.fit(X, y)\n",
    "reg.score(X, y)"
   ]
  }
 ],
 "metadata": {
  "kernelspec": {
   "display_name": "Python 3",
   "language": "python",
   "name": "python3"
  },
  "language_info": {
   "codemirror_mode": {
    "name": "ipython",
    "version": 3
   },
   "file_extension": ".py",
   "mimetype": "text/x-python",
   "name": "python",
   "nbconvert_exporter": "python",
   "pygments_lexer": "ipython3",
   "version": "3.8.5"
  }
 },
 "nbformat": 4,
 "nbformat_minor": 4
}
