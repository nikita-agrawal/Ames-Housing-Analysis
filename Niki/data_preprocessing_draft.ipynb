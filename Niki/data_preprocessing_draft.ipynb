{
 "cells": [
  {
   "cell_type": "markdown",
   "id": "34c3a960",
   "metadata": {},
   "source": [
    "# Data Preprocessing V3 \n"
   ]
  },
  {
   "cell_type": "code",
   "execution_count": 1,
   "id": "4a154501",
   "metadata": {},
   "outputs": [],
   "source": [
    "import pandas as pd\n",
    "import numpy as np\n",
    "import helper"
   ]
  },
  {
   "cell_type": "markdown",
   "id": "43bd3404",
   "metadata": {},
   "source": [
    "# PART A: Functions used in preprocessing"
   ]
  },
  {
   "cell_type": "markdown",
   "id": "ea4aedcf",
   "metadata": {},
   "source": [
    "### A1. Overall helper functions\n"
   ]
  },
  {
   "cell_type": "code",
   "execution_count": 2,
   "id": "2f7bc501",
   "metadata": {},
   "outputs": [],
   "source": [
    "def identify_feats(df):\n",
    "    # Categorical features\n",
    "    cat_feats = df.select_dtypes(['object','bool']).columns.to_list()\n",
    "    # Numerical features\n",
    "    num_feats = df.select_dtypes(['int', 'float']).columns.to_list()\n",
    "    print(\"categorical: \"+ str(df[cat_feats].shape[1]))\n",
    "    print(\"numerical: \"+ str(df[num_feats].shape[1]))\n",
    "    print(\"df dims:\" + str(df.shape))\n",
    "    return(cat_feats,num_feats)"
   ]
  },
  {
   "cell_type": "code",
   "execution_count": 3,
   "id": "490856fa",
   "metadata": {},
   "outputs": [],
   "source": [
    "def cols_with_na(df,threshold=0):\n",
    "    count = 0\n",
    "    for col in df.columns.to_list():\n",
    "        if(df[col].isna().sum()/len(df))>threshold:\n",
    "            count += 1\n",
    "            print(str(col) + \"   \" + str(df[col].isna().sum()) + \"   \" + str(round(df[col].isna().sum()/len(df)*100,2))) \n",
    "    print('Total columns with NA values above threshold ' + str(threshold*100) + \"%: \" + str(count))"
   ]
  },
  {
   "cell_type": "markdown",
   "id": "9a3a093d",
   "metadata": {},
   "source": [
    "###  A2. Functions related to numeric features \n",
    "##### (and a few categorical in impute_missing_values)"
   ]
  },
  {
   "cell_type": "code",
   "execution_count": 4,
   "id": "5524c26f",
   "metadata": {},
   "outputs": [],
   "source": [
    "#Special Case Imputations \n",
    "\n",
    "def impute_missing_vals(df):\n",
    "    #1. Impute LotFrontage missing values with linear regression coefficients \n",
    "    # AA: LotFrontage imputed as (coefficient from dict) * sqrt(LotArea)\n",
    "    LotFrontage_dict = {'1Fam':0.7139, 'TwnhsE':0.5849, 'Twnhs':0.5227, 'Duplex':0.7725, '2fmCon':0.6922}\n",
    "    df.loc[df['LotFrontage'].isna(), 'LotFrontage'] = df.loc[df['LotFrontage'].isna(), :].apply(\n",
    "        lambda x: LotFrontage_dict[x['BldgType']]*np.sqrt(x['LotArea']), axis=1)\n",
    "\n",
    "    #2. All rows with MasVnrArea null values also have MasVnrType as null.\\\n",
    "    idx = df['MasVnrArea'].isna() & (df['MasVnrType'].isna())\n",
    "    #Assume these properties do not have a veneer, so set MasVnrType as \"None\" and MasVnrArea as 0 \n",
    "    df.loc[idx,'MasVnrArea'] = 0 \n",
    "    df.loc[idx,'MasVnrType'] = \"None\" #motivated by the null value in test, is this data leakage?\n",
    "\n",
    "    #3 & 4. BsmtFullBath & BsmtHalfBath nulls corresponds with No basement. Can impute with 0. \n",
    "    df.loc[df['BsmtFullBath'].isna() & (df['TotalBsmtSF']==0),'BsmtFullBath'] = 0\n",
    "    df.loc[df['BsmtHalfBath'].isna() & (df['TotalBsmtSF']==0),'BsmtHalfBath'] = 0 \n",
    "\n",
    "    #5. GarageYrBuilt - repalce missing year with YearBuilt for properties with non-zero garage area values  \n",
    "    idx = df['GarageYrBlt'].isna() & (df['GarageArea']!=0.0)\n",
    "    df.loc[idx,'GarageYrBlt'] = df.loc[idx,'YearBuilt']\n",
    "    #The rest do not have garages so fill with 0, later convert to None \n",
    "    df['GarageYrBlt'] = df['GarageYrBlt'].fillna(value=0)\n",
    "    \n",
    "    #6. Impute 'Electrical' null values with the most common type 'SBrKr' -> motivated by the null value in test, is this data leakage?\n",
    "    ### trainX['Electrical'].mode() = SBrkr\n",
    "    df.loc[df['Electrical'].isna(),'Electrical'] = 'SBrkr'\n",
    "    \n",
    "    #7. JH:Specific additions: Replacing two values of GarageType to None\n",
    "    df.loc[df['PID'] == 903426160,'GarageType'] = 'None'\n",
    "    df.loc[df['PID'] == 910201180,'GarageType'] = 'None'\n",
    "    \n",
    "    return df"
   ]
  },
  {
   "cell_type": "code",
   "execution_count": 5,
   "id": "f9e4bca8",
   "metadata": {},
   "outputs": [],
   "source": [
    "def convert_num_to_categorical(df,num_to_nominal_cat_feats=['GarageCars','MSSubClass','KitchenAbvGr','BedroomAbvGr','MoSold','YrSold']):\n",
    "    #Features that were originally numeric but should be treated as nominal categories since there is no clear \n",
    "    #advantage from applying a rank:\n",
    "    for feat in num_to_nominal_cat_feats:\n",
    "        df[feat] = df[feat].astype(str)\n",
    "    \n",
    "    return df"
   ]
  },
  {
   "cell_type": "markdown",
   "id": "79ebc19c",
   "metadata": {},
   "source": [
    "### A3. Functions related to categorical features"
   ]
  },
  {
   "cell_type": "code",
   "execution_count": 6,
   "id": "6de0f5f7",
   "metadata": {},
   "outputs": [],
   "source": [
    "#According to data dictionary, NA translates to 'None' (No access, No basement etc.) for the following categories:\n",
    "def replace_na_with_none(df):\n",
    "    na_means_none_cols = ['Alley','BsmtQual','BsmtCond','BsmtFinType1','BsmtFinType2',\n",
    "                 'BsmtExposure','FireplaceQu','GarageType','GarageFinish',\n",
    "                 'GarageQual','GarageCond','PoolQC','Fence','MiscFeature']\n",
    "    for col in na_means_none_cols:\n",
    "        df[col] = df[col].fillna(value = 'None')\n",
    "    return df"
   ]
  },
  {
   "cell_type": "code",
   "execution_count": 7,
   "id": "3d834b94",
   "metadata": {},
   "outputs": [],
   "source": [
    "def map_ordinal_cat(df):\n",
    "    #Maps\n",
    "    common_ranks_dict = {'None':0,'Po':1,'Fa':2,'TA':3,'Gd':4,'Ex':5}\n",
    "    replace_map = {\n",
    "        'ExterQual': common_ranks_dict,\n",
    "        'ExterCond': common_ranks_dict,\n",
    "        'BsmtQual': common_ranks_dict,\n",
    "        'BsmtCond': common_ranks_dict,\n",
    "        'BsmtExposure': {'None':0,'No':1,'Mn':2,'Av':3,'Gd':4}, \n",
    "        'HeatingQC': common_ranks_dict,\n",
    "        'KitchenQual': common_ranks_dict,\n",
    "        'FireplaceQu': common_ranks_dict,\n",
    "        'GarageFinish': {'None':0,'Unf':1,'RFn':2,'Fin':3},\n",
    "        'GarageQual': common_ranks_dict,\n",
    "        'GarageCond': common_ranks_dict,\n",
    "        'PavedDrive': {'N':0,'P':1,'Y':2},\n",
    "        'PoolQC': {'None':0,'Fa':1,'TA':2,'Gd':3,'Ex':4},\n",
    "        'Alley': {'None':0,'Grvl':1,'Pave':2}\n",
    "    }              \n",
    "    #Replace strings with numbers \n",
    "    df.replace(replace_map, inplace=True)\n",
    "    return df "
   ]
  },
  {
   "cell_type": "markdown",
   "id": "3cb21153",
   "metadata": {},
   "source": [
    "# PART B: Overall Preprocessing Pipeline\n"
   ]
  },
  {
   "cell_type": "code",
   "execution_count": 8,
   "id": "3d6e9703",
   "metadata": {},
   "outputs": [],
   "source": [
    "# Loading and splitting data\n",
    "housing = pd.read_csv('Ames_Housing_Price_Data.csv')\n",
    "housing.drop('Unnamed: 0', axis=1, inplace=True)\n",
    "housing = housing[(housing['SaleCondition'] == 'Normal') | (housing['SaleCondition'] == 'Partial')].reset_index(drop=True)\n",
    "train_raw, test_raw = helper.stratified_split(housing,'Neighborhood')"
   ]
  },
  {
   "cell_type": "code",
   "execution_count": 9,
   "id": "b4656ee2",
   "metadata": {},
   "outputs": [],
   "source": [
    "#Function to print out information on columns at each step \n",
    "def check(df):\n",
    "    #Print out number catgeorical and numeric feats, and dataframe dimensions \n",
    "    cat_feats,num_feats = identify_feats(df)\n",
    "    print('\\n')\n",
    "    print('Categorical: \\n')\n",
    "    print(cat_feats)\n",
    "    print('\\n Numeric: \\n')\n",
    "    print(num_feats)\n",
    "    #Print out column, missing value count, missing value percentage \n",
    "    print('\\n')\n",
    "    cols_with_na(df)"
   ]
  },
  {
   "cell_type": "markdown",
   "id": "27255dab",
   "metadata": {},
   "source": [
    "### Training Data "
   ]
  },
  {
   "cell_type": "code",
   "execution_count": 10,
   "id": "5939558c",
   "metadata": {},
   "outputs": [],
   "source": [
    "#Step 0. Copy data \n",
    "train_clean = train_raw.copy()\n",
    "#check(train_clean)"
   ]
  },
  {
   "cell_type": "code",
   "execution_count": 11,
   "id": "0824517a",
   "metadata": {},
   "outputs": [],
   "source": [
    "#Step 1. Special case imputations (mostly numeric)\n",
    "train_clean = impute_missing_vals(train_clean)\n",
    "#check(train_clean)"
   ]
  },
  {
   "cell_type": "code",
   "execution_count": 12,
   "id": "306594a1",
   "metadata": {},
   "outputs": [],
   "source": [
    "#Step 2. Convert some numeric variables to type 'str' so they are handled as nominal categorical variables (1 hot encoded)\n",
    "num_to_cat_list =['GarageCars','MSSubClass','KitchenAbvGr','BedroomAbvGr','MoSold','YrSold']\n",
    "train_clean = convert_num_to_categorical(train_clean,num_to_cat_list) \n",
    "#check(train_clean)"
   ]
  },
  {
   "cell_type": "code",
   "execution_count": 13,
   "id": "6ee99af6",
   "metadata": {},
   "outputs": [],
   "source": [
    "#Step 3. Replace 'NA' with 'None' for categorical variables (according to Data Dictionary meaning)\n",
    "train_clean = replace_na_with_none(train_clean)\n",
    "#check(train_clean)"
   ]
  },
  {
   "cell_type": "code",
   "execution_count": 14,
   "id": "b0711369",
   "metadata": {},
   "outputs": [],
   "source": [
    "#Step 4. Drop columns \n",
    "train_clean = train_clean.drop(['PID'],axis='columns')\n",
    "#check(train_clean)"
   ]
  },
  {
   "cell_type": "code",
   "execution_count": 15,
   "id": "da58a73c",
   "metadata": {},
   "outputs": [],
   "source": [
    "#Step 5. Encode ordinal categoricals to numbers \n",
    "train_clean = map_ordinal_cat(train_clean)\n",
    "#check(train_clean)"
   ]
  },
  {
   "cell_type": "markdown",
   "id": "938a0478",
   "metadata": {},
   "source": [
    "### Test Data \n"
   ]
  },
  {
   "cell_type": "code",
   "execution_count": 16,
   "id": "504c2f30",
   "metadata": {},
   "outputs": [],
   "source": [
    "#Step 0. Copy data \n",
    "test_clean = test_raw.copy()\n",
    "#check(test_clean)"
   ]
  },
  {
   "cell_type": "code",
   "execution_count": 17,
   "id": "8d1174fc",
   "metadata": {},
   "outputs": [],
   "source": [
    "#Step 1. Special case imputations (mostly numeric)\n",
    "test_clean = impute_missing_vals(test_clean)\n",
    "#check(test_clean)"
   ]
  },
  {
   "cell_type": "code",
   "execution_count": 18,
   "id": "3ef5ff4e",
   "metadata": {},
   "outputs": [],
   "source": [
    "#Step 2. Convert some numeric variables to type 'str' so they are handled as nominal categorical variables (1 hot encoded)\n",
    "num_to_cat_list =['GarageCars','MSSubClass','KitchenAbvGr','BedroomAbvGr','MoSold','YrSold']\n",
    "test_clean = convert_num_to_categorical(test_clean,num_to_cat_list) \n",
    "#check(test_clean)"
   ]
  },
  {
   "cell_type": "code",
   "execution_count": 19,
   "id": "a55582d0",
   "metadata": {},
   "outputs": [],
   "source": [
    "#Step 3. Replace 'NA' with 'None' for categorical variables (according to Data Dictionary meaning)\n",
    "test_clean = replace_na_with_none(test_clean)\n",
    "#check(test_clean)"
   ]
  },
  {
   "cell_type": "code",
   "execution_count": 20,
   "id": "fac16ac5",
   "metadata": {},
   "outputs": [],
   "source": [
    "#Step 4. Drop columns \n",
    "test_clean = test_clean.drop(['PID'],axis='columns')\n",
    "#check(test_clean)"
   ]
  },
  {
   "cell_type": "code",
   "execution_count": 21,
   "id": "74330b38",
   "metadata": {},
   "outputs": [],
   "source": [
    "#Step 5. Encode ordinal categoricals to numbers \n",
    "test_clean = map_ordinal_cat(test_clean)\n",
    "#check(test_clean)"
   ]
  },
  {
   "cell_type": "markdown",
   "id": "0961defd",
   "metadata": {},
   "source": [
    "# PART C: Export CSVs\n"
   ]
  },
  {
   "cell_type": "code",
   "execution_count": 22,
   "id": "713d40ce",
   "metadata": {},
   "outputs": [],
   "source": [
    "train_clean.to_csv('train_clean.csv')\n",
    "test_clean.to_csv('test_clean.csv')"
   ]
  },
  {
   "cell_type": "code",
   "execution_count": 23,
   "id": "ae1fedee",
   "metadata": {},
   "outputs": [
    {
     "data": {
      "text/plain": [
       "False"
      ]
     },
     "execution_count": 23,
     "metadata": {},
     "output_type": "execute_result"
    }
   ],
   "source": [
    "train_clean.isnull().sum().any(axis=0)"
   ]
  },
  {
   "cell_type": "code",
   "execution_count": 24,
   "id": "33c6e40b",
   "metadata": {},
   "outputs": [
    {
     "data": {
      "text/plain": [
       "False"
      ]
     },
     "execution_count": 24,
     "metadata": {},
     "output_type": "execute_result"
    }
   ],
   "source": [
    "test_clean.isnull().sum().any(axis=0)"
   ]
  },
  {
   "cell_type": "code",
   "execution_count": 26,
   "id": "9aee424d",
   "metadata": {},
   "outputs": [
    {
     "data": {
      "text/plain": [
       "Index(['GrLivArea', 'SalePrice', 'MSSubClass', 'MSZoning', 'LotFrontage',\n",
       "       'LotArea', 'Street', 'Alley', 'LotShape', 'LandContour', 'Utilities',\n",
       "       'LotConfig', 'LandSlope', 'Neighborhood', 'Condition1', 'Condition2',\n",
       "       'BldgType', 'HouseStyle', 'OverallQual', 'OverallCond', 'YearBuilt',\n",
       "       'YearRemodAdd', 'RoofStyle', 'RoofMatl', 'Exterior1st', 'Exterior2nd',\n",
       "       'MasVnrType', 'MasVnrArea', 'ExterQual', 'ExterCond', 'Foundation',\n",
       "       'BsmtQual', 'BsmtCond', 'BsmtExposure', 'BsmtFinType1', 'BsmtFinSF1',\n",
       "       'BsmtFinType2', 'BsmtFinSF2', 'BsmtUnfSF', 'TotalBsmtSF', 'Heating',\n",
       "       'HeatingQC', 'CentralAir', 'Electrical', '1stFlrSF', '2ndFlrSF',\n",
       "       'LowQualFinSF', 'BsmtFullBath', 'BsmtHalfBath', 'FullBath', 'HalfBath',\n",
       "       'BedroomAbvGr', 'KitchenAbvGr', 'KitchenQual', 'TotRmsAbvGrd',\n",
       "       'Functional', 'Fireplaces', 'FireplaceQu', 'GarageType', 'GarageYrBlt',\n",
       "       'GarageFinish', 'GarageCars', 'GarageArea', 'GarageQual', 'GarageCond',\n",
       "       'PavedDrive', 'WoodDeckSF', 'OpenPorchSF', 'EnclosedPorch', '3SsnPorch',\n",
       "       'ScreenPorch', 'PoolArea', 'PoolQC', 'Fence', 'MiscFeature', 'MiscVal',\n",
       "       'MoSold', 'YrSold', 'SaleType', 'SaleCondition'],\n",
       "      dtype='object')"
      ]
     },
     "execution_count": 26,
     "metadata": {},
     "output_type": "execute_result"
    }
   ],
   "source": [
    "train_clean.columns"
   ]
  },
  {
   "cell_type": "code",
   "execution_count": 29,
   "id": "06ed3a92",
   "metadata": {},
   "outputs": [],
   "source": [
    "s = train_clean[['GrLivArea','1stFlrSF','2ndFlrSF']].sample(10)"
   ]
  },
  {
   "cell_type": "code",
   "execution_count": 30,
   "id": "9fb4bcd3",
   "metadata": {},
   "outputs": [
    {
     "data": {
      "text/html": [
       "<div>\n",
       "<style scoped>\n",
       "    .dataframe tbody tr th:only-of-type {\n",
       "        vertical-align: middle;\n",
       "    }\n",
       "\n",
       "    .dataframe tbody tr th {\n",
       "        vertical-align: top;\n",
       "    }\n",
       "\n",
       "    .dataframe thead th {\n",
       "        text-align: right;\n",
       "    }\n",
       "</style>\n",
       "<table border=\"1\" class=\"dataframe\">\n",
       "  <thead>\n",
       "    <tr style=\"text-align: right;\">\n",
       "      <th></th>\n",
       "      <th>GrLivArea</th>\n",
       "      <th>1stFlrSF</th>\n",
       "      <th>2ndFlrSF</th>\n",
       "    </tr>\n",
       "  </thead>\n",
       "  <tbody>\n",
       "    <tr>\n",
       "      <th>1074</th>\n",
       "      <td>1516</td>\n",
       "      <td>1516</td>\n",
       "      <td>0</td>\n",
       "    </tr>\n",
       "    <tr>\n",
       "      <th>993</th>\n",
       "      <td>892</td>\n",
       "      <td>892</td>\n",
       "      <td>0</td>\n",
       "    </tr>\n",
       "    <tr>\n",
       "      <th>3</th>\n",
       "      <td>1040</td>\n",
       "      <td>548</td>\n",
       "      <td>492</td>\n",
       "    </tr>\n",
       "    <tr>\n",
       "      <th>956</th>\n",
       "      <td>1690</td>\n",
       "      <td>845</td>\n",
       "      <td>845</td>\n",
       "    </tr>\n",
       "    <tr>\n",
       "      <th>1541</th>\n",
       "      <td>1501</td>\n",
       "      <td>757</td>\n",
       "      <td>744</td>\n",
       "    </tr>\n",
       "    <tr>\n",
       "      <th>322</th>\n",
       "      <td>1513</td>\n",
       "      <td>1513</td>\n",
       "      <td>0</td>\n",
       "    </tr>\n",
       "    <tr>\n",
       "      <th>373</th>\n",
       "      <td>1086</td>\n",
       "      <td>1086</td>\n",
       "      <td>0</td>\n",
       "    </tr>\n",
       "    <tr>\n",
       "      <th>317</th>\n",
       "      <td>1837</td>\n",
       "      <td>941</td>\n",
       "      <td>896</td>\n",
       "    </tr>\n",
       "    <tr>\n",
       "      <th>128</th>\n",
       "      <td>1493</td>\n",
       "      <td>1493</td>\n",
       "      <td>0</td>\n",
       "    </tr>\n",
       "    <tr>\n",
       "      <th>288</th>\n",
       "      <td>1600</td>\n",
       "      <td>1600</td>\n",
       "      <td>0</td>\n",
       "    </tr>\n",
       "  </tbody>\n",
       "</table>\n",
       "</div>"
      ],
      "text/plain": [
       "      GrLivArea  1stFlrSF  2ndFlrSF\n",
       "1074       1516      1516         0\n",
       "993         892       892         0\n",
       "3          1040       548       492\n",
       "956        1690       845       845\n",
       "1541       1501       757       744\n",
       "322        1513      1513         0\n",
       "373        1086      1086         0\n",
       "317        1837       941       896\n",
       "128        1493      1493         0\n",
       "288        1600      1600         0"
      ]
     },
     "execution_count": 30,
     "metadata": {},
     "output_type": "execute_result"
    }
   ],
   "source": [
    "s"
   ]
  },
  {
   "cell_type": "code",
   "execution_count": 58,
   "id": "dc279866",
   "metadata": {},
   "outputs": [],
   "source": [
    "columns_added = train_clean['1stFlrSF']+train_clean['2ndFlrSF'] + train_clean['LowQualFinSF']"
   ]
  },
  {
   "cell_type": "code",
   "execution_count": 59,
   "id": "335d8025",
   "metadata": {},
   "outputs": [],
   "source": [
    "x = train_clean.loc[columns_added != train_clean['GrLivArea'],][['GrLivArea','1stFlrSF','2ndFlrSF','LowQualFinSF']]"
   ]
  },
  {
   "cell_type": "code",
   "execution_count": 60,
   "id": "d2640aff",
   "metadata": {},
   "outputs": [],
   "source": [
    "x['Sum_1st_2nd'] = x['1stFlrSF']+x['2ndFlrSF']"
   ]
  },
  {
   "cell_type": "code",
   "execution_count": 61,
   "id": "41959d5c",
   "metadata": {},
   "outputs": [
    {
     "data": {
      "text/html": [
       "<div>\n",
       "<style scoped>\n",
       "    .dataframe tbody tr th:only-of-type {\n",
       "        vertical-align: middle;\n",
       "    }\n",
       "\n",
       "    .dataframe tbody tr th {\n",
       "        vertical-align: top;\n",
       "    }\n",
       "\n",
       "    .dataframe thead th {\n",
       "        text-align: right;\n",
       "    }\n",
       "</style>\n",
       "<table border=\"1\" class=\"dataframe\">\n",
       "  <thead>\n",
       "    <tr style=\"text-align: right;\">\n",
       "      <th></th>\n",
       "      <th>GrLivArea</th>\n",
       "      <th>1stFlrSF</th>\n",
       "      <th>2ndFlrSF</th>\n",
       "      <th>LowQualFinSF</th>\n",
       "      <th>Sum_1st_2nd</th>\n",
       "    </tr>\n",
       "  </thead>\n",
       "  <tbody>\n",
       "  </tbody>\n",
       "</table>\n",
       "</div>"
      ],
      "text/plain": [
       "Empty DataFrame\n",
       "Columns: [GrLivArea, 1stFlrSF, 2ndFlrSF, LowQualFinSF, Sum_1st_2nd]\n",
       "Index: []"
      ]
     },
     "execution_count": 61,
     "metadata": {},
     "output_type": "execute_result"
    }
   ],
   "source": [
    "x"
   ]
  },
  {
   "cell_type": "code",
   "execution_count": null,
   "id": "8c3da93b",
   "metadata": {},
   "outputs": [],
   "source": []
  }
 ],
 "metadata": {
  "kernelspec": {
   "display_name": "Python 3",
   "language": "python",
   "name": "python3"
  },
  "language_info": {
   "codemirror_mode": {
    "name": "ipython",
    "version": 3
   },
   "file_extension": ".py",
   "mimetype": "text/x-python",
   "name": "python",
   "nbconvert_exporter": "python",
   "pygments_lexer": "ipython3",
   "version": "3.8.8"
  }
 },
 "nbformat": 4,
 "nbformat_minor": 5
}
