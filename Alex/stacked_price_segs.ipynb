{
 "cells": [
  {
   "cell_type": "code",
   "execution_count": 16,
   "metadata": {},
   "outputs": [],
   "source": [
    "import pandas as pd\n",
    "import numpy as np\n",
    "from sklearn import linear_model\n",
    "from sklearn.linear_model import LinearRegression\n",
    "from sklearn.linear_model import Ridge\n",
    "from sklearn.linear_model import Lasso\n",
    "from sklearn.preprocessing import OneHotEncoder\n",
    "from sklearn.compose import ColumnTransformer\n",
    "from sklearn.cluster import KMeans\n",
    "from sklearn.metrics import silhouette_samples, silhouette_score\n",
    "from sklearn.preprocessing import StandardScaler\n",
    "from sklearn.feature_selection import SelectFromModel\n",
    "from sklearn.model_selection import ShuffleSplit\n",
    "from sklearn.model_selection import cross_val_score\n",
    "from sklearn.model_selection import RepeatedKFold\n",
    "from sklearn.model_selection import GridSearchCV\n",
    "from sklearn.pipeline import Pipeline\n",
    "from scipy import stats\n",
    "import xgboost as xgb\n",
    "import matplotlib.pyplot as plt\n",
    "import seaborn as sns\n",
    "import matplotlib.style as style\n",
    "style.use('fivethirtyeight')\n",
    "import matplotlib.cm as cm\n",
    "import helper"
   ]
  },
  {
   "cell_type": "code",
   "execution_count": 2,
   "metadata": {},
   "outputs": [],
   "source": [
    "colors = [\"#FF0B04\", \"#F1BE48\",\n",
    "           \"#B9975B\", \"#8B5B29\",\n",
    "           \"#524727\",\n",
    "         ]\n",
    "sns.set_palette(sns.color_palette(colors))"
   ]
  },
  {
   "cell_type": "code",
   "execution_count": 3,
   "metadata": {},
   "outputs": [],
   "source": [
    "df = pd.read_csv('Ames_Housing_Price_Data.csv', \n",
    "                             index_col=0,low_memory = False)"
   ]
  },
  {
   "cell_type": "code",
   "execution_count": 4,
   "metadata": {},
   "outputs": [],
   "source": [
    "train, test = helper.data_processing_wrapper(df, num_to_cat_list=[], remove_PID=False)"
   ]
  },
  {
   "cell_type": "code",
   "execution_count": 5,
   "metadata": {
    "scrolled": false
   },
   "outputs": [
    {
     "data": {
      "text/html": [
       "<div>\n",
       "<style scoped>\n",
       "    .dataframe tbody tr th:only-of-type {\n",
       "        vertical-align: middle;\n",
       "    }\n",
       "\n",
       "    .dataframe tbody tr th {\n",
       "        vertical-align: top;\n",
       "    }\n",
       "\n",
       "    .dataframe thead th {\n",
       "        text-align: right;\n",
       "    }\n",
       "</style>\n",
       "<table border=\"1\" class=\"dataframe\">\n",
       "  <thead>\n",
       "    <tr style=\"text-align: right;\">\n",
       "      <th></th>\n",
       "      <th>PID</th>\n",
       "      <th>GrLivArea</th>\n",
       "      <th>SalePrice</th>\n",
       "      <th>MSSubClass</th>\n",
       "      <th>MSZoning</th>\n",
       "      <th>LotFrontage</th>\n",
       "      <th>LotArea</th>\n",
       "      <th>Street</th>\n",
       "      <th>Alley</th>\n",
       "      <th>LotShape</th>\n",
       "      <th>...</th>\n",
       "      <th>ScreenPorch</th>\n",
       "      <th>PoolArea</th>\n",
       "      <th>PoolQC</th>\n",
       "      <th>Fence</th>\n",
       "      <th>MiscFeature</th>\n",
       "      <th>MiscVal</th>\n",
       "      <th>MoSold</th>\n",
       "      <th>YrSold</th>\n",
       "      <th>SaleType</th>\n",
       "      <th>SaleCondition</th>\n",
       "    </tr>\n",
       "  </thead>\n",
       "  <tbody>\n",
       "    <tr>\n",
       "      <th>0</th>\n",
       "      <td>905101330</td>\n",
       "      <td>1296</td>\n",
       "      <td>90000</td>\n",
       "      <td>90</td>\n",
       "      <td>RL</td>\n",
       "      <td>72.000000</td>\n",
       "      <td>10791</td>\n",
       "      <td>Pave</td>\n",
       "      <td>0</td>\n",
       "      <td>Reg</td>\n",
       "      <td>...</td>\n",
       "      <td>0</td>\n",
       "      <td>0</td>\n",
       "      <td>0</td>\n",
       "      <td>None</td>\n",
       "      <td>Shed</td>\n",
       "      <td>500</td>\n",
       "      <td>10</td>\n",
       "      <td>2006</td>\n",
       "      <td>WD</td>\n",
       "      <td>Normal</td>\n",
       "    </tr>\n",
       "    <tr>\n",
       "      <th>1</th>\n",
       "      <td>909451100</td>\n",
       "      <td>1229</td>\n",
       "      <td>137000</td>\n",
       "      <td>160</td>\n",
       "      <td>RM</td>\n",
       "      <td>24.000000</td>\n",
       "      <td>1488</td>\n",
       "      <td>Pave</td>\n",
       "      <td>0</td>\n",
       "      <td>Reg</td>\n",
       "      <td>...</td>\n",
       "      <td>0</td>\n",
       "      <td>0</td>\n",
       "      <td>0</td>\n",
       "      <td>GdPrv</td>\n",
       "      <td>None</td>\n",
       "      <td>0</td>\n",
       "      <td>10</td>\n",
       "      <td>2009</td>\n",
       "      <td>WD</td>\n",
       "      <td>Normal</td>\n",
       "    </tr>\n",
       "    <tr>\n",
       "      <th>2</th>\n",
       "      <td>527451450</td>\n",
       "      <td>948</td>\n",
       "      <td>89000</td>\n",
       "      <td>160</td>\n",
       "      <td>RM</td>\n",
       "      <td>21.000000</td>\n",
       "      <td>1680</td>\n",
       "      <td>Pave</td>\n",
       "      <td>0</td>\n",
       "      <td>Reg</td>\n",
       "      <td>...</td>\n",
       "      <td>0</td>\n",
       "      <td>0</td>\n",
       "      <td>0</td>\n",
       "      <td>None</td>\n",
       "      <td>None</td>\n",
       "      <td>0</td>\n",
       "      <td>7</td>\n",
       "      <td>2006</td>\n",
       "      <td>WD</td>\n",
       "      <td>Normal</td>\n",
       "    </tr>\n",
       "    <tr>\n",
       "      <th>3</th>\n",
       "      <td>903232190</td>\n",
       "      <td>1040</td>\n",
       "      <td>123900</td>\n",
       "      <td>50</td>\n",
       "      <td>RM</td>\n",
       "      <td>52.000000</td>\n",
       "      <td>6240</td>\n",
       "      <td>Pave</td>\n",
       "      <td>0</td>\n",
       "      <td>Reg</td>\n",
       "      <td>...</td>\n",
       "      <td>0</td>\n",
       "      <td>0</td>\n",
       "      <td>0</td>\n",
       "      <td>None</td>\n",
       "      <td>None</td>\n",
       "      <td>0</td>\n",
       "      <td>5</td>\n",
       "      <td>2010</td>\n",
       "      <td>WD</td>\n",
       "      <td>Normal</td>\n",
       "    </tr>\n",
       "    <tr>\n",
       "      <th>4</th>\n",
       "      <td>914452120</td>\n",
       "      <td>912</td>\n",
       "      <td>156000</td>\n",
       "      <td>85</td>\n",
       "      <td>RL</td>\n",
       "      <td>61.990202</td>\n",
       "      <td>7540</td>\n",
       "      <td>Pave</td>\n",
       "      <td>0</td>\n",
       "      <td>IR1</td>\n",
       "      <td>...</td>\n",
       "      <td>192</td>\n",
       "      <td>0</td>\n",
       "      <td>0</td>\n",
       "      <td>MnPrv</td>\n",
       "      <td>None</td>\n",
       "      <td>0</td>\n",
       "      <td>6</td>\n",
       "      <td>2007</td>\n",
       "      <td>WD</td>\n",
       "      <td>Normal</td>\n",
       "    </tr>\n",
       "  </tbody>\n",
       "</table>\n",
       "<p>5 rows × 81 columns</p>\n",
       "</div>"
      ],
      "text/plain": [
       "         PID  GrLivArea  SalePrice  MSSubClass MSZoning  LotFrontage  LotArea  \\\n",
       "0  905101330       1296      90000          90       RL    72.000000    10791   \n",
       "1  909451100       1229     137000         160       RM    24.000000     1488   \n",
       "2  527451450        948      89000         160       RM    21.000000     1680   \n",
       "3  903232190       1040     123900          50       RM    52.000000     6240   \n",
       "4  914452120        912     156000          85       RL    61.990202     7540   \n",
       "\n",
       "  Street  Alley LotShape  ... ScreenPorch PoolArea PoolQC  Fence MiscFeature  \\\n",
       "0   Pave      0      Reg  ...           0        0      0   None        Shed   \n",
       "1   Pave      0      Reg  ...           0        0      0  GdPrv        None   \n",
       "2   Pave      0      Reg  ...           0        0      0   None        None   \n",
       "3   Pave      0      Reg  ...           0        0      0   None        None   \n",
       "4   Pave      0      IR1  ...         192        0      0  MnPrv        None   \n",
       "\n",
       "  MiscVal MoSold YrSold SaleType  SaleCondition  \n",
       "0     500     10   2006      WD          Normal  \n",
       "1       0     10   2009      WD          Normal  \n",
       "2       0      7   2006      WD          Normal  \n",
       "3       0      5   2010      WD          Normal  \n",
       "4       0      6   2007      WD          Normal  \n",
       "\n",
       "[5 rows x 81 columns]"
      ]
     },
     "execution_count": 5,
     "metadata": {},
     "output_type": "execute_result"
    }
   ],
   "source": [
    "train.head()"
   ]
  },
  {
   "cell_type": "code",
   "execution_count": 6,
   "metadata": {},
   "outputs": [],
   "source": [
    "categorical = ['MSZoning', 'MSSubClass','Street','Alley','LotShape','LandContour','LotConfig',\n",
    "               'LandSlope','Neighborhood','Condition1','Condition2','BldgType','HouseStyle',\n",
    "               'RoofStyle','Foundation', 'BsmtFinType1','BsmtFinType2','Heating','GarageType',\n",
    "               'GarageFinish','PavedDrive','MiscFeature','SaleType','SaleCondition',\n",
    "               'BedroomAbvGr', 'CentralAir', 'Utilities', 'RoofMatl', 'Exterior1st',\n",
    "               'Exterior2nd', 'MasVnrType', 'Electrical', 'Functional', 'Fence','KitchenAbvGr',\n",
    "               'MoSold','YrSold'\n",
    "              ]"
   ]
  },
  {
   "cell_type": "code",
   "execution_count": 7,
   "metadata": {},
   "outputs": [
    {
     "data": {
      "text/plain": [
       "[]"
      ]
     },
     "execution_count": 7,
     "metadata": {},
     "output_type": "execute_result"
    }
   ],
   "source": [
    "[col for col in train.select_dtypes(['object','bool']).columns.to_list() if col not in categorical]"
   ]
  },
  {
   "cell_type": "code",
   "execution_count": 8,
   "metadata": {},
   "outputs": [
    {
     "data": {
      "text/plain": [
       "[]"
      ]
     },
     "execution_count": 8,
     "metadata": {},
     "output_type": "execute_result"
    }
   ],
   "source": [
    "cols_na = train.loc[:,train.isna().any(axis=0)].columns.to_list()\n",
    "cols_na"
   ]
  },
  {
   "cell_type": "code",
   "execution_count": 10,
   "metadata": {},
   "outputs": [],
   "source": [
    "train['LogSalePrice'] = np.log(train['SalePrice'])"
   ]
  },
  {
   "cell_type": "code",
   "execution_count": 18,
   "metadata": {},
   "outputs": [],
   "source": [
    "nhds = train.groupby('Neighborhood').median()[['LogSalePrice']]\n",
    "nhds['LogSalePrice'] = stats.zscore(nhds['LogSalePrice'])"
   ]
  },
  {
   "cell_type": "code",
   "execution_count": 25,
   "metadata": {},
   "outputs": [],
   "source": [
    "def segment(y):\n",
    "    if round(y,2) < -0.75:\n",
    "        return 0\n",
    "    elif (round(y,2) >= -0.75) and (round(y,2) < 0.75):\n",
    "        return 1\n",
    "    else:\n",
    "        return 2"
   ]
  },
  {
   "cell_type": "code",
   "execution_count": 30,
   "metadata": {},
   "outputs": [],
   "source": [
    "nhds['Segment'] = nhds.apply(lambda x: segment(x['LogSalePrice']),axis = 1)\n",
    "nhds.sort_values('LogSalePrice')\n",
    "seg_dict = nhds.drop('LogSalePrice', axis=1).to_dict()['Segment']"
   ]
  },
  {
   "cell_type": "code",
   "execution_count": 31,
   "metadata": {},
   "outputs": [],
   "source": [
    "train['Segment'] = train.apply(lambda x: seg_dict[x['Neighborhood']], axis=1)"
   ]
  },
  {
   "cell_type": "code",
   "execution_count": 33,
   "metadata": {},
   "outputs": [],
   "source": [
    "X_train = train.drop(['SalePrice', 'PID', 'TotalBsmtSF', 'GrLivArea', 'LogSalePrice'], axis=1)\n",
    "y_train = train.loc[:, ['LogSalePrice', 'Segment']]"
   ]
  },
  {
   "cell_type": "code",
   "execution_count": 35,
   "metadata": {},
   "outputs": [],
   "source": [
    "def stacked_selector(X, y, selector_params):\n",
    "    \n",
    "    score_dict = {'score_0':0, 'score_1':0, 'score_2':0}\n",
    "    select_dict = {'select_0':[], 'select_1':[], 'select_2':[]}\n",
    "    \n",
    "    for j in range(3):\n",
    "              \n",
    "            X_levj = pd.DataFrame(X.loc[X['Segment']==j, :].drop('Segment', axis=1))\n",
    "            y_levj = y.loc[y['Segment']==j, :].drop('Segment', axis=1)\n",
    "\n",
    "            transformer = ColumnTransformer([(\"Cat\", OneHotEncoder(handle_unknown = 'ignore'), categorical)], \n",
    "                                            remainder='passthrough')\n",
    "            X_levj = transformer.fit_transform(X_levj)\n",
    "            scaler = StandardScaler(with_mean=False)\n",
    "            X_levj = scaler.fit_transform(X_levj)\n",
    "                         \n",
    "            lasso = Lasso(alpha=selector_params[j])\n",
    "            selector = SelectFromModel(estimator=lasso)\n",
    "\n",
    "            X_levj = selector.fit_transform(X_levj, y_levj)\n",
    "\n",
    "            ols = LinearRegression()\n",
    "            ols.fit(X_levj,y_levj)\n",
    "            if ols.score(X_levj,y_levj) > score_dict[f'score_{j}']:\n",
    "                score_dict[f'score_{j}'] = ols.score(X_levj,y_levj)\n",
    "                mask = selector.get_support()\n",
    "                feat_names = transformer.get_feature_names()\n",
    "                select_dict[f'select_{j}'] = [name for name, boo in zip(feat_names, mask) if boo]\n",
    "\n",
    "    return score_dict, select_dict"
   ]
  },
  {
   "cell_type": "code",
   "execution_count": 38,
   "metadata": {},
   "outputs": [
    {
     "data": {
      "text/plain": [
       "({'score_0': 0.9055574207191642,\n",
       "  'score_1': 0.9111792398515649,\n",
       "  'score_2': 0.9411753647092863},\n",
       " {'select_0': ['Cat__x0_C (all)',\n",
       "   'Cat__x0_RL',\n",
       "   'Cat__x1_30',\n",
       "   'Cat__x1_50',\n",
       "   'Cat__x1_160',\n",
       "   'Cat__x1_190',\n",
       "   'Cat__x3_2',\n",
       "   'Cat__x4_IR2',\n",
       "   'Cat__x4_IR3',\n",
       "   'Cat__x8_BrkSide',\n",
       "   'Cat__x8_MeadowV',\n",
       "   'Cat__x9_Feedr',\n",
       "   'Cat__x9_Norm',\n",
       "   'Cat__x11_1Fam',\n",
       "   'Cat__x11_Twnhs',\n",
       "   'Cat__x14_BrkTil',\n",
       "   'Cat__x14_PConc',\n",
       "   'Cat__x15_BLQ',\n",
       "   'Cat__x19_3',\n",
       "   'Cat__x20_0',\n",
       "   'Cat__x20_2',\n",
       "   'Cat__x21_Othr',\n",
       "   'Cat__x22_ConLI',\n",
       "   'Cat__x23_Normal',\n",
       "   'Cat__x24_1',\n",
       "   'Cat__x24_4',\n",
       "   'Cat__x24_6',\n",
       "   'Cat__x25_N',\n",
       "   'Cat__x27_CompShg',\n",
       "   'Cat__x28_AsbShng',\n",
       "   'Cat__x28_BrkFace',\n",
       "   'Cat__x28_PreCast',\n",
       "   'Cat__x32_Maj2',\n",
       "   'Cat__x32_Min2',\n",
       "   'Cat__x32_Typ',\n",
       "   'Cat__x35_3',\n",
       "   'Cat__x35_11',\n",
       "   'LotArea',\n",
       "   'OverallQual',\n",
       "   'OverallCond',\n",
       "   'YearBuilt',\n",
       "   'YearRemodAdd',\n",
       "   'ExterQual',\n",
       "   'BsmtQual',\n",
       "   'BsmtExposure',\n",
       "   'BsmtFinSF1',\n",
       "   'HeatingQC',\n",
       "   '1stFlrSF',\n",
       "   '2ndFlrSF',\n",
       "   'LowQualFinSF',\n",
       "   'FullBath',\n",
       "   'HalfBath',\n",
       "   'KitchenQual',\n",
       "   'Fireplaces',\n",
       "   'FireplaceQu',\n",
       "   'GarageCars',\n",
       "   'GarageArea',\n",
       "   'WoodDeckSF',\n",
       "   'ScreenPorch'],\n",
       "  'select_1': ['Cat__x0_RL',\n",
       "   'Cat__x1_30',\n",
       "   'Cat__x8_Crawfor',\n",
       "   'Cat__x9_Feedr',\n",
       "   'Cat__x9_Norm',\n",
       "   'Cat__x11_1Fam',\n",
       "   'Cat__x14_PConc',\n",
       "   'Cat__x15_GLQ',\n",
       "   'Cat__x18_Attchd',\n",
       "   'Cat__x19_1',\n",
       "   'Cat__x20_0',\n",
       "   'Cat__x25_N',\n",
       "   'LotArea',\n",
       "   'OverallQual',\n",
       "   'OverallCond',\n",
       "   'YearBuilt',\n",
       "   'YearRemodAdd',\n",
       "   'ExterQual',\n",
       "   'BsmtQual',\n",
       "   'BsmtCond',\n",
       "   'BsmtExposure',\n",
       "   'BsmtFinSF1',\n",
       "   'HeatingQC',\n",
       "   '1stFlrSF',\n",
       "   '2ndFlrSF',\n",
       "   'BsmtFullBath',\n",
       "   'FullBath',\n",
       "   'KitchenQual',\n",
       "   'TotRmsAbvGrd',\n",
       "   'Fireplaces',\n",
       "   'FireplaceQu',\n",
       "   'GarageCars',\n",
       "   'GarageArea'],\n",
       "  'select_2': ['Cat__x0_RM',\n",
       "   'Cat__x1_60',\n",
       "   'Cat__x6_CulDSac',\n",
       "   'Cat__x8_GrnHill',\n",
       "   'Cat__x8_Timber',\n",
       "   'Cat__x11_1Fam',\n",
       "   'Cat__x11_Twnhs',\n",
       "   'Cat__x16_GLQ',\n",
       "   'Cat__x18_Basment',\n",
       "   'Cat__x22_New',\n",
       "   'Cat__x23_Normal',\n",
       "   'Cat__x27_CompShg',\n",
       "   'Cat__x28_BrkFace',\n",
       "   'Cat__x29_HdBoard',\n",
       "   'Cat__x32_Maj1',\n",
       "   'Cat__x35_7',\n",
       "   'LotArea',\n",
       "   'OverallQual',\n",
       "   'YearRemodAdd',\n",
       "   'MasVnrArea',\n",
       "   'ExterQual',\n",
       "   'BsmtQual',\n",
       "   'BsmtExposure',\n",
       "   'BsmtFinSF1',\n",
       "   'BsmtFinSF2',\n",
       "   '1stFlrSF',\n",
       "   '2ndFlrSF',\n",
       "   'BsmtFullBath',\n",
       "   'KitchenQual',\n",
       "   'TotRmsAbvGrd',\n",
       "   'Fireplaces',\n",
       "   'FireplaceQu',\n",
       "   'GarageCars',\n",
       "   'GarageArea',\n",
       "   'WoodDeckSF',\n",
       "   'ScreenPorch']})"
      ]
     },
     "execution_count": 38,
     "metadata": {},
     "output_type": "execute_result"
    }
   ],
   "source": [
    "selections = stacked_selector(X_train, y_train, [0.01, 0.01, 0.01])\n",
    "selections"
   ]
  },
  {
   "cell_type": "code",
   "execution_count": 21,
   "metadata": {
    "scrolled": true
   },
   "outputs": [
    {
     "data": {
      "text/plain": [
       "({'score_0': 0.9041310088000026,\n",
       "  'score_1': 0.9166570198150846,\n",
       "  'score_2': 0.8978075326008347},\n",
       " {'select_0': ['Cat__x0_RH',\n",
       "   'Cat__x7_Gtl',\n",
       "   'Cat__x22_New',\n",
       "   'Cat__x25_N',\n",
       "   'LotArea',\n",
       "   'OverallQual',\n",
       "   'YearRemodAdd',\n",
       "   'ExterQual',\n",
       "   'BsmtQual',\n",
       "   'BsmtExposure',\n",
       "   'BsmtFinSF1',\n",
       "   'HeatingQC',\n",
       "   '1stFlrSF',\n",
       "   '2ndFlrSF',\n",
       "   'HalfBath',\n",
       "   'KitchenQual',\n",
       "   'TotRmsAbvGrd',\n",
       "   'Fireplaces',\n",
       "   'FireplaceQu',\n",
       "   'GarageCars',\n",
       "   'GarageArea'],\n",
       "  'select_1': ['Cat__x0_A (agr)',\n",
       "   'Cat__x0_C (all)',\n",
       "   'Cat__x0_I (all)',\n",
       "   'Cat__x0_RH',\n",
       "   'Cat__x0_RL',\n",
       "   'Cat__x1_20',\n",
       "   'Cat__x1_30',\n",
       "   'Cat__x1_40',\n",
       "   'Cat__x1_60',\n",
       "   'Cat__x1_70',\n",
       "   'Cat__x1_90',\n",
       "   'Cat__x1_160',\n",
       "   'Cat__x2_Grvl',\n",
       "   'Cat__x3_1',\n",
       "   'Cat__x3_2',\n",
       "   'Cat__x4_IR2',\n",
       "   'Cat__x4_IR3',\n",
       "   'Cat__x5_HLS',\n",
       "   'Cat__x5_Lvl',\n",
       "   'Cat__x6_FR3',\n",
       "   'Cat__x7_Sev',\n",
       "   'Cat__x8_Blueste',\n",
       "   'Cat__x8_BrDale',\n",
       "   'Cat__x8_BrkSide',\n",
       "   'Cat__x8_Edwards',\n",
       "   'Cat__x8_IDOTRR',\n",
       "   'Cat__x8_MeadowV',\n",
       "   'Cat__x8_Mitchel',\n",
       "   'Cat__x8_OldTown',\n",
       "   'Cat__x8_Sawyer',\n",
       "   'Cat__x9_Artery',\n",
       "   'Cat__x9_Norm',\n",
       "   'Cat__x9_PosA',\n",
       "   'Cat__x9_PosN',\n",
       "   'Cat__x9_RRAe',\n",
       "   'Cat__x9_RRAn',\n",
       "   'Cat__x10_Feedr',\n",
       "   'Cat__x10_PosA',\n",
       "   'Cat__x10_RRAe',\n",
       "   'Cat__x11_1Fam',\n",
       "   'Cat__x11_Twnhs',\n",
       "   'Cat__x12_1.5Fin',\n",
       "   'Cat__x12_1.5Unf',\n",
       "   'Cat__x12_2.5Fin',\n",
       "   'Cat__x12_2.5Unf',\n",
       "   'Cat__x12_SFoyer',\n",
       "   'Cat__x12_SLvl',\n",
       "   'Cat__x13_Flat',\n",
       "   'Cat__x13_Gambrel',\n",
       "   'Cat__x13_Mansard',\n",
       "   'Cat__x13_Shed',\n",
       "   'Cat__x14_BrkTil',\n",
       "   'Cat__x14_PConc',\n",
       "   'Cat__x14_Slab',\n",
       "   'Cat__x14_Stone',\n",
       "   'Cat__x14_Wood',\n",
       "   'Cat__x15_ALQ',\n",
       "   'Cat__x15_BLQ',\n",
       "   'Cat__x15_GLQ',\n",
       "   'Cat__x15_LwQ',\n",
       "   'Cat__x15_Unf',\n",
       "   'Cat__x16_ALQ',\n",
       "   'Cat__x16_BLQ',\n",
       "   'Cat__x16_GLQ',\n",
       "   'Cat__x17_Floor',\n",
       "   'Cat__x17_GasW',\n",
       "   'Cat__x17_Grav',\n",
       "   'Cat__x17_OthW',\n",
       "   'Cat__x17_Wall',\n",
       "   'Cat__x18_2Types',\n",
       "   'Cat__x18_Basment',\n",
       "   'Cat__x18_CarPort',\n",
       "   'Cat__x18_Detchd',\n",
       "   'Cat__x18_None',\n",
       "   'Cat__x19_3',\n",
       "   'Cat__x20_0',\n",
       "   'Cat__x20_2',\n",
       "   'Cat__x21_Othr',\n",
       "   'Cat__x22_COD',\n",
       "   'Cat__x22_Con',\n",
       "   'Cat__x22_ConLI',\n",
       "   'Cat__x22_ConLw',\n",
       "   'Cat__x22_New',\n",
       "   'Cat__x22_Oth',\n",
       "   'Cat__x23_Normal',\n",
       "   'Cat__x24_1',\n",
       "   'Cat__x24_5',\n",
       "   'Cat__x25_N',\n",
       "   'Cat__x27_WdShake',\n",
       "   'Cat__x27_WdShngl',\n",
       "   'Cat__x28_AsbShng',\n",
       "   'Cat__x28_BrkComm',\n",
       "   'Cat__x28_BrkFace',\n",
       "   'Cat__x28_CBlock',\n",
       "   'Cat__x28_PreCast',\n",
       "   'Cat__x28_Stucco',\n",
       "   'Cat__x28_Wd Sdng',\n",
       "   'Cat__x28_WdShing',\n",
       "   'Cat__x29_AsbShng',\n",
       "   'Cat__x29_CBlock',\n",
       "   'Cat__x29_ImStucc',\n",
       "   'Cat__x29_MetalSd',\n",
       "   'Cat__x29_Plywood',\n",
       "   'Cat__x29_PreCast',\n",
       "   'Cat__x29_VinylSd',\n",
       "   'Cat__x29_Wd Sdng',\n",
       "   'Cat__x29_Wd Shng',\n",
       "   'Cat__x31_FuseA',\n",
       "   'Cat__x31_FuseP',\n",
       "   'Cat__x32_Maj1',\n",
       "   'Cat__x32_Maj2',\n",
       "   'Cat__x32_Min1',\n",
       "   'Cat__x32_Mod',\n",
       "   'Cat__x32_Typ',\n",
       "   'Cat__x33_GdPrv',\n",
       "   'Cat__x33_GdWo',\n",
       "   'Cat__x33_MnWw',\n",
       "   'Cat__x33_None',\n",
       "   'Cat__x34_0',\n",
       "   'Cat__x34_2',\n",
       "   'Cat__x34_3',\n",
       "   'Cat__x35_3',\n",
       "   'Cat__x35_5',\n",
       "   'Cat__x35_7',\n",
       "   'Cat__x35_9',\n",
       "   'Cat__x35_10',\n",
       "   'Cat__x35_11',\n",
       "   'Cat__x35_12',\n",
       "   'Cat__x36_2009',\n",
       "   'Cat__x36_2010',\n",
       "   'LotArea',\n",
       "   'OverallQual',\n",
       "   'OverallCond',\n",
       "   'YearBuilt',\n",
       "   'YearRemodAdd',\n",
       "   'ExterQual',\n",
       "   'BsmtQual',\n",
       "   'BsmtCond',\n",
       "   'BsmtExposure',\n",
       "   'BsmtFinSF1',\n",
       "   'BsmtFinSF2',\n",
       "   'BsmtUnfSF',\n",
       "   'HeatingQC',\n",
       "   '1stFlrSF',\n",
       "   '2ndFlrSF',\n",
       "   'LowQualFinSF',\n",
       "   'BsmtFullBath',\n",
       "   'FullBath',\n",
       "   'HalfBath',\n",
       "   'KitchenQual',\n",
       "   'TotRmsAbvGrd',\n",
       "   'Fireplaces',\n",
       "   'FireplaceQu',\n",
       "   'GarageCars',\n",
       "   'GarageArea',\n",
       "   'GarageCond',\n",
       "   'WoodDeckSF',\n",
       "   'OpenPorchSF',\n",
       "   'EnclosedPorch',\n",
       "   '3SsnPorch',\n",
       "   'ScreenPorch',\n",
       "   'PoolArea'],\n",
       "  'select_2': ['OverallQual',\n",
       "   'MasVnrArea',\n",
       "   'BsmtFinSF1',\n",
       "   '1stFlrSF',\n",
       "   'FullBath',\n",
       "   'TotRmsAbvGrd',\n",
       "   'GarageCars',\n",
       "   'GarageArea']})"
      ]
     },
     "execution_count": 21,
     "metadata": {},
     "output_type": "execute_result"
    }
   ],
   "source": [
    "selections"
   ]
  },
  {
   "cell_type": "code",
   "execution_count": 22,
   "metadata": {
    "scrolled": false
   },
   "outputs": [
    {
     "data": {
      "text/plain": [
       "1    969\n",
       "0    852\n",
       "2     50\n",
       "Name: NhdCluster, dtype: int64"
      ]
     },
     "execution_count": 22,
     "metadata": {},
     "output_type": "execute_result"
    }
   ],
   "source": [
    "X_train['NhdCluster'].value_counts()"
   ]
  },
  {
   "cell_type": "code",
   "execution_count": 23,
   "metadata": {},
   "outputs": [],
   "source": [
    "train['LogSalePrice'] = np.log(train['SalePrice'])"
   ]
  },
  {
   "cell_type": "code",
   "execution_count": 24,
   "metadata": {},
   "outputs": [],
   "source": [
    "comp_dict = train.groupby(['Neighborhood', 'BedroomAbvGr', 'BldgType',\n",
    "               'OverallQual', 'FullBath', 'KitchenQual', 'GarageCars']).mean()['LogSalePrice'].to_dict()"
   ]
  },
  {
   "cell_type": "code",
   "execution_count": 25,
   "metadata": {},
   "outputs": [],
   "source": [
    "train['Comp'] = train.apply(lambda x: comp_dict[(x['Neighborhood'], x['BedroomAbvGr'], x['BldgType'],\n",
    "               x['OverallQual'], x['FullBath'], x['KitchenQual'], x['GarageCars'])],axis=1)"
   ]
  },
  {
   "cell_type": "code",
   "execution_count": 26,
   "metadata": {},
   "outputs": [],
   "source": [
    "X_train = train.drop(['SalePrice', 'LogSalePrice', 'PID', 'TotalBsmtSF', 'GrLivArea'], axis=1)\n",
    "y_train = pd.DataFrame({'LogSalePrice':train['LogSalePrice'], 'NhdCluster':train['NhdCluster']})"
   ]
  },
  {
   "cell_type": "code",
   "execution_count": 27,
   "metadata": {},
   "outputs": [],
   "source": [
    "selections = multilev_selector(X_train, y_train, [0.01, 0.01, 0.02])"
   ]
  },
  {
   "cell_type": "code",
   "execution_count": 28,
   "metadata": {
    "scrolled": true
   },
   "outputs": [
    {
     "data": {
      "text/plain": [
       "['Cat__x1_60',\n",
       " 'Cat__x22_New',\n",
       " 'OverallQual',\n",
       " 'YearRemodAdd',\n",
       " 'ExterQual',\n",
       " 'BsmtFinSF1',\n",
       " 'HeatingQC',\n",
       " '1stFlrSF',\n",
       " '2ndFlrSF',\n",
       " 'BsmtFullBath',\n",
       " 'HalfBath',\n",
       " 'TotRmsAbvGrd',\n",
       " 'Fireplaces',\n",
       " 'FireplaceQu',\n",
       " 'OpenPorchSF',\n",
       " 'Comp']"
      ]
     },
     "execution_count": 28,
     "metadata": {},
     "output_type": "execute_result"
    }
   ],
   "source": [
    "selections[1]['select_0']"
   ]
  },
  {
   "cell_type": "code",
   "execution_count": 29,
   "metadata": {
    "scrolled": true
   },
   "outputs": [
    {
     "data": {
      "text/plain": [
       "{0: 'MSZoning',\n",
       " 1: 'MSSubClass',\n",
       " 2: 'Street',\n",
       " 3: 'Alley',\n",
       " 4: 'LotShape',\n",
       " 5: 'LandContour',\n",
       " 6: 'LotConfig',\n",
       " 7: 'LandSlope',\n",
       " 8: 'Neighborhood',\n",
       " 9: 'Condition1',\n",
       " 10: 'Condition2',\n",
       " 11: 'BldgType',\n",
       " 12: 'HouseStyle',\n",
       " 13: 'RoofStyle',\n",
       " 14: 'Foundation',\n",
       " 15: 'BsmtFinType1',\n",
       " 16: 'BsmtFinType2',\n",
       " 17: 'Heating',\n",
       " 18: 'GarageType',\n",
       " 19: 'GarageFinish',\n",
       " 20: 'PavedDrive',\n",
       " 21: 'MiscFeature',\n",
       " 22: 'SaleType',\n",
       " 23: 'SaleCondition',\n",
       " 24: 'BedroomAbvGr',\n",
       " 25: 'CentralAir',\n",
       " 26: 'Utilities',\n",
       " 27: 'RoofMatl',\n",
       " 28: 'Exterior1st',\n",
       " 29: 'Exterior2nd',\n",
       " 30: 'MasVnrType',\n",
       " 31: 'Electrical',\n",
       " 32: 'Functional',\n",
       " 33: 'Fence',\n",
       " 34: 'KitchenAbvGr',\n",
       " 35: 'MoSold',\n",
       " 36: 'YrSold'}"
      ]
     },
     "execution_count": 29,
     "metadata": {},
     "output_type": "execute_result"
    }
   ],
   "source": [
    "dict(enumerate(categorical))"
   ]
  },
  {
   "cell_type": "code",
   "execution_count": 30,
   "metadata": {},
   "outputs": [],
   "source": [
    "select_0 = ['MSSubClass',\n",
    " 'SaleType',\n",
    " 'OverallQual',\n",
    " 'YearRemodAdd',\n",
    " 'ExterQual',\n",
    " 'BsmtFinSF1',\n",
    " 'HeatingQC',\n",
    " '1stFlrSF',\n",
    " '2ndFlrSF',\n",
    " 'BsmtFullBath',\n",
    " 'HalfBath',\n",
    " 'TotRmsAbvGrd',\n",
    " 'Fireplaces',\n",
    " 'FireplaceQu',\n",
    " 'OpenPorchSF',\n",
    " 'Comp']"
   ]
  },
  {
   "cell_type": "code",
   "execution_count": 31,
   "metadata": {},
   "outputs": [],
   "source": [
    "cats_0 = [col for col in select_0 if col in categorical]"
   ]
  },
  {
   "cell_type": "code",
   "execution_count": 32,
   "metadata": {},
   "outputs": [
    {
     "data": {
      "text/plain": [
       "GridSearchCV(cv=RepeatedKFold(n_repeats=10, n_splits=5, random_state=None),\n",
       "             estimator=Pipeline(steps=[('transformer',\n",
       "                                        ColumnTransformer(remainder='passthrough',\n",
       "                                                          transformers=[('Cat',\n",
       "                                                                         OneHotEncoder(handle_unknown='ignore'),\n",
       "                                                                         ['MSSubClass',\n",
       "                                                                          'SaleType'])])),\n",
       "                                       ('scaler', StandardScaler()),\n",
       "                                       ('ridge', Ridge())]),\n",
       "             n_jobs=-1, param_grid={'ridge__alpha': [0.001, 0.1, 1, 10]},\n",
       "             scoring='r2')"
      ]
     },
     "execution_count": 32,
     "metadata": {},
     "output_type": "execute_result"
    }
   ],
   "source": [
    "X = X_train\n",
    "X = X.loc[X['NhdCluster']==0, :].drop('NhdCluster', axis=1)\n",
    "X = X[select_0]\n",
    "\n",
    "y = y_train\n",
    "y = y.loc[y['NhdCluster']==0, :].drop('NhdCluster', axis=1)\n",
    "\n",
    "\n",
    "pipe = Pipeline([('transformer', ColumnTransformer([(\"Cat\", OneHotEncoder(handle_unknown='ignore'), cats_0)], \n",
    "                                            remainder='passthrough')),\n",
    "                 ('scaler', StandardScaler()),\n",
    "                 ('ridge', Ridge())])\n",
    "\n",
    "param_grid = {'ridge__alpha':[0.001, 0.1, 1, 10]}\n",
    "cv = RepeatedKFold(n_splits=5)\n",
    "\n",
    "grid = GridSearchCV(pipe, param_grid, scoring='r2', cv=cv, n_jobs=-1)\n",
    "\n",
    "grid.fit(X,y)"
   ]
  },
  {
   "cell_type": "code",
   "execution_count": 33,
   "metadata": {},
   "outputs": [
    {
     "name": "stdout",
     "output_type": "stream",
     "text": [
      "[0.93834824 0.9383504  0.93836607 0.93820107]\n",
      "{'ridge__alpha': 1}\n",
      "0.9383660677864154\n"
     ]
    }
   ],
   "source": [
    "print(grid.cv_results_['mean_test_score'])\n",
    "print(grid.best_params_)\n",
    "print(grid.best_score_)"
   ]
  },
  {
   "cell_type": "code",
   "execution_count": 34,
   "metadata": {
    "scrolled": false
   },
   "outputs": [
    {
     "data": {
      "text/plain": [
       "['Cat__x1_30',\n",
       " 'Cat__x15_None',\n",
       " 'OverallCond',\n",
       " 'YearRemodAdd',\n",
       " 'BsmtQual',\n",
       " 'BsmtExposure',\n",
       " 'BsmtFinSF1',\n",
       " '1stFlrSF',\n",
       " 'HalfBath',\n",
       " 'TotRmsAbvGrd',\n",
       " 'Fireplaces',\n",
       " 'WoodDeckSF',\n",
       " 'ScreenPorch',\n",
       " 'Comp']"
      ]
     },
     "execution_count": 34,
     "metadata": {},
     "output_type": "execute_result"
    }
   ],
   "source": [
    "selections[1]['select_1']"
   ]
  },
  {
   "cell_type": "code",
   "execution_count": 35,
   "metadata": {
    "scrolled": true
   },
   "outputs": [
    {
     "data": {
      "text/plain": [
       "{0: 'MSZoning',\n",
       " 1: 'MSSubClass',\n",
       " 2: 'Street',\n",
       " 3: 'Alley',\n",
       " 4: 'LotShape',\n",
       " 5: 'LandContour',\n",
       " 6: 'LotConfig',\n",
       " 7: 'LandSlope',\n",
       " 8: 'Neighborhood',\n",
       " 9: 'Condition1',\n",
       " 10: 'Condition2',\n",
       " 11: 'BldgType',\n",
       " 12: 'HouseStyle',\n",
       " 13: 'RoofStyle',\n",
       " 14: 'Foundation',\n",
       " 15: 'BsmtFinType1',\n",
       " 16: 'BsmtFinType2',\n",
       " 17: 'Heating',\n",
       " 18: 'GarageType',\n",
       " 19: 'GarageFinish',\n",
       " 20: 'PavedDrive',\n",
       " 21: 'MiscFeature',\n",
       " 22: 'SaleType',\n",
       " 23: 'SaleCondition',\n",
       " 24: 'BedroomAbvGr',\n",
       " 25: 'CentralAir',\n",
       " 26: 'Utilities',\n",
       " 27: 'RoofMatl',\n",
       " 28: 'Exterior1st',\n",
       " 29: 'Exterior2nd',\n",
       " 30: 'MasVnrType',\n",
       " 31: 'Electrical',\n",
       " 32: 'Functional',\n",
       " 33: 'Fence',\n",
       " 34: 'KitchenAbvGr',\n",
       " 35: 'MoSold',\n",
       " 36: 'YrSold'}"
      ]
     },
     "execution_count": 35,
     "metadata": {},
     "output_type": "execute_result"
    }
   ],
   "source": [
    "dict(enumerate(categorical))"
   ]
  },
  {
   "cell_type": "code",
   "execution_count": 36,
   "metadata": {},
   "outputs": [],
   "source": [
    "select_1 = ['MSSubClass',\n",
    " 'BsmtFinType1',\n",
    " 'OverallCond',\n",
    " 'YearRemodAdd',\n",
    " 'BsmtQual',\n",
    " 'BsmtExposure',\n",
    " 'BsmtFinSF1',\n",
    " '1stFlrSF',\n",
    " 'HalfBath',\n",
    " 'TotRmsAbvGrd',\n",
    " 'Fireplaces',\n",
    " 'WoodDeckSF',\n",
    " 'ScreenPorch',\n",
    " 'Comp']"
   ]
  },
  {
   "cell_type": "code",
   "execution_count": 37,
   "metadata": {},
   "outputs": [],
   "source": [
    "cats_1 = [col for col in select_1 if col in categorical]"
   ]
  },
  {
   "cell_type": "code",
   "execution_count": 38,
   "metadata": {},
   "outputs": [
    {
     "data": {
      "text/plain": [
       "GridSearchCV(cv=RepeatedKFold(n_repeats=10, n_splits=5, random_state=None),\n",
       "             estimator=Pipeline(steps=[('transformer',\n",
       "                                        ColumnTransformer(remainder='passthrough',\n",
       "                                                          transformers=[('Cat',\n",
       "                                                                         OneHotEncoder(handle_unknown='ignore'),\n",
       "                                                                         ['MSSubClass',\n",
       "                                                                          'BsmtFinType1'])])),\n",
       "                                       ('scaler', StandardScaler()),\n",
       "                                       ('ridge', Ridge())]),\n",
       "             n_jobs=-1, param_grid={'ridge__alpha': [0.001, 0.1, 1, 10]},\n",
       "             scoring='r2')"
      ]
     },
     "execution_count": 38,
     "metadata": {},
     "output_type": "execute_result"
    }
   ],
   "source": [
    "X = X_train\n",
    "X = X.loc[X['NhdCluster']==1, :].drop('NhdCluster', axis=1)\n",
    "X = X[select_1]\n",
    "\n",
    "y = y_train\n",
    "y = y.loc[y['NhdCluster']==1, :].drop('NhdCluster', axis=1)\n",
    "\n",
    "\n",
    "pipe = Pipeline([('transformer', ColumnTransformer([(\"Cat\", OneHotEncoder(handle_unknown='ignore'), cats_1)], \n",
    "                                            remainder='passthrough')),\n",
    "                 ('scaler', StandardScaler()),\n",
    "                 ('ridge', Ridge())])\n",
    "\n",
    "param_grid = {'ridge__alpha':[0.001, 0.1, 1, 10]}\n",
    "cv = RepeatedKFold(n_splits=5)\n",
    "\n",
    "grid = GridSearchCV(pipe, param_grid, scoring='r2', cv=cv, n_jobs=-1)\n",
    "\n",
    "grid.fit(X,y)"
   ]
  },
  {
   "cell_type": "code",
   "execution_count": 39,
   "metadata": {
    "scrolled": true
   },
   "outputs": [
    {
     "name": "stdout",
     "output_type": "stream",
     "text": [
      "[0.92405171 0.92405249 0.92405724 0.92389174]\n",
      "{'ridge__alpha': 1}\n",
      "0.924057236954064\n"
     ]
    }
   ],
   "source": [
    "print(grid.cv_results_['mean_test_score'])\n",
    "print(grid.best_params_)\n",
    "print(grid.best_score_)"
   ]
  },
  {
   "cell_type": "code",
   "execution_count": 40,
   "metadata": {
    "scrolled": false
   },
   "outputs": [
    {
     "data": {
      "text/plain": [
       "['Cat__x15_Unf',\n",
       " 'LotArea',\n",
       " 'MasVnrArea',\n",
       " 'BsmtFinSF1',\n",
       " '1stFlrSF',\n",
       " '2ndFlrSF',\n",
       " 'TotRmsAbvGrd',\n",
       " 'GarageArea',\n",
       " 'Comp']"
      ]
     },
     "execution_count": 40,
     "metadata": {},
     "output_type": "execute_result"
    }
   ],
   "source": [
    "selections[1]['select_2']"
   ]
  },
  {
   "cell_type": "code",
   "execution_count": 41,
   "metadata": {
    "scrolled": true
   },
   "outputs": [
    {
     "data": {
      "text/plain": [
       "{0: 'MSZoning',\n",
       " 1: 'MSSubClass',\n",
       " 2: 'Street',\n",
       " 3: 'Alley',\n",
       " 4: 'LotShape',\n",
       " 5: 'LandContour',\n",
       " 6: 'LotConfig',\n",
       " 7: 'LandSlope',\n",
       " 8: 'Neighborhood',\n",
       " 9: 'Condition1',\n",
       " 10: 'Condition2',\n",
       " 11: 'BldgType',\n",
       " 12: 'HouseStyle',\n",
       " 13: 'RoofStyle',\n",
       " 14: 'Foundation',\n",
       " 15: 'BsmtFinType1',\n",
       " 16: 'BsmtFinType2',\n",
       " 17: 'Heating',\n",
       " 18: 'GarageType',\n",
       " 19: 'GarageFinish',\n",
       " 20: 'PavedDrive',\n",
       " 21: 'MiscFeature',\n",
       " 22: 'SaleType',\n",
       " 23: 'SaleCondition',\n",
       " 24: 'BedroomAbvGr',\n",
       " 25: 'CentralAir',\n",
       " 26: 'Utilities',\n",
       " 27: 'RoofMatl',\n",
       " 28: 'Exterior1st',\n",
       " 29: 'Exterior2nd',\n",
       " 30: 'MasVnrType',\n",
       " 31: 'Electrical',\n",
       " 32: 'Functional',\n",
       " 33: 'Fence',\n",
       " 34: 'KitchenAbvGr',\n",
       " 35: 'MoSold',\n",
       " 36: 'YrSold'}"
      ]
     },
     "execution_count": 41,
     "metadata": {},
     "output_type": "execute_result"
    }
   ],
   "source": [
    "dict(enumerate(categorical))"
   ]
  },
  {
   "cell_type": "code",
   "execution_count": 42,
   "metadata": {},
   "outputs": [],
   "source": [
    "select_2 = ['BsmtFinType1',\n",
    " 'LotArea',\n",
    " 'MasVnrArea',\n",
    " 'BsmtFinSF1',\n",
    " '1stFlrSF',\n",
    " '2ndFlrSF',\n",
    " 'TotRmsAbvGrd',\n",
    " 'GarageArea',\n",
    " 'Comp']"
   ]
  },
  {
   "cell_type": "code",
   "execution_count": 43,
   "metadata": {},
   "outputs": [],
   "source": [
    "cats_2 = [col for col in select_2 if col in categorical]"
   ]
  },
  {
   "cell_type": "code",
   "execution_count": 44,
   "metadata": {},
   "outputs": [
    {
     "data": {
      "text/plain": [
       "GridSearchCV(cv=RepeatedKFold(n_repeats=10, n_splits=5, random_state=None),\n",
       "             estimator=Pipeline(steps=[('transformer',\n",
       "                                        ColumnTransformer(remainder='passthrough',\n",
       "                                                          transformers=[('Cat',\n",
       "                                                                         OneHotEncoder(handle_unknown='ignore'),\n",
       "                                                                         ['BsmtFinType1'])])),\n",
       "                                       ('scaler', StandardScaler()),\n",
       "                                       ('ridge', Ridge())]),\n",
       "             n_jobs=-1, param_grid={'ridge__alpha': [0.001, 0.1, 1, 10]},\n",
       "             scoring='r2')"
      ]
     },
     "execution_count": 44,
     "metadata": {},
     "output_type": "execute_result"
    }
   ],
   "source": [
    "X = X_train\n",
    "X = X.loc[X['NhdCluster']==2, :].drop('NhdCluster', axis=1)\n",
    "X = X[select_1]\n",
    "\n",
    "y = y_train\n",
    "y = y.loc[y['NhdCluster']==2, :].drop('NhdCluster', axis=1)\n",
    "\n",
    "\n",
    "pipe = Pipeline([('transformer', ColumnTransformer([(\"Cat\", OneHotEncoder(handle_unknown='ignore'), cats_2)], \n",
    "                                            remainder='passthrough')),\n",
    "                 ('scaler', StandardScaler()),\n",
    "                 ('ridge', Ridge())])\n",
    "\n",
    "param_grid = {'ridge__alpha':[0.001, 0.1, 1, 10]}\n",
    "cv = RepeatedKFold(n_splits=5)\n",
    "\n",
    "grid = GridSearchCV(pipe, param_grid, scoring='r2', cv=cv, n_jobs=-1)\n",
    "\n",
    "grid.fit(X,y)"
   ]
  },
  {
   "cell_type": "code",
   "execution_count": 45,
   "metadata": {},
   "outputs": [
    {
     "name": "stdout",
     "output_type": "stream",
     "text": [
      "[0.70917849 0.71308191 0.73281402 0.72374198]\n",
      "{'ridge__alpha': 1}\n",
      "0.7328140180714782\n"
     ]
    }
   ],
   "source": [
    "print(grid.cv_results_['mean_test_score'])\n",
    "print(grid.best_params_)\n",
    "print(grid.best_score_)"
   ]
  },
  {
   "cell_type": "markdown",
   "metadata": {},
   "source": [
    "# Below we start again with only two clusters :("
   ]
  },
  {
   "cell_type": "code",
   "execution_count": 46,
   "metadata": {},
   "outputs": [],
   "source": [
    "train, test = helper.data_processing_wrapper(df, num_to_cat_list=[], remove_PID=False)"
   ]
  },
  {
   "cell_type": "code",
   "execution_count": 47,
   "metadata": {},
   "outputs": [],
   "source": [
    "nhds = train.loc[:,['Neighborhood', 'GrLivArea']]\n",
    "nhds['LogSalePrice'] = np.log(train['SalePrice'])"
   ]
  },
  {
   "cell_type": "code",
   "execution_count": 48,
   "metadata": {},
   "outputs": [],
   "source": [
    "nhds = nhds.groupby('Neighborhood').agg(\n",
    "    Sqft_med=pd.NamedAgg('GrLivArea',np.median),\n",
    "    LogPrice_med=pd.NamedAgg('LogSalePrice',np.median)\n",
    ").fillna(0)"
   ]
  },
  {
   "cell_type": "code",
   "execution_count": 49,
   "metadata": {},
   "outputs": [],
   "source": [
    "weights = train.groupby('Neighborhood').count().apply(lambda x: x['PID']/len(train) ,axis=1).to_list()"
   ]
  },
  {
   "cell_type": "code",
   "execution_count": 50,
   "metadata": {
    "scrolled": true
   },
   "outputs": [
    {
     "data": {
      "text/html": [
       "<div>\n",
       "<style scoped>\n",
       "    .dataframe tbody tr th:only-of-type {\n",
       "        vertical-align: middle;\n",
       "    }\n",
       "\n",
       "    .dataframe tbody tr th {\n",
       "        vertical-align: top;\n",
       "    }\n",
       "\n",
       "    .dataframe thead th {\n",
       "        text-align: right;\n",
       "    }\n",
       "</style>\n",
       "<table border=\"1\" class=\"dataframe\">\n",
       "  <thead>\n",
       "    <tr style=\"text-align: right;\">\n",
       "      <th></th>\n",
       "      <th>Sqft_med</th>\n",
       "      <th>LogPrice_med</th>\n",
       "      <th>Cluster</th>\n",
       "    </tr>\n",
       "    <tr>\n",
       "      <th>Neighborhood</th>\n",
       "      <th></th>\n",
       "      <th></th>\n",
       "      <th></th>\n",
       "    </tr>\n",
       "  </thead>\n",
       "  <tbody>\n",
       "    <tr>\n",
       "      <th>MeadowV</th>\n",
       "      <td>1092.0</td>\n",
       "      <td>11.449986</td>\n",
       "      <td>0</td>\n",
       "    </tr>\n",
       "    <tr>\n",
       "      <th>NAmes</th>\n",
       "      <td>1203.0</td>\n",
       "      <td>11.858285</td>\n",
       "      <td>0</td>\n",
       "    </tr>\n",
       "    <tr>\n",
       "      <th>Mitchel</th>\n",
       "      <td>1286.0</td>\n",
       "      <td>11.973188</td>\n",
       "      <td>0</td>\n",
       "    </tr>\n",
       "    <tr>\n",
       "      <th>OldTown</th>\n",
       "      <td>1378.0</td>\n",
       "      <td>11.695247</td>\n",
       "      <td>0</td>\n",
       "    </tr>\n",
       "    <tr>\n",
       "      <th>Landmrk</th>\n",
       "      <td>1320.0</td>\n",
       "      <td>11.827736</td>\n",
       "      <td>0</td>\n",
       "    </tr>\n",
       "    <tr>\n",
       "      <th>IDOTRR</th>\n",
       "      <td>1330.0</td>\n",
       "      <td>11.691908</td>\n",
       "      <td>0</td>\n",
       "    </tr>\n",
       "    <tr>\n",
       "      <th>SWISU</th>\n",
       "      <td>1516.0</td>\n",
       "      <td>11.816352</td>\n",
       "      <td>0</td>\n",
       "    </tr>\n",
       "    <tr>\n",
       "      <th>Greens</th>\n",
       "      <td>1226.0</td>\n",
       "      <td>12.248806</td>\n",
       "      <td>0</td>\n",
       "    </tr>\n",
       "    <tr>\n",
       "      <th>Sawyer</th>\n",
       "      <td>1040.0</td>\n",
       "      <td>11.813030</td>\n",
       "      <td>0</td>\n",
       "    </tr>\n",
       "    <tr>\n",
       "      <th>Edwards</th>\n",
       "      <td>1198.0</td>\n",
       "      <td>11.746400</td>\n",
       "      <td>0</td>\n",
       "    </tr>\n",
       "    <tr>\n",
       "      <th>BrkSide</th>\n",
       "      <td>1203.0</td>\n",
       "      <td>11.747998</td>\n",
       "      <td>0</td>\n",
       "    </tr>\n",
       "    <tr>\n",
       "      <th>BrDale</th>\n",
       "      <td>1030.0</td>\n",
       "      <td>11.566466</td>\n",
       "      <td>0</td>\n",
       "    </tr>\n",
       "    <tr>\n",
       "      <th>Blueste</th>\n",
       "      <td>1118.0</td>\n",
       "      <td>11.727633</td>\n",
       "      <td>0</td>\n",
       "    </tr>\n",
       "    <tr>\n",
       "      <th>NPkVill</th>\n",
       "      <td>1069.0</td>\n",
       "      <td>11.867097</td>\n",
       "      <td>0</td>\n",
       "    </tr>\n",
       "    <tr>\n",
       "      <th>SawyerW</th>\n",
       "      <td>1564.0</td>\n",
       "      <td>12.100156</td>\n",
       "      <td>1</td>\n",
       "    </tr>\n",
       "    <tr>\n",
       "      <th>Somerst</th>\n",
       "      <td>1573.0</td>\n",
       "      <td>12.340759</td>\n",
       "      <td>1</td>\n",
       "    </tr>\n",
       "    <tr>\n",
       "      <th>StoneBr</th>\n",
       "      <td>1696.0</td>\n",
       "      <td>12.619755</td>\n",
       "      <td>1</td>\n",
       "    </tr>\n",
       "    <tr>\n",
       "      <th>NridgHt</th>\n",
       "      <td>1787.0</td>\n",
       "      <td>12.568940</td>\n",
       "      <td>1</td>\n",
       "    </tr>\n",
       "    <tr>\n",
       "      <th>Blmngtn</th>\n",
       "      <td>1504.0</td>\n",
       "      <td>12.180755</td>\n",
       "      <td>1</td>\n",
       "    </tr>\n",
       "    <tr>\n",
       "      <th>NWAmes</th>\n",
       "      <td>1660.0</td>\n",
       "      <td>12.124048</td>\n",
       "      <td>1</td>\n",
       "    </tr>\n",
       "    <tr>\n",
       "      <th>Timber</th>\n",
       "      <td>1624.5</td>\n",
       "      <td>12.319242</td>\n",
       "      <td>1</td>\n",
       "    </tr>\n",
       "    <tr>\n",
       "      <th>GrnHill</th>\n",
       "      <td>1398.5</td>\n",
       "      <td>12.526341</td>\n",
       "      <td>1</td>\n",
       "    </tr>\n",
       "    <tr>\n",
       "      <th>Gilbert</th>\n",
       "      <td>1594.0</td>\n",
       "      <td>12.119970</td>\n",
       "      <td>1</td>\n",
       "    </tr>\n",
       "    <tr>\n",
       "      <th>Crawfor</th>\n",
       "      <td>1640.0</td>\n",
       "      <td>12.170445</td>\n",
       "      <td>1</td>\n",
       "    </tr>\n",
       "    <tr>\n",
       "      <th>CollgCr</th>\n",
       "      <td>1536.0</td>\n",
       "      <td>12.200557</td>\n",
       "      <td>1</td>\n",
       "    </tr>\n",
       "    <tr>\n",
       "      <th>ClearCr</th>\n",
       "      <td>1721.5</td>\n",
       "      <td>12.334845</td>\n",
       "      <td>1</td>\n",
       "    </tr>\n",
       "    <tr>\n",
       "      <th>NoRidge</th>\n",
       "      <td>2417.5</td>\n",
       "      <td>12.669762</td>\n",
       "      <td>1</td>\n",
       "    </tr>\n",
       "    <tr>\n",
       "      <th>Veenker</th>\n",
       "      <td>1494.0</td>\n",
       "      <td>12.411052</td>\n",
       "      <td>1</td>\n",
       "    </tr>\n",
       "  </tbody>\n",
       "</table>\n",
       "</div>"
      ],
      "text/plain": [
       "              Sqft_med  LogPrice_med  Cluster\n",
       "Neighborhood                                 \n",
       "MeadowV         1092.0     11.449986        0\n",
       "NAmes           1203.0     11.858285        0\n",
       "Mitchel         1286.0     11.973188        0\n",
       "OldTown         1378.0     11.695247        0\n",
       "Landmrk         1320.0     11.827736        0\n",
       "IDOTRR          1330.0     11.691908        0\n",
       "SWISU           1516.0     11.816352        0\n",
       "Greens          1226.0     12.248806        0\n",
       "Sawyer          1040.0     11.813030        0\n",
       "Edwards         1198.0     11.746400        0\n",
       "BrkSide         1203.0     11.747998        0\n",
       "BrDale          1030.0     11.566466        0\n",
       "Blueste         1118.0     11.727633        0\n",
       "NPkVill         1069.0     11.867097        0\n",
       "SawyerW         1564.0     12.100156        1\n",
       "Somerst         1573.0     12.340759        1\n",
       "StoneBr         1696.0     12.619755        1\n",
       "NridgHt         1787.0     12.568940        1\n",
       "Blmngtn         1504.0     12.180755        1\n",
       "NWAmes          1660.0     12.124048        1\n",
       "Timber          1624.5     12.319242        1\n",
       "GrnHill         1398.5     12.526341        1\n",
       "Gilbert         1594.0     12.119970        1\n",
       "Crawfor         1640.0     12.170445        1\n",
       "CollgCr         1536.0     12.200557        1\n",
       "ClearCr         1721.5     12.334845        1\n",
       "NoRidge         2417.5     12.669762        1\n",
       "Veenker         1494.0     12.411052        1"
      ]
     },
     "execution_count": 50,
     "metadata": {},
     "output_type": "execute_result"
    }
   ],
   "source": [
    "X = nhds\n",
    "scaler = StandardScaler()\n",
    "X = scaler.fit_transform(X)\n",
    "\n",
    "clusterer = KMeans(n_clusters=2, random_state=42)\n",
    "cluster_labels = clusterer.fit_predict(X)\n",
    "nhds['Cluster'] = cluster_labels\n",
    "nhds.sort_values('Cluster')"
   ]
  },
  {
   "cell_type": "code",
   "execution_count": 51,
   "metadata": {},
   "outputs": [],
   "source": [
    "cluster_dict = pd.DataFrame(data = {'Nhd_cluster':nhds.Cluster}, index=nhds.index).to_dict()['Nhd_cluster']"
   ]
  },
  {
   "cell_type": "code",
   "execution_count": 52,
   "metadata": {},
   "outputs": [],
   "source": [
    "train['NhdCluster'] = train.apply(lambda x: cluster_dict[x['Neighborhood']], axis=1)"
   ]
  },
  {
   "cell_type": "code",
   "execution_count": 53,
   "metadata": {},
   "outputs": [],
   "source": [
    "X_train = train.drop(['SalePrice', 'PID', 'TotalBsmtSF', 'GrLivArea'],axis=1)\n",
    "y_train = pd.DataFrame({'LogSalePrice':np.log(train['SalePrice']), 'NhdCluster':train['NhdCluster']})"
   ]
  },
  {
   "cell_type": "code",
   "execution_count": 54,
   "metadata": {},
   "outputs": [],
   "source": [
    "def multilev_selector_2(X, y, selector_params):\n",
    "    \n",
    "    score_dict = {'score_0':0, 'score_1':0}\n",
    "    select_dict = {'select_0':[], 'select_1':[]}\n",
    "    \n",
    "    for j in range(2):\n",
    "              \n",
    "            X_levj = pd.DataFrame(X.loc[X['NhdCluster']==j, :].drop('NhdCluster', axis=1))\n",
    "            y_levj = y.loc[y['NhdCluster']==j, :].drop('NhdCluster', axis=1)\n",
    "\n",
    "            transformer = ColumnTransformer([(\"Cat\", OneHotEncoder(handle_unknown = 'ignore'), categorical)], \n",
    "                                            remainder='passthrough')\n",
    "            X_levj = transformer.fit_transform(X_levj)\n",
    "            scaler = StandardScaler(with_mean=False)\n",
    "            X_levj = scaler.fit_transform(X_levj)\n",
    "                         \n",
    "            lasso = Lasso(alpha=selector_params[j])\n",
    "            selector = SelectFromModel(estimator=lasso)\n",
    "\n",
    "            X_levj = selector.fit_transform(X_levj, y_levj)\n",
    "\n",
    "            ols = LinearRegression()\n",
    "            ols.fit(X_levj,y_levj)\n",
    "            if ols.score(X_levj,y_levj) > score_dict[f'score_{j}']:\n",
    "                score_dict[f'score_{j}'] = ols.score(X_levj,y_levj)\n",
    "                mask = selector.get_support()\n",
    "                feat_names = transformer.get_feature_names()\n",
    "                select_dict[f'select_{j}'] = [name for name, boo in zip(feat_names, mask) if boo]\n",
    "\n",
    "    return score_dict, select_dict"
   ]
  },
  {
   "cell_type": "code",
   "execution_count": 55,
   "metadata": {
    "scrolled": false
   },
   "outputs": [
    {
     "data": {
      "text/plain": [
       "0    975\n",
       "1    896\n",
       "Name: NhdCluster, dtype: int64"
      ]
     },
     "execution_count": 55,
     "metadata": {},
     "output_type": "execute_result"
    }
   ],
   "source": [
    "X_train['NhdCluster'].value_counts()"
   ]
  },
  {
   "cell_type": "code",
   "execution_count": 56,
   "metadata": {},
   "outputs": [],
   "source": [
    "train['LogSalePrice'] = np.log(train['SalePrice'])"
   ]
  },
  {
   "cell_type": "code",
   "execution_count": 57,
   "metadata": {},
   "outputs": [],
   "source": [
    "comp_dict = train.groupby(['Neighborhood', 'BedroomAbvGr', 'BldgType',\n",
    "               'OverallQual', 'FullBath', 'KitchenQual', 'GarageCars']).mean()['LogSalePrice'].to_dict()"
   ]
  },
  {
   "cell_type": "code",
   "execution_count": 58,
   "metadata": {},
   "outputs": [],
   "source": [
    "train['Comp'] = train.apply(lambda x: comp_dict[(x['Neighborhood'], x['BedroomAbvGr'], x['BldgType'],\n",
    "               x['OverallQual'], x['FullBath'], x['KitchenQual'], x['GarageCars'])],axis=1)"
   ]
  },
  {
   "cell_type": "code",
   "execution_count": 59,
   "metadata": {},
   "outputs": [],
   "source": [
    "X_train = train.drop(['SalePrice', 'LogSalePrice', 'PID', 'TotalBsmtSF', 'GrLivArea'], axis=1)\n",
    "y_train = pd.DataFrame({'LogSalePrice':train['LogSalePrice'], 'NhdCluster':train['NhdCluster']})"
   ]
  },
  {
   "cell_type": "code",
   "execution_count": 60,
   "metadata": {},
   "outputs": [
    {
     "data": {
      "text/plain": [
       "({'score_0': 0.9144695812365655, 'score_1': 0.9487388452922789},\n",
       " {'select_0': ['BsmtFinSF1', '1stFlrSF', 'Fireplaces', 'Comp'],\n",
       "  'select_1': ['Cat__x1_60',\n",
       "   'Cat__x9_Feedr',\n",
       "   'Cat__x22_New',\n",
       "   'OverallQual',\n",
       "   'YearRemodAdd',\n",
       "   'MasVnrArea',\n",
       "   'ExterQual',\n",
       "   'BsmtFinSF1',\n",
       "   'HeatingQC',\n",
       "   '1stFlrSF',\n",
       "   '2ndFlrSF',\n",
       "   'BsmtFullBath',\n",
       "   'HalfBath',\n",
       "   'TotRmsAbvGrd',\n",
       "   'Fireplaces',\n",
       "   'FireplaceQu',\n",
       "   'GarageArea',\n",
       "   'OpenPorchSF',\n",
       "   'Comp']})"
      ]
     },
     "execution_count": 60,
     "metadata": {},
     "output_type": "execute_result"
    }
   ],
   "source": [
    "selections = multilev_selector_2(X_train, y_train, [0.02, 0.009])\n",
    "selections"
   ]
  },
  {
   "cell_type": "code",
   "execution_count": 61,
   "metadata": {
    "scrolled": true
   },
   "outputs": [
    {
     "data": {
      "text/plain": [
       "['BsmtFinSF1', '1stFlrSF', 'Fireplaces', 'Comp']"
      ]
     },
     "execution_count": 61,
     "metadata": {},
     "output_type": "execute_result"
    }
   ],
   "source": [
    "select_0 = selections[1]['select_0']\n",
    "select_0"
   ]
  },
  {
   "cell_type": "code",
   "execution_count": 62,
   "metadata": {},
   "outputs": [],
   "source": [
    "cats_0 = [col for col in select_0 if col in categorical]"
   ]
  },
  {
   "cell_type": "code",
   "execution_count": 63,
   "metadata": {},
   "outputs": [
    {
     "data": {
      "text/plain": [
       "GridSearchCV(cv=RepeatedKFold(n_repeats=10, n_splits=5, random_state=None),\n",
       "             estimator=Pipeline(steps=[('transformer',\n",
       "                                        ColumnTransformer(remainder='passthrough',\n",
       "                                                          transformers=[('Cat',\n",
       "                                                                         OneHotEncoder(handle_unknown='ignore'),\n",
       "                                                                         [])])),\n",
       "                                       ('scaler', StandardScaler()),\n",
       "                                       ('ridge', Ridge())]),\n",
       "             n_jobs=-1, param_grid={'ridge__alpha': [0.001, 0.1, 1, 10]},\n",
       "             scoring='r2')"
      ]
     },
     "execution_count": 63,
     "metadata": {},
     "output_type": "execute_result"
    }
   ],
   "source": [
    "X = X_train\n",
    "X = X.loc[X['NhdCluster']==0, :].drop('NhdCluster', axis=1)\n",
    "X = X[select_0]\n",
    "\n",
    "y = y_train\n",
    "y = y.loc[y['NhdCluster']==0, :].drop('NhdCluster', axis=1)\n",
    "\n",
    "\n",
    "pipe = Pipeline([('transformer', ColumnTransformer([(\"Cat\", OneHotEncoder(handle_unknown='ignore'), cats_0)], \n",
    "                                            remainder='passthrough')),\n",
    "                 ('scaler', StandardScaler()),\n",
    "                 ('ridge', Ridge())])\n",
    "\n",
    "param_grid = {'ridge__alpha':[0.001, 0.1, 1, 10]}\n",
    "cv = RepeatedKFold(n_splits=5)\n",
    "\n",
    "grid = GridSearchCV(pipe, param_grid, scoring='r2', cv=cv, n_jobs=-1)\n",
    "\n",
    "grid.fit(X,y)"
   ]
  },
  {
   "cell_type": "code",
   "execution_count": 64,
   "metadata": {},
   "outputs": [
    {
     "name": "stdout",
     "output_type": "stream",
     "text": [
      "[0.91178927 0.9117895  0.91178976 0.91161645]\n",
      "{'ridge__alpha': 1}\n",
      "0.9117897563749553\n"
     ]
    }
   ],
   "source": [
    "print(grid.cv_results_['mean_test_score'])\n",
    "print(grid.best_params_)\n",
    "print(grid.best_score_)"
   ]
  },
  {
   "cell_type": "code",
   "execution_count": 65,
   "metadata": {
    "scrolled": false
   },
   "outputs": [
    {
     "data": {
      "text/plain": [
       "['Cat__x1_60',\n",
       " 'Cat__x9_Feedr',\n",
       " 'Cat__x22_New',\n",
       " 'OverallQual',\n",
       " 'YearRemodAdd',\n",
       " 'MasVnrArea',\n",
       " 'ExterQual',\n",
       " 'BsmtFinSF1',\n",
       " 'HeatingQC',\n",
       " '1stFlrSF',\n",
       " '2ndFlrSF',\n",
       " 'BsmtFullBath',\n",
       " 'HalfBath',\n",
       " 'TotRmsAbvGrd',\n",
       " 'Fireplaces',\n",
       " 'FireplaceQu',\n",
       " 'GarageArea',\n",
       " 'OpenPorchSF',\n",
       " 'Comp']"
      ]
     },
     "execution_count": 65,
     "metadata": {},
     "output_type": "execute_result"
    }
   ],
   "source": [
    "selections[1]['select_1']"
   ]
  },
  {
   "cell_type": "code",
   "execution_count": 66,
   "metadata": {
    "scrolled": true
   },
   "outputs": [
    {
     "data": {
      "text/plain": [
       "{0: 'MSZoning',\n",
       " 1: 'MSSubClass',\n",
       " 2: 'Street',\n",
       " 3: 'Alley',\n",
       " 4: 'LotShape',\n",
       " 5: 'LandContour',\n",
       " 6: 'LotConfig',\n",
       " 7: 'LandSlope',\n",
       " 8: 'Neighborhood',\n",
       " 9: 'Condition1',\n",
       " 10: 'Condition2',\n",
       " 11: 'BldgType',\n",
       " 12: 'HouseStyle',\n",
       " 13: 'RoofStyle',\n",
       " 14: 'Foundation',\n",
       " 15: 'BsmtFinType1',\n",
       " 16: 'BsmtFinType2',\n",
       " 17: 'Heating',\n",
       " 18: 'GarageType',\n",
       " 19: 'GarageFinish',\n",
       " 20: 'PavedDrive',\n",
       " 21: 'MiscFeature',\n",
       " 22: 'SaleType',\n",
       " 23: 'SaleCondition',\n",
       " 24: 'BedroomAbvGr',\n",
       " 25: 'CentralAir',\n",
       " 26: 'Utilities',\n",
       " 27: 'RoofMatl',\n",
       " 28: 'Exterior1st',\n",
       " 29: 'Exterior2nd',\n",
       " 30: 'MasVnrType',\n",
       " 31: 'Electrical',\n",
       " 32: 'Functional',\n",
       " 33: 'Fence',\n",
       " 34: 'KitchenAbvGr',\n",
       " 35: 'MoSold',\n",
       " 36: 'YrSold'}"
      ]
     },
     "execution_count": 66,
     "metadata": {},
     "output_type": "execute_result"
    }
   ],
   "source": [
    "dict(enumerate(categorical))"
   ]
  },
  {
   "cell_type": "code",
   "execution_count": 67,
   "metadata": {},
   "outputs": [],
   "source": [
    "select_1 = ['MasVnrType',\n",
    " 'BsmtFinType1',\n",
    " 'OverallCond',\n",
    " 'YearRemodAdd',\n",
    " 'BsmtQual',\n",
    " 'BsmtExposure',\n",
    " 'BsmtFinSF1',\n",
    " '1stFlrSF',\n",
    " 'HalfBath',\n",
    " 'TotRmsAbvGrd',\n",
    " 'Fireplaces',\n",
    " 'WoodDeckSF',\n",
    " 'ScreenPorch',\n",
    " 'Comp']"
   ]
  },
  {
   "cell_type": "code",
   "execution_count": 68,
   "metadata": {},
   "outputs": [],
   "source": [
    "cats_1 = [col for col in select_1 if col in categorical]"
   ]
  },
  {
   "cell_type": "code",
   "execution_count": 69,
   "metadata": {},
   "outputs": [
    {
     "data": {
      "text/plain": [
       "GridSearchCV(cv=RepeatedKFold(n_repeats=10, n_splits=5, random_state=None),\n",
       "             estimator=Pipeline(steps=[('transformer',\n",
       "                                        ColumnTransformer(remainder='passthrough',\n",
       "                                                          transformers=[('Cat',\n",
       "                                                                         OneHotEncoder(handle_unknown='ignore'),\n",
       "                                                                         ['MasVnrType',\n",
       "                                                                          'BsmtFinType1'])])),\n",
       "                                       ('scaler', StandardScaler()),\n",
       "                                       ('ridge', Ridge())]),\n",
       "             n_jobs=-1, param_grid={'ridge__alpha': [0.001, 0.1, 1, 10]},\n",
       "             scoring='r2')"
      ]
     },
     "execution_count": 69,
     "metadata": {},
     "output_type": "execute_result"
    }
   ],
   "source": [
    "X = X_train\n",
    "X = X.loc[X['NhdCluster']==1, :].drop('NhdCluster', axis=1)\n",
    "X = X[select_1]\n",
    "\n",
    "y = y_train\n",
    "y = y.loc[y['NhdCluster']==1, :].drop('NhdCluster', axis=1)\n",
    "\n",
    "\n",
    "pipe = Pipeline([('transformer', ColumnTransformer([(\"Cat\", OneHotEncoder(handle_unknown='ignore'), cats_1)], \n",
    "                                            remainder='passthrough')),\n",
    "                 ('scaler', StandardScaler()),\n",
    "                 ('ridge', Ridge())])\n",
    "\n",
    "param_grid = {'ridge__alpha':[0.001, 0.1, 1, 10]}\n",
    "cv = RepeatedKFold(n_splits=5)\n",
    "\n",
    "grid = GridSearchCV(pipe, param_grid, scoring='r2', cv=cv, n_jobs=-1)\n",
    "\n",
    "grid.fit(X,y)"
   ]
  },
  {
   "cell_type": "code",
   "execution_count": 70,
   "metadata": {
    "scrolled": false
   },
   "outputs": [
    {
     "name": "stdout",
     "output_type": "stream",
     "text": [
      "[0.93541279 0.93541267 0.93540913 0.9351601 ]\n",
      "{'ridge__alpha': 0.001}\n",
      "0.9354127890041376\n"
     ]
    }
   ],
   "source": [
    "print(grid.cv_results_['mean_test_score'])\n",
    "print(grid.best_params_)\n",
    "print(grid.best_score_)"
   ]
  },
  {
   "cell_type": "markdown",
   "metadata": {},
   "source": [
    "# Two clusters based on price only (moving Greens)"
   ]
  },
  {
   "cell_type": "code",
   "execution_count": 71,
   "metadata": {},
   "outputs": [],
   "source": [
    "train, test = helper.data_processing_wrapper(df, num_to_cat_list=[], remove_PID=False)"
   ]
  },
  {
   "cell_type": "code",
   "execution_count": 72,
   "metadata": {},
   "outputs": [],
   "source": [
    "nhds = train.loc[:,['Neighborhood', 'GrLivArea']]\n",
    "nhds['LogSalePrice'] = np.log(train['SalePrice'])"
   ]
  },
  {
   "cell_type": "code",
   "execution_count": 73,
   "metadata": {},
   "outputs": [],
   "source": [
    "nhds = nhds.groupby('Neighborhood').agg(\n",
    "    Sqft_med=pd.NamedAgg('GrLivArea',np.median),\n",
    "    LogPrice_med=pd.NamedAgg('LogSalePrice',np.median)\n",
    ").fillna(0)"
   ]
  },
  {
   "cell_type": "code",
   "execution_count": 74,
   "metadata": {},
   "outputs": [],
   "source": [
    "weights = train.groupby('Neighborhood').count().apply(lambda x: x['PID']/len(train) ,axis=1).to_list()"
   ]
  },
  {
   "cell_type": "code",
   "execution_count": 75,
   "metadata": {
    "scrolled": true
   },
   "outputs": [
    {
     "data": {
      "text/html": [
       "<div>\n",
       "<style scoped>\n",
       "    .dataframe tbody tr th:only-of-type {\n",
       "        vertical-align: middle;\n",
       "    }\n",
       "\n",
       "    .dataframe tbody tr th {\n",
       "        vertical-align: top;\n",
       "    }\n",
       "\n",
       "    .dataframe thead th {\n",
       "        text-align: right;\n",
       "    }\n",
       "</style>\n",
       "<table border=\"1\" class=\"dataframe\">\n",
       "  <thead>\n",
       "    <tr style=\"text-align: right;\">\n",
       "      <th></th>\n",
       "      <th>Sqft_med</th>\n",
       "      <th>LogPrice_med</th>\n",
       "      <th>Cluster</th>\n",
       "    </tr>\n",
       "    <tr>\n",
       "      <th>Neighborhood</th>\n",
       "      <th></th>\n",
       "      <th></th>\n",
       "      <th></th>\n",
       "    </tr>\n",
       "  </thead>\n",
       "  <tbody>\n",
       "    <tr>\n",
       "      <th>MeadowV</th>\n",
       "      <td>1092.0</td>\n",
       "      <td>11.449986</td>\n",
       "      <td>0</td>\n",
       "    </tr>\n",
       "    <tr>\n",
       "      <th>NAmes</th>\n",
       "      <td>1203.0</td>\n",
       "      <td>11.858285</td>\n",
       "      <td>0</td>\n",
       "    </tr>\n",
       "    <tr>\n",
       "      <th>Mitchel</th>\n",
       "      <td>1286.0</td>\n",
       "      <td>11.973188</td>\n",
       "      <td>0</td>\n",
       "    </tr>\n",
       "    <tr>\n",
       "      <th>OldTown</th>\n",
       "      <td>1378.0</td>\n",
       "      <td>11.695247</td>\n",
       "      <td>0</td>\n",
       "    </tr>\n",
       "    <tr>\n",
       "      <th>Landmrk</th>\n",
       "      <td>1320.0</td>\n",
       "      <td>11.827736</td>\n",
       "      <td>0</td>\n",
       "    </tr>\n",
       "    <tr>\n",
       "      <th>IDOTRR</th>\n",
       "      <td>1330.0</td>\n",
       "      <td>11.691908</td>\n",
       "      <td>0</td>\n",
       "    </tr>\n",
       "    <tr>\n",
       "      <th>SWISU</th>\n",
       "      <td>1516.0</td>\n",
       "      <td>11.816352</td>\n",
       "      <td>0</td>\n",
       "    </tr>\n",
       "    <tr>\n",
       "      <th>Greens</th>\n",
       "      <td>1226.0</td>\n",
       "      <td>12.248806</td>\n",
       "      <td>0</td>\n",
       "    </tr>\n",
       "    <tr>\n",
       "      <th>Sawyer</th>\n",
       "      <td>1040.0</td>\n",
       "      <td>11.813030</td>\n",
       "      <td>0</td>\n",
       "    </tr>\n",
       "    <tr>\n",
       "      <th>Edwards</th>\n",
       "      <td>1198.0</td>\n",
       "      <td>11.746400</td>\n",
       "      <td>0</td>\n",
       "    </tr>\n",
       "    <tr>\n",
       "      <th>BrkSide</th>\n",
       "      <td>1203.0</td>\n",
       "      <td>11.747998</td>\n",
       "      <td>0</td>\n",
       "    </tr>\n",
       "    <tr>\n",
       "      <th>BrDale</th>\n",
       "      <td>1030.0</td>\n",
       "      <td>11.566466</td>\n",
       "      <td>0</td>\n",
       "    </tr>\n",
       "    <tr>\n",
       "      <th>Blueste</th>\n",
       "      <td>1118.0</td>\n",
       "      <td>11.727633</td>\n",
       "      <td>0</td>\n",
       "    </tr>\n",
       "    <tr>\n",
       "      <th>NPkVill</th>\n",
       "      <td>1069.0</td>\n",
       "      <td>11.867097</td>\n",
       "      <td>0</td>\n",
       "    </tr>\n",
       "    <tr>\n",
       "      <th>SawyerW</th>\n",
       "      <td>1564.0</td>\n",
       "      <td>12.100156</td>\n",
       "      <td>1</td>\n",
       "    </tr>\n",
       "    <tr>\n",
       "      <th>Somerst</th>\n",
       "      <td>1573.0</td>\n",
       "      <td>12.340759</td>\n",
       "      <td>1</td>\n",
       "    </tr>\n",
       "    <tr>\n",
       "      <th>StoneBr</th>\n",
       "      <td>1696.0</td>\n",
       "      <td>12.619755</td>\n",
       "      <td>1</td>\n",
       "    </tr>\n",
       "    <tr>\n",
       "      <th>NridgHt</th>\n",
       "      <td>1787.0</td>\n",
       "      <td>12.568940</td>\n",
       "      <td>1</td>\n",
       "    </tr>\n",
       "    <tr>\n",
       "      <th>Blmngtn</th>\n",
       "      <td>1504.0</td>\n",
       "      <td>12.180755</td>\n",
       "      <td>1</td>\n",
       "    </tr>\n",
       "    <tr>\n",
       "      <th>NWAmes</th>\n",
       "      <td>1660.0</td>\n",
       "      <td>12.124048</td>\n",
       "      <td>1</td>\n",
       "    </tr>\n",
       "    <tr>\n",
       "      <th>Timber</th>\n",
       "      <td>1624.5</td>\n",
       "      <td>12.319242</td>\n",
       "      <td>1</td>\n",
       "    </tr>\n",
       "    <tr>\n",
       "      <th>GrnHill</th>\n",
       "      <td>1398.5</td>\n",
       "      <td>12.526341</td>\n",
       "      <td>1</td>\n",
       "    </tr>\n",
       "    <tr>\n",
       "      <th>Gilbert</th>\n",
       "      <td>1594.0</td>\n",
       "      <td>12.119970</td>\n",
       "      <td>1</td>\n",
       "    </tr>\n",
       "    <tr>\n",
       "      <th>Crawfor</th>\n",
       "      <td>1640.0</td>\n",
       "      <td>12.170445</td>\n",
       "      <td>1</td>\n",
       "    </tr>\n",
       "    <tr>\n",
       "      <th>CollgCr</th>\n",
       "      <td>1536.0</td>\n",
       "      <td>12.200557</td>\n",
       "      <td>1</td>\n",
       "    </tr>\n",
       "    <tr>\n",
       "      <th>ClearCr</th>\n",
       "      <td>1721.5</td>\n",
       "      <td>12.334845</td>\n",
       "      <td>1</td>\n",
       "    </tr>\n",
       "    <tr>\n",
       "      <th>NoRidge</th>\n",
       "      <td>2417.5</td>\n",
       "      <td>12.669762</td>\n",
       "      <td>1</td>\n",
       "    </tr>\n",
       "    <tr>\n",
       "      <th>Veenker</th>\n",
       "      <td>1494.0</td>\n",
       "      <td>12.411052</td>\n",
       "      <td>1</td>\n",
       "    </tr>\n",
       "  </tbody>\n",
       "</table>\n",
       "</div>"
      ],
      "text/plain": [
       "              Sqft_med  LogPrice_med  Cluster\n",
       "Neighborhood                                 \n",
       "MeadowV         1092.0     11.449986        0\n",
       "NAmes           1203.0     11.858285        0\n",
       "Mitchel         1286.0     11.973188        0\n",
       "OldTown         1378.0     11.695247        0\n",
       "Landmrk         1320.0     11.827736        0\n",
       "IDOTRR          1330.0     11.691908        0\n",
       "SWISU           1516.0     11.816352        0\n",
       "Greens          1226.0     12.248806        0\n",
       "Sawyer          1040.0     11.813030        0\n",
       "Edwards         1198.0     11.746400        0\n",
       "BrkSide         1203.0     11.747998        0\n",
       "BrDale          1030.0     11.566466        0\n",
       "Blueste         1118.0     11.727633        0\n",
       "NPkVill         1069.0     11.867097        0\n",
       "SawyerW         1564.0     12.100156        1\n",
       "Somerst         1573.0     12.340759        1\n",
       "StoneBr         1696.0     12.619755        1\n",
       "NridgHt         1787.0     12.568940        1\n",
       "Blmngtn         1504.0     12.180755        1\n",
       "NWAmes          1660.0     12.124048        1\n",
       "Timber          1624.5     12.319242        1\n",
       "GrnHill         1398.5     12.526341        1\n",
       "Gilbert         1594.0     12.119970        1\n",
       "Crawfor         1640.0     12.170445        1\n",
       "CollgCr         1536.0     12.200557        1\n",
       "ClearCr         1721.5     12.334845        1\n",
       "NoRidge         2417.5     12.669762        1\n",
       "Veenker         1494.0     12.411052        1"
      ]
     },
     "execution_count": 75,
     "metadata": {},
     "output_type": "execute_result"
    }
   ],
   "source": [
    "X = nhds\n",
    "scaler = StandardScaler()\n",
    "X = scaler.fit_transform(X)\n",
    "\n",
    "clusterer = KMeans(n_clusters=2, random_state=42)\n",
    "cluster_labels = clusterer.fit_predict(X)\n",
    "nhds['Cluster'] = cluster_labels\n",
    "nhds.sort_values('Cluster')"
   ]
  },
  {
   "cell_type": "code",
   "execution_count": 80,
   "metadata": {},
   "outputs": [
    {
     "data": {
      "text/html": [
       "<div>\n",
       "<style scoped>\n",
       "    .dataframe tbody tr th:only-of-type {\n",
       "        vertical-align: middle;\n",
       "    }\n",
       "\n",
       "    .dataframe tbody tr th {\n",
       "        vertical-align: top;\n",
       "    }\n",
       "\n",
       "    .dataframe thead th {\n",
       "        text-align: right;\n",
       "    }\n",
       "</style>\n",
       "<table border=\"1\" class=\"dataframe\">\n",
       "  <thead>\n",
       "    <tr style=\"text-align: right;\">\n",
       "      <th></th>\n",
       "      <th>Sqft_z</th>\n",
       "      <th>Price_z</th>\n",
       "      <th>Cluster_z</th>\n",
       "    </tr>\n",
       "    <tr>\n",
       "      <th>Neighborhood</th>\n",
       "      <th></th>\n",
       "      <th></th>\n",
       "      <th></th>\n",
       "    </tr>\n",
       "  </thead>\n",
       "  <tbody>\n",
       "    <tr>\n",
       "      <th>MeadowV</th>\n",
       "      <td>-1.180127</td>\n",
       "      <td>-1.852867</td>\n",
       "      <td>-1.0</td>\n",
       "    </tr>\n",
       "    <tr>\n",
       "      <th>BrDale</th>\n",
       "      <td>-1.392581</td>\n",
       "      <td>-1.499827</td>\n",
       "      <td>-1.0</td>\n",
       "    </tr>\n",
       "    <tr>\n",
       "      <th>IDOTRR</th>\n",
       "      <td>-0.364575</td>\n",
       "      <td>-1.119626</td>\n",
       "      <td>-1.0</td>\n",
       "    </tr>\n",
       "    <tr>\n",
       "      <th>OldTown</th>\n",
       "      <td>-0.200094</td>\n",
       "      <td>-1.109506</td>\n",
       "      <td>-1.0</td>\n",
       "    </tr>\n",
       "    <tr>\n",
       "      <th>Blueste</th>\n",
       "      <td>-1.091033</td>\n",
       "      <td>-1.011346</td>\n",
       "      <td>-1.0</td>\n",
       "    </tr>\n",
       "    <tr>\n",
       "      <th>Edwards</th>\n",
       "      <td>-0.816898</td>\n",
       "      <td>-0.954467</td>\n",
       "      <td>-1.0</td>\n",
       "    </tr>\n",
       "    <tr>\n",
       "      <th>BrkSide</th>\n",
       "      <td>-0.799764</td>\n",
       "      <td>-0.949625</td>\n",
       "      <td>-1.0</td>\n",
       "    </tr>\n",
       "    <tr>\n",
       "      <th>Sawyer</th>\n",
       "      <td>-1.358315</td>\n",
       "      <td>-0.752519</td>\n",
       "      <td>-1.0</td>\n",
       "    </tr>\n",
       "    <tr>\n",
       "      <th>SWISU</th>\n",
       "      <td>0.272789</td>\n",
       "      <td>-0.742449</td>\n",
       "      <td>-1.0</td>\n",
       "    </tr>\n",
       "    <tr>\n",
       "      <th>Landmrk</th>\n",
       "      <td>-0.398842</td>\n",
       "      <td>-0.707946</td>\n",
       "      <td>-1.0</td>\n",
       "    </tr>\n",
       "    <tr>\n",
       "      <th>NAmes</th>\n",
       "      <td>-0.799764</td>\n",
       "      <td>-0.615355</td>\n",
       "      <td>-1.0</td>\n",
       "    </tr>\n",
       "    <tr>\n",
       "      <th>NPkVill</th>\n",
       "      <td>-1.258941</td>\n",
       "      <td>-0.588647</td>\n",
       "      <td>-1.0</td>\n",
       "    </tr>\n",
       "    <tr>\n",
       "      <th>Mitchel</th>\n",
       "      <td>-0.515349</td>\n",
       "      <td>-0.267096</td>\n",
       "      <td>-1.0</td>\n",
       "    </tr>\n",
       "    <tr>\n",
       "      <th>SawyerW</th>\n",
       "      <td>0.437270</td>\n",
       "      <td>0.117730</td>\n",
       "      <td>1.0</td>\n",
       "    </tr>\n",
       "    <tr>\n",
       "      <th>Gilbert</th>\n",
       "      <td>0.540070</td>\n",
       "      <td>0.177783</td>\n",
       "      <td>1.0</td>\n",
       "    </tr>\n",
       "    <tr>\n",
       "      <th>NWAmes</th>\n",
       "      <td>0.766232</td>\n",
       "      <td>0.190143</td>\n",
       "      <td>1.0</td>\n",
       "    </tr>\n",
       "    <tr>\n",
       "      <th>Crawfor</th>\n",
       "      <td>0.697698</td>\n",
       "      <td>0.330769</td>\n",
       "      <td>1.0</td>\n",
       "    </tr>\n",
       "    <tr>\n",
       "      <th>Blmngtn</th>\n",
       "      <td>0.231669</td>\n",
       "      <td>0.362015</td>\n",
       "      <td>1.0</td>\n",
       "    </tr>\n",
       "    <tr>\n",
       "      <th>CollgCr</th>\n",
       "      <td>0.341323</td>\n",
       "      <td>0.422035</td>\n",
       "      <td>1.0</td>\n",
       "    </tr>\n",
       "    <tr>\n",
       "      <th>Greens</th>\n",
       "      <td>-0.720951</td>\n",
       "      <td>0.568271</td>\n",
       "      <td>-1.0</td>\n",
       "    </tr>\n",
       "    <tr>\n",
       "      <th>Timber</th>\n",
       "      <td>0.644584</td>\n",
       "      <td>0.781755</td>\n",
       "      <td>1.0</td>\n",
       "    </tr>\n",
       "    <tr>\n",
       "      <th>ClearCr</th>\n",
       "      <td>0.976973</td>\n",
       "      <td>0.829047</td>\n",
       "      <td>1.0</td>\n",
       "    </tr>\n",
       "    <tr>\n",
       "      <th>Somerst</th>\n",
       "      <td>0.468110</td>\n",
       "      <td>0.846970</td>\n",
       "      <td>1.0</td>\n",
       "    </tr>\n",
       "    <tr>\n",
       "      <th>Veenker</th>\n",
       "      <td>0.197402</td>\n",
       "      <td>1.060022</td>\n",
       "      <td>1.0</td>\n",
       "    </tr>\n",
       "    <tr>\n",
       "      <th>GrnHill</th>\n",
       "      <td>-0.129847</td>\n",
       "      <td>1.409451</td>\n",
       "      <td>1.0</td>\n",
       "    </tr>\n",
       "    <tr>\n",
       "      <th>NridgHt</th>\n",
       "      <td>1.201421</td>\n",
       "      <td>1.538564</td>\n",
       "      <td>1.0</td>\n",
       "    </tr>\n",
       "    <tr>\n",
       "      <th>StoneBr</th>\n",
       "      <td>0.889593</td>\n",
       "      <td>1.692579</td>\n",
       "      <td>1.0</td>\n",
       "    </tr>\n",
       "    <tr>\n",
       "      <th>NoRidge</th>\n",
       "      <td>3.361948</td>\n",
       "      <td>1.844144</td>\n",
       "      <td>1.0</td>\n",
       "    </tr>\n",
       "  </tbody>\n",
       "</table>\n",
       "</div>"
      ],
      "text/plain": [
       "                Sqft_z   Price_z  Cluster_z\n",
       "Neighborhood                               \n",
       "MeadowV      -1.180127 -1.852867       -1.0\n",
       "BrDale       -1.392581 -1.499827       -1.0\n",
       "IDOTRR       -0.364575 -1.119626       -1.0\n",
       "OldTown      -0.200094 -1.109506       -1.0\n",
       "Blueste      -1.091033 -1.011346       -1.0\n",
       "Edwards      -0.816898 -0.954467       -1.0\n",
       "BrkSide      -0.799764 -0.949625       -1.0\n",
       "Sawyer       -1.358315 -0.752519       -1.0\n",
       "SWISU         0.272789 -0.742449       -1.0\n",
       "Landmrk      -0.398842 -0.707946       -1.0\n",
       "NAmes        -0.799764 -0.615355       -1.0\n",
       "NPkVill      -1.258941 -0.588647       -1.0\n",
       "Mitchel      -0.515349 -0.267096       -1.0\n",
       "SawyerW       0.437270  0.117730        1.0\n",
       "Gilbert       0.540070  0.177783        1.0\n",
       "NWAmes        0.766232  0.190143        1.0\n",
       "Crawfor       0.697698  0.330769        1.0\n",
       "Blmngtn       0.231669  0.362015        1.0\n",
       "CollgCr       0.341323  0.422035        1.0\n",
       "Greens       -0.720951  0.568271       -1.0\n",
       "Timber        0.644584  0.781755        1.0\n",
       "ClearCr       0.976973  0.829047        1.0\n",
       "Somerst       0.468110  0.846970        1.0\n",
       "Veenker       0.197402  1.060022        1.0\n",
       "GrnHill      -0.129847  1.409451        1.0\n",
       "NridgHt       1.201421  1.538564        1.0\n",
       "StoneBr       0.889593  1.692579        1.0\n",
       "NoRidge       3.361948  1.844144        1.0"
      ]
     },
     "execution_count": 80,
     "metadata": {},
     "output_type": "execute_result"
    }
   ],
   "source": [
    "scaler = StandardScaler()\n",
    "nhds_scaled = nhds.sort_values('Cluster') \n",
    "nhds_scaled = scaler.fit_transform(nhds_scaled)\n",
    "nhds_scaled = pd.DataFrame(nhds_scaled, index=nhds.sort_values('Cluster').index).rename(columns={0:'Sqft_z', 1:'Price_z', 2:'Cluster_z'})\n",
    "nhds_scaled.sort_values('Price_z')"
   ]
  },
  {
   "cell_type": "code",
   "execution_count": 82,
   "metadata": {},
   "outputs": [
    {
     "data": {
      "text/plain": [
       "{'Blmngtn': 1,\n",
       " 'Blueste': 0,\n",
       " 'BrDale': 0,\n",
       " 'BrkSide': 0,\n",
       " 'ClearCr': 1,\n",
       " 'CollgCr': 1,\n",
       " 'Crawfor': 1,\n",
       " 'Edwards': 0,\n",
       " 'Gilbert': 1,\n",
       " 'Greens': 1,\n",
       " 'GrnHill': 1,\n",
       " 'IDOTRR': 0,\n",
       " 'Landmrk': 0,\n",
       " 'MeadowV': 0,\n",
       " 'Mitchel': 0,\n",
       " 'NAmes': 0,\n",
       " 'NPkVill': 0,\n",
       " 'NWAmes': 1,\n",
       " 'NoRidge': 1,\n",
       " 'NridgHt': 1,\n",
       " 'OldTown': 0,\n",
       " 'SWISU': 0,\n",
       " 'Sawyer': 0,\n",
       " 'SawyerW': 1,\n",
       " 'Somerst': 1,\n",
       " 'StoneBr': 1,\n",
       " 'Timber': 1,\n",
       " 'Veenker': 1}"
      ]
     },
     "execution_count": 82,
     "metadata": {},
     "output_type": "execute_result"
    }
   ],
   "source": [
    "cluster_dict = pd.DataFrame(data = {'Nhd_cluster':nhds.Cluster}, index=nhds.index).to_dict()['Nhd_cluster']\n",
    "cluster_dict['Greens'] = 1\n",
    "cluster_dict"
   ]
  },
  {
   "cell_type": "code",
   "execution_count": 83,
   "metadata": {},
   "outputs": [],
   "source": [
    "train['NhdCluster'] = train.apply(lambda x: cluster_dict[x['Neighborhood']], axis=1)"
   ]
  },
  {
   "cell_type": "code",
   "execution_count": 84,
   "metadata": {},
   "outputs": [],
   "source": [
    "X_train = train.drop(['SalePrice', 'PID', 'TotalBsmtSF', 'GrLivArea'],axis=1)\n",
    "y_train = pd.DataFrame({'LogSalePrice':np.log(train['SalePrice']), 'NhdCluster':train['NhdCluster']})"
   ]
  },
  {
   "cell_type": "code",
   "execution_count": 85,
   "metadata": {
    "scrolled": false
   },
   "outputs": [
    {
     "data": {
      "text/plain": [
       "0    969\n",
       "1    902\n",
       "Name: NhdCluster, dtype: int64"
      ]
     },
     "execution_count": 85,
     "metadata": {},
     "output_type": "execute_result"
    }
   ],
   "source": [
    "X_train['NhdCluster'].value_counts()"
   ]
  },
  {
   "cell_type": "code",
   "execution_count": 86,
   "metadata": {},
   "outputs": [],
   "source": [
    "train['LogSalePrice'] = np.log(train['SalePrice'])"
   ]
  },
  {
   "cell_type": "code",
   "execution_count": 87,
   "metadata": {},
   "outputs": [],
   "source": [
    "comp_dict = train.groupby(['Neighborhood', 'BedroomAbvGr', 'BldgType',\n",
    "               'OverallQual', 'FullBath', 'KitchenQual', 'GarageCars']).mean()['LogSalePrice'].to_dict()"
   ]
  },
  {
   "cell_type": "code",
   "execution_count": 88,
   "metadata": {},
   "outputs": [],
   "source": [
    "train['Comp'] = train.apply(lambda x: comp_dict[(x['Neighborhood'], x['BedroomAbvGr'], x['BldgType'],\n",
    "               x['OverallQual'], x['FullBath'], x['KitchenQual'], x['GarageCars'])],axis=1)"
   ]
  },
  {
   "cell_type": "code",
   "execution_count": 89,
   "metadata": {},
   "outputs": [],
   "source": [
    "X_train = train.drop(['SalePrice', 'LogSalePrice', 'PID', 'TotalBsmtSF', 'GrLivArea'], axis=1)\n",
    "y_train = pd.DataFrame({'LogSalePrice':train['LogSalePrice'], 'NhdCluster':train['NhdCluster']})"
   ]
  },
  {
   "cell_type": "code",
   "execution_count": 94,
   "metadata": {},
   "outputs": [
    {
     "data": {
      "text/plain": [
       "({'score_0': 0.9306472083554148, 'score_1': 0.9475777585703508},\n",
       " {'select_0': ['Cat__x1_30',\n",
       "   'Cat__x15_None',\n",
       "   'Cat__x28_BrkFace',\n",
       "   'OverallCond',\n",
       "   'YearRemodAdd',\n",
       "   'BsmtQual',\n",
       "   'BsmtExposure',\n",
       "   'BsmtFinSF1',\n",
       "   '1stFlrSF',\n",
       "   '2ndFlrSF',\n",
       "   'BsmtFullBath',\n",
       "   'HalfBath',\n",
       "   'TotRmsAbvGrd',\n",
       "   'Fireplaces',\n",
       "   'FireplaceQu',\n",
       "   'GarageArea',\n",
       "   'WoodDeckSF',\n",
       "   'ScreenPorch',\n",
       "   'Comp'],\n",
       "  'select_1': ['Cat__x1_60',\n",
       "   'Cat__x22_New',\n",
       "   'OverallQual',\n",
       "   'YearRemodAdd',\n",
       "   'MasVnrArea',\n",
       "   'ExterQual',\n",
       "   'BsmtFinSF1',\n",
       "   'HeatingQC',\n",
       "   '1stFlrSF',\n",
       "   '2ndFlrSF',\n",
       "   'BsmtFullBath',\n",
       "   'HalfBath',\n",
       "   'TotRmsAbvGrd',\n",
       "   'Fireplaces',\n",
       "   'FireplaceQu',\n",
       "   'GarageArea',\n",
       "   'OpenPorchSF',\n",
       "   'Comp']})"
      ]
     },
     "execution_count": 94,
     "metadata": {},
     "output_type": "execute_result"
    }
   ],
   "source": [
    "selections = multilev_selector_2(X_train, y_train, [0.007, 0.01])\n",
    "selections"
   ]
  },
  {
   "cell_type": "code",
   "execution_count": 95,
   "metadata": {
    "scrolled": true
   },
   "outputs": [
    {
     "data": {
      "text/plain": [
       "['Cat__x1_30',\n",
       " 'Cat__x15_None',\n",
       " 'Cat__x28_BrkFace',\n",
       " 'OverallCond',\n",
       " 'YearRemodAdd',\n",
       " 'BsmtQual',\n",
       " 'BsmtExposure',\n",
       " 'BsmtFinSF1',\n",
       " '1stFlrSF',\n",
       " '2ndFlrSF',\n",
       " 'BsmtFullBath',\n",
       " 'HalfBath',\n",
       " 'TotRmsAbvGrd',\n",
       " 'Fireplaces',\n",
       " 'FireplaceQu',\n",
       " 'GarageArea',\n",
       " 'WoodDeckSF',\n",
       " 'ScreenPorch',\n",
       " 'Comp']"
      ]
     },
     "execution_count": 95,
     "metadata": {},
     "output_type": "execute_result"
    }
   ],
   "source": [
    "select_0 = selections[1]['select_0']\n",
    "select_0"
   ]
  },
  {
   "cell_type": "code",
   "execution_count": 96,
   "metadata": {},
   "outputs": [],
   "source": [
    "select_0 = ['MSSubClass',\n",
    " 'BsmtFinType1',\n",
    " 'Exterior1st',\n",
    " 'OverallCond',\n",
    " 'YearRemodAdd',\n",
    " 'BsmtQual',\n",
    " 'BsmtExposure',\n",
    " 'BsmtFinSF1',\n",
    " '1stFlrSF',\n",
    " '2ndFlrSF',\n",
    " 'BsmtFullBath',\n",
    " 'HalfBath',\n",
    " 'TotRmsAbvGrd',\n",
    " 'Fireplaces',\n",
    " 'FireplaceQu',\n",
    " 'GarageArea',\n",
    " 'WoodDeckSF',\n",
    " 'ScreenPorch',\n",
    " 'Comp']"
   ]
  },
  {
   "cell_type": "code",
   "execution_count": 66,
   "metadata": {
    "scrolled": true
   },
   "outputs": [
    {
     "data": {
      "text/plain": [
       "{0: 'MSZoning',\n",
       " 1: 'MSSubClass',\n",
       " 2: 'Street',\n",
       " 3: 'Alley',\n",
       " 4: 'LotShape',\n",
       " 5: 'LandContour',\n",
       " 6: 'LotConfig',\n",
       " 7: 'LandSlope',\n",
       " 8: 'Neighborhood',\n",
       " 9: 'Condition1',\n",
       " 10: 'Condition2',\n",
       " 11: 'BldgType',\n",
       " 12: 'HouseStyle',\n",
       " 13: 'RoofStyle',\n",
       " 14: 'Foundation',\n",
       " 15: 'BsmtFinType1',\n",
       " 16: 'BsmtFinType2',\n",
       " 17: 'Heating',\n",
       " 18: 'GarageType',\n",
       " 19: 'GarageFinish',\n",
       " 20: 'PavedDrive',\n",
       " 21: 'MiscFeature',\n",
       " 22: 'SaleType',\n",
       " 23: 'SaleCondition',\n",
       " 24: 'BedroomAbvGr',\n",
       " 25: 'CentralAir',\n",
       " 26: 'Utilities',\n",
       " 27: 'RoofMatl',\n",
       " 28: 'Exterior1st',\n",
       " 29: 'Exterior2nd',\n",
       " 30: 'MasVnrType',\n",
       " 31: 'Electrical',\n",
       " 32: 'Functional',\n",
       " 33: 'Fence',\n",
       " 34: 'KitchenAbvGr',\n",
       " 35: 'MoSold',\n",
       " 36: 'YrSold'}"
      ]
     },
     "execution_count": 66,
     "metadata": {},
     "output_type": "execute_result"
    }
   ],
   "source": [
    "dict(enumerate(categorical))"
   ]
  },
  {
   "cell_type": "code",
   "execution_count": 97,
   "metadata": {},
   "outputs": [],
   "source": [
    "cats_0 = [col for col in select_0 if col in categorical]"
   ]
  },
  {
   "cell_type": "code",
   "execution_count": 98,
   "metadata": {},
   "outputs": [
    {
     "data": {
      "text/plain": [
       "GridSearchCV(cv=RepeatedKFold(n_repeats=10, n_splits=5, random_state=None),\n",
       "             estimator=Pipeline(steps=[('transformer',\n",
       "                                        ColumnTransformer(remainder='passthrough',\n",
       "                                                          transformers=[('Cat',\n",
       "                                                                         OneHotEncoder(handle_unknown='ignore'),\n",
       "                                                                         ['MSSubClass',\n",
       "                                                                          'BsmtFinType1',\n",
       "                                                                          'Exterior1st'])])),\n",
       "                                       ('scaler', StandardScaler()),\n",
       "                                       ('ridge', Ridge())]),\n",
       "             n_jobs=-1, param_grid={'ridge__alpha': [0.001, 0.1, 1, 10]},\n",
       "             scoring='r2')"
      ]
     },
     "execution_count": 98,
     "metadata": {},
     "output_type": "execute_result"
    }
   ],
   "source": [
    "X = X_train\n",
    "X = X.loc[X['NhdCluster']==0, :].drop('NhdCluster', axis=1)\n",
    "X = X[select_0]\n",
    "\n",
    "y = y_train\n",
    "y = y.loc[y['NhdCluster']==0, :].drop('NhdCluster', axis=1)\n",
    "\n",
    "\n",
    "pipe = Pipeline([('transformer', ColumnTransformer([(\"Cat\", OneHotEncoder(handle_unknown='ignore'), cats_0)], \n",
    "                                            remainder='passthrough')),\n",
    "                 ('scaler', StandardScaler()),\n",
    "                 ('ridge', Ridge())])\n",
    "\n",
    "param_grid = {'ridge__alpha':[0.001, 0.1, 1, 10]}\n",
    "cv = RepeatedKFold(n_splits=5)\n",
    "\n",
    "grid = GridSearchCV(pipe, param_grid, scoring='r2', cv=cv, n_jobs=-1)\n",
    "\n",
    "grid.fit(X,y)"
   ]
  },
  {
   "cell_type": "code",
   "execution_count": 99,
   "metadata": {},
   "outputs": [
    {
     "name": "stdout",
     "output_type": "stream",
     "text": [
      "[0.92497007 0.92497124 0.92497909 0.92481744]\n",
      "{'ridge__alpha': 1}\n",
      "0.9249790899345172\n"
     ]
    }
   ],
   "source": [
    "print(grid.cv_results_['mean_test_score'])\n",
    "print(grid.best_params_)\n",
    "print(grid.best_score_)"
   ]
  },
  {
   "cell_type": "code",
   "execution_count": 100,
   "metadata": {
    "scrolled": true
   },
   "outputs": [
    {
     "data": {
      "text/plain": [
       "['Cat__x1_60',\n",
       " 'Cat__x22_New',\n",
       " 'OverallQual',\n",
       " 'YearRemodAdd',\n",
       " 'MasVnrArea',\n",
       " 'ExterQual',\n",
       " 'BsmtFinSF1',\n",
       " 'HeatingQC',\n",
       " '1stFlrSF',\n",
       " '2ndFlrSF',\n",
       " 'BsmtFullBath',\n",
       " 'HalfBath',\n",
       " 'TotRmsAbvGrd',\n",
       " 'Fireplaces',\n",
       " 'FireplaceQu',\n",
       " 'GarageArea',\n",
       " 'OpenPorchSF',\n",
       " 'Comp']"
      ]
     },
     "execution_count": 100,
     "metadata": {},
     "output_type": "execute_result"
    }
   ],
   "source": [
    "selections[1]['select_1']"
   ]
  },
  {
   "cell_type": "code",
   "execution_count": 101,
   "metadata": {},
   "outputs": [],
   "source": [
    "select_1 = ['MSSubClass',\n",
    " 'SaleType',\n",
    " 'OverallQual',\n",
    " 'YearRemodAdd',\n",
    " 'MasVnrArea',\n",
    " 'ExterQual',\n",
    " 'BsmtFinSF1',\n",
    " 'HeatingQC',\n",
    " '1stFlrSF',\n",
    " '2ndFlrSF',\n",
    " 'BsmtFullBath',\n",
    " 'HalfBath',\n",
    " 'TotRmsAbvGrd',\n",
    " 'Fireplaces',\n",
    " 'FireplaceQu',\n",
    " 'GarageArea',\n",
    " 'OpenPorchSF',\n",
    " 'Comp']"
   ]
  },
  {
   "cell_type": "code",
   "execution_count": 102,
   "metadata": {
    "scrolled": true
   },
   "outputs": [
    {
     "data": {
      "text/plain": [
       "{0: 'MSZoning',\n",
       " 1: 'MSSubClass',\n",
       " 2: 'Street',\n",
       " 3: 'Alley',\n",
       " 4: 'LotShape',\n",
       " 5: 'LandContour',\n",
       " 6: 'LotConfig',\n",
       " 7: 'LandSlope',\n",
       " 8: 'Neighborhood',\n",
       " 9: 'Condition1',\n",
       " 10: 'Condition2',\n",
       " 11: 'BldgType',\n",
       " 12: 'HouseStyle',\n",
       " 13: 'RoofStyle',\n",
       " 14: 'Foundation',\n",
       " 15: 'BsmtFinType1',\n",
       " 16: 'BsmtFinType2',\n",
       " 17: 'Heating',\n",
       " 18: 'GarageType',\n",
       " 19: 'GarageFinish',\n",
       " 20: 'PavedDrive',\n",
       " 21: 'MiscFeature',\n",
       " 22: 'SaleType',\n",
       " 23: 'SaleCondition',\n",
       " 24: 'BedroomAbvGr',\n",
       " 25: 'CentralAir',\n",
       " 26: 'Utilities',\n",
       " 27: 'RoofMatl',\n",
       " 28: 'Exterior1st',\n",
       " 29: 'Exterior2nd',\n",
       " 30: 'MasVnrType',\n",
       " 31: 'Electrical',\n",
       " 32: 'Functional',\n",
       " 33: 'Fence',\n",
       " 34: 'KitchenAbvGr',\n",
       " 35: 'MoSold',\n",
       " 36: 'YrSold'}"
      ]
     },
     "execution_count": 102,
     "metadata": {},
     "output_type": "execute_result"
    }
   ],
   "source": [
    "dict(enumerate(categorical))"
   ]
  },
  {
   "cell_type": "code",
   "execution_count": 103,
   "metadata": {},
   "outputs": [],
   "source": [
    "cats_1 = [col for col in select_1 if col in categorical]"
   ]
  },
  {
   "cell_type": "code",
   "execution_count": 104,
   "metadata": {},
   "outputs": [
    {
     "data": {
      "text/plain": [
       "GridSearchCV(cv=RepeatedKFold(n_repeats=10, n_splits=5, random_state=None),\n",
       "             estimator=Pipeline(steps=[('transformer',\n",
       "                                        ColumnTransformer(remainder='passthrough',\n",
       "                                                          transformers=[('Cat',\n",
       "                                                                         OneHotEncoder(handle_unknown='ignore'),\n",
       "                                                                         ['MSSubClass',\n",
       "                                                                          'SaleType'])])),\n",
       "                                       ('scaler', StandardScaler()),\n",
       "                                       ('ridge', Ridge())]),\n",
       "             n_jobs=-1, param_grid={'ridge__alpha': [0.001, 0.1, 1, 10]},\n",
       "             scoring='r2')"
      ]
     },
     "execution_count": 104,
     "metadata": {},
     "output_type": "execute_result"
    }
   ],
   "source": [
    "X = X_train\n",
    "X = X.loc[X['NhdCluster']==1, :].drop('NhdCluster', axis=1)\n",
    "X = X[select_1]\n",
    "\n",
    "y = y_train\n",
    "y = y.loc[y['NhdCluster']==1, :].drop('NhdCluster', axis=1)\n",
    "\n",
    "\n",
    "pipe = Pipeline([('transformer', ColumnTransformer([(\"Cat\", OneHotEncoder(handle_unknown='ignore'), cats_1)], \n",
    "                                            remainder='passthrough')),\n",
    "                 ('scaler', StandardScaler()),\n",
    "                 ('ridge', Ridge())])\n",
    "\n",
    "param_grid = {'ridge__alpha':[0.001, 0.1, 1, 10]}\n",
    "cv = RepeatedKFold(n_splits=5)\n",
    "\n",
    "grid = GridSearchCV(pipe, param_grid, scoring='r2', cv=cv, n_jobs=-1)\n",
    "\n",
    "grid.fit(X,y)"
   ]
  },
  {
   "cell_type": "code",
   "execution_count": 105,
   "metadata": {
    "scrolled": true
   },
   "outputs": [
    {
     "name": "stdout",
     "output_type": "stream",
     "text": [
      "[0.9432292  0.94323119 0.94324557 0.94308128]\n",
      "{'ridge__alpha': 1}\n",
      "0.9432455705290981\n"
     ]
    }
   ],
   "source": [
    "print(grid.cv_results_['mean_test_score'])\n",
    "print(grid.best_params_)\n",
    "print(grid.best_score_)"
   ]
  }
 ],
 "metadata": {
  "kernelspec": {
   "display_name": "Python 3",
   "language": "python",
   "name": "python3"
  },
  "language_info": {
   "codemirror_mode": {
    "name": "ipython",
    "version": 3
   },
   "file_extension": ".py",
   "mimetype": "text/x-python",
   "name": "python",
   "nbconvert_exporter": "python",
   "pygments_lexer": "ipython3",
   "version": "3.8.5"
  }
 },
 "nbformat": 4,
 "nbformat_minor": 5
}
