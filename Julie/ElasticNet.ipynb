{
 "cells": [
  {
   "cell_type": "code",
   "execution_count": 1,
   "id": "bf3bef82",
   "metadata": {},
   "outputs": [],
   "source": [
    "import pandas as pd\n",
    "import numpy as np\n",
    "import helper\n",
    "import matplotlib.pyplot as plt\n",
    "import seaborn as sns\n",
    "import matplotlib.style as style\n",
    "style.use('fivethirtyeight')\n",
    "\n",
    "from sklearn.linear_model import ElasticNet\n",
    "from sklearn.model_selection import GridSearchCV\n",
    "from sklearn.preprocessing import OneHotEncoder\n",
    "from sklearn.compose import ColumnTransformer\n",
    "from sklearn.preprocessing import StandardScaler"
   ]
  },
  {
   "cell_type": "code",
   "execution_count": 2,
   "id": "f377274c",
   "metadata": {},
   "outputs": [],
   "source": [
    "# loading and splitting data\n",
    "housing = pd.read_csv('Ames_Housing_Price_Data.csv', index_col = 0,\n",
    "                      low_memory=False)\n",
    "\n",
    "train, test = helper.data_processing_wrapper(housing,\n",
    "                                               num_to_cat_list = ['MSSubClass','MoSold'],\n",
    "                                             remove_PID = False\n",
    "                                        )"
   ]
  },
  {
   "cell_type": "code",
   "execution_count": 3,
   "id": "aa8826bc",
   "metadata": {},
   "outputs": [],
   "source": [
    "cat_feats = train.select_dtypes(['object','bool']).columns.to_list()"
   ]
  },
  {
   "cell_type": "code",
   "execution_count": 4,
   "id": "c74bdf63",
   "metadata": {},
   "outputs": [],
   "source": [
    "# scaler = StandardScaler(with_mean=False)\n",
    "# net = ElasticNet()\n",
    "\n",
    "# X = train.drop(['SalePrice','PID'],axis=1)\n",
    "# transformer = ColumnTransformer([(\"Cat\", \n",
    "#                                   OneHotEncoder(handle_unknown = 'ignore'), \n",
    "#                                   cat_feats)], remainder='passthrough')\n",
    "# X = transformer.fit_transform(X)\n",
    "# X = scaler.fit_transform(X)\n",
    "# y = np.log(train['SalePrice'])\n",
    "# net.fit(X, y)\n",
    "\n",
    "# X_tst = test.drop(['SalePrice','PID'],axis=1)\n",
    "# X_tst = transformer.transform(X_tst)\n",
    "# X_tst = scaler.transform(X_tst)\n",
    "# y_tst = np.log(test['SalePrice'])\n",
    "\n",
    "# net.score(X_tst,y_tst)"
   ]
  },
  {
   "cell_type": "code",
   "execution_count": 5,
   "id": "2dc75f87",
   "metadata": {},
   "outputs": [],
   "source": [
    "# ## Set parameters\n",
    "# l1_ratio = [0.1, 0.3, 0.5, 0.6, 0.7, 0.8, 0.85, 0.9, 0.95, 1]\n",
    "# alphas = [0.0001, 0.0003, 0.0006, 0.001, 0.003, 0.006, 0.01, 0.03, 0.06, 0.1, 0.3, 0.6, 1, 3, 6]\n",
    "# max_iter = 50000\n",
    "# cv = 3"
   ]
  },
  {
   "cell_type": "code",
   "execution_count": 6,
   "id": "c394d29a",
   "metadata": {},
   "outputs": [],
   "source": [
    "# tuned_parameters = [{'alpha': alphas, 'l1_ratio': l1_ratio}]\n",
    "# # print(f'Performing Grid Search with alphas of: {alphas}')\n",
    "# clf = GridSearchCV(net, tuned_parameters, cv=cv)\n",
    "# clf.fit(X, y)"
   ]
  },
  {
   "cell_type": "code",
   "execution_count": 7,
   "id": "54b43dfe",
   "metadata": {},
   "outputs": [],
   "source": [
    "# clf.best_params_\n",
    "# best_alpha = clf.best_params_['alpha']\n",
    "# best_l1_ratio = clf.best_params_['l1_ratio']"
   ]
  },
  {
   "cell_type": "code",
   "execution_count": 8,
   "id": "a3ee96ab",
   "metadata": {},
   "outputs": [],
   "source": [
    "# ## Set parameters - round 2\n",
    "# l1_ratio = [best_l1_ratio * .85, best_l1_ratio * .9, best_l1_ratio * .95, best_l1_ratio, best_l1_ratio * 1.05, \n",
    "#             best_l1_ratio * 1.1, best_l1_ratio * 1.15]\n",
    "# alphas = [best_alpha * .6, best_alpha * .7, best_alpha * .8, best_alpha * .9, \n",
    "#                                     best_alpha, best_alpha * 1.1, best_alpha * 1.2, best_alpha * 1.3, \n",
    "#                                     best_alpha * 1.4]\n",
    "# max_iter = 50000\n",
    "# cv = 3\n",
    "\n",
    "# tuned_parameters = [{'alpha': alphas, 'l1_ratio': l1_ratio}]\n",
    "# # print(f'Performing Grid Search with alphas of: {alphas}')\n",
    "# clf = GridSearchCV(net, tuned_parameters, cv=cv)\n",
    "# clf.fit(X, y)"
   ]
  },
  {
   "cell_type": "code",
   "execution_count": 9,
   "id": "d65eb01b",
   "metadata": {},
   "outputs": [],
   "source": [
    "def add_price_comp_log_feature(train_, test_,comp_feature):\n",
    "    temp = train_.copy()\n",
    "    temp['log_SalePrice'] = np.log(temp['SalePrice'])\n",
    "    temp = temp.groupby(comp_feature).agg({'log_SalePrice':'median'})\n",
    "    temp.columns = [comp_feature+'_log_comp']\n",
    "    train_ = train_.merge(temp, how='left', on=comp_feature)\n",
    "    test_ = test_.merge(temp, how='left', on=comp_feature)\n",
    "    return train_, test_"
   ]
  },
  {
   "cell_type": "code",
   "execution_count": 10,
   "id": "5aa9f447",
   "metadata": {},
   "outputs": [],
   "source": [
    "def add_score_feature(df):\n",
    "    df['overall_score'] = df['OverallQual']*df['OverallCond']\n",
    "    df['exter_score'] = df['ExterQual']*df['ExterCond']\n",
    "    df['bsmt_score'] = df['BsmtQual']*df['BsmtCond']\n",
    "    df['garage_score'] = df['GarageQual']*df['GarageCond']\n",
    "    return df\n"
   ]
  },
  {
   "cell_type": "code",
   "execution_count": 11,
   "id": "cbf363f9",
   "metadata": {},
   "outputs": [],
   "source": [
    "def net_grid(train, test, cat_feats, alpha, l1_ratio, cv_):\n",
    "    \n",
    "    scaler = StandardScaler(with_mean=False)\n",
    "    net = ElasticNet(max_iter = 50000)\n",
    "\n",
    "    X = train.drop(['SalePrice','PID'],axis=1)\n",
    "    transformer = ColumnTransformer([(\"Cat\", \n",
    "                                      OneHotEncoder(handle_unknown = 'ignore'), \n",
    "                                      cat_feats)], remainder='passthrough')\n",
    "    X = transformer.fit_transform(X)\n",
    "    X = scaler.fit_transform(X)\n",
    "    y = np.log(train['SalePrice'])\n",
    "    net.fit(X, y)\n",
    "\n",
    "    X_tst = test.drop(['SalePrice','PID'],axis=1)\n",
    "    X_tst = transformer.transform(X_tst)\n",
    "    X_tst = scaler.transform(X_tst)\n",
    "    y_tst = np.log(test['SalePrice'])\n",
    "    \n",
    "    tuned_parameters = [{'alpha': alpha, 'l1_ratio': l1_ratio}]\n",
    "    # print(f'Performing Grid Search with alphas of: {alphas}')\n",
    "    clf = GridSearchCV(net, tuned_parameters, cv=cv_)\n",
    "    clf.fit(X, y)\n",
    "    \n",
    "    \n",
    "    tst_score = clf.score(X_tst, y_tst)\n",
    "    print(f\"test score: {tst_score}\")\n",
    "    \n",
    "    return clf\n"
   ]
  },
  {
   "cell_type": "code",
   "execution_count": 12,
   "id": "f34893d7",
   "metadata": {},
   "outputs": [],
   "source": [
    "## Add feature engineered features\n",
    "\n",
    "comp_feature = 'Neighborhood'\n",
    "train, test = add_price_comp_log_feature(train, test,comp_feature)\n",
    "train = add_score_feature(train)\n",
    "test = add_score_feature(test)"
   ]
  },
  {
   "cell_type": "code",
   "execution_count": 13,
   "id": "8aa13eea",
   "metadata": {},
   "outputs": [
    {
     "name": "stdout",
     "output_type": "stream",
     "text": [
      "test score: 0.9113049605165071\n"
     ]
    }
   ],
   "source": [
    "## set parameters, first try\n",
    "\n",
    "l1_ratio = [0.1, 0.3, 0.5, 0.6, 0.7, 0.8, 0.85, 0.9, 0.95, 1]\n",
    "alpha = [0.0001, 0.0003, 0.0006, 0.001, 0.003, 0.006, 0.01, 0.03, 0.06, 0.1, 0.3, 0.6, 1, 3, 6]\n",
    "cv = 5\n",
    "clf = net_grid(train, test, cat_feats, alpha, l1_ratio, cv)"
   ]
  },
  {
   "cell_type": "code",
   "execution_count": 14,
   "id": "4e2c3b07",
   "metadata": {},
   "outputs": [
    {
     "data": {
      "text/plain": [
       "0.9396399225651535"
      ]
     },
     "execution_count": 14,
     "metadata": {},
     "output_type": "execute_result"
    }
   ],
   "source": [
    "# round 1 best score\n",
    "clf.best_score_"
   ]
  },
  {
   "cell_type": "code",
   "execution_count": 15,
   "id": "736ceaad",
   "metadata": {},
   "outputs": [],
   "source": [
    "# get best alpha and ratio from round 1\n",
    "best_alpha = clf.best_params_['alpha']\n",
    "best_l1_ratio = clf.best_params_['l1_ratio']"
   ]
  },
  {
   "cell_type": "code",
   "execution_count": 16,
   "id": "76f4b9fc",
   "metadata": {},
   "outputs": [
    {
     "name": "stdout",
     "output_type": "stream",
     "text": [
      "test score: 0.9112368324085806\n"
     ]
    }
   ],
   "source": [
    "# new parameters around best from round 1\n",
    "l1_ratio = [best_l1_ratio * .85, best_l1_ratio * .9, best_l1_ratio * .95, best_l1_ratio, best_l1_ratio * 1.05, \n",
    "            best_l1_ratio * 1.1, best_l1_ratio * 1.15]\n",
    "alpha = [best_alpha * .6, best_alpha * .7, best_alpha * .8, best_alpha * .9, \n",
    "                                    best_alpha, best_alpha * 1.1, best_alpha * 1.2, best_alpha * 1.3, \n",
    "                                    best_alpha * 1.4]\n",
    "max_iter = 50000\n",
    "cv = 5\n",
    "\n",
    "clf = net_grid(train, test, cat_feats, alpha, l1_ratio, cv)"
   ]
  },
  {
   "cell_type": "code",
   "execution_count": 17,
   "id": "744a9f17",
   "metadata": {},
   "outputs": [
    {
     "data": {
      "text/plain": [
       "0.9396566058585527"
      ]
     },
     "execution_count": 17,
     "metadata": {},
     "output_type": "execute_result"
    }
   ],
   "source": [
    "clf.best_score_"
   ]
  },
  {
   "cell_type": "code",
   "execution_count": 20,
   "id": "e5cdb16d",
   "metadata": {},
   "outputs": [
    {
     "data": {
      "text/plain": [
       "{'alpha': 0.0027, 'l1_ratio': 0.575}"
      ]
     },
     "execution_count": 20,
     "metadata": {},
     "output_type": "execute_result"
    }
   ],
   "source": [
    "clf.best_params_"
   ]
  },
  {
   "cell_type": "code",
   "execution_count": null,
   "id": "2d7923bf",
   "metadata": {},
   "outputs": [],
   "source": []
  }
 ],
 "metadata": {
  "kernelspec": {
   "display_name": "Python 3",
   "language": "python",
   "name": "python3"
  },
  "language_info": {
   "codemirror_mode": {
    "name": "ipython",
    "version": 3
   },
   "file_extension": ".py",
   "mimetype": "text/x-python",
   "name": "python",
   "nbconvert_exporter": "python",
   "pygments_lexer": "ipython3",
   "version": "3.8.2"
  }
 },
 "nbformat": 4,
 "nbformat_minor": 5
}
