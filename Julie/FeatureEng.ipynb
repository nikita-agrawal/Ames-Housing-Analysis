{
 "cells": [
  {
   "cell_type": "code",
   "execution_count": 5,
   "id": "972b7114",
   "metadata": {},
   "outputs": [],
   "source": [
    "import numpy as np\n",
    "import pandas as pd\n",
    "import helper"
   ]
  },
  {
   "cell_type": "code",
   "execution_count": 6,
   "id": "77d4fe3c",
   "metadata": {},
   "outputs": [],
   "source": [
    "from sklearn.linear_model import LinearRegression\n",
    "from sklearn.linear_model import Lasso\n",
    "from sklearn.model_selection import KFold\n",
    "from sklearn.model_selection import GridSearchCV\n",
    "from sklearn.preprocessing import OneHotEncoder\n",
    "from sklearn.compose import ColumnTransformer\n",
    "from sklearn.preprocessing import StandardScaler\n",
    "from sklearn.feature_selection import SelectFromModel\n",
    "import matplotlib.pyplot as plt\n",
    "import seaborn as sns\n",
    "import matplotlib.style as style\n",
    "style.use('fivethirtyeight')"
   ]
  },
  {
   "cell_type": "code",
   "execution_count": 7,
   "id": "3a6af357",
   "metadata": {},
   "outputs": [],
   "source": [
    "colors = [\"#FF0B04\", \"#F1BE48\",\n",
    "           \"#B9975B\", \"#8B5B29\",\n",
    "           \"#524727\",\n",
    "         ]\n",
    "sns.set_palette(sns.color_palette(colors))"
   ]
  },
  {
   "cell_type": "code",
   "execution_count": 8,
   "id": "ec6507c4",
   "metadata": {},
   "outputs": [],
   "source": [
    "latlong = pd.read_csv('ames_housing_latlong.csv',index_col=0,low_memory = False)"
   ]
  },
  {
   "cell_type": "code",
   "execution_count": 19,
   "id": "96c1c498",
   "metadata": {},
   "outputs": [],
   "source": [
    "housing = pd.read_csv('Ames_Housing_Price_Data.csv', index_col=0,low_memory = False)\n",
    "\n",
    "train, test = helper.data_processing_wrapper(housing, remove_PID=False, \n",
    "                                               num_to_cat_list = ['MSSubClass'])\n",
    "cat_feats = train.select_dtypes(['object','bool']).columns.to_list()\n",
    "num_cols = train.select_dtypes(['float64','int64']).columns.to_list()\n",
    "num_cols.remove('SalePrice')\n"
   ]
  },
  {
   "cell_type": "code",
   "execution_count": 5,
   "id": "49c67933",
   "metadata": {},
   "outputs": [
    {
     "ename": "SyntaxError",
     "evalue": "unexpected EOF while parsing (<ipython-input-5-8884ecd00e62>, line 5)",
     "output_type": "error",
     "traceback": [
      "\u001b[0;36m  File \u001b[0;32m\"<ipython-input-5-8884ecd00e62>\"\u001b[0;36m, line \u001b[0;32m5\u001b[0m\n\u001b[0;31m    \u001b[0m\n\u001b[0m    ^\u001b[0m\n\u001b[0;31mSyntaxError\u001b[0m\u001b[0;31m:\u001b[0m unexpected EOF while parsing\n"
     ]
    }
   ],
   "source": [
    "# def lasso_model_score(alpha, train_, test_, target, \n",
    "#                              categorical_features,\n",
    "#                              drop_cols = ['SalePrice', 'TotalBsmtSF']):\n",
    "    \n",
    "    "
   ]
  },
  {
   "cell_type": "code",
   "execution_count": 20,
   "id": "08ee3009",
   "metadata": {},
   "outputs": [],
   "source": [
    "alpha = 0.002\n",
    "train_score, test_score, feature_list = helper.lasso_model_score(alpha, train, test, 'SalePrice', cat_feats)"
   ]
  },
  {
   "cell_type": "code",
   "execution_count": 21,
   "id": "201bf192",
   "metadata": {},
   "outputs": [
    {
     "data": {
      "text/plain": [
       "Index(['PID', 'GrLivArea', 'SalePrice', 'MSSubClass', 'MSZoning',\n",
       "       'LotFrontage', 'LotArea', 'Street', 'Alley', 'LotShape', 'LandContour',\n",
       "       'Utilities', 'LotConfig', 'LandSlope', 'Neighborhood', 'Condition1',\n",
       "       'Condition2', 'BldgType', 'HouseStyle', 'OverallQual', 'OverallCond',\n",
       "       'YearBuilt', 'YearRemodAdd', 'RoofStyle', 'RoofMatl', 'Exterior1st',\n",
       "       'Exterior2nd', 'MasVnrType', 'MasVnrArea', 'ExterQual', 'ExterCond',\n",
       "       'Foundation', 'BsmtQual', 'BsmtCond', 'BsmtExposure', 'BsmtFinType1',\n",
       "       'BsmtFinSF1', 'BsmtFinType2', 'BsmtFinSF2', 'BsmtUnfSF', 'TotalBsmtSF',\n",
       "       'Heating', 'HeatingQC', 'CentralAir', 'Electrical', '1stFlrSF',\n",
       "       '2ndFlrSF', 'LowQualFinSF', 'BsmtFullBath', 'BsmtHalfBath', 'FullBath',\n",
       "       'HalfBath', 'BedroomAbvGr', 'KitchenAbvGr', 'KitchenQual',\n",
       "       'TotRmsAbvGrd', 'Functional', 'Fireplaces', 'FireplaceQu', 'GarageType',\n",
       "       'GarageYrBlt', 'GarageFinish', 'GarageCars', 'GarageArea', 'GarageQual',\n",
       "       'GarageCond', 'PavedDrive', 'WoodDeckSF', 'OpenPorchSF',\n",
       "       'EnclosedPorch', '3SsnPorch', 'ScreenPorch', 'PoolArea', 'PoolQC',\n",
       "       'Fence', 'MiscFeature', 'MiscVal', 'MoSold', 'YrSold', 'SaleType',\n",
       "       'SaleCondition'],\n",
       "      dtype='object')"
      ]
     },
     "execution_count": 21,
     "metadata": {},
     "output_type": "execute_result"
    }
   ],
   "source": [
    "train.columns"
   ]
  },
  {
   "cell_type": "code",
   "execution_count": 22,
   "id": "894b7645",
   "metadata": {},
   "outputs": [
    {
     "data": {
      "text/plain": [
       "Index(['PID', 'Prop_Addr', 'latitude', 'longitude'], dtype='object')"
      ]
     },
     "execution_count": 22,
     "metadata": {},
     "output_type": "execute_result"
    }
   ],
   "source": [
    "latlong.columns"
   ]
  },
  {
   "cell_type": "code",
   "execution_count": 23,
   "id": "0b2b2f88",
   "metadata": {},
   "outputs": [],
   "source": [
    "colnames = ['PID', 'Prop_Addr', 'latitude', 'longitude']\n",
    "latlong = latlong[colnames]"
   ]
  },
  {
   "cell_type": "code",
   "execution_count": 24,
   "id": "c65c0a5e",
   "metadata": {},
   "outputs": [
    {
     "data": {
      "text/html": [
       "<div>\n",
       "<style scoped>\n",
       "    .dataframe tbody tr th:only-of-type {\n",
       "        vertical-align: middle;\n",
       "    }\n",
       "\n",
       "    .dataframe tbody tr th {\n",
       "        vertical-align: top;\n",
       "    }\n",
       "\n",
       "    .dataframe thead th {\n",
       "        text-align: right;\n",
       "    }\n",
       "</style>\n",
       "<table border=\"1\" class=\"dataframe\">\n",
       "  <thead>\n",
       "    <tr style=\"text-align: right;\">\n",
       "      <th></th>\n",
       "      <th>PID</th>\n",
       "      <th>Prop_Addr</th>\n",
       "      <th>latitude</th>\n",
       "      <th>longitude</th>\n",
       "    </tr>\n",
       "  </thead>\n",
       "  <tbody>\n",
       "    <tr>\n",
       "      <th>0</th>\n",
       "      <td>909176150</td>\n",
       "      <td>436 HAYWARD AVE</td>\n",
       "      <td>42.018564</td>\n",
       "      <td>-93.651619</td>\n",
       "    </tr>\n",
       "    <tr>\n",
       "      <th>1</th>\n",
       "      <td>905476230</td>\n",
       "      <td>3416 WEST ST</td>\n",
       "      <td>42.024855</td>\n",
       "      <td>-93.663671</td>\n",
       "    </tr>\n",
       "    <tr>\n",
       "      <th>2</th>\n",
       "      <td>911128020</td>\n",
       "      <td>320 S 2ND ST</td>\n",
       "      <td>42.021548</td>\n",
       "      <td>-93.614068</td>\n",
       "    </tr>\n",
       "    <tr>\n",
       "      <th>3</th>\n",
       "      <td>535377150</td>\n",
       "      <td>1524 DOUGLAS AVE</td>\n",
       "      <td>42.037391</td>\n",
       "      <td>-93.612207</td>\n",
       "    </tr>\n",
       "    <tr>\n",
       "      <th>4</th>\n",
       "      <td>534177230</td>\n",
       "      <td>2304 FILLMORE AVE</td>\n",
       "      <td>42.044554</td>\n",
       "      <td>-93.631818</td>\n",
       "    </tr>\n",
       "  </tbody>\n",
       "</table>\n",
       "</div>"
      ],
      "text/plain": [
       "         PID          Prop_Addr   latitude  longitude\n",
       "0  909176150    436 HAYWARD AVE  42.018564 -93.651619\n",
       "1  905476230       3416 WEST ST  42.024855 -93.663671\n",
       "2  911128020       320 S 2ND ST  42.021548 -93.614068\n",
       "3  535377150   1524 DOUGLAS AVE  42.037391 -93.612207\n",
       "4  534177230  2304 FILLMORE AVE  42.044554 -93.631818"
      ]
     },
     "execution_count": 24,
     "metadata": {},
     "output_type": "execute_result"
    }
   ],
   "source": [
    "latlong.head()"
   ]
  },
  {
   "cell_type": "code",
   "execution_count": 25,
   "id": "fd917b78",
   "metadata": {},
   "outputs": [],
   "source": [
    "combined_train = train.merge(latlong, how = 'left', left_on = 'PID', right_on = 'PID')\n",
    "combined_test = test.merge(latlong, how = 'left', left_on = 'PID', right_on = 'PID')"
   ]
  },
  {
   "cell_type": "code",
   "execution_count": 29,
   "id": "6da8d4d2",
   "metadata": {},
   "outputs": [
    {
     "name": "stdout",
     "output_type": "stream",
     "text": [
      "15\n",
      "15\n",
      "4\n",
      "4\n"
     ]
    }
   ],
   "source": [
    "## Identify missing values in lat long \n",
    "print(combined_train.latitude.isna().sum())\n",
    "print(combined_train.longitude.isna().sum())\n",
    "print(combined_test.latitude.isna().sum())\n",
    "print(combined_test.longitude.isna().sum())"
   ]
  },
  {
   "cell_type": "code",
   "execution_count": 32,
   "id": "13bf54ef",
   "metadata": {},
   "outputs": [],
   "source": [
    "combined_train, latlong_map = helper.geo_cords_imputing(combined_train)\n",
    "combined_test = helper.geo_cords_imputing(combined_test, latlong_map)\n",
    "combined_train.dropna(subset=['latitude', 'longitude'], inplace=True)"
   ]
  },
  {
   "cell_type": "code",
   "execution_count": 47,
   "id": "83474c53",
   "metadata": {},
   "outputs": [
    {
     "name": "stdout",
     "output_type": "stream",
     "text": [
      "0\n",
      "0\n",
      "0\n",
      "0\n"
     ]
    }
   ],
   "source": [
    "# Check missing values\n",
    "## Identify missing values in lat long \n",
    "print(combined_train.latitude.isna().sum())\n",
    "print(combined_train.longitude.isna().sum())\n",
    "print(combined_test.latitude.isna().sum())\n",
    "print(combined_test.longitude.isna().sum())"
   ]
  },
  {
   "cell_type": "code",
   "execution_count": null,
   "id": "b81fdf96",
   "metadata": {},
   "outputs": [],
   "source": [
    "combined_train\n",
    "combined_test "
   ]
  },
  {
   "cell_type": "markdown",
   "id": "f0d31b1f",
   "metadata": {},
   "source": [
    "## Latlong"
   ]
  },
  {
   "cell_type": "code",
   "execution_count": 48,
   "id": "ad320e24",
   "metadata": {},
   "outputs": [],
   "source": [
    "parks = pd.DataFrame()"
   ]
  },
  {
   "cell_type": "code",
   "execution_count": null,
   "id": "3d9e7f9a",
   "metadata": {},
   "outputs": [],
   "source": [
    "data = [[]]"
   ]
  }
 ],
 "metadata": {
  "kernelspec": {
   "display_name": "Python 3",
   "language": "python",
   "name": "python3"
  },
  "language_info": {
   "codemirror_mode": {
    "name": "ipython",
    "version": 3
   },
   "file_extension": ".py",
   "mimetype": "text/x-python",
   "name": "python",
   "nbconvert_exporter": "python",
   "pygments_lexer": "ipython3",
   "version": "3.8.2"
  }
 },
 "nbformat": 4,
 "nbformat_minor": 5
}
