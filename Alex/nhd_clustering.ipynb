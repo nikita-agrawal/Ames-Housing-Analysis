{
 "cells": [
  {
   "cell_type": "code",
   "execution_count": 3,
   "metadata": {},
   "outputs": [],
   "source": [
    "import pandas as pd\n",
    "import numpy as np\n",
    "from sklearn import linear_model\n",
    "from sklearn.preprocessing import OneHotEncoder\n",
    "from sklearn.compose import ColumnTransformer\n",
    "import matplotlib.pyplot as plt\n",
    "import seaborn as sns\n",
    "import matplotlib.style as style\n",
    "style.use('fivethirtyeight')\n",
    "import helper\n",
    "import missingno as msno"
   ]
  },
  {
   "cell_type": "code",
   "execution_count": 4,
   "metadata": {},
   "outputs": [],
   "source": [
    "colors = [\"#FF0B04\", \"#F1BE48\",\n",
    "           \"#B9975B\", \"#8B5B29\",\n",
    "           \"#524727\",\n",
    "         ]\n",
    "sns.set_palette(sns.color_palette(colors))"
   ]
  },
  {
   "cell_type": "code",
   "execution_count": 5,
   "metadata": {
    "scrolled": false
   },
   "outputs": [],
   "source": [
    "train = pd.read_csv('train.csv', index_col=0)"
   ]
  },
  {
   "cell_type": "code",
   "execution_count": 6,
   "metadata": {},
   "outputs": [],
   "source": [
    "target = ['SalePrice']\n",
    "key = ['PID'] \n",
    "numeric = ['GrLivArea','LotFrontage','LotArea','YearBuilt','YearRemodAdd','MasVnrArea',\n",
    "           'BsmtFinSF1','BsmtFinSF2','BsmtUnfSF','TotalBsmtSF','1stFlrSF','2ndFlrSF',\n",
    "           'LowQualFinSF','GarageYrBlt','GarageArea','WoodDeckSF','OpenPorchSF',\n",
    "           'EnclosedPorch','3SsnPorch','ScreenPorch','PoolArea','MiscVal','YrSold'\n",
    "          ] \n",
    "## Let's say you wanted to classify 'YearBuilt' (for example) as ordinal. From a math point of view,\n",
    "## does it make any difference?\n",
    "numeric_to_categorical = ['MSSubClass','MoSold']\n",
    "\n",
    "## Had to remove 'MasVnrType','Electrical','RoofMatl', 'Exterior1st','Exterior2nd', 'Utilities'\n",
    "## because they get dropped later and am running these categorical through\n",
    "## OneHotEncoder\n",
    "categorical = ['MSZoning','Street','Alley','LotShape','LandContour','LotConfig',\n",
    "               'LandSlope','Neighborhood','Condition1','Condition2','BldgType','HouseStyle',\n",
    "               'RoofStyle','Foundation', 'BsmtFinType1','BsmtFinType2','Heating','GarageType',\n",
    "               'GarageFinish','PavedDrive','MiscFeature','SaleType','SaleCondition',\n",
    "               'BedroomAbvGr', 'CentralAir'\n",
    "              ]\n",
    "## Moved 'BedroomAbvGr' to categorical for one-hot encoding. Moved 'CentralAir' to categorical because\n",
    "## although binary was currently encoded as Y/N.\n",
    "    \n",
    "cat_ordinal = [\n",
    "               'OverallQual','OverallCond', # numeric?\n",
    "               'ExterQual','ExterCond', # {'Po':1,'Fa':2,'TA':3,'Gd':4,'Ex':5}\n",
    "               'BsmtQual','BsmtCond', # {'Po':1,'Fa':2,'TA':3,'Gd':4,'Ex':5}\n",
    "               'BsmtExposure', # {'No':1,'Mn':2,'Av':3,'Gd':4}\n",
    "               'HeatingQC', # {'Po':1,'Fa':2,'TA':3,'Gd':4,'Ex':5}\n",
    "               'BsmtFullBath','BsmtHalfBath', # numeric?\n",
    "               'FullBath','HalfBath', # numeric?\n",
    "               'KitchenAbvGr', # numeric?\n",
    "               'KitchenQual', # {'Po':1,'Fa':2,'TA':3,'Gd':4,'Ex':5}\n",
    "               'TotRmsAbvGrd', # numeric?\n",
    "               'Functional', # {'Sal':1,'Sev':2,'Maj2':3,'Maj1':4,\n",
    "                             #  'Mod':5,'Min2':6,'Min1':7,'Typ':8}\n",
    "               'Fireplaces', # numeric?\n",
    "               'FireplaceQu', # {'Po':1,'Fa':2,'TA':3,'Gd':4,'Ex':5}\n",
    "               'GarageCars', # numeric?\n",
    "               'GarageQual', # {'Po':1,'Fa':2,'TA':3,'Gd':4,'Ex':5}\n",
    "               'GarageCond', # {'Po':1,'Fa':2,'TA':3,'Gd':4,'Ex':5}\n",
    "               'PoolQC', # {'Fa':1,'TA':2,'Gd':3,'Ex':4}\n",
    "               'Fence' #{'MnWw':1,'GdWo':2,'MnPrv':3,'GdPrv':4}\n",
    "               ]"
   ]
  },
  {
   "cell_type": "markdown",
   "metadata": {},
   "source": [
    "## train cleaning"
   ]
  },
  {
   "cell_type": "code",
   "execution_count": 7,
   "metadata": {},
   "outputs": [],
   "source": [
    "# converting all similar mappings together\n",
    "# most popular mapping\n",
    "\n",
    "## There is some imputing hidden in the convert_cat_ordinal function.\n",
    "\n",
    "cat_ordinal_features = [\n",
    "    'GarageQual','GarageCond',\n",
    "    'FireplaceQu',\n",
    "    'KitchenQual',\n",
    "    'ExterQual','ExterCond',\n",
    "    'BsmtQual','BsmtCond',\n",
    "    'HeatingQC'\n",
    "    ]\n",
    "cat_ordinal_dict = {'Po':1,'Fa':2,'TA':3,'Gd':4,'Ex':5}\n",
    "train = helper.convert_cat_ordinal_vars_to_num(train,\n",
    "                                               cat_ordinal_features,\n",
    "                                               cat_ordinal_dict)\n",
    "# now just unique mappings\n",
    "# BsmtExposure\n",
    "cat_ordinal_features = [\n",
    "    'BsmtExposure'\n",
    "]\n",
    "cat_ordinal_dict = {'No':1,'Mn':2,'Av':3,'Gd':4}\n",
    "train = helper.convert_cat_ordinal_vars_to_num(train,\n",
    "                                               cat_ordinal_features,\n",
    "                                               cat_ordinal_dict)\n",
    "# Functional\n",
    "cat_ordinal_features = [\n",
    "    'Functional'\n",
    "]\n",
    "cat_ordinal_dict = {'Sal':1,'Sev':2,'Maj2':3,'Maj1':4,\n",
    "                    'Mod':5,'Min2':6,'Min1':7,'Typ':8}\n",
    "train = helper.convert_cat_ordinal_vars_to_num(train,\n",
    "                                               cat_ordinal_features,\n",
    "                                               cat_ordinal_dict)\n",
    "# PoolQC\n",
    "cat_ordinal_features = [\n",
    "    'PoolQC'\n",
    "]\n",
    "cat_ordinal_dict = {'Fa':1,'TA':2,'Gd':3,'Ex':4}\n",
    "train = helper.convert_cat_ordinal_vars_to_num(train,\n",
    "                                               cat_ordinal_features,\n",
    "                                               cat_ordinal_dict)\n",
    "# Fence\n",
    "cat_ordinal_features = [\n",
    "    'Fence'\n",
    "]\n",
    "cat_ordinal_dict = {'MnWw':1,'GdWo':2,'MnPrv':3,'GdPrv':4}\n",
    "train = helper.convert_cat_ordinal_vars_to_num(train,\n",
    "                                               cat_ordinal_features,\n",
    "                                               cat_ordinal_dict)"
   ]
  },
  {
   "cell_type": "code",
   "execution_count": 8,
   "metadata": {
    "scrolled": true
   },
   "outputs": [],
   "source": [
    "LotFrontage_dict = {'1Fam':0.7139, 'TwnhsE':0.5849, 'Twnhs':0.5227, 'Duplex':0.7725, '2fmCon':0.6922}"
   ]
  },
  {
   "cell_type": "code",
   "execution_count": 9,
   "metadata": {
    "scrolled": true
   },
   "outputs": [],
   "source": [
    "train.loc[train['LotFrontage'].isna(), 'LotFrontage'] = train.loc[train['LotFrontage'].isna(), :].apply(\n",
    "    lambda x: LotFrontage_dict[x['BldgType']]*np.sqrt(x['LotArea']), axis=1\n",
    ")"
   ]
  },
  {
   "cell_type": "code",
   "execution_count": 75,
   "metadata": {},
   "outputs": [],
   "source": [
    "## Removed 'LotFrontage' from here. Imputed above. Added Electrical here because there was NA in test.\n",
    "## Also 'RoofMatl' because of 'Roll' in test.\n",
    "## Also 'Exterior1st', 'Exterior2nd'\n",
    "# weirdest nas. lot frontage. probably worth removing\n",
    "# not dealing with them out of expediance. \n",
    "drop_now_but_look_at_later = ['MasVnrArea','GarageYrBlt','MasVnrType', 'Electrical', 'RoofMatl', \n",
    "                              'Exterior1st', 'Exterior2nd', 'Utilities']\n",
    "train.drop(drop_now_but_look_at_later, axis=1,inplace = True)"
   ]
  },
  {
   "cell_type": "code",
   "execution_count": 10,
   "metadata": {},
   "outputs": [],
   "source": [
    "na_none_features = ['MiscFeature','Alley','BsmtFinType1','BsmtFinType2',\n",
    "                   'GarageFinish','GarageType']\n",
    "for na_none_feature in na_none_features:\n",
    "    train[na_none_feature] = train[na_none_feature].fillna(value = 'None')"
   ]
  },
  {
   "cell_type": "code",
   "execution_count": 11,
   "metadata": {},
   "outputs": [],
   "source": [
    "## Think there was a typo here.\n",
    "na_zero_features = ['BsmtFullBath','BsmtHalfBath','BsmtFinSF1','BsmtFinSF2','BsmtUnfSF','TotalBsmtSF']\n",
    "for na_zero_feature in na_zero_features:\n",
    "    train[na_zero_feature] = train[na_zero_feature].fillna(value = 0)"
   ]
  },
  {
   "cell_type": "code",
   "execution_count": 12,
   "metadata": {},
   "outputs": [
    {
     "data": {
      "text/plain": [
       "['MasVnrType', 'MasVnrArea', 'GarageYrBlt']"
      ]
     },
     "execution_count": 12,
     "metadata": {},
     "output_type": "execute_result"
    }
   ],
   "source": [
    "cols_na = train.loc[:,train.isna().any(axis=0)].columns.to_list()\n",
    "cols_na"
   ]
  },
  {
   "cell_type": "code",
   "execution_count": 37,
   "metadata": {},
   "outputs": [],
   "source": [
    "nhds = train.loc[:,['Neighborhood', 'GrLivArea']]"
   ]
  },
  {
   "cell_type": "code",
   "execution_count": 38,
   "metadata": {},
   "outputs": [],
   "source": [
    "nhds['LogSalePrice'] = np.log(train['SalePrice'])"
   ]
  },
  {
   "cell_type": "code",
   "execution_count": 41,
   "metadata": {},
   "outputs": [],
   "source": [
    "nhds = nhds.groupby('Neighborhood').agg(\n",
    "    Sqft_mean=pd.NamedAgg('GrLivArea',np.mean),\n",
    "    Sqft_sd=pd.NamedAgg('GrLivArea',np.std),\n",
    "    LogPrice_mean=pd.NamedAgg('LogSalePrice',np.mean),\n",
    "    LogPrice_sd=pd.NamedAgg('LogSalePrice',np.std)\n",
    ").fillna(0)"
   ]
  },
  {
   "cell_type": "code",
   "execution_count": 42,
   "metadata": {},
   "outputs": [],
   "source": [
    "from sklearn.cluster import KMeans"
   ]
  },
  {
   "cell_type": "code",
   "execution_count": 50,
   "metadata": {},
   "outputs": [],
   "source": [
    "from sklearn.cluster import KMeans\n",
    "from sklearn.metrics import silhouette_score"
   ]
  },
  {
   "cell_type": "code",
   "execution_count": 51,
   "metadata": {},
   "outputs": [],
   "source": [
    "X = nhds"
   ]
  },
  {
   "cell_type": "code",
   "execution_count": 52,
   "metadata": {},
   "outputs": [
    {
     "name": "stdout",
     "output_type": "stream",
     "text": [
      "For n_clusters = 2 The average silhouette_score is : 0.4976499122299036\n",
      "For n_clusters = 3 The average silhouette_score is : 0.5021221675777995\n",
      "For n_clusters = 4 The average silhouette_score is : 0.46937052279661323\n",
      "For n_clusters = 5 The average silhouette_score is : 0.390305250984152\n",
      "For n_clusters = 6 The average silhouette_score is : 0.4164877860743004\n"
     ]
    }
   ],
   "source": [
    "# We choose 3 clusters based on silhouette score.\n",
    "range_n_clusters = [2, 3, 4, 5, 6]\n",
    "\n",
    "for n_clusters in range_n_clusters:\n",
    "\n",
    "    clusterer = KMeans(n_clusters=n_clusters, random_state=10)\n",
    "    cluster_labels = clusterer.fit_predict(X)\n",
    "    \n",
    "    silhouette_avg = silhouette_score(X, cluster_labels)\n",
    "    print(\"For n_clusters =\", n_clusters,\n",
    "          \"The average silhouette_score is :\", silhouette_avg)"
   ]
  },
  {
   "cell_type": "code",
   "execution_count": 60,
   "metadata": {},
   "outputs": [
    {
     "data": {
      "text/html": [
       "<div>\n",
       "<style scoped>\n",
       "    .dataframe tbody tr th:only-of-type {\n",
       "        vertical-align: middle;\n",
       "    }\n",
       "\n",
       "    .dataframe tbody tr th {\n",
       "        vertical-align: top;\n",
       "    }\n",
       "\n",
       "    .dataframe thead th {\n",
       "        text-align: right;\n",
       "    }\n",
       "</style>\n",
       "<table border=\"1\" class=\"dataframe\">\n",
       "  <thead>\n",
       "    <tr style=\"text-align: right;\">\n",
       "      <th></th>\n",
       "      <th>Sqft_mean</th>\n",
       "      <th>Sqft_sd</th>\n",
       "      <th>LogPrice_mean</th>\n",
       "      <th>LogPrice_sd</th>\n",
       "      <th>Cluster</th>\n",
       "    </tr>\n",
       "    <tr>\n",
       "      <th>Neighborhood</th>\n",
       "      <th></th>\n",
       "      <th></th>\n",
       "      <th></th>\n",
       "      <th></th>\n",
       "      <th></th>\n",
       "    </tr>\n",
       "  </thead>\n",
       "  <tbody>\n",
       "    <tr>\n",
       "      <th>Blmngtn</th>\n",
       "      <td>1447.588235</td>\n",
       "      <td>141.282544</td>\n",
       "      <td>12.206503</td>\n",
       "      <td>0.138488</td>\n",
       "      <td>1</td>\n",
       "    </tr>\n",
       "    <tr>\n",
       "      <th>Blueste</th>\n",
       "      <td>1127.625000</td>\n",
       "      <td>99.087173</td>\n",
       "      <td>11.803928</td>\n",
       "      <td>0.172050</td>\n",
       "      <td>1</td>\n",
       "    </tr>\n",
       "    <tr>\n",
       "      <th>BrDale</th>\n",
       "      <td>1104.368421</td>\n",
       "      <td>150.796482</td>\n",
       "      <td>11.570003</td>\n",
       "      <td>0.120983</td>\n",
       "      <td>1</td>\n",
       "    </tr>\n",
       "    <tr>\n",
       "      <th>BrkSide</th>\n",
       "      <td>1195.315068</td>\n",
       "      <td>353.090006</td>\n",
       "      <td>11.696983</td>\n",
       "      <td>0.295337</td>\n",
       "      <td>1</td>\n",
       "    </tr>\n",
       "    <tr>\n",
       "      <th>ClearCr</th>\n",
       "      <td>1767.035714</td>\n",
       "      <td>466.461739</td>\n",
       "      <td>12.274598</td>\n",
       "      <td>0.230419</td>\n",
       "      <td>0</td>\n",
       "    </tr>\n",
       "    <tr>\n",
       "      <th>CollgCr</th>\n",
       "      <td>1485.800000</td>\n",
       "      <td>397.787877</td>\n",
       "      <td>12.166988</td>\n",
       "      <td>0.240871</td>\n",
       "      <td>0</td>\n",
       "    </tr>\n",
       "    <tr>\n",
       "      <th>Crawfor</th>\n",
       "      <td>1668.746269</td>\n",
       "      <td>448.328287</td>\n",
       "      <td>12.145134</td>\n",
       "      <td>0.297290</td>\n",
       "      <td>0</td>\n",
       "    </tr>\n",
       "    <tr>\n",
       "      <th>Edwards</th>\n",
       "      <td>1281.669492</td>\n",
       "      <td>406.126292</td>\n",
       "      <td>11.735905</td>\n",
       "      <td>0.325592</td>\n",
       "      <td>1</td>\n",
       "    </tr>\n",
       "    <tr>\n",
       "      <th>Gilbert</th>\n",
       "      <td>1635.854369</td>\n",
       "      <td>310.003618</td>\n",
       "      <td>12.143588</td>\n",
       "      <td>0.145145</td>\n",
       "      <td>0</td>\n",
       "    </tr>\n",
       "    <tr>\n",
       "      <th>Greens</th>\n",
       "      <td>1207.333333</td>\n",
       "      <td>88.149116</td>\n",
       "      <td>12.223814</td>\n",
       "      <td>0.059277</td>\n",
       "      <td>1</td>\n",
       "    </tr>\n",
       "    <tr>\n",
       "      <th>GrnHill</th>\n",
       "      <td>1398.500000</td>\n",
       "      <td>146.371104</td>\n",
       "      <td>12.526341</td>\n",
       "      <td>0.255275</td>\n",
       "      <td>1</td>\n",
       "    </tr>\n",
       "    <tr>\n",
       "      <th>IDOTRR</th>\n",
       "      <td>1347.862745</td>\n",
       "      <td>413.172072</td>\n",
       "      <td>11.631583</td>\n",
       "      <td>0.303574</td>\n",
       "      <td>1</td>\n",
       "    </tr>\n",
       "    <tr>\n",
       "      <th>Landmrk</th>\n",
       "      <td>1320.000000</td>\n",
       "      <td>0.000000</td>\n",
       "      <td>11.827736</td>\n",
       "      <td>0.000000</td>\n",
       "      <td>1</td>\n",
       "    </tr>\n",
       "    <tr>\n",
       "      <th>MeadowV</th>\n",
       "      <td>1086.200000</td>\n",
       "      <td>366.333068</td>\n",
       "      <td>11.486334</td>\n",
       "      <td>0.197923</td>\n",
       "      <td>1</td>\n",
       "    </tr>\n",
       "    <tr>\n",
       "      <th>Mitchel</th>\n",
       "      <td>1323.473684</td>\n",
       "      <td>374.895949</td>\n",
       "      <td>11.998780</td>\n",
       "      <td>0.234704</td>\n",
       "      <td>1</td>\n",
       "    </tr>\n",
       "    <tr>\n",
       "      <th>NAmes</th>\n",
       "      <td>1288.456081</td>\n",
       "      <td>379.175133</td>\n",
       "      <td>11.870626</td>\n",
       "      <td>0.196788</td>\n",
       "      <td>1</td>\n",
       "    </tr>\n",
       "    <tr>\n",
       "      <th>NPkVill</th>\n",
       "      <td>1221.352941</td>\n",
       "      <td>258.252769</td>\n",
       "      <td>11.841334</td>\n",
       "      <td>0.075888</td>\n",
       "      <td>1</td>\n",
       "    </tr>\n",
       "    <tr>\n",
       "      <th>NWAmes</th>\n",
       "      <td>1703.590909</td>\n",
       "      <td>464.630805</td>\n",
       "      <td>12.152244</td>\n",
       "      <td>0.185845</td>\n",
       "      <td>0</td>\n",
       "    </tr>\n",
       "    <tr>\n",
       "      <th>NoRidge</th>\n",
       "      <td>2463.800000</td>\n",
       "      <td>472.876046</td>\n",
       "      <td>12.687847</td>\n",
       "      <td>0.245008</td>\n",
       "      <td>2</td>\n",
       "    </tr>\n",
       "    <tr>\n",
       "      <th>NridgHt</th>\n",
       "      <td>1907.544444</td>\n",
       "      <td>437.535955</td>\n",
       "      <td>12.603485</td>\n",
       "      <td>0.315955</td>\n",
       "      <td>0</td>\n",
       "    </tr>\n",
       "    <tr>\n",
       "      <th>OldTown</th>\n",
       "      <td>1446.798701</td>\n",
       "      <td>564.349836</td>\n",
       "      <td>11.707298</td>\n",
       "      <td>0.322637</td>\n",
       "      <td>0</td>\n",
       "    </tr>\n",
       "    <tr>\n",
       "      <th>SWISU</th>\n",
       "      <td>1542.733333</td>\n",
       "      <td>520.024597</td>\n",
       "      <td>11.765023</td>\n",
       "      <td>0.243562</td>\n",
       "      <td>0</td>\n",
       "    </tr>\n",
       "    <tr>\n",
       "      <th>Sawyer</th>\n",
       "      <td>1201.079208</td>\n",
       "      <td>395.382086</td>\n",
       "      <td>11.805712</td>\n",
       "      <td>0.199818</td>\n",
       "      <td>1</td>\n",
       "    </tr>\n",
       "    <tr>\n",
       "      <th>SawyerW</th>\n",
       "      <td>1590.209877</td>\n",
       "      <td>487.552375</td>\n",
       "      <td>12.092832</td>\n",
       "      <td>0.293552</td>\n",
       "      <td>0</td>\n",
       "    </tr>\n",
       "    <tr>\n",
       "      <th>Somerst</th>\n",
       "      <td>1598.820755</td>\n",
       "      <td>308.577405</td>\n",
       "      <td>12.312375</td>\n",
       "      <td>0.228015</td>\n",
       "      <td>0</td>\n",
       "    </tr>\n",
       "    <tr>\n",
       "      <th>StoneBr</th>\n",
       "      <td>1871.312500</td>\n",
       "      <td>534.651194</td>\n",
       "      <td>12.593200</td>\n",
       "      <td>0.357035</td>\n",
       "      <td>0</td>\n",
       "    </tr>\n",
       "    <tr>\n",
       "      <th>Timber</th>\n",
       "      <td>1671.825000</td>\n",
       "      <td>355.720928</td>\n",
       "      <td>12.365525</td>\n",
       "      <td>0.271235</td>\n",
       "      <td>0</td>\n",
       "    </tr>\n",
       "    <tr>\n",
       "      <th>Veenker</th>\n",
       "      <td>1663.823529</td>\n",
       "      <td>398.938785</td>\n",
       "      <td>12.374727</td>\n",
       "      <td>0.215418</td>\n",
       "      <td>0</td>\n",
       "    </tr>\n",
       "  </tbody>\n",
       "</table>\n",
       "</div>"
      ],
      "text/plain": [
       "                Sqft_mean     Sqft_sd  LogPrice_mean  LogPrice_sd  Cluster\n",
       "Neighborhood                                                              \n",
       "Blmngtn       1447.588235  141.282544      12.206503     0.138488        1\n",
       "Blueste       1127.625000   99.087173      11.803928     0.172050        1\n",
       "BrDale        1104.368421  150.796482      11.570003     0.120983        1\n",
       "BrkSide       1195.315068  353.090006      11.696983     0.295337        1\n",
       "ClearCr       1767.035714  466.461739      12.274598     0.230419        0\n",
       "CollgCr       1485.800000  397.787877      12.166988     0.240871        0\n",
       "Crawfor       1668.746269  448.328287      12.145134     0.297290        0\n",
       "Edwards       1281.669492  406.126292      11.735905     0.325592        1\n",
       "Gilbert       1635.854369  310.003618      12.143588     0.145145        0\n",
       "Greens        1207.333333   88.149116      12.223814     0.059277        1\n",
       "GrnHill       1398.500000  146.371104      12.526341     0.255275        1\n",
       "IDOTRR        1347.862745  413.172072      11.631583     0.303574        1\n",
       "Landmrk       1320.000000    0.000000      11.827736     0.000000        1\n",
       "MeadowV       1086.200000  366.333068      11.486334     0.197923        1\n",
       "Mitchel       1323.473684  374.895949      11.998780     0.234704        1\n",
       "NAmes         1288.456081  379.175133      11.870626     0.196788        1\n",
       "NPkVill       1221.352941  258.252769      11.841334     0.075888        1\n",
       "NWAmes        1703.590909  464.630805      12.152244     0.185845        0\n",
       "NoRidge       2463.800000  472.876046      12.687847     0.245008        2\n",
       "NridgHt       1907.544444  437.535955      12.603485     0.315955        0\n",
       "OldTown       1446.798701  564.349836      11.707298     0.322637        0\n",
       "SWISU         1542.733333  520.024597      11.765023     0.243562        0\n",
       "Sawyer        1201.079208  395.382086      11.805712     0.199818        1\n",
       "SawyerW       1590.209877  487.552375      12.092832     0.293552        0\n",
       "Somerst       1598.820755  308.577405      12.312375     0.228015        0\n",
       "StoneBr       1871.312500  534.651194      12.593200     0.357035        0\n",
       "Timber        1671.825000  355.720928      12.365525     0.271235        0\n",
       "Veenker       1663.823529  398.938785      12.374727     0.215418        0"
      ]
     },
     "execution_count": 60,
     "metadata": {},
     "output_type": "execute_result"
    }
   ],
   "source": [
    "# We choose 3 clusters based on silhouette score. It is important\n",
    "# to recognize this creates a cluster with a single neighborhood, \n",
    "# 'NoRidge'. A look at the data suggests this is because of the \n",
    "# large mean square footage. There are 50 properties in 'NoRidge' \n",
    "# which is not too small for a sensible regression, therefore, it\n",
    "# seems appropriate (even desirable) to allow what might at first\n",
    "# glance have seemed anomalous.\n",
    "clusterer = KMeans(n_clusters=3, random_state=10)\n",
    "cluster_labels = clusterer.fit_predict(X)\n",
    "nhds['Cluster'] = cluster_labels\n",
    "nhds"
   ]
  },
  {
   "cell_type": "code",
   "execution_count": 69,
   "metadata": {},
   "outputs": [],
   "source": [
    "cluster_dict = pd.DataFrame(data = {'Nhd_cluster':nhds.Cluster}, index=nhds.index).to_dict()['Nhd_cluster']"
   ]
  },
  {
   "cell_type": "code",
   "execution_count": 73,
   "metadata": {},
   "outputs": [],
   "source": [
    "train['NhdCluster'] = train.apply(lambda x: cluster_dict[x['Neighborhood']], axis=1)"
   ]
  },
  {
   "cell_type": "code",
   "execution_count": 74,
   "metadata": {},
   "outputs": [],
   "source": [
    "from sklearn.linear_model import LogisticRegression"
   ]
  },
  {
   "cell_type": "code",
   "execution_count": 79,
   "metadata": {},
   "outputs": [],
   "source": [
    "# cats are the above categorical with 'Neighborhood' removed, otherwise\n",
    "# the ColumnTransformer would have a problem being fed categorical having\n",
    "# dropped 'Neighborhood' from the features being included in X\n",
    "cats = ['MSZoning','Street','Alley','LotShape','LandContour','LotConfig',\n",
    "               'LandSlope','Condition1','Condition2','BldgType','HouseStyle',\n",
    "               'RoofStyle','Foundation', 'BsmtFinType1','BsmtFinType2','Heating','GarageType',\n",
    "               'GarageFinish','PavedDrive','MiscFeature','SaleType','SaleCondition',\n",
    "               'BedroomAbvGr', 'CentralAir'\n",
    "              ]"
   ]
  },
  {
   "cell_type": "code",
   "execution_count": 81,
   "metadata": {},
   "outputs": [],
   "source": [
    "X = train.drop(['SalePrice', 'GrLivArea', 'Neighborhood', 'NhdCluster'],axis=1)\n",
    "transformer = ColumnTransformer([(\"Cat\", OneHotEncoder(drop='first'), cats)], remainder='passthrough')\n",
    "X = transformer.fit_transform(X)"
   ]
  },
  {
   "cell_type": "code",
   "execution_count": 84,
   "metadata": {},
   "outputs": [],
   "source": [
    "clf = LogisticRegression(penalty='l1', random_state=10, solver='saga', max_iter=10000)"
   ]
  },
  {
   "cell_type": "code",
   "execution_count": 85,
   "metadata": {},
   "outputs": [
    {
     "data": {
      "text/plain": [
       "0.5403527525387494"
      ]
     },
     "execution_count": 85,
     "metadata": {},
     "output_type": "execute_result"
    }
   ],
   "source": [
    "# This takes a while. Notice I set max_iter to 10,000. With the \n",
    "# default of 100 it did not converge. The score of .54 is a bit\n",
    "# disappointing. Wonder if some columns currently being excluded\n",
    "# could play a role here, like 'Exterior1st', 'Exterior2nd'.\n",
    "y = train['NhdCluster']\n",
    "clf.fit(X,y)\n",
    "clf.score(X,y)"
   ]
  },
  {
   "cell_type": "code",
   "execution_count": 89,
   "metadata": {},
   "outputs": [
    {
     "name": "stderr",
     "output_type": "stream",
     "text": [
      "C:\\Users\\alexa\\anaconda3\\lib\\site-packages\\sklearn\\feature_selection\\_base.py:79: UserWarning: No features were selected: either the data is too noisy or the selection test too strict.\n",
      "  warn(\"No features were selected: either the data is\"\n"
     ]
    },
    {
     "data": {
      "text/plain": [
       "array([], shape=(1871, 0), dtype=float64)"
      ]
     },
     "execution_count": 89,
     "metadata": {},
     "output_type": "execute_result"
    }
   ],
   "source": [
    "# Not able to use the L1 penalty (Lasso) to actually identify any useful features. This plus the poor score\n",
    "# above suggests that (unless the missing features have something else to say) it is very hard to \n",
    "# predict NhdCluster based on the features that don't appear in the clustering. And it is even harder\n",
    "# to identify any particular features as useful. So nothing pops out as a differentiator. Attempting \n",
    "# to use the clusters still makes sense, but features should be identified solely on their usefulness in\n",
    "# that direction. Now that I've thought about this more, simply allowing the submodels to use different sets\n",
    "# of features seems a more effective way of achieving the aim in any case. After all, even if a feature were\n",
    "# useful in differentiating between neighborhoods, it might not be useful for predicting price, and the model \n",
    "# will identify those best at that in any case, why would you try to prescribe some of them.\n",
    "from sklearn.feature_selection import SelectFromModel\n",
    "clf = LogisticRegression(penalty='l1', C=1, random_state=10, solver='saga', max_iter=10000)\n",
    "selector = SelectFromModel(estimator=clf).fit(X, y)\n",
    "selector.transform(X)"
   ]
  },
  {
   "cell_type": "code",
   "execution_count": null,
   "metadata": {},
   "outputs": [],
   "source": []
  },
  {
   "cell_type": "code",
   "execution_count": 12,
   "metadata": {},
   "outputs": [],
   "source": [
    "X = train.drop('SalePrice',axis=1)\n",
    "transformer = ColumnTransformer([(\"Cat\", OneHotEncoder(drop='first'), categorical)], remainder='passthrough')\n",
    "X = transformer.fit_transform(X)"
   ]
  },
  {
   "cell_type": "code",
   "execution_count": 13,
   "metadata": {},
   "outputs": [],
   "source": [
    "y = np.log(train['SalePrice'])"
   ]
  },
  {
   "cell_type": "code",
   "execution_count": 14,
   "metadata": {},
   "outputs": [],
   "source": [
    "ols = linear_model.LinearRegression()"
   ]
  },
  {
   "cell_type": "code",
   "execution_count": 15,
   "metadata": {},
   "outputs": [
    {
     "data": {
      "text/plain": [
       "0.9531732835572826"
      ]
     },
     "execution_count": 15,
     "metadata": {},
     "output_type": "execute_result"
    }
   ],
   "source": [
    "ols.fit(X, y)\n",
    "ols.score(X, y)"
   ]
  }
 ],
 "metadata": {
  "kernelspec": {
   "display_name": "Python 3",
   "language": "python",
   "name": "python3"
  },
  "language_info": {
   "codemirror_mode": {
    "name": "ipython",
    "version": 3
   },
   "file_extension": ".py",
   "mimetype": "text/x-python",
   "name": "python",
   "nbconvert_exporter": "python",
   "pygments_lexer": "ipython3",
   "version": "3.8.5"
  }
 },
 "nbformat": 4,
 "nbformat_minor": 5
}
