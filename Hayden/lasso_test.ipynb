{
 "cells": [
  {
   "cell_type": "code",
   "execution_count": 3,
   "id": "865ac6cf",
   "metadata": {},
   "outputs": [],
   "source": [
    "import pandas as pd\n",
    "import numpy as np\n",
    "from sklearn import linear_model\n",
    "from sklearn.preprocessing import OneHotEncoder\n",
    "from sklearn.compose import ColumnTransformer\n",
    "from sklearn.preprocessing import StandardScaler\n",
    "from sklearn.feature_selection import SelectFromModel\n",
    "import matplotlib.pyplot as plt\n",
    "import seaborn as sns\n",
    "import matplotlib.style as style\n",
    "import helper\n",
    "style.use('fivethirtyeight')"
   ]
  },
  {
   "cell_type": "code",
   "execution_count": 7,
   "id": "d3a7dcbf",
   "metadata": {},
   "outputs": [],
   "source": [
    "colors = [\"#FF0B04\", \"#F1BE48\",\n",
    "           \"#B9975B\", \"#8B5B29\",\n",
    "           \"#524727\",\n",
    "         ]\n",
    "sns.set_palette(sns.color_palette(colors))"
   ]
  },
  {
   "cell_type": "markdown",
   "id": "0eec64a0",
   "metadata": {},
   "source": [
    "## Data processing"
   ]
  },
  {
   "cell_type": "code",
   "execution_count": 4,
   "id": "ff32e9d0",
   "metadata": {},
   "outputs": [],
   "source": [
    "housing = pd.read_csv('Ames_Housing_Price_Data.csv', index_col=0,low_memory = False)\n",
    "\n",
    "\n",
    "train, test = helper.data_processing_wrapper(housing,\n",
    "                                               num_to_cat_list = ['MSSubClass'])\n"
   ]
  },
  {
   "cell_type": "code",
   "execution_count": 10,
   "id": "fc9bc4e8",
   "metadata": {},
   "outputs": [],
   "source": [
    "cat_feats = train.select_dtypes(['object','bool']).columns.to_list()\n"
   ]
  },
  {
   "cell_type": "code",
   "execution_count": 11,
   "id": "9af76f12",
   "metadata": {},
   "outputs": [],
   "source": [
    "num_cols = train.select_dtypes(['float64','int64']).columns.to_list()\n",
    "num_cols.remove('SalePrice')\n"
   ]
  },
  {
   "cell_type": "markdown",
   "id": "8292dbbd",
   "metadata": {},
   "source": [
    "## Simple linear model"
   ]
  },
  {
   "cell_type": "code",
   "execution_count": 12,
   "id": "882563cf",
   "metadata": {},
   "outputs": [],
   "source": [
    "def simple_linear_model_score(train, test, cols, target):\n",
    "    ols = linear_model.LinearRegression()\n",
    "    X = train[cols]\n",
    "    cat_feats = X.select_dtypes(['object','bool']).columns.to_list()\n",
    "    transformer = ColumnTransformer([(\"Cat\", OneHotEncoder(handle_unknown = 'ignore'), cat_feats)], remainder='passthrough')\n",
    "    X = transformer.fit_transform(X)\n",
    "    y = np.log(train[target])\n",
    "    \n",
    "    ols.fit(X, y)\n",
    "    train_score = ols.score(X, y)\n",
    "    \n",
    "    X_tst = test[cols]\n",
    "    X_tst = transformer.transform(X_tst)\n",
    "    y_tst = np.log(test[target])\n",
    "    test_score = ols.score(X_tst, y_tst)\n",
    "    \n",
    "    return train_score, test_score"
   ]
  },
  {
   "cell_type": "markdown",
   "id": "9810a187",
   "metadata": {},
   "source": [
    "The kitchen sink model of every feature over learns. And has a negative test score"
   ]
  },
  {
   "cell_type": "code",
   "execution_count": 13,
   "id": "fc4570d2",
   "metadata": {},
   "outputs": [
    {
     "data": {
      "text/plain": [
       "(0.9577939177156539, 0.9049441938900812)"
      ]
     },
     "execution_count": 13,
     "metadata": {},
     "output_type": "execute_result"
    }
   ],
   "source": [
    "simple_linear_model_score(train, test, cat_feats+num_cols, 'SalePrice')"
   ]
  },
  {
   "cell_type": "markdown",
   "id": "01ba5797",
   "metadata": {},
   "source": [
    "The numerical kitchen sink model is very successful"
   ]
  },
  {
   "cell_type": "code",
   "execution_count": 14,
   "id": "bba02fa9",
   "metadata": {},
   "outputs": [
    {
     "data": {
      "text/plain": [
       "(0.9290445015300175, 0.8849212267144517)"
      ]
     },
     "execution_count": 14,
     "metadata": {},
     "output_type": "execute_result"
    }
   ],
   "source": [
    "simple_linear_model_score(train, test, num_cols, 'SalePrice')"
   ]
  },
  {
   "cell_type": "markdown",
   "id": "871354fe",
   "metadata": {},
   "source": [
    "The numerical kitchen sink model gets better when we selectively pick our favorite categorical features"
   ]
  },
  {
   "cell_type": "code",
   "execution_count": 16,
   "id": "417fad0e",
   "metadata": {},
   "outputs": [
    {
     "data": {
      "text/plain": [
       "(0.9418792481441322, 0.8992313787558742)"
      ]
     },
     "execution_count": 16,
     "metadata": {},
     "output_type": "execute_result"
    }
   ],
   "source": [
    "fav_cat = ['YearBuilt', 'ExterQual', 'Neighborhood', 'KitchenQual']\n",
    "simple_linear_model_score(train, test, num_cols+fav_cat, 'SalePrice')"
   ]
  },
  {
   "cell_type": "markdown",
   "id": "d611ca60",
   "metadata": {},
   "source": [
    "We can see that as we add more and more numerical features our model gets better."
   ]
  },
  {
   "cell_type": "code",
   "execution_count": 17,
   "id": "3644113b",
   "metadata": {},
   "outputs": [
    {
     "name": "stdout",
     "output_type": "stream",
     "text": [
      "GrLivArea\n",
      "(0.5361242929283243, 0.5052486795731859)\n",
      "ExterQual\n",
      "(0.7034962809602388, 0.6644905975921633)\n",
      "TotalBsmtSF\n",
      "(0.7792598241555013, 0.7229657933399387)\n",
      "KitchenQual\n",
      "(0.7974247390402703, 0.7489550650148744)\n",
      "1stFlrSF\n",
      "(0.7975069805128663, 0.7497354661616471)\n",
      "GarageArea\n",
      "(0.8182544807598195, 0.779205489561503)\n",
      "GarageCars\n",
      "(0.8229613212881246, 0.7862240548493213)\n",
      "BsmtQual\n",
      "(0.8367316241545875, 0.8093688234853456)\n",
      "YearBuilt\n",
      "(0.8496799637760847, 0.8201252110298075)\n",
      "FullBath\n",
      "(0.8515427358211811, 0.8194532379214836)\n",
      "GarageFinish\n",
      "(0.8546721816101726, 0.8239315804336104)\n",
      "FireplaceQu\n",
      "(0.862791589110423, 0.8355690508933211)\n",
      "MasVnrArea\n",
      "(0.863014924192381, 0.8357178472479138)\n",
      "TotRmsAbvGrd\n",
      "(0.8634271653730479, 0.8341419606401707)\n",
      "YearRemodAdd\n",
      "(0.8695869148482882, 0.8386413512424243)\n",
      "Fireplaces\n",
      "(0.8735302259811796, 0.8403365999459429)\n",
      "BsmtFinSF1\n",
      "(0.8805143918287985, 0.8482424745087166)\n",
      "HeatingQC\n",
      "(0.8819825209355477, 0.8512038129217325)\n",
      "BsmtExposure\n",
      "(0.8837381955399547, 0.8524812209245907)\n",
      "LotFrontage\n",
      "(0.8867308704953979, 0.8548446790680635)\n",
      "WoodDeckSF\n",
      "(0.8868047028906968, 0.8554065023688021)\n",
      "OpenPorchSF\n",
      "(0.886861271668347, 0.8552851534535735)\n",
      "HalfBath\n",
      "(0.886883163408948, 0.8556627406789725)\n",
      "BsmtFullBath\n",
      "(0.8869743676682754, 0.8560963662911653)\n",
      "LotArea\n",
      "(0.8881865864459204, 0.8544190453660485)\n",
      "2ndFlrSF\n",
      "(0.8886235291245644, 0.8542595628385448)\n",
      "GarageQual\n",
      "(0.8907916226465491, 0.8565447598379544)\n",
      "PavedDrive\n",
      "(0.8938717581605864, 0.8588246373933291)\n",
      "GarageCond\n",
      "(0.8941509212619154, 0.8596414422924246)\n",
      "GarageYrBlt\n",
      "(0.8949157138028354, 0.859012648479585)\n",
      "BsmtCond\n",
      "(0.8950863908007833, 0.8595581140569625)\n",
      "BsmtUnfSF\n",
      "(0.8952749499518509, 0.8596682334223156)\n",
      "BedroomAbvGr\n",
      "(0.8955718473438916, 0.8590871212488529)\n",
      "ScreenPorch\n",
      "(0.8966450390376741, 0.8618080137910913)\n",
      "PoolQC\n",
      "(0.8966498282230969, 0.8618803405060196)\n",
      "PoolArea\n",
      "(0.8968327378808115, 0.8619592755878575)\n",
      "YrSold\n",
      "(0.8969915500000274, 0.8621040511103275)\n",
      "BsmtFinSF2\n",
      "(0.8969915500000273, 0.8621040511102883)\n",
      "3SsnPorch\n",
      "(0.8970867615213393, 0.8622403500594884)\n",
      "ExterCond\n",
      "(0.8974605662127457, 0.8637890930134859)\n",
      "MoSold\n",
      "(0.897464391303063, 0.863820042146437)\n",
      "MiscVal\n",
      "(0.8974695351316921, 0.8638613618432015)\n",
      "LowQualFinSF\n",
      "(0.8974695351316921, 0.8638613618431908)\n",
      "BsmtHalfBath\n",
      "(0.897513398001967, 0.863876913189171)\n",
      "Alley\n",
      "(0.8977233988283986, 0.8635147679933598)\n",
      "OverallCond\n",
      "(0.911980105874887, 0.870308399056249)\n",
      "KitchenAbvGr\n",
      "(0.9138459324455738, 0.8716522368254724)\n",
      "EnclosedPorch\n",
      "(0.9145169532048038, 0.8711878087926295)\n"
     ]
    }
   ],
   "source": [
    "k=100\n",
    "cols = train.corr().nlargest(k, 'SalePrice')['SalePrice'].index\n",
    "cols = cols[1:]\n",
    "for num_features in range(1,len(cols)):\n",
    "    print(cols[num_features])\n",
    "    print(simple_linear_model_score(train, test, cols[1:1+num_features], 'SalePrice'))"
   ]
  },
  {
   "cell_type": "markdown",
   "id": "bb64ab6d",
   "metadata": {},
   "source": [
    "## Lasso"
   ]
  },
  {
   "cell_type": "code",
   "execution_count": 31,
   "id": "a09ba49c",
   "metadata": {},
   "outputs": [],
   "source": [
    "scaler = StandardScaler(with_mean=False)"
   ]
  },
  {
   "cell_type": "code",
   "execution_count": 32,
   "id": "e785105f",
   "metadata": {},
   "outputs": [],
   "source": [
    "ols = linear_model.LinearRegression()"
   ]
  },
  {
   "cell_type": "markdown",
   "id": "bbec4d80",
   "metadata": {},
   "source": [
    "lasso with all columns "
   ]
  },
  {
   "cell_type": "code",
   "execution_count": 19,
   "id": "a2ff0251",
   "metadata": {},
   "outputs": [
    {
     "data": {
      "text/plain": [
       "(0.874653311752264,\n",
       " 0.8379021385124785,\n",
       " ['GrLivArea',\n",
       "  'OverallQual',\n",
       "  'YearBuilt',\n",
       "  'BsmtQual',\n",
       "  '1stFlrSF',\n",
       "  'KitchenQual',\n",
       "  'GarageCars',\n",
       "  'GarageArea'])"
      ]
     },
     "execution_count": 19,
     "metadata": {},
     "output_type": "execute_result"
    }
   ],
   "source": [
    "def lasso_linear_model_score(train_, test_, alpha, target, \n",
    "                             categorical_features,\n",
    "                             drop_cols = ['SalePrice', 'TotalBsmtSF']):\n",
    "    scaler = StandardScaler(with_mean=False)\n",
    "    ols = linear_model.LinearRegression()\n",
    "    \n",
    "    \n",
    "    X = train_.drop(drop_cols,axis=1)\n",
    "    transformer = ColumnTransformer([(\"Cat\", \n",
    "                                      OneHotEncoder(handle_unknown = 'ignore'), \n",
    "                                      categorical_features)], remainder='passthrough')\n",
    "    X = transformer.fit_transform(X)\n",
    "    X = scaler.fit_transform(X)\n",
    "    y = np.log(train_[target])\n",
    "    lasso = linear_model.Lasso(alpha=alpha)\n",
    "    selector = SelectFromModel(estimator=lasso)\n",
    "    X = selector.fit_transform(X, y)\n",
    "    \n",
    "    ols.fit(X,y)\n",
    "    train_score = ols.score(X,y)\n",
    "\n",
    "    X_tst = test_.drop(drop_cols,axis=1)\n",
    "    X_tst = transformer.transform(X_tst)\n",
    "    X_tst = scaler.transform(X_tst)\n",
    "    y_tst = np.log(test_[target])\n",
    "    X_tst = selector.transform(X_tst)\n",
    "    test_score = ols.score(X_tst,y_tst)\n",
    "    \n",
    "    \n",
    "    feat_names = transformer.get_feature_names()\n",
    "    mask = selector.get_support()\n",
    "    lasso_feats = [a for a, b in zip(feat_names, mask) if b]\n",
    "    \n",
    "    return train_score, test_score,lasso_feats\n",
    "\n",
    "##########\n",
    "\n",
    "lasso_linear_model_score(train, test, 0.1, 'SalePrice', \n",
    "                             cat_feats,\n",
    "                             drop_cols = ['SalePrice', 'TotalBsmtSF'])\n",
    "\n",
    "\n"
   ]
  },
  {
   "cell_type": "code",
   "execution_count": 20,
   "id": "957de14e",
   "metadata": {},
   "outputs": [
    {
     "data": {
      "text/plain": [
       "(0.874653311752264,\n",
       " 0.8379021385124785,\n",
       " ['GrLivArea',\n",
       "  'OverallQual',\n",
       "  'YearBuilt',\n",
       "  'BsmtQual',\n",
       "  '1stFlrSF',\n",
       "  'KitchenQual',\n",
       "  'GarageCars',\n",
       "  'GarageArea'])"
      ]
     },
     "execution_count": 20,
     "metadata": {},
     "output_type": "execute_result"
    }
   ],
   "source": [
    "lasso_linear_model_score(train, test, 0.1, 'SalePrice', \n",
    "                             cat_feats,\n",
    "                             drop_cols = ['SalePrice', 'TotalBsmtSF'])"
   ]
  },
  {
   "cell_type": "code",
   "execution_count": 21,
   "id": "a2dec854",
   "metadata": {},
   "outputs": [
    {
     "data": {
      "text/plain": [
       "(0.9460319639800638,\n",
       " 0.9083007695396004,\n",
       " ['Cat__x0_160',\n",
       "  'Cat__x0_30',\n",
       "  'Cat__x1_C (all)',\n",
       "  'Cat__x1_RM',\n",
       "  'Cat__x8_ClearCr',\n",
       "  'Cat__x8_Crawfor',\n",
       "  'Cat__x8_Edwards',\n",
       "  'Cat__x8_GrnHill',\n",
       "  'Cat__x8_MeadowV',\n",
       "  'Cat__x8_Somerst',\n",
       "  'Cat__x8_StoneBr',\n",
       "  'Cat__x9_Norm',\n",
       "  'Cat__x11_1Fam',\n",
       "  'Cat__x11_Twnhs',\n",
       "  'Cat__x15_BrkFace',\n",
       "  'Cat__x15_PreCast',\n",
       "  'Cat__x18_PConc',\n",
       "  'Cat__x22_N',\n",
       "  'Cat__x24_Typ',\n",
       "  'Cat__x25_Attchd',\n",
       "  'Cat__x29_Normal',\n",
       "  'GrLivArea',\n",
       "  'LotFrontage',\n",
       "  'LotArea',\n",
       "  'OverallQual',\n",
       "  'OverallCond',\n",
       "  'YearBuilt',\n",
       "  'YearRemodAdd',\n",
       "  'MasVnrArea',\n",
       "  'ExterQual',\n",
       "  'BsmtQual',\n",
       "  'BsmtExposure',\n",
       "  'BsmtFinSF1',\n",
       "  'BsmtFinSF2',\n",
       "  'HeatingQC',\n",
       "  '1stFlrSF',\n",
       "  'BsmtFullBath',\n",
       "  'KitchenQual',\n",
       "  'Fireplaces',\n",
       "  'FireplaceQu',\n",
       "  'GarageFinish',\n",
       "  'GarageCars',\n",
       "  'GarageArea',\n",
       "  'PavedDrive',\n",
       "  'ScreenPorch'])"
      ]
     },
     "execution_count": 21,
     "metadata": {},
     "output_type": "execute_result"
    }
   ],
   "source": [
    "lasso_linear_model_score(train, test, 0.01, 'SalePrice', \n",
    "                             cat_feats,\n",
    "                             drop_cols = ['SalePrice', 'TotalBsmtSF'])"
   ]
  },
  {
   "cell_type": "code",
   "execution_count": 22,
   "id": "2a179f3c",
   "metadata": {},
   "outputs": [
    {
     "data": {
      "text/plain": [
       "(0.9561244295278687,\n",
       " 0.9063054954999941,\n",
       " ['Cat__x0_150',\n",
       "  'Cat__x0_160',\n",
       "  'Cat__x0_20',\n",
       "  'Cat__x0_30',\n",
       "  'Cat__x0_45',\n",
       "  'Cat__x0_50',\n",
       "  'Cat__x0_60',\n",
       "  'Cat__x0_70',\n",
       "  'Cat__x0_85',\n",
       "  'Cat__x0_90',\n",
       "  'Cat__x1_A (agr)',\n",
       "  'Cat__x1_C (all)',\n",
       "  'Cat__x1_I (all)',\n",
       "  'Cat__x1_RH',\n",
       "  'Cat__x1_RL',\n",
       "  'Cat__x1_RM',\n",
       "  'Cat__x2_Grvl',\n",
       "  'Cat__x3_IR2',\n",
       "  'Cat__x3_IR3',\n",
       "  'Cat__x4_Bnk',\n",
       "  'Cat__x4_HLS',\n",
       "  'Cat__x4_Low',\n",
       "  'Cat__x6_Corner',\n",
       "  'Cat__x6_CulDSac',\n",
       "  'Cat__x6_FR2',\n",
       "  'Cat__x6_FR3',\n",
       "  'Cat__x7_Mod',\n",
       "  'Cat__x8_BrDale',\n",
       "  'Cat__x8_BrkSide',\n",
       "  'Cat__x8_ClearCr',\n",
       "  'Cat__x8_CollgCr',\n",
       "  'Cat__x8_Crawfor',\n",
       "  'Cat__x8_Edwards',\n",
       "  'Cat__x8_Greens',\n",
       "  'Cat__x8_GrnHill',\n",
       "  'Cat__x8_IDOTRR',\n",
       "  'Cat__x8_Landmrk',\n",
       "  'Cat__x8_MeadowV',\n",
       "  'Cat__x8_NAmes',\n",
       "  'Cat__x8_NWAmes',\n",
       "  'Cat__x8_NoRidge',\n",
       "  'Cat__x8_NridgHt',\n",
       "  'Cat__x8_OldTown',\n",
       "  'Cat__x8_SWISU',\n",
       "  'Cat__x8_SawyerW',\n",
       "  'Cat__x8_Somerst',\n",
       "  'Cat__x8_StoneBr',\n",
       "  'Cat__x8_Veenker',\n",
       "  'Cat__x9_Artery',\n",
       "  'Cat__x9_Feedr',\n",
       "  'Cat__x9_Norm',\n",
       "  'Cat__x9_PosN',\n",
       "  'Cat__x9_RRAe',\n",
       "  'Cat__x9_RRNe',\n",
       "  'Cat__x10_Feedr',\n",
       "  'Cat__x10_PosA',\n",
       "  'Cat__x10_PosN',\n",
       "  'Cat__x10_RRAe',\n",
       "  'Cat__x10_RRAn',\n",
       "  'Cat__x11_1Fam',\n",
       "  'Cat__x11_Duplex',\n",
       "  'Cat__x11_Twnhs',\n",
       "  'Cat__x12_SFoyer',\n",
       "  'Cat__x13_Flat',\n",
       "  'Cat__x13_Gambrel',\n",
       "  'Cat__x14_Membran',\n",
       "  'Cat__x14_Tar&Grv',\n",
       "  'Cat__x14_WdShake',\n",
       "  'Cat__x14_WdShngl',\n",
       "  'Cat__x15_BrkComm',\n",
       "  'Cat__x15_BrkFace',\n",
       "  'Cat__x15_CBlock',\n",
       "  'Cat__x15_HdBoard',\n",
       "  'Cat__x15_Plywood',\n",
       "  'Cat__x15_PreCast',\n",
       "  'Cat__x15_Stucco',\n",
       "  'Cat__x16_AsbShng',\n",
       "  'Cat__x16_Brk Cmn',\n",
       "  'Cat__x16_CBlock',\n",
       "  'Cat__x16_CmentBd',\n",
       "  'Cat__x16_Plywood',\n",
       "  'Cat__x16_PreCast',\n",
       "  'Cat__x16_VinylSd',\n",
       "  'Cat__x16_Wd Sdng',\n",
       "  'Cat__x16_Wd Shng',\n",
       "  'Cat__x17_Stone',\n",
       "  'Cat__x18_BrkTil',\n",
       "  'Cat__x18_PConc',\n",
       "  'Cat__x18_Stone',\n",
       "  'Cat__x18_Wood',\n",
       "  'Cat__x19_ALQ',\n",
       "  'Cat__x19_GLQ',\n",
       "  'Cat__x19_LwQ',\n",
       "  'Cat__x19_Rec',\n",
       "  'Cat__x19_Unf',\n",
       "  'Cat__x20_BLQ',\n",
       "  'Cat__x20_GLQ',\n",
       "  'Cat__x20_Rec',\n",
       "  'Cat__x21_Floor',\n",
       "  'Cat__x21_GasW',\n",
       "  'Cat__x21_Grav',\n",
       "  'Cat__x21_OthW',\n",
       "  'Cat__x21_Wall',\n",
       "  'Cat__x22_N',\n",
       "  'Cat__x24_Maj1',\n",
       "  'Cat__x24_Maj2',\n",
       "  'Cat__x24_Mod',\n",
       "  'Cat__x24_Typ',\n",
       "  'Cat__x25_2Types',\n",
       "  'Cat__x25_Attchd',\n",
       "  'Cat__x25_Basment',\n",
       "  'Cat__x25_BuiltIn',\n",
       "  'Cat__x25_CarPort',\n",
       "  'Cat__x26_GdPrv',\n",
       "  'Cat__x26_GdWo',\n",
       "  'Cat__x26_None',\n",
       "  'Cat__x27_None',\n",
       "  'Cat__x27_Othr',\n",
       "  'Cat__x27_TenC',\n",
       "  'Cat__x28_COD',\n",
       "  'Cat__x28_Con',\n",
       "  'Cat__x28_ConLD',\n",
       "  'Cat__x28_Oth',\n",
       "  'Cat__x29_Normal',\n",
       "  'GrLivArea',\n",
       "  'LotFrontage',\n",
       "  'LotArea',\n",
       "  'OverallQual',\n",
       "  'OverallCond',\n",
       "  'YearBuilt',\n",
       "  'YearRemodAdd',\n",
       "  'MasVnrArea',\n",
       "  'ExterQual',\n",
       "  'BsmtQual',\n",
       "  'BsmtExposure',\n",
       "  'BsmtFinSF1',\n",
       "  'BsmtFinSF2',\n",
       "  'BsmtUnfSF',\n",
       "  'HeatingQC',\n",
       "  '1stFlrSF',\n",
       "  'LowQualFinSF',\n",
       "  'BsmtFullBath',\n",
       "  'BsmtHalfBath',\n",
       "  'FullBath',\n",
       "  'HalfBath',\n",
       "  'BedroomAbvGr',\n",
       "  'KitchenAbvGr',\n",
       "  'KitchenQual',\n",
       "  'TotRmsAbvGrd',\n",
       "  'Fireplaces',\n",
       "  'FireplaceQu',\n",
       "  'GarageCars',\n",
       "  'GarageArea',\n",
       "  'GarageQual',\n",
       "  'GarageCond',\n",
       "  'PavedDrive',\n",
       "  'WoodDeckSF',\n",
       "  'OpenPorchSF',\n",
       "  'EnclosedPorch',\n",
       "  '3SsnPorch',\n",
       "  'ScreenPorch',\n",
       "  'PoolQC',\n",
       "  'MoSold'])"
      ]
     },
     "execution_count": 22,
     "metadata": {},
     "output_type": "execute_result"
    }
   ],
   "source": [
    "lasso_linear_model_score(train, test, 0.001, 'SalePrice', \n",
    "                             cat_feats,\n",
    "                             drop_cols = ['SalePrice', 'TotalBsmtSF'])"
   ]
  },
  {
   "cell_type": "code",
   "execution_count": null,
   "id": "3c04f5a4",
   "metadata": {},
   "outputs": [],
   "source": []
  }
 ],
 "metadata": {
  "kernelspec": {
   "display_name": "Python 3",
   "language": "python",
   "name": "python3"
  },
  "language_info": {
   "codemirror_mode": {
    "name": "ipython",
    "version": 3
   },
   "file_extension": ".py",
   "mimetype": "text/x-python",
   "name": "python",
   "nbconvert_exporter": "python",
   "pygments_lexer": "ipython3",
   "version": "3.8.8"
  }
 },
 "nbformat": 4,
 "nbformat_minor": 5
}
