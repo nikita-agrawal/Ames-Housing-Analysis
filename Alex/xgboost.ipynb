{
 "cells": [
  {
   "cell_type": "code",
   "execution_count": 3,
   "metadata": {},
   "outputs": [],
   "source": [
    "import pandas as pd\n",
    "import numpy as np\n",
    "from sklearn import linear_model\n",
    "from sklearn.linear_model import LinearRegression\n",
    "from sklearn.linear_model import Ridge\n",
    "from sklearn.linear_model import Lasso\n",
    "from sklearn.preprocessing import OneHotEncoder\n",
    "from sklearn.preprocessing import OrdinalEncoder\n",
    "from sklearn.compose import ColumnTransformer\n",
    "from sklearn.cluster import KMeans\n",
    "from sklearn.metrics import silhouette_samples, silhouette_score\n",
    "from sklearn.preprocessing import StandardScaler\n",
    "from sklearn.feature_selection import SelectFromModel\n",
    "from sklearn.model_selection import ShuffleSplit\n",
    "from sklearn.model_selection import cross_val_score\n",
    "from sklearn.model_selection import RepeatedKFold\n",
    "from sklearn.model_selection import GridSearchCV\n",
    "from sklearn.metrics import r2_score\n",
    "import xgboost as xgb\n",
    "from bayes_opt import BayesianOptimization\n",
    "import matplotlib.pyplot as plt\n",
    "import matplotlib.cm as cm\n",
    "import seaborn as sns\n",
    "import matplotlib.style as style\n",
    "style.use('fivethirtyeight')\n",
    "import helper"
   ]
  },
  {
   "cell_type": "code",
   "execution_count": 4,
   "metadata": {},
   "outputs": [],
   "source": [
    "colors = [\"#FF0B04\", \"#F1BE48\",\n",
    "           \"#B9975B\", \"#8B5B29\",\n",
    "           \"#524727\",\n",
    "         ]\n",
    "sns.set_palette(sns.color_palette(colors))"
   ]
  },
  {
   "cell_type": "code",
   "execution_count": 5,
   "metadata": {},
   "outputs": [],
   "source": [
    "df = pd.read_csv('Ames_Housing_Price_Data.csv', \n",
    "                             index_col=0,low_memory = False)"
   ]
  },
  {
   "cell_type": "code",
   "execution_count": 6,
   "metadata": {},
   "outputs": [],
   "source": [
    "train, test = helper.data_processing_wrapper(df, num_to_cat_list=[], remove_PID=False)"
   ]
  },
  {
   "cell_type": "code",
   "execution_count": 9,
   "metadata": {},
   "outputs": [],
   "source": [
    "train['LogSalePrice'] = np.log(train['SalePrice'])\n",
    "test['LogSalePrice'] = np.log(test['SalePrice'])"
   ]
  },
  {
   "cell_type": "code",
   "execution_count": 7,
   "metadata": {},
   "outputs": [],
   "source": [
    "categorical = train.select_dtypes(['object','bool']).columns.to_list() + ['MSSubClass']"
   ]
  },
  {
   "cell_type": "code",
   "execution_count": 8,
   "metadata": {},
   "outputs": [],
   "source": [
    "# # categorical = ['MSZoning', 'MSSubClass','Street','Alley','LotShape','LandContour','LotConfig',\n",
    "#                'LandSlope','Neighborhood','Condition1','Condition2','BldgType','HouseStyle',\n",
    "#                'RoofStyle','Foundation', 'BsmtFinType1','BsmtFinType2','Heating','GarageType',\n",
    "#                'GarageFinish','PavedDrive','MiscFeature','SaleType','SaleCondition',\n",
    "#                'BedroomAbvGr', 'CentralAir', 'Utilities', 'RoofMatl', 'Exterior1st',\n",
    "#                'Exterior2nd', 'MasVnrType', 'Electrical', 'Functional', 'Fence','KitchenAbvGr',\n",
    "#                'MoSold','YrSold'\n",
    "#               ]"
   ]
  },
  {
   "cell_type": "code",
   "execution_count": 10,
   "metadata": {},
   "outputs": [],
   "source": [
    "X_train = train.drop(['SalePrice', 'LogSalePrice', 'PID', 'TotalBsmtSF', 'GrLivArea'], axis=1)\n",
    "y_train = train['LogSalePrice']\n",
    "X_test = test.drop(['SalePrice', 'LogSalePrice', 'PID', 'TotalBsmtSF', 'GrLivArea'], axis=1)\n",
    "y_test = test['LogSalePrice']"
   ]
  },
  {
   "cell_type": "markdown",
   "metadata": {},
   "source": [
    "# XGBoost without Bayesian optimization (OneHotEncoder)"
   ]
  },
  {
   "cell_type": "code",
   "execution_count": 20,
   "metadata": {},
   "outputs": [
    {
     "name": "stdout",
     "output_type": "stream",
     "text": [
      "R2 mean: 0.886 (R2 sd: 0.025)\n",
      "RMSE mean: 0.103 (RMSE sd: 0.011)\n"
     ]
    }
   ],
   "source": [
    "transformer = ColumnTransformer([(\"Cat\", OneHotEncoder(handle_unknown = 'ignore'), categorical)], \n",
    "                                remainder='passthrough')\n",
    "\n",
    "X = transformer.fit_transform(X_train)\n",
    "y = y_train\n",
    "\n",
    "boost = xgb.XGBRegressor()\n",
    "\n",
    "cv = RepeatedKFold(n_splits=4, n_repeats=5, shuffle=True, random_state=42)\n",
    "\n",
    "scores0 = cross_val_score(boost, X, y, scoring='r2', cv=cv, n_jobs=-1)\n",
    "scores1 = cross_val_score(boost, X, y, scoring='neg_root_mean_squared_error', cv=cv, n_jobs=-1)\n",
    "\n",
    "scores1 = abs(scores1)\n",
    "\n",
    "print('R2 mean: %.3f (R2 sd: %.3f)' % (scores0.mean(), scores0.std()))\n",
    "print('RMSE mean: %.3f (RMSE sd: %.3f)' % (scores1.mean(), scores1.std()))"
   ]
  },
  {
   "cell_type": "code",
   "execution_count": 21,
   "metadata": {
    "scrolled": true
   },
   "outputs": [
    {
     "data": {
      "text/plain": [
       "GridSearchCV(cv=RepeatedKFold(n_repeats=3, n_splits=10, random_state=42),\n",
       "             estimator=XGBRegressor(base_score=None, booster=None,\n",
       "                                    colsample_bylevel=None,\n",
       "                                    colsample_bynode=None,\n",
       "                                    colsample_bytree=None, gamma=None,\n",
       "                                    gpu_id=None, importance_type='gain',\n",
       "                                    interaction_constraints=None,\n",
       "                                    learning_rate=None, max_delta_step=None,\n",
       "                                    max_depth=None, min_child_weight=None,\n",
       "                                    missing=nan, monotone_constraints=None,\n",
       "                                    n_estimators=100, n_jobs=None,\n",
       "                                    num_parallel_tree=None, random_state=None,\n",
       "                                    reg_alpha=None, reg_lambda=None,\n",
       "                                    scale_pos_weight=None, subsample=None,\n",
       "                                    tree_method=None, validate_parameters=None,\n",
       "                                    verbosity=None),\n",
       "             n_jobs=-1,\n",
       "             param_grid={'eta': [0.1, 0.3, 0.5], 'max_depth': [20, 50],\n",
       "                         'n_estimators': [1, 10, 100]},\n",
       "             scoring='r2')"
      ]
     },
     "execution_count": 21,
     "metadata": {},
     "output_type": "execute_result"
    }
   ],
   "source": [
    "X_lev1 = pd.DataFrame(X_train.loc[X_train['NhdCluster']==1, :].drop('NhdCluster', axis=1))\n",
    "y_lev1 = y_train.loc[y_train['NhdCluster']==1, :].drop('NhdCluster', axis=1)\n",
    "\n",
    "transformer = ColumnTransformer([(\"Cat\", OneHotEncoder(handle_unknown = 'ignore'), categorical)], \n",
    "                                remainder='passthrough')\n",
    "\n",
    "X_lev1 = transformer.fit_transform(X_lev1)\n",
    "\n",
    "X, y = X_lev1, y_lev1\n",
    "\n",
    "boost = xgb.XGBRegressor()\n",
    "\n",
    "param_grid = {\n",
    "    'n_estimators':[1,10,100],\n",
    "    'max_depth':[20,50],\n",
    "    'eta':[0.1,0.3,0.5]\n",
    "}\n",
    "\n",
    "cv = RepeatedKFold(n_splits=10, n_repeats=3, random_state=42)\n",
    "\n",
    "grid = GridSearchCV(boost, param_grid, scoring='r2', cv=cv, n_jobs=-1)\n",
    "\n",
    "grid.fit(X,y)"
   ]
  },
  {
   "cell_type": "code",
   "execution_count": 22,
   "metadata": {},
   "outputs": [
    {
     "data": {
      "text/plain": [
       "array([-1.20317321e+03, -1.80953274e+02,  8.93387790e-01, -1.20317321e+03,\n",
       "       -1.80953274e+02,  8.92286597e-01, -7.28372498e+02, -4.65068418e-01,\n",
       "        8.70241491e-01, -7.28372498e+02, -4.65068418e-01,  8.71306179e-01,\n",
       "       -3.72103737e+02,  8.15080429e-01,  8.27188642e-01, -3.72103737e+02,\n",
       "        8.15717915e-01,  8.27299076e-01])"
      ]
     },
     "execution_count": 22,
     "metadata": {},
     "output_type": "execute_result"
    }
   ],
   "source": [
    "grid.cv_results_['mean_test_score']"
   ]
  },
  {
   "cell_type": "code",
   "execution_count": 23,
   "metadata": {
    "scrolled": true
   },
   "outputs": [
    {
     "name": "stdout",
     "output_type": "stream",
     "text": [
      "0.8933877902308144\n",
      "{'eta': 0.1, 'max_depth': 20, 'n_estimators': 100}\n"
     ]
    }
   ],
   "source": [
    "print(grid.best_score_)\n",
    "print(grid.best_params_)"
   ]
  },
  {
   "cell_type": "code",
   "execution_count": 24,
   "metadata": {},
   "outputs": [
    {
     "data": {
      "text/plain": [
       "{'mean_fit_time': array([0.04962801, 0.10109054, 5.32231897, 0.01510062, 0.04586535,\n",
       "        5.57365414, 0.016142  , 0.09476926, 2.39631334, 0.01562136,\n",
       "        0.11872209, 2.58376935, 0.01614227, 0.39782348, 1.58660729,\n",
       "        0.01510052, 0.41761043, 1.62201571]),\n",
       " 'std_fit_time': array([0.01732489, 0.03774339, 0.58303551, 0.00280412, 0.00803278,\n",
       "        0.64019871, 0.00491245, 0.00560824, 0.18839121, 0.0040334 ,\n",
       "        0.01182822, 0.07879107, 0.00280402, 0.04767848, 0.08213524,\n",
       "        0.0028041 , 0.04754189, 0.16364342]),\n",
       " 'mean_score_time': array([0.02093448, 0.00944078, 0.01061532, 0.00833135, 0.00724804,\n",
       "        0.00983827, 0.00885224, 0.00885205, 0.00729   , 0.00729   ,\n",
       "        0.00833157, 0.00885198, 0.00676916, 0.00624846, 0.00781074,\n",
       "        0.00676935, 0.00624853, 0.00676908]),\n",
       " 'std_score_time': array([0.00866257, 0.00454361, 0.00550777, 0.00779326, 0.00624794,\n",
       "        0.00749159, 0.00774106, 0.0077409 , 0.00779334, 0.00779334,\n",
       "        0.00779347, 0.00774083, 0.00774083, 0.00765277, 0.00781074,\n",
       "        0.00774104, 0.00765285, 0.00774074]),\n",
       " 'param_eta': masked_array(data=[0.1, 0.1, 0.1, 0.1, 0.1, 0.1, 0.3, 0.3, 0.3, 0.3, 0.3,\n",
       "                    0.3, 0.5, 0.5, 0.5, 0.5, 0.5, 0.5],\n",
       "              mask=[False, False, False, False, False, False, False, False,\n",
       "                    False, False, False, False, False, False, False, False,\n",
       "                    False, False],\n",
       "        fill_value='?',\n",
       "             dtype=object),\n",
       " 'param_max_depth': masked_array(data=[20, 20, 20, 50, 50, 50, 20, 20, 20, 50, 50, 50, 20, 20,\n",
       "                    20, 50, 50, 50],\n",
       "              mask=[False, False, False, False, False, False, False, False,\n",
       "                    False, False, False, False, False, False, False, False,\n",
       "                    False, False],\n",
       "        fill_value='?',\n",
       "             dtype=object),\n",
       " 'param_n_estimators': masked_array(data=[1, 10, 100, 1, 10, 100, 1, 10, 100, 1, 10, 100, 1, 10,\n",
       "                    100, 1, 10, 100],\n",
       "              mask=[False, False, False, False, False, False, False, False,\n",
       "                    False, False, False, False, False, False, False, False,\n",
       "                    False, False],\n",
       "        fill_value='?',\n",
       "             dtype=object),\n",
       " 'params': [{'eta': 0.1, 'max_depth': 20, 'n_estimators': 1},\n",
       "  {'eta': 0.1, 'max_depth': 20, 'n_estimators': 10},\n",
       "  {'eta': 0.1, 'max_depth': 20, 'n_estimators': 100},\n",
       "  {'eta': 0.1, 'max_depth': 50, 'n_estimators': 1},\n",
       "  {'eta': 0.1, 'max_depth': 50, 'n_estimators': 10},\n",
       "  {'eta': 0.1, 'max_depth': 50, 'n_estimators': 100},\n",
       "  {'eta': 0.3, 'max_depth': 20, 'n_estimators': 1},\n",
       "  {'eta': 0.3, 'max_depth': 20, 'n_estimators': 10},\n",
       "  {'eta': 0.3, 'max_depth': 20, 'n_estimators': 100},\n",
       "  {'eta': 0.3, 'max_depth': 50, 'n_estimators': 1},\n",
       "  {'eta': 0.3, 'max_depth': 50, 'n_estimators': 10},\n",
       "  {'eta': 0.3, 'max_depth': 50, 'n_estimators': 100},\n",
       "  {'eta': 0.5, 'max_depth': 20, 'n_estimators': 1},\n",
       "  {'eta': 0.5, 'max_depth': 20, 'n_estimators': 10},\n",
       "  {'eta': 0.5, 'max_depth': 20, 'n_estimators': 100},\n",
       "  {'eta': 0.5, 'max_depth': 50, 'n_estimators': 1},\n",
       "  {'eta': 0.5, 'max_depth': 50, 'n_estimators': 10},\n",
       "  {'eta': 0.5, 'max_depth': 50, 'n_estimators': 100}],\n",
       " 'split0_test_score': array([-9.45720752e+02, -1.43157876e+02,  9.02135441e-01, -9.45720752e+02,\n",
       "        -1.43157876e+02,  9.04255523e-01, -5.73434138e+02, -2.47905474e-01,\n",
       "         8.93033568e-01, -5.73434138e+02, -2.47905474e-01,  8.90122128e-01,\n",
       "        -2.93793234e+02,  8.76025464e-01,  8.87080005e-01, -2.93793234e+02,\n",
       "         8.76025464e-01,  8.86675547e-01]),\n",
       " 'split1_test_score': array([-1.29808291e+03, -1.94787633e+02,  9.20305247e-01, -1.29808291e+03,\n",
       "        -1.94787633e+02,  9.17565389e-01, -7.86369152e+02, -4.17456118e-01,\n",
       "         8.75628813e-01, -7.86369152e+02, -4.17456118e-01,  8.84607779e-01,\n",
       "        -4.02228291e+02,  8.85089986e-01,  8.78707486e-01, -4.02228291e+02,\n",
       "         8.82364692e-01,  8.73897842e-01]),\n",
       " 'split2_test_score': array([-1.14858216e+03, -1.73206908e+02,  9.29553486e-01, -1.14858216e+03,\n",
       "        -1.73206908e+02,  9.25867286e-01, -6.95515780e+02, -5.39488939e-01,\n",
       "         8.92111236e-01, -6.95515780e+02, -5.39488939e-01,  8.94949330e-01,\n",
       "        -3.55493260e+02,  8.17387263e-01,  8.41709388e-01, -3.55493260e+02,\n",
       "         8.10728846e-01,  8.45769141e-01]),\n",
       " 'split3_test_score': array([-9.18027403e+02, -1.38818128e+02,  8.95379476e-01, -9.18027403e+02,\n",
       "        -1.38818128e+02,  8.90998108e-01, -5.56293789e+02, -2.35161700e-01,\n",
       "         8.85789869e-01, -5.56293789e+02, -2.35161700e-01,  8.86999977e-01,\n",
       "        -2.84691289e+02,  8.80128354e-01,  8.88035193e-01, -2.84691289e+02,\n",
       "         8.79651573e-01,  8.89673290e-01]),\n",
       " 'split4_test_score': array([-1.23170366e+03, -1.85432645e+02,  8.81887746e-01, -1.23170366e+03,\n",
       "        -1.85432645e+02,  8.78349513e-01, -7.45316911e+02, -5.92825060e-01,\n",
       "         8.31049644e-01, -7.45316911e+02, -5.92825060e-01,  8.34725861e-01,\n",
       "        -3.80458639e+02,  7.80137709e-01,  7.99165298e-01, -3.80458639e+02,\n",
       "         7.76576352e-01,  7.97823494e-01]),\n",
       " 'split5_test_score': array([-1.18488489e+03, -1.78427557e+02,  8.94588441e-01, -1.18488489e+03,\n",
       "        -1.78427557e+02,  8.96698296e-01, -7.17430865e+02, -6.09474862e-01,\n",
       "         8.67550757e-01, -7.17430865e+02, -6.09474862e-01,  8.68940528e-01,\n",
       "        -3.66632275e+02,  8.32692293e-01,  8.35685667e-01, -3.66632275e+02,\n",
       "         8.32846851e-01,  8.37935587e-01]),\n",
       " 'split6_test_score': array([-1.37365243e+03, -2.08432908e+02,  8.63613873e-01, -1.37365243e+03,\n",
       "        -2.08432908e+02,  8.59616240e-01, -8.32978995e+02, -5.85152579e-01,\n",
       "         8.74430164e-01, -8.32978995e+02, -5.85152579e-01,  8.70454756e-01,\n",
       "        -4.26832876e+02,  6.75473337e-01,  7.18440031e-01, -4.26832876e+02,\n",
       "         6.73770986e-01,  7.20418017e-01]),\n",
       " 'split7_test_score': array([-1.40970557e+03, -2.12449115e+02,  8.42926151e-01, -1.40970557e+03,\n",
       "        -2.12449115e+02,  8.38217674e-01, -8.53677438e+02, -6.33961604e-01,\n",
       "         8.35813792e-01, -8.53677438e+02, -6.33961604e-01,  8.33007094e-01,\n",
       "        -4.36370140e+02,  7.76086163e-01,  7.93135833e-01, -4.36370140e+02,\n",
       "         7.76052253e-01,  7.85024340e-01]),\n",
       " 'split8_test_score': array([-1.21828354e+03, -1.81169351e+02,  9.13915251e-01, -1.21828354e+03,\n",
       "        -1.81169351e+02,  9.13985652e-01, -7.36008200e+02, -2.73572436e-01,\n",
       "         9.07592154e-01, -7.36008200e+02, -2.73572436e-01,  8.99853023e-01,\n",
       "        -3.74616904e+02,  8.67977490e-01,  8.68042370e-01, -3.74616904e+02,\n",
       "         8.67722358e-01,  8.72712874e-01]),\n",
       " 'split9_test_score': array([-1.28468857e+03, -1.90866913e+02,  8.79768854e-01, -1.28468857e+03,\n",
       "        -1.90866913e+02,  8.75022501e-01, -7.75642007e+02, -4.24707844e-01,\n",
       "         8.52806552e-01, -7.75642007e+02, -4.24707844e-01,  8.49621999e-01,\n",
       "        -3.94346090e+02,  7.89482786e-01,  7.93054930e-01, -3.94346090e+02,\n",
       "         7.84499796e-01,  7.84995955e-01]),\n",
       " 'split10_test_score': array([-1.28013074e+03, -1.92179442e+02,  8.79728509e-01, -1.28013074e+03,\n",
       "        -1.92179442e+02,  8.81505819e-01, -7.74601288e+02, -6.52931179e-01,\n",
       "         8.65781224e-01, -7.74601288e+02, -6.52931179e-01,  8.73920852e-01,\n",
       "        -3.95389605e+02,  7.79649437e-01,  8.08381090e-01, -3.95389605e+02,\n",
       "         7.87438154e-01,  7.97513090e-01]),\n",
       " 'split11_test_score': array([-1.39447660e+03, -2.09616081e+02,  9.06391583e-01, -1.39447660e+03,\n",
       "        -2.09616081e+02,  9.09709510e-01, -8.43579179e+02, -6.84464876e-01,\n",
       "         9.00802265e-01, -8.43579179e+02, -6.84464876e-01,  8.94229542e-01,\n",
       "        -4.30403857e+02,  8.16963094e-01,  8.27069919e-01, -4.30403857e+02,\n",
       "         8.16963094e-01,  8.25077328e-01]),\n",
       " 'split12_test_score': array([-9.44856576e+02, -1.42022814e+02,  8.97371822e-01, -9.44856576e+02,\n",
       "        -1.42022814e+02,  8.93945267e-01, -5.71862915e+02, -2.71853159e-01,\n",
       "         8.62715565e-01, -5.71862915e+02, -2.71853159e-01,  8.69524815e-01,\n",
       "        -2.92026768e+02,  8.28242555e-01,  8.55105370e-01, -2.92026768e+02,\n",
       "         8.28850196e-01,  8.56774066e-01]),\n",
       " 'split13_test_score': array([-1.08711596e+03, -1.63654020e+02,  8.85173205e-01, -1.08711596e+03,\n",
       "        -1.63654020e+02,  8.81684371e-01, -6.58323193e+02, -3.84310094e-01,\n",
       "         8.82266714e-01, -6.58323193e+02, -3.84310094e-01,  8.82720169e-01,\n",
       "        -3.36508923e+02,  8.40556954e-01,  8.35288706e-01, -3.36508923e+02,\n",
       "         8.34557046e-01,  8.34576009e-01]),\n",
       " 'split14_test_score': array([-1.18971055e+03, -1.78976530e+02,  9.19448524e-01, -1.18971055e+03,\n",
       "        -1.78976530e+02,  9.18319157e-01, -7.19848572e+02, -5.84621906e-01,\n",
       "         9.08987528e-01, -7.19848572e+02, -5.84621906e-01,  9.06969972e-01,\n",
       "        -3.67404773e+02,  8.27042175e-01,  8.56936333e-01, -3.67404773e+02,\n",
       "         8.27729515e-01,  8.57761449e-01]),\n",
       " 'split15_test_score': array([-1.32783145e+03, -1.98346133e+02,  8.70624751e-01, -1.32783145e+03,\n",
       "        -1.98346133e+02,  8.70274152e-01, -8.02762656e+02, -4.79520891e-01,\n",
       "         8.24456676e-01, -8.02762656e+02, -4.79520891e-01,  8.21184312e-01,\n",
       "        -4.09119936e+02,  7.95085415e-01,  8.01323971e-01, -4.09119936e+02,\n",
       "         7.95201117e-01,  8.02092693e-01]),\n",
       " 'split16_test_score': array([-1.14536879e+03, -1.73122714e+02,  8.88529732e-01, -1.14536879e+03,\n",
       "        -1.73122714e+02,  8.89579403e-01, -6.94254774e+02, -5.61630724e-01,\n",
       "         8.76587736e-01, -6.94254774e+02, -5.61630724e-01,  8.74778607e-01,\n",
       "        -3.55478301e+02,  8.11534352e-01,  8.27487623e-01, -3.55478301e+02,\n",
       "         8.14568328e-01,  8.28755255e-01]),\n",
       " 'split17_test_score': array([-1.36441153e+03, -2.05188218e+02,  9.03098357e-01, -1.36441153e+03,\n",
       "        -2.05188218e+02,  9.06891784e-01, -8.25879047e+02, -5.81186649e-01,\n",
       "         8.63128844e-01, -8.25879047e+02, -5.81186649e-01,  8.69448839e-01,\n",
       "        -4.21820963e+02,  8.24777115e-01,  8.35878628e-01, -4.21820963e+02,\n",
       "         8.26274041e-01,  8.35565764e-01]),\n",
       " 'split18_test_score': array([-1.11763086e+03, -1.67573635e+02,  9.19220855e-01, -1.11763086e+03,\n",
       "        -1.67573635e+02,  9.17736450e-01, -6.76640664e+02, -2.34140694e-01,\n",
       "         8.91562495e-01, -6.76640664e+02, -2.34140694e-01,  8.94605935e-01,\n",
       "        -3.45723778e+02,  8.32886398e-01,  8.44414689e-01, -3.45723778e+02,\n",
       "         8.34319841e-01,  8.42082633e-01]),\n",
       " 'split19_test_score': array([-1.07030407e+03, -1.62610774e+02,  8.74503647e-01, -1.07030407e+03,\n",
       "        -1.62610774e+02,  8.74885957e-01, -6.49474140e+02, -3.24995521e-01,\n",
       "         8.46186190e-01, -6.49474140e+02, -3.24995521e-01,  8.46749654e-01,\n",
       "        -3.33210776e+02,  7.88345568e-01,  7.92183527e-01, -3.33210776e+02,\n",
       "         7.88345568e-01,  7.88644240e-01]),\n",
       " 'split20_test_score': array([-1.09416004e+03, -1.62778400e+02,  9.11497573e-01, -1.09416004e+03,\n",
       "        -1.62778400e+02,  9.09447853e-01, -6.61243737e+02, -2.68910823e-01,\n",
       "         8.66971283e-01, -6.61243737e+02, -2.68910823e-01,  8.71676720e-01,\n",
       "        -3.36767680e+02,  8.59379978e-01,  8.64066608e-01, -3.36767680e+02,\n",
       "         8.64709619e-01,  8.72784094e-01]),\n",
       " 'split21_test_score': array([-1.06132275e+03, -1.58354671e+02,  8.72300452e-01, -1.06132275e+03,\n",
       "        -1.58354671e+02,  8.70802903e-01, -6.41022355e+02, -3.29314048e-01,\n",
       "         8.45793603e-01, -6.41022355e+02, -3.29314048e-01,  8.46544537e-01,\n",
       "        -3.26123497e+02,  8.27103808e-01,  8.42375796e-01, -3.26123497e+02,\n",
       "         8.27335798e-01,  8.43388469e-01]),\n",
       " 'split22_test_score': array([-1.51637588e+03, -2.27699152e+02,  8.81252369e-01, -1.51637588e+03,\n",
       "        -2.27699152e+02,  8.75500945e-01, -9.17878532e+02, -7.06363228e-01,\n",
       "         8.49545558e-01, -9.17878532e+02, -7.06363228e-01,  8.43633564e-01,\n",
       "        -4.68824279e+02,  7.93638797e-01,  7.84252866e-01, -4.68824279e+02,\n",
       "         7.89028788e-01,  7.77939104e-01]),\n",
       " 'split23_test_score': array([-9.03460078e+02, -1.38508385e+02,  9.01420514e-01, -9.03460078e+02,\n",
       "        -1.38508385e+02,  9.04301821e-01, -5.49217021e+02, -3.82091616e-01,\n",
       "         8.96567864e-01, -5.49217021e+02, -3.82091616e-01,  9.02426879e-01,\n",
       "        -2.82681970e+02,  8.39093122e-01,  8.60650218e-01, -2.82681970e+02,\n",
       "         8.40100317e-01,  8.53626718e-01]),\n",
       " 'split24_test_score': array([-1.07252202e+03, -1.62244814e+02,  8.78650521e-01, -1.07252202e+03,\n",
       "        -1.62244814e+02,  8.78368781e-01, -6.49814260e+02, -4.44092248e-01,\n",
       "         8.50493753e-01, -6.49814260e+02, -4.44092248e-01,  8.58869205e-01,\n",
       "        -3.32461533e+02,  7.83773632e-01,  8.04963609e-01, -3.32461533e+02,\n",
       "         7.86032984e-01,  8.08149462e-01]),\n",
       " 'split25_test_score': array([-1.56144294e+03, -2.34768784e+02,  8.71436469e-01, -1.56144294e+03,\n",
       "        -2.34768784e+02,  8.70698973e-01, -9.45482317e+02, -7.41414775e-01,\n",
       "         8.84797920e-01, -9.45482317e+02, -7.41414775e-01,  8.79847435e-01,\n",
       "        -4.83221339e+02,  8.24793900e-01,  8.30560982e-01, -4.83221339e+02,\n",
       "         8.24424013e-01,  8.30270514e-01]),\n",
       " 'split26_test_score': array([-1.19243561e+03, -1.80720844e+02,  8.95935655e-01, -1.19243561e+03,\n",
       "        -1.80720844e+02,  8.94769275e-01, -7.22932461e+02, -5.00104631e-01,\n",
       "         8.84216455e-01, -7.22932461e+02, -5.00104631e-01,  8.86992642e-01,\n",
       "        -3.70298705e+02,  7.68607505e-01,  7.73989847e-01, -3.70298705e+02,\n",
       "         7.70451059e-01,  7.77814641e-01]),\n",
       " 'split27_test_score': array([-1.13192933e+03, -1.68988617e+02,  9.31599119e-01, -1.13192933e+03,\n",
       "        -1.68988617e+02,  9.28402829e-01, -6.84137182e+02, -3.33452177e-01,\n",
       "         8.87032746e-01, -6.84137182e+02, -3.33452177e-01,  8.82598192e-01,\n",
       "        -3.48489566e+02,  8.48958796e-01,  8.73279228e-01, -3.48489566e+02,\n",
       "         8.48000621e-01,  8.69625960e-01]),\n",
       " 'split28_test_score': array([-1.25428076e+03, -1.89584895e+02,  9.03145231e-01, -1.25428076e+03,\n",
       "        -1.89584895e+02,  8.97789174e-01, -7.59986464e+02, -4.64398045e-01,\n",
       "         8.39489577e-01, -7.59986464e+02, -4.64398045e-01,  8.52277761e-01,\n",
       "        -3.88873618e+02,  7.86355180e-01,  7.96603213e-01, -3.88873618e+02,\n",
       "         7.86344688e-01,  7.98571349e-01]),\n",
       " 'split29_test_score': array([-1.37209780e+03, -2.04910260e+02,  8.86230856e-01, -1.37209780e+03,\n",
       "        -2.04910260e+02,  8.93407292e-01, -8.29566919e+02, -4.62548633e-01,\n",
       "         8.64054175e-01, -8.29566919e+02, -4.62548633e-01,  8.66903270e-01,\n",
       "        -4.22819231e+02,  7.95144230e-01,  7.97790828e-01, -4.22819231e+02,\n",
       "         8.20623505e-01,  8.23033357e-01]),\n",
       " 'mean_test_score': array([-1.20317321e+03, -1.80953274e+02,  8.93387790e-01, -1.20317321e+03,\n",
       "        -1.80953274e+02,  8.92286597e-01, -7.28372498e+02, -4.65068418e-01,\n",
       "         8.70241491e-01, -7.28372498e+02, -4.65068418e-01,  8.71306179e-01,\n",
       "        -3.72103737e+02,  8.15080429e-01,  8.27188642e-01, -3.72103737e+02,\n",
       "         8.15717915e-01,  8.27299076e-01]),\n",
       " 'std_test_score': array([1.66709422e+02, 2.47828169e+01, 2.02986934e-02, 1.66709422e+02,\n",
       "        2.47828169e+01, 2.07663939e-02, 1.00676765e+02, 1.50682975e-01,\n",
       "        2.26445126e-02, 1.00676765e+02, 1.50682975e-01, 2.18892360e-02,\n",
       "        5.12182694e+01, 4.13754260e-02, 3.78573595e-02, 5.12182694e+01,\n",
       "        4.13509281e-02, 3.83189755e-02]),\n",
       " 'rank_test_score': array([17, 11,  1, 17, 11,  2, 15,  9,  4, 15,  9,  3, 13,  8,  6, 13,  7,\n",
       "         5])}"
      ]
     },
     "execution_count": 24,
     "metadata": {},
     "output_type": "execute_result"
    }
   ],
   "source": [
    "grid.cv_results_"
   ]
  },
  {
   "cell_type": "code",
   "execution_count": 25,
   "metadata": {
    "scrolled": true
   },
   "outputs": [
    {
     "data": {
      "text/plain": [
       "[0.9021354414324422,\n",
       " 0.9203052466148268,\n",
       " 0.9295534858545904,\n",
       " 0.8953794757357484,\n",
       " 0.8818877456904464,\n",
       " 0.8945884409252188,\n",
       " 0.8636138733271731,\n",
       " 0.842926151280365,\n",
       " 0.9139152505367595,\n",
       " 0.8797688538274939,\n",
       " 0.87972850852065,\n",
       " 0.9063915834946734,\n",
       " 0.897371822474615,\n",
       " 0.8851732050329469,\n",
       " 0.9194485236155613,\n",
       " 0.8706247508185866,\n",
       " 0.888529731772314,\n",
       " 0.9030983567546818,\n",
       " 0.9192208551335039,\n",
       " 0.8745036468331083,\n",
       " 0.911497572601394,\n",
       " 0.8723004518991375,\n",
       " 0.8812523687833839,\n",
       " 0.9014205136817683,\n",
       " 0.8786505210926323,\n",
       " 0.8714364692813373,\n",
       " 0.8959356550278209,\n",
       " 0.9315991186487997,\n",
       " 0.9031452305247738,\n",
       " 0.8862308557076761]"
      ]
     },
     "execution_count": 25,
     "metadata": {},
     "output_type": "execute_result"
    }
   ],
   "source": [
    "split_scores_best_params = [grid.cv_results_[f'split{j}_test_score'][grid.best_index_] for j in range(30)]\n",
    "split_scores_best_params"
   ]
  },
  {
   "cell_type": "code",
   "execution_count": 26,
   "metadata": {},
   "outputs": [
    {
     "data": {
      "text/plain": [
       "0.8933877902308144"
      ]
     },
     "execution_count": 26,
     "metadata": {},
     "output_type": "execute_result"
    }
   ],
   "source": [
    "np.mean(split_scores_best_params)"
   ]
  },
  {
   "cell_type": "markdown",
   "metadata": {},
   "source": [
    "# XGBoost without Bayesian optimization (OrdinalEncoder)"
   ]
  },
  {
   "cell_type": "code",
   "execution_count": 27,
   "metadata": {},
   "outputs": [
    {
     "name": "stdout",
     "output_type": "stream",
     "text": [
      "R2 mean: 0.879 (R2 sd: 0.024)\n",
      "RMSE mean: 0.106 (RMSE sd: 0.010)\n"
     ]
    }
   ],
   "source": [
    "X_lev1 = pd.DataFrame(X_train.loc[X_train['NhdCluster']==1, :].drop('NhdCluster', axis=1))\n",
    "y_lev1 = y_train.loc[y_train['NhdCluster']==1, :].drop('NhdCluster', axis=1)\n",
    "\n",
    "transformer = ColumnTransformer([(\"Cat\", OrdinalEncoder(), categorical)], \n",
    "                                remainder='passthrough')\n",
    "\n",
    "X_lev1 = transformer.fit_transform(X_lev1)\n",
    "\n",
    "X, y = X_lev1, y_lev1\n",
    "\n",
    "boost = xgb.XGBRegressor()\n",
    "\n",
    "cv = RepeatedKFold(n_splits=10, n_repeats=3, random_state=42)\n",
    "\n",
    "scores0 = cross_val_score(boost, X, y, scoring='r2', cv=cv, n_jobs=-1)\n",
    "scores1 = cross_val_score(boost, X, y, scoring='neg_root_mean_squared_error', cv=cv, n_jobs=-1)\n",
    "\n",
    "scores1 = abs(scores1)\n",
    "\n",
    "print('R2 mean: %.3f (R2 sd: %.3f)' % (scores0.mean(), scores0.std()))\n",
    "print('RMSE mean: %.3f (RMSE sd: %.3f)' % (scores1.mean(), scores1.std()))"
   ]
  },
  {
   "cell_type": "code",
   "execution_count": 28,
   "metadata": {
    "scrolled": true
   },
   "outputs": [
    {
     "data": {
      "text/plain": [
       "GridSearchCV(cv=RepeatedKFold(n_repeats=3, n_splits=10, random_state=42),\n",
       "             estimator=XGBRegressor(base_score=None, booster=None,\n",
       "                                    colsample_bylevel=None,\n",
       "                                    colsample_bynode=None,\n",
       "                                    colsample_bytree=None, gamma=None,\n",
       "                                    gpu_id=None, importance_type='gain',\n",
       "                                    interaction_constraints=None,\n",
       "                                    learning_rate=None, max_delta_step=None,\n",
       "                                    max_depth=None, min_child_weight=None,\n",
       "                                    missing=nan, monotone_constraints=None,\n",
       "                                    n_estimators=100, n_jobs=None,\n",
       "                                    num_parallel_tree=None, random_state=None,\n",
       "                                    reg_alpha=None, reg_lambda=None,\n",
       "                                    scale_pos_weight=None, subsample=None,\n",
       "                                    tree_method=None, validate_parameters=None,\n",
       "                                    verbosity=None),\n",
       "             n_jobs=-1,\n",
       "             param_grid={'eta': [0.1, 0.3, 0.5], 'max_depth': [20, 50],\n",
       "                         'n_estimators': [1, 10, 100]},\n",
       "             scoring='r2')"
      ]
     },
     "execution_count": 28,
     "metadata": {},
     "output_type": "execute_result"
    }
   ],
   "source": [
    "X_lev1 = pd.DataFrame(X_train.loc[X_train['NhdCluster']==1, :].drop('NhdCluster', axis=1))\n",
    "y_lev1 = y_train.loc[y_train['NhdCluster']==1, :].drop('NhdCluster', axis=1)\n",
    "\n",
    "transformer = ColumnTransformer([(\"Cat\", OneHotEncoder(handle_unknown = 'ignore'), categorical)], \n",
    "                                remainder='passthrough')\n",
    "\n",
    "X_lev1 = transformer.fit_transform(X_lev1)\n",
    "\n",
    "X, y = X_lev1, y_lev1\n",
    "\n",
    "boost = xgb.XGBRegressor()\n",
    "\n",
    "param_grid = {\n",
    "    'n_estimators':[1,10,100],\n",
    "    'max_depth':[20,50],\n",
    "    'eta':[0.1,0.3,0.5]\n",
    "}\n",
    "\n",
    "cv = RepeatedKFold(n_splits=10, n_repeats=3, random_state=42)\n",
    "\n",
    "grid = GridSearchCV(boost, param_grid, scoring='r2', cv=cv, n_jobs=-1)\n",
    "\n",
    "grid.fit(X,y)"
   ]
  },
  {
   "cell_type": "code",
   "execution_count": 29,
   "metadata": {},
   "outputs": [
    {
     "data": {
      "text/plain": [
       "array([-1.20317321e+03, -1.80953274e+02,  8.93387790e-01, -1.20317321e+03,\n",
       "       -1.80953274e+02,  8.92286597e-01, -7.28372498e+02, -4.65068418e-01,\n",
       "        8.70241491e-01, -7.28372498e+02, -4.65068418e-01,  8.71306179e-01,\n",
       "       -3.72103737e+02,  8.15080429e-01,  8.27188642e-01, -3.72103737e+02,\n",
       "        8.15717915e-01,  8.27299076e-01])"
      ]
     },
     "execution_count": 29,
     "metadata": {},
     "output_type": "execute_result"
    }
   ],
   "source": [
    "grid.cv_results_['mean_test_score']"
   ]
  },
  {
   "cell_type": "code",
   "execution_count": 30,
   "metadata": {
    "scrolled": true
   },
   "outputs": [
    {
     "name": "stdout",
     "output_type": "stream",
     "text": [
      "0.8933877902308144\n",
      "{'eta': 0.1, 'max_depth': 20, 'n_estimators': 100}\n"
     ]
    }
   ],
   "source": [
    "print(grid.best_score_)\n",
    "print(grid.best_params_)"
   ]
  },
  {
   "cell_type": "code",
   "execution_count": 31,
   "metadata": {},
   "outputs": [
    {
     "data": {
      "text/plain": [
       "{'mean_fit_time': array([0.06035566, 0.15774478, 5.85250514, 0.01484338, 0.05261375,\n",
       "        5.2116305 , 0.01770441, 0.10116136, 2.83343139, 0.01540083,\n",
       "        0.15192143, 3.63477524, 0.02573116, 0.55442383, 1.75195542,\n",
       "        0.01562139, 0.44342097, 1.69985882]),\n",
       " 'std_fit_time': array([1.37104039e-02, 1.94574322e-02, 8.06813872e-01, 4.75432750e-03,\n",
       "        8.89469746e-03, 3.67879311e-01, 5.31016637e-03, 1.28637997e-02,\n",
       "        6.79530020e-01, 3.38222489e-03, 3.64777784e-02, 4.46863623e-01,\n",
       "        6.47711148e-03, 9.64703025e-02, 1.93762953e-01, 5.06635585e-07,\n",
       "        2.62948980e-02, 1.82325145e-01]),\n",
       " 'mean_score_time': array([0.02430034, 0.01472876, 0.01100345, 0.00697989, 0.00758309,\n",
       "        0.00781061, 0.00624837, 0.0087527 , 0.01040379, 0.00904829,\n",
       "        0.00697018, 0.01124968, 0.01053765, 0.01253215, 0.00797727,\n",
       "        0.00781074, 0.00758976, 0.0087647 ]),\n",
       " 'std_score_time': array([0.01124602, 0.0028283 , 0.00845624, 0.00736632, 0.00472902,\n",
       "        0.00781061, 0.00765266, 0.00732886, 0.00551745, 0.00731147,\n",
       "        0.00580188, 0.00353367, 0.00220956, 0.00553896, 0.00702076,\n",
       "        0.00781074, 0.00684106, 0.00162779]),\n",
       " 'param_eta': masked_array(data=[0.1, 0.1, 0.1, 0.1, 0.1, 0.1, 0.3, 0.3, 0.3, 0.3, 0.3,\n",
       "                    0.3, 0.5, 0.5, 0.5, 0.5, 0.5, 0.5],\n",
       "              mask=[False, False, False, False, False, False, False, False,\n",
       "                    False, False, False, False, False, False, False, False,\n",
       "                    False, False],\n",
       "        fill_value='?',\n",
       "             dtype=object),\n",
       " 'param_max_depth': masked_array(data=[20, 20, 20, 50, 50, 50, 20, 20, 20, 50, 50, 50, 20, 20,\n",
       "                    20, 50, 50, 50],\n",
       "              mask=[False, False, False, False, False, False, False, False,\n",
       "                    False, False, False, False, False, False, False, False,\n",
       "                    False, False],\n",
       "        fill_value='?',\n",
       "             dtype=object),\n",
       " 'param_n_estimators': masked_array(data=[1, 10, 100, 1, 10, 100, 1, 10, 100, 1, 10, 100, 1, 10,\n",
       "                    100, 1, 10, 100],\n",
       "              mask=[False, False, False, False, False, False, False, False,\n",
       "                    False, False, False, False, False, False, False, False,\n",
       "                    False, False],\n",
       "        fill_value='?',\n",
       "             dtype=object),\n",
       " 'params': [{'eta': 0.1, 'max_depth': 20, 'n_estimators': 1},\n",
       "  {'eta': 0.1, 'max_depth': 20, 'n_estimators': 10},\n",
       "  {'eta': 0.1, 'max_depth': 20, 'n_estimators': 100},\n",
       "  {'eta': 0.1, 'max_depth': 50, 'n_estimators': 1},\n",
       "  {'eta': 0.1, 'max_depth': 50, 'n_estimators': 10},\n",
       "  {'eta': 0.1, 'max_depth': 50, 'n_estimators': 100},\n",
       "  {'eta': 0.3, 'max_depth': 20, 'n_estimators': 1},\n",
       "  {'eta': 0.3, 'max_depth': 20, 'n_estimators': 10},\n",
       "  {'eta': 0.3, 'max_depth': 20, 'n_estimators': 100},\n",
       "  {'eta': 0.3, 'max_depth': 50, 'n_estimators': 1},\n",
       "  {'eta': 0.3, 'max_depth': 50, 'n_estimators': 10},\n",
       "  {'eta': 0.3, 'max_depth': 50, 'n_estimators': 100},\n",
       "  {'eta': 0.5, 'max_depth': 20, 'n_estimators': 1},\n",
       "  {'eta': 0.5, 'max_depth': 20, 'n_estimators': 10},\n",
       "  {'eta': 0.5, 'max_depth': 20, 'n_estimators': 100},\n",
       "  {'eta': 0.5, 'max_depth': 50, 'n_estimators': 1},\n",
       "  {'eta': 0.5, 'max_depth': 50, 'n_estimators': 10},\n",
       "  {'eta': 0.5, 'max_depth': 50, 'n_estimators': 100}],\n",
       " 'split0_test_score': array([-9.45720752e+02, -1.43157876e+02,  9.02135441e-01, -9.45720752e+02,\n",
       "        -1.43157876e+02,  9.04255523e-01, -5.73434138e+02, -2.47905474e-01,\n",
       "         8.93033568e-01, -5.73434138e+02, -2.47905474e-01,  8.90122128e-01,\n",
       "        -2.93793234e+02,  8.76025464e-01,  8.87080005e-01, -2.93793234e+02,\n",
       "         8.76025464e-01,  8.86675547e-01]),\n",
       " 'split1_test_score': array([-1.29808291e+03, -1.94787633e+02,  9.20305247e-01, -1.29808291e+03,\n",
       "        -1.94787633e+02,  9.17565389e-01, -7.86369152e+02, -4.17456118e-01,\n",
       "         8.75628813e-01, -7.86369152e+02, -4.17456118e-01,  8.84607779e-01,\n",
       "        -4.02228291e+02,  8.85089986e-01,  8.78707486e-01, -4.02228291e+02,\n",
       "         8.82364692e-01,  8.73897842e-01]),\n",
       " 'split2_test_score': array([-1.14858216e+03, -1.73206908e+02,  9.29553486e-01, -1.14858216e+03,\n",
       "        -1.73206908e+02,  9.25867286e-01, -6.95515780e+02, -5.39488939e-01,\n",
       "         8.92111236e-01, -6.95515780e+02, -5.39488939e-01,  8.94949330e-01,\n",
       "        -3.55493260e+02,  8.17387263e-01,  8.41709388e-01, -3.55493260e+02,\n",
       "         8.10728846e-01,  8.45769141e-01]),\n",
       " 'split3_test_score': array([-9.18027403e+02, -1.38818128e+02,  8.95379476e-01, -9.18027403e+02,\n",
       "        -1.38818128e+02,  8.90998108e-01, -5.56293789e+02, -2.35161700e-01,\n",
       "         8.85789869e-01, -5.56293789e+02, -2.35161700e-01,  8.86999977e-01,\n",
       "        -2.84691289e+02,  8.80128354e-01,  8.88035193e-01, -2.84691289e+02,\n",
       "         8.79651573e-01,  8.89673290e-01]),\n",
       " 'split4_test_score': array([-1.23170366e+03, -1.85432645e+02,  8.81887746e-01, -1.23170366e+03,\n",
       "        -1.85432645e+02,  8.78349513e-01, -7.45316911e+02, -5.92825060e-01,\n",
       "         8.31049644e-01, -7.45316911e+02, -5.92825060e-01,  8.34725861e-01,\n",
       "        -3.80458639e+02,  7.80137709e-01,  7.99165298e-01, -3.80458639e+02,\n",
       "         7.76576352e-01,  7.97823494e-01]),\n",
       " 'split5_test_score': array([-1.18488489e+03, -1.78427557e+02,  8.94588441e-01, -1.18488489e+03,\n",
       "        -1.78427557e+02,  8.96698296e-01, -7.17430865e+02, -6.09474862e-01,\n",
       "         8.67550757e-01, -7.17430865e+02, -6.09474862e-01,  8.68940528e-01,\n",
       "        -3.66632275e+02,  8.32692293e-01,  8.35685667e-01, -3.66632275e+02,\n",
       "         8.32846851e-01,  8.37935587e-01]),\n",
       " 'split6_test_score': array([-1.37365243e+03, -2.08432908e+02,  8.63613873e-01, -1.37365243e+03,\n",
       "        -2.08432908e+02,  8.59616240e-01, -8.32978995e+02, -5.85152579e-01,\n",
       "         8.74430164e-01, -8.32978995e+02, -5.85152579e-01,  8.70454756e-01,\n",
       "        -4.26832876e+02,  6.75473337e-01,  7.18440031e-01, -4.26832876e+02,\n",
       "         6.73770986e-01,  7.20418017e-01]),\n",
       " 'split7_test_score': array([-1.40970557e+03, -2.12449115e+02,  8.42926151e-01, -1.40970557e+03,\n",
       "        -2.12449115e+02,  8.38217674e-01, -8.53677438e+02, -6.33961604e-01,\n",
       "         8.35813792e-01, -8.53677438e+02, -6.33961604e-01,  8.33007094e-01,\n",
       "        -4.36370140e+02,  7.76086163e-01,  7.93135833e-01, -4.36370140e+02,\n",
       "         7.76052253e-01,  7.85024340e-01]),\n",
       " 'split8_test_score': array([-1.21828354e+03, -1.81169351e+02,  9.13915251e-01, -1.21828354e+03,\n",
       "        -1.81169351e+02,  9.13985652e-01, -7.36008200e+02, -2.73572436e-01,\n",
       "         9.07592154e-01, -7.36008200e+02, -2.73572436e-01,  8.99853023e-01,\n",
       "        -3.74616904e+02,  8.67977490e-01,  8.68042370e-01, -3.74616904e+02,\n",
       "         8.67722358e-01,  8.72712874e-01]),\n",
       " 'split9_test_score': array([-1.28468857e+03, -1.90866913e+02,  8.79768854e-01, -1.28468857e+03,\n",
       "        -1.90866913e+02,  8.75022501e-01, -7.75642007e+02, -4.24707844e-01,\n",
       "         8.52806552e-01, -7.75642007e+02, -4.24707844e-01,  8.49621999e-01,\n",
       "        -3.94346090e+02,  7.89482786e-01,  7.93054930e-01, -3.94346090e+02,\n",
       "         7.84499796e-01,  7.84995955e-01]),\n",
       " 'split10_test_score': array([-1.28013074e+03, -1.92179442e+02,  8.79728509e-01, -1.28013074e+03,\n",
       "        -1.92179442e+02,  8.81505819e-01, -7.74601288e+02, -6.52931179e-01,\n",
       "         8.65781224e-01, -7.74601288e+02, -6.52931179e-01,  8.73920852e-01,\n",
       "        -3.95389605e+02,  7.79649437e-01,  8.08381090e-01, -3.95389605e+02,\n",
       "         7.87438154e-01,  7.97513090e-01]),\n",
       " 'split11_test_score': array([-1.39447660e+03, -2.09616081e+02,  9.06391583e-01, -1.39447660e+03,\n",
       "        -2.09616081e+02,  9.09709510e-01, -8.43579179e+02, -6.84464876e-01,\n",
       "         9.00802265e-01, -8.43579179e+02, -6.84464876e-01,  8.94229542e-01,\n",
       "        -4.30403857e+02,  8.16963094e-01,  8.27069919e-01, -4.30403857e+02,\n",
       "         8.16963094e-01,  8.25077328e-01]),\n",
       " 'split12_test_score': array([-9.44856576e+02, -1.42022814e+02,  8.97371822e-01, -9.44856576e+02,\n",
       "        -1.42022814e+02,  8.93945267e-01, -5.71862915e+02, -2.71853159e-01,\n",
       "         8.62715565e-01, -5.71862915e+02, -2.71853159e-01,  8.69524815e-01,\n",
       "        -2.92026768e+02,  8.28242555e-01,  8.55105370e-01, -2.92026768e+02,\n",
       "         8.28850196e-01,  8.56774066e-01]),\n",
       " 'split13_test_score': array([-1.08711596e+03, -1.63654020e+02,  8.85173205e-01, -1.08711596e+03,\n",
       "        -1.63654020e+02,  8.81684371e-01, -6.58323193e+02, -3.84310094e-01,\n",
       "         8.82266714e-01, -6.58323193e+02, -3.84310094e-01,  8.82720169e-01,\n",
       "        -3.36508923e+02,  8.40556954e-01,  8.35288706e-01, -3.36508923e+02,\n",
       "         8.34557046e-01,  8.34576009e-01]),\n",
       " 'split14_test_score': array([-1.18971055e+03, -1.78976530e+02,  9.19448524e-01, -1.18971055e+03,\n",
       "        -1.78976530e+02,  9.18319157e-01, -7.19848572e+02, -5.84621906e-01,\n",
       "         9.08987528e-01, -7.19848572e+02, -5.84621906e-01,  9.06969972e-01,\n",
       "        -3.67404773e+02,  8.27042175e-01,  8.56936333e-01, -3.67404773e+02,\n",
       "         8.27729515e-01,  8.57761449e-01]),\n",
       " 'split15_test_score': array([-1.32783145e+03, -1.98346133e+02,  8.70624751e-01, -1.32783145e+03,\n",
       "        -1.98346133e+02,  8.70274152e-01, -8.02762656e+02, -4.79520891e-01,\n",
       "         8.24456676e-01, -8.02762656e+02, -4.79520891e-01,  8.21184312e-01,\n",
       "        -4.09119936e+02,  7.95085415e-01,  8.01323971e-01, -4.09119936e+02,\n",
       "         7.95201117e-01,  8.02092693e-01]),\n",
       " 'split16_test_score': array([-1.14536879e+03, -1.73122714e+02,  8.88529732e-01, -1.14536879e+03,\n",
       "        -1.73122714e+02,  8.89579403e-01, -6.94254774e+02, -5.61630724e-01,\n",
       "         8.76587736e-01, -6.94254774e+02, -5.61630724e-01,  8.74778607e-01,\n",
       "        -3.55478301e+02,  8.11534352e-01,  8.27487623e-01, -3.55478301e+02,\n",
       "         8.14568328e-01,  8.28755255e-01]),\n",
       " 'split17_test_score': array([-1.36441153e+03, -2.05188218e+02,  9.03098357e-01, -1.36441153e+03,\n",
       "        -2.05188218e+02,  9.06891784e-01, -8.25879047e+02, -5.81186649e-01,\n",
       "         8.63128844e-01, -8.25879047e+02, -5.81186649e-01,  8.69448839e-01,\n",
       "        -4.21820963e+02,  8.24777115e-01,  8.35878628e-01, -4.21820963e+02,\n",
       "         8.26274041e-01,  8.35565764e-01]),\n",
       " 'split18_test_score': array([-1.11763086e+03, -1.67573635e+02,  9.19220855e-01, -1.11763086e+03,\n",
       "        -1.67573635e+02,  9.17736450e-01, -6.76640664e+02, -2.34140694e-01,\n",
       "         8.91562495e-01, -6.76640664e+02, -2.34140694e-01,  8.94605935e-01,\n",
       "        -3.45723778e+02,  8.32886398e-01,  8.44414689e-01, -3.45723778e+02,\n",
       "         8.34319841e-01,  8.42082633e-01]),\n",
       " 'split19_test_score': array([-1.07030407e+03, -1.62610774e+02,  8.74503647e-01, -1.07030407e+03,\n",
       "        -1.62610774e+02,  8.74885957e-01, -6.49474140e+02, -3.24995521e-01,\n",
       "         8.46186190e-01, -6.49474140e+02, -3.24995521e-01,  8.46749654e-01,\n",
       "        -3.33210776e+02,  7.88345568e-01,  7.92183527e-01, -3.33210776e+02,\n",
       "         7.88345568e-01,  7.88644240e-01]),\n",
       " 'split20_test_score': array([-1.09416004e+03, -1.62778400e+02,  9.11497573e-01, -1.09416004e+03,\n",
       "        -1.62778400e+02,  9.09447853e-01, -6.61243737e+02, -2.68910823e-01,\n",
       "         8.66971283e-01, -6.61243737e+02, -2.68910823e-01,  8.71676720e-01,\n",
       "        -3.36767680e+02,  8.59379978e-01,  8.64066608e-01, -3.36767680e+02,\n",
       "         8.64709619e-01,  8.72784094e-01]),\n",
       " 'split21_test_score': array([-1.06132275e+03, -1.58354671e+02,  8.72300452e-01, -1.06132275e+03,\n",
       "        -1.58354671e+02,  8.70802903e-01, -6.41022355e+02, -3.29314048e-01,\n",
       "         8.45793603e-01, -6.41022355e+02, -3.29314048e-01,  8.46544537e-01,\n",
       "        -3.26123497e+02,  8.27103808e-01,  8.42375796e-01, -3.26123497e+02,\n",
       "         8.27335798e-01,  8.43388469e-01]),\n",
       " 'split22_test_score': array([-1.51637588e+03, -2.27699152e+02,  8.81252369e-01, -1.51637588e+03,\n",
       "        -2.27699152e+02,  8.75500945e-01, -9.17878532e+02, -7.06363228e-01,\n",
       "         8.49545558e-01, -9.17878532e+02, -7.06363228e-01,  8.43633564e-01,\n",
       "        -4.68824279e+02,  7.93638797e-01,  7.84252866e-01, -4.68824279e+02,\n",
       "         7.89028788e-01,  7.77939104e-01]),\n",
       " 'split23_test_score': array([-9.03460078e+02, -1.38508385e+02,  9.01420514e-01, -9.03460078e+02,\n",
       "        -1.38508385e+02,  9.04301821e-01, -5.49217021e+02, -3.82091616e-01,\n",
       "         8.96567864e-01, -5.49217021e+02, -3.82091616e-01,  9.02426879e-01,\n",
       "        -2.82681970e+02,  8.39093122e-01,  8.60650218e-01, -2.82681970e+02,\n",
       "         8.40100317e-01,  8.53626718e-01]),\n",
       " 'split24_test_score': array([-1.07252202e+03, -1.62244814e+02,  8.78650521e-01, -1.07252202e+03,\n",
       "        -1.62244814e+02,  8.78368781e-01, -6.49814260e+02, -4.44092248e-01,\n",
       "         8.50493753e-01, -6.49814260e+02, -4.44092248e-01,  8.58869205e-01,\n",
       "        -3.32461533e+02,  7.83773632e-01,  8.04963609e-01, -3.32461533e+02,\n",
       "         7.86032984e-01,  8.08149462e-01]),\n",
       " 'split25_test_score': array([-1.56144294e+03, -2.34768784e+02,  8.71436469e-01, -1.56144294e+03,\n",
       "        -2.34768784e+02,  8.70698973e-01, -9.45482317e+02, -7.41414775e-01,\n",
       "         8.84797920e-01, -9.45482317e+02, -7.41414775e-01,  8.79847435e-01,\n",
       "        -4.83221339e+02,  8.24793900e-01,  8.30560982e-01, -4.83221339e+02,\n",
       "         8.24424013e-01,  8.30270514e-01]),\n",
       " 'split26_test_score': array([-1.19243561e+03, -1.80720844e+02,  8.95935655e-01, -1.19243561e+03,\n",
       "        -1.80720844e+02,  8.94769275e-01, -7.22932461e+02, -5.00104631e-01,\n",
       "         8.84216455e-01, -7.22932461e+02, -5.00104631e-01,  8.86992642e-01,\n",
       "        -3.70298705e+02,  7.68607505e-01,  7.73989847e-01, -3.70298705e+02,\n",
       "         7.70451059e-01,  7.77814641e-01]),\n",
       " 'split27_test_score': array([-1.13192933e+03, -1.68988617e+02,  9.31599119e-01, -1.13192933e+03,\n",
       "        -1.68988617e+02,  9.28402829e-01, -6.84137182e+02, -3.33452177e-01,\n",
       "         8.87032746e-01, -6.84137182e+02, -3.33452177e-01,  8.82598192e-01,\n",
       "        -3.48489566e+02,  8.48958796e-01,  8.73279228e-01, -3.48489566e+02,\n",
       "         8.48000621e-01,  8.69625960e-01]),\n",
       " 'split28_test_score': array([-1.25428076e+03, -1.89584895e+02,  9.03145231e-01, -1.25428076e+03,\n",
       "        -1.89584895e+02,  8.97789174e-01, -7.59986464e+02, -4.64398045e-01,\n",
       "         8.39489577e-01, -7.59986464e+02, -4.64398045e-01,  8.52277761e-01,\n",
       "        -3.88873618e+02,  7.86355180e-01,  7.96603213e-01, -3.88873618e+02,\n",
       "         7.86344688e-01,  7.98571349e-01]),\n",
       " 'split29_test_score': array([-1.37209780e+03, -2.04910260e+02,  8.86230856e-01, -1.37209780e+03,\n",
       "        -2.04910260e+02,  8.93407292e-01, -8.29566919e+02, -4.62548633e-01,\n",
       "         8.64054175e-01, -8.29566919e+02, -4.62548633e-01,  8.66903270e-01,\n",
       "        -4.22819231e+02,  7.95144230e-01,  7.97790828e-01, -4.22819231e+02,\n",
       "         8.20623505e-01,  8.23033357e-01]),\n",
       " 'mean_test_score': array([-1.20317321e+03, -1.80953274e+02,  8.93387790e-01, -1.20317321e+03,\n",
       "        -1.80953274e+02,  8.92286597e-01, -7.28372498e+02, -4.65068418e-01,\n",
       "         8.70241491e-01, -7.28372498e+02, -4.65068418e-01,  8.71306179e-01,\n",
       "        -3.72103737e+02,  8.15080429e-01,  8.27188642e-01, -3.72103737e+02,\n",
       "         8.15717915e-01,  8.27299076e-01]),\n",
       " 'std_test_score': array([1.66709422e+02, 2.47828169e+01, 2.02986934e-02, 1.66709422e+02,\n",
       "        2.47828169e+01, 2.07663939e-02, 1.00676765e+02, 1.50682975e-01,\n",
       "        2.26445126e-02, 1.00676765e+02, 1.50682975e-01, 2.18892360e-02,\n",
       "        5.12182694e+01, 4.13754260e-02, 3.78573595e-02, 5.12182694e+01,\n",
       "        4.13509281e-02, 3.83189755e-02]),\n",
       " 'rank_test_score': array([17, 11,  1, 17, 11,  2, 15,  9,  4, 15,  9,  3, 13,  8,  6, 13,  7,\n",
       "         5])}"
      ]
     },
     "execution_count": 31,
     "metadata": {},
     "output_type": "execute_result"
    }
   ],
   "source": [
    "grid.cv_results_"
   ]
  },
  {
   "cell_type": "code",
   "execution_count": 32,
   "metadata": {
    "scrolled": true
   },
   "outputs": [
    {
     "data": {
      "text/plain": [
       "[0.9021354414324422,\n",
       " 0.9203052466148268,\n",
       " 0.9295534858545904,\n",
       " 0.8953794757357484,\n",
       " 0.8818877456904464,\n",
       " 0.8945884409252188,\n",
       " 0.8636138733271731,\n",
       " 0.842926151280365,\n",
       " 0.9139152505367595,\n",
       " 0.8797688538274939,\n",
       " 0.87972850852065,\n",
       " 0.9063915834946734,\n",
       " 0.897371822474615,\n",
       " 0.8851732050329469,\n",
       " 0.9194485236155613,\n",
       " 0.8706247508185866,\n",
       " 0.888529731772314,\n",
       " 0.9030983567546818,\n",
       " 0.9192208551335039,\n",
       " 0.8745036468331083,\n",
       " 0.911497572601394,\n",
       " 0.8723004518991375,\n",
       " 0.8812523687833839,\n",
       " 0.9014205136817683,\n",
       " 0.8786505210926323,\n",
       " 0.8714364692813373,\n",
       " 0.8959356550278209,\n",
       " 0.9315991186487997,\n",
       " 0.9031452305247738,\n",
       " 0.8862308557076761]"
      ]
     },
     "execution_count": 32,
     "metadata": {},
     "output_type": "execute_result"
    }
   ],
   "source": [
    "split_scores_best_params = [grid.cv_results_[f'split{j}_test_score'][grid.best_index_] for j in range(30)]\n",
    "split_scores_best_params"
   ]
  },
  {
   "cell_type": "code",
   "execution_count": 33,
   "metadata": {},
   "outputs": [
    {
     "data": {
      "text/plain": [
       "0.8933877902308144"
      ]
     },
     "execution_count": 33,
     "metadata": {},
     "output_type": "execute_result"
    }
   ],
   "source": [
    "np.mean(split_scores_best_params)"
   ]
  },
  {
   "cell_type": "markdown",
   "metadata": {},
   "source": [
    "# XGBoost with Bayesian Optimization (OneHotEncoder)"
   ]
  },
  {
   "cell_type": "code",
   "execution_count": 13,
   "metadata": {},
   "outputs": [],
   "source": [
    "xgb.set_config(verbosity=0)"
   ]
  },
  {
   "cell_type": "code",
   "execution_count": 14,
   "metadata": {},
   "outputs": [],
   "source": [
    "def bo_tune_xgb(max_depth, gamma, n_estimators, learning_rate):\n",
    "    params = {'max_depth':int(max_depth), \n",
    "              'gamma':gamma, \n",
    "             'n_estimators':int(n_estimators), \n",
    "             'learning_rate':learning_rate,\n",
    "             'subsample': 0.8,\n",
    "             'eta':0.1,\n",
    "             'eval_metric':'rmse'}\n",
    "    cv_result = xgb.cv(params, dtrain, nfold=5, seed=42)\n",
    "    return -1.0 * cv_result['test-rmse-mean'].iloc[-1]"
   ]
  },
  {
   "cell_type": "code",
   "execution_count": 23,
   "metadata": {},
   "outputs": [
    {
     "name": "stdout",
     "output_type": "stream",
     "text": [
      "|   iter    |  target   |   gamma   | learni... | max_depth | n_esti... |\n",
      "-------------------------------------------------------------------------\n",
      "| \u001b[0m 1       \u001b[0m | \u001b[0m-0.1602  \u001b[0m | \u001b[0m 0.3745  \u001b[0m | \u001b[0m 0.9507  \u001b[0m | \u001b[0m 8.124   \u001b[0m | \u001b[0m 112.0   \u001b[0m |\n",
      "| \u001b[0m 2       \u001b[0m | \u001b[0m-2.136   \u001b[0m | \u001b[0m 0.156   \u001b[0m | \u001b[0m 0.156   \u001b[0m | \u001b[0m 3.407   \u001b[0m | \u001b[0m 117.3   \u001b[0m |\n",
      "| \u001b[95m 3       \u001b[0m | \u001b[95m-0.1535  \u001b[0m | \u001b[95m 0.6011  \u001b[0m | \u001b[95m 0.7081  \u001b[0m | \u001b[95m 3.144   \u001b[0m | \u001b[95m 119.4   \u001b[0m |\n",
      "| \u001b[0m 4       \u001b[0m | \u001b[0m-1.084   \u001b[0m | \u001b[0m 0.8324  \u001b[0m | \u001b[0m 0.2123  \u001b[0m | \u001b[0m 4.273   \u001b[0m | \u001b[0m 103.7   \u001b[0m |\n",
      "| \u001b[95m 5       \u001b[0m | \u001b[95m-0.1411  \u001b[0m | \u001b[95m 0.3042  \u001b[0m | \u001b[95m 0.5248  \u001b[0m | \u001b[95m 6.024   \u001b[0m | \u001b[95m 105.8   \u001b[0m |\n",
      "| \u001b[0m 6       \u001b[0m | \u001b[0m-2.586   \u001b[0m | \u001b[0m 0.6119  \u001b[0m | \u001b[0m 0.1395  \u001b[0m | \u001b[0m 5.045   \u001b[0m | \u001b[0m 107.3   \u001b[0m |\n",
      "| \u001b[0m 7       \u001b[0m | \u001b[0m-0.1499  \u001b[0m | \u001b[0m 0.4561  \u001b[0m | \u001b[0m 0.7852  \u001b[0m | \u001b[0m 4.398   \u001b[0m | \u001b[0m 110.3   \u001b[0m |\n",
      "| \u001b[0m 8       \u001b[0m | \u001b[0m-7.174   \u001b[0m | \u001b[0m 0.5924  \u001b[0m | \u001b[0m 0.04645 \u001b[0m | \u001b[0m 7.253   \u001b[0m | \u001b[0m 103.4   \u001b[0m |\n",
      "| \u001b[95m 9       \u001b[0m | \u001b[95m-0.1397  \u001b[0m | \u001b[95m 0.2622  \u001b[0m | \u001b[95m 0.4912  \u001b[0m | \u001b[95m 5.935   \u001b[0m | \u001b[95m 105.8   \u001b[0m |\n",
      "| \u001b[0m 10      \u001b[0m | \u001b[0m-0.1537  \u001b[0m | \u001b[0m 0.4181  \u001b[0m | \u001b[0m 0.8845  \u001b[0m | \u001b[0m 5.45    \u001b[0m | \u001b[0m 111.0   \u001b[0m |\n",
      "| \u001b[0m 11      \u001b[0m | \u001b[0m-0.1793  \u001b[0m | \u001b[0m 0.04846 \u001b[0m | \u001b[0m 1.0     \u001b[0m | \u001b[0m 7.038   \u001b[0m | \u001b[0m 111.2   \u001b[0m |\n",
      "| \u001b[0m 12      \u001b[0m | \u001b[0m-0.1755  \u001b[0m | \u001b[0m 1.0     \u001b[0m | \u001b[0m 0.3893  \u001b[0m | \u001b[0m 6.733   \u001b[0m | \u001b[0m 112.2   \u001b[0m |\n",
      "| \u001b[0m 13      \u001b[0m | \u001b[0m-0.1569  \u001b[0m | \u001b[0m 0.7731  \u001b[0m | \u001b[0m 0.7931  \u001b[0m | \u001b[0m 3.965   \u001b[0m | \u001b[0m 111.8   \u001b[0m |\n",
      "=========================================================================\n"
     ]
    }
   ],
   "source": [
    "transformer = ColumnTransformer([('Cat',OneHotEncoder(handle_unknown='ignore'), categorical)], remainder='passthrough')   \n",
    "X = transformer.fit_transform(X_train)\n",
    "\n",
    "y = y_train\n",
    "\n",
    "dtrain = xgb.DMatrix(X, y, enable_categorical=True)\n",
    "\n",
    "\n",
    "\n",
    "xgb_bo = BayesianOptimization(bo_tune_xgb, {'max_depth':(3,10), \n",
    "                                           'gamma':(0,1),\n",
    "                                           'learning_rate':(0,1),\n",
    "                                           'n_estimators':(100,120)},\n",
    "                             random_state = 42)\n",
    "\n",
    "xgb_bo.maximize(n_iter=5, init_points=8, acq='ei')"
   ]
  },
  {
   "cell_type": "code",
   "execution_count": 24,
   "metadata": {
    "scrolled": true
   },
   "outputs": [
    {
     "name": "stdout",
     "output_type": "stream",
     "text": [
      "{'gamma': 0.26217155174161544, 'learning_rate': 0.49115317431045047, 'max_depth': 5.93465859048152, 'n_estimators': 105.82458656462529}\n"
     ]
    }
   ],
   "source": [
    "params = xgb_bo.max['params']\n",
    "print(params)"
   ]
  },
  {
   "cell_type": "code",
   "execution_count": 25,
   "metadata": {},
   "outputs": [],
   "source": [
    "params['max_depth']= int(params['max_depth'])\n",
    "params['n_estimators']= int(params['n_estimators'])"
   ]
  },
  {
   "cell_type": "code",
   "execution_count": 26,
   "metadata": {},
   "outputs": [],
   "source": [
    "boost = xgb.XGBRegressor(**params).fit(X,y)\n",
    "predicts = boost.predict(X)"
   ]
  },
  {
   "cell_type": "code",
   "execution_count": 27,
   "metadata": {},
   "outputs": [
    {
     "data": {
      "text/plain": [
       "0.9209476517322885"
      ]
     },
     "execution_count": 27,
     "metadata": {},
     "output_type": "execute_result"
    }
   ],
   "source": [
    "r2_score(y,predicts)"
   ]
  },
  {
   "cell_type": "code",
   "execution_count": 28,
   "metadata": {},
   "outputs": [
    {
     "data": {
      "text/plain": [
       "0.8682456181880124"
      ]
     },
     "execution_count": 28,
     "metadata": {},
     "output_type": "execute_result"
    }
   ],
   "source": [
    "X_tst = transformer.transform(X_test)\n",
    "predicts_tst = boost.predict(X_tst)\n",
    "r2_score(y_test,predicts_tst)"
   ]
  },
  {
   "cell_type": "markdown",
   "metadata": {},
   "source": [
    "# XGBoost with Bayesian Optimization (OrdinalEncoder)"
   ]
  },
  {
   "cell_type": "code",
   "execution_count": 41,
   "metadata": {},
   "outputs": [],
   "source": [
    "X = pd.DataFrame(X_train.loc[X_train['NhdCluster']==1, :].drop('NhdCluster', axis=1))\n",
    "for col in X.loc[:,X.dtypes=='object'].columns:\n",
    "    X[col] = X[col].astype(\"category\")\n",
    "cats = X.loc[:,X.dtypes=='category'].columns.to_list()\n",
    "transformer = ColumnTransformer([('Cat',OrdinalEncoder(),cats)], remainder='passthrough')   \n",
    "X = transformer.fit_transform(X)"
   ]
  },
  {
   "cell_type": "code",
   "execution_count": 42,
   "metadata": {},
   "outputs": [],
   "source": [
    "xgb.set_config(verbosity=0)"
   ]
  },
  {
   "cell_type": "code",
   "execution_count": 43,
   "metadata": {},
   "outputs": [
    {
     "name": "stdout",
     "output_type": "stream",
     "text": [
      "|   iter    |  target   |   gamma   | learni... | max_depth | n_esti... |\n",
      "-------------------------------------------------------------------------\n",
      "| \u001b[0m 1       \u001b[0m | \u001b[0m-0.153   \u001b[0m | \u001b[0m 0.3745  \u001b[0m | \u001b[0m 0.9507  \u001b[0m | \u001b[0m 8.124   \u001b[0m | \u001b[0m 112.0   \u001b[0m |\n",
      "| \u001b[0m 2       \u001b[0m | \u001b[0m-2.185   \u001b[0m | \u001b[0m 0.156   \u001b[0m | \u001b[0m 0.156   \u001b[0m | \u001b[0m 3.407   \u001b[0m | \u001b[0m 117.3   \u001b[0m |\n",
      "| \u001b[95m 3       \u001b[0m | \u001b[95m-0.1513  \u001b[0m | \u001b[95m 0.6011  \u001b[0m | \u001b[95m 0.7081  \u001b[0m | \u001b[95m 3.144   \u001b[0m | \u001b[95m 119.4   \u001b[0m |\n",
      "| \u001b[0m 4       \u001b[0m | \u001b[0m-1.112   \u001b[0m | \u001b[0m 0.8324  \u001b[0m | \u001b[0m 0.2123  \u001b[0m | \u001b[0m 4.273   \u001b[0m | \u001b[0m 103.7   \u001b[0m |\n",
      "| \u001b[95m 5       \u001b[0m | \u001b[95m-0.1432  \u001b[0m | \u001b[95m 0.3042  \u001b[0m | \u001b[95m 0.5248  \u001b[0m | \u001b[95m 6.024   \u001b[0m | \u001b[95m 105.8   \u001b[0m |\n",
      "| \u001b[0m 6       \u001b[0m | \u001b[0m-2.644   \u001b[0m | \u001b[0m 0.6119  \u001b[0m | \u001b[0m 0.1395  \u001b[0m | \u001b[0m 5.045   \u001b[0m | \u001b[0m 107.3   \u001b[0m |\n",
      "| \u001b[0m 7       \u001b[0m | \u001b[0m-0.149   \u001b[0m | \u001b[0m 0.4561  \u001b[0m | \u001b[0m 0.7852  \u001b[0m | \u001b[0m 4.398   \u001b[0m | \u001b[0m 110.3   \u001b[0m |\n",
      "| \u001b[0m 8       \u001b[0m | \u001b[0m-7.332   \u001b[0m | \u001b[0m 0.5924  \u001b[0m | \u001b[0m 0.04645 \u001b[0m | \u001b[0m 7.253   \u001b[0m | \u001b[0m 103.4   \u001b[0m |\n",
      "| \u001b[0m 9       \u001b[0m | \u001b[0m-0.1461  \u001b[0m | \u001b[0m 0.2622  \u001b[0m | \u001b[0m 0.4912  \u001b[0m | \u001b[0m 5.935   \u001b[0m | \u001b[0m 105.8   \u001b[0m |\n",
      "| \u001b[0m 10      \u001b[0m | \u001b[0m-0.156   \u001b[0m | \u001b[0m 0.5669  \u001b[0m | \u001b[0m 0.8318  \u001b[0m | \u001b[0m 5.617   \u001b[0m | \u001b[0m 111.0   \u001b[0m |\n",
      "| \u001b[0m 11      \u001b[0m | \u001b[0m-0.1675  \u001b[0m | \u001b[0m 0.0     \u001b[0m | \u001b[0m 1.0     \u001b[0m | \u001b[0m 6.845   \u001b[0m | \u001b[0m 111.7   \u001b[0m |\n",
      "| \u001b[0m 12      \u001b[0m | \u001b[0m-0.1642  \u001b[0m | \u001b[0m 0.0     \u001b[0m | \u001b[0m 1.0     \u001b[0m | \u001b[0m 4.401   \u001b[0m | \u001b[0m 111.7   \u001b[0m |\n",
      "| \u001b[0m 13      \u001b[0m | \u001b[0m-11.78   \u001b[0m | \u001b[0m 1.0     \u001b[0m | \u001b[0m 0.0     \u001b[0m | \u001b[0m 4.345   \u001b[0m | \u001b[0m 111.4   \u001b[0m |\n",
      "=========================================================================\n"
     ]
    }
   ],
   "source": [
    "y = y_train.loc[y_train['NhdCluster']==1, :].drop('NhdCluster', axis=1)\n",
    "\n",
    "dtrain = xgb.DMatrix(X, y, enable_categorical=True)\n",
    "\n",
    "def bo_tune_xgb(max_depth, gamma, n_estimators, learning_rate):\n",
    "    params = {'max_depth':int(max_depth), \n",
    "              'gamma':gamma, \n",
    "             'n_estimators':int(n_estimators), \n",
    "             'learning_rate':learning_rate,\n",
    "             'subsample': 0.8,\n",
    "             'eta':0.1,\n",
    "             'eval_metric':'rmse'}\n",
    "    cv_result = xgb.cv(params, dtrain, nfold=5, seed=42)\n",
    "    return -1.0 * cv_result['test-rmse-mean'].iloc[-1]\n",
    "\n",
    "xgb_bo = BayesianOptimization(bo_tune_xgb, {'max_depth':(3,10), \n",
    "                                           'gamma':(0,1),\n",
    "                                           'learning_rate':(0,1),\n",
    "                                           'n_estimators':(100,120)},\n",
    "                             random_state = 42)\n",
    "\n",
    "xgb_bo.maximize(n_iter=5, init_points=8, acq='ei')"
   ]
  },
  {
   "cell_type": "code",
   "execution_count": 44,
   "metadata": {
    "scrolled": true
   },
   "outputs": [
    {
     "name": "stdout",
     "output_type": "stream",
     "text": [
      "{'gamma': 0.3042422429595377, 'learning_rate': 0.5247564316322378, 'max_depth': 6.023615130494811, 'n_estimators': 105.82458280396084}\n"
     ]
    }
   ],
   "source": [
    "params = xgb_bo.max['params']\n",
    "print(params)"
   ]
  },
  {
   "cell_type": "code",
   "execution_count": 45,
   "metadata": {},
   "outputs": [],
   "source": [
    "params['max_depth']= int(params['max_depth'])\n",
    "params['n_estimators']= int(params['n_estimators'])"
   ]
  },
  {
   "cell_type": "code",
   "execution_count": 46,
   "metadata": {},
   "outputs": [],
   "source": [
    "boost = xgb.XGBRegressor(**params).fit(X,y)\n",
    "predicts = boost.predict(X)"
   ]
  },
  {
   "cell_type": "code",
   "execution_count": 47,
   "metadata": {},
   "outputs": [
    {
     "data": {
      "text/plain": [
       "0.8766893502385911"
      ]
     },
     "execution_count": 47,
     "metadata": {},
     "output_type": "execute_result"
    }
   ],
   "source": [
    "r2_score(y,predicts)"
   ]
  }
 ],
 "metadata": {
  "kernelspec": {
   "display_name": "Python 3",
   "language": "python",
   "name": "python3"
  },
  "language_info": {
   "codemirror_mode": {
    "name": "ipython",
    "version": 3
   },
   "file_extension": ".py",
   "mimetype": "text/x-python",
   "name": "python",
   "nbconvert_exporter": "python",
   "pygments_lexer": "ipython3",
   "version": "3.8.5"
  }
 },
 "nbformat": 4,
 "nbformat_minor": 5
}
