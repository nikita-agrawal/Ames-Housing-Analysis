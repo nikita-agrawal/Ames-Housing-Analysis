{
 "cells": [
  {
   "cell_type": "code",
   "execution_count": 15,
   "metadata": {},
   "outputs": [],
   "source": [
    "import pandas as pd\n",
    "import numpy as np\n",
    "from sklearn import linear_model\n",
    "from sklearn.linear_model import LinearRegression\n",
    "from sklearn.linear_model import Ridge\n",
    "from sklearn.linear_model import Lasso\n",
    "from sklearn.preprocessing import OneHotEncoder\n",
    "from sklearn.compose import ColumnTransformer\n",
    "from sklearn.cluster import KMeans\n",
    "from sklearn.metrics import silhouette_samples, silhouette_score\n",
    "from sklearn.preprocessing import StandardScaler\n",
    "from sklearn.feature_selection import SelectFromModel\n",
    "from sklearn.model_selection import ShuffleSplit\n",
    "from sklearn.model_selection import cross_val_score\n",
    "from sklearn.model_selection import RepeatedKFold\n",
    "from sklearn.model_selection import KFold\n",
    "from sklearn.model_selection import GridSearchCV\n",
    "from sklearn.pipeline import Pipeline\n",
    "from scipy import stats\n",
    "import xgboost as xgb\n",
    "import matplotlib.pyplot as plt\n",
    "import seaborn as sns\n",
    "import matplotlib.style as style\n",
    "style.use('fivethirtyeight')\n",
    "import matplotlib.cm as cm\n",
    "import helper"
   ]
  },
  {
   "cell_type": "code",
   "execution_count": 2,
   "metadata": {},
   "outputs": [],
   "source": [
    "colors = [\"#FF0B04\", \"#F1BE48\",\n",
    "           \"#B9975B\", \"#8B5B29\",\n",
    "           \"#524727\",\n",
    "         ]\n",
    "sns.set_palette(sns.color_palette(colors))"
   ]
  },
  {
   "cell_type": "code",
   "execution_count": 3,
   "metadata": {},
   "outputs": [],
   "source": [
    "df = pd.read_csv('Ames_Housing_Price_Data.csv', \n",
    "                             index_col=0,low_memory = False)"
   ]
  },
  {
   "cell_type": "code",
   "execution_count": 4,
   "metadata": {},
   "outputs": [],
   "source": [
    "train, test = helper.data_processing_wrapper(df, num_to_cat_list=[], remove_PID=False)"
   ]
  },
  {
   "cell_type": "code",
   "execution_count": 5,
   "metadata": {},
   "outputs": [],
   "source": [
    "train['LogSalePrice'] = np.log(train['SalePrice'])\n",
    "test['LogSalePrice'] = np.log(test['SalePrice'])"
   ]
  },
  {
   "cell_type": "code",
   "execution_count": 6,
   "metadata": {},
   "outputs": [],
   "source": [
    "categorical = train.select_dtypes(['object','bool']).columns.to_list()"
   ]
  },
  {
   "cell_type": "code",
   "execution_count": 7,
   "metadata": {},
   "outputs": [],
   "source": [
    "nhds = train.groupby('Neighborhood').median()[['LogSalePrice']]\n",
    "nhds['LogSalePrice'] = stats.zscore(nhds['LogSalePrice'])"
   ]
  },
  {
   "cell_type": "code",
   "execution_count": 8,
   "metadata": {},
   "outputs": [],
   "source": [
    "def segment(y):\n",
    "    if round(y,2) < -0.75:\n",
    "        return 0\n",
    "    elif (round(y,2) >= -0.75) and (round(y,2) < 0.75):\n",
    "        return 1\n",
    "    else:\n",
    "        return 2"
   ]
  },
  {
   "cell_type": "code",
   "execution_count": 9,
   "metadata": {},
   "outputs": [],
   "source": [
    "nhds['Segment'] = nhds.apply(lambda x: segment(x['LogSalePrice']),axis = 1)\n",
    "nhds.sort_values('LogSalePrice')\n",
    "seg_dict = nhds.drop('LogSalePrice', axis=1).to_dict()['Segment']"
   ]
  },
  {
   "cell_type": "code",
   "execution_count": 10,
   "metadata": {},
   "outputs": [],
   "source": [
    "train['Segment'] = train.apply(lambda x: seg_dict[x['Neighborhood']], axis=1)\n",
    "test['Segment'] = test.apply(lambda x: seg_dict[x['Neighborhood']], axis=1)"
   ]
  },
  {
   "cell_type": "code",
   "execution_count": 11,
   "metadata": {},
   "outputs": [],
   "source": [
    "X0_train = train.loc[train['Segment']==0,:].drop(['SalePrice', 'LogSalePrice', 'PID', 'TotalBsmtSF', 'GrLivArea', 'Segment'], axis=1)\n",
    "y0_train = train.loc[train['Segment']==0, 'LogSalePrice']\n",
    "X0_test = test.loc[test['Segment']==0,:].drop(['SalePrice', 'LogSalePrice', 'PID', 'TotalBsmtSF', 'GrLivArea', 'Segment'], axis=1)\n",
    "y0_test = test.loc[test['Segment']==0, 'LogSalePrice']\n",
    "X1_train = train.loc[train['Segment']==1,:].drop(['SalePrice', 'LogSalePrice', 'PID', 'TotalBsmtSF', 'GrLivArea', 'Segment'], axis=1)\n",
    "y1_train = train.loc[train['Segment']==1, 'LogSalePrice']\n",
    "X1_test = test.loc[test['Segment']==1,:].drop(['SalePrice', 'LogSalePrice', 'PID', 'TotalBsmtSF', 'GrLivArea', 'Segment'], axis=1)\n",
    "y1_test = test.loc[test['Segment']==1, 'LogSalePrice']\n",
    "X2_train = train.loc[train['Segment']==2,:].drop(['SalePrice', 'LogSalePrice', 'PID', 'TotalBsmtSF', 'GrLivArea', 'Segment'], axis=1)\n",
    "y2_train = train.loc[train['Segment']==2, 'LogSalePrice']\n",
    "X2_test = test.loc[test['Segment']==2,:].drop(['SalePrice', 'LogSalePrice', 'PID', 'TotalBsmtSF', 'GrLivArea', 'Segment'], axis=1)\n",
    "y2_test = test.loc[test['Segment']==2, 'LogSalePrice']"
   ]
  },
  {
   "cell_type": "code",
   "execution_count": 12,
   "metadata": {
    "scrolled": false
   },
   "outputs": [
    {
     "name": "stdout",
     "output_type": "stream",
     "text": [
      "(448, 77)\n",
      "(1058, 77)\n",
      "(365, 77)\n",
      "\n",
      "\n",
      "(448,)\n",
      "(1058,)\n",
      "(365,)\n",
      "\n",
      "\n",
      "(151, 77)\n",
      "(352, 77)\n",
      "(121, 77)\n",
      "\n",
      "\n",
      "(151,)\n",
      "(352,)\n",
      "(121,)\n"
     ]
    }
   ],
   "source": [
    "print(X0_train.shape)\n",
    "print(X1_train.shape)\n",
    "print(X2_train.shape)\n",
    "print('\\n')\n",
    "print(y0_train.shape)\n",
    "print(y1_train.shape)\n",
    "print(y2_train.shape)\n",
    "print('\\n')\n",
    "print(X0_test.shape)\n",
    "print(X1_test.shape)\n",
    "print(X2_test.shape)\n",
    "print('\\n')\n",
    "print(y0_test.shape)\n",
    "print(y1_test.shape)\n",
    "print(y2_test.shape)"
   ]
  },
  {
   "cell_type": "code",
   "execution_count": 16,
   "metadata": {},
   "outputs": [],
   "source": [
    "def Lasso_select(X, y, alpha):\n",
    "\n",
    "    pipe = Pipeline(\n",
    "        [\n",
    "            ('transformer', ColumnTransformer([(\"Cat\", OneHotEncoder(handle_unknown = 'ignore'), categorical)], \n",
    "                                                remainder='passthrough')),\n",
    "            ('scaler', StandardScaler(with_mean=False))\n",
    "        ]\n",
    "    )\n",
    "    \n",
    "    X = pipe.fit_transform(X)\n",
    "\n",
    "    cv = KFold(n_splits=4, shuffle=True, random_state=42)\n",
    "\n",
    "    cross = cross_val_score(Lasso(alpha=alpha, max_iter=10000), X, y, scoring='r2', cv=cv, n_jobs=-1)\n",
    "    \n",
    "    selector = SelectFromModel(Lasso(alpha=alpha, max_iter=10000))\n",
    "    selector.fit(X,y)\n",
    "    num_features = np.sum(selector.get_support())\n",
    "    \n",
    "    return cross, num_features"
   ]
  },
  {
   "cell_type": "code",
   "execution_count": 17,
   "metadata": {
    "scrolled": false
   },
   "outputs": [
    {
     "name": "stdout",
     "output_type": "stream",
     "text": [
      "(array([0.78941879, 0.76863669, 0.72941127, 0.66847486]), 171)\n",
      "(array([0.79817129, 0.78525107, 0.77375949, 0.6763447 ]), 169)\n",
      "(array([0.84104472, 0.82330012, 0.82245825, 0.73584817]), 137)\n",
      "(array([0.82073526, 0.85426339, 0.82676473, 0.77259892]), 45)\n",
      "(array([0.45329195, 0.50554314, 0.46004183, 0.39552772]), 3)\n"
     ]
    }
   ],
   "source": [
    "for alpha in np.logspace(-5, -1, 5):\n",
    "    print(Lasso_select(X0_train,y0_train,alpha))"
   ]
  },
  {
   "cell_type": "code",
   "execution_count": 18,
   "metadata": {},
   "outputs": [
    {
     "name": "stdout",
     "output_type": "stream",
     "text": [
      "(array([0.85240851, 0.89211622, 0.89601581, 0.8804302 ]), 183)\n",
      "(array([0.85880552, 0.89333105, 0.89892948, 0.89224062]), 176)\n",
      "(array([0.87665655, 0.90040676, 0.91032468, 0.91019296]), 131)\n",
      "(array([0.87556795, 0.87537563, 0.89184603, 0.87375896]), 31)\n",
      "(array([0.41619543, 0.42964148, 0.44899612, 0.38193065]), 3)\n"
     ]
    }
   ],
   "source": [
    "for alpha in np.logspace(-5, -1, 5):\n",
    "    print(Lasso_select(X1_train,y1_train,alpha))"
   ]
  },
  {
   "cell_type": "code",
   "execution_count": 19,
   "metadata": {},
   "outputs": [
    {
     "name": "stdout",
     "output_type": "stream",
     "text": [
      "(array([0.81788142, 0.62022047, 0.63117031, 0.68286282]), 140)\n",
      "(array([0.89087294, 0.84811896, 0.65904893, 0.76879268]), 135)\n",
      "(array([0.92610475, 0.8820161 , 0.86910954, 0.88193346]), 96)\n",
      "(array([0.90474649, 0.86021809, 0.91197627, 0.88873893]), 37)\n",
      "(array([0.6154174 , 0.56001479, 0.54235256, 0.5568941 ]), 4)\n"
     ]
    }
   ],
   "source": [
    "for alpha in np.logspace(-5, -1, 5):\n",
    "    print(Lasso_select(X2_train,y2_train,alpha))"
   ]
  },
  {
   "cell_type": "code",
   "execution_count": null,
   "metadata": {},
   "outputs": [],
   "source": []
  }
 ],
 "metadata": {
  "kernelspec": {
   "display_name": "Python 3",
   "language": "python",
   "name": "python3"
  },
  "language_info": {
   "codemirror_mode": {
    "name": "ipython",
    "version": 3
   },
   "file_extension": ".py",
   "mimetype": "text/x-python",
   "name": "python",
   "nbconvert_exporter": "python",
   "pygments_lexer": "ipython3",
   "version": "3.8.5"
  }
 },
 "nbformat": 4,
 "nbformat_minor": 5
}
