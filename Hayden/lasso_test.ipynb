{
 "cells": [
  {
   "cell_type": "code",
   "execution_count": 1,
   "id": "865ac6cf",
   "metadata": {},
   "outputs": [],
   "source": [
    "import pandas as pd\n",
    "import numpy as np\n",
    "from sklearn import linear_model\n",
    "from sklearn.preprocessing import OneHotEncoder\n",
    "from sklearn.compose import ColumnTransformer\n",
    "from sklearn.preprocessing import StandardScaler\n",
    "from sklearn.feature_selection import SelectFromModel\n",
    "import matplotlib.pyplot as plt\n",
    "import seaborn as sns\n",
    "import matplotlib.style as style\n",
    "import helper\n",
    "style.use('fivethirtyeight')"
   ]
  },
  {
   "cell_type": "code",
   "execution_count": 2,
   "id": "d3a7dcbf",
   "metadata": {},
   "outputs": [],
   "source": [
    "colors = [\"#FF0B04\", \"#F1BE48\",\n",
    "           \"#B9975B\", \"#8B5B29\",\n",
    "           \"#524727\",\n",
    "         ]\n",
    "sns.set_palette(sns.color_palette(colors))"
   ]
  },
  {
   "cell_type": "markdown",
   "id": "0eec64a0",
   "metadata": {},
   "source": [
    "## Data processing"
   ]
  },
  {
   "cell_type": "code",
   "execution_count": 3,
   "id": "ff32e9d0",
   "metadata": {},
   "outputs": [],
   "source": [
    "housing = pd.read_csv('Ames_Housing_Price_Data.csv', index_col=0,low_memory = False)\n",
    "\n",
    "\n",
    "train, test = helper.data_processing_wrapper(housing,\n",
    "                                               num_to_cat_list = ['MSSubClass'])\n"
   ]
  },
  {
   "cell_type": "code",
   "execution_count": 4,
   "id": "fc9bc4e8",
   "metadata": {},
   "outputs": [],
   "source": [
    "cat_feats = train.select_dtypes(['object','bool']).columns.to_list()\n"
   ]
  },
  {
   "cell_type": "code",
   "execution_count": 5,
   "id": "9af76f12",
   "metadata": {},
   "outputs": [],
   "source": [
    "num_cols = train.select_dtypes(['float64','int64']).columns.to_list()\n",
    "num_cols.remove('SalePrice')\n"
   ]
  },
  {
   "cell_type": "markdown",
   "id": "8292dbbd",
   "metadata": {},
   "source": [
    "## Simple linear model"
   ]
  },
  {
   "cell_type": "code",
   "execution_count": 6,
   "id": "882563cf",
   "metadata": {},
   "outputs": [],
   "source": [
    "def simple_linear_model_score(train, test, cols, target):\n",
    "    ols = linear_model.LinearRegression()\n",
    "    X = train[cols]\n",
    "    cat_feats = X.select_dtypes(['object','bool']).columns.to_list()\n",
    "    transformer = ColumnTransformer([(\"Cat\", OneHotEncoder(handle_unknown = 'ignore'), cat_feats)], remainder='passthrough')\n",
    "    X = transformer.fit_transform(X)\n",
    "    y = np.log(train[target])\n",
    "    \n",
    "    ols.fit(X, y)\n",
    "    train_score = ols.score(X, y)\n",
    "    \n",
    "    X_tst = test[cols]\n",
    "    X_tst = transformer.transform(X_tst)\n",
    "    y_tst = np.log(test[target])\n",
    "    test_score = ols.score(X_tst, y_tst)\n",
    "    \n",
    "    return train_score, test_score"
   ]
  },
  {
   "cell_type": "markdown",
   "id": "9810a187",
   "metadata": {},
   "source": [
    "The kitchen sink model of every feature over learns. And has a negative test score"
   ]
  },
  {
   "cell_type": "code",
   "execution_count": 7,
   "id": "fc4570d2",
   "metadata": {},
   "outputs": [
    {
     "data": {
      "text/plain": [
       "(0.9577939177156539, 0.9049441938900812)"
      ]
     },
     "execution_count": 7,
     "metadata": {},
     "output_type": "execute_result"
    }
   ],
   "source": [
    "simple_linear_model_score(train, test, cat_feats+num_cols, 'SalePrice')"
   ]
  },
  {
   "cell_type": "markdown",
   "id": "01ba5797",
   "metadata": {},
   "source": [
    "The numerical kitchen sink model is very successful"
   ]
  },
  {
   "cell_type": "code",
   "execution_count": 8,
   "id": "bba02fa9",
   "metadata": {},
   "outputs": [
    {
     "data": {
      "text/plain": [
       "(0.9290445015300175, 0.8849212267144517)"
      ]
     },
     "execution_count": 8,
     "metadata": {},
     "output_type": "execute_result"
    }
   ],
   "source": [
    "simple_linear_model_score(train, test, num_cols, 'SalePrice')"
   ]
  },
  {
   "cell_type": "markdown",
   "id": "871354fe",
   "metadata": {},
   "source": [
    "The numerical kitchen sink model gets better when we selectively pick our favorite categorical features"
   ]
  },
  {
   "cell_type": "code",
   "execution_count": 9,
   "id": "417fad0e",
   "metadata": {},
   "outputs": [
    {
     "data": {
      "text/plain": [
       "(0.9418792481441322, 0.8992313787558742)"
      ]
     },
     "execution_count": 9,
     "metadata": {},
     "output_type": "execute_result"
    }
   ],
   "source": [
    "fav_cat = ['YearBuilt', 'ExterQual', 'Neighborhood', 'KitchenQual']\n",
    "simple_linear_model_score(train, test, num_cols+fav_cat, 'SalePrice')"
   ]
  },
  {
   "cell_type": "markdown",
   "id": "d611ca60",
   "metadata": {},
   "source": [
    "We can see that as we add more and more numerical features our model gets better."
   ]
  },
  {
   "cell_type": "code",
   "execution_count": 10,
   "id": "3644113b",
   "metadata": {},
   "outputs": [
    {
     "name": "stdout",
     "output_type": "stream",
     "text": [
      "GrLivArea\n",
      "(0.5361242929283243, 0.5052486795731859)\n",
      "ExterQual\n",
      "(0.7034962809602388, 0.6644905975921633)\n",
      "TotalBsmtSF\n",
      "(0.7792598241555013, 0.7229657933399387)\n",
      "KitchenQual\n",
      "(0.7974247390402703, 0.7489550650148744)\n",
      "1stFlrSF\n",
      "(0.7975069805128663, 0.7497354661616471)\n",
      "GarageArea\n",
      "(0.8182544807598195, 0.779205489561503)\n",
      "GarageCars\n",
      "(0.8229613212881246, 0.7862240548493213)\n",
      "BsmtQual\n",
      "(0.8367316241545875, 0.8093688234853456)\n",
      "YearBuilt\n",
      "(0.8496799637760847, 0.8201252110298075)\n",
      "FullBath\n",
      "(0.8515427358211811, 0.8194532379214836)\n",
      "GarageFinish\n",
      "(0.8546721816101726, 0.8239315804336104)\n",
      "FireplaceQu\n",
      "(0.862791589110423, 0.8355690508933211)\n",
      "MasVnrArea\n",
      "(0.863014924192381, 0.8357178472479138)\n",
      "TotRmsAbvGrd\n",
      "(0.8634271653730479, 0.8341419606401707)\n",
      "YearRemodAdd\n",
      "(0.8695869148482882, 0.8386413512424243)\n",
      "Fireplaces\n",
      "(0.8735302259811796, 0.8403365999459429)\n",
      "BsmtFinSF1\n",
      "(0.8805143918287985, 0.8482424745087166)\n",
      "HeatingQC\n",
      "(0.8819825209355477, 0.8512038129217325)\n",
      "BsmtExposure\n",
      "(0.8837381955399547, 0.8524812209245907)\n",
      "LotFrontage\n",
      "(0.8867308704953979, 0.8548446790680635)\n",
      "WoodDeckSF\n",
      "(0.8868047028906968, 0.8554065023688021)\n",
      "OpenPorchSF\n",
      "(0.886861271668347, 0.8552851534535735)\n",
      "HalfBath\n",
      "(0.886883163408948, 0.8556627406789725)\n",
      "BsmtFullBath\n",
      "(0.8869743676682754, 0.8560963662911653)\n",
      "LotArea\n",
      "(0.8881865864459204, 0.8544190453660485)\n",
      "2ndFlrSF\n",
      "(0.8886235291245644, 0.8542595628385448)\n",
      "GarageQual\n",
      "(0.8907916226465491, 0.8565447598379544)\n",
      "PavedDrive\n",
      "(0.8938717581605864, 0.8588246373933291)\n",
      "GarageCond\n",
      "(0.8941509212619154, 0.8596414422924246)\n",
      "GarageYrBlt\n",
      "(0.8949157138028354, 0.859012648479585)\n",
      "BsmtCond\n",
      "(0.8950863908007833, 0.8595581140569625)\n",
      "BsmtUnfSF\n",
      "(0.8952749499518509, 0.8596682334223156)\n",
      "BedroomAbvGr\n",
      "(0.8955718473438916, 0.8590871212488529)\n",
      "ScreenPorch\n",
      "(0.8966450390376741, 0.8618080137910913)\n",
      "PoolQC\n",
      "(0.8966498282230969, 0.8618803405060196)\n",
      "PoolArea\n",
      "(0.8968327378808115, 0.8619592755878575)\n",
      "YrSold\n",
      "(0.8969915500000274, 0.8621040511103275)\n",
      "BsmtFinSF2\n",
      "(0.8969915500000273, 0.8621040511102883)\n",
      "3SsnPorch\n",
      "(0.8970867615213393, 0.8622403500594884)\n",
      "ExterCond\n",
      "(0.8974605662127457, 0.8637890930134859)\n",
      "MoSold\n",
      "(0.897464391303063, 0.863820042146437)\n",
      "MiscVal\n",
      "(0.8974695351316921, 0.8638613618432015)\n",
      "LowQualFinSF\n",
      "(0.8974695351316921, 0.8638613618431908)\n",
      "BsmtHalfBath\n",
      "(0.897513398001967, 0.863876913189171)\n",
      "Alley\n",
      "(0.8977233988283986, 0.8635147679933598)\n",
      "OverallCond\n",
      "(0.911980105874887, 0.870308399056249)\n",
      "KitchenAbvGr\n",
      "(0.9138459324455738, 0.8716522368254724)\n",
      "EnclosedPorch\n",
      "(0.9145169532048038, 0.8711878087926295)\n"
     ]
    }
   ],
   "source": [
    "k=100\n",
    "cols = train.corr().nlargest(k, 'SalePrice')['SalePrice'].index\n",
    "cols = cols[1:]\n",
    "for num_features in range(1,len(cols)):\n",
    "    print(cols[num_features])\n",
    "    print(simple_linear_model_score(train, test, cols[1:1+num_features], 'SalePrice'))"
   ]
  },
  {
   "cell_type": "markdown",
   "id": "bb64ab6d",
   "metadata": {},
   "source": [
    "## Lasso"
   ]
  },
  {
   "cell_type": "markdown",
   "id": "bbec4d80",
   "metadata": {},
   "source": [
    "lasso with all columns "
   ]
  },
  {
   "cell_type": "code",
   "execution_count": 11,
   "id": "a2ff0251",
   "metadata": {},
   "outputs": [
    {
     "data": {
      "text/plain": [
       "(0.874653311752264,\n",
       " 0.8379021385124785,\n",
       " ['GrLivArea',\n",
       "  'OverallQual',\n",
       "  'YearBuilt',\n",
       "  'BsmtQual',\n",
       "  '1stFlrSF',\n",
       "  'KitchenQual',\n",
       "  'GarageCars',\n",
       "  'GarageArea'])"
      ]
     },
     "execution_count": 11,
     "metadata": {},
     "output_type": "execute_result"
    }
   ],
   "source": [
    "def lasso_linear_model_score(train_, test_, alpha, target, \n",
    "                             categorical_features,\n",
    "                             drop_cols = ['SalePrice', 'TotalBsmtSF']):\n",
    "    scaler = StandardScaler(with_mean=False)\n",
    "    ols = linear_model.LinearRegression()\n",
    "    \n",
    "    \n",
    "    X = train_.drop(drop_cols,axis=1)\n",
    "    transformer = ColumnTransformer([(\"Cat\", \n",
    "                                      OneHotEncoder(handle_unknown = 'ignore'), \n",
    "                                      categorical_features)], remainder='passthrough')\n",
    "    X = transformer.fit_transform(X)\n",
    "    X = scaler.fit_transform(X)\n",
    "    y = np.log(train_[target])\n",
    "    lasso = linear_model.Lasso(alpha=alpha)\n",
    "    selector = SelectFromModel(estimator=lasso)\n",
    "    X = selector.fit_transform(X, y)\n",
    "    \n",
    "    ols.fit(X,y)\n",
    "    train_score = ols.score(X,y)\n",
    "\n",
    "    X_tst = test_.drop(drop_cols,axis=1)\n",
    "    X_tst = transformer.transform(X_tst)\n",
    "    X_tst = scaler.transform(X_tst)\n",
    "    y_tst = np.log(test_[target])\n",
    "    X_tst = selector.transform(X_tst)\n",
    "    test_score = ols.score(X_tst,y_tst)\n",
    "    \n",
    "    \n",
    "    feat_names = transformer.get_feature_names()\n",
    "    mask = selector.get_support()\n",
    "    lasso_feats = [a for a, b in zip(feat_names, mask) if b]\n",
    "    \n",
    "    return train_score, test_score,lasso_feats\n",
    "\n",
    "##########\n",
    "\n",
    "lasso_linear_model_score(train, test, 0.1, 'SalePrice', \n",
    "                             cat_feats,\n",
    "                             drop_cols = ['SalePrice', 'TotalBsmtSF'])\n",
    "\n",
    "\n"
   ]
  },
  {
   "cell_type": "code",
   "execution_count": 12,
   "id": "957de14e",
   "metadata": {},
   "outputs": [
    {
     "data": {
      "text/plain": [
       "(0.874653311752264,\n",
       " 0.8379021385124785,\n",
       " ['GrLivArea',\n",
       "  'OverallQual',\n",
       "  'YearBuilt',\n",
       "  'BsmtQual',\n",
       "  '1stFlrSF',\n",
       "  'KitchenQual',\n",
       "  'GarageCars',\n",
       "  'GarageArea'])"
      ]
     },
     "execution_count": 12,
     "metadata": {},
     "output_type": "execute_result"
    }
   ],
   "source": [
    "lasso_linear_model_score(train, test, 0.1, 'SalePrice', \n",
    "                             cat_feats,\n",
    "                             drop_cols = ['SalePrice', 'TotalBsmtSF'])"
   ]
  },
  {
   "cell_type": "code",
   "execution_count": 13,
   "id": "a2dec854",
   "metadata": {},
   "outputs": [
    {
     "data": {
      "text/plain": [
       "(0.9460319639800638,\n",
       " 0.9083007695396004,\n",
       " ['Cat__x0_160',\n",
       "  'Cat__x0_30',\n",
       "  'Cat__x1_C (all)',\n",
       "  'Cat__x1_RM',\n",
       "  'Cat__x8_ClearCr',\n",
       "  'Cat__x8_Crawfor',\n",
       "  'Cat__x8_Edwards',\n",
       "  'Cat__x8_GrnHill',\n",
       "  'Cat__x8_MeadowV',\n",
       "  'Cat__x8_Somerst',\n",
       "  'Cat__x8_StoneBr',\n",
       "  'Cat__x9_Norm',\n",
       "  'Cat__x11_1Fam',\n",
       "  'Cat__x11_Twnhs',\n",
       "  'Cat__x15_BrkFace',\n",
       "  'Cat__x15_PreCast',\n",
       "  'Cat__x18_PConc',\n",
       "  'Cat__x22_N',\n",
       "  'Cat__x24_Typ',\n",
       "  'Cat__x25_Attchd',\n",
       "  'Cat__x29_Normal',\n",
       "  'GrLivArea',\n",
       "  'LotFrontage',\n",
       "  'LotArea',\n",
       "  'OverallQual',\n",
       "  'OverallCond',\n",
       "  'YearBuilt',\n",
       "  'YearRemodAdd',\n",
       "  'MasVnrArea',\n",
       "  'ExterQual',\n",
       "  'BsmtQual',\n",
       "  'BsmtExposure',\n",
       "  'BsmtFinSF1',\n",
       "  'BsmtFinSF2',\n",
       "  'HeatingQC',\n",
       "  '1stFlrSF',\n",
       "  'BsmtFullBath',\n",
       "  'KitchenQual',\n",
       "  'Fireplaces',\n",
       "  'FireplaceQu',\n",
       "  'GarageFinish',\n",
       "  'GarageCars',\n",
       "  'GarageArea',\n",
       "  'PavedDrive',\n",
       "  'ScreenPorch'])"
      ]
     },
     "execution_count": 13,
     "metadata": {},
     "output_type": "execute_result"
    }
   ],
   "source": [
    "lasso_linear_model_score(train, test, 0.01, 'SalePrice', \n",
    "                             cat_feats,\n",
    "                             drop_cols = ['SalePrice', 'TotalBsmtSF'])"
   ]
  },
  {
   "cell_type": "code",
   "execution_count": 14,
   "id": "2a179f3c",
   "metadata": {},
   "outputs": [
    {
     "data": {
      "text/plain": [
       "(0.9561244295278687,\n",
       " 0.9063054954999941,\n",
       " ['Cat__x0_150',\n",
       "  'Cat__x0_160',\n",
       "  'Cat__x0_20',\n",
       "  'Cat__x0_30',\n",
       "  'Cat__x0_45',\n",
       "  'Cat__x0_50',\n",
       "  'Cat__x0_60',\n",
       "  'Cat__x0_70',\n",
       "  'Cat__x0_85',\n",
       "  'Cat__x0_90',\n",
       "  'Cat__x1_A (agr)',\n",
       "  'Cat__x1_C (all)',\n",
       "  'Cat__x1_I (all)',\n",
       "  'Cat__x1_RH',\n",
       "  'Cat__x1_RL',\n",
       "  'Cat__x1_RM',\n",
       "  'Cat__x2_Grvl',\n",
       "  'Cat__x3_IR2',\n",
       "  'Cat__x3_IR3',\n",
       "  'Cat__x4_Bnk',\n",
       "  'Cat__x4_HLS',\n",
       "  'Cat__x4_Low',\n",
       "  'Cat__x6_Corner',\n",
       "  'Cat__x6_CulDSac',\n",
       "  'Cat__x6_FR2',\n",
       "  'Cat__x6_FR3',\n",
       "  'Cat__x7_Mod',\n",
       "  'Cat__x8_BrDale',\n",
       "  'Cat__x8_BrkSide',\n",
       "  'Cat__x8_ClearCr',\n",
       "  'Cat__x8_CollgCr',\n",
       "  'Cat__x8_Crawfor',\n",
       "  'Cat__x8_Edwards',\n",
       "  'Cat__x8_Greens',\n",
       "  'Cat__x8_GrnHill',\n",
       "  'Cat__x8_IDOTRR',\n",
       "  'Cat__x8_Landmrk',\n",
       "  'Cat__x8_MeadowV',\n",
       "  'Cat__x8_NAmes',\n",
       "  'Cat__x8_NWAmes',\n",
       "  'Cat__x8_NoRidge',\n",
       "  'Cat__x8_NridgHt',\n",
       "  'Cat__x8_OldTown',\n",
       "  'Cat__x8_SWISU',\n",
       "  'Cat__x8_SawyerW',\n",
       "  'Cat__x8_Somerst',\n",
       "  'Cat__x8_StoneBr',\n",
       "  'Cat__x8_Veenker',\n",
       "  'Cat__x9_Artery',\n",
       "  'Cat__x9_Feedr',\n",
       "  'Cat__x9_Norm',\n",
       "  'Cat__x9_PosN',\n",
       "  'Cat__x9_RRAe',\n",
       "  'Cat__x9_RRNe',\n",
       "  'Cat__x10_Feedr',\n",
       "  'Cat__x10_PosA',\n",
       "  'Cat__x10_PosN',\n",
       "  'Cat__x10_RRAe',\n",
       "  'Cat__x10_RRAn',\n",
       "  'Cat__x11_1Fam',\n",
       "  'Cat__x11_Duplex',\n",
       "  'Cat__x11_Twnhs',\n",
       "  'Cat__x12_SFoyer',\n",
       "  'Cat__x13_Flat',\n",
       "  'Cat__x13_Gambrel',\n",
       "  'Cat__x14_Membran',\n",
       "  'Cat__x14_Tar&Grv',\n",
       "  'Cat__x14_WdShake',\n",
       "  'Cat__x14_WdShngl',\n",
       "  'Cat__x15_BrkComm',\n",
       "  'Cat__x15_BrkFace',\n",
       "  'Cat__x15_CBlock',\n",
       "  'Cat__x15_HdBoard',\n",
       "  'Cat__x15_Plywood',\n",
       "  'Cat__x15_PreCast',\n",
       "  'Cat__x15_Stucco',\n",
       "  'Cat__x16_AsbShng',\n",
       "  'Cat__x16_Brk Cmn',\n",
       "  'Cat__x16_CBlock',\n",
       "  'Cat__x16_CmentBd',\n",
       "  'Cat__x16_Plywood',\n",
       "  'Cat__x16_PreCast',\n",
       "  'Cat__x16_VinylSd',\n",
       "  'Cat__x16_Wd Sdng',\n",
       "  'Cat__x16_Wd Shng',\n",
       "  'Cat__x17_Stone',\n",
       "  'Cat__x18_BrkTil',\n",
       "  'Cat__x18_PConc',\n",
       "  'Cat__x18_Stone',\n",
       "  'Cat__x18_Wood',\n",
       "  'Cat__x19_ALQ',\n",
       "  'Cat__x19_GLQ',\n",
       "  'Cat__x19_LwQ',\n",
       "  'Cat__x19_Rec',\n",
       "  'Cat__x19_Unf',\n",
       "  'Cat__x20_BLQ',\n",
       "  'Cat__x20_GLQ',\n",
       "  'Cat__x20_Rec',\n",
       "  'Cat__x21_Floor',\n",
       "  'Cat__x21_GasW',\n",
       "  'Cat__x21_Grav',\n",
       "  'Cat__x21_OthW',\n",
       "  'Cat__x21_Wall',\n",
       "  'Cat__x22_N',\n",
       "  'Cat__x24_Maj1',\n",
       "  'Cat__x24_Maj2',\n",
       "  'Cat__x24_Mod',\n",
       "  'Cat__x24_Typ',\n",
       "  'Cat__x25_2Types',\n",
       "  'Cat__x25_Attchd',\n",
       "  'Cat__x25_Basment',\n",
       "  'Cat__x25_BuiltIn',\n",
       "  'Cat__x25_CarPort',\n",
       "  'Cat__x26_GdPrv',\n",
       "  'Cat__x26_GdWo',\n",
       "  'Cat__x26_None',\n",
       "  'Cat__x27_None',\n",
       "  'Cat__x27_Othr',\n",
       "  'Cat__x27_TenC',\n",
       "  'Cat__x28_COD',\n",
       "  'Cat__x28_Con',\n",
       "  'Cat__x28_ConLD',\n",
       "  'Cat__x28_Oth',\n",
       "  'Cat__x29_Normal',\n",
       "  'GrLivArea',\n",
       "  'LotFrontage',\n",
       "  'LotArea',\n",
       "  'OverallQual',\n",
       "  'OverallCond',\n",
       "  'YearBuilt',\n",
       "  'YearRemodAdd',\n",
       "  'MasVnrArea',\n",
       "  'ExterQual',\n",
       "  'BsmtQual',\n",
       "  'BsmtExposure',\n",
       "  'BsmtFinSF1',\n",
       "  'BsmtFinSF2',\n",
       "  'BsmtUnfSF',\n",
       "  'HeatingQC',\n",
       "  '1stFlrSF',\n",
       "  'LowQualFinSF',\n",
       "  'BsmtFullBath',\n",
       "  'BsmtHalfBath',\n",
       "  'FullBath',\n",
       "  'HalfBath',\n",
       "  'BedroomAbvGr',\n",
       "  'KitchenAbvGr',\n",
       "  'KitchenQual',\n",
       "  'TotRmsAbvGrd',\n",
       "  'Fireplaces',\n",
       "  'FireplaceQu',\n",
       "  'GarageCars',\n",
       "  'GarageArea',\n",
       "  'GarageQual',\n",
       "  'GarageCond',\n",
       "  'PavedDrive',\n",
       "  'WoodDeckSF',\n",
       "  'OpenPorchSF',\n",
       "  'EnclosedPorch',\n",
       "  '3SsnPorch',\n",
       "  'ScreenPorch',\n",
       "  'PoolQC',\n",
       "  'MoSold'])"
      ]
     },
     "execution_count": 14,
     "metadata": {},
     "output_type": "execute_result"
    }
   ],
   "source": [
    "lasso_linear_model_score(train, test, 0.001, 'SalePrice', \n",
    "                             cat_feats,\n",
    "                             drop_cols = ['SalePrice', 'TotalBsmtSF'])"
   ]
  },
  {
   "cell_type": "code",
   "execution_count": 17,
   "id": "a82cceab",
   "metadata": {},
   "outputs": [
    {
     "name": "stdout",
     "output_type": "stream",
     "text": [
      "0.01\n",
      "0.02\n",
      "0.03\n",
      "0.04\n",
      "0.05\n",
      "0.060000000000000005\n",
      "0.06999999999999999\n",
      "0.08\n",
      "0.09\n",
      "0.09999999999999999\n",
      "0.11\n",
      "0.12\n",
      "0.13\n",
      "0.14\n",
      "0.15000000000000002\n",
      "0.16\n",
      "0.17\n",
      "0.18000000000000002\n",
      "0.19\n",
      "0.2\n",
      "0.21000000000000002\n",
      "0.22\n",
      "0.23\n",
      "0.24000000000000002\n",
      "0.25\n",
      "0.26\n",
      "0.27\n",
      "0.28\n",
      "0.29000000000000004\n",
      "0.3\n",
      "0.31\n",
      "0.32\n"
     ]
    },
    {
     "name": "stderr",
     "output_type": "stream",
     "text": [
      "/Users/haydenlw4/opt/anaconda3/lib/python3.8/site-packages/sklearn/feature_selection/_base.py:90: UserWarning: No features were selected: either the data is too noisy or the selection test too strict.\n",
      "  warn(\"No features were selected: either the data is\"\n"
     ]
    },
    {
     "ename": "ValueError",
     "evalue": "Found array with 0 feature(s) (shape=(1871, 0)) while a minimum of 1 is required.",
     "output_type": "error",
     "traceback": [
      "\u001b[0;31m---------------------------------------------------------------------------\u001b[0m",
      "\u001b[0;31mValueError\u001b[0m                                Traceback (most recent call last)",
      "\u001b[0;32m<ipython-input-17-8a977401d6e1>\u001b[0m in \u001b[0;36m<module>\u001b[0;34m\u001b[0m\n\u001b[1;32m      7\u001b[0m \u001b[0;32mfor\u001b[0m \u001b[0malpha\u001b[0m \u001b[0;32min\u001b[0m \u001b[0malphas\u001b[0m\u001b[0;34m:\u001b[0m\u001b[0;34m\u001b[0m\u001b[0;34m\u001b[0m\u001b[0m\n\u001b[1;32m      8\u001b[0m     \u001b[0mprint\u001b[0m\u001b[0;34m(\u001b[0m\u001b[0malpha\u001b[0m\u001b[0;34m)\u001b[0m\u001b[0;34m\u001b[0m\u001b[0;34m\u001b[0m\u001b[0m\n\u001b[0;32m----> 9\u001b[0;31m     train_score, test_score,lasso_feats = lasso_linear_model_score(\n\u001b[0m\u001b[1;32m     10\u001b[0m         \u001b[0mtrain\u001b[0m\u001b[0;34m,\u001b[0m\u001b[0;34m\u001b[0m\u001b[0;34m\u001b[0m\u001b[0m\n\u001b[1;32m     11\u001b[0m        \u001b[0mtest\u001b[0m\u001b[0;34m,\u001b[0m\u001b[0;34m\u001b[0m\u001b[0;34m\u001b[0m\u001b[0m\n",
      "\u001b[0;32m<ipython-input-11-b1130089b6ed>\u001b[0m in \u001b[0;36mlasso_linear_model_score\u001b[0;34m(train_, test_, alpha, target, categorical_features, drop_cols)\u001b[0m\n\u001b[1;32m     17\u001b[0m     \u001b[0mX\u001b[0m \u001b[0;34m=\u001b[0m \u001b[0mselector\u001b[0m\u001b[0;34m.\u001b[0m\u001b[0mfit_transform\u001b[0m\u001b[0;34m(\u001b[0m\u001b[0mX\u001b[0m\u001b[0;34m,\u001b[0m \u001b[0my\u001b[0m\u001b[0;34m)\u001b[0m\u001b[0;34m\u001b[0m\u001b[0;34m\u001b[0m\u001b[0m\n\u001b[1;32m     18\u001b[0m \u001b[0;34m\u001b[0m\u001b[0m\n\u001b[0;32m---> 19\u001b[0;31m     \u001b[0mols\u001b[0m\u001b[0;34m.\u001b[0m\u001b[0mfit\u001b[0m\u001b[0;34m(\u001b[0m\u001b[0mX\u001b[0m\u001b[0;34m,\u001b[0m\u001b[0my\u001b[0m\u001b[0;34m)\u001b[0m\u001b[0;34m\u001b[0m\u001b[0;34m\u001b[0m\u001b[0m\n\u001b[0m\u001b[1;32m     20\u001b[0m     \u001b[0mtrain_score\u001b[0m \u001b[0;34m=\u001b[0m \u001b[0mols\u001b[0m\u001b[0;34m.\u001b[0m\u001b[0mscore\u001b[0m\u001b[0;34m(\u001b[0m\u001b[0mX\u001b[0m\u001b[0;34m,\u001b[0m\u001b[0my\u001b[0m\u001b[0;34m)\u001b[0m\u001b[0;34m\u001b[0m\u001b[0;34m\u001b[0m\u001b[0m\n\u001b[1;32m     21\u001b[0m \u001b[0;34m\u001b[0m\u001b[0m\n",
      "\u001b[0;32m~/opt/anaconda3/lib/python3.8/site-packages/sklearn/linear_model/_base.py\u001b[0m in \u001b[0;36mfit\u001b[0;34m(self, X, y, sample_weight)\u001b[0m\n\u001b[1;32m    516\u001b[0m         \u001b[0maccept_sparse\u001b[0m \u001b[0;34m=\u001b[0m \u001b[0;32mFalse\u001b[0m \u001b[0;32mif\u001b[0m \u001b[0mself\u001b[0m\u001b[0;34m.\u001b[0m\u001b[0mpositive\u001b[0m \u001b[0;32melse\u001b[0m \u001b[0;34m[\u001b[0m\u001b[0;34m'csr'\u001b[0m\u001b[0;34m,\u001b[0m \u001b[0;34m'csc'\u001b[0m\u001b[0;34m,\u001b[0m \u001b[0;34m'coo'\u001b[0m\u001b[0;34m]\u001b[0m\u001b[0;34m\u001b[0m\u001b[0;34m\u001b[0m\u001b[0m\n\u001b[1;32m    517\u001b[0m \u001b[0;34m\u001b[0m\u001b[0m\n\u001b[0;32m--> 518\u001b[0;31m         X, y = self._validate_data(X, y, accept_sparse=accept_sparse,\n\u001b[0m\u001b[1;32m    519\u001b[0m                                    y_numeric=True, multi_output=True)\n\u001b[1;32m    520\u001b[0m \u001b[0;34m\u001b[0m\u001b[0m\n",
      "\u001b[0;32m~/opt/anaconda3/lib/python3.8/site-packages/sklearn/base.py\u001b[0m in \u001b[0;36m_validate_data\u001b[0;34m(self, X, y, reset, validate_separately, **check_params)\u001b[0m\n\u001b[1;32m    431\u001b[0m                 \u001b[0my\u001b[0m \u001b[0;34m=\u001b[0m \u001b[0mcheck_array\u001b[0m\u001b[0;34m(\u001b[0m\u001b[0my\u001b[0m\u001b[0;34m,\u001b[0m \u001b[0;34m**\u001b[0m\u001b[0mcheck_y_params\u001b[0m\u001b[0;34m)\u001b[0m\u001b[0;34m\u001b[0m\u001b[0;34m\u001b[0m\u001b[0m\n\u001b[1;32m    432\u001b[0m             \u001b[0;32melse\u001b[0m\u001b[0;34m:\u001b[0m\u001b[0;34m\u001b[0m\u001b[0;34m\u001b[0m\u001b[0m\n\u001b[0;32m--> 433\u001b[0;31m                 \u001b[0mX\u001b[0m\u001b[0;34m,\u001b[0m \u001b[0my\u001b[0m \u001b[0;34m=\u001b[0m \u001b[0mcheck_X_y\u001b[0m\u001b[0;34m(\u001b[0m\u001b[0mX\u001b[0m\u001b[0;34m,\u001b[0m \u001b[0my\u001b[0m\u001b[0;34m,\u001b[0m \u001b[0;34m**\u001b[0m\u001b[0mcheck_params\u001b[0m\u001b[0;34m)\u001b[0m\u001b[0;34m\u001b[0m\u001b[0;34m\u001b[0m\u001b[0m\n\u001b[0m\u001b[1;32m    434\u001b[0m             \u001b[0mout\u001b[0m \u001b[0;34m=\u001b[0m \u001b[0mX\u001b[0m\u001b[0;34m,\u001b[0m \u001b[0my\u001b[0m\u001b[0;34m\u001b[0m\u001b[0;34m\u001b[0m\u001b[0m\n\u001b[1;32m    435\u001b[0m \u001b[0;34m\u001b[0m\u001b[0m\n",
      "\u001b[0;32m~/opt/anaconda3/lib/python3.8/site-packages/sklearn/utils/validation.py\u001b[0m in \u001b[0;36minner_f\u001b[0;34m(*args, **kwargs)\u001b[0m\n\u001b[1;32m     61\u001b[0m             \u001b[0mextra_args\u001b[0m \u001b[0;34m=\u001b[0m \u001b[0mlen\u001b[0m\u001b[0;34m(\u001b[0m\u001b[0margs\u001b[0m\u001b[0;34m)\u001b[0m \u001b[0;34m-\u001b[0m \u001b[0mlen\u001b[0m\u001b[0;34m(\u001b[0m\u001b[0mall_args\u001b[0m\u001b[0;34m)\u001b[0m\u001b[0;34m\u001b[0m\u001b[0;34m\u001b[0m\u001b[0m\n\u001b[1;32m     62\u001b[0m             \u001b[0;32mif\u001b[0m \u001b[0mextra_args\u001b[0m \u001b[0;34m<=\u001b[0m \u001b[0;36m0\u001b[0m\u001b[0;34m:\u001b[0m\u001b[0;34m\u001b[0m\u001b[0;34m\u001b[0m\u001b[0m\n\u001b[0;32m---> 63\u001b[0;31m                 \u001b[0;32mreturn\u001b[0m \u001b[0mf\u001b[0m\u001b[0;34m(\u001b[0m\u001b[0;34m*\u001b[0m\u001b[0margs\u001b[0m\u001b[0;34m,\u001b[0m \u001b[0;34m**\u001b[0m\u001b[0mkwargs\u001b[0m\u001b[0;34m)\u001b[0m\u001b[0;34m\u001b[0m\u001b[0;34m\u001b[0m\u001b[0m\n\u001b[0m\u001b[1;32m     64\u001b[0m \u001b[0;34m\u001b[0m\u001b[0m\n\u001b[1;32m     65\u001b[0m             \u001b[0;31m# extra_args > 0\u001b[0m\u001b[0;34m\u001b[0m\u001b[0;34m\u001b[0m\u001b[0;34m\u001b[0m\u001b[0m\n",
      "\u001b[0;32m~/opt/anaconda3/lib/python3.8/site-packages/sklearn/utils/validation.py\u001b[0m in \u001b[0;36mcheck_X_y\u001b[0;34m(X, y, accept_sparse, accept_large_sparse, dtype, order, copy, force_all_finite, ensure_2d, allow_nd, multi_output, ensure_min_samples, ensure_min_features, y_numeric, estimator)\u001b[0m\n\u001b[1;32m    869\u001b[0m         \u001b[0;32mraise\u001b[0m \u001b[0mValueError\u001b[0m\u001b[0;34m(\u001b[0m\u001b[0;34m\"y cannot be None\"\u001b[0m\u001b[0;34m)\u001b[0m\u001b[0;34m\u001b[0m\u001b[0;34m\u001b[0m\u001b[0m\n\u001b[1;32m    870\u001b[0m \u001b[0;34m\u001b[0m\u001b[0m\n\u001b[0;32m--> 871\u001b[0;31m     X = check_array(X, accept_sparse=accept_sparse,\n\u001b[0m\u001b[1;32m    872\u001b[0m                     \u001b[0maccept_large_sparse\u001b[0m\u001b[0;34m=\u001b[0m\u001b[0maccept_large_sparse\u001b[0m\u001b[0;34m,\u001b[0m\u001b[0;34m\u001b[0m\u001b[0;34m\u001b[0m\u001b[0m\n\u001b[1;32m    873\u001b[0m                     \u001b[0mdtype\u001b[0m\u001b[0;34m=\u001b[0m\u001b[0mdtype\u001b[0m\u001b[0;34m,\u001b[0m \u001b[0morder\u001b[0m\u001b[0;34m=\u001b[0m\u001b[0morder\u001b[0m\u001b[0;34m,\u001b[0m \u001b[0mcopy\u001b[0m\u001b[0;34m=\u001b[0m\u001b[0mcopy\u001b[0m\u001b[0;34m,\u001b[0m\u001b[0;34m\u001b[0m\u001b[0;34m\u001b[0m\u001b[0m\n",
      "\u001b[0;32m~/opt/anaconda3/lib/python3.8/site-packages/sklearn/utils/validation.py\u001b[0m in \u001b[0;36minner_f\u001b[0;34m(*args, **kwargs)\u001b[0m\n\u001b[1;32m     61\u001b[0m             \u001b[0mextra_args\u001b[0m \u001b[0;34m=\u001b[0m \u001b[0mlen\u001b[0m\u001b[0;34m(\u001b[0m\u001b[0margs\u001b[0m\u001b[0;34m)\u001b[0m \u001b[0;34m-\u001b[0m \u001b[0mlen\u001b[0m\u001b[0;34m(\u001b[0m\u001b[0mall_args\u001b[0m\u001b[0;34m)\u001b[0m\u001b[0;34m\u001b[0m\u001b[0;34m\u001b[0m\u001b[0m\n\u001b[1;32m     62\u001b[0m             \u001b[0;32mif\u001b[0m \u001b[0mextra_args\u001b[0m \u001b[0;34m<=\u001b[0m \u001b[0;36m0\u001b[0m\u001b[0;34m:\u001b[0m\u001b[0;34m\u001b[0m\u001b[0;34m\u001b[0m\u001b[0m\n\u001b[0;32m---> 63\u001b[0;31m                 \u001b[0;32mreturn\u001b[0m \u001b[0mf\u001b[0m\u001b[0;34m(\u001b[0m\u001b[0;34m*\u001b[0m\u001b[0margs\u001b[0m\u001b[0;34m,\u001b[0m \u001b[0;34m**\u001b[0m\u001b[0mkwargs\u001b[0m\u001b[0;34m)\u001b[0m\u001b[0;34m\u001b[0m\u001b[0;34m\u001b[0m\u001b[0m\n\u001b[0m\u001b[1;32m     64\u001b[0m \u001b[0;34m\u001b[0m\u001b[0m\n\u001b[1;32m     65\u001b[0m             \u001b[0;31m# extra_args > 0\u001b[0m\u001b[0;34m\u001b[0m\u001b[0;34m\u001b[0m\u001b[0;34m\u001b[0m\u001b[0m\n",
      "\u001b[0;32m~/opt/anaconda3/lib/python3.8/site-packages/sklearn/utils/validation.py\u001b[0m in \u001b[0;36mcheck_array\u001b[0;34m(array, accept_sparse, accept_large_sparse, dtype, order, copy, force_all_finite, ensure_2d, allow_nd, ensure_min_samples, ensure_min_features, estimator)\u001b[0m\n\u001b[1;32m    732\u001b[0m         \u001b[0mn_features\u001b[0m \u001b[0;34m=\u001b[0m \u001b[0marray\u001b[0m\u001b[0;34m.\u001b[0m\u001b[0mshape\u001b[0m\u001b[0;34m[\u001b[0m\u001b[0;36m1\u001b[0m\u001b[0;34m]\u001b[0m\u001b[0;34m\u001b[0m\u001b[0;34m\u001b[0m\u001b[0m\n\u001b[1;32m    733\u001b[0m         \u001b[0;32mif\u001b[0m \u001b[0mn_features\u001b[0m \u001b[0;34m<\u001b[0m \u001b[0mensure_min_features\u001b[0m\u001b[0;34m:\u001b[0m\u001b[0;34m\u001b[0m\u001b[0;34m\u001b[0m\u001b[0m\n\u001b[0;32m--> 734\u001b[0;31m             raise ValueError(\"Found array with %d feature(s) (shape=%s) while\"\n\u001b[0m\u001b[1;32m    735\u001b[0m                              \u001b[0;34m\" a minimum of %d is required%s.\"\u001b[0m\u001b[0;34m\u001b[0m\u001b[0;34m\u001b[0m\u001b[0m\n\u001b[1;32m    736\u001b[0m                              % (n_features, array.shape, ensure_min_features,\n",
      "\u001b[0;31mValueError\u001b[0m: Found array with 0 feature(s) (shape=(1871, 0)) while a minimum of 1 is required."
     ]
    }
   ],
   "source": [
    "\n",
    "lasso_scores_train = []\n",
    "\n",
    "lasso_scores_test  = []\n",
    "\n",
    "alphas = np.linspace(0.01, 1, 100)\n",
    "\n",
    "for alpha in alphas:\n",
    "    print(alpha)\n",
    "    try:\n",
    "        train_score, test_score,lasso_feats = lasso_linear_model_score(\n",
    "            train, \n",
    "           test,\n",
    "           alpha, \n",
    "           'SalePrice', \n",
    "           cat_feats,\n",
    "           drop_cols = ['SalePrice', 'TotalBsmtSF']\n",
    "        )\n",
    "        lasso_scores_train.append(train_score)\n",
    "        lasso_scores_test.append(test_score)\n",
    "    except:\n",
    "    lasso_scores_train.append(train_score)\n",
    "    lasso_scores_test.append(test_score)\n",
    "\n",
    "lasso_scores_train = np.array(lasso_scores_train) \n",
    "lasso_scores_test  = np.array(lasso_scores_test)"
   ]
  },
  {
   "cell_type": "code",
   "execution_count": 18,
   "id": "c37b70ec",
   "metadata": {},
   "outputs": [
    {
     "name": "stderr",
     "output_type": "stream",
     "text": [
      "/Users/haydenlw4/opt/anaconda3/lib/python3.8/site-packages/sklearn/feature_selection/_base.py:90: UserWarning: No features were selected: either the data is too noisy or the selection test too strict.\n",
      "  warn(\"No features were selected: either the data is\"\n"
     ]
    },
    {
     "ename": "ValueError",
     "evalue": "Found array with 0 feature(s) (shape=(1871, 0)) while a minimum of 1 is required.",
     "output_type": "error",
     "traceback": [
      "\u001b[0;31m---------------------------------------------------------------------------\u001b[0m",
      "\u001b[0;31mValueError\u001b[0m                                Traceback (most recent call last)",
      "\u001b[0;32m<ipython-input-18-3be60762d166>\u001b[0m in \u001b[0;36m<module>\u001b[0;34m\u001b[0m\n\u001b[0;32m----> 1\u001b[0;31m train_score, test_score,lasso_feats = lasso_linear_model_score(\n\u001b[0m\u001b[1;32m      2\u001b[0m     \u001b[0mtrain\u001b[0m\u001b[0;34m,\u001b[0m\u001b[0;34m\u001b[0m\u001b[0;34m\u001b[0m\u001b[0m\n\u001b[1;32m      3\u001b[0m    \u001b[0mtest\u001b[0m\u001b[0;34m,\u001b[0m\u001b[0;34m\u001b[0m\u001b[0;34m\u001b[0m\u001b[0m\n\u001b[1;32m      4\u001b[0m    \u001b[0malpha\u001b[0m\u001b[0;34m,\u001b[0m\u001b[0;34m\u001b[0m\u001b[0;34m\u001b[0m\u001b[0m\n\u001b[1;32m      5\u001b[0m    \u001b[0;34m'SalePrice'\u001b[0m\u001b[0;34m,\u001b[0m\u001b[0;34m\u001b[0m\u001b[0;34m\u001b[0m\u001b[0m\n",
      "\u001b[0;32m<ipython-input-11-b1130089b6ed>\u001b[0m in \u001b[0;36mlasso_linear_model_score\u001b[0;34m(train_, test_, alpha, target, categorical_features, drop_cols)\u001b[0m\n\u001b[1;32m     17\u001b[0m     \u001b[0mX\u001b[0m \u001b[0;34m=\u001b[0m \u001b[0mselector\u001b[0m\u001b[0;34m.\u001b[0m\u001b[0mfit_transform\u001b[0m\u001b[0;34m(\u001b[0m\u001b[0mX\u001b[0m\u001b[0;34m,\u001b[0m \u001b[0my\u001b[0m\u001b[0;34m)\u001b[0m\u001b[0;34m\u001b[0m\u001b[0;34m\u001b[0m\u001b[0m\n\u001b[1;32m     18\u001b[0m \u001b[0;34m\u001b[0m\u001b[0m\n\u001b[0;32m---> 19\u001b[0;31m     \u001b[0mols\u001b[0m\u001b[0;34m.\u001b[0m\u001b[0mfit\u001b[0m\u001b[0;34m(\u001b[0m\u001b[0mX\u001b[0m\u001b[0;34m,\u001b[0m\u001b[0my\u001b[0m\u001b[0;34m)\u001b[0m\u001b[0;34m\u001b[0m\u001b[0;34m\u001b[0m\u001b[0m\n\u001b[0m\u001b[1;32m     20\u001b[0m     \u001b[0mtrain_score\u001b[0m \u001b[0;34m=\u001b[0m \u001b[0mols\u001b[0m\u001b[0;34m.\u001b[0m\u001b[0mscore\u001b[0m\u001b[0;34m(\u001b[0m\u001b[0mX\u001b[0m\u001b[0;34m,\u001b[0m\u001b[0my\u001b[0m\u001b[0;34m)\u001b[0m\u001b[0;34m\u001b[0m\u001b[0;34m\u001b[0m\u001b[0m\n\u001b[1;32m     21\u001b[0m \u001b[0;34m\u001b[0m\u001b[0m\n",
      "\u001b[0;32m~/opt/anaconda3/lib/python3.8/site-packages/sklearn/linear_model/_base.py\u001b[0m in \u001b[0;36mfit\u001b[0;34m(self, X, y, sample_weight)\u001b[0m\n\u001b[1;32m    516\u001b[0m         \u001b[0maccept_sparse\u001b[0m \u001b[0;34m=\u001b[0m \u001b[0;32mFalse\u001b[0m \u001b[0;32mif\u001b[0m \u001b[0mself\u001b[0m\u001b[0;34m.\u001b[0m\u001b[0mpositive\u001b[0m \u001b[0;32melse\u001b[0m \u001b[0;34m[\u001b[0m\u001b[0;34m'csr'\u001b[0m\u001b[0;34m,\u001b[0m \u001b[0;34m'csc'\u001b[0m\u001b[0;34m,\u001b[0m \u001b[0;34m'coo'\u001b[0m\u001b[0;34m]\u001b[0m\u001b[0;34m\u001b[0m\u001b[0;34m\u001b[0m\u001b[0m\n\u001b[1;32m    517\u001b[0m \u001b[0;34m\u001b[0m\u001b[0m\n\u001b[0;32m--> 518\u001b[0;31m         X, y = self._validate_data(X, y, accept_sparse=accept_sparse,\n\u001b[0m\u001b[1;32m    519\u001b[0m                                    y_numeric=True, multi_output=True)\n\u001b[1;32m    520\u001b[0m \u001b[0;34m\u001b[0m\u001b[0m\n",
      "\u001b[0;32m~/opt/anaconda3/lib/python3.8/site-packages/sklearn/base.py\u001b[0m in \u001b[0;36m_validate_data\u001b[0;34m(self, X, y, reset, validate_separately, **check_params)\u001b[0m\n\u001b[1;32m    431\u001b[0m                 \u001b[0my\u001b[0m \u001b[0;34m=\u001b[0m \u001b[0mcheck_array\u001b[0m\u001b[0;34m(\u001b[0m\u001b[0my\u001b[0m\u001b[0;34m,\u001b[0m \u001b[0;34m**\u001b[0m\u001b[0mcheck_y_params\u001b[0m\u001b[0;34m)\u001b[0m\u001b[0;34m\u001b[0m\u001b[0;34m\u001b[0m\u001b[0m\n\u001b[1;32m    432\u001b[0m             \u001b[0;32melse\u001b[0m\u001b[0;34m:\u001b[0m\u001b[0;34m\u001b[0m\u001b[0;34m\u001b[0m\u001b[0m\n\u001b[0;32m--> 433\u001b[0;31m                 \u001b[0mX\u001b[0m\u001b[0;34m,\u001b[0m \u001b[0my\u001b[0m \u001b[0;34m=\u001b[0m \u001b[0mcheck_X_y\u001b[0m\u001b[0;34m(\u001b[0m\u001b[0mX\u001b[0m\u001b[0;34m,\u001b[0m \u001b[0my\u001b[0m\u001b[0;34m,\u001b[0m \u001b[0;34m**\u001b[0m\u001b[0mcheck_params\u001b[0m\u001b[0;34m)\u001b[0m\u001b[0;34m\u001b[0m\u001b[0;34m\u001b[0m\u001b[0m\n\u001b[0m\u001b[1;32m    434\u001b[0m             \u001b[0mout\u001b[0m \u001b[0;34m=\u001b[0m \u001b[0mX\u001b[0m\u001b[0;34m,\u001b[0m \u001b[0my\u001b[0m\u001b[0;34m\u001b[0m\u001b[0;34m\u001b[0m\u001b[0m\n\u001b[1;32m    435\u001b[0m \u001b[0;34m\u001b[0m\u001b[0m\n",
      "\u001b[0;32m~/opt/anaconda3/lib/python3.8/site-packages/sklearn/utils/validation.py\u001b[0m in \u001b[0;36minner_f\u001b[0;34m(*args, **kwargs)\u001b[0m\n\u001b[1;32m     61\u001b[0m             \u001b[0mextra_args\u001b[0m \u001b[0;34m=\u001b[0m \u001b[0mlen\u001b[0m\u001b[0;34m(\u001b[0m\u001b[0margs\u001b[0m\u001b[0;34m)\u001b[0m \u001b[0;34m-\u001b[0m \u001b[0mlen\u001b[0m\u001b[0;34m(\u001b[0m\u001b[0mall_args\u001b[0m\u001b[0;34m)\u001b[0m\u001b[0;34m\u001b[0m\u001b[0;34m\u001b[0m\u001b[0m\n\u001b[1;32m     62\u001b[0m             \u001b[0;32mif\u001b[0m \u001b[0mextra_args\u001b[0m \u001b[0;34m<=\u001b[0m \u001b[0;36m0\u001b[0m\u001b[0;34m:\u001b[0m\u001b[0;34m\u001b[0m\u001b[0;34m\u001b[0m\u001b[0m\n\u001b[0;32m---> 63\u001b[0;31m                 \u001b[0;32mreturn\u001b[0m \u001b[0mf\u001b[0m\u001b[0;34m(\u001b[0m\u001b[0;34m*\u001b[0m\u001b[0margs\u001b[0m\u001b[0;34m,\u001b[0m \u001b[0;34m**\u001b[0m\u001b[0mkwargs\u001b[0m\u001b[0;34m)\u001b[0m\u001b[0;34m\u001b[0m\u001b[0;34m\u001b[0m\u001b[0m\n\u001b[0m\u001b[1;32m     64\u001b[0m \u001b[0;34m\u001b[0m\u001b[0m\n\u001b[1;32m     65\u001b[0m             \u001b[0;31m# extra_args > 0\u001b[0m\u001b[0;34m\u001b[0m\u001b[0;34m\u001b[0m\u001b[0;34m\u001b[0m\u001b[0m\n",
      "\u001b[0;32m~/opt/anaconda3/lib/python3.8/site-packages/sklearn/utils/validation.py\u001b[0m in \u001b[0;36mcheck_X_y\u001b[0;34m(X, y, accept_sparse, accept_large_sparse, dtype, order, copy, force_all_finite, ensure_2d, allow_nd, multi_output, ensure_min_samples, ensure_min_features, y_numeric, estimator)\u001b[0m\n\u001b[1;32m    869\u001b[0m         \u001b[0;32mraise\u001b[0m \u001b[0mValueError\u001b[0m\u001b[0;34m(\u001b[0m\u001b[0;34m\"y cannot be None\"\u001b[0m\u001b[0;34m)\u001b[0m\u001b[0;34m\u001b[0m\u001b[0;34m\u001b[0m\u001b[0m\n\u001b[1;32m    870\u001b[0m \u001b[0;34m\u001b[0m\u001b[0m\n\u001b[0;32m--> 871\u001b[0;31m     X = check_array(X, accept_sparse=accept_sparse,\n\u001b[0m\u001b[1;32m    872\u001b[0m                     \u001b[0maccept_large_sparse\u001b[0m\u001b[0;34m=\u001b[0m\u001b[0maccept_large_sparse\u001b[0m\u001b[0;34m,\u001b[0m\u001b[0;34m\u001b[0m\u001b[0;34m\u001b[0m\u001b[0m\n\u001b[1;32m    873\u001b[0m                     \u001b[0mdtype\u001b[0m\u001b[0;34m=\u001b[0m\u001b[0mdtype\u001b[0m\u001b[0;34m,\u001b[0m \u001b[0morder\u001b[0m\u001b[0;34m=\u001b[0m\u001b[0morder\u001b[0m\u001b[0;34m,\u001b[0m \u001b[0mcopy\u001b[0m\u001b[0;34m=\u001b[0m\u001b[0mcopy\u001b[0m\u001b[0;34m,\u001b[0m\u001b[0;34m\u001b[0m\u001b[0;34m\u001b[0m\u001b[0m\n",
      "\u001b[0;32m~/opt/anaconda3/lib/python3.8/site-packages/sklearn/utils/validation.py\u001b[0m in \u001b[0;36minner_f\u001b[0;34m(*args, **kwargs)\u001b[0m\n\u001b[1;32m     61\u001b[0m             \u001b[0mextra_args\u001b[0m \u001b[0;34m=\u001b[0m \u001b[0mlen\u001b[0m\u001b[0;34m(\u001b[0m\u001b[0margs\u001b[0m\u001b[0;34m)\u001b[0m \u001b[0;34m-\u001b[0m \u001b[0mlen\u001b[0m\u001b[0;34m(\u001b[0m\u001b[0mall_args\u001b[0m\u001b[0;34m)\u001b[0m\u001b[0;34m\u001b[0m\u001b[0;34m\u001b[0m\u001b[0m\n\u001b[1;32m     62\u001b[0m             \u001b[0;32mif\u001b[0m \u001b[0mextra_args\u001b[0m \u001b[0;34m<=\u001b[0m \u001b[0;36m0\u001b[0m\u001b[0;34m:\u001b[0m\u001b[0;34m\u001b[0m\u001b[0;34m\u001b[0m\u001b[0m\n\u001b[0;32m---> 63\u001b[0;31m                 \u001b[0;32mreturn\u001b[0m \u001b[0mf\u001b[0m\u001b[0;34m(\u001b[0m\u001b[0;34m*\u001b[0m\u001b[0margs\u001b[0m\u001b[0;34m,\u001b[0m \u001b[0;34m**\u001b[0m\u001b[0mkwargs\u001b[0m\u001b[0;34m)\u001b[0m\u001b[0;34m\u001b[0m\u001b[0;34m\u001b[0m\u001b[0m\n\u001b[0m\u001b[1;32m     64\u001b[0m \u001b[0;34m\u001b[0m\u001b[0m\n\u001b[1;32m     65\u001b[0m             \u001b[0;31m# extra_args > 0\u001b[0m\u001b[0;34m\u001b[0m\u001b[0;34m\u001b[0m\u001b[0;34m\u001b[0m\u001b[0m\n",
      "\u001b[0;32m~/opt/anaconda3/lib/python3.8/site-packages/sklearn/utils/validation.py\u001b[0m in \u001b[0;36mcheck_array\u001b[0;34m(array, accept_sparse, accept_large_sparse, dtype, order, copy, force_all_finite, ensure_2d, allow_nd, ensure_min_samples, ensure_min_features, estimator)\u001b[0m\n\u001b[1;32m    732\u001b[0m         \u001b[0mn_features\u001b[0m \u001b[0;34m=\u001b[0m \u001b[0marray\u001b[0m\u001b[0;34m.\u001b[0m\u001b[0mshape\u001b[0m\u001b[0;34m[\u001b[0m\u001b[0;36m1\u001b[0m\u001b[0;34m]\u001b[0m\u001b[0;34m\u001b[0m\u001b[0;34m\u001b[0m\u001b[0m\n\u001b[1;32m    733\u001b[0m         \u001b[0;32mif\u001b[0m \u001b[0mn_features\u001b[0m \u001b[0;34m<\u001b[0m \u001b[0mensure_min_features\u001b[0m\u001b[0;34m:\u001b[0m\u001b[0;34m\u001b[0m\u001b[0;34m\u001b[0m\u001b[0m\n\u001b[0;32m--> 734\u001b[0;31m             raise ValueError(\"Found array with %d feature(s) (shape=%s) while\"\n\u001b[0m\u001b[1;32m    735\u001b[0m                              \u001b[0;34m\" a minimum of %d is required%s.\"\u001b[0m\u001b[0;34m\u001b[0m\u001b[0;34m\u001b[0m\u001b[0m\n\u001b[1;32m    736\u001b[0m                              % (n_features, array.shape, ensure_min_features,\n",
      "\u001b[0;31mValueError\u001b[0m: Found array with 0 feature(s) (shape=(1871, 0)) while a minimum of 1 is required."
     ]
    }
   ],
   "source": [
    "train_score, test_score,lasso_feats = lasso_linear_model_score(\n",
    "    train, \n",
    "   test,\n",
    "   alpha, \n",
    "   'SalePrice', \n",
    "   cat_feats,\n",
    "   drop_cols = ['SalePrice', 'TotalBsmtSF']\n",
    ")"
   ]
  },
  {
   "cell_type": "code",
   "execution_count": 16,
   "id": "f4bb8311",
   "metadata": {},
   "outputs": [
    {
     "data": {
      "text/plain": [
       "array([0.01, 0.02, 0.03, 0.04, 0.05, 0.06, 0.07, 0.08, 0.09, 0.1 , 0.11,\n",
       "       0.12, 0.13, 0.14, 0.15, 0.16, 0.17, 0.18, 0.19, 0.2 , 0.21, 0.22,\n",
       "       0.23, 0.24, 0.25, 0.26, 0.27, 0.28, 0.29, 0.3 , 0.31, 0.32, 0.33,\n",
       "       0.34, 0.35, 0.36, 0.37, 0.38, 0.39, 0.4 , 0.41, 0.42, 0.43, 0.44,\n",
       "       0.45, 0.46, 0.47, 0.48, 0.49, 0.5 , 0.51, 0.52, 0.53, 0.54, 0.55,\n",
       "       0.56, 0.57, 0.58, 0.59, 0.6 , 0.61, 0.62, 0.63, 0.64, 0.65, 0.66,\n",
       "       0.67, 0.68, 0.69, 0.7 , 0.71, 0.72, 0.73, 0.74, 0.75, 0.76, 0.77,\n",
       "       0.78, 0.79, 0.8 , 0.81, 0.82, 0.83, 0.84, 0.85, 0.86, 0.87, 0.88,\n",
       "       0.89, 0.9 , 0.91, 0.92, 0.93, 0.94, 0.95, 0.96, 0.97, 0.98, 0.99,\n",
       "       1.  ])"
      ]
     },
     "execution_count": 16,
     "metadata": {},
     "output_type": "execute_result"
    }
   ],
   "source": [
    "alphas"
   ]
  },
  {
   "cell_type": "code",
   "execution_count": null,
   "id": "e45143ac",
   "metadata": {},
   "outputs": [],
   "source": [
    "plt.plot(alphas, lasso_scores_train, label=r'$train\\ R^2$')\n",
    "plt.plot(alphas, lasso_scores_test, label=r'$test\\ R^2$')\n",
    "plt.title(r'Lasso Train-Test $R^2$ Comparison')\n",
    "lasso_underfit = lasso_scores_train < lasso_scores_test\n",
    "last_underfit  = np.max(alphas[lasso_underfit])\n",
    "plt.axvline(last_underfit, linestyle='--', color='g', label='optimal lambda', alpha=0.4)\n",
    "plt.legend(loc=1)\n",
    "plt.xlabel(r'hyperparameter $\\lambda$')\n",
    "plt.ylabel(r'$R^2$')"
   ]
  }
 ],
 "metadata": {
  "kernelspec": {
   "display_name": "Python 3",
   "language": "python",
   "name": "python3"
  },
  "language_info": {
   "codemirror_mode": {
    "name": "ipython",
    "version": 3
   },
   "file_extension": ".py",
   "mimetype": "text/x-python",
   "name": "python",
   "nbconvert_exporter": "python",
   "pygments_lexer": "ipython3",
   "version": "3.8.8"
  }
 },
 "nbformat": 4,
 "nbformat_minor": 5
}
