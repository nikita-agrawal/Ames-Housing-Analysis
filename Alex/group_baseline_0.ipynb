{
 "cells": [
  {
   "cell_type": "code",
   "execution_count": 52,
   "metadata": {},
   "outputs": [],
   "source": [
    "import pandas as pd\n",
    "import numpy as np\n",
    "from sklearn import linear_model\n",
    "from sklearn.preprocessing import OneHotEncoder\n",
    "from sklearn.compose import ColumnTransformer\n",
    "from sklearn.preprocessing import StandardScaler\n",
    "from sklearn.feature_selection import SelectFromModel\n",
    "import matplotlib.pyplot as plt\n",
    "import seaborn as sns\n",
    "import matplotlib.style as style\n",
    "style.use('fivethirtyeight')"
   ]
  },
  {
   "cell_type": "code",
   "execution_count": 3,
   "metadata": {},
   "outputs": [],
   "source": [
    "colors = [\"#FF0B04\", \"#F1BE48\",\n",
    "           \"#B9975B\", \"#8B5B29\",\n",
    "           \"#524727\",\n",
    "         ]\n",
    "sns.set_palette(sns.color_palette(colors))"
   ]
  },
  {
   "cell_type": "code",
   "execution_count": 4,
   "metadata": {
    "scrolled": false
   },
   "outputs": [],
   "source": [
    "train = pd.read_csv('train_clean.csv', index_col=0)"
   ]
  },
  {
   "cell_type": "code",
   "execution_count": 6,
   "metadata": {},
   "outputs": [
    {
     "data": {
      "text/plain": [
       "[]"
      ]
     },
     "execution_count": 6,
     "metadata": {},
     "output_type": "execute_result"
    }
   ],
   "source": [
    "cols_na = train.loc[:,train.isna().any(axis=0)].columns.to_list()\n",
    "cols_na"
   ]
  },
  {
   "cell_type": "code",
   "execution_count": 10,
   "metadata": {},
   "outputs": [],
   "source": [
    "cat_feats = train.select_dtypes(['object','bool']).columns.to_list()"
   ]
  },
  {
   "cell_type": "code",
   "execution_count": 47,
   "metadata": {},
   "outputs": [],
   "source": [
    "cat_feats = cat_feats + ['YearBuilt','KitchenQual']"
   ]
  },
  {
   "cell_type": "code",
   "execution_count": 43,
   "metadata": {
    "scrolled": true
   },
   "outputs": [
    {
     "data": {
      "text/plain": [
       "['BldgType',\n",
       " 'BsmtFinType1',\n",
       " 'BsmtFinType2',\n",
       " 'CentralAir',\n",
       " 'Condition1',\n",
       " 'Condition2',\n",
       " 'Electrical',\n",
       " 'Exterior1st',\n",
       " 'Exterior2nd',\n",
       " 'Fence',\n",
       " 'Foundation',\n",
       " 'Functional',\n",
       " 'GarageType',\n",
       " 'Heating',\n",
       " 'HouseStyle',\n",
       " 'LandContour',\n",
       " 'LandSlope',\n",
       " 'LotConfig',\n",
       " 'LotShape',\n",
       " 'MSSubClass',\n",
       " 'MSZoning',\n",
       " 'MasVnrType',\n",
       " 'MiscFeature',\n",
       " 'Neighborhood',\n",
       " 'RoofMatl',\n",
       " 'RoofStyle',\n",
       " 'SaleCondition',\n",
       " 'SaleType',\n",
       " 'Street',\n",
       " 'Utilities']"
      ]
     },
     "execution_count": 43,
     "metadata": {},
     "output_type": "execute_result"
    }
   ],
   "source": [
    "sorted(cat_feats)"
   ]
  },
  {
   "cell_type": "code",
   "execution_count": 14,
   "metadata": {},
   "outputs": [
    {
     "data": {
      "text/plain": [
       "dtype('int64')"
      ]
     },
     "execution_count": 14,
     "metadata": {},
     "output_type": "execute_result"
    }
   ],
   "source": [
    "train['GrLivArea'].dtypes"
   ]
  },
  {
   "cell_type": "code",
   "execution_count": 44,
   "metadata": {
    "scrolled": true
   },
   "outputs": [
    {
     "data": {
      "text/plain": [
       "['1stFlrSF',\n",
       " '2ndFlrSF',\n",
       " '3SsnPorch',\n",
       " 'Alley',\n",
       " 'BedroomAbvGr',\n",
       " 'BsmtCond',\n",
       " 'BsmtExposure',\n",
       " 'BsmtFinSF1',\n",
       " 'BsmtFinSF2',\n",
       " 'BsmtFullBath',\n",
       " 'BsmtHalfBath',\n",
       " 'BsmtQual',\n",
       " 'BsmtUnfSF',\n",
       " 'EnclosedPorch',\n",
       " 'ExterCond',\n",
       " 'ExterQual',\n",
       " 'FireplaceQu',\n",
       " 'Fireplaces',\n",
       " 'FullBath',\n",
       " 'GarageArea',\n",
       " 'GarageCars',\n",
       " 'GarageCond',\n",
       " 'GarageFinish',\n",
       " 'GarageQual',\n",
       " 'GarageYrBlt',\n",
       " 'GrLivArea',\n",
       " 'HalfBath',\n",
       " 'HeatingQC',\n",
       " 'KitchenAbvGr',\n",
       " 'KitchenQual',\n",
       " 'LotArea',\n",
       " 'LotFrontage',\n",
       " 'LowQualFinSF',\n",
       " 'MasVnrArea',\n",
       " 'MiscVal',\n",
       " 'MoSold',\n",
       " 'OpenPorchSF',\n",
       " 'OverallCond',\n",
       " 'OverallQual',\n",
       " 'PID',\n",
       " 'PavedDrive',\n",
       " 'PoolArea',\n",
       " 'PoolQC',\n",
       " 'SalePrice',\n",
       " 'ScreenPorch',\n",
       " 'TotRmsAbvGrd',\n",
       " 'TotalBsmtSF',\n",
       " 'WoodDeckSF',\n",
       " 'YearBuilt',\n",
       " 'YearRemodAdd',\n",
       " 'YrSold']"
      ]
     },
     "execution_count": 44,
     "metadata": {},
     "output_type": "execute_result"
    }
   ],
   "source": [
    "sorted(train.select_dtypes(['float64','int64']).columns.to_list())"
   ]
  },
  {
   "cell_type": "code",
   "execution_count": 18,
   "metadata": {},
   "outputs": [],
   "source": [
    "ols = linear_model.LinearRegression()"
   ]
  },
  {
   "cell_type": "code",
   "execution_count": 20,
   "metadata": {},
   "outputs": [
    {
     "data": {
      "text/plain": [
       "0.9580849775963552"
      ]
     },
     "execution_count": 20,
     "metadata": {},
     "output_type": "execute_result"
    }
   ],
   "source": [
    "# Note on why TotalBsmt... later\n",
    "X = train.drop(['SalePrice', 'TotalBsmtSF'],axis=1)\n",
    "transformer = ColumnTransformer([(\"Cat\", OneHotEncoder(handle_unknown = 'ignore'), cat_feats)], remainder='passthrough')\n",
    "X = transformer.fit_transform(X)\n",
    "y = np.log(train['SalePrice'])\n",
    "ols.fit(X, y)\n",
    "ols.score(X, y)"
   ]
  },
  {
   "cell_type": "code",
   "execution_count": 13,
   "metadata": {},
   "outputs": [],
   "source": [
    "# 0.9580850723384223"
   ]
  },
  {
   "cell_type": "code",
   "execution_count": 17,
   "metadata": {},
   "outputs": [],
   "source": [
    "# 0.9531732835572826"
   ]
  },
  {
   "cell_type": "code",
   "execution_count": 21,
   "metadata": {},
   "outputs": [],
   "source": [
    "test = pd.read_csv('test_clean.csv', index_col=0)"
   ]
  },
  {
   "cell_type": "code",
   "execution_count": 23,
   "metadata": {},
   "outputs": [
    {
     "data": {
      "text/html": [
       "<div>\n",
       "<style scoped>\n",
       "    .dataframe tbody tr th:only-of-type {\n",
       "        vertical-align: middle;\n",
       "    }\n",
       "\n",
       "    .dataframe tbody tr th {\n",
       "        vertical-align: top;\n",
       "    }\n",
       "\n",
       "    .dataframe thead th {\n",
       "        text-align: right;\n",
       "    }\n",
       "</style>\n",
       "<table border=\"1\" class=\"dataframe\">\n",
       "  <thead>\n",
       "    <tr style=\"text-align: right;\">\n",
       "      <th></th>\n",
       "      <th>PID</th>\n",
       "      <th>GrLivArea</th>\n",
       "      <th>SalePrice</th>\n",
       "      <th>MSSubClass</th>\n",
       "      <th>MSZoning</th>\n",
       "      <th>LotFrontage</th>\n",
       "      <th>LotArea</th>\n",
       "      <th>Street</th>\n",
       "      <th>Alley</th>\n",
       "      <th>LotShape</th>\n",
       "      <th>...</th>\n",
       "      <th>ScreenPorch</th>\n",
       "      <th>PoolArea</th>\n",
       "      <th>PoolQC</th>\n",
       "      <th>Fence</th>\n",
       "      <th>MiscFeature</th>\n",
       "      <th>MiscVal</th>\n",
       "      <th>MoSold</th>\n",
       "      <th>YrSold</th>\n",
       "      <th>SaleType</th>\n",
       "      <th>SaleCondition</th>\n",
       "    </tr>\n",
       "  </thead>\n",
       "  <tbody>\n",
       "    <tr>\n",
       "      <th>0</th>\n",
       "      <td>903401020</td>\n",
       "      <td>1820</td>\n",
       "      <td>184000</td>\n",
       "      <td>MSSubClass_50</td>\n",
       "      <td>RL</td>\n",
       "      <td>60.0</td>\n",
       "      <td>9120</td>\n",
       "      <td>Pave</td>\n",
       "      <td>2</td>\n",
       "      <td>Reg</td>\n",
       "      <td>...</td>\n",
       "      <td>0</td>\n",
       "      <td>0</td>\n",
       "      <td>0</td>\n",
       "      <td>GdPrv</td>\n",
       "      <td>None</td>\n",
       "      <td>0</td>\n",
       "      <td>6</td>\n",
       "      <td>2008</td>\n",
       "      <td>WD</td>\n",
       "      <td>Normal</td>\n",
       "    </tr>\n",
       "    <tr>\n",
       "      <th>1</th>\n",
       "      <td>909100080</td>\n",
       "      <td>1296</td>\n",
       "      <td>104000</td>\n",
       "      <td>MSSubClass_30</td>\n",
       "      <td>RL</td>\n",
       "      <td>67.0</td>\n",
       "      <td>4853</td>\n",
       "      <td>Pave</td>\n",
       "      <td>0</td>\n",
       "      <td>Reg</td>\n",
       "      <td>...</td>\n",
       "      <td>0</td>\n",
       "      <td>0</td>\n",
       "      <td>0</td>\n",
       "      <td>MnPrv</td>\n",
       "      <td>None</td>\n",
       "      <td>0</td>\n",
       "      <td>5</td>\n",
       "      <td>2010</td>\n",
       "      <td>WD</td>\n",
       "      <td>Normal</td>\n",
       "    </tr>\n",
       "    <tr>\n",
       "      <th>2</th>\n",
       "      <td>531385020</td>\n",
       "      <td>1434</td>\n",
       "      <td>189000</td>\n",
       "      <td>MSSubClass_20</td>\n",
       "      <td>RL</td>\n",
       "      <td>65.0</td>\n",
       "      <td>8529</td>\n",
       "      <td>Pave</td>\n",
       "      <td>0</td>\n",
       "      <td>IR1</td>\n",
       "      <td>...</td>\n",
       "      <td>0</td>\n",
       "      <td>0</td>\n",
       "      <td>0</td>\n",
       "      <td>None</td>\n",
       "      <td>None</td>\n",
       "      <td>0</td>\n",
       "      <td>4</td>\n",
       "      <td>2009</td>\n",
       "      <td>WD</td>\n",
       "      <td>Normal</td>\n",
       "    </tr>\n",
       "    <tr>\n",
       "      <th>3</th>\n",
       "      <td>907130110</td>\n",
       "      <td>1499</td>\n",
       "      <td>187000</td>\n",
       "      <td>MSSubClass_60</td>\n",
       "      <td>RL</td>\n",
       "      <td>65.0</td>\n",
       "      <td>12438</td>\n",
       "      <td>Pave</td>\n",
       "      <td>0</td>\n",
       "      <td>IR1</td>\n",
       "      <td>...</td>\n",
       "      <td>0</td>\n",
       "      <td>0</td>\n",
       "      <td>0</td>\n",
       "      <td>None</td>\n",
       "      <td>None</td>\n",
       "      <td>0</td>\n",
       "      <td>8</td>\n",
       "      <td>2006</td>\n",
       "      <td>WD</td>\n",
       "      <td>Normal</td>\n",
       "    </tr>\n",
       "    <tr>\n",
       "      <th>4</th>\n",
       "      <td>924152030</td>\n",
       "      <td>1797</td>\n",
       "      <td>231000</td>\n",
       "      <td>MSSubClass_60</td>\n",
       "      <td>RL</td>\n",
       "      <td>74.0</td>\n",
       "      <td>12961</td>\n",
       "      <td>Pave</td>\n",
       "      <td>0</td>\n",
       "      <td>Reg</td>\n",
       "      <td>...</td>\n",
       "      <td>0</td>\n",
       "      <td>0</td>\n",
       "      <td>0</td>\n",
       "      <td>None</td>\n",
       "      <td>None</td>\n",
       "      <td>0</td>\n",
       "      <td>3</td>\n",
       "      <td>2010</td>\n",
       "      <td>WD</td>\n",
       "      <td>Normal</td>\n",
       "    </tr>\n",
       "  </tbody>\n",
       "</table>\n",
       "<p>5 rows × 81 columns</p>\n",
       "</div>"
      ],
      "text/plain": [
       "         PID  GrLivArea  SalePrice     MSSubClass MSZoning  LotFrontage  \\\n",
       "0  903401020       1820     184000  MSSubClass_50       RL         60.0   \n",
       "1  909100080       1296     104000  MSSubClass_30       RL         67.0   \n",
       "2  531385020       1434     189000  MSSubClass_20       RL         65.0   \n",
       "3  907130110       1499     187000  MSSubClass_60       RL         65.0   \n",
       "4  924152030       1797     231000  MSSubClass_60       RL         74.0   \n",
       "\n",
       "   LotArea Street  Alley LotShape  ... ScreenPorch PoolArea PoolQC  Fence  \\\n",
       "0     9120   Pave      2      Reg  ...           0        0      0  GdPrv   \n",
       "1     4853   Pave      0      Reg  ...           0        0      0  MnPrv   \n",
       "2     8529   Pave      0      IR1  ...           0        0      0   None   \n",
       "3    12438   Pave      0      IR1  ...           0        0      0   None   \n",
       "4    12961   Pave      0      Reg  ...           0        0      0   None   \n",
       "\n",
       "  MiscFeature MiscVal MoSold YrSold SaleType  SaleCondition  \n",
       "0        None       0      6   2008      WD          Normal  \n",
       "1        None       0      5   2010      WD          Normal  \n",
       "2        None       0      4   2009      WD          Normal  \n",
       "3        None       0      8   2006      WD          Normal  \n",
       "4        None       0      3   2010      WD          Normal  \n",
       "\n",
       "[5 rows x 81 columns]"
      ]
     },
     "execution_count": 23,
     "metadata": {},
     "output_type": "execute_result"
    }
   ],
   "source": [
    "test.head()"
   ]
  },
  {
   "cell_type": "code",
   "execution_count": 22,
   "metadata": {},
   "outputs": [
    {
     "data": {
      "text/plain": [
       "[]"
      ]
     },
     "execution_count": 22,
     "metadata": {},
     "output_type": "execute_result"
    }
   ],
   "source": [
    "cols_na = test.loc[:,test.isna().any(axis=0)].columns.to_list()\n",
    "cols_na"
   ]
  },
  {
   "cell_type": "code",
   "execution_count": 25,
   "metadata": {
    "scrolled": true
   },
   "outputs": [
    {
     "data": {
      "text/plain": [
       "-21318036.003695462"
      ]
     },
     "execution_count": 25,
     "metadata": {},
     "output_type": "execute_result"
    }
   ],
   "source": [
    "X_tst = test.drop(['SalePrice','TotalBsmtSF'],axis=1)\n",
    "X_tst = transformer.transform(X_tst)\n",
    "y_tst = np.log(test['SalePrice'])\n",
    "ols.score(X_tst, y_tst)"
   ]
  },
  {
   "cell_type": "code",
   "execution_count": 26,
   "metadata": {},
   "outputs": [],
   "source": [
    "# 0.9533403078902463"
   ]
  },
  {
   "cell_type": "code",
   "execution_count": 27,
   "metadata": {},
   "outputs": [
    {
     "data": {
      "text/plain": [
       "0.5361242929283243"
      ]
     },
     "execution_count": 27,
     "metadata": {},
     "output_type": "execute_result"
    }
   ],
   "source": [
    "X = train[['GrLivArea']]\n",
    "y = np.log(train['SalePrice'])\n",
    "ols.fit(X, y)\n",
    "ols.score(X, y)"
   ]
  },
  {
   "cell_type": "code",
   "execution_count": 28,
   "metadata": {},
   "outputs": [
    {
     "data": {
      "text/plain": [
       "0.5052486795731859"
      ]
     },
     "execution_count": 28,
     "metadata": {},
     "output_type": "execute_result"
    }
   ],
   "source": [
    "X_tst = test[['GrLivArea']]\n",
    "y_tst = np.log(test['SalePrice'])\n",
    "ols.score(X_tst, y_tst)"
   ]
  },
  {
   "cell_type": "code",
   "execution_count": 29,
   "metadata": {},
   "outputs": [],
   "source": [
    "num_cols = train.select_dtypes(['float64','int64']).columns.to_list()"
   ]
  },
  {
   "cell_type": "code",
   "execution_count": 30,
   "metadata": {},
   "outputs": [
    {
     "data": {
      "text/plain": [
       "0.9625822935301528"
      ]
     },
     "execution_count": 30,
     "metadata": {},
     "output_type": "execute_result"
    }
   ],
   "source": [
    "X = train.loc[:,num_cols]\n",
    "y = np.log(train['SalePrice'])\n",
    "ols.fit(X, y)\n",
    "ols.score(X, y)"
   ]
  },
  {
   "cell_type": "code",
   "execution_count": 31,
   "metadata": {},
   "outputs": [
    {
     "data": {
      "text/plain": [
       "0.9543194655331502"
      ]
     },
     "execution_count": 31,
     "metadata": {},
     "output_type": "execute_result"
    }
   ],
   "source": [
    "X = test.loc[:,num_cols]\n",
    "y = np.log(test['SalePrice'])\n",
    "ols.score(X, y)"
   ]
  },
  {
   "cell_type": "code",
   "execution_count": 33,
   "metadata": {},
   "outputs": [
    {
     "data": {
      "text/plain": [
       "0.9686600434413519"
      ]
     },
     "execution_count": 33,
     "metadata": {},
     "output_type": "execute_result"
    }
   ],
   "source": [
    "X = train.loc[:,num_cols+['Neighborhood']]\n",
    "transformer = ColumnTransformer([(\"Cat\", OneHotEncoder(handle_unknown = 'ignore'), ['Neighborhood'])], remainder='passthrough')\n",
    "X = transformer.fit_transform(X)\n",
    "y = np.log(train['SalePrice'])\n",
    "ols.fit(X, y)\n",
    "ols.score(X, y)"
   ]
  },
  {
   "cell_type": "code",
   "execution_count": 34,
   "metadata": {},
   "outputs": [
    {
     "data": {
      "text/plain": [
       "0.9607616402528316"
      ]
     },
     "execution_count": 34,
     "metadata": {},
     "output_type": "execute_result"
    }
   ],
   "source": [
    "X = test.loc[:,num_cols+['Neighborhood']]\n",
    "X = transformer.transform(X)\n",
    "y = np.log(test['SalePrice'])\n",
    "ols.score(X, y)"
   ]
  },
  {
   "cell_type": "code",
   "execution_count": 48,
   "metadata": {},
   "outputs": [],
   "source": [
    "def simple_linear_model_score(train, test, cols, target):\n",
    "    ols = linear_model.LinearRegression()\n",
    "    X = train[cols]\n",
    "    cat_feats = X.select_dtypes(['object','bool']).columns.to_list()\n",
    "    transformer = ColumnTransformer([(\"Cat\", OneHotEncoder(handle_unknown = 'ignore'), cat_feats)], remainder='passthrough')\n",
    "    X = transformer.fit_transform(X)\n",
    "    y = np.log(train[target])\n",
    "    \n",
    "    ols.fit(X, y)\n",
    "    train_score = ols.score(X, y)\n",
    "    \n",
    "    X_tst = test[cols]\n",
    "    X_tst = transformer.transform(X_tst)\n",
    "    y_tst = np.log(test[target])\n",
    "    test_score = ols.score(X_tst, y_tst)\n",
    "    \n",
    "    return train_score, test_score"
   ]
  },
  {
   "cell_type": "code",
   "execution_count": 36,
   "metadata": {},
   "outputs": [
    {
     "name": "stdout",
     "output_type": "stream",
     "text": [
      "0.5361242929283243\n",
      "0.5052486795731859\n"
     ]
    }
   ],
   "source": [
    "train_score, test_score = simple_linear_model_score(train,test,['GrLivArea'],'SalePrice')\n",
    "print(train_score)\n",
    "print(test_score)"
   ]
  },
  {
   "cell_type": "code",
   "execution_count": 45,
   "metadata": {},
   "outputs": [],
   "source": [
    "fav_cat = ['YearBuilt', 'ExterQual', 'Neighborhood', 'KitchenQual']"
   ]
  },
  {
   "cell_type": "code",
   "execution_count": 50,
   "metadata": {},
   "outputs": [
    {
     "data": {
      "text/plain": [
       "(0.9686600419133471, 0.9607610209654872)"
      ]
     },
     "execution_count": 50,
     "metadata": {},
     "output_type": "execute_result"
    }
   ],
   "source": [
    "simple_linear_model_score(train, test, num_cols + fav_cat, 'SalePrice')"
   ]
  },
  {
   "cell_type": "code",
   "execution_count": 56,
   "metadata": {},
   "outputs": [],
   "source": [
    "scaler = StandardScaler(with_mean=False)"
   ]
  },
  {
   "cell_type": "code",
   "execution_count": 58,
   "metadata": {
    "scrolled": true
   },
   "outputs": [
    {
     "data": {
      "text/plain": [
       "0.7361493786950961"
      ]
     },
     "execution_count": 58,
     "metadata": {},
     "output_type": "execute_result"
    }
   ],
   "source": [
    "X = train.drop(['SalePrice', 'TotalBsmtSF'],axis=1)\n",
    "\n",
    "transformer = ColumnTransformer([(\"Cat\", OneHotEncoder(handle_unknown = 'ignore'), cat_feats)], remainder='passthrough')\n",
    "X = transformer.fit_transform(X)\n",
    "\n",
    "X = scaler.fit_transform(X)\n",
    "\n",
    "y = np.log(train['SalePrice'])\n",
    "\n",
    "lasso = linear_model.Lasso(alpha=0.1)\n",
    "\n",
    "lasso.fit(X, y)\n",
    "lasso.score(X, y)"
   ]
  },
  {
   "cell_type": "code",
   "execution_count": 62,
   "metadata": {},
   "outputs": [
    {
     "data": {
      "text/plain": [
       "0.8604843360147527"
      ]
     },
     "execution_count": 62,
     "metadata": {},
     "output_type": "execute_result"
    }
   ],
   "source": [
    "X = train.drop(['SalePrice', 'TotalBsmtSF'],axis=1)\n",
    "\n",
    "transformer = ColumnTransformer([(\"Cat\", OneHotEncoder(handle_unknown = 'ignore'), cat_feats)], remainder='passthrough')\n",
    "X = transformer.fit_transform(X)\n",
    "\n",
    "X = scaler.fit_transform(X)\n",
    "\n",
    "y = np.log(train['SalePrice'])\n",
    "\n",
    "lasso = linear_model.Lasso(alpha=0.1)\n",
    "\n",
    "selector = SelectFromModel(estimator=lasso)\n",
    "\n",
    "X = selector.fit_transform(X, y)\n",
    "\n",
    "ols.fit(X,y)\n",
    "ols.score(X,y)"
   ]
  },
  {
   "cell_type": "code",
   "execution_count": 67,
   "metadata": {},
   "outputs": [
    {
     "data": {
      "text/plain": [
       "['GrLivArea',\n",
       " 'OverallQual',\n",
       " 'BsmtQual',\n",
       " '1stFlrSF',\n",
       " 'GarageCars',\n",
       " 'GarageArea']"
      ]
     },
     "execution_count": 67,
     "metadata": {},
     "output_type": "execute_result"
    }
   ],
   "source": [
    "X = train.drop(['SalePrice', 'TotalBsmtSF'],axis=1)\n",
    "\n",
    "transformer = ColumnTransformer([(\"Cat\", OneHotEncoder(handle_unknown = 'ignore'), cat_feats)], remainder='passthrough')\n",
    "X = transformer.fit_transform(X)\n",
    "\n",
    "feat_names = transformer.get_feature_names()\n",
    "\n",
    "X = scaler.fit_transform(X)\n",
    "\n",
    "y = np.log(train['SalePrice'])\n",
    "\n",
    "lasso = linear_model.Lasso(alpha=0.1)\n",
    "\n",
    "selector = SelectFromModel(estimator=lasso)\n",
    "\n",
    "X = selector.fit_transform(X, y)\n",
    "\n",
    "mask = selector.get_support()\n",
    "\n",
    "[a for a, b in zip(feat_names, mask) if b]\n"
   ]
  },
  {
   "cell_type": "code",
   "execution_count": 69,
   "metadata": {},
   "outputs": [
    {
     "data": {
      "text/plain": [
       "['Cat__x0_1Fam',\n",
       " 'Cat__x0_Twnhs',\n",
       " 'Cat__x1_ALQ',\n",
       " 'Cat__x1_GLQ',\n",
       " 'Cat__x1_LwQ',\n",
       " 'Cat__x1_Rec',\n",
       " 'Cat__x1_Unf',\n",
       " 'Cat__x2_BLQ',\n",
       " 'Cat__x2_GLQ',\n",
       " 'Cat__x2_Rec',\n",
       " 'Cat__x3_N',\n",
       " 'Cat__x4_Artery',\n",
       " 'Cat__x4_Feedr',\n",
       " 'Cat__x4_Norm',\n",
       " 'Cat__x4_PosN',\n",
       " 'Cat__x4_RRAe',\n",
       " 'Cat__x4_RRNe',\n",
       " 'Cat__x5_Artery',\n",
       " 'Cat__x5_Feedr',\n",
       " 'Cat__x5_PosA',\n",
       " 'Cat__x5_PosN',\n",
       " 'Cat__x7_BrkComm',\n",
       " 'Cat__x7_BrkFace',\n",
       " 'Cat__x7_CBlock',\n",
       " 'Cat__x7_HdBoard',\n",
       " 'Cat__x7_PreCast',\n",
       " 'Cat__x7_Stucco',\n",
       " 'Cat__x7_Wd Sdng',\n",
       " 'Cat__x8_AsbShng',\n",
       " 'Cat__x8_AsphShn',\n",
       " 'Cat__x8_CBlock',\n",
       " 'Cat__x8_CmentBd',\n",
       " 'Cat__x8_ImStucc',\n",
       " 'Cat__x8_Plywood',\n",
       " 'Cat__x8_PreCast',\n",
       " 'Cat__x8_VinylSd',\n",
       " 'Cat__x8_Wd Shng',\n",
       " 'Cat__x9_GdPrv',\n",
       " 'Cat__x9_GdWo',\n",
       " 'Cat__x9_MnWw',\n",
       " 'Cat__x10_BrkTil',\n",
       " 'Cat__x10_PConc',\n",
       " 'Cat__x11_Maj1',\n",
       " 'Cat__x11_Maj2',\n",
       " 'Cat__x11_Mod',\n",
       " 'Cat__x11_Typ',\n",
       " 'Cat__x12_2Types',\n",
       " 'Cat__x12_Attchd',\n",
       " 'Cat__x12_Basment',\n",
       " 'Cat__x12_CarPort',\n",
       " 'Cat__x13_Floor',\n",
       " 'Cat__x13_GasW',\n",
       " 'Cat__x13_Grav',\n",
       " 'Cat__x13_Wall',\n",
       " 'Cat__x14_1.5Fin',\n",
       " 'Cat__x14_2.5Fin',\n",
       " 'Cat__x14_SLvl',\n",
       " 'Cat__x15_Bnk',\n",
       " 'Cat__x15_HLS',\n",
       " 'Cat__x15_Low',\n",
       " 'Cat__x16_Mod',\n",
       " 'Cat__x17_CulDSac',\n",
       " 'Cat__x17_FR2',\n",
       " 'Cat__x17_FR3',\n",
       " 'Cat__x18_IR2',\n",
       " 'Cat__x19_MSSubClass_MSSubClass_MSSubClass_MSSubClass_150',\n",
       " 'Cat__x19_MSSubClass_MSSubClass_MSSubClass_MSSubClass_160',\n",
       " 'Cat__x19_MSSubClass_MSSubClass_MSSubClass_MSSubClass_20',\n",
       " 'Cat__x19_MSSubClass_MSSubClass_MSSubClass_MSSubClass_30',\n",
       " 'Cat__x19_MSSubClass_MSSubClass_MSSubClass_MSSubClass_45',\n",
       " 'Cat__x19_MSSubClass_MSSubClass_MSSubClass_MSSubClass_85',\n",
       " 'Cat__x20_C (all)',\n",
       " 'Cat__x20_I (all)',\n",
       " 'Cat__x20_RH',\n",
       " 'Cat__x20_RL',\n",
       " 'Cat__x20_RM',\n",
       " 'Cat__x21_BrkCmn',\n",
       " 'Cat__x22_Othr',\n",
       " 'Cat__x22_TenC',\n",
       " 'Cat__x23_BrDale',\n",
       " 'Cat__x23_BrkSide',\n",
       " 'Cat__x23_ClearCr',\n",
       " 'Cat__x23_CollgCr',\n",
       " 'Cat__x23_Crawfor',\n",
       " 'Cat__x23_Edwards',\n",
       " 'Cat__x23_Gilbert',\n",
       " 'Cat__x23_Greens',\n",
       " 'Cat__x23_GrnHill',\n",
       " 'Cat__x23_IDOTRR',\n",
       " 'Cat__x23_MeadowV',\n",
       " 'Cat__x23_NAmes',\n",
       " 'Cat__x23_NoRidge',\n",
       " 'Cat__x23_NridgHt',\n",
       " 'Cat__x23_OldTown',\n",
       " 'Cat__x23_SWISU',\n",
       " 'Cat__x23_SawyerW',\n",
       " 'Cat__x23_Somerst',\n",
       " 'Cat__x23_StoneBr',\n",
       " 'Cat__x23_Timber',\n",
       " 'Cat__x23_Veenker',\n",
       " 'Cat__x24_Membran',\n",
       " 'Cat__x24_Tar&Grv',\n",
       " 'Cat__x24_WdShngl',\n",
       " 'Cat__x25_Gambrel',\n",
       " 'Cat__x26_Normal',\n",
       " 'Cat__x27_COD',\n",
       " 'Cat__x27_Con',\n",
       " 'Cat__x27_ConLD',\n",
       " 'Cat__x27_ConLI',\n",
       " 'Cat__x27_ConLw',\n",
       " 'Cat__x28_Grvl',\n",
       " 'Cat__x30_1875',\n",
       " 'Cat__x30_1879',\n",
       " 'Cat__x30_1880',\n",
       " 'Cat__x30_1882',\n",
       " 'Cat__x30_1890',\n",
       " 'Cat__x30_1892',\n",
       " 'Cat__x30_1895',\n",
       " 'Cat__x30_1898',\n",
       " 'Cat__x30_1900',\n",
       " 'Cat__x30_1902',\n",
       " 'Cat__x30_1905',\n",
       " 'Cat__x30_1910',\n",
       " 'Cat__x30_1913',\n",
       " 'Cat__x30_1914',\n",
       " 'Cat__x30_1916',\n",
       " 'Cat__x30_1917',\n",
       " 'Cat__x30_1919',\n",
       " 'Cat__x30_1920',\n",
       " 'Cat__x30_1921',\n",
       " 'Cat__x30_1922',\n",
       " 'Cat__x30_1923',\n",
       " 'Cat__x30_1924',\n",
       " 'Cat__x30_1925',\n",
       " 'Cat__x30_1926',\n",
       " 'Cat__x30_1927',\n",
       " 'Cat__x30_1930',\n",
       " 'Cat__x30_1931',\n",
       " 'Cat__x30_1932',\n",
       " 'Cat__x30_1934',\n",
       " 'Cat__x30_1936',\n",
       " 'Cat__x30_1937',\n",
       " 'Cat__x30_1938',\n",
       " 'Cat__x30_1939',\n",
       " 'Cat__x30_1940',\n",
       " 'Cat__x30_1941',\n",
       " 'Cat__x30_1946',\n",
       " 'Cat__x30_1947',\n",
       " 'Cat__x30_1948',\n",
       " 'Cat__x30_1955',\n",
       " 'Cat__x30_1956',\n",
       " 'Cat__x30_1958',\n",
       " 'Cat__x30_1959',\n",
       " 'Cat__x30_1960',\n",
       " 'Cat__x30_1962',\n",
       " 'Cat__x30_1964',\n",
       " 'Cat__x30_1965',\n",
       " 'Cat__x30_1966',\n",
       " 'Cat__x30_1968',\n",
       " 'Cat__x30_1970',\n",
       " 'Cat__x30_1971',\n",
       " 'Cat__x30_1972',\n",
       " 'Cat__x30_1973',\n",
       " 'Cat__x30_1975',\n",
       " 'Cat__x30_1976',\n",
       " 'Cat__x30_1977',\n",
       " 'Cat__x30_1979',\n",
       " 'Cat__x30_1980',\n",
       " 'Cat__x30_1984',\n",
       " 'Cat__x30_1986',\n",
       " 'Cat__x30_1987',\n",
       " 'Cat__x30_1988',\n",
       " 'Cat__x30_1992',\n",
       " 'Cat__x30_1995',\n",
       " 'Cat__x30_1996',\n",
       " 'Cat__x30_1997',\n",
       " 'Cat__x30_1998',\n",
       " 'Cat__x30_2000',\n",
       " 'Cat__x30_2001',\n",
       " 'Cat__x30_2002',\n",
       " 'Cat__x30_2003',\n",
       " 'Cat__x30_2004',\n",
       " 'Cat__x30_2005',\n",
       " 'Cat__x30_2006',\n",
       " 'Cat__x30_2007',\n",
       " 'Cat__x30_2008',\n",
       " 'Cat__x30_2009',\n",
       " 'Cat__x30_2010',\n",
       " 'Cat__x31_2',\n",
       " 'Cat__x31_3',\n",
       " 'Cat__x31_5',\n",
       " 'PID',\n",
       " 'GrLivArea',\n",
       " 'LotFrontage',\n",
       " 'LotArea',\n",
       " 'OverallQual',\n",
       " 'OverallCond',\n",
       " 'YearRemodAdd',\n",
       " 'MasVnrArea',\n",
       " 'ExterQual',\n",
       " 'BsmtQual',\n",
       " 'BsmtExposure',\n",
       " 'BsmtFinSF1',\n",
       " 'BsmtFinSF2',\n",
       " 'BsmtUnfSF',\n",
       " 'HeatingQC',\n",
       " '1stFlrSF',\n",
       " 'LowQualFinSF',\n",
       " 'BsmtFullBath',\n",
       " 'FullBath',\n",
       " 'HalfBath',\n",
       " 'BedroomAbvGr',\n",
       " 'KitchenAbvGr',\n",
       " 'TotRmsAbvGrd',\n",
       " 'Fireplaces',\n",
       " 'FireplaceQu',\n",
       " 'GarageFinish',\n",
       " 'GarageCars',\n",
       " 'GarageArea',\n",
       " 'GarageQual',\n",
       " 'GarageCond',\n",
       " 'PavedDrive',\n",
       " 'WoodDeckSF',\n",
       " 'OpenPorchSF',\n",
       " 'EnclosedPorch',\n",
       " '3SsnPorch',\n",
       " 'ScreenPorch',\n",
       " 'PoolQC',\n",
       " 'MoSold']"
      ]
     },
     "execution_count": 69,
     "metadata": {},
     "output_type": "execute_result"
    }
   ],
   "source": [
    "X = train.drop(['SalePrice', 'TotalBsmtSF'],axis=1)\n",
    "\n",
    "transformer = ColumnTransformer([(\"Cat\", OneHotEncoder(handle_unknown = 'ignore'), cat_feats)], remainder='passthrough')\n",
    "X = transformer.fit_transform(X)\n",
    "\n",
    "feat_names = transformer.get_feature_names()\n",
    "\n",
    "X = scaler.fit_transform(X)\n",
    "\n",
    "y = np.log(train['SalePrice'])\n",
    "\n",
    "lasso = linear_model.Lasso(alpha=0.001)\n",
    "\n",
    "selector = SelectFromModel(estimator=lasso)\n",
    "\n",
    "X = selector.fit_transform(X, y)\n",
    "\n",
    "mask = selector.get_support()\n",
    "\n",
    "[a for a, b in zip(feat_names, mask) if b]"
   ]
  },
  {
   "cell_type": "code",
   "execution_count": null,
   "metadata": {},
   "outputs": [],
   "source": [
    "selector = SelectFromModel(estimator=lasso)\n",
    "X = selector.fit_transform(X, y)"
   ]
  },
  {
   "cell_type": "code",
   "execution_count": null,
   "metadata": {},
   "outputs": [],
   "source": [
    "transformer = ColumnTransformer([(\"Cat\", OneHotEncoder(drop='first'), cats)], remainder='passthrough')\n",
    "X = transformer.fit_transform(X)\n",
    "X = scaler.fit_transform(X)\n",
    "y = train['return_flag']\n",
    "\n",
    "clf.set_params(penalty='l1', C=0.01, random_state=42, solver='saga', max_iter=10000)\n",
    "selector = SelectFromModel(estimator=clf)\n",
    "X = selector.fit_transform(X, y)\n",
    "\n",
    "clf = LogisticRegression()\n",
    "clf.fit(X,y)\n",
    "clf.score(X,y)"
   ]
  }
 ],
 "metadata": {
  "kernelspec": {
   "display_name": "Python 3",
   "language": "python",
   "name": "python3"
  },
  "language_info": {
   "codemirror_mode": {
    "name": "ipython",
    "version": 3
   },
   "file_extension": ".py",
   "mimetype": "text/x-python",
   "name": "python",
   "nbconvert_exporter": "python",
   "pygments_lexer": "ipython3",
   "version": "3.8.5"
  }
 },
 "nbformat": 4,
 "nbformat_minor": 5
}
