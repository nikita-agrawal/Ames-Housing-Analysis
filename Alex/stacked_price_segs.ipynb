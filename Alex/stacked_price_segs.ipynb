{
 "cells": [
  {
   "cell_type": "code",
   "execution_count": 1,
   "metadata": {},
   "outputs": [],
   "source": [
    "import pandas as pd\n",
    "import numpy as np\n",
    "from sklearn import linear_model\n",
    "from sklearn.linear_model import LinearRegression\n",
    "from sklearn.linear_model import Ridge\n",
    "from sklearn.linear_model import Lasso\n",
    "from sklearn.preprocessing import OneHotEncoder\n",
    "from sklearn.compose import ColumnTransformer\n",
    "from sklearn.cluster import KMeans\n",
    "from sklearn.metrics import silhouette_samples, silhouette_score\n",
    "from sklearn.preprocessing import StandardScaler\n",
    "from sklearn.feature_selection import SelectFromModel\n",
    "from sklearn.model_selection import ShuffleSplit\n",
    "from sklearn.model_selection import cross_val_score\n",
    "from sklearn.model_selection import RepeatedKFold\n",
    "from sklearn.model_selection import GridSearchCV\n",
    "from sklearn.pipeline import Pipeline\n",
    "from scipy import stats\n",
    "import xgboost as xgb\n",
    "import matplotlib.pyplot as plt\n",
    "import seaborn as sns\n",
    "import matplotlib.style as style\n",
    "style.use('fivethirtyeight')\n",
    "import matplotlib.cm as cm\n",
    "import helper"
   ]
  },
  {
   "cell_type": "code",
   "execution_count": 2,
   "metadata": {},
   "outputs": [],
   "source": [
    "colors = [\"#FF0B04\", \"#F1BE48\",\n",
    "           \"#B9975B\", \"#8B5B29\",\n",
    "           \"#524727\",\n",
    "         ]\n",
    "sns.set_palette(sns.color_palette(colors))"
   ]
  },
  {
   "cell_type": "code",
   "execution_count": 3,
   "metadata": {},
   "outputs": [],
   "source": [
    "df = pd.read_csv('Ames_Housing_Price_Data.csv', \n",
    "                             index_col=0,low_memory = False)"
   ]
  },
  {
   "cell_type": "code",
   "execution_count": 4,
   "metadata": {},
   "outputs": [],
   "source": [
    "train, test = helper.data_processing_wrapper(df, num_to_cat_list=[], remove_PID=False)"
   ]
  },
  {
   "cell_type": "code",
   "execution_count": 5,
   "metadata": {
    "scrolled": false
   },
   "outputs": [
    {
     "data": {
      "text/html": [
       "<div>\n",
       "<style scoped>\n",
       "    .dataframe tbody tr th:only-of-type {\n",
       "        vertical-align: middle;\n",
       "    }\n",
       "\n",
       "    .dataframe tbody tr th {\n",
       "        vertical-align: top;\n",
       "    }\n",
       "\n",
       "    .dataframe thead th {\n",
       "        text-align: right;\n",
       "    }\n",
       "</style>\n",
       "<table border=\"1\" class=\"dataframe\">\n",
       "  <thead>\n",
       "    <tr style=\"text-align: right;\">\n",
       "      <th></th>\n",
       "      <th>PID</th>\n",
       "      <th>GrLivArea</th>\n",
       "      <th>SalePrice</th>\n",
       "      <th>MSSubClass</th>\n",
       "      <th>MSZoning</th>\n",
       "      <th>LotFrontage</th>\n",
       "      <th>LotArea</th>\n",
       "      <th>Street</th>\n",
       "      <th>Alley</th>\n",
       "      <th>LotShape</th>\n",
       "      <th>...</th>\n",
       "      <th>ScreenPorch</th>\n",
       "      <th>PoolArea</th>\n",
       "      <th>PoolQC</th>\n",
       "      <th>Fence</th>\n",
       "      <th>MiscFeature</th>\n",
       "      <th>MiscVal</th>\n",
       "      <th>MoSold</th>\n",
       "      <th>YrSold</th>\n",
       "      <th>SaleType</th>\n",
       "      <th>SaleCondition</th>\n",
       "    </tr>\n",
       "  </thead>\n",
       "  <tbody>\n",
       "    <tr>\n",
       "      <th>0</th>\n",
       "      <td>905101330</td>\n",
       "      <td>1296</td>\n",
       "      <td>90000</td>\n",
       "      <td>90</td>\n",
       "      <td>RL</td>\n",
       "      <td>72.000000</td>\n",
       "      <td>10791</td>\n",
       "      <td>Pave</td>\n",
       "      <td>0</td>\n",
       "      <td>Reg</td>\n",
       "      <td>...</td>\n",
       "      <td>0</td>\n",
       "      <td>0</td>\n",
       "      <td>0</td>\n",
       "      <td>None</td>\n",
       "      <td>Shed</td>\n",
       "      <td>500</td>\n",
       "      <td>10</td>\n",
       "      <td>2006</td>\n",
       "      <td>WD</td>\n",
       "      <td>Normal</td>\n",
       "    </tr>\n",
       "    <tr>\n",
       "      <th>1</th>\n",
       "      <td>909451100</td>\n",
       "      <td>1229</td>\n",
       "      <td>137000</td>\n",
       "      <td>160</td>\n",
       "      <td>RM</td>\n",
       "      <td>24.000000</td>\n",
       "      <td>1488</td>\n",
       "      <td>Pave</td>\n",
       "      <td>0</td>\n",
       "      <td>Reg</td>\n",
       "      <td>...</td>\n",
       "      <td>0</td>\n",
       "      <td>0</td>\n",
       "      <td>0</td>\n",
       "      <td>GdPrv</td>\n",
       "      <td>None</td>\n",
       "      <td>0</td>\n",
       "      <td>10</td>\n",
       "      <td>2009</td>\n",
       "      <td>WD</td>\n",
       "      <td>Normal</td>\n",
       "    </tr>\n",
       "    <tr>\n",
       "      <th>2</th>\n",
       "      <td>527451450</td>\n",
       "      <td>948</td>\n",
       "      <td>89000</td>\n",
       "      <td>160</td>\n",
       "      <td>RM</td>\n",
       "      <td>21.000000</td>\n",
       "      <td>1680</td>\n",
       "      <td>Pave</td>\n",
       "      <td>0</td>\n",
       "      <td>Reg</td>\n",
       "      <td>...</td>\n",
       "      <td>0</td>\n",
       "      <td>0</td>\n",
       "      <td>0</td>\n",
       "      <td>None</td>\n",
       "      <td>None</td>\n",
       "      <td>0</td>\n",
       "      <td>7</td>\n",
       "      <td>2006</td>\n",
       "      <td>WD</td>\n",
       "      <td>Normal</td>\n",
       "    </tr>\n",
       "    <tr>\n",
       "      <th>3</th>\n",
       "      <td>903232190</td>\n",
       "      <td>1040</td>\n",
       "      <td>123900</td>\n",
       "      <td>50</td>\n",
       "      <td>RM</td>\n",
       "      <td>52.000000</td>\n",
       "      <td>6240</td>\n",
       "      <td>Pave</td>\n",
       "      <td>0</td>\n",
       "      <td>Reg</td>\n",
       "      <td>...</td>\n",
       "      <td>0</td>\n",
       "      <td>0</td>\n",
       "      <td>0</td>\n",
       "      <td>None</td>\n",
       "      <td>None</td>\n",
       "      <td>0</td>\n",
       "      <td>5</td>\n",
       "      <td>2010</td>\n",
       "      <td>WD</td>\n",
       "      <td>Normal</td>\n",
       "    </tr>\n",
       "    <tr>\n",
       "      <th>4</th>\n",
       "      <td>914452120</td>\n",
       "      <td>912</td>\n",
       "      <td>156000</td>\n",
       "      <td>85</td>\n",
       "      <td>RL</td>\n",
       "      <td>61.990202</td>\n",
       "      <td>7540</td>\n",
       "      <td>Pave</td>\n",
       "      <td>0</td>\n",
       "      <td>IR1</td>\n",
       "      <td>...</td>\n",
       "      <td>192</td>\n",
       "      <td>0</td>\n",
       "      <td>0</td>\n",
       "      <td>MnPrv</td>\n",
       "      <td>None</td>\n",
       "      <td>0</td>\n",
       "      <td>6</td>\n",
       "      <td>2007</td>\n",
       "      <td>WD</td>\n",
       "      <td>Normal</td>\n",
       "    </tr>\n",
       "  </tbody>\n",
       "</table>\n",
       "<p>5 rows × 81 columns</p>\n",
       "</div>"
      ],
      "text/plain": [
       "         PID  GrLivArea  SalePrice  MSSubClass MSZoning  LotFrontage  LotArea  \\\n",
       "0  905101330       1296      90000          90       RL    72.000000    10791   \n",
       "1  909451100       1229     137000         160       RM    24.000000     1488   \n",
       "2  527451450        948      89000         160       RM    21.000000     1680   \n",
       "3  903232190       1040     123900          50       RM    52.000000     6240   \n",
       "4  914452120        912     156000          85       RL    61.990202     7540   \n",
       "\n",
       "  Street  Alley LotShape  ... ScreenPorch PoolArea PoolQC  Fence MiscFeature  \\\n",
       "0   Pave      0      Reg  ...           0        0      0   None        Shed   \n",
       "1   Pave      0      Reg  ...           0        0      0  GdPrv        None   \n",
       "2   Pave      0      Reg  ...           0        0      0   None        None   \n",
       "3   Pave      0      Reg  ...           0        0      0   None        None   \n",
       "4   Pave      0      IR1  ...         192        0      0  MnPrv        None   \n",
       "\n",
       "  MiscVal MoSold YrSold SaleType  SaleCondition  \n",
       "0     500     10   2006      WD          Normal  \n",
       "1       0     10   2009      WD          Normal  \n",
       "2       0      7   2006      WD          Normal  \n",
       "3       0      5   2010      WD          Normal  \n",
       "4       0      6   2007      WD          Normal  \n",
       "\n",
       "[5 rows x 81 columns]"
      ]
     },
     "execution_count": 5,
     "metadata": {},
     "output_type": "execute_result"
    }
   ],
   "source": [
    "train.head()"
   ]
  },
  {
   "cell_type": "code",
   "execution_count": 6,
   "metadata": {},
   "outputs": [],
   "source": [
    "categorical = ['MSZoning', 'MSSubClass','Street','Alley','LotShape','LandContour','LotConfig',\n",
    "               'LandSlope','Neighborhood','Condition1','Condition2','BldgType','HouseStyle',\n",
    "               'RoofStyle','Foundation', 'BsmtFinType1','BsmtFinType2','Heating','GarageType',\n",
    "               'GarageFinish','PavedDrive','MiscFeature','SaleType','SaleCondition',\n",
    "               'BedroomAbvGr', 'CentralAir', 'Utilities', 'RoofMatl', 'Exterior1st',\n",
    "               'Exterior2nd', 'MasVnrType', 'Electrical', 'Functional', 'Fence','KitchenAbvGr',\n",
    "               'MoSold','YrSold'\n",
    "              ]"
   ]
  },
  {
   "cell_type": "code",
   "execution_count": 7,
   "metadata": {},
   "outputs": [
    {
     "data": {
      "text/plain": [
       "[]"
      ]
     },
     "execution_count": 7,
     "metadata": {},
     "output_type": "execute_result"
    }
   ],
   "source": [
    "[col for col in train.select_dtypes(['object','bool']).columns.to_list() if col not in categorical]"
   ]
  },
  {
   "cell_type": "code",
   "execution_count": 8,
   "metadata": {},
   "outputs": [
    {
     "data": {
      "text/plain": [
       "[]"
      ]
     },
     "execution_count": 8,
     "metadata": {},
     "output_type": "execute_result"
    }
   ],
   "source": [
    "cols_na = train.loc[:,train.isna().any(axis=0)].columns.to_list()\n",
    "cols_na"
   ]
  },
  {
   "cell_type": "code",
   "execution_count": 9,
   "metadata": {},
   "outputs": [],
   "source": [
    "train['LogSalePrice'] = np.log(train['SalePrice'])"
   ]
  },
  {
   "cell_type": "code",
   "execution_count": 10,
   "metadata": {},
   "outputs": [],
   "source": [
    "nhds = train.groupby('Neighborhood').median()[['LogSalePrice']]\n",
    "nhds['LogSalePrice'] = stats.zscore(nhds['LogSalePrice'])"
   ]
  },
  {
   "cell_type": "code",
   "execution_count": 11,
   "metadata": {},
   "outputs": [],
   "source": [
    "def segment(y):\n",
    "    if round(y,2) < -0.75:\n",
    "        return 0\n",
    "    elif (round(y,2) >= -0.75) and (round(y,2) < 0.75):\n",
    "        return 1\n",
    "    else:\n",
    "        return 2"
   ]
  },
  {
   "cell_type": "code",
   "execution_count": 12,
   "metadata": {},
   "outputs": [],
   "source": [
    "nhds['Segment'] = nhds.apply(lambda x: segment(x['LogSalePrice']),axis = 1)\n",
    "nhds.sort_values('LogSalePrice')\n",
    "seg_dict = nhds.drop('LogSalePrice', axis=1).to_dict()['Segment']"
   ]
  },
  {
   "cell_type": "code",
   "execution_count": 13,
   "metadata": {},
   "outputs": [],
   "source": [
    "train['Segment'] = train.apply(lambda x: seg_dict[x['Neighborhood']], axis=1)"
   ]
  },
  {
   "cell_type": "code",
   "execution_count": 14,
   "metadata": {},
   "outputs": [],
   "source": [
    "X_train = train.drop(['SalePrice', 'PID', 'TotalBsmtSF', 'GrLivArea', 'LogSalePrice'], axis=1)\n",
    "y_train = train.loc[:, ['LogSalePrice', 'Segment']]"
   ]
  },
  {
   "cell_type": "code",
   "execution_count": 15,
   "metadata": {},
   "outputs": [],
   "source": [
    "def stacked_selector(X, y, selector_params):\n",
    "    \n",
    "    score_dict = {'score_0':0, 'score_1':0, 'score_2':0}\n",
    "    select_dict = {'select_0':[], 'select_1':[], 'select_2':[]}\n",
    "    \n",
    "    for j in range(3):\n",
    "              \n",
    "            X_levj = pd.DataFrame(X.loc[X['Segment']==j, :].drop('Segment', axis=1))\n",
    "            y_levj = y.loc[y['Segment']==j, :].drop('Segment', axis=1)\n",
    "\n",
    "            transformer = ColumnTransformer([(\"Cat\", OneHotEncoder(handle_unknown = 'ignore'), categorical)], \n",
    "                                            remainder='passthrough')\n",
    "            X_levj = transformer.fit_transform(X_levj)\n",
    "            scaler = StandardScaler(with_mean=False)\n",
    "            X_levj = scaler.fit_transform(X_levj)\n",
    "                         \n",
    "            lasso = Lasso(alpha=selector_params[j])\n",
    "            selector = SelectFromModel(estimator=lasso)\n",
    "\n",
    "            X_levj = selector.fit_transform(X_levj, y_levj)\n",
    "\n",
    "            ols = LinearRegression()\n",
    "            ols.fit(X_levj,y_levj)\n",
    "            if ols.score(X_levj,y_levj) > score_dict[f'score_{j}']:\n",
    "                score_dict[f'score_{j}'] = ols.score(X_levj,y_levj)\n",
    "                mask = selector.get_support()\n",
    "                feat_names = transformer.get_feature_names()\n",
    "                select_dict[f'select_{j}'] = [name for name, boo in zip(feat_names, mask) if boo]\n",
    "\n",
    "    return score_dict, select_dict"
   ]
  },
  {
   "cell_type": "code",
   "execution_count": 16,
   "metadata": {},
   "outputs": [
    {
     "data": {
      "text/plain": [
       "({'score_0': 0.9055574207191642,\n",
       "  'score_1': 0.9111792398515649,\n",
       "  'score_2': 0.9411753647092863},\n",
       " {'select_0': ['Cat__x0_C (all)',\n",
       "   'Cat__x0_RL',\n",
       "   'Cat__x1_30',\n",
       "   'Cat__x1_50',\n",
       "   'Cat__x1_160',\n",
       "   'Cat__x1_190',\n",
       "   'Cat__x3_2',\n",
       "   'Cat__x4_IR2',\n",
       "   'Cat__x4_IR3',\n",
       "   'Cat__x8_BrkSide',\n",
       "   'Cat__x8_MeadowV',\n",
       "   'Cat__x9_Feedr',\n",
       "   'Cat__x9_Norm',\n",
       "   'Cat__x11_1Fam',\n",
       "   'Cat__x11_Twnhs',\n",
       "   'Cat__x14_BrkTil',\n",
       "   'Cat__x14_PConc',\n",
       "   'Cat__x15_BLQ',\n",
       "   'Cat__x19_3',\n",
       "   'Cat__x20_0',\n",
       "   'Cat__x20_2',\n",
       "   'Cat__x21_Othr',\n",
       "   'Cat__x22_ConLI',\n",
       "   'Cat__x23_Normal',\n",
       "   'Cat__x24_1',\n",
       "   'Cat__x24_4',\n",
       "   'Cat__x24_6',\n",
       "   'Cat__x25_N',\n",
       "   'Cat__x27_CompShg',\n",
       "   'Cat__x28_AsbShng',\n",
       "   'Cat__x28_BrkFace',\n",
       "   'Cat__x28_PreCast',\n",
       "   'Cat__x32_Maj2',\n",
       "   'Cat__x32_Min2',\n",
       "   'Cat__x32_Typ',\n",
       "   'Cat__x35_3',\n",
       "   'Cat__x35_11',\n",
       "   'LotArea',\n",
       "   'OverallQual',\n",
       "   'OverallCond',\n",
       "   'YearBuilt',\n",
       "   'YearRemodAdd',\n",
       "   'ExterQual',\n",
       "   'BsmtQual',\n",
       "   'BsmtExposure',\n",
       "   'BsmtFinSF1',\n",
       "   'HeatingQC',\n",
       "   '1stFlrSF',\n",
       "   '2ndFlrSF',\n",
       "   'LowQualFinSF',\n",
       "   'FullBath',\n",
       "   'HalfBath',\n",
       "   'KitchenQual',\n",
       "   'Fireplaces',\n",
       "   'FireplaceQu',\n",
       "   'GarageCars',\n",
       "   'GarageArea',\n",
       "   'WoodDeckSF',\n",
       "   'ScreenPorch'],\n",
       "  'select_1': ['Cat__x0_RL',\n",
       "   'Cat__x1_30',\n",
       "   'Cat__x8_Crawfor',\n",
       "   'Cat__x9_Feedr',\n",
       "   'Cat__x9_Norm',\n",
       "   'Cat__x11_1Fam',\n",
       "   'Cat__x14_PConc',\n",
       "   'Cat__x15_GLQ',\n",
       "   'Cat__x18_Attchd',\n",
       "   'Cat__x19_1',\n",
       "   'Cat__x20_0',\n",
       "   'Cat__x25_N',\n",
       "   'LotArea',\n",
       "   'OverallQual',\n",
       "   'OverallCond',\n",
       "   'YearBuilt',\n",
       "   'YearRemodAdd',\n",
       "   'ExterQual',\n",
       "   'BsmtQual',\n",
       "   'BsmtCond',\n",
       "   'BsmtExposure',\n",
       "   'BsmtFinSF1',\n",
       "   'HeatingQC',\n",
       "   '1stFlrSF',\n",
       "   '2ndFlrSF',\n",
       "   'BsmtFullBath',\n",
       "   'FullBath',\n",
       "   'KitchenQual',\n",
       "   'TotRmsAbvGrd',\n",
       "   'Fireplaces',\n",
       "   'FireplaceQu',\n",
       "   'GarageCars',\n",
       "   'GarageArea'],\n",
       "  'select_2': ['Cat__x0_RM',\n",
       "   'Cat__x1_60',\n",
       "   'Cat__x6_CulDSac',\n",
       "   'Cat__x8_GrnHill',\n",
       "   'Cat__x8_Timber',\n",
       "   'Cat__x11_1Fam',\n",
       "   'Cat__x11_Twnhs',\n",
       "   'Cat__x16_GLQ',\n",
       "   'Cat__x18_Basment',\n",
       "   'Cat__x22_New',\n",
       "   'Cat__x23_Normal',\n",
       "   'Cat__x27_CompShg',\n",
       "   'Cat__x28_BrkFace',\n",
       "   'Cat__x29_HdBoard',\n",
       "   'Cat__x32_Maj1',\n",
       "   'Cat__x35_7',\n",
       "   'LotArea',\n",
       "   'OverallQual',\n",
       "   'YearRemodAdd',\n",
       "   'MasVnrArea',\n",
       "   'ExterQual',\n",
       "   'BsmtQual',\n",
       "   'BsmtExposure',\n",
       "   'BsmtFinSF1',\n",
       "   'BsmtFinSF2',\n",
       "   '1stFlrSF',\n",
       "   '2ndFlrSF',\n",
       "   'BsmtFullBath',\n",
       "   'KitchenQual',\n",
       "   'TotRmsAbvGrd',\n",
       "   'Fireplaces',\n",
       "   'FireplaceQu',\n",
       "   'GarageCars',\n",
       "   'GarageArea',\n",
       "   'WoodDeckSF',\n",
       "   'ScreenPorch']})"
      ]
     },
     "execution_count": 16,
     "metadata": {},
     "output_type": "execute_result"
    }
   ],
   "source": [
    "selections = stacked_selector(X_train, y_train, [0.01, 0.01, 0.01])\n",
    "selections"
   ]
  },
  {
   "cell_type": "code",
   "execution_count": 17,
   "metadata": {},
   "outputs": [],
   "source": [
    "train['LogSalePrice'] = np.log(train['SalePrice'])"
   ]
  },
  {
   "cell_type": "code",
   "execution_count": 18,
   "metadata": {},
   "outputs": [],
   "source": [
    "comp_dict = train.groupby(['Neighborhood', 'BedroomAbvGr', 'BldgType',\n",
    "               'OverallQual', 'FullBath', 'KitchenQual', 'GarageCars']).mean()['LogSalePrice'].to_dict()"
   ]
  },
  {
   "cell_type": "code",
   "execution_count": 19,
   "metadata": {},
   "outputs": [],
   "source": [
    "train['Comp'] = train.apply(lambda x: comp_dict[(x['Neighborhood'], x['BedroomAbvGr'], x['BldgType'],\n",
    "               x['OverallQual'], x['FullBath'], x['KitchenQual'], x['GarageCars'])],axis=1)"
   ]
  },
  {
   "cell_type": "code",
   "execution_count": 20,
   "metadata": {},
   "outputs": [
    {
     "ename": "KeyError",
     "evalue": "'NhdCluster'",
     "output_type": "error",
     "traceback": [
      "\u001b[1;31m---------------------------------------------------------------------------\u001b[0m",
      "\u001b[1;31mKeyError\u001b[0m                                  Traceback (most recent call last)",
      "\u001b[1;32m~\\Anaconda3\\lib\\site-packages\\pandas\\core\\indexes\\base.py\u001b[0m in \u001b[0;36mget_loc\u001b[1;34m(self, key, method, tolerance)\u001b[0m\n\u001b[0;32m   2894\u001b[0m             \u001b[1;32mtry\u001b[0m\u001b[1;33m:\u001b[0m\u001b[1;33m\u001b[0m\u001b[1;33m\u001b[0m\u001b[0m\n\u001b[1;32m-> 2895\u001b[1;33m                 \u001b[1;32mreturn\u001b[0m \u001b[0mself\u001b[0m\u001b[1;33m.\u001b[0m\u001b[0m_engine\u001b[0m\u001b[1;33m.\u001b[0m\u001b[0mget_loc\u001b[0m\u001b[1;33m(\u001b[0m\u001b[0mcasted_key\u001b[0m\u001b[1;33m)\u001b[0m\u001b[1;33m\u001b[0m\u001b[1;33m\u001b[0m\u001b[0m\n\u001b[0m\u001b[0;32m   2896\u001b[0m             \u001b[1;32mexcept\u001b[0m \u001b[0mKeyError\u001b[0m \u001b[1;32mas\u001b[0m \u001b[0merr\u001b[0m\u001b[1;33m:\u001b[0m\u001b[1;33m\u001b[0m\u001b[1;33m\u001b[0m\u001b[0m\n",
      "\u001b[1;32mpandas\\_libs\\index.pyx\u001b[0m in \u001b[0;36mpandas._libs.index.IndexEngine.get_loc\u001b[1;34m()\u001b[0m\n",
      "\u001b[1;32mpandas\\_libs\\index.pyx\u001b[0m in \u001b[0;36mpandas._libs.index.IndexEngine.get_loc\u001b[1;34m()\u001b[0m\n",
      "\u001b[1;32mpandas\\_libs\\hashtable_class_helper.pxi\u001b[0m in \u001b[0;36mpandas._libs.hashtable.PyObjectHashTable.get_item\u001b[1;34m()\u001b[0m\n",
      "\u001b[1;32mpandas\\_libs\\hashtable_class_helper.pxi\u001b[0m in \u001b[0;36mpandas._libs.hashtable.PyObjectHashTable.get_item\u001b[1;34m()\u001b[0m\n",
      "\u001b[1;31mKeyError\u001b[0m: 'NhdCluster'",
      "\nThe above exception was the direct cause of the following exception:\n",
      "\u001b[1;31mKeyError\u001b[0m                                  Traceback (most recent call last)",
      "\u001b[1;32m<ipython-input-20-29c75e26be5c>\u001b[0m in \u001b[0;36m<module>\u001b[1;34m\u001b[0m\n\u001b[0;32m      1\u001b[0m \u001b[0mX_train\u001b[0m \u001b[1;33m=\u001b[0m \u001b[0mtrain\u001b[0m\u001b[1;33m.\u001b[0m\u001b[0mdrop\u001b[0m\u001b[1;33m(\u001b[0m\u001b[1;33m[\u001b[0m\u001b[1;34m'SalePrice'\u001b[0m\u001b[1;33m,\u001b[0m \u001b[1;34m'LogSalePrice'\u001b[0m\u001b[1;33m,\u001b[0m \u001b[1;34m'PID'\u001b[0m\u001b[1;33m,\u001b[0m \u001b[1;34m'TotalBsmtSF'\u001b[0m\u001b[1;33m,\u001b[0m \u001b[1;34m'GrLivArea'\u001b[0m\u001b[1;33m]\u001b[0m\u001b[1;33m,\u001b[0m \u001b[0maxis\u001b[0m\u001b[1;33m=\u001b[0m\u001b[1;36m1\u001b[0m\u001b[1;33m)\u001b[0m\u001b[1;33m\u001b[0m\u001b[1;33m\u001b[0m\u001b[0m\n\u001b[1;32m----> 2\u001b[1;33m \u001b[0my_train\u001b[0m \u001b[1;33m=\u001b[0m \u001b[0mpd\u001b[0m\u001b[1;33m.\u001b[0m\u001b[0mDataFrame\u001b[0m\u001b[1;33m(\u001b[0m\u001b[1;33m{\u001b[0m\u001b[1;34m'LogSalePrice'\u001b[0m\u001b[1;33m:\u001b[0m\u001b[0mtrain\u001b[0m\u001b[1;33m[\u001b[0m\u001b[1;34m'LogSalePrice'\u001b[0m\u001b[1;33m]\u001b[0m\u001b[1;33m,\u001b[0m \u001b[1;34m'NhdCluster'\u001b[0m\u001b[1;33m:\u001b[0m\u001b[0mtrain\u001b[0m\u001b[1;33m[\u001b[0m\u001b[1;34m'NhdCluster'\u001b[0m\u001b[1;33m]\u001b[0m\u001b[1;33m}\u001b[0m\u001b[1;33m)\u001b[0m\u001b[1;33m\u001b[0m\u001b[1;33m\u001b[0m\u001b[0m\n\u001b[0m",
      "\u001b[1;32m~\\Anaconda3\\lib\\site-packages\\pandas\\core\\frame.py\u001b[0m in \u001b[0;36m__getitem__\u001b[1;34m(self, key)\u001b[0m\n\u001b[0;32m   2900\u001b[0m             \u001b[1;32mif\u001b[0m \u001b[0mself\u001b[0m\u001b[1;33m.\u001b[0m\u001b[0mcolumns\u001b[0m\u001b[1;33m.\u001b[0m\u001b[0mnlevels\u001b[0m \u001b[1;33m>\u001b[0m \u001b[1;36m1\u001b[0m\u001b[1;33m:\u001b[0m\u001b[1;33m\u001b[0m\u001b[1;33m\u001b[0m\u001b[0m\n\u001b[0;32m   2901\u001b[0m                 \u001b[1;32mreturn\u001b[0m \u001b[0mself\u001b[0m\u001b[1;33m.\u001b[0m\u001b[0m_getitem_multilevel\u001b[0m\u001b[1;33m(\u001b[0m\u001b[0mkey\u001b[0m\u001b[1;33m)\u001b[0m\u001b[1;33m\u001b[0m\u001b[1;33m\u001b[0m\u001b[0m\n\u001b[1;32m-> 2902\u001b[1;33m             \u001b[0mindexer\u001b[0m \u001b[1;33m=\u001b[0m \u001b[0mself\u001b[0m\u001b[1;33m.\u001b[0m\u001b[0mcolumns\u001b[0m\u001b[1;33m.\u001b[0m\u001b[0mget_loc\u001b[0m\u001b[1;33m(\u001b[0m\u001b[0mkey\u001b[0m\u001b[1;33m)\u001b[0m\u001b[1;33m\u001b[0m\u001b[1;33m\u001b[0m\u001b[0m\n\u001b[0m\u001b[0;32m   2903\u001b[0m             \u001b[1;32mif\u001b[0m \u001b[0mis_integer\u001b[0m\u001b[1;33m(\u001b[0m\u001b[0mindexer\u001b[0m\u001b[1;33m)\u001b[0m\u001b[1;33m:\u001b[0m\u001b[1;33m\u001b[0m\u001b[1;33m\u001b[0m\u001b[0m\n\u001b[0;32m   2904\u001b[0m                 \u001b[0mindexer\u001b[0m \u001b[1;33m=\u001b[0m \u001b[1;33m[\u001b[0m\u001b[0mindexer\u001b[0m\u001b[1;33m]\u001b[0m\u001b[1;33m\u001b[0m\u001b[1;33m\u001b[0m\u001b[0m\n",
      "\u001b[1;32m~\\Anaconda3\\lib\\site-packages\\pandas\\core\\indexes\\base.py\u001b[0m in \u001b[0;36mget_loc\u001b[1;34m(self, key, method, tolerance)\u001b[0m\n\u001b[0;32m   2895\u001b[0m                 \u001b[1;32mreturn\u001b[0m \u001b[0mself\u001b[0m\u001b[1;33m.\u001b[0m\u001b[0m_engine\u001b[0m\u001b[1;33m.\u001b[0m\u001b[0mget_loc\u001b[0m\u001b[1;33m(\u001b[0m\u001b[0mcasted_key\u001b[0m\u001b[1;33m)\u001b[0m\u001b[1;33m\u001b[0m\u001b[1;33m\u001b[0m\u001b[0m\n\u001b[0;32m   2896\u001b[0m             \u001b[1;32mexcept\u001b[0m \u001b[0mKeyError\u001b[0m \u001b[1;32mas\u001b[0m \u001b[0merr\u001b[0m\u001b[1;33m:\u001b[0m\u001b[1;33m\u001b[0m\u001b[1;33m\u001b[0m\u001b[0m\n\u001b[1;32m-> 2897\u001b[1;33m                 \u001b[1;32mraise\u001b[0m \u001b[0mKeyError\u001b[0m\u001b[1;33m(\u001b[0m\u001b[0mkey\u001b[0m\u001b[1;33m)\u001b[0m \u001b[1;32mfrom\u001b[0m \u001b[0merr\u001b[0m\u001b[1;33m\u001b[0m\u001b[1;33m\u001b[0m\u001b[0m\n\u001b[0m\u001b[0;32m   2898\u001b[0m \u001b[1;33m\u001b[0m\u001b[0m\n\u001b[0;32m   2899\u001b[0m         \u001b[1;32mif\u001b[0m \u001b[0mtolerance\u001b[0m \u001b[1;32mis\u001b[0m \u001b[1;32mnot\u001b[0m \u001b[1;32mNone\u001b[0m\u001b[1;33m:\u001b[0m\u001b[1;33m\u001b[0m\u001b[1;33m\u001b[0m\u001b[0m\n",
      "\u001b[1;31mKeyError\u001b[0m: 'NhdCluster'"
     ]
    }
   ],
   "source": [
    "X_train = train.drop(['SalePrice', 'LogSalePrice', 'PID', 'TotalBsmtSF', 'GrLivArea'], axis=1)\n",
    "y_train = pd.DataFrame({'LogSalePrice':train['LogSalePrice'], 'NhdCluster':train['NhdCluster']})"
   ]
  },
  {
   "cell_type": "code",
   "execution_count": null,
   "metadata": {},
   "outputs": [],
   "source": [
    "selections = multilev_selector(X_train, y_train, [0.01, 0.01, 0.02])"
   ]
  },
  {
   "cell_type": "code",
   "execution_count": null,
   "metadata": {
    "scrolled": true
   },
   "outputs": [],
   "source": [
    "selections[1]['select_0']"
   ]
  },
  {
   "cell_type": "code",
   "execution_count": null,
   "metadata": {
    "scrolled": true
   },
   "outputs": [],
   "source": [
    "dict(enumerate(categorical))"
   ]
  },
  {
   "cell_type": "code",
   "execution_count": null,
   "metadata": {},
   "outputs": [],
   "source": [
    "select_0 = ['MSSubClass',\n",
    " 'SaleType',\n",
    " 'OverallQual',\n",
    " 'YearRemodAdd',\n",
    " 'ExterQual',\n",
    " 'BsmtFinSF1',\n",
    " 'HeatingQC',\n",
    " '1stFlrSF',\n",
    " '2ndFlrSF',\n",
    " 'BsmtFullBath',\n",
    " 'HalfBath',\n",
    " 'TotRmsAbvGrd',\n",
    " 'Fireplaces',\n",
    " 'FireplaceQu',\n",
    " 'OpenPorchSF',\n",
    " 'Comp']"
   ]
  },
  {
   "cell_type": "code",
   "execution_count": null,
   "metadata": {},
   "outputs": [],
   "source": [
    "cats_0 = [col for col in select_0 if col in categorical]"
   ]
  },
  {
   "cell_type": "code",
   "execution_count": null,
   "metadata": {},
   "outputs": [],
   "source": [
    "X = X_train\n",
    "X = X.loc[X['NhdCluster']==0, :].drop('NhdCluster', axis=1)\n",
    "X = X[select_0]\n",
    "\n",
    "y = y_train\n",
    "y = y.loc[y['NhdCluster']==0, :].drop('NhdCluster', axis=1)\n",
    "\n",
    "\n",
    "pipe = Pipeline([('transformer', ColumnTransformer([(\"Cat\", OneHotEncoder(handle_unknown='ignore'), cats_0)], \n",
    "                                            remainder='passthrough')),\n",
    "                 ('scaler', StandardScaler()),\n",
    "                 ('ridge', Ridge())])\n",
    "\n",
    "param_grid = {'ridge__alpha':[0.001, 0.1, 1, 10]}\n",
    "cv = RepeatedKFold(n_splits=5)\n",
    "\n",
    "grid = GridSearchCV(pipe, param_grid, scoring='r2', cv=cv, n_jobs=-1)\n",
    "\n",
    "grid.fit(X,y)"
   ]
  },
  {
   "cell_type": "code",
   "execution_count": null,
   "metadata": {},
   "outputs": [],
   "source": [
    "print(grid.cv_results_['mean_test_score'])\n",
    "print(grid.best_params_)\n",
    "print(grid.best_score_)"
   ]
  },
  {
   "cell_type": "code",
   "execution_count": null,
   "metadata": {
    "scrolled": false
   },
   "outputs": [],
   "source": [
    "selections[1]['select_1']"
   ]
  },
  {
   "cell_type": "code",
   "execution_count": null,
   "metadata": {
    "scrolled": true
   },
   "outputs": [],
   "source": [
    "dict(enumerate(categorical))"
   ]
  },
  {
   "cell_type": "code",
   "execution_count": null,
   "metadata": {},
   "outputs": [],
   "source": [
    "select_1 = ['MSSubClass',\n",
    " 'BsmtFinType1',\n",
    " 'OverallCond',\n",
    " 'YearRemodAdd',\n",
    " 'BsmtQual',\n",
    " 'BsmtExposure',\n",
    " 'BsmtFinSF1',\n",
    " '1stFlrSF',\n",
    " 'HalfBath',\n",
    " 'TotRmsAbvGrd',\n",
    " 'Fireplaces',\n",
    " 'WoodDeckSF',\n",
    " 'ScreenPorch',\n",
    " 'Comp']"
   ]
  },
  {
   "cell_type": "code",
   "execution_count": null,
   "metadata": {},
   "outputs": [],
   "source": [
    "cats_1 = [col for col in select_1 if col in categorical]"
   ]
  },
  {
   "cell_type": "code",
   "execution_count": null,
   "metadata": {},
   "outputs": [],
   "source": [
    "X = X_train\n",
    "X = X.loc[X['NhdCluster']==1, :].drop('NhdCluster', axis=1)\n",
    "X = X[select_1]\n",
    "\n",
    "y = y_train\n",
    "y = y.loc[y['NhdCluster']==1, :].drop('NhdCluster', axis=1)\n",
    "\n",
    "\n",
    "pipe = Pipeline([('transformer', ColumnTransformer([(\"Cat\", OneHotEncoder(handle_unknown='ignore'), cats_1)], \n",
    "                                            remainder='passthrough')),\n",
    "                 ('scaler', StandardScaler()),\n",
    "                 ('ridge', Ridge())])\n",
    "\n",
    "param_grid = {'ridge__alpha':[0.001, 0.1, 1, 10]}\n",
    "cv = RepeatedKFold(n_splits=5)\n",
    "\n",
    "grid = GridSearchCV(pipe, param_grid, scoring='r2', cv=cv, n_jobs=-1)\n",
    "\n",
    "grid.fit(X,y)"
   ]
  },
  {
   "cell_type": "code",
   "execution_count": null,
   "metadata": {
    "scrolled": true
   },
   "outputs": [],
   "source": [
    "print(grid.cv_results_['mean_test_score'])\n",
    "print(grid.best_params_)\n",
    "print(grid.best_score_)"
   ]
  },
  {
   "cell_type": "code",
   "execution_count": null,
   "metadata": {
    "scrolled": false
   },
   "outputs": [],
   "source": [
    "selections[1]['select_2']"
   ]
  },
  {
   "cell_type": "code",
   "execution_count": null,
   "metadata": {
    "scrolled": true
   },
   "outputs": [],
   "source": [
    "dict(enumerate(categorical))"
   ]
  },
  {
   "cell_type": "code",
   "execution_count": null,
   "metadata": {},
   "outputs": [],
   "source": [
    "select_2 = ['BsmtFinType1',\n",
    " 'LotArea',\n",
    " 'MasVnrArea',\n",
    " 'BsmtFinSF1',\n",
    " '1stFlrSF',\n",
    " '2ndFlrSF',\n",
    " 'TotRmsAbvGrd',\n",
    " 'GarageArea',\n",
    " 'Comp']"
   ]
  },
  {
   "cell_type": "code",
   "execution_count": null,
   "metadata": {},
   "outputs": [],
   "source": [
    "cats_2 = [col for col in select_2 if col in categorical]"
   ]
  },
  {
   "cell_type": "code",
   "execution_count": null,
   "metadata": {},
   "outputs": [],
   "source": [
    "X = X_train\n",
    "X = X.loc[X['NhdCluster']==2, :].drop('NhdCluster', axis=1)\n",
    "X = X[select_1]\n",
    "\n",
    "y = y_train\n",
    "y = y.loc[y['NhdCluster']==2, :].drop('NhdCluster', axis=1)\n",
    "\n",
    "\n",
    "pipe = Pipeline([('transformer', ColumnTransformer([(\"Cat\", OneHotEncoder(handle_unknown='ignore'), cats_2)], \n",
    "                                            remainder='passthrough')),\n",
    "                 ('scaler', StandardScaler()),\n",
    "                 ('ridge', Ridge())])\n",
    "\n",
    "param_grid = {'ridge__alpha':[0.001, 0.1, 1, 10]}\n",
    "cv = RepeatedKFold(n_splits=5)\n",
    "\n",
    "grid = GridSearchCV(pipe, param_grid, scoring='r2', cv=cv, n_jobs=-1)\n",
    "\n",
    "grid.fit(X,y)"
   ]
  },
  {
   "cell_type": "code",
   "execution_count": null,
   "metadata": {},
   "outputs": [],
   "source": [
    "print(grid.cv_results_['mean_test_score'])\n",
    "print(grid.best_params_)\n",
    "print(grid.best_score_)"
   ]
  }
 ],
 "metadata": {
  "kernelspec": {
   "display_name": "Python 3",
   "language": "python",
   "name": "python3"
  },
  "language_info": {
   "codemirror_mode": {
    "name": "ipython",
    "version": 3
   },
   "file_extension": ".py",
   "mimetype": "text/x-python",
   "name": "python",
   "nbconvert_exporter": "python",
   "pygments_lexer": "ipython3",
   "version": "3.8.5"
  }
 },
 "nbformat": 4,
 "nbformat_minor": 5
}
