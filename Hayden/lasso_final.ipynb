{
 "cells": [
  {
   "cell_type": "code",
   "execution_count": 1,
   "id": "3b4a15b5",
   "metadata": {},
   "outputs": [],
   "source": [
    "import pandas as pd\n",
    "import numpy as np\n",
    "import helper\n",
    "import matplotlib.pyplot as plt\n",
    "import seaborn as sns\n",
    "import matplotlib.style as style\n",
    "style.use('fivethirtyeight')\n",
    "\n",
    "from sklearn.linear_model import Lasso\n",
    "from sklearn.model_selection import GridSearchCV\n",
    "from sklearn.preprocessing import OneHotEncoder\n",
    "from sklearn.compose import ColumnTransformer\n",
    "from sklearn.preprocessing import StandardScaler"
   ]
  },
  {
   "cell_type": "code",
   "execution_count": 2,
   "id": "d6a8a7c0",
   "metadata": {},
   "outputs": [],
   "source": [
    "colors = [\"#FF0B04\", \"#F1BE48\",\n",
    "           \"#B9975B\", \"#8B5B29\",\n",
    "           \"#524727\",\n",
    "         ]\n",
    "sns.set_palette(sns.color_palette(colors))"
   ]
  },
  {
   "cell_type": "code",
   "execution_count": 3,
   "id": "ad2c3d9f",
   "metadata": {},
   "outputs": [],
   "source": [
    "# importing data\n",
    "housing = pd.read_csv('Ames_Housing_Price_Data.csv', index_col=0,low_memory = False)\n",
    "# data processing\n",
    "train, test = helper.data_processing_wrapper(housing,\n",
    "                                               num_to_cat_list = ['MSSubClass','MoSold'],\n",
    "                                             remove_PID = False\n",
    "                                        )\n",
    "\n",
    "# feature engineering wrapper\n",
    "train, test = helper.feature_engineering_wrapper(train, test)\n",
    "\n",
    "# importing school feature\n",
    "schools = pd.read_csv('schoolFeatures.csv',index_col = 0)\n",
    "school_keep = [\n",
    "    'PID',\n",
    "    'closestSchool'\n",
    "]\n",
    "schools = schools[school_keep]\n",
    "\n",
    "# merge school feature onto original data set.\n",
    "train = train.merge(schools, how = 'left', left_on = 'PID', right_on = 'PID')\n",
    "test = test.merge(schools, how = 'left', left_on = 'PID', right_on = 'PID')\n",
    "\n",
    "train = train.dropna(subset=['closestSchool'])\n",
    "train = train.reset_index(drop=True)\n",
    "\n",
    "test = test.dropna(subset=['closestSchool'])\n",
    "test = test.reset_index(drop=True)"
   ]
  },
  {
   "cell_type": "code",
   "execution_count": 4,
   "id": "1e4fb69f",
   "metadata": {},
   "outputs": [
    {
     "name": "stdout",
     "output_type": "stream",
     "text": [
      "Performing Grid Search with alphas of: [0.001]\n",
      "Current best alpha: 0.001\n",
      "Current best CV R2: 0.9473038743358806\n",
      "Performing Grid Search with alphas of: [0.0003 0.0004 0.0005 0.0006 0.0007 0.0008 0.0009 0.001  0.0011 0.0012\n",
      " 0.0013 0.0014 0.0015 0.0016 0.0017 0.0018 0.0019]\n",
      "Current best alpha: 0.0013000000000000002\n",
      "Current best CV R2: 0.9473979196455631\n",
      "Modeling complete :)\n"
     ]
    }
   ],
   "source": [
    "cat_feats = train.select_dtypes(['object','bool']).columns.to_list()\n",
    "num_cols = train.select_dtypes(['float64','int64']).columns.to_list()\n",
    "num_cols.remove('SalePrice')\n",
    "num_cols.remove('PID')\n",
    "\n",
    "clf, transformer, scaler = helper.lasso_grid_cv(train,cat_feats,\n",
    "                  starting_alphas_=[.001],\n",
    "#                                                 [0.0001, 0.0003, 0.0006, 0.001, \n",
    "#                                     0.003, 0.006, 0.01, 0.03, 0.06, 0.1,\n",
    "#                                     0.3, 0.6, 1],\n",
    "                  n_jobs_ = -1,\n",
    "                  cv_ = 5\n",
    "                                               )"
   ]
  },
  {
   "cell_type": "code",
   "execution_count": 5,
   "id": "6bd3c7de",
   "metadata": {},
   "outputs": [
    {
     "data": {
      "text/plain": [
       "0.9473979196455631"
      ]
     },
     "execution_count": 5,
     "metadata": {},
     "output_type": "execute_result"
    }
   ],
   "source": [
    "clf.best_score_"
   ]
  },
  {
   "cell_type": "code",
   "execution_count": 6,
   "id": "c867c8a3",
   "metadata": {},
   "outputs": [
    {
     "ename": "ValueError",
     "evalue": "X has 122 features, but ColumnTransformer is expecting 127 features as input.",
     "output_type": "error",
     "traceback": [
      "\u001b[0;31m---------------------------------------------------------------------------\u001b[0m",
      "\u001b[0;31mValueError\u001b[0m                                Traceback (most recent call last)",
      "\u001b[0;32m<ipython-input-6-9a92df6dd98d>\u001b[0m in \u001b[0;36m<module>\u001b[0;34m\u001b[0m\n\u001b[1;32m      1\u001b[0m \u001b[0mX_tst\u001b[0m \u001b[0;34m=\u001b[0m \u001b[0mtest\u001b[0m\u001b[0;34m.\u001b[0m\u001b[0mdrop\u001b[0m\u001b[0;34m(\u001b[0m\u001b[0;34m[\u001b[0m\u001b[0;34m'SalePrice'\u001b[0m\u001b[0;34m,\u001b[0m\u001b[0;34m'PID'\u001b[0m\u001b[0;34m]\u001b[0m\u001b[0;34m,\u001b[0m\u001b[0maxis\u001b[0m\u001b[0;34m=\u001b[0m\u001b[0;36m1\u001b[0m\u001b[0;34m)\u001b[0m\u001b[0;34m\u001b[0m\u001b[0;34m\u001b[0m\u001b[0m\n\u001b[0;32m----> 2\u001b[0;31m \u001b[0mX_tst\u001b[0m \u001b[0;34m=\u001b[0m \u001b[0mtransformer\u001b[0m\u001b[0;34m.\u001b[0m\u001b[0mtransform\u001b[0m\u001b[0;34m(\u001b[0m\u001b[0mX_tst\u001b[0m\u001b[0;34m)\u001b[0m\u001b[0;34m\u001b[0m\u001b[0;34m\u001b[0m\u001b[0m\n\u001b[0m\u001b[1;32m      3\u001b[0m \u001b[0mX_tst\u001b[0m \u001b[0;34m=\u001b[0m \u001b[0mscaler\u001b[0m\u001b[0;34m.\u001b[0m\u001b[0mtransform\u001b[0m\u001b[0;34m(\u001b[0m\u001b[0mX_tst\u001b[0m\u001b[0;34m)\u001b[0m\u001b[0;34m\u001b[0m\u001b[0;34m\u001b[0m\u001b[0m\n\u001b[1;32m      4\u001b[0m \u001b[0my_tst\u001b[0m \u001b[0;34m=\u001b[0m \u001b[0mnp\u001b[0m\u001b[0;34m.\u001b[0m\u001b[0mlog\u001b[0m\u001b[0;34m(\u001b[0m\u001b[0mtest\u001b[0m\u001b[0;34m[\u001b[0m\u001b[0;34m'SalePrice'\u001b[0m\u001b[0;34m]\u001b[0m\u001b[0;34m)\u001b[0m\u001b[0;34m\u001b[0m\u001b[0;34m\u001b[0m\u001b[0m\n\u001b[1;32m      5\u001b[0m \u001b[0;34m\u001b[0m\u001b[0m\n",
      "\u001b[0;32m~/opt/anaconda3/lib/python3.8/site-packages/sklearn/compose/_column_transformer.py\u001b[0m in \u001b[0;36mtransform\u001b[0;34m(self, X)\u001b[0m\n\u001b[1;32m    554\u001b[0m             \u001b[0mX_feature_names\u001b[0m \u001b[0;34m=\u001b[0m \u001b[0;32mNone\u001b[0m\u001b[0;34m\u001b[0m\u001b[0;34m\u001b[0m\u001b[0m\n\u001b[1;32m    555\u001b[0m \u001b[0;34m\u001b[0m\u001b[0m\n\u001b[0;32m--> 556\u001b[0;31m         \u001b[0mself\u001b[0m\u001b[0;34m.\u001b[0m\u001b[0m_check_n_features\u001b[0m\u001b[0;34m(\u001b[0m\u001b[0mX\u001b[0m\u001b[0;34m,\u001b[0m \u001b[0mreset\u001b[0m\u001b[0;34m=\u001b[0m\u001b[0;32mFalse\u001b[0m\u001b[0;34m)\u001b[0m\u001b[0;34m\u001b[0m\u001b[0;34m\u001b[0m\u001b[0m\n\u001b[0m\u001b[1;32m    557\u001b[0m         if (self._feature_names_in is not None and\n\u001b[1;32m    558\u001b[0m             \u001b[0mX_feature_names\u001b[0m \u001b[0;32mis\u001b[0m \u001b[0;32mnot\u001b[0m \u001b[0;32mNone\u001b[0m \u001b[0;32mand\u001b[0m\u001b[0;34m\u001b[0m\u001b[0;34m\u001b[0m\u001b[0m\n",
      "\u001b[0;32m~/opt/anaconda3/lib/python3.8/site-packages/sklearn/base.py\u001b[0m in \u001b[0;36m_check_n_features\u001b[0;34m(self, X, reset)\u001b[0m\n\u001b[1;32m    363\u001b[0m \u001b[0;34m\u001b[0m\u001b[0m\n\u001b[1;32m    364\u001b[0m         \u001b[0;32mif\u001b[0m \u001b[0mn_features\u001b[0m \u001b[0;34m!=\u001b[0m \u001b[0mself\u001b[0m\u001b[0;34m.\u001b[0m\u001b[0mn_features_in_\u001b[0m\u001b[0;34m:\u001b[0m\u001b[0;34m\u001b[0m\u001b[0;34m\u001b[0m\u001b[0m\n\u001b[0;32m--> 365\u001b[0;31m             raise ValueError(\n\u001b[0m\u001b[1;32m    366\u001b[0m                 \u001b[0;34mf\"X has {n_features} features, but {self.__class__.__name__} \"\u001b[0m\u001b[0;34m\u001b[0m\u001b[0;34m\u001b[0m\u001b[0m\n\u001b[1;32m    367\u001b[0m                 f\"is expecting {self.n_features_in_} features as input.\")\n",
      "\u001b[0;31mValueError\u001b[0m: X has 122 features, but ColumnTransformer is expecting 127 features as input."
     ]
    }
   ],
   "source": [
    "X_tst = test.drop(['SalePrice','PID'],axis=1)\n",
    "X_tst = transformer.transform(X_tst)\n",
    "X_tst = scaler.transform(X_tst)\n",
    "y_tst = np.log(test['SalePrice'])\n",
    "\n",
    "clf.score(X_tst,y_tst)"
   ]
  },
  {
   "cell_type": "code",
   "execution_count": null,
   "id": "7aa96ed5",
   "metadata": {},
   "outputs": [],
   "source": [
    "columns_transformed = transformer.named_transformers_['Cat'].get_feature_names(input_features= cat_feats)\n",
    "new_columns = list(columns_transformed)+num_cols\n",
    "\n",
    "coef_df = pd.DataFrame({'features':new_columns,'coefs':clf.best_estimator_.coef_})\n",
    "coef_df = coef_df[coef_df['coefs']!=0]\n",
    "coef_df['coefs_abs'] = abs(coef_df['coefs'])\n",
    "coef_df = coef_df.sort_values('coefs_abs',ascending=False).reset_index(drop=True)\n",
    "coef_df"
   ]
  },
  {
   "cell_type": "code",
   "execution_count": null,
   "id": "b89cd404",
   "metadata": {},
   "outputs": [],
   "source": [
    "columns_transformed"
   ]
  },
  {
   "cell_type": "code",
   "execution_count": null,
   "id": "00e47b04",
   "metadata": {},
   "outputs": [],
   "source": [
    "len(new_columns)"
   ]
  },
  {
   "cell_type": "code",
   "execution_count": null,
   "id": "045878e1",
   "metadata": {},
   "outputs": [],
   "source": [
    "len(clf.best_estimator_.coef_)"
   ]
  },
  {
   "cell_type": "code",
   "execution_count": null,
   "id": "64848dac",
   "metadata": {},
   "outputs": [],
   "source": [
    "new_columns"
   ]
  },
  {
   "cell_type": "code",
   "execution_count": null,
   "id": "05a5e9a1",
   "metadata": {},
   "outputs": [],
   "source": [
    "new_columns"
   ]
  },
  {
   "cell_type": "code",
   "execution_count": 7,
   "id": "a7e22ba6",
   "metadata": {},
   "outputs": [
    {
     "data": {
      "text/plain": [
       "129"
      ]
     },
     "execution_count": 7,
     "metadata": {},
     "output_type": "execute_result"
    }
   ],
   "source": [
    "len(train.columns)"
   ]
  },
  {
   "cell_type": "code",
   "execution_count": 8,
   "id": "d8815b31",
   "metadata": {},
   "outputs": [
    {
     "data": {
      "text/plain": [
       "124"
      ]
     },
     "execution_count": 8,
     "metadata": {},
     "output_type": "execute_result"
    }
   ],
   "source": [
    "len(test.columns)"
   ]
  },
  {
   "cell_type": "code",
   "execution_count": 10,
   "id": "90d9ac84",
   "metadata": {},
   "outputs": [
    {
     "data": {
      "text/plain": [
       "['PID',\n",
       " 'GrLivArea',\n",
       " 'SalePrice',\n",
       " 'MSSubClass',\n",
       " 'MSZoning',\n",
       " 'LotFrontage',\n",
       " 'LotArea',\n",
       " 'Street',\n",
       " 'Alley',\n",
       " 'LotShape',\n",
       " 'LandContour',\n",
       " 'Utilities',\n",
       " 'LotConfig',\n",
       " 'LandSlope',\n",
       " 'Neighborhood',\n",
       " 'Condition1',\n",
       " 'Condition2',\n",
       " 'BldgType',\n",
       " 'HouseStyle',\n",
       " 'OverallQual',\n",
       " 'OverallCond',\n",
       " 'YearBuilt',\n",
       " 'YearRemodAdd',\n",
       " 'RoofStyle',\n",
       " 'RoofMatl',\n",
       " 'Exterior1st',\n",
       " 'Exterior2nd',\n",
       " 'MasVnrType',\n",
       " 'MasVnrArea',\n",
       " 'ExterQual',\n",
       " 'ExterCond',\n",
       " 'Foundation',\n",
       " 'BsmtQual',\n",
       " 'BsmtCond',\n",
       " 'BsmtExposure',\n",
       " 'BsmtFinType1',\n",
       " 'BsmtFinSF1',\n",
       " 'BsmtFinType2',\n",
       " 'BsmtFinSF2',\n",
       " 'BsmtUnfSF',\n",
       " 'TotalBsmtSF',\n",
       " 'Heating',\n",
       " 'HeatingQC',\n",
       " 'CentralAir',\n",
       " 'Electrical',\n",
       " '1stFlrSF',\n",
       " '2ndFlrSF',\n",
       " 'LowQualFinSF',\n",
       " 'BsmtFullBath',\n",
       " 'BsmtHalfBath',\n",
       " 'FullBath',\n",
       " 'HalfBath',\n",
       " 'BedroomAbvGr',\n",
       " 'KitchenAbvGr',\n",
       " 'KitchenQual',\n",
       " 'TotRmsAbvGrd',\n",
       " 'Functional',\n",
       " 'Fireplaces',\n",
       " 'FireplaceQu',\n",
       " 'GarageType',\n",
       " 'GarageYrBlt',\n",
       " 'GarageFinish',\n",
       " 'GarageCars',\n",
       " 'GarageArea',\n",
       " 'GarageQual',\n",
       " 'GarageCond',\n",
       " 'PavedDrive',\n",
       " 'WoodDeckSF',\n",
       " 'OpenPorchSF',\n",
       " 'EnclosedPorch',\n",
       " '3SsnPorch',\n",
       " 'ScreenPorch',\n",
       " 'PoolArea',\n",
       " 'PoolQC',\n",
       " 'Fence',\n",
       " 'MiscFeature',\n",
       " 'MiscVal',\n",
       " 'MoSold',\n",
       " 'YrSold',\n",
       " 'SaleType',\n",
       " 'SaleCondition',\n",
       " 'year_since_built',\n",
       " 'year_since_remod',\n",
       " 'year_since_garage',\n",
       " 'overall_score',\n",
       " 'exter_score',\n",
       " 'bsmt_score',\n",
       " 'garage_score',\n",
       " 'total_sf',\n",
       " 'total_high_qual_finished_sf',\n",
       " 'total_deck_sf',\n",
       " 'total_full_bath',\n",
       " 'total_half_bath',\n",
       " 'OverallQual_squared',\n",
       " 'OverallQual_cubed',\n",
       " 'OverallQual_square_root',\n",
       " 'overall_score_squared',\n",
       " 'overall_score_cubed',\n",
       " 'overall_score_square_root',\n",
       " 'total_sf_squared',\n",
       " 'total_sf_cubed',\n",
       " 'total_sf_square_root',\n",
       " 'GrLivArea_squared',\n",
       " 'GrLivArea_cubed',\n",
       " 'GrLivArea_square_root',\n",
       " 'year_since_built_squared',\n",
       " 'year_since_built_cubed',\n",
       " 'year_since_built_square_root',\n",
       " 'LotArea_squared',\n",
       " 'LotArea_cubed',\n",
       " 'LotArea_square_root',\n",
       " 'GarageArea_squared',\n",
       " 'GarageArea_cubed',\n",
       " 'GarageArea_square_root',\n",
       " 'year_since_remod_squared',\n",
       " 'year_since_remod_cubed',\n",
       " 'year_since_remod_square_root',\n",
       " 'BsmtExposure_squared',\n",
       " 'BsmtExposure_cubed',\n",
       " 'BsmtExposure_square_root',\n",
       " 'KitchenQual_squared',\n",
       " 'KitchenQual_cubed',\n",
       " 'KitchenQual_square_root',\n",
       " 'closestSchool']"
      ]
     },
     "execution_count": 10,
     "metadata": {},
     "output_type": "execute_result"
    }
   ],
   "source": [
    "list(test.columns)"
   ]
  },
  {
   "cell_type": "code",
   "execution_count": null,
   "id": "17f2ce29",
   "metadata": {},
   "outputs": [],
   "source": []
  }
 ],
 "metadata": {
  "kernelspec": {
   "display_name": "Python 3",
   "language": "python",
   "name": "python3"
  },
  "language_info": {
   "codemirror_mode": {
    "name": "ipython",
    "version": 3
   },
   "file_extension": ".py",
   "mimetype": "text/x-python",
   "name": "python",
   "nbconvert_exporter": "python",
   "pygments_lexer": "ipython3",
   "version": "3.8.8"
  }
 },
 "nbformat": 4,
 "nbformat_minor": 5
}
