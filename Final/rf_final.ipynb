{
 "cells": [
  {
   "cell_type": "markdown",
   "id": "22704ada",
   "metadata": {},
   "source": [
    "# RF Modeling with Engineered Features"
   ]
  },
  {
   "cell_type": "code",
   "execution_count": 2,
   "id": "8011ae2c",
   "metadata": {},
   "outputs": [],
   "source": [
    "import pandas as pd\n",
    "import numpy as np\n",
    "from helper import * \n",
    "from sklearn.preprocessing import OneHotEncoder\n",
    "from sklearn.compose import ColumnTransformer\n",
    "from sklearn.ensemble import RandomForestRegressor\n",
    "from sklearn.model_selection import RandomizedSearchCV\n",
    "from sklearn.model_selection import cross_val_score\n",
    "from sklearn.model_selection import GridSearchCV\n"
   ]
  },
  {
   "cell_type": "code",
   "execution_count": 3,
   "id": "70ee685e",
   "metadata": {},
   "outputs": [],
   "source": [
    "pd.set_option('display.max_columns', 500)\n",
    "pd.set_option('display.max_rows', 200)"
   ]
  },
  {
   "cell_type": "markdown",
   "id": "52fa1e86",
   "metadata": {},
   "source": [
    "# Import data and clean with wrapper"
   ]
  },
  {
   "cell_type": "code",
   "execution_count": 4,
   "id": "201c299c",
   "metadata": {},
   "outputs": [],
   "source": [
    "# importing data\n",
    "housing = pd.read_csv('Ames_Housing_Price_Data.csv', index_col=0,low_memory = False)\n",
    "# data processing\n",
    "train, test = data_processing_wrapper(housing,\n",
    "                                               num_to_cat_list = ['MSSubClass','MoSold'],\n",
    "                                             remove_PID = False\n",
    "                                        )\n",
    "\n",
    "# feature engineering wrapper\n",
    "train, test = feature_engineering_wrapper(train, test)\n",
    "\n",
    "# importing school feature\n",
    "schools = pd.read_csv('schoolFeatures.csv',index_col = 0)\n",
    "school_keep = [\n",
    "    'PID',\n",
    "    'closestSchool'\n",
    "]\n",
    "schools = schools[school_keep]\n",
    "\n",
    "# merge school feature onto original data set.\n",
    "train = train.merge(schools, how = 'left', left_on = 'PID', right_on = 'PID')\n",
    "test = test.merge(schools, how = 'left', left_on = 'PID', right_on = 'PID')\n",
    "\n",
    "train = train.dropna(subset=['closestSchool'])\n",
    "train = train.reset_index(drop=True)\n",
    "\n",
    "test = test.dropna(subset=['closestSchool'])\n",
    "test = test.reset_index(drop=True)"
   ]
  },
  {
   "cell_type": "code",
   "execution_count": 5,
   "id": "c4a8ada2",
   "metadata": {},
   "outputs": [],
   "source": [
    "#housing started out with 81 columns (2580 rows)\n",
    "#feature engineering - ended up with 129 columns (including PID and SalePrice)-- (added 48 new columns) (2477 rows between train and test)"
   ]
  },
  {
   "cell_type": "markdown",
   "id": "2af70e71",
   "metadata": {},
   "source": [
    "# Split into predictors and target"
   ]
  },
  {
   "cell_type": "code",
   "execution_count": 6,
   "id": "de532809",
   "metadata": {},
   "outputs": [],
   "source": [
    "train_raw = train.copy()\n",
    "test_raw = test.copy()\n",
    "\n",
    "train_X = train_raw.drop(['SalePrice','PID'],axis='columns')\n",
    "train_y = train_raw['SalePrice']\n",
    "test_X = test_raw.drop(['SalePrice','PID'],axis='columns')\n",
    "test_y = test_raw['SalePrice']"
   ]
  },
  {
   "cell_type": "code",
   "execution_count": 7,
   "id": "8a6bc1c0",
   "metadata": {},
   "outputs": [],
   "source": [
    "train_y_log = np.log(train_y).rename('LogSalePrice')\n",
    "test_y_log = np.log(test_y).rename('LogSalePrice')"
   ]
  },
  {
   "cell_type": "code",
   "execution_count": 8,
   "id": "6af6d49f",
   "metadata": {},
   "outputs": [],
   "source": [
    "cat_feats = train_X.select_dtypes(['object']).columns.to_list()\n",
    "num_feats = train_X.select_dtypes(['int','float']).columns.to_list()"
   ]
  },
  {
   "cell_type": "code",
   "execution_count": 9,
   "id": "79a88878",
   "metadata": {},
   "outputs": [
    {
     "data": {
      "text/plain": [
       "95"
      ]
     },
     "execution_count": 9,
     "metadata": {},
     "output_type": "execute_result"
    }
   ],
   "source": [
    "len(cat_feats) # 32 categorical features (43 originally in housing dataset)\n",
    "len(num_feats) #95 numeric features (38 originally)"
   ]
  },
  {
   "cell_type": "markdown",
   "id": "2225c551",
   "metadata": {},
   "source": [
    "# Dummify "
   ]
  },
  {
   "cell_type": "code",
   "execution_count": 10,
   "id": "f467c4e7",
   "metadata": {},
   "outputs": [],
   "source": [
    "#Preprocessing / Dummification\n",
    "preprocessor = ColumnTransformer(transformers=[\n",
    "    ('tf1',OneHotEncoder(sparse=False, handle_unknown='ignore'), cat_feats)],remainder='passthrough')\n",
    "\n",
    "train_X_transformed = preprocessor.fit_transform(train_X)"
   ]
  },
  {
   "cell_type": "code",
   "execution_count": 11,
   "id": "1c7024d3",
   "metadata": {},
   "outputs": [],
   "source": [
    "#Get one-hot encoded column names \n",
    "columns_transformed = preprocessor.named_transformers_['tf1'].get_feature_names(input_features= cat_feats)\n",
    "new_columns = list(columns_transformed)+num_feats\n",
    "\n",
    "#Place one-hot encoded train X into dataframe \n",
    "train_X_transformed = pd.DataFrame(train_X_transformed,columns=new_columns)\n",
    "\n",
    "#Repeat for test X \n",
    "test_X_transformed = preprocessor.transform(test_X)\n",
    "test_X_transformed = pd.DataFrame(test_X_transformed,columns=new_columns)"
   ]
  },
  {
   "cell_type": "markdown",
   "id": "dd5d46a7",
   "metadata": {},
   "source": [
    "# Filter down Features Based off of LASSO "
   ]
  },
  {
   "cell_type": "code",
   "execution_count": 12,
   "id": "5ba45d59",
   "metadata": {},
   "outputs": [],
   "source": [
    "#Features selected by LASSO model (non-zero coefficients)\n",
    "coef_df = pd.read_csv('lasso_coef.csv',index_col=0) #Hayden shared this on Slack"
   ]
  },
  {
   "cell_type": "code",
   "execution_count": 13,
   "id": "31907745",
   "metadata": {},
   "outputs": [],
   "source": [
    "selected_features = list(coef_df['features'])"
   ]
  },
  {
   "cell_type": "code",
   "execution_count": 14,
   "id": "45c3ebb3",
   "metadata": {},
   "outputs": [
    {
     "name": "stdout",
     "output_type": "stream",
     "text": [
      "Number of LASSO selected features: 140\n"
     ]
    }
   ],
   "source": [
    "print('Number of LASSO selected features: '+ str(len(selected_features)))"
   ]
  },
  {
   "cell_type": "code",
   "execution_count": 15,
   "id": "ed587091",
   "metadata": {},
   "outputs": [
    {
     "name": "stdout",
     "output_type": "stream",
     "text": [
      "Number of total features after preprocessing: 323\n"
     ]
    }
   ],
   "source": [
    "print('Number of total features after preprocessing: ' + str(len(train_X_transformed.columns.to_list())))"
   ]
  },
  {
   "cell_type": "code",
   "execution_count": 16,
   "id": "ab572f1e",
   "metadata": {},
   "outputs": [],
   "source": [
    "#Filter dataframes down to the select_features \n",
    "train_X= train_X_transformed[selected_features]\n",
    "test_X = test_X_transformed[selected_features]"
   ]
  },
  {
   "cell_type": "markdown",
   "id": "1fc75817",
   "metadata": {},
   "source": [
    "# Random Forest Modeling "
   ]
  },
  {
   "cell_type": "code",
   "execution_count": 17,
   "id": "a54d79d3",
   "metadata": {},
   "outputs": [],
   "source": [
    "#Function to print scores\n",
    "def rf_summarize(model,Xtrain,ytrain,Xtest,ytest,num=10):\n",
    "\n",
    "    print(model.get_params())\n",
    "    print('\\n')\n",
    "    print('Cross Val score: ', cross_val_score(model, Xtrain, ytrain, cv=5))\n",
    "    print('Cross Val score mean: ', cross_val_score(model, Xtrain, ytrain, cv=5).mean())\n",
    "    print('Train score: ',model.score(Xtrain,ytrain))\n",
    "    print('Test score: ',model.score(Xtest,ytest))\n",
    "    print('\\n')\n",
    "    importances = pd.Series(model.feature_importances_, index = Xtrain.columns).sort_values(ascending=False)\n",
    "    print(importances[:num])"
   ]
  },
  {
   "cell_type": "markdown",
   "id": "1f3b4a77",
   "metadata": {},
   "source": [
    "## 1. Without Tuning"
   ]
  },
  {
   "cell_type": "markdown",
   "id": "e186754f",
   "metadata": {},
   "source": [
    "### 1A. Feature Selection"
   ]
  },
  {
   "cell_type": "code",
   "execution_count": 18,
   "id": "63e021a0",
   "metadata": {
    "scrolled": false
   },
   "outputs": [
    {
     "name": "stdout",
     "output_type": "stream",
     "text": [
      "{'bootstrap': True, 'ccp_alpha': 0.0, 'criterion': 'mse', 'max_depth': None, 'max_features': 'auto', 'max_leaf_nodes': None, 'max_samples': None, 'min_impurity_decrease': 0.0, 'min_impurity_split': None, 'min_samples_leaf': 1, 'min_samples_split': 2, 'min_weight_fraction_leaf': 0.0, 'n_estimators': 100, 'n_jobs': None, 'oob_score': False, 'random_state': 0, 'verbose': 0, 'warm_start': False}\n",
      "\n",
      "\n",
      "Cross Val score:  [0.92436102 0.93526875 0.92429566 0.92783612 0.91877842]\n",
      "Cross Val score mean:  0.9261079946056376\n",
      "Train score:  0.98945671606562\n",
      "Test score:  0.8984127748003494\n",
      "\n",
      "\n",
      "OverallQual_cubed               0.428616\n",
      "total_sf_square_root            0.289976\n",
      "total_high_qual_finished_sf     0.091691\n",
      "Neighborhood_log_comp           0.043746\n",
      "overall_score_square_root       0.035583\n",
      "GarageArea                      0.012643\n",
      "year_since_built_square_root    0.011987\n",
      "GrLivArea_square_root           0.009343\n",
      "YearRemodAdd                    0.006577\n",
      "LotArea_squared                 0.005978\n",
      "dtype: float64\n"
     ]
    }
   ],
   "source": [
    "rf = RandomForestRegressor(random_state=0)\n",
    "rf.fit(train_X, train_y_log)\n",
    "rf_summarize(rf,train_X,train_y_log,test_X,test_y_log)"
   ]
  },
  {
   "cell_type": "code",
   "execution_count": 19,
   "id": "be204542",
   "metadata": {},
   "outputs": [
    {
     "name": "stdout",
     "output_type": "stream",
     "text": [
      "{'bootstrap': True, 'ccp_alpha': 0.0, 'criterion': 'mse', 'max_depth': None, 'max_features': 'auto', 'max_leaf_nodes': None, 'max_samples': None, 'min_impurity_decrease': 0.0, 'min_impurity_split': None, 'min_samples_leaf': 1, 'min_samples_split': 2, 'min_weight_fraction_leaf': 0.0, 'n_estimators': 100, 'n_jobs': None, 'oob_score': False, 'random_state': 0, 'verbose': 0, 'warm_start': False}\n",
      "\n",
      "\n",
      "Cross Val score:  [0.94446388 0.91958566 0.91982172 0.93378899 0.91650559]\n",
      "Cross Val score mean:  0.9268331674017437\n",
      "Train score:  0.9892740184526548\n",
      "Test score:  0.8661877287542651\n",
      "\n",
      "\n",
      "OverallQual_cubed               0.399807\n",
      "total_sf_square_root            0.350979\n",
      "total_high_qual_finished_sf     0.077981\n",
      "Neighborhood_log_comp           0.055797\n",
      "overall_score_square_root       0.017134\n",
      "year_since_built_square_root    0.009403\n",
      "GrLivArea_square_root           0.008955\n",
      "GarageArea                      0.008135\n",
      "YearRemodAdd                    0.007042\n",
      "LotArea_square_root             0.005311\n",
      "dtype: float64\n"
     ]
    }
   ],
   "source": [
    "#Try with SalePrice instead of log\n",
    "rf = RandomForestRegressor(random_state=0)\n",
    "rf.fit(train_X, train_y)\n",
    "rf_summarize(rf,train_X,train_y,test_X,test_y)"
   ]
  },
  {
   "cell_type": "markdown",
   "id": "f04a632a",
   "metadata": {},
   "source": [
    "### 1B. All Features"
   ]
  },
  {
   "cell_type": "code",
   "execution_count": 20,
   "id": "be915f4b",
   "metadata": {},
   "outputs": [],
   "source": [
    "#No feature selection"
   ]
  },
  {
   "cell_type": "code",
   "execution_count": 21,
   "id": "272181a5",
   "metadata": {},
   "outputs": [
    {
     "name": "stdout",
     "output_type": "stream",
     "text": [
      "{'bootstrap': True, 'ccp_alpha': 0.0, 'criterion': 'mse', 'max_depth': None, 'max_features': 'auto', 'max_leaf_nodes': None, 'max_samples': None, 'min_impurity_decrease': 0.0, 'min_impurity_split': None, 'min_samples_leaf': 1, 'min_samples_split': 2, 'min_weight_fraction_leaf': 0.0, 'n_estimators': 100, 'n_jobs': None, 'oob_score': False, 'random_state': 0, 'verbose': 0, 'warm_start': False}\n",
      "\n",
      "\n",
      "Cross Val score:  [0.92248157 0.93275171 0.92364538 0.9245361  0.91484611]\n",
      "Cross Val score mean:  0.9236521747474592\n",
      "Train score:  0.9891372042859093\n",
      "Test score:  0.8952997288692605\n",
      "\n",
      "\n",
      "OverallQual                    0.118576\n",
      "OverallQual_square_root        0.104625\n",
      "OverallQual_cubed              0.103060\n",
      "OverallQual_squared            0.101697\n",
      "total_high_qual_finished_sf    0.088775\n",
      "total_sf                       0.081656\n",
      "total_sf_square_root           0.073389\n",
      "total_sf_cubed                 0.071333\n",
      "total_sf_squared               0.060984\n",
      "Neighborhood_log_comp          0.042242\n",
      "dtype: float64\n"
     ]
    }
   ],
   "source": [
    "rf = RandomForestRegressor(random_state=0)\n",
    "rf.fit(train_X_transformed, train_y_log)\n",
    "rf_summarize(rf,train_X_transformed,train_y_log,test_X_transformed,test_y_log)"
   ]
  },
  {
   "cell_type": "code",
   "execution_count": 22,
   "id": "3836ccd3",
   "metadata": {},
   "outputs": [
    {
     "name": "stdout",
     "output_type": "stream",
     "text": [
      "{'bootstrap': True, 'ccp_alpha': 0.0, 'criterion': 'mse', 'max_depth': None, 'max_features': 'auto', 'max_leaf_nodes': None, 'max_samples': None, 'min_impurity_decrease': 0.0, 'min_impurity_split': None, 'min_samples_leaf': 1, 'min_samples_split': 2, 'min_weight_fraction_leaf': 0.0, 'n_estimators': 100, 'n_jobs': None, 'oob_score': False, 'random_state': 0, 'verbose': 0, 'warm_start': False}\n",
      "\n",
      "\n",
      "Cross Val score:  [0.94421031 0.91529305 0.91735592 0.92721745 0.91035143]\n",
      "Cross Val score mean:  0.9228856324406379\n",
      "Train score:  0.9888767085758192\n",
      "Test score:  0.8638453763909857\n",
      "\n",
      "\n",
      "OverallQual_squared            0.123926\n",
      "total_sf_cubed                 0.105298\n",
      "OverallQual                    0.104546\n",
      "total_sf_square_root           0.104352\n",
      "OverallQual_cubed              0.087981\n",
      "OverallQual_square_root        0.082700\n",
      "total_high_qual_finished_sf    0.074941\n",
      "total_sf_squared               0.070564\n",
      "total_sf                       0.068816\n",
      "Neighborhood_log_comp          0.053998\n",
      "dtype: float64\n"
     ]
    }
   ],
   "source": [
    "#remove log on target \n",
    "rf = RandomForestRegressor(random_state=0)\n",
    "rf.fit(train_X_transformed, train_y)\n",
    "rf_summarize(rf,train_X_transformed,train_y,test_X_transformed,test_y)"
   ]
  },
  {
   "cell_type": "markdown",
   "id": "e0bf38a6",
   "metadata": {},
   "source": [
    "## 2. With Tuning"
   ]
  },
  {
   "cell_type": "markdown",
   "id": "576976f2",
   "metadata": {},
   "source": [
    "### 2A. Feature Selection"
   ]
  },
  {
   "cell_type": "code",
   "execution_count": 23,
   "id": "be600caf",
   "metadata": {},
   "outputs": [],
   "source": [
    "random_forest_1 = RandomForestRegressor(n_estimators=475, \n",
    "                                      max_depth=23, \n",
    "                                      max_features=0.28, \n",
    "                                      n_jobs=-1,\n",
    "                                      random_state=0,\n",
    "                                      )"
   ]
  },
  {
   "cell_type": "code",
   "execution_count": 24,
   "id": "e2a5def5",
   "metadata": {},
   "outputs": [
    {
     "data": {
      "text/plain": [
       "RandomForestRegressor(max_depth=23, max_features=0.28, n_estimators=475,\n",
       "                      n_jobs=-1, random_state=0)"
      ]
     },
     "execution_count": 24,
     "metadata": {},
     "output_type": "execute_result"
    }
   ],
   "source": [
    "random_forest_1.fit(train_X,train_y_log)"
   ]
  },
  {
   "cell_type": "code",
   "execution_count": 25,
   "id": "c259af7e",
   "metadata": {
    "scrolled": false
   },
   "outputs": [
    {
     "name": "stdout",
     "output_type": "stream",
     "text": [
      "{'bootstrap': True, 'ccp_alpha': 0.0, 'criterion': 'mse', 'max_depth': 23, 'max_features': 0.28, 'max_leaf_nodes': None, 'max_samples': None, 'min_impurity_decrease': 0.0, 'min_impurity_split': None, 'min_samples_leaf': 1, 'min_samples_split': 2, 'min_weight_fraction_leaf': 0.0, 'n_estimators': 475, 'n_jobs': -1, 'oob_score': False, 'random_state': 0, 'verbose': 0, 'warm_start': False}\n",
      "\n",
      "\n",
      "Cross Val score:  [0.93289584 0.93699087 0.92947119 0.92741967 0.92810134]\n",
      "Cross Val score mean:  0.9309757800768785\n",
      "Train score:  0.9909824689781673\n",
      "Test score:  0.9109286902705149\n",
      "\n",
      "\n",
      "total_sf_square_root                2.195548e-01\n",
      "OverallQual_cubed                   1.912288e-01\n",
      "total_high_qual_finished_sf         1.157459e-01\n",
      "Neighborhood_log_comp               9.126466e-02\n",
      "GrLivArea_square_root               5.409430e-02\n",
      "year_since_built_square_root        4.514434e-02\n",
      "ExterQual                           3.805758e-02\n",
      "overall_score_square_root           3.425391e-02\n",
      "GarageArea                          2.588993e-02\n",
      "GarageCars_log_comp                 2.340901e-02\n",
      "GarageCars                          1.657983e-02\n",
      "BsmtQual                            1.512718e-02\n",
      "KitchenQual_cubed                   1.406332e-02\n",
      "LotArea_squared                     9.415940e-03\n",
      "LotArea_square_root                 9.276237e-03\n",
      "YearRemodAdd                        8.412292e-03\n",
      "BsmtFinSF1                          7.112264e-03\n",
      "MasVnrArea                          5.505120e-03\n",
      "OverallCond                         5.319933e-03\n",
      "FireplaceQu                         5.196105e-03\n",
      "total_deck_sf                       4.939495e-03\n",
      "garage_score                        4.545425e-03\n",
      "Fireplaces                          4.404094e-03\n",
      "TotRmsAbvGrd                        3.296248e-03\n",
      "total_full_bath                     3.208535e-03\n",
      "CentralAir_N                        3.132283e-03\n",
      "MSZoning_log_comp                   2.339605e-03\n",
      "Foundation_PConc                    2.169701e-03\n",
      "PavedDrive                          2.027867e-03\n",
      "HeatingQC                           1.812982e-03\n",
      "BsmtExposure_cubed                  1.764843e-03\n",
      "BedroomAbvGr                        1.739964e-03\n",
      "EnclosedPorch                       1.723264e-03\n",
      "YrSold                              1.602640e-03\n",
      "BsmtFullBath                        1.101428e-03\n",
      "BldgType_log_comp                   1.019324e-03\n",
      "BsmtFinType1_GLQ                    1.008090e-03\n",
      "closestSchool_Meeker                8.917343e-04\n",
      "HalfBath                            8.310705e-04\n",
      "Condition1_log_comp                 7.801101e-04\n",
      "MSSubClass_20                       7.673846e-04\n",
      "ScreenPorch                         7.631342e-04\n",
      "MSSubClass_30                       7.543293e-04\n",
      "KitchenAbvGr                        6.263482e-04\n",
      "MSSubClass_60                       6.174868e-04\n",
      "Exterior2nd_VinylSd                 6.043854e-04\n",
      "BldgType_1Fam                       5.868003e-04\n",
      "Foundation_BrkTil                   5.750375e-04\n",
      "Functional_Typ                      5.622686e-04\n",
      "BsmtFinType1_Unf                    5.531195e-04\n",
      "closestSchool_Ames High School      5.183419e-04\n",
      "MoSold_7                            4.587153e-04\n",
      "closestSchool_Ames Middle School    4.578307e-04\n",
      "BsmtFinType1_ALQ                    4.518234e-04\n",
      "Condition1_Norm                     4.389501e-04\n",
      "Neighborhood_Edwards                4.340278e-04\n",
      "HouseStyle_1.5Fin                   4.277853e-04\n",
      "Exterior1st_HdBoard                 4.183977e-04\n",
      "MoSold_5                            4.000454e-04\n",
      "Neighborhood_Crawfor                3.895433e-04\n",
      "MoSold_3                            3.868462e-04\n",
      "SaleType_ConLD                      3.839824e-04\n",
      "LandContour_HLS                     3.662932e-04\n",
      "closestSchool_Abbie Sawyer          3.583970e-04\n",
      "MoSold_12                           3.545705e-04\n",
      "SaleCondition_Partial               3.145211e-04\n",
      "BsmtFinType1_LwQ                    3.079882e-04\n",
      "BsmtFinType1_Rec                    3.077692e-04\n",
      "LandSlope_Mod                       2.734973e-04\n",
      "Exterior2nd_Plywood                 2.722097e-04\n",
      "SaleCondition_Normal                2.620119e-04\n",
      "MSSubClass_160                      2.511353e-04\n",
      "MoSold_10                           2.494695e-04\n",
      "Neighborhood_CollgCr                2.404603e-04\n",
      "Exterior1st_BrkFace                 2.359862e-04\n",
      "LotConfig_CulDSac                   2.344031e-04\n",
      "Condition1_Feedr                    2.296724e-04\n",
      "LandContour_Bnk                     2.171227e-04\n",
      "BsmtFinType2_BLQ                    2.158941e-04\n",
      "Neighborhood_StoneBr                1.975309e-04\n",
      "Neighborhood_Somerst                1.927579e-04\n",
      "Exterior2nd_Wd Shng                 1.916829e-04\n",
      "MoSold_11                           1.909222e-04\n",
      "Functional_Maj1                     1.828946e-04\n",
      "Fence_GdWo                          1.825724e-04\n",
      "BldgType_Duplex                     1.727755e-04\n",
      "Fence_GdPrv                         1.688512e-04\n",
      "Neighborhood_BrkSide                1.636413e-04\n",
      "Exterior2nd_AsbShng                 1.544619e-04\n",
      "Exterior1st_Stucco                  1.537561e-04\n",
      "Functional_Maj2                     1.434696e-04\n",
      "Neighborhood_MeadowV                1.426789e-04\n",
      "Neighborhood_SawyerW                1.402381e-04\n",
      "Neighborhood_NWAmes                 1.381026e-04\n",
      "BsmtFinType2_Rec                    1.288017e-04\n",
      "BldgType_Twnhs                      1.286226e-04\n",
      "Neighborhood_NridgHt                1.283548e-04\n",
      "MSZoning_RH                         1.158109e-04\n",
      "Heating_GasW                        1.090002e-04\n",
      "LotConfig_FR2                       1.079628e-04\n",
      "Functional_Mod                      1.060940e-04\n",
      "RoofStyle_Flat                      1.054043e-04\n",
      "LotShape_IR3                        1.013369e-04\n",
      "3SsnPorch                           9.082728e-05\n",
      "RoofMatl_WdShngl                    8.299440e-05\n",
      "Condition1_RRAe                     7.511168e-05\n",
      "Exterior1st_PreCast                 7.154931e-05\n",
      "GarageType_2Types                   7.112683e-05\n",
      "Foundation_Stone                    6.282511e-05\n",
      "HouseStyle_SFoyer                   5.467052e-05\n",
      "Exterior2nd_PreCast                 5.465816e-05\n",
      "MSZoning_C (all)                    5.349020e-05\n",
      "BsmtFinType2_GLQ                    5.010028e-05\n",
      "MSSubClass_85                       4.896712e-05\n",
      "GarageType_Basment                  4.207453e-05\n",
      "Street_Grvl                         4.116138e-05\n",
      "Neighborhood_Veenker                4.041064e-05\n",
      "RoofStyle_Gambrel                   3.705619e-05\n",
      "MiscFeature_Othr                    3.367038e-05\n",
      "LotConfig_FR3                       3.272796e-05\n",
      "Exterior2nd_Brk Cmn                 3.207705e-05\n",
      "Heating_Grav                        2.869395e-05\n",
      "GarageType_CarPort                  2.713453e-05\n",
      "PoolQC                              2.519617e-05\n",
      "Neighborhood_Blueste                2.016866e-05\n",
      "Condition2_Norm                     1.893088e-05\n",
      "SaleType_Con                        1.684899e-05\n",
      "Neighborhood_Greens                 1.682533e-05\n",
      "Foundation_Wood                     1.565577e-05\n",
      "SaleType_Oth                        1.357602e-05\n",
      "Heating_Wall                        8.497075e-06\n",
      "Exterior1st_BrkComm                 5.562517e-06\n",
      "Condition2_Feedr                    4.706953e-06\n",
      "Heating_Floor                       4.487560e-06\n",
      "Condition2_RRAn                     3.311723e-06\n",
      "SaleType_ConLw                      3.292641e-06\n",
      "MiscFeature_TenC                    2.535526e-06\n",
      "MSSubClass_150                      2.181296e-06\n",
      "Condition1_RRNe                     5.943363e-07\n",
      "Exterior2nd_CBlock                  4.498351e-07\n",
      "dtype: float64\n"
     ]
    }
   ],
   "source": [
    "rf_summarize(random_forest_1,train_X, train_y_log, test_X, test_y_log,140)"
   ]
  },
  {
   "cell_type": "code",
   "execution_count": 150,
   "id": "edbb2fed",
   "metadata": {},
   "outputs": [],
   "source": [
    "colors = [\"#FF0B04\", \"#F1BE48\",\n",
    "           \"#B9975B\", \"#8B5B29\",\n",
    "           \"#524727\",\n",
    "         ]\n",
    "\n",
    "colors = [\"#B9975B\"]"
   ]
  },
  {
   "cell_type": "code",
   "execution_count": 151,
   "id": "f9f79136",
   "metadata": {},
   "outputs": [],
   "source": [
    "importances = pd.DataFrame(pd.Series(random_forest_1.feature_importances_, index = train_X.columns). \\\n",
    "                           sort_values(ascending=False)).reset_index()"
   ]
  },
  {
   "cell_type": "code",
   "execution_count": 152,
   "id": "cdaa0179",
   "metadata": {},
   "outputs": [],
   "source": [
    "importances.columns = ['Feature','Importance']\n"
   ]
  },
  {
   "cell_type": "code",
   "execution_count": 153,
   "id": "8903a47a",
   "metadata": {
    "scrolled": false
   },
   "outputs": [
    {
     "data": {
      "image/png": "[encoded data removed]",
      "text/plain": [
       "<Figure size 216x432 with 1 Axes>"
      ]
     },
     "metadata": {
      "needs_background": "light"
     },
     "output_type": "display_data"
    }
   ],
   "source": [
    "top = importances[:20].sort_values(by='Importance',ascending=True)\n",
    "import matplotlib.pyplot as plt\n",
    "plt.rcParams[\"figure.figsize\"] = [3.0, 6.0]\n",
    "plt.barh(top['Feature'], top['Importance'],color=colors)\n",
    "plt.title('Random Forest Top 20 Features')\n",
    "plt.savefig('RF_Top_1.png',dpi=300, bbox_inches='tight')"
   ]
  },
  {
   "cell_type": "code",
   "execution_count": 26,
   "id": "248d9a32",
   "metadata": {},
   "outputs": [],
   "source": [
    "#Results for tuned rf with feature selection\n",
    "# {'bootstrap': True, 'ccp_alpha': 0.0, 'criterion': 'mse', 'max_depth': 23, 'max_features': 0.28, 'max_leaf_nodes': None, 'max_samples': None, 'min_impurity_decrease': 0.0, 'min_impurity_split': None, 'min_samples_leaf': 1, 'min_samples_split': 2, 'min_weight_fraction_leaf': 0.0, 'n_estimators': 475, 'n_jobs': -1, 'oob_score': False, 'random_state': 0, 'verbose': 0, 'warm_start': False}\n",
    "\n",
    "\n",
    "# Cross Val score:  [0.93289584 0.93699087 0.92947119 0.92741967 0.92810134]\n",
    "# Cross Val score mean:  0.9309757800768785\n",
    "# Train score:  0.9909824689781674\n",
    "# Test score:  0.9109286902705149\n",
    "\n",
    "\n",
    "# total_sf_square_root            0.219555\n",
    "# OverallQual_cubed               0.191229\n",
    "# total_high_qual_finished_sf     0.115746\n",
    "# Neighborhood_log_comp           0.091265\n",
    "# GrLivArea_square_root           0.054094\n",
    "# year_since_built_square_root    0.045144\n",
    "# ExterQual                       0.038058\n",
    "# overall_score_square_root       0.034254\n",
    "# GarageArea                      0.025890\n",
    "# GarageCars_log_comp             0.023409\n",
    "# GarageCars                      0.016580\n",
    "# BsmtQual                        0.015127\n",
    "# KitchenQual_cubed               0.014063\n",
    "# LotArea_squared                 0.009416\n",
    "# LotArea_square_root             0.009276\n",
    "# YearRemodAdd                    0.008412\n",
    "# BsmtFinSF1                      0.007112\n",
    "# MasVnrArea                      0.005505\n",
    "# OverallCond                     0.005320\n",
    "# FireplaceQu                     0.005196\n",
    "# total_deck_sf                   0.004939\n",
    "# garage_score                    0.004545\n",
    "# Fireplaces                      0.004404\n",
    "# TotRmsAbvGrd                    0.003296\n",
    "# total_full_bath                 0.003209"
   ]
  },
  {
   "cell_type": "markdown",
   "id": "1d3a0d99",
   "metadata": {},
   "source": [
    "### 2B. All Features"
   ]
  },
  {
   "cell_type": "code",
   "execution_count": 169,
   "id": "78eddaf6",
   "metadata": {},
   "outputs": [],
   "source": [
    "random_forest_2 = RandomForestRegressor(n_estimators=300, \n",
    "                                      max_depth=36, \n",
    "                                      max_features=0.1, \n",
    "                                      n_jobs=-1,\n",
    "                                      random_state=0,\n",
    "                                      )"
   ]
  },
  {
   "cell_type": "code",
   "execution_count": 170,
   "id": "c268cf21",
   "metadata": {},
   "outputs": [
    {
     "name": "stdout",
     "output_type": "stream",
     "text": [
      "{'bootstrap': True, 'ccp_alpha': 0.0, 'criterion': 'mse', 'max_depth': 36, 'max_features': 0.1, 'max_leaf_nodes': None, 'max_samples': None, 'min_impurity_decrease': 0.0, 'min_impurity_split': None, 'min_samples_leaf': 1, 'min_samples_split': 2, 'min_weight_fraction_leaf': 0.0, 'n_estimators': 300, 'n_jobs': -1, 'oob_score': False, 'random_state': 0, 'verbose': 0, 'warm_start': False}\n",
      "\n",
      "\n",
      "Cross Val score:  [0.93273479 0.93491204 0.92292383 0.92370534 0.92157475]\n",
      "Cross Val score mean:  0.9271701501791497\n",
      "Train score:  0.990276972313275\n",
      "Test score:  0.9042749333234227\n",
      "\n",
      "\n",
      "total_sf_squared               0.069766\n",
      "total_sf_cubed                 0.065509\n",
      "total_sf                       0.065176\n",
      "OverallQual                    0.064999\n",
      "OverallQual_squared            0.062314\n",
      "total_sf_square_root           0.056356\n",
      "OverallQual_cubed              0.052879\n",
      "OverallQual_square_root        0.052504\n",
      "total_high_qual_finished_sf    0.041294\n",
      "Neighborhood_log_comp          0.035703\n",
      "GrLivArea_squared              0.021725\n",
      "GrLivArea_square_root          0.018254\n",
      "YearBuilt                      0.018155\n",
      "GrLivArea                      0.016954\n",
      "ExterQual                      0.016779\n",
      "GrLivArea_cubed                0.016003\n",
      "year_since_built               0.013609\n",
      "GarageArea                     0.012863\n",
      "overall_score_square_root      0.012749\n",
      "year_since_built_cubed         0.012197\n",
      "GarageArea_cubed               0.011254\n",
      "overall_score_squared          0.011082\n",
      "overall_score_cubed            0.010948\n",
      "GarageCars_log_comp            0.010864\n",
      "GarageArea_squared             0.009674\n",
      "dtype: float64\n"
     ]
    }
   ],
   "source": [
    "random_forest_2.fit(train_X_transformed,train_y_log)\n",
    "rf_summarize(random_forest_2,train_X_transformed,train_y_log,test_X_transformed,test_y_log,25)"
   ]
  },
  {
   "cell_type": "code",
   "execution_count": 171,
   "id": "fc16921b",
   "metadata": {},
   "outputs": [],
   "source": [
    "# #Results tuned RF with all features \n",
    "# {'bootstrap': True, 'ccp_alpha': 0.0, 'criterion': 'mse', 'max_depth': 36, 'max_features': 0.1, 'max_leaf_nodes': None, 'max_samples': None, 'min_impurity_decrease': 0.0, 'min_impurity_split': None, 'min_samples_leaf': 1, 'min_samples_split': 2, 'min_weight_fraction_leaf': 0.0, 'n_estimators': 300, 'n_jobs': -1, 'oob_score': False, 'random_state': 0, 'verbose': 0, 'warm_start': False}\n",
    "\n",
    "\n",
    "# Cross Val score:  [0.93273479 0.93491204 0.92292383 0.92370534 0.92157475]\n",
    "# Cross Val score mean:  0.9271701501791497\n",
    "# Train score:  0.990276972313275\n",
    "# Test score:  0.9042749333234227\n",
    "\n",
    "\n",
    "# total_sf_squared               0.069766\n",
    "# total_sf_cubed                 0.065509\n",
    "# total_sf                       0.065176\n",
    "# OverallQual                    0.064999\n",
    "# OverallQual_squared            0.062314\n",
    "# total_sf_square_root           0.056356\n",
    "# OverallQual_cubed              0.052879\n",
    "# OverallQual_square_root        0.052504\n",
    "# total_high_qual_finished_sf    0.041294\n",
    "# Neighborhood_log_comp          0.035703\n",
    "# GrLivArea_squared              0.021725\n",
    "# GrLivArea_square_root          0.018254\n",
    "# YearBuilt                      0.018155\n",
    "# GrLivArea                      0.016954\n",
    "# ExterQual                      0.016779\n",
    "# GrLivArea_cubed                0.016003\n",
    "# year_since_built               0.013609\n",
    "# GarageArea                     0.012863\n",
    "# overall_score_square_root      0.012749\n",
    "# year_since_built_cubed         0.012197\n",
    "# GarageArea_cubed               0.011254\n",
    "# overall_score_squared          0.011082\n",
    "# overall_score_cubed            0.010948\n",
    "# GarageCars_log_comp            0.010864\n",
    "# GarageArea_squared             0.009674\n",
    "# dtype: float64"
   ]
  },
  {
   "cell_type": "code",
   "execution_count": 172,
   "id": "5e54e5cf",
   "metadata": {},
   "outputs": [],
   "source": [
    "importances = pd.DataFrame(pd.Series(random_forest_2.feature_importances_, index = train_X_transformed.columns). \\\n",
    "                           sort_values(ascending=False)).reset_index()"
   ]
  },
  {
   "cell_type": "code",
   "execution_count": 173,
   "id": "0a45ab2f",
   "metadata": {},
   "outputs": [],
   "source": [
    "importances.columns = ['Feature','Importance']"
   ]
  },
  {
   "cell_type": "code",
   "execution_count": 174,
   "id": "0ee07514",
   "metadata": {},
   "outputs": [],
   "source": [
    "colors = [\"#FF0B04\", \"#F1BE48\",\n",
    "           \"#B9975B\", \"#8B5B29\",\n",
    "           \"#524727\",\n",
    "         ]\n",
    "\n",
    "colors = [\"#B9975B\"]"
   ]
  },
  {
   "cell_type": "code",
   "execution_count": 175,
   "id": "39d3c20a",
   "metadata": {},
   "outputs": [
    {
     "data": {
      "image/png": "[encoded data removed]",
      "text/plain": [
       "<Figure size 216x432 with 1 Axes>"
      ]
     },
     "metadata": {
      "needs_background": "light"
     },
     "output_type": "display_data"
    }
   ],
   "source": [
    "top = importances[:20].sort_values(by='Importance',ascending=True)\n",
    "import matplotlib.pyplot as plt\n",
    "plt.rcParams[\"figure.figsize\"] = [3.0, 6.0]\n",
    "plt.barh(top['Feature'], top['Importance'],color=colors)\n",
    "plt.title('Random Forest Top 20 Features')\n",
    "plt.savefig('RF_Top_2.png',dpi=300, bbox_inches='tight')"
   ]
  },
  {
   "cell_type": "code",
   "execution_count": 163,
   "id": "431a5ecc",
   "metadata": {},
   "outputs": [],
   "source": [
    "topLasso = coef_df.sort_values(by='coefs',ascending=False)[:20] #grab top 20 features sorted by coef positive to negative\n",
    "topLasso = topLasso.sort_values(by='coefs',ascending=True) #reverse order of selection so that it plots in a descending order "
   ]
  },
  {
   "cell_type": "code",
   "execution_count": 164,
   "id": "5abe2807",
   "metadata": {},
   "outputs": [
    {
     "data": {
      "image/png": "[encoded data removed]",
      "text/plain": [
       "<Figure size 216x432 with 1 Axes>"
      ]
     },
     "metadata": {
      "needs_background": "light"
     },
     "output_type": "display_data"
    }
   ],
   "source": [
    "#lasso graph\n",
    "import matplotlib.pyplot as plt\n",
    "plt.rcParams[\"figure.figsize\"] = [3.0, 6.0]\n",
    "plt.barh(topLasso['features'], topLasso['coefs'],color=colors)\n",
    "plt.title('Lasso Top 20 Features')\n",
    "plt.savefig('Lasso_Top_1.png',dpi=300, bbox_inches='tight')"
   ]
  },
  {
   "cell_type": "code",
   "execution_count": null,
   "id": "1f7b15b6",
   "metadata": {},
   "outputs": [],
   "source": []
  }
 ],
 "metadata": {
  "kernelspec": {
   "display_name": "Python 3",
   "language": "python",
   "name": "python3"
  },
  "language_info": {
   "codemirror_mode": {
    "name": "ipython",
    "version": 3
   },
   "file_extension": ".py",
   "mimetype": "text/x-python",
   "name": "python",
   "nbconvert_exporter": "python",
   "pygments_lexer": "ipython3",
   "version": "3.8.8"
  }
 },
 "nbformat": 4,
 "nbformat_minor": 5
}
