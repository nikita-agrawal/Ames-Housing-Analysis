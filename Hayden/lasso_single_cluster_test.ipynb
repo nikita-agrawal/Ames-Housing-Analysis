{
 "cells": [
  {
   "cell_type": "markdown",
   "id": "a911d9d9",
   "metadata": {},
   "source": [
    "# lasso model tested on clusters"
   ]
  },
  {
   "cell_type": "markdown",
   "id": "4808a5a2",
   "metadata": {},
   "source": [
    "Testing if splitting the dataset on the clusters made by Alex can improve the score. The results were that cluster 0 consistenlty does well but that cluster 1 performs very poorly with a lasso model."
   ]
  },
  {
   "cell_type": "code",
   "execution_count": 1,
   "id": "7a658854",
   "metadata": {},
   "outputs": [],
   "source": [
    "import pandas as pd\n",
    "import numpy as np\n",
    "\n",
    "from sklearn.preprocessing import StandardScaler\n",
    "from sklearn.preprocessing import OneHotEncoder\n",
    "from sklearn.compose import ColumnTransformer\n",
    "from sklearn.cluster import KMeans\n",
    "\n",
    "import helper\n"
   ]
  },
  {
   "cell_type": "markdown",
   "id": "e23ae1ef",
   "metadata": {},
   "source": [
    "## data prep"
   ]
  },
  {
   "cell_type": "code",
   "execution_count": 2,
   "id": "d1984778",
   "metadata": {},
   "outputs": [],
   "source": [
    "df = pd.read_csv('Ames_Housing_Price_Data.csv', \n",
    "                             index_col=0,low_memory = False)"
   ]
  },
  {
   "cell_type": "code",
   "execution_count": 3,
   "id": "80407260",
   "metadata": {},
   "outputs": [],
   "source": [
    "train, test = helper.data_processing_wrapper(df, num_to_cat_list=['MSSubClass','MoSold'], remove_PID=False)"
   ]
  },
  {
   "cell_type": "code",
   "execution_count": 4,
   "id": "0d677ded",
   "metadata": {},
   "outputs": [],
   "source": [
    "schools = pd.read_csv('schoolFeatures.csv',index_col = 0)\n",
    "school_keep = [\n",
    "    'PID',\n",
    "    'closestSchool'\n",
    "]\n",
    "schools = schools[school_keep]"
   ]
  },
  {
   "cell_type": "code",
   "execution_count": 5,
   "id": "40dd4f3a",
   "metadata": {},
   "outputs": [],
   "source": [
    "train = train.merge(schools, how = 'left', left_on = 'PID', right_on = 'PID')\n",
    "test = test.merge(schools, how = 'left', left_on = 'PID', right_on = 'PID')\n",
    "\n",
    "train = train.dropna(subset=['closestSchool'])\n",
    "train = train.reset_index(drop=True)\n",
    "\n",
    "test = test.dropna(subset=['closestSchool'])\n",
    "test = test.reset_index(drop=True)"
   ]
  },
  {
   "cell_type": "code",
   "execution_count": 6,
   "id": "a40bfd81",
   "metadata": {},
   "outputs": [],
   "source": [
    "train['LogSalePrice'] = np.log(train['SalePrice'])\n",
    "test['LogSalePrice'] = np.log(test['SalePrice'])"
   ]
  },
  {
   "cell_type": "markdown",
   "id": "12f64a3a",
   "metadata": {},
   "source": [
    "##  Alex's Clustering "
   ]
  },
  {
   "cell_type": "code",
   "execution_count": 7,
   "id": "169eaced",
   "metadata": {},
   "outputs": [],
   "source": [
    "nhds = train.groupby('Neighborhood').median()[['LogSalePrice', 'GrLivArea']]"
   ]
  },
  {
   "cell_type": "code",
   "execution_count": 8,
   "id": "1aa49c8d",
   "metadata": {},
   "outputs": [],
   "source": [
    "weights = train.groupby('Neighborhood').count().apply(lambda x: x['PID']/len(train) ,axis=1).to_list()"
   ]
  },
  {
   "cell_type": "code",
   "execution_count": 9,
   "id": "32af995e",
   "metadata": {},
   "outputs": [],
   "source": [
    "scaler = StandardScaler()\n",
    "_ = scaler.fit_transform(nhds)\n",
    "clusterer = KMeans(n_clusters=2, random_state=42)\n",
    "cluster_labels = clusterer.fit_predict(_, sample_weight=weights)\n",
    "nhds['Cluster'] = cluster_labels"
   ]
  },
  {
   "cell_type": "code",
   "execution_count": 10,
   "id": "2728a85a",
   "metadata": {},
   "outputs": [],
   "source": [
    "cluster_dict = nhds['Cluster'].to_dict()"
   ]
  },
  {
   "cell_type": "code",
   "execution_count": 11,
   "id": "2deb9d4d",
   "metadata": {},
   "outputs": [],
   "source": [
    "train['NhdCluster'] = train.apply(lambda x: cluster_dict[x['Neighborhood']], axis=1)\n",
    "test['NhdCluster'] = test.apply(lambda x: cluster_dict[x['Neighborhood']], axis=1)"
   ]
  },
  {
   "cell_type": "code",
   "execution_count": 12,
   "id": "02812146",
   "metadata": {},
   "outputs": [],
   "source": [
    "# myfunction does the log of them. and it'll just be easier for me later to drop this now.\n",
    "\n",
    "train = train.drop(columns = ['LogSalePrice'])\n",
    "test = test.drop(columns = ['LogSalePrice'])"
   ]
  },
  {
   "cell_type": "markdown",
   "id": "c2175c3d",
   "metadata": {},
   "source": [
    "## feature engineering"
   ]
  },
  {
   "cell_type": "code",
   "execution_count": 13,
   "id": "6a094fc4",
   "metadata": {},
   "outputs": [
    {
     "ename": "AttributeError",
     "evalue": "module 'helper' has no attribute 'add_price_comp_log_feature'",
     "output_type": "error",
     "traceback": [
      "\u001b[0;31m---------------------------------------------------------------------------\u001b[0m",
      "\u001b[0;31mAttributeError\u001b[0m                            Traceback (most recent call last)",
      "\u001b[0;32m<ipython-input-13-ed4c073a9e97>\u001b[0m in \u001b[0;36m<module>\u001b[0;34m\u001b[0m\n\u001b[1;32m      1\u001b[0m \u001b[0;31m# add price comps\u001b[0m\u001b[0;34m\u001b[0m\u001b[0;34m\u001b[0m\u001b[0;34m\u001b[0m\u001b[0m\n\u001b[0;32m----> 2\u001b[0;31m \u001b[0mtrain\u001b[0m\u001b[0;34m,\u001b[0m \u001b[0mtest\u001b[0m \u001b[0;34m=\u001b[0m \u001b[0mhelper\u001b[0m\u001b[0;34m.\u001b[0m\u001b[0madd_price_comp_log_feature\u001b[0m\u001b[0;34m(\u001b[0m\u001b[0mtrain\u001b[0m\u001b[0;34m,\u001b[0m \u001b[0mtest\u001b[0m\u001b[0;34m,\u001b[0m\u001b[0;34m'Neighborhood'\u001b[0m\u001b[0;34m)\u001b[0m\u001b[0;34m\u001b[0m\u001b[0;34m\u001b[0m\u001b[0m\n\u001b[0m\u001b[1;32m      3\u001b[0m \u001b[0mtrain\u001b[0m\u001b[0;34m,\u001b[0m \u001b[0mtest\u001b[0m \u001b[0;34m=\u001b[0m \u001b[0mhelper\u001b[0m\u001b[0;34m.\u001b[0m\u001b[0madd_price_comp_log_feature\u001b[0m\u001b[0;34m(\u001b[0m\u001b[0mtrain\u001b[0m\u001b[0;34m,\u001b[0m \u001b[0mtest\u001b[0m\u001b[0;34m,\u001b[0m\u001b[0;34m'GarageCars'\u001b[0m\u001b[0;34m)\u001b[0m\u001b[0;34m\u001b[0m\u001b[0;34m\u001b[0m\u001b[0m\n\u001b[1;32m      4\u001b[0m \u001b[0mtrain\u001b[0m\u001b[0;34m,\u001b[0m \u001b[0mtest\u001b[0m \u001b[0;34m=\u001b[0m \u001b[0mhelper\u001b[0m\u001b[0;34m.\u001b[0m\u001b[0madd_price_comp_log_feature\u001b[0m\u001b[0;34m(\u001b[0m\u001b[0mtrain\u001b[0m\u001b[0;34m,\u001b[0m \u001b[0mtest\u001b[0m\u001b[0;34m,\u001b[0m\u001b[0;34m'BldgType'\u001b[0m\u001b[0;34m)\u001b[0m\u001b[0;34m\u001b[0m\u001b[0;34m\u001b[0m\u001b[0m\n\u001b[1;32m      5\u001b[0m \u001b[0mtrain\u001b[0m\u001b[0;34m,\u001b[0m \u001b[0mtest\u001b[0m \u001b[0;34m=\u001b[0m \u001b[0mhelper\u001b[0m\u001b[0;34m.\u001b[0m\u001b[0madd_price_comp_log_feature\u001b[0m\u001b[0;34m(\u001b[0m\u001b[0mtrain\u001b[0m\u001b[0;34m,\u001b[0m \u001b[0mtest\u001b[0m\u001b[0;34m,\u001b[0m\u001b[0;34m'MSZoning'\u001b[0m\u001b[0;34m)\u001b[0m\u001b[0;34m\u001b[0m\u001b[0;34m\u001b[0m\u001b[0m\n",
      "\u001b[0;31mAttributeError\u001b[0m: module 'helper' has no attribute 'add_price_comp_log_feature'"
     ]
    }
   ],
   "source": [
    "# add price comps\n",
    "train, test = helper.add_price_comp_log_feature(train, test,'Neighborhood')\n",
    "train, test = helper.add_price_comp_log_feature(train, test,'GarageCars')\n",
    "train, test = helper.add_price_comp_log_feature(train, test,'BldgType')\n",
    "train, test = helper.add_price_comp_log_feature(train, test,'MSZoning')\n",
    "train, test = helper.add_price_comp_log_feature(train, test,'Condition1')"
   ]
  },
  {
   "cell_type": "code",
   "execution_count": null,
   "id": "0bfe7f61",
   "metadata": {},
   "outputs": [],
   "source": [
    "num_features_to_transform = [\n",
    "    'OverallQual',\n",
    "    'overall_score',\n",
    "    'total_sf',\n",
    "    'GrLivArea',\n",
    "    'year_since_built',\n",
    "    'LotArea',\n",
    "    'GarageArea',\n",
    "    'year_since_remod',\n",
    "    'BsmtExposure',\n",
    "    'KitchenQual'\n",
    "]"
   ]
  },
  {
   "cell_type": "code",
   "execution_count": null,
   "id": "f76e7c02",
   "metadata": {},
   "outputs": [],
   "source": [
    "train = helper.add_year_since_feature(train)\n",
    "train = helper.add_score_feature(train)\n",
    "train = helper.add_combined_related_num_features(train)\n",
    "train = helper.add_non_linear_transformed_features(train,num_features_to_transform)"
   ]
  },
  {
   "cell_type": "code",
   "execution_count": null,
   "id": "e18b5f8c",
   "metadata": {},
   "outputs": [],
   "source": [
    "test = helper.add_year_since_feature(test)\n",
    "test = helper.add_score_feature(test)\n",
    "test = helper.add_combined_related_num_features(test)\n",
    "test = helper.add_non_linear_transformed_features(test,num_features_to_transform)"
   ]
  },
  {
   "cell_type": "code",
   "execution_count": null,
   "id": "1353db02",
   "metadata": {},
   "outputs": [],
   "source": [
    "cat_feats = train.select_dtypes(['object','bool']).columns.to_list()"
   ]
  },
  {
   "cell_type": "code",
   "execution_count": null,
   "id": "bbcc3830",
   "metadata": {},
   "outputs": [],
   "source": [
    "num_cols = train.select_dtypes(['float64','int64']).columns.to_list()\n",
    "num_cols.remove('SalePrice')\n",
    "num_cols.remove('PID')"
   ]
  },
  {
   "cell_type": "code",
   "execution_count": null,
   "id": "17be7ac3",
   "metadata": {},
   "outputs": [],
   "source": [
    "train_0 = train.loc[train['NhdCluster']==0,:]\n",
    "test_0 = test.loc[test['NhdCluster']==0,:]\n",
    "train_1 = train.loc[train['NhdCluster']==1,:]\n",
    "test_1 = test.loc[test['NhdCluster']==1,:]"
   ]
  },
  {
   "cell_type": "markdown",
   "id": "2d98f661",
   "metadata": {},
   "source": [
    "### cluster only as a feature"
   ]
  },
  {
   "cell_type": "code",
   "execution_count": null,
   "id": "74b67aaf",
   "metadata": {},
   "outputs": [],
   "source": [
    "clf, transformer, scaler = helper.lasso_grid_cv(train,cat_feats,n_jobs_ = -1)"
   ]
  },
  {
   "cell_type": "code",
   "execution_count": null,
   "id": "3687f8d8",
   "metadata": {},
   "outputs": [],
   "source": [
    "clf.best_score_"
   ]
  },
  {
   "cell_type": "code",
   "execution_count": null,
   "id": "2535f8ed",
   "metadata": {},
   "outputs": [],
   "source": [
    "X_tst = test.drop(['SalePrice','PID'],axis=1)\n",
    "X_tst = transformer.transform(X_tst)\n",
    "X_tst = scaler.transform(X_tst)\n",
    "y_tst = np.log(test['SalePrice'])\n",
    "\n",
    "clf.score(X_tst,y_tst)"
   ]
  },
  {
   "cell_type": "markdown",
   "id": "b090300c",
   "metadata": {},
   "source": [
    "## trained on entire data set. tested on each clusters."
   ]
  },
  {
   "cell_type": "code",
   "execution_count": null,
   "id": "bc873a5f",
   "metadata": {},
   "outputs": [],
   "source": [
    "train_0 = train.loc[train['NhdCluster']==0,:]\n",
    "test_0 = test.loc[test['NhdCluster']==0,:]\n",
    "train_1 = train.loc[train['NhdCluster']==1,:]\n",
    "test_1 = test.loc[test['NhdCluster']==1,:]"
   ]
  },
  {
   "cell_type": "code",
   "execution_count": null,
   "id": "c9875914",
   "metadata": {},
   "outputs": [],
   "source": [
    "X_tst = test_0.drop(['SalePrice','PID'],axis=1)\n",
    "X_tst = transformer.transform(X_tst)\n",
    "X_tst = scaler.transform(X_tst)\n",
    "y_tst = np.log(test_0['SalePrice'])\n",
    "\n",
    "clf.score(X_tst,y_tst)"
   ]
  },
  {
   "cell_type": "code",
   "execution_count": null,
   "id": "1789a727",
   "metadata": {},
   "outputs": [],
   "source": [
    "X_tst = test_1.drop(['SalePrice','PID'],axis=1)\n",
    "X_tst = transformer.transform(X_tst)\n",
    "X_tst = scaler.transform(X_tst)\n",
    "y_tst = np.log(test_1['SalePrice'])\n",
    "\n",
    "clf.score(X_tst,y_tst)"
   ]
  },
  {
   "cell_type": "markdown",
   "id": "fb96aba2",
   "metadata": {},
   "source": [
    "### cluster 0 seperated but cluster 1 train on the whole data set."
   ]
  },
  {
   "cell_type": "code",
   "execution_count": null,
   "id": "ca605df4",
   "metadata": {},
   "outputs": [],
   "source": [
    "clf, transformer, scaler = helper.lasso_grid_cv(train_0,cat_feats,n_jobs_ = -1)"
   ]
  },
  {
   "cell_type": "code",
   "execution_count": null,
   "id": "c0ce2364",
   "metadata": {},
   "outputs": [],
   "source": [
    "clf.best_score_"
   ]
  },
  {
   "cell_type": "code",
   "execution_count": null,
   "id": "56d5d16c",
   "metadata": {},
   "outputs": [],
   "source": [
    "X_tst = test_0.drop(['SalePrice','PID'],axis=1)\n",
    "X_tst = transformer.transform(X_tst)\n",
    "X_tst = scaler.transform(X_tst)\n",
    "y_tst = np.log(test_0['SalePrice'])\n",
    "\n",
    "clf.score(X_tst,y_tst)"
   ]
  },
  {
   "cell_type": "markdown",
   "id": "d5cd772c",
   "metadata": {},
   "source": [
    "### cluster 1 train and tested only on itself"
   ]
  },
  {
   "cell_type": "code",
   "execution_count": null,
   "id": "86217e8c",
   "metadata": {},
   "outputs": [],
   "source": [
    "clf, transformer, scaler = helper.lasso_grid_cv(train_1,cat_feats,n_jobs_ = -1)"
   ]
  },
  {
   "cell_type": "code",
   "execution_count": null,
   "id": "2ee55006",
   "metadata": {},
   "outputs": [],
   "source": [
    "clf.best_score_"
   ]
  },
  {
   "cell_type": "code",
   "execution_count": null,
   "id": "1b51c4d6",
   "metadata": {},
   "outputs": [],
   "source": [
    "X_tst = test_1.drop(['SalePrice','PID'],axis=1)\n",
    "X_tst = transformer.transform(X_tst)\n",
    "X_tst = scaler.transform(X_tst)\n",
    "y_tst = np.log(test_1['SalePrice'])\n",
    "\n",
    "clf.score(X_tst,y_tst)"
   ]
  },
  {
   "cell_type": "code",
   "execution_count": null,
   "id": "b209743b",
   "metadata": {},
   "outputs": [],
   "source": []
  }
 ],
 "metadata": {
  "kernelspec": {
   "display_name": "Python 3",
   "language": "python",
   "name": "python3"
  },
  "language_info": {
   "codemirror_mode": {
    "name": "ipython",
    "version": 3
   },
   "file_extension": ".py",
   "mimetype": "text/x-python",
   "name": "python",
   "nbconvert_exporter": "python",
   "pygments_lexer": "ipython3",
   "version": "3.8.8"
  }
 },
 "nbformat": 4,
 "nbformat_minor": 5
}
