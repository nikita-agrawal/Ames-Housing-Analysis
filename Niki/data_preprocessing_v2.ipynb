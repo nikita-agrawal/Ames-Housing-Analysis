{
 "cells": [
  {
   "cell_type": "markdown",
   "id": "9efe2c49",
   "metadata": {},
   "source": [
    "# Data Preprocessing V2 "
   ]
  },
  {
   "cell_type": "code",
   "execution_count": 22,
   "id": "0b2431a1",
   "metadata": {},
   "outputs": [],
   "source": [
    "import pandas as pd\n",
    "import numpy as np \n",
    "import seaborn as sns\n",
    "import matplotlib.pyplot as plt "
   ]
  },
  {
   "cell_type": "markdown",
   "id": "33e79212",
   "metadata": {},
   "source": [
    "# PART A: Functions used in preprocessing"
   ]
  },
  {
   "cell_type": "markdown",
   "id": "d582721f",
   "metadata": {},
   "source": [
    "## A1. Overall helper functions"
   ]
  },
  {
   "cell_type": "code",
   "execution_count": 23,
   "id": "dc9a3671",
   "metadata": {},
   "outputs": [],
   "source": [
    "def identify_feats(df):\n",
    "    # Categorical features\n",
    "    cat_feats = df.select_dtypes(['object','bool']).columns.to_list()\n",
    "    # Numerical features\n",
    "    num_feats = df.select_dtypes(['int', 'float']).columns.to_list()\n",
    "    print(\"categorical: \"+ str(df[cat_feats].shape[1]))\n",
    "    print(\"numerical: \"+ str(df[num_feats].shape[1]))\n",
    "    print(\"df dims:\" + str(df.shape))\n",
    "    return(cat_feats,num_feats)"
   ]
  },
  {
   "cell_type": "code",
   "execution_count": 24,
   "id": "22262124",
   "metadata": {},
   "outputs": [],
   "source": [
    "def cols_with_na(df,threshold=0):\n",
    "    count = 0\n",
    "    for col in df.columns.to_list():\n",
    "        if(df[col].isna().sum()/len(df))>threshold:\n",
    "            count += 1\n",
    "            print(str(col) + \"   \" + str(df[col].isna().sum()) + \"   \" + str(round(df[col].isna().sum()/len(df)*100,2))) \n",
    "    print('Total columns with NA values above threshold ' + str(threshold*100) + \"%: \" + str(count))"
   ]
  },
  {
   "cell_type": "markdown",
   "id": "d396368c",
   "metadata": {},
   "source": [
    "##  A2. Functions related to numeric features \n",
    "##### (and a few categorical in impute_missing_values)"
   ]
  },
  {
   "cell_type": "code",
   "execution_count": 25,
   "id": "ca742575",
   "metadata": {},
   "outputs": [],
   "source": [
    "#Special Case Imputations \n",
    "#Five numeric columns have missing values: LotFrontage (353), MasVnrArea (11), BsmtFullBath(1),  \n",
    "#BsmtHalfBath(1), GarageYrBullt(92)\n",
    "def impute_missing_vals(df):\n",
    "    #1. Impute LotFrontage missing values with linear regression coefficients \n",
    "    # AA: LotFrontage imputed as (coefficient from dict) * sqrt(LotArea)\n",
    "    LotFrontage_dict = {'1Fam':0.7139, 'TwnhsE':0.5849, 'Twnhs':0.5227, 'Duplex':0.7725, '2fmCon':0.6922}\n",
    "    df.loc[df['LotFrontage'].isna(), 'LotFrontage'] = df.loc[df['LotFrontage'].isna(), :].apply(\n",
    "        lambda x: LotFrontage_dict[x['BldgType']]*np.sqrt(x['LotArea']), axis=1)\n",
    "\n",
    "    #2. All rows with MasVnrArea null values also have MasVnrType as null.\\\n",
    "    idx = df['MasVnrArea'].isna() & (df['MasVnrType'].isna())\n",
    "    #Assume these properties do not have a veneer, so set MasVnrType as \"None\" and MasVnrArea as 0 \n",
    "    df.loc[idx,'MasVnrArea'] = 0 \n",
    "    df.loc[idx,'MasVnrType'] = \"None\" #motivated by the null value in test, is this data leakage?\n",
    "\n",
    "    #3 & 4. BsmtFullBath & BsmtHalfBath nulls corresponds with No basement. Can impute with 0. \n",
    "    df.loc[df['BsmtFullBath'].isna() & (df['TotalBsmtSF']==0),'BsmtFullBath'] = 0\n",
    "    df.loc[df['BsmtHalfBath'].isna() & (df['TotalBsmtSF']==0),'BsmtHalfBath'] = 0 \n",
    "\n",
    "    #5. GarageYrBuilt - repalce missing year with YearBuilt for properties with non-zero garage area values  \n",
    "    idx = df['GarageYrBlt'].isna() & (df['GarageArea']!=0.0)\n",
    "    df.loc[idx,'GarageYrBlt'] = df.loc[idx,'YearBuilt']\n",
    "    #The rest do not have garages so fill with 0, later convert to None \n",
    "    df['GarageYrBlt'] = df['GarageYrBlt'].fillna(value=0)\n",
    "    \n",
    "    #6. Impute 'Electrical' null values with the most common type 'SBrKr' -> motivated by the null value in test, is this data leakage?\n",
    "    ### trainX['Electrical'].mode() = SBrkr\n",
    "    df.loc[df['Electrical'].isna(),'Electrical'] = 'SBrkr'\n",
    "    \n",
    "    #7. JH:Specific additions: Replacing two values of GarageType to None\n",
    "    df.loc[df['PID'] == 903426160,'GarageType'] = 'None'\n",
    "    df.loc[df['PID'] == 910201180,'GarageType'] = 'None'"
   ]
  },
  {
   "cell_type": "code",
   "execution_count": 26,
   "id": "0bc24166",
   "metadata": {},
   "outputs": [],
   "source": [
    "def convert_num_to_categorical(df):\n",
    "    #Features that were originally numeric but should be treated as nominal categories since there is no clear \n",
    "    #advantage from applying a rank:\n",
    "    num_to_nominal_cat_feats = [\n",
    "                        'MSSubClass',\n",
    "                        'KitchenAbvGr',\n",
    "                        'BedroomAbvGr',\n",
    "                        'MoSold',\n",
    "                        'YrSold']\n",
    "    for feat in num_to_nominal_cat_feats:\n",
    "        df[feat] = df[feat].astype(str)\n",
    "        \n",
    "    #Add prefix to MSSubClass number code (string)\n",
    "    df['MSSubClass'] = \"MSSubClass_\"+ df['MSSubClass']\n",
    "    return num_to_nominal_cat_feats"
   ]
  },
  {
   "cell_type": "markdown",
   "id": "26217329",
   "metadata": {},
   "source": [
    "## A3. Functions related to categorical features"
   ]
  },
  {
   "cell_type": "code",
   "execution_count": 27,
   "id": "ab903e9f",
   "metadata": {},
   "outputs": [],
   "source": [
    "#Only for checking that each categorical feature has been accounted for (assigned to nominal or ordinal)\n",
    "#This function is not used in procesing \n",
    "def check_cat_feats(df):\n",
    "    nominal_cat_feats = ['MSSubClass','MSZoning','Street','LotShape',\n",
    "                     'LandContour','LotConfig','LandSlope','Neighborhood',\n",
    "                     'Condition1','Condition2','BldgType','HouseStyle',\n",
    "                     'RoofStyle','RoofMatl','Exterior1st','Exterior2nd',\n",
    "                     'MasVnrType','Foundation','BsmtFinType1','BsmtFinType2',\n",
    "                     'Heating','CentralAir','Electrical','Utilities',\n",
    "                     'Functional','GarageType','MiscFeature','SaleType','SaleCondition']\n",
    "    nominal_cat_feats += num_to_nominal_cat_feats #returned by convert_num_to_nomial_cat_feats\n",
    "    \n",
    "    ordinal_cat_feats = ['ExterQual','ExterCond','BsmtQual',\n",
    "                     'BsmtCond','BsmtExposure','HeatingQC',\n",
    "                     'KitchenQual','FireplaceQu','GarageFinish',\n",
    "                     'GarageQual','GarageCond','PavedDrive',\n",
    "                     'PoolQC','Fence','Alley']\n",
    "    \n",
    "    #check that all categorical features are assigned to either nominal_cat_feats or ordinal_cat_feats\n",
    "    identify_feats(df)\n",
    "    return len(set(cat_feats)-set(nominal_cat_feats)-set(ordinal_cat_feats))==0"
   ]
  },
  {
   "cell_type": "code",
   "execution_count": 28,
   "id": "6f406371",
   "metadata": {},
   "outputs": [],
   "source": [
    "#According to data dictionary, NA translates to 'None' (No access, No basement etc.) for the following categories:\n",
    "def replace_na_with_none(df):\n",
    "    na_means_none_cols = ['Alley','BsmtQual','BsmtCond','BsmtFinType1','BsmtFinType2',\n",
    "                 'BsmtExposure','FireplaceQu','GarageType','GarageFinish',\n",
    "                 'GarageQual','GarageCond','PoolQC','Fence','MiscFeature']\n",
    "    for col in na_means_none_cols:\n",
    "        df[col] = df[col].fillna(value = 'None')\n",
    "        #print((df[col].unique()))    "
   ]
  },
  {
   "cell_type": "code",
   "execution_count": 29,
   "id": "39f4d1b3",
   "metadata": {},
   "outputs": [],
   "source": [
    "def map_ordinal_cat(df):\n",
    "    #Maps\n",
    "    common_ranks_dict = {'None':0,'Po':1,'Fa':2,'TA':3,'Gd':4,'Ex':5}\n",
    "    replace_map = {\n",
    "        'ExterQual': common_ranks_dict,\n",
    "        'ExterCond': common_ranks_dict,\n",
    "        'BsmtQual': common_ranks_dict,\n",
    "        'BsmtCond': common_ranks_dict,\n",
    "        'BsmtExposure': {'None':0,'No':1,'Mn':2,'Av':3,'Gd':4}, \n",
    "        'HeatingQC': common_ranks_dict,\n",
    "        'KitchenQual': common_ranks_dict,\n",
    "        'FireplaceQu': common_ranks_dict,\n",
    "        'GarageFinish': {'None':0,'Unf':1,'RFn':2,'Fin':3},\n",
    "        'GarageQual': common_ranks_dict,\n",
    "        'GarageCond': common_ranks_dict,\n",
    "        'PavedDrive': {'N':0,'P':1,'Y':2},\n",
    "        'PoolQC': {'None':0,'Fa':1,'TA':2,'Gd':3,'Ex':4},\n",
    "        'Fence': {'None':0,'MnWw':1,'GdWo':2,'MnPrv':3,'GdPrv':4},\n",
    "        'Alley': {'None':0,'Grvl':1,'Pave':2}\n",
    "    }              \n",
    "    #Replace strings with numbers \n",
    "    df.replace(replace_map, inplace=True)\n"
   ]
  },
  {
   "cell_type": "markdown",
   "id": "d0e2d42a",
   "metadata": {},
   "source": [
    "# PART B: Overall Preprocessing Pipeline\n"
   ]
  },
  {
   "cell_type": "code",
   "execution_count": 30,
   "id": "f49ecf6a",
   "metadata": {},
   "outputs": [],
   "source": [
    "### Load Data (temporary, can generalize)\n",
    "data_train = pd.read_csv('/Users/nikiagrawal/Desktop/ML project/data/train.csv',index_col=0)\n",
    "data_test = pd.read_csv('/Users/nikiagrawal/Desktop/ML project/data/test.csv',index_col=0)\n",
    "\n",
    "# housing = pd.read_csv('Ames_Housing_Price_Data.csv')\n",
    "# housing.drop('Unnamed: 0', axis=1, inplace=True)\n",
    "# housing = housing[(housing['SaleCondition'] == 'Normal') | (housing['SaleCondition'] == 'Partial')].reset_index(drop=True)\n",
    "# train, test = helper.stratified_split(housing,'Neighborhood')"
   ]
  },
  {
   "cell_type": "code",
   "execution_count": 31,
   "id": "710264ba",
   "metadata": {},
   "outputs": [],
   "source": [
    "trainX = data_train.drop('SalePrice',axis=1)\n",
    "trainY = data_train['SalePrice']\n",
    "testX = data_test.drop('SalePrice',axis=1)\n",
    "testY = data_test['SalePrice']"
   ]
  },
  {
   "cell_type": "markdown",
   "id": "58eb047b",
   "metadata": {},
   "source": [
    "# B1. Preprocess Training Data  "
   ]
  },
  {
   "cell_type": "code",
   "execution_count": 32,
   "id": "3daab9f8",
   "metadata": {},
   "outputs": [
    {
     "name": "stdout",
     "output_type": "stream",
     "text": [
      "categorical: 43\n",
      "numerical: 37\n",
      "df dims:(1871, 80)\n",
      "\n",
      "\n",
      "LotFrontage   353   18.87\n",
      "Alley   1749   93.48\n",
      "MasVnrType   11   0.59\n",
      "MasVnrArea   11   0.59\n",
      "BsmtQual   54   2.89\n",
      "BsmtCond   54   2.89\n",
      "BsmtExposure   56   2.99\n",
      "BsmtFinType1   54   2.89\n",
      "BsmtFinType2   55   2.94\n",
      "BsmtFullBath   1   0.05\n",
      "BsmtHalfBath   1   0.05\n",
      "FireplaceQu   877   46.87\n",
      "GarageType   91   4.86\n",
      "GarageYrBlt   92   4.92\n",
      "GarageFinish   92   4.92\n",
      "GarageQual   92   4.92\n",
      "GarageCond   92   4.92\n",
      "PoolQC   1866   99.73\n",
      "Fence   1501   80.22\n",
      "MiscFeature   1804   96.42\n",
      "Total columns with NA values above threshold 0%: 20\n"
     ]
    }
   ],
   "source": [
    "#Step 0. Inspect columns with missing data \n",
    "df = trainX\n",
    "#Print out number catgeorical and numeric feats, and dataframe dimensions \n",
    "cat_feats,num_feats = identify_feats(df)\n",
    "#Print out column, missing value count, missing value percentage \n",
    "print('\\n')\n",
    "cols_with_na(df)"
   ]
  },
  {
   "cell_type": "code",
   "execution_count": 33,
   "id": "5e4b87e3",
   "metadata": {},
   "outputs": [
    {
     "name": "stdout",
     "output_type": "stream",
     "text": [
      "Alley   1749   93.48\n",
      "BsmtQual   54   2.89\n",
      "BsmtCond   54   2.89\n",
      "BsmtExposure   56   2.99\n",
      "BsmtFinType1   54   2.89\n",
      "BsmtFinType2   55   2.94\n",
      "FireplaceQu   877   46.87\n",
      "GarageType   91   4.86\n",
      "GarageFinish   92   4.92\n",
      "GarageQual   92   4.92\n",
      "GarageCond   92   4.92\n",
      "PoolQC   1866   99.73\n",
      "Fence   1501   80.22\n",
      "MiscFeature   1804   96.42\n",
      "Total columns with NA values above threshold 0%: 14\n"
     ]
    }
   ],
   "source": [
    "#Step 1. Handle special case imputations\n",
    "impute_missing_vals(df)\n",
    "#Print out column, missing value count, missing value percentage \n",
    "cols_with_na(df)"
   ]
  },
  {
   "cell_type": "code",
   "execution_count": 34,
   "id": "e45bedec",
   "metadata": {},
   "outputs": [
    {
     "name": "stdout",
     "output_type": "stream",
     "text": [
      "categorical: 33\n",
      "numerical: 47\n",
      "df dims:(1871, 80)\n",
      "\n",
      "\n",
      "Total columns with NA values above threshold 0%: 0\n"
     ]
    }
   ],
   "source": [
    "#Handle remaining categorical imputations \n",
    "convert_num_to_categorical(df)\n",
    "replace_na_with_none(df)\n",
    "map_ordinal_cat(df)\n",
    "\n",
    "#Print out number catgeorical and numeric feats, and dataframe dimensions \n",
    "cat_feats,num_feats = identify_feats(df)\n",
    "#Print out column, missing value count, missing value percentage \n",
    "print('\\n')\n",
    "cols_with_na(df)"
   ]
  },
  {
   "cell_type": "markdown",
   "id": "cb64ec88",
   "metadata": {},
   "source": [
    "# B2. Preprocess Test Data  \n"
   ]
  },
  {
   "cell_type": "code",
   "execution_count": 35,
   "id": "94e44d94",
   "metadata": {},
   "outputs": [
    {
     "name": "stdout",
     "output_type": "stream",
     "text": [
      "categorical: 43\n",
      "numerical: 37\n",
      "df dims:(624, 80)\n",
      "LotFrontage   99   15.87\n",
      "Alley   585   93.75\n",
      "MasVnrType   3   0.48\n",
      "MasVnrArea   3   0.48\n",
      "BsmtQual   13   2.08\n",
      "BsmtCond   13   2.08\n",
      "BsmtExposure   13   2.08\n",
      "BsmtFinType1   13   2.08\n",
      "BsmtFinType2   13   2.08\n",
      "Electrical   1   0.16\n",
      "FireplaceQu   313   50.16\n",
      "GarageType   25   4.01\n",
      "GarageYrBlt   25   4.01\n",
      "GarageFinish   25   4.01\n",
      "GarageQual   25   4.01\n",
      "GarageCond   25   4.01\n",
      "PoolQC   620   99.36\n",
      "Fence   492   78.85\n",
      "MiscFeature   595   95.35\n",
      "Total columns with NA values above threshold 0%: 19\n"
     ]
    }
   ],
   "source": [
    "#Step 0. Inspect columns with missing data \n",
    "df = testX\n",
    "#Print out number catgeorical and numeric feats, and dataframe dimensions \n",
    "cat_feats,num_feats = identify_feats(df)\n",
    "#Print out column, missing value count, missing value percentage \n",
    "cols_with_na(df)"
   ]
  },
  {
   "cell_type": "code",
   "execution_count": 36,
   "id": "7ae92412",
   "metadata": {},
   "outputs": [
    {
     "name": "stdout",
     "output_type": "stream",
     "text": [
      "Alley   585   93.75\n",
      "BsmtQual   13   2.08\n",
      "BsmtCond   13   2.08\n",
      "BsmtExposure   13   2.08\n",
      "BsmtFinType1   13   2.08\n",
      "BsmtFinType2   13   2.08\n",
      "FireplaceQu   313   50.16\n",
      "GarageType   25   4.01\n",
      "GarageFinish   25   4.01\n",
      "GarageQual   25   4.01\n",
      "GarageCond   25   4.01\n",
      "PoolQC   620   99.36\n",
      "Fence   492   78.85\n",
      "MiscFeature   595   95.35\n",
      "Total columns with NA values above threshold 0%: 14\n"
     ]
    }
   ],
   "source": [
    "#Step 1. Handle special case imputations\n",
    "impute_missing_vals(df)\n",
    "cols_with_na(df)"
   ]
  },
  {
   "cell_type": "code",
   "execution_count": 37,
   "id": "4ccb0e4c",
   "metadata": {},
   "outputs": [
    {
     "name": "stdout",
     "output_type": "stream",
     "text": [
      "categorical: 33\n",
      "numerical: 47\n",
      "df dims:(624, 80)\n",
      "\n",
      "\n",
      "Total columns with NA values above threshold 0%: 0\n"
     ]
    }
   ],
   "source": [
    "#Handle remaining categorical imputations \n",
    "convert_num_to_categorical(df)\n",
    "replace_na_with_none(df)\n",
    "map_ordinal_cat(df)\n",
    "\n",
    "#Print out number catgeorical and numeric feats, and dataframe dimensions \n",
    "cat_feats,num_feats = identify_feats(df)\n",
    "#Print out column, missing value count, missing value percentage \n",
    "print('\\n')\n",
    "cols_with_na(df)"
   ]
  },
  {
   "cell_type": "code",
   "execution_count": null,
   "id": "4d554fdb",
   "metadata": {},
   "outputs": [],
   "source": []
  }
 ],
 "metadata": {
  "kernelspec": {
   "display_name": "Python 3",
   "language": "python",
   "name": "python3"
  },
  "language_info": {
   "codemirror_mode": {
    "name": "ipython",
    "version": 3
   },
   "file_extension": ".py",
   "mimetype": "text/x-python",
   "name": "python",
   "nbconvert_exporter": "python",
   "pygments_lexer": "ipython3",
   "version": "3.8.8"
  }
 },
 "nbformat": 4,
 "nbformat_minor": 5
}
