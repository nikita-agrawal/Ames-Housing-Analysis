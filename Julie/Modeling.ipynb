{
 "cells": [
  {
   "cell_type": "code",
   "execution_count": 1,
   "id": "e00a1496",
   "metadata": {},
   "outputs": [],
   "source": [
    "import numpy as np\n",
    "import pandas as pd\n",
    "import matplotlib.pyplot as plt\n",
    "%matplotlib inline\n",
    "from sklearn.linear_model import LinearRegression, Lasso, Ridge, ElasticNet\n",
    "from sklearn.preprocessing import OneHotEncoder, StandardScaler\n",
    "from sklearn.pipeline import make_pipeline\n",
    "from sklearn.compose import ColumnTransformer\n",
    "from sklearn.model_selection import GridSearchCV\n",
    "import helper"
   ]
  },
  {
   "cell_type": "code",
   "execution_count": 2,
   "id": "f635056f",
   "metadata": {},
   "outputs": [],
   "source": [
    "def score_it(train_data, test_data, model):\n",
    "    \"\"\" \n",
    "    Test the model on train and test data. also prints train and test score\n",
    "    \n",
    "    input: train_data, test_data, model\n",
    "    output: the output of fitting the model\n",
    "    \"\"\"\n",
    "    y_train = np.log(train_data['SalePrice'])\n",
    "    x_train = train_data.drop('SalePrice', axis=1)\n",
    "    y_test = np.log(test_data['SalePrice'])\n",
    "    x_test = test_data.drop('SalePrice', axis=1)\n",
    "\n",
    "    mdl = net\n",
    "    mdl.fit(x_train, y_train)\n",
    "    train_score = mdl.score(x_train, y_train)\n",
    "    test_score = mdl.score(x_test, y_test)\n",
    "    return train_score, test_score\n",
    "\n",
    "# print(score_it(trainNumeric, testNumeric, net))    "
   ]
  },
  {
   "cell_type": "markdown",
   "id": "ec1b1b4b",
   "metadata": {},
   "source": [
    "## Load Data"
   ]
  },
  {
   "cell_type": "code",
   "execution_count": 3,
   "id": "340b38fb",
   "metadata": {},
   "outputs": [],
   "source": [
    "# loading and splitting data\n",
    "housing = pd.read_csv('Ames_Housing_Price_Data.csv', index_col = 0,\n",
    "                      low_memory=False)\n",
    "train, test = helper.data_processing_wrapper(housing)"
   ]
  },
  {
   "cell_type": "code",
   "execution_count": 4,
   "id": "de7a284c",
   "metadata": {},
   "outputs": [],
   "source": [
    "# # isolate label, log SalePrice\n",
    "# train_label = np.log(train['SalePrice'])\n",
    "# test_label = np.log(test['SalePrice'])"
   ]
  },
  {
   "cell_type": "code",
   "execution_count": 5,
   "id": "95a45e62",
   "metadata": {},
   "outputs": [],
   "source": [
    "# isolate numeric variables\n",
    "trainNumeric = train.loc[:, train.dtypes != 'object']\n",
    "testNumeric = test.loc[:, test.dtypes != 'object']\n",
    "\n",
    "trainCat = train.loc[:,train.columns.isin(trainNumeric.columns)]\n",
    "testCat = train.loc[:,test.columns.isin(testNumeric.columns)]"
   ]
  },
  {
   "cell_type": "markdown",
   "id": "727fe07c",
   "metadata": {},
   "source": [
    "## EDA"
   ]
  },
  {
   "cell_type": "code",
   "execution_count": 7,
   "id": "f2b87dd5",
   "metadata": {},
   "outputs": [],
   "source": [
    "# Correlation matrix - looking at SalePrice\n",
    "corr_matrix = train.corr()\n",
    "corr_matrix['SalePrice'].sort_values(ascending=False)\n",
    "# corr_matrix.head()\n",
    "\n",
    "# isolate top 10 quantitative\n",
    "top10cols = corr_matrix['SalePrice'].sort_values(ascending=False).head(11)\n",
    "top10cols = list(top10cols.index)"
   ]
  },
  {
   "cell_type": "markdown",
   "id": "7ddbf712",
   "metadata": {},
   "source": [
    "## Standardize the Data and OneHotEncoding"
   ]
  },
  {
   "cell_type": "markdown",
   "id": "899a85bf",
   "metadata": {},
   "source": [
    "### OneHotEncoding"
   ]
  },
  {
   "cell_type": "code",
   "execution_count": 56,
   "id": "7d8af01b",
   "metadata": {},
   "outputs": [],
   "source": [
    "cat_encoder = OneHotEncoder(sparse=False, handle_unknown='ignore')\n",
    "train_1hot = cat_encoder.fit_transform(trainCat)\n",
    "test_1hot = cat_encoder.fit_transform(testCat)"
   ]
  },
  {
   "cell_type": "code",
   "execution_count": 60,
   "id": "722323fe",
   "metadata": {},
   "outputs": [],
   "source": [
    "# This should list the categories, but doesn't?\n",
    "# cat_encoder.categories_"
   ]
  },
  {
   "cell_type": "code",
   "execution_count": 48,
   "id": "c0582f6a",
   "metadata": {},
   "outputs": [
    {
     "data": {
      "text/plain": [
       "(1871, 9714)"
      ]
     },
     "execution_count": 48,
     "metadata": {},
     "output_type": "execute_result"
    }
   ],
   "source": [
    "## Viewing one_hot as array\n",
    "trainCat_array = train_1hot.toarray()\n",
    "trainCat_array.shape\n"
   ]
  },
  {
   "cell_type": "markdown",
   "id": "3b2415b8",
   "metadata": {},
   "source": [
    "### Combine Numeric and Cat"
   ]
  },
  {
   "cell_type": "code",
   "execution_count": 61,
   "id": "350a1000",
   "metadata": {},
   "outputs": [],
   "source": [
    "# result = pd.concat([trainNumeric, train_1hot], axis=0)\n",
    "# result"
   ]
  },
  {
   "cell_type": "markdown",
   "id": "de058cb8",
   "metadata": {},
   "source": [
    "### Standardize"
   ]
  },
  {
   "cell_type": "code",
   "execution_count": 27,
   "id": "1d1997a9",
   "metadata": {},
   "outputs": [],
   "source": [
    "## Standardize the data\n",
    "scaler = StandardScaler()\n",
    "trainNumeric = scaler.fit_transform(trainNumeric)\n",
    "# trainNumeric = scaler.transform(trainNumeric)\n",
    "\n",
    "testNumeric = scaler.transform(testNumeric)\n"
   ]
  },
  {
   "cell_type": "markdown",
   "id": "9c96fa22",
   "metadata": {},
   "source": [
    "## Linear Regression"
   ]
  },
  {
   "cell_type": "code",
   "execution_count": null,
   "id": "b03f636b",
   "metadata": {},
   "outputs": [],
   "source": [
    "lr = LinearRegression()\n",
    "lr.fit(top10df, label)\n",
    "lr.score(top10df, label)"
   ]
  },
  {
   "cell_type": "code",
   "execution_count": null,
   "id": "f6a79938",
   "metadata": {},
   "outputs": [],
   "source": [
    "score = []\n",
    "for i in range(0,10):\n",
    "    lr.fit(top10df.iloc[:,:i+1], label)\n",
    "    sc = lr.score(top10df.iloc[:,:i+1], label)\n",
    "    score.append(sc)\n",
    "    \n",
    "print(score)"
   ]
  },
  {
   "cell_type": "code",
   "execution_count": null,
   "id": "e32757f0",
   "metadata": {},
   "outputs": [],
   "source": []
  },
  {
   "cell_type": "code",
   "execution_count": null,
   "id": "55f1d68c",
   "metadata": {},
   "outputs": [],
   "source": []
  },
  {
   "cell_type": "markdown",
   "id": "82a25f53",
   "metadata": {},
   "source": [
    "## Ridge"
   ]
  },
  {
   "cell_type": "code",
   "execution_count": null,
   "id": "078056fb",
   "metadata": {},
   "outputs": [],
   "source": [
    "ridge = Ridge()\n",
    "ridge.fit(train, train_label)"
   ]
  },
  {
   "cell_type": "markdown",
   "id": "a69f6b90",
   "metadata": {},
   "source": [
    "## Lasso"
   ]
  },
  {
   "cell_type": "code",
   "execution_count": null,
   "id": "89ba0694",
   "metadata": {},
   "outputs": [],
   "source": [
    "lasso = Lasso()"
   ]
  },
  {
   "cell_type": "code",
   "execution_count": 6,
   "id": "25be588c",
   "metadata": {},
   "outputs": [],
   "source": [
    "## Extract label\n",
    "train_label = np.log(trainNumeric['SalePrice'])\n",
    "test_label = np.log(testNumeric['SalePrice'])\n",
    "\n",
    "train = train.drop('SalePrice', axis=1)\n",
    "test = test.drop('SalePrice', axis=1)"
   ]
  },
  {
   "cell_type": "code",
   "execution_count": 26,
   "id": "58b9eb35",
   "metadata": {},
   "outputs": [
    {
     "data": {
      "text/html": [
       "<div>\n",
       "<style scoped>\n",
       "    .dataframe tbody tr th:only-of-type {\n",
       "        vertical-align: middle;\n",
       "    }\n",
       "\n",
       "    .dataframe tbody tr th {\n",
       "        vertical-align: top;\n",
       "    }\n",
       "\n",
       "    .dataframe thead th {\n",
       "        text-align: right;\n",
       "    }\n",
       "</style>\n",
       "<table border=\"1\" class=\"dataframe\">\n",
       "  <thead>\n",
       "    <tr style=\"text-align: right;\">\n",
       "      <th></th>\n",
       "      <th>GrLivArea</th>\n",
       "      <th>SalePrice</th>\n",
       "      <th>LotFrontage</th>\n",
       "      <th>LotArea</th>\n",
       "      <th>Alley</th>\n",
       "      <th>OverallQual</th>\n",
       "      <th>OverallCond</th>\n",
       "      <th>YearBuilt</th>\n",
       "      <th>YearRemodAdd</th>\n",
       "      <th>MasVnrArea</th>\n",
       "      <th>...</th>\n",
       "      <th>GarageCond</th>\n",
       "      <th>PavedDrive</th>\n",
       "      <th>WoodDeckSF</th>\n",
       "      <th>OpenPorchSF</th>\n",
       "      <th>EnclosedPorch</th>\n",
       "      <th>3SsnPorch</th>\n",
       "      <th>ScreenPorch</th>\n",
       "      <th>PoolArea</th>\n",
       "      <th>PoolQC</th>\n",
       "      <th>MiscVal</th>\n",
       "    </tr>\n",
       "  </thead>\n",
       "  <tbody>\n",
       "    <tr>\n",
       "      <th>0.100000</th>\n",
       "      <td>0.000089</td>\n",
       "      <td>0.000004</td>\n",
       "      <td>0.000198</td>\n",
       "      <td>3.028772e-07</td>\n",
       "      <td>0.0</td>\n",
       "      <td>0.0</td>\n",
       "      <td>0.0</td>\n",
       "      <td>0.001273</td>\n",
       "      <td>0.001105</td>\n",
       "      <td>-0.000107</td>\n",
       "      <td>...</td>\n",
       "      <td>0.0</td>\n",
       "      <td>0.0</td>\n",
       "      <td>0.000028</td>\n",
       "      <td>0.000045</td>\n",
       "      <td>0.000029</td>\n",
       "      <td>0.0</td>\n",
       "      <td>0.000092</td>\n",
       "      <td>-0.0</td>\n",
       "      <td>-0.0</td>\n",
       "      <td>0.0</td>\n",
       "    </tr>\n",
       "    <tr>\n",
       "      <th>1.152632</th>\n",
       "      <td>0.000042</td>\n",
       "      <td>0.000004</td>\n",
       "      <td>0.000000</td>\n",
       "      <td>-2.069510e-07</td>\n",
       "      <td>0.0</td>\n",
       "      <td>0.0</td>\n",
       "      <td>0.0</td>\n",
       "      <td>0.000000</td>\n",
       "      <td>0.000000</td>\n",
       "      <td>-0.000070</td>\n",
       "      <td>...</td>\n",
       "      <td>0.0</td>\n",
       "      <td>0.0</td>\n",
       "      <td>0.000000</td>\n",
       "      <td>0.000000</td>\n",
       "      <td>-0.000000</td>\n",
       "      <td>0.0</td>\n",
       "      <td>0.000000</td>\n",
       "      <td>-0.0</td>\n",
       "      <td>-0.0</td>\n",
       "      <td>0.0</td>\n",
       "    </tr>\n",
       "    <tr>\n",
       "      <th>2.205263</th>\n",
       "      <td>0.000044</td>\n",
       "      <td>0.000004</td>\n",
       "      <td>0.000000</td>\n",
       "      <td>-1.527063e-07</td>\n",
       "      <td>0.0</td>\n",
       "      <td>0.0</td>\n",
       "      <td>0.0</td>\n",
       "      <td>0.000000</td>\n",
       "      <td>0.000000</td>\n",
       "      <td>-0.000024</td>\n",
       "      <td>...</td>\n",
       "      <td>0.0</td>\n",
       "      <td>0.0</td>\n",
       "      <td>0.000000</td>\n",
       "      <td>0.000000</td>\n",
       "      <td>-0.000000</td>\n",
       "      <td>0.0</td>\n",
       "      <td>0.000000</td>\n",
       "      <td>-0.0</td>\n",
       "      <td>-0.0</td>\n",
       "      <td>0.0</td>\n",
       "    </tr>\n",
       "    <tr>\n",
       "      <th>3.257895</th>\n",
       "      <td>0.000033</td>\n",
       "      <td>0.000004</td>\n",
       "      <td>0.000000</td>\n",
       "      <td>-5.444039e-08</td>\n",
       "      <td>0.0</td>\n",
       "      <td>0.0</td>\n",
       "      <td>0.0</td>\n",
       "      <td>0.000000</td>\n",
       "      <td>0.000000</td>\n",
       "      <td>-0.000000</td>\n",
       "      <td>...</td>\n",
       "      <td>0.0</td>\n",
       "      <td>0.0</td>\n",
       "      <td>0.000000</td>\n",
       "      <td>0.000000</td>\n",
       "      <td>-0.000000</td>\n",
       "      <td>0.0</td>\n",
       "      <td>0.000000</td>\n",
       "      <td>-0.0</td>\n",
       "      <td>-0.0</td>\n",
       "      <td>0.0</td>\n",
       "    </tr>\n",
       "    <tr>\n",
       "      <th>4.310526</th>\n",
       "      <td>0.000022</td>\n",
       "      <td>0.000005</td>\n",
       "      <td>0.000000</td>\n",
       "      <td>-0.000000e+00</td>\n",
       "      <td>0.0</td>\n",
       "      <td>0.0</td>\n",
       "      <td>0.0</td>\n",
       "      <td>0.000000</td>\n",
       "      <td>0.000000</td>\n",
       "      <td>-0.000000</td>\n",
       "      <td>...</td>\n",
       "      <td>0.0</td>\n",
       "      <td>0.0</td>\n",
       "      <td>0.000000</td>\n",
       "      <td>0.000000</td>\n",
       "      <td>-0.000000</td>\n",
       "      <td>0.0</td>\n",
       "      <td>0.000000</td>\n",
       "      <td>-0.0</td>\n",
       "      <td>-0.0</td>\n",
       "      <td>0.0</td>\n",
       "    </tr>\n",
       "  </tbody>\n",
       "</table>\n",
       "<p>5 rows × 45 columns</p>\n",
       "</div>"
      ],
      "text/plain": [
       "          GrLivArea  SalePrice  LotFrontage       LotArea  Alley  OverallQual  \\\n",
       "0.100000   0.000089   0.000004     0.000198  3.028772e-07    0.0          0.0   \n",
       "1.152632   0.000042   0.000004     0.000000 -2.069510e-07    0.0          0.0   \n",
       "2.205263   0.000044   0.000004     0.000000 -1.527063e-07    0.0          0.0   \n",
       "3.257895   0.000033   0.000004     0.000000 -5.444039e-08    0.0          0.0   \n",
       "4.310526   0.000022   0.000005     0.000000 -0.000000e+00    0.0          0.0   \n",
       "\n",
       "          OverallCond  YearBuilt  YearRemodAdd  MasVnrArea  ...  GarageCond  \\\n",
       "0.100000          0.0   0.001273      0.001105   -0.000107  ...         0.0   \n",
       "1.152632          0.0   0.000000      0.000000   -0.000070  ...         0.0   \n",
       "2.205263          0.0   0.000000      0.000000   -0.000024  ...         0.0   \n",
       "3.257895          0.0   0.000000      0.000000   -0.000000  ...         0.0   \n",
       "4.310526          0.0   0.000000      0.000000   -0.000000  ...         0.0   \n",
       "\n",
       "          PavedDrive  WoodDeckSF  OpenPorchSF  EnclosedPorch  3SsnPorch  \\\n",
       "0.100000         0.0    0.000028     0.000045       0.000029        0.0   \n",
       "1.152632         0.0    0.000000     0.000000      -0.000000        0.0   \n",
       "2.205263         0.0    0.000000     0.000000      -0.000000        0.0   \n",
       "3.257895         0.0    0.000000     0.000000      -0.000000        0.0   \n",
       "4.310526         0.0    0.000000     0.000000      -0.000000        0.0   \n",
       "\n",
       "          ScreenPorch  PoolArea  PoolQC  MiscVal  \n",
       "0.100000     0.000092      -0.0    -0.0      0.0  \n",
       "1.152632     0.000000      -0.0    -0.0      0.0  \n",
       "2.205263     0.000000      -0.0    -0.0      0.0  \n",
       "3.257895     0.000000      -0.0    -0.0      0.0  \n",
       "4.310526     0.000000      -0.0    -0.0      0.0  \n",
       "\n",
       "[5 rows x 45 columns]"
      ]
     },
     "execution_count": 26,
     "metadata": {},
     "output_type": "execute_result"
    }
   ],
   "source": [
    "## Lasso\n",
    "lasso  = Lasso()\n",
    "alphas = np.linspace(0.1,20.1,20)\n",
    "lasso.set_params(normalize=False)\n",
    "coefs_lasso  = []\n",
    "\n",
    "for alpha in alphas:\n",
    "    lasso.set_params(alpha=alpha)\n",
    "    lasso.fit(trainNumeric, train_label) \n",
    "#     print(lasso.coef_)\n",
    "    coefs_lasso.append(lasso.coef_)\n",
    "#     print(coefs_lasso)\n",
    "\n",
    "coefs_lasso = pd.DataFrame(coefs_lasso, index = alphas, columns = trainNumeric.columns)  \n",
    "coefs_lasso.head()"
   ]
  },
  {
   "cell_type": "code",
   "execution_count": 6,
   "id": "39c298c4",
   "metadata": {},
   "outputs": [
    {
     "ename": "NameError",
     "evalue": "name 'coefs_lasso' is not defined",
     "output_type": "error",
     "traceback": [
      "\u001b[0;31m---------------------------------------------------------------------------\u001b[0m",
      "\u001b[0;31mNameError\u001b[0m                                 Traceback (most recent call last)",
      "\u001b[0;32m<ipython-input-6-2dba023f04c9>\u001b[0m in \u001b[0;36m<module>\u001b[0;34m\u001b[0m\n\u001b[1;32m      1\u001b[0m \u001b[0mplt\u001b[0m\u001b[0;34m.\u001b[0m\u001b[0mfigure\u001b[0m\u001b[0;34m(\u001b[0m\u001b[0mfigsize\u001b[0m\u001b[0;34m=\u001b[0m\u001b[0;34m(\u001b[0m\u001b[0;36m10\u001b[0m\u001b[0;34m,\u001b[0m\u001b[0;36m10\u001b[0m\u001b[0;34m)\u001b[0m\u001b[0;34m)\u001b[0m\u001b[0;34m\u001b[0m\u001b[0;34m\u001b[0m\u001b[0m\n\u001b[0;32m----> 2\u001b[0;31m \u001b[0;32mfor\u001b[0m \u001b[0mfeat\u001b[0m \u001b[0;32min\u001b[0m \u001b[0mcoefs_lasso\u001b[0m\u001b[0;34m.\u001b[0m\u001b[0mcolumns\u001b[0m\u001b[0;34m:\u001b[0m\u001b[0;34m\u001b[0m\u001b[0;34m\u001b[0m\u001b[0m\n\u001b[0m\u001b[1;32m      3\u001b[0m     \u001b[0mplt\u001b[0m\u001b[0;34m.\u001b[0m\u001b[0mplot\u001b[0m\u001b[0;34m(\u001b[0m\u001b[0mcoefs_lasso\u001b[0m\u001b[0;34m.\u001b[0m\u001b[0mindex\u001b[0m\u001b[0;34m,\u001b[0m \u001b[0mcoefs_lasso\u001b[0m\u001b[0;34m[\u001b[0m\u001b[0mfeat\u001b[0m\u001b[0;34m]\u001b[0m\u001b[0;34m,\u001b[0m \u001b[0mlabel\u001b[0m\u001b[0;34m=\u001b[0m\u001b[0mfeat\u001b[0m\u001b[0;34m)\u001b[0m\u001b[0;34m\u001b[0m\u001b[0;34m\u001b[0m\u001b[0m\n\u001b[1;32m      4\u001b[0m \u001b[0mplt\u001b[0m\u001b[0;34m.\u001b[0m\u001b[0mxlabel\u001b[0m\u001b[0;34m(\u001b[0m\u001b[0;34mr'hyperparameter $\\lambda$'\u001b[0m\u001b[0;34m)\u001b[0m\u001b[0;34m\u001b[0m\u001b[0;34m\u001b[0m\u001b[0m\n\u001b[1;32m      5\u001b[0m \u001b[0mplt\u001b[0m\u001b[0;34m.\u001b[0m\u001b[0mylabel\u001b[0m\u001b[0;34m(\u001b[0m\u001b[0;34mr'slope values'\u001b[0m\u001b[0;34m)\u001b[0m\u001b[0;34m\u001b[0m\u001b[0;34m\u001b[0m\u001b[0m\n",
      "\u001b[0;31mNameError\u001b[0m: name 'coefs_lasso' is not defined"
     ]
    },
    {
     "data": {
      "text/plain": [
       "<Figure size 720x720 with 0 Axes>"
      ]
     },
     "metadata": {},
     "output_type": "display_data"
    }
   ],
   "source": [
    "plt.figure(figsize=(10,10))\n",
    "for feat in coefs_lasso.columns:\n",
    "    plt.plot(coefs_lasso.index, coefs_lasso[feat], label=feat)\n",
    "plt.xlabel(r'hyperparameter $\\lambda$')\n",
    "plt.ylabel(r'slope values')\n",
    "plt.legend(loc=1) "
   ]
  },
  {
   "cell_type": "markdown",
   "id": "497b20f6",
   "metadata": {},
   "source": [
    "## ElasticNet"
   ]
  },
  {
   "cell_type": "code",
   "execution_count": null,
   "id": "9795c311",
   "metadata": {},
   "outputs": [],
   "source": [
    "net = ElasticNet()\n",
    "# scaler = StandardScaler(with_mean=False)\n",
    "net.set_params(alpha=0.1, l1_ratio=0.5)\n",
    "net.fit(trainNumeric, train_label)\n",
    "print(net.score(trainNumeric, train_label), net.score(testNumeric, test_label))"
   ]
  },
  {
   "cell_type": "code",
   "execution_count": 8,
   "id": "4c2c8b2e",
   "metadata": {},
   "outputs": [
    {
     "name": "stdout",
     "output_type": "stream",
     "text": [
      "0.9599788266261655 0.952988039649234\n"
     ]
    },
    {
     "name": "stderr",
     "output_type": "stream",
     "text": [
      "/Users/julie/opt/anaconda3/lib/python3.8/site-packages/sklearn/linear_model/_coordinate_descent.py:530: ConvergenceWarning: Objective did not converge. You might want to increase the number of iterations. Duality gap: 5.855060395367311, tolerance: 0.027263636585170548\n",
      "  model = cd_fast.enet_coordinate_descent(\n"
     ]
    }
   ],
   "source": [
    "net = ElasticNet()\n",
    "net.set_params(alpha=0.003, l1_ratio=0.6)\n",
    "net.fit(trainNumeric, train_label)\n",
    "print(net.score(trainNumeric, train_label), net.score(testNumeric, test_label))"
   ]
  },
  {
   "cell_type": "code",
   "execution_count": 21,
   "id": "cfefba67",
   "metadata": {},
   "outputs": [
    {
     "name": "stdout",
     "output_type": "stream",
     "text": [
      "0.9436404407515279 0.9424737088035228\n"
     ]
    }
   ],
   "source": [
    "# net = ElasticNet()\n",
    "# net.set_params(alpha=0.1, l1_ratio=0.5)\n",
    "# net.fit(trainNumeric, train_label)\n",
    "# print(net.score(trainNumeric, train_label), net.score(testNumeric, test_label))\n"
   ]
  },
  {
   "cell_type": "code",
   "execution_count": 22,
   "id": "8be94cfa",
   "metadata": {},
   "outputs": [],
   "source": [
    "def net_grid(train, test, cat_feats, alpha, l1_ratio, cv_):\n",
    "    \n",
    "    scaler = StandardScaler(with_mean=False)\n",
    "    net = ElasticNet(max_iter = 50000)\n",
    "\n",
    "    X = train.drop(['SalePrice'],axis=1)\n",
    "    transformer = ColumnTransformer([(\"Cat\", \n",
    "                                      OneHotEncoder(handle_unknown = 'ignore'), \n",
    "                                      cat_feats)], remainder='passthrough')\n",
    "    X = transformer.fit_transform(X)\n",
    "    X = scaler.fit_transform(X)\n",
    "    y = np.log(train['SalePrice'])\n",
    "    net.fit(X, y)\n",
    "\n",
    "    X_tst = test.drop(['SalePrice'],axis=1)\n",
    "    X_tst = transformer.transform(X_tst)\n",
    "    X_tst = scaler.transform(X_tst)\n",
    "    y_tst = np.log(test['SalePrice'])\n",
    "    \n",
    "    tuned_parameters = [{'alpha': alpha, 'l1_ratio': l1_ratio}]\n",
    "    # print(f'Performing Grid Search with alphas of: {alphas}')\n",
    "    clf = GridSearchCV(net, tuned_parameters, cv=cv_)\n",
    "    clf.fit(X, y)\n",
    "    \n",
    "    \n",
    "    tst_score = clf.score(X_tst, y_tst)\n",
    "    print(f\"test score: {tst_score}\")\n",
    "    \n",
    "    return clf"
   ]
  },
  {
   "cell_type": "code",
   "execution_count": 23,
   "id": "7978720e",
   "metadata": {},
   "outputs": [
    {
     "name": "stdout",
     "output_type": "stream",
     "text": [
      "test score: 0.8858300479734377\n"
     ]
    }
   ],
   "source": [
    "cat_feats = []\n",
    "l1_ratio = [0.1, 0.3, 0.5, 0.6, 0.7, 0.8, 0.85, 0.9, 0.95, 1]\n",
    "alpha = [0.0001, 0.0003, 0.0006, 0.001, 0.003, 0.006, 0.01, 0.03, 0.06, 0.1, 0.3, 0.6, 1, 3, 6]\n",
    "cv = 5\n",
    "clf = net_grid(trainNumeric, testNumeric, cat_feats, alpha, l1_ratio, cv)"
   ]
  },
  {
   "cell_type": "code",
   "execution_count": 24,
   "id": "74e64d04",
   "metadata": {},
   "outputs": [
    {
     "data": {
      "text/plain": [
       "{'alpha': 0.003, 'l1_ratio': 0.6}"
      ]
     },
     "execution_count": 24,
     "metadata": {},
     "output_type": "execute_result"
    }
   ],
   "source": [
    "clf.best_params_"
   ]
  },
  {
   "cell_type": "code",
   "execution_count": 25,
   "id": "90df31b9",
   "metadata": {},
   "outputs": [
    {
     "data": {
      "text/plain": [
       "0.9229673217521535"
      ]
     },
     "execution_count": 25,
     "metadata": {},
     "output_type": "execute_result"
    }
   ],
   "source": [
    "clf.best_score_"
   ]
  },
  {
   "cell_type": "code",
   "execution_count": 70,
   "id": "8ded8d22",
   "metadata": {
    "scrolled": true
   },
   "outputs": [
    {
     "data": {
      "text/plain": [
       "0.873921499120946"
      ]
     },
     "execution_count": 70,
     "metadata": {},
     "output_type": "execute_result"
    }
   ],
   "source": [
    "lr = LinearRegression()\n",
    "lr.fit(top10df, label)\n",
    "lr.score(top10df, label)"
   ]
  },
  {
   "cell_type": "code",
   "execution_count": 81,
   "id": "777a2baa",
   "metadata": {},
   "outputs": [
    {
     "name": "stdout",
     "output_type": "stream",
     "text": [
      "[0.6809503490326954, 0.787957879539819, 0.8149109299563063, 0.8226650635580713, 0.8263876129694806, 0.854404000889205, 0.8587873260537464, 0.8593066642783429, 0.8643649363256027, 0.873921499120946]\n"
     ]
    }
   ],
   "source": [
    "score = []\n",
    "for i in range(0,10):\n",
    "    lr.fit(top10df.iloc[:,:i+1], label)\n",
    "    sc = lr.score(top10df.iloc[:,:i+1], label)\n",
    "    score.append(sc)\n",
    "    \n",
    "print(score)"
   ]
  },
  {
   "cell_type": "code",
   "execution_count": 58,
   "id": "52af5d2c",
   "metadata": {},
   "outputs": [],
   "source": [
    "# lr.predict(test[top10cols].drop('SalePrice', axis=1))\n",
    "# test[top10cols].columns\n",
    "# lr.score(test[top10cols].drop('SalePrice', axis=1), ylabel)\n",
    "\n",
    "# score_x = []\n",
    "# score_y = []\n",
    "# for i in range(1,11):\n",
    "#     cols = top10cols[1:i+1]\n",
    "#     lr.fit(top10df.loc[cols], label)\n",
    "#     scx = lr.score(top10df.loc[cols], label)\n",
    "#     score_x.append(scx)\n",
    "#     scy = lr.score(test.loc[cols], labely)\n",
    "#     score_y.append(scy)\n",
    "# print(score)"
   ]
  },
  {
   "cell_type": "code",
   "execution_count": null,
   "id": "ee5d343d",
   "metadata": {},
   "outputs": [],
   "source": []
  }
 ],
 "metadata": {
  "kernelspec": {
   "display_name": "Python 3",
   "language": "python",
   "name": "python3"
  },
  "language_info": {
   "codemirror_mode": {
    "name": "ipython",
    "version": 3
   },
   "file_extension": ".py",
   "mimetype": "text/x-python",
   "name": "python",
   "nbconvert_exporter": "python",
   "pygments_lexer": "ipython3",
   "version": "3.8.2"
  }
 },
 "nbformat": 4,
 "nbformat_minor": 5
}
