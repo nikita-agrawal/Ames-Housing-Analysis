{
 "cells": [
  {
   "cell_type": "markdown",
   "id": "f36f7113",
   "metadata": {},
   "source": [
    "# Clustering + Random Forests"
   ]
  },
  {
   "cell_type": "code",
   "execution_count": 54,
   "id": "d600f682",
   "metadata": {},
   "outputs": [],
   "source": [
    "import pandas as pd\n",
    "import numpy as np\n",
    "from sklearn import linear_model\n",
    "from sklearn.linear_model import LinearRegression\n",
    "from sklearn.linear_model import Ridge\n",
    "from sklearn.linear_model import Lasso\n",
    "from sklearn.preprocessing import OneHotEncoder\n",
    "from sklearn.compose import ColumnTransformer\n",
    "from sklearn.cluster import KMeans\n",
    "from sklearn.metrics import silhouette_samples, silhouette_score\n",
    "from sklearn.preprocessing import StandardScaler\n",
    "from sklearn.feature_selection import SelectFromModel\n",
    "from sklearn.model_selection import ShuffleSplit\n",
    "from sklearn.model_selection import cross_val_score\n",
    "from sklearn.model_selection import RepeatedKFold\n",
    "from sklearn.model_selection import GridSearchCV\n",
    "from sklearn.pipeline import Pipeline\n",
    "\n",
    "import matplotlib.pyplot as plt\n",
    "import seaborn as sns\n",
    "import matplotlib.style as style\n",
    "style.use('fivethirtyeight')\n",
    "import matplotlib.cm as cm\n",
    "import helper"
   ]
  },
  {
   "cell_type": "code",
   "execution_count": 55,
   "id": "3c3cfe82",
   "metadata": {},
   "outputs": [],
   "source": [
    "colors = [\"#FF0B04\", \"#F1BE48\",\n",
    "           \"#B9975B\", \"#8B5B29\",\n",
    "           \"#524727\",\n",
    "         ]\n",
    "sns.set_palette(sns.color_palette(colors))"
   ]
  },
  {
   "cell_type": "code",
   "execution_count": 56,
   "id": "7478b28d",
   "metadata": {},
   "outputs": [],
   "source": [
    "df = pd.read_csv('Ames_Housing_Price_Data.csv', \n",
    "                             index_col=0,low_memory = False)"
   ]
  },
  {
   "cell_type": "code",
   "execution_count": 57,
   "id": "402a90ec",
   "metadata": {},
   "outputs": [],
   "source": [
    "train, test = helper.data_processing_wrapper(df, num_to_cat_list=[], remove_PID=False)"
   ]
  },
  {
   "cell_type": "code",
   "execution_count": 58,
   "id": "41e93bdf",
   "metadata": {},
   "outputs": [],
   "source": [
    "train['LogSalePrice'] = np.log(train['SalePrice'])"
   ]
  },
  {
   "cell_type": "code",
   "execution_count": 59,
   "id": "532f64d0",
   "metadata": {},
   "outputs": [],
   "source": [
    "test['LogSalePrice'] = np.log(test['SalePrice'])"
   ]
  },
  {
   "cell_type": "code",
   "execution_count": 60,
   "id": "037ab7d3",
   "metadata": {},
   "outputs": [],
   "source": [
    "nhds = train.loc[:,['Neighborhood', 'LogSalePrice', 'GrLivArea']]"
   ]
  },
  {
   "cell_type": "code",
   "execution_count": 61,
   "id": "90b9cf85",
   "metadata": {},
   "outputs": [],
   "source": [
    "nhds = nhds.groupby('Neighborhood').agg(\n",
    "    Sqft_med=pd.NamedAgg('GrLivArea',np.median),\n",
    "    LogPrice_med=pd.NamedAgg('LogSalePrice',np.median)\n",
    ").fillna(0)"
   ]
  },
  {
   "cell_type": "code",
   "execution_count": 62,
   "id": "4f49234c",
   "metadata": {},
   "outputs": [],
   "source": [
    "weights = train.groupby('Neighborhood').count().apply(lambda x: x['PID']/len(train) ,axis=1).to_list()"
   ]
  },
  {
   "cell_type": "code",
   "execution_count": 63,
   "id": "11f9512d",
   "metadata": {},
   "outputs": [],
   "source": [
    "scaler = StandardScaler()\n",
    "_ = scaler.fit_transform(nhds)\n",
    "clusterer = KMeans(n_clusters=2, random_state=42)\n",
    "cluster_labels = clusterer.fit_predict(_, sample_weight=weights)\n",
    "nhds['Cluster'] = cluster_labels"
   ]
  },
  {
   "cell_type": "code",
   "execution_count": 64,
   "id": "3af93f92",
   "metadata": {},
   "outputs": [],
   "source": [
    "cluster_dict = nhds['Cluster'].to_dict()"
   ]
  },
  {
   "cell_type": "code",
   "execution_count": 65,
   "id": "8ffaa27a",
   "metadata": {},
   "outputs": [],
   "source": [
    "train['NhdCluster'] = train.apply(lambda x: cluster_dict[x['Neighborhood']], axis=1)"
   ]
  },
  {
   "cell_type": "code",
   "execution_count": 66,
   "id": "05b41a11",
   "metadata": {},
   "outputs": [],
   "source": [
    "test['NhdCluster'] = test.apply(lambda x: cluster_dict[x['Neighborhood']], axis=1)"
   ]
  },
  {
   "cell_type": "code",
   "execution_count": 67,
   "id": "615cac9e",
   "metadata": {},
   "outputs": [],
   "source": [
    "comp_dict = train.groupby(['Neighborhood', 'BedroomAbvGr', 'BldgType',\n",
    "               'OverallQual', 'FullBath', 'KitchenQual', 'GarageCars']).mean()['LogSalePrice'].to_dict()"
   ]
  },
  {
   "cell_type": "code",
   "execution_count": 68,
   "id": "397415a1",
   "metadata": {},
   "outputs": [],
   "source": [
    "train['Comp'] = train.apply(lambda x: comp_dict[(x['Neighborhood'], x['BedroomAbvGr'], x['BldgType'],\n",
    "               x['OverallQual'], x['FullBath'], x['KitchenQual'], x['GarageCars'])], axis=1)"
   ]
  },
  {
   "cell_type": "code",
   "execution_count": 69,
   "id": "03e649b2",
   "metadata": {},
   "outputs": [],
   "source": [
    "alt_dict = train.groupby('Neighborhood').mean()['LogSalePrice'].to_dict()"
   ]
  },
  {
   "cell_type": "code",
   "execution_count": 70,
   "id": "fe74956e",
   "metadata": {},
   "outputs": [],
   "source": [
    "def test_comp(x):\n",
    "    if (x['Neighborhood'], x['BedroomAbvGr'], x['BldgType'],\n",
    "               x['OverallQual'], x['FullBath'], x['KitchenQual'], x['GarageCars']) in comp_dict.keys():\n",
    "        return comp_dict[(x['Neighborhood'], x['BedroomAbvGr'], x['BldgType'],\n",
    "               x['OverallQual'], x['FullBath'], x['KitchenQual'], x['GarageCars'])]\n",
    "    else:\n",
    "        return alt_dict[x['Neighborhood']]    "
   ]
  },
  {
   "cell_type": "code",
   "execution_count": 71,
   "id": "8c56ce96",
   "metadata": {},
   "outputs": [],
   "source": [
    "test['Comp'] = test.apply(lambda x: test_comp(x), axis=1)"
   ]
  },
  {
   "cell_type": "code",
   "execution_count": 72,
   "id": "ebbadc77",
   "metadata": {},
   "outputs": [],
   "source": [
    "X0_train = train.loc[train['NhdCluster']==0,:].drop(['SalePrice', 'LogSalePrice', 'PID', 'TotalBsmtSF', 'GrLivArea', 'NhdCluster'], axis=1)\n",
    "y0_train = train.loc[train['NhdCluster']==0, 'LogSalePrice']\n",
    "X0_test = test.loc[test['NhdCluster']==0,:].drop(['SalePrice', 'LogSalePrice', 'PID', 'TotalBsmtSF', 'GrLivArea', 'NhdCluster'], axis=1)\n",
    "y0_test = test.loc[test['NhdCluster']==0, 'LogSalePrice']\n",
    "\n",
    "X1_train = train.loc[train['NhdCluster']==1,:].drop(['SalePrice', 'LogSalePrice', 'PID', 'TotalBsmtSF', 'GrLivArea', 'NhdCluster'], axis=1)\n",
    "y1_train = train.loc[train['NhdCluster']==1, 'LogSalePrice']\n",
    "X1_test = test.loc[test['NhdCluster']==1,:].drop(['SalePrice', 'LogSalePrice', 'PID', 'TotalBsmtSF', 'GrLivArea', 'NhdCluster'], axis=1)\n",
    "y1_test = test.loc[test['NhdCluster']==1, 'LogSalePrice']"
   ]
  },
  {
   "cell_type": "code",
   "execution_count": 73,
   "id": "1c795ec8",
   "metadata": {},
   "outputs": [
    {
     "name": "stdout",
     "output_type": "stream",
     "text": [
      "(896, 78)\n",
      "(975, 78)\n",
      "\n",
      "\n",
      "(896,)\n",
      "(975,)\n",
      "\n",
      "\n",
      "(298, 78)\n",
      "(326, 78)\n",
      "\n",
      "\n",
      "(298,)\n",
      "(326,)\n"
     ]
    }
   ],
   "source": [
    "print(X0_train.shape)\n",
    "print(X1_train.shape)\n",
    "print('\\n')\n",
    "print(y0_train.shape)\n",
    "print(y1_train.shape)\n",
    "print('\\n')\n",
    "print(X0_test.shape)\n",
    "print(X1_test.shape)\n",
    "print('\\n')\n",
    "print(y0_test.shape)\n",
    "print(y1_test.shape)"
   ]
  },
  {
   "cell_type": "markdown",
   "id": "000af11b",
   "metadata": {},
   "source": [
    "# Preprocessing"
   ]
  },
  {
   "cell_type": "code",
   "execution_count": 74,
   "id": "369fe3be",
   "metadata": {},
   "outputs": [],
   "source": [
    "cat_feats = X0_train.select_dtypes(['object']).columns.to_list()\n",
    "num_feats = X0_train.select_dtypes(['int','float']).columns.to_list()"
   ]
  },
  {
   "cell_type": "code",
   "execution_count": 75,
   "id": "10d35fdb",
   "metadata": {},
   "outputs": [],
   "source": [
    "from sklearn.preprocessing import OneHotEncoder\n",
    "from sklearn.compose import ColumnTransformer\n",
    "\n",
    "preprocessor = ColumnTransformer(transformers=[\n",
    "    ('tf1',OneHotEncoder(sparse=False, handle_unknown='ignore'), cat_feats)],remainder='passthrough')\n",
    "     #('tf1',OneHotEncoder(sparse=False, drop='first'), cat_feats)],remainder='passthrough')\n"
   ]
  },
  {
   "cell_type": "code",
   "execution_count": null,
   "id": "f937b9a7",
   "metadata": {},
   "outputs": [],
   "source": [
    "#Cluster 0 preprocessing\n",
    "X0_train_transformed = preprocessor.fit_transform(X0_train)    "
   ]
  },
  {
   "cell_type": "code",
   "execution_count": 76,
   "id": "7512d47c",
   "metadata": {},
   "outputs": [],
   "source": [
    "columns_transformed = preprocessor.named_transformers_['tf1'].get_feature_names(input_features= cat_feats)\n",
    "new_columns = list(columns_transformed)+num_feats"
   ]
  },
  {
   "cell_type": "code",
   "execution_count": 77,
   "id": "f25957d6",
   "metadata": {},
   "outputs": [],
   "source": [
    "X0_train = pd.DataFrame(X0_train_transformed,columns=new_columns)"
   ]
  },
  {
   "cell_type": "code",
   "execution_count": 78,
   "id": "025b3250",
   "metadata": {
    "scrolled": true
   },
   "outputs": [],
   "source": [
    "X0_test_transformed = preprocessor.transform(X0_test)\n",
    "X0_test = pd.DataFrame(X0_test_transformed,columns=new_columns)"
   ]
  },
  {
   "cell_type": "code",
   "execution_count": 80,
   "id": "2ef47274",
   "metadata": {},
   "outputs": [
    {
     "data": {
      "text/plain": [
       "(896, 208)"
      ]
     },
     "execution_count": 80,
     "metadata": {},
     "output_type": "execute_result"
    }
   ],
   "source": [
    "X0_train.shape"
   ]
  },
  {
   "cell_type": "code",
   "execution_count": 83,
   "id": "4e29c980",
   "metadata": {},
   "outputs": [],
   "source": [
    "#Cluster 1 preprocessing\n",
    "X1_train_transformed = preprocessor.fit_transform(X1_train)\n",
    "columns_transformed = preprocessor.named_transformers_['tf1'].get_feature_names(input_features= cat_feats)\n",
    "new_columns = list(columns_transformed)+num_feats"
   ]
  },
  {
   "cell_type": "code",
   "execution_count": 84,
   "id": "34f31126",
   "metadata": {},
   "outputs": [],
   "source": [
    "X1_train = pd.DataFrame(X1_train_transformed,columns=new_columns)"
   ]
  },
  {
   "cell_type": "code",
   "execution_count": 86,
   "id": "bbd1a854",
   "metadata": {},
   "outputs": [
    {
     "data": {
      "text/plain": [
       "(975, 225)"
      ]
     },
     "execution_count": 86,
     "metadata": {},
     "output_type": "execute_result"
    }
   ],
   "source": [
    "X1_train.shape"
   ]
  },
  {
   "cell_type": "code",
   "execution_count": 87,
   "id": "31390fa3",
   "metadata": {},
   "outputs": [],
   "source": [
    "X1_test_transformed = preprocessor.transform(X1_test)\n",
    "X1_test = pd.DataFrame(X1_test_transformed,columns=new_columns)"
   ]
  },
  {
   "cell_type": "code",
   "execution_count": 88,
   "id": "2063f26f",
   "metadata": {},
   "outputs": [
    {
     "data": {
      "text/plain": [
       "(326, 225)"
      ]
     },
     "execution_count": 88,
     "metadata": {},
     "output_type": "execute_result"
    }
   ],
   "source": [
    "X1_test.shape"
   ]
  },
  {
   "cell_type": "markdown",
   "id": "35b39f90",
   "metadata": {},
   "source": [
    "# No Tuning "
   ]
  },
  {
   "cell_type": "code",
   "execution_count": 122,
   "id": "d411a443",
   "metadata": {},
   "outputs": [
    {
     "name": "stdout",
     "output_type": "stream",
     "text": [
      "Cross Val score:  [0.91135597 0.90686604 0.91201843]\n",
      "Cross Val score mean:  0.9100801483304278\n",
      "Train score:  0.9886767465140318\n",
      "Test score:  0.7038484492433126\n"
     ]
    }
   ],
   "source": [
    "#CLUSTER 0 RF \n",
    "from sklearn.ensemble import RandomForestRegressor\n",
    "rf_c0 = RandomForestRegressor(random_state=0)\n",
    "rf_c0.fit(X0_train,y0_train)\n",
    "print('Cross Val score: ', cross_val_score(rf_c0, X0_train, y0_train, cv=3))\n",
    "print('Cross Val score mean: ', cross_val_score(rf_c0, X0_train, y0_train, cv=3).mean())\n",
    "print('Train score: ',rf_c0.score(X0_train,y0_train))\n",
    "print('Test score: ',rf_c0.score(X0_test,y0_test))"
   ]
  },
  {
   "cell_type": "code",
   "execution_count": 124,
   "id": "f90b4d61",
   "metadata": {},
   "outputs": [
    {
     "name": "stdout",
     "output_type": "stream",
     "text": [
      "Cross Val score:  [0.89529721 0.88283896 0.91964325]\n",
      "Cross Val score mean:  0.8992598054996055\n",
      "Train score:  0.9871021983272925\n",
      "Test score:  0.43275485814176873\n"
     ]
    }
   ],
   "source": [
    "#CLUSTER 1 RF \n",
    "from sklearn.ensemble import RandomForestRegressor\n",
    "rf_c1 = RandomForestRegressor(random_state=0)\n",
    "rf_c1.fit(X1_train,y1_train)\n",
    "print('Cross Val score: ', cross_val_score(rf_c1, X1_train, y1_train, cv=3))\n",
    "print('Cross Val score mean: ', cross_val_score(rf_c1, X1_train, y1_train, cv=3).mean())\n",
    "print('Train score: ',rf_c1.score(X1_train,y1_train))\n",
    "print('Test score: ',rf_c1.score(X1_test,y1_test))"
   ]
  },
  {
   "cell_type": "markdown",
   "id": "8fe29cc8",
   "metadata": {},
   "source": [
    "# No tuning (using optimal parameters from yesterday (on full data set))"
   ]
  },
  {
   "cell_type": "code",
   "execution_count": 128,
   "id": "e7b360f4",
   "metadata": {},
   "outputs": [
    {
     "data": {
      "text/plain": [
       "RandomForestRegressor(bootstrap=False, max_depth=40, max_features=100,\n",
       "                      min_samples_split=5, n_estimators=400, random_state=0)"
      ]
     },
     "execution_count": 128,
     "metadata": {},
     "output_type": "execute_result"
    }
   ],
   "source": [
    "#CLUSTER 0 RF \n",
    "from sklearn.ensemble import RandomForestRegressor\n",
    "randomForest_c0 = RandomForestRegressor(n_estimators=400, \n",
    "                                        min_samples_leaf = 1,\n",
    "                                        min_samples_split=5,\n",
    "                                        max_features=100,\n",
    "                                        max_depth = 40,\n",
    "                                        bootstrap=False,\n",
    "                                        random_state=0)\n",
    "randomForest_c0.fit(X0_train,y0_train)"
   ]
  },
  {
   "cell_type": "code",
   "execution_count": 129,
   "id": "a9e76462",
   "metadata": {},
   "outputs": [
    {
     "name": "stdout",
     "output_type": "stream",
     "text": [
      "Cross Val score:  [0.91507643 0.91009053 0.909882  ]\n",
      "Cross Val score mean:  0.9116829847745906\n",
      "Train score:  0.9987439533469034\n",
      "Test score:  0.7649293759157838\n"
     ]
    }
   ],
   "source": [
    "print('Cross Val score: ', cross_val_score(randomForest_c0, X0_train, y0_train, cv=3))\n",
    "print('Cross Val score mean: ', cross_val_score(randomForest_c0, X0_train, y0_train, cv=3).mean())\n",
    "print('Train score: ',randomForest_c0.score(X0_train,y0_train))\n",
    "print('Test score: ',randomForest_c0.score(X0_test,y0_test))"
   ]
  },
  {
   "cell_type": "code",
   "execution_count": 130,
   "id": "75b544f8",
   "metadata": {},
   "outputs": [
    {
     "data": {
      "text/plain": [
       "RandomForestRegressor(bootstrap=False, max_depth=40, max_features=100,\n",
       "                      min_samples_split=5, n_estimators=400, random_state=0)"
      ]
     },
     "execution_count": 130,
     "metadata": {},
     "output_type": "execute_result"
    }
   ],
   "source": [
    "#CLUSTER 1 RF \n",
    "randomForest_c1 = RandomForestRegressor(n_estimators=400, \n",
    "                                        min_samples_leaf = 1,\n",
    "                                        min_samples_split=5,\n",
    "                                        max_features=100,\n",
    "                                        max_depth = 40,\n",
    "                                        bootstrap=False,\n",
    "                                        random_state=0)\n",
    "randomForest_c1.fit(X1_train,y1_train)"
   ]
  },
  {
   "cell_type": "code",
   "execution_count": 131,
   "id": "67d9b98a",
   "metadata": {},
   "outputs": [
    {
     "name": "stdout",
     "output_type": "stream",
     "text": [
      "Cross Val score:  [0.89704976 0.88281301 0.92022543]\n",
      "Cross Val score mean:  0.9000294008049253\n",
      "Train score:  0.9982284373505669\n",
      "Test score:  0.5072849950882926\n"
     ]
    }
   ],
   "source": [
    "print('Cross Val score: ', cross_val_score(randomForest_c1, X1_train, y1_train, cv=3))\n",
    "print('Cross Val score mean: ', cross_val_score(randomForest_c1, X1_train, y1_train, cv=3).mean())\n",
    "print('Train score: ',randomForest_c1.score(X1_train,y1_train))\n",
    "print('Test score: ',randomForest_c1.score(X1_test,y1_test))"
   ]
  },
  {
   "cell_type": "markdown",
   "id": "6e9bfbe6",
   "metadata": {},
   "source": [
    "# No clusters - All data (note the test score is lower than yesterday's results)"
   ]
  },
  {
   "cell_type": "code",
   "execution_count": 150,
   "id": "53bb57ed",
   "metadata": {},
   "outputs": [],
   "source": [
    "X_train_all = train.drop(['SalePrice', 'LogSalePrice', 'PID', 'TotalBsmtSF', 'NhdCluster'], axis=1)\n",
    "X_test_all =test.drop(['SalePrice', 'LogSalePrice', 'PID', 'TotalBsmtSF', 'NhdCluster'], axis=1)\n",
    "\n",
    "y_train_all = train['LogSalePrice']\n",
    "y_test_all = test['LogSalePrice']"
   ]
  },
  {
   "cell_type": "code",
   "execution_count": 151,
   "id": "cb5bfbe0",
   "metadata": {},
   "outputs": [],
   "source": [
    "cat_feats = X_train_all.select_dtypes(['object']).columns.to_list()\n",
    "num_feats = X_train_all.select_dtypes(['int','float']).columns.to_list()"
   ]
  },
  {
   "cell_type": "code",
   "execution_count": 152,
   "id": "b6633e88",
   "metadata": {},
   "outputs": [],
   "source": [
    "preprocessor = ColumnTransformer(transformers=[\n",
    "    ('tf1',OneHotEncoder(sparse=False, handle_unknown='ignore'), cat_feats)],remainder='passthrough')"
   ]
  },
  {
   "cell_type": "code",
   "execution_count": 153,
   "id": "e8759d38",
   "metadata": {},
   "outputs": [],
   "source": [
    "X_train_all = preprocessor.fit_transform(X_train_all)    \n"
   ]
  },
  {
   "cell_type": "code",
   "execution_count": 154,
   "id": "508e26ec",
   "metadata": {},
   "outputs": [],
   "source": [
    "columns_transformed = preprocessor.named_transformers_['tf1'].get_feature_names(input_features= cat_feats)\n",
    "new_columns = list(columns_transformed)+num_feats"
   ]
  },
  {
   "cell_type": "code",
   "execution_count": 155,
   "id": "cb22fb53",
   "metadata": {},
   "outputs": [],
   "source": [
    "X_train_all = pd.DataFrame(X_train_all,columns=new_columns)\n",
    "X_test_all = preprocessor.transform(X_test_all)\n",
    "X_test_all = pd.DataFrame(X_test_all,columns=new_columns)"
   ]
  },
  {
   "cell_type": "code",
   "execution_count": 160,
   "id": "6c1bff15",
   "metadata": {},
   "outputs": [
    {
     "data": {
      "text/plain": [
       "RandomForestRegressor(bootstrap=False, max_depth=40, max_features=100,\n",
       "                      min_samples_split=5, n_estimators=400, random_state=0)"
      ]
     },
     "execution_count": 160,
     "metadata": {},
     "output_type": "execute_result"
    }
   ],
   "source": [
    "#old hyperparameters\n",
    "randomForest_all = RandomForestRegressor(n_estimators=400, \n",
    "                                        min_samples_leaf = 1,\n",
    "                                        min_samples_split=5,\n",
    "                                        max_features=100,\n",
    "                                        max_depth = 40,\n",
    "                                        bootstrap=False,\n",
    "                                        random_state=0)\n",
    "randomForest_all.fit(X_train_all,y_train_all)"
   ]
  },
  {
   "cell_type": "code",
   "execution_count": 161,
   "id": "33c4a1b0",
   "metadata": {
    "scrolled": true
   },
   "outputs": [
    {
     "name": "stdout",
     "output_type": "stream",
     "text": [
      "Cross Val score:  [0.95391799 0.94991247 0.95734066]\n",
      "Cross Val score mean:  0.9537237055917892\n",
      "Train score:  0.9993544122255908\n",
      "Test score:  0.8220244146227278\n"
     ]
    }
   ],
   "source": [
    "print('Cross Val score: ', cross_val_score(randomForest_all, X_train_all, y_train_all, cv=3))\n",
    "print('Cross Val score mean: ', cross_val_score(randomForest_all, X_train_all, y_train_all, cv=3).mean())\n",
    "print('Train score: ',randomForest_all.score(X_train_all,y_train_all))\n",
    "print('Test score: ',randomForest_all.score(X_test_all,y_test_all))"
   ]
  },
  {
   "cell_type": "code",
   "execution_count": 183,
   "id": "0858f311",
   "metadata": {},
   "outputs": [
    {
     "name": "stdout",
     "output_type": "stream",
     "text": [
      "Fitting 3 folds for each of 300 candidates, totalling 900 fits\n"
     ]
    },
    {
     "data": {
      "text/plain": [
       "RandomizedSearchCV(cv=3, estimator=RandomForestRegressor(), n_iter=300,\n",
       "                   n_jobs=-1,\n",
       "                   param_distributions={'bootstrap': [True, False],\n",
       "                                        'max_depth': [20, 40, 60, 80, 100,\n",
       "                                                      None],\n",
       "                                        'max_features': ['auto', 'sqrt', 10, 50,\n",
       "                                                         100, 150],\n",
       "                                        'min_samples_leaf': [1, 10],\n",
       "                                        'min_samples_split': [2, 5, 10],\n",
       "                                        'n_estimators': [100, 200, 400, 600,\n",
       "                                                         1000]},\n",
       "                   random_state=42, verbose=2)"
      ]
     },
     "execution_count": 183,
     "metadata": {},
     "output_type": "execute_result"
    }
   ],
   "source": [
    "#tuning hyperparameters again \n",
    "rf = RandomForestRegressor()\n",
    "# Random search of parameters, using 3 fold cross validation, \n",
    "# search across 100 different combinations, and use all available cores\n",
    "rf_random = RandomizedSearchCV(estimator = rf, \n",
    "                               param_distributions = random_grid, \n",
    "                               n_iter = 300, \n",
    "                               cv = 3,\n",
    "                               verbose=2, \n",
    "                               random_state=42, \n",
    "                               n_jobs = -1)\n",
    "# Fit the random search model\n",
    "rf_random.fit(X_train_all, y_train_all)\n"
   ]
  },
  {
   "cell_type": "code",
   "execution_count": 184,
   "id": "0db47fc0",
   "metadata": {},
   "outputs": [
    {
     "data": {
      "text/plain": [
       "{'n_estimators': 400,\n",
       " 'min_samples_split': 2,\n",
       " 'min_samples_leaf': 1,\n",
       " 'max_features': 150,\n",
       " 'max_depth': 40,\n",
       " 'bootstrap': True}"
      ]
     },
     "execution_count": 184,
     "metadata": {},
     "output_type": "execute_result"
    }
   ],
   "source": [
    "best_rf = rf_random.best_estimator_\n",
    "rf_random.best_params_"
   ]
  },
  {
   "cell_type": "code",
   "execution_count": null,
   "id": "83bda7e9",
   "metadata": {},
   "outputs": [],
   "source": [
    "# {'n_estimators': 400,\n",
    "#  'min_samples_split': 2,\n",
    "#  'min_samples_leaf': 1,\n",
    "#  'max_features': 150,\n",
    "#  'max_depth': 40,\n",
    "#  'bootstrap': True}"
   ]
  },
  {
   "cell_type": "code",
   "execution_count": 185,
   "id": "43f68a3b",
   "metadata": {
    "scrolled": true
   },
   "outputs": [
    {
     "name": "stdout",
     "output_type": "stream",
     "text": [
      "Cross Val score:  [0.95454597 0.95029594 0.95802828]\n",
      "Cross Val score mean:  0.9541598078236002\n",
      "Train score:  0.9939164170010225\n",
      "Test score:  0.794824385021973\n"
     ]
    }
   ],
   "source": [
    "print('Cross Val score: ', cross_val_score(best_rf, X_train_all, y_train_all, cv=3))\n",
    "print('Cross Val score mean: ', cross_val_score(best_rf, X_train_all, y_train_all, cv=3).mean())\n",
    "print('Train score: ',best_rf.score(X_train_all,y_train_all))\n",
    "print('Test score: ',best_rf.score(X_test_all,y_test_all))"
   ]
  },
  {
   "cell_type": "code",
   "execution_count": null,
   "id": "e2941218",
   "metadata": {},
   "outputs": [],
   "source": [
    "importances = pd.Series(\n",
    "    best_rf.feature_importances_,\n",
    "    index = X1_train.columns\n",
    ").sort_values(ascending=False)\n",
    "importances[:25]"
   ]
  },
  {
   "cell_type": "markdown",
   "id": "3ffe561d",
   "metadata": {},
   "source": [
    "# Tuning for each cluster (using RandomizedSearchCV)"
   ]
  },
  {
   "cell_type": "code",
   "execution_count": 169,
   "id": "70443432",
   "metadata": {},
   "outputs": [],
   "source": [
    "from sklearn.model_selection import RandomizedSearchCV\n",
    "# Number of trees in random forest\n",
    "n_estimators = [100,200,400,600,1000]\n",
    "# Number of features to consider at every split\n",
    "max_features = ['auto', 'sqrt',10,50,100,150]\n",
    "# Maximum number of levels in tree\n",
    "max_depth = list(range(20,101,20))\n",
    "max_depth.append(None)\n",
    "# Minimum number of samples required to split a node\n",
    "min_samples_split = [2, 5, 10]\n",
    "# Minimum number of samples required at each leaf node\n",
    "min_samples_leaf = [1, 10]\n",
    "# Method of selecting samples for training each tree\n",
    "bootstrap = [True, False]\n",
    "# Create the random grid\n",
    "random_grid = {'n_estimators': n_estimators,\n",
    "               'max_features': max_features,\n",
    "               'max_depth': max_depth,\n",
    "               'min_samples_split': min_samples_split,\n",
    "               'min_samples_leaf': min_samples_leaf,\n",
    "               'bootstrap': bootstrap}\n"
   ]
  },
  {
   "cell_type": "code",
   "execution_count": 188,
   "id": "a6bf92fa",
   "metadata": {},
   "outputs": [
    {
     "data": {
      "text/plain": [
       "{'n_estimators': [100, 200, 400, 600, 1000],\n",
       " 'max_features': ['auto', 'sqrt', 10, 50, 100, 150],\n",
       " 'max_depth': [20, 40, 60, 80, 100, None],\n",
       " 'min_samples_split': [2, 5, 10],\n",
       " 'min_samples_leaf': [1, 10],\n",
       " 'bootstrap': [True, False]}"
      ]
     },
     "execution_count": 188,
     "metadata": {},
     "output_type": "execute_result"
    }
   ],
   "source": [
    "random_grid"
   ]
  },
  {
   "cell_type": "code",
   "execution_count": 189,
   "id": "be2e8047",
   "metadata": {},
   "outputs": [
    {
     "name": "stdout",
     "output_type": "stream",
     "text": [
      "Fitting 3 folds for each of 300 candidates, totalling 900 fits\n"
     ]
    },
    {
     "data": {
      "text/plain": [
       "RandomizedSearchCV(cv=3, estimator=RandomForestRegressor(), n_iter=300,\n",
       "                   n_jobs=-1,\n",
       "                   param_distributions={'bootstrap': [True, False],\n",
       "                                        'max_depth': [20, 40, 60, 80, 100,\n",
       "                                                      None],\n",
       "                                        'max_features': ['auto', 'sqrt', 10, 50,\n",
       "                                                         100, 150],\n",
       "                                        'min_samples_leaf': [1, 10],\n",
       "                                        'min_samples_split': [2, 5, 10],\n",
       "                                        'n_estimators': [100, 200, 400, 600,\n",
       "                                                         1000]},\n",
       "                   random_state=42, verbose=2)"
      ]
     },
     "execution_count": 189,
     "metadata": {},
     "output_type": "execute_result"
    }
   ],
   "source": [
    "#CLUSTER 0 - Tuning \n",
    "rf = RandomForestRegressor()\n",
    "# Random search of parameters, using 3 fold cross validation, \n",
    "# search across 100 different combinations, and use all available cores\n",
    "rf_random_0 = RandomizedSearchCV(estimator = rf, \n",
    "                               param_distributions = random_grid, \n",
    "                               n_iter = 300, \n",
    "                               cv = 3,\n",
    "                               verbose=2, \n",
    "                               random_state=42, \n",
    "                               n_jobs = -1)\n",
    "# Fit the random search model\n",
    "rf_random_0.fit(X0_train, y0_train)"
   ]
  },
  {
   "cell_type": "code",
   "execution_count": 190,
   "id": "241e6d97",
   "metadata": {},
   "outputs": [
    {
     "data": {
      "text/plain": [
       "{'n_estimators': 400,\n",
       " 'min_samples_split': 2,\n",
       " 'min_samples_leaf': 1,\n",
       " 'max_features': 100,\n",
       " 'max_depth': 60,\n",
       " 'bootstrap': True}"
      ]
     },
     "execution_count": 190,
     "metadata": {},
     "output_type": "execute_result"
    }
   ],
   "source": [
    "best_rf_0 = rf_random_0.best_estimator_\n",
    "rf_random_0.best_params_\n"
   ]
  },
  {
   "cell_type": "code",
   "execution_count": null,
   "id": "7f0714e0",
   "metadata": {},
   "outputs": [],
   "source": [
    "# {'n_estimators': 400,\n",
    "#  'min_samples_split': 2,\n",
    "#  'min_samples_leaf': 1,\n",
    "#  'max_features': 100,\n",
    "#  'max_depth': 60,\n",
    "#  'bootstrap': True}"
   ]
  },
  {
   "cell_type": "code",
   "execution_count": 191,
   "id": "2710f007",
   "metadata": {},
   "outputs": [
    {
     "name": "stdout",
     "output_type": "stream",
     "text": [
      "Cross Val score:  [0.92304873 0.90986668 0.90849926]\n",
      "Cross Val score mean:  0.9130197371034696\n",
      "Train score:  0.9895515899446137\n",
      "Test score:  0.770188525880735\n"
     ]
    }
   ],
   "source": [
    "# CLUSTER 0 RF Tuned \n",
    "print('Cross Val score: ', cross_val_score(best_rf_0, X0_train, y0_train, cv=3))\n",
    "print('Cross Val score mean: ', cross_val_score(best_rf_0, X0_train, y0_train, cv=3).mean())\n",
    "print('Train score: ',best_rf_0.score(X0_train,y0_train))\n",
    "print('Test score: ',best_rf_0.score(X0_test,y0_test))"
   ]
  },
  {
   "cell_type": "code",
   "execution_count": 193,
   "id": "0c58d9b5",
   "metadata": {},
   "outputs": [
    {
     "data": {
      "text/plain": [
       "Comp            0.568271\n",
       "OverallQual     0.135660\n",
       "GarageCars      0.038797\n",
       "GarageArea      0.038508\n",
       "1stFlrSF        0.035959\n",
       "BsmtFinSF1      0.017290\n",
       "FullBath        0.016184\n",
       "MasVnrArea      0.015961\n",
       "LotArea         0.012244\n",
       "BsmtQual        0.012208\n",
       "2ndFlrSF        0.012036\n",
       "TotRmsAbvGrd    0.006915\n",
       "KitchenQual     0.005216\n",
       "OpenPorchSF     0.004949\n",
       "BsmtUnfSF       0.004792\n",
       "LotFrontage     0.004624\n",
       "FireplaceQu     0.003523\n",
       "YearBuilt       0.003365\n",
       "YearRemodAdd    0.003306\n",
       "WoodDeckSF      0.003243\n",
       "MSZoning_RH     0.002849\n",
       "Fireplaces      0.002700\n",
       "GarageYrBlt     0.002625\n",
       "ExterQual       0.002603\n",
       "MoSold          0.002549\n",
       "dtype: float64"
      ]
     },
     "execution_count": 193,
     "metadata": {},
     "output_type": "execute_result"
    }
   ],
   "source": [
    "importances = pd.Series(\n",
    "    best_rf_0.feature_importances_,\n",
    "    index = X0_train.columns\n",
    ").sort_values(ascending=False)\n",
    "importances[:25]"
   ]
  },
  {
   "cell_type": "code",
   "execution_count": 180,
   "id": "ae7a3272",
   "metadata": {},
   "outputs": [
    {
     "name": "stdout",
     "output_type": "stream",
     "text": [
      "Fitting 3 folds for each of 300 candidates, totalling 900 fits\n"
     ]
    },
    {
     "data": {
      "text/plain": [
       "RandomizedSearchCV(cv=3, estimator=RandomForestRegressor(), n_iter=300,\n",
       "                   n_jobs=-1,\n",
       "                   param_distributions={'bootstrap': [True, False],\n",
       "                                        'max_depth': [20, 40, 60, 80, 100,\n",
       "                                                      None],\n",
       "                                        'max_features': ['auto', 'sqrt', 10, 50,\n",
       "                                                         100, 150],\n",
       "                                        'min_samples_leaf': [1, 10],\n",
       "                                        'min_samples_split': [2, 5, 10],\n",
       "                                        'n_estimators': [100, 200, 400, 600,\n",
       "                                                         1000]},\n",
       "                   random_state=42, verbose=2)"
      ]
     },
     "execution_count": 180,
     "metadata": {},
     "output_type": "execute_result"
    }
   ],
   "source": [
    "#CLUSTER 1 - Tuning \n",
    "rf = RandomForestRegressor()\n",
    "# Random search of parameters, using 3 fold cross validation, \n",
    "# search across 100 different combinations, and use all available cores\n",
    "rf_random_1 = RandomizedSearchCV(estimator = rf, \n",
    "                               param_distributions = random_grid, \n",
    "                               n_iter = 300, \n",
    "                               cv = 3,\n",
    "                               verbose=2, \n",
    "                               random_state=42, \n",
    "                               n_jobs = -1)\n",
    "# Fit the random search model\n",
    "rf_random_1.fit(X1_train, y1_train)"
   ]
  },
  {
   "cell_type": "code",
   "execution_count": 181,
   "id": "ae83ee81",
   "metadata": {
    "scrolled": true
   },
   "outputs": [
    {
     "data": {
      "text/plain": [
       "{'n_estimators': 600,\n",
       " 'min_samples_split': 5,\n",
       " 'min_samples_leaf': 1,\n",
       " 'max_features': 150,\n",
       " 'max_depth': None,\n",
       " 'bootstrap': True}"
      ]
     },
     "execution_count": 181,
     "metadata": {},
     "output_type": "execute_result"
    }
   ],
   "source": [
    "best_rf_1 = rf_random_1.best_estimator_\n",
    "rf_random_1.best_params_"
   ]
  },
  {
   "cell_type": "code",
   "execution_count": null,
   "id": "a5821718",
   "metadata": {},
   "outputs": [],
   "source": [
    "# {'n_estimators': 600,\n",
    "#  'min_samples_split': 5,\n",
    "#  'min_samples_leaf': 1,\n",
    "#  'max_features': 150,\n",
    "#  'max_depth': None,\n",
    "#  'bootstrap': True}"
   ]
  },
  {
   "cell_type": "code",
   "execution_count": 182,
   "id": "3cc7d409",
   "metadata": {},
   "outputs": [
    {
     "name": "stdout",
     "output_type": "stream",
     "text": [
      "Cross Val score:  [0.89904027 0.88949657 0.92366882]\n",
      "Cross Val score mean:  0.9037284485695353\n",
      "Train score:  0.9820587344125724\n",
      "Test score:  0.45283460285413246\n"
     ]
    }
   ],
   "source": [
    "# CLUSTER 1 RF Tuned \n",
    "print('Cross Val score: ', cross_val_score(best_rf_1, X1_train, y1_train, cv=3))\n",
    "print('Cross Val score mean: ', cross_val_score(best_rf_1, X1_train, y1_train, cv=3).mean())\n",
    "print('Train score: ',best_rf_1.score(X1_train,y1_train))\n",
    "print('Test score: ',best_rf_1.score(X1_test,y1_test))"
   ]
  },
  {
   "cell_type": "code",
   "execution_count": 186,
   "id": "fff8f88d",
   "metadata": {},
   "outputs": [
    {
     "data": {
      "text/plain": [
       "Comp             0.738687\n",
       "OverallQual      0.081096\n",
       "1stFlrSF         0.046685\n",
       "GarageArea       0.017748\n",
       "LotArea          0.008262\n",
       "BsmtFinSF1       0.005886\n",
       "OverallCond      0.005084\n",
       "YearRemodAdd     0.004806\n",
       "GarageCars       0.004368\n",
       "2ndFlrSF         0.004291\n",
       "FireplaceQu      0.003422\n",
       "GarageYrBlt      0.003349\n",
       "BsmtUnfSF        0.003339\n",
       "LotFrontage      0.003205\n",
       "MoSold           0.003114\n",
       "TotRmsAbvGrd     0.003099\n",
       "EnclosedPorch    0.003064\n",
       "YearBuilt        0.002962\n",
       "ExterQual        0.002400\n",
       "WoodDeckSF       0.002211\n",
       "MasVnrArea       0.002144\n",
       "PavedDrive       0.001927\n",
       "GarageCond       0.001810\n",
       "BsmtCond         0.001746\n",
       "OpenPorchSF      0.001734\n",
       "dtype: float64"
      ]
     },
     "execution_count": 186,
     "metadata": {},
     "output_type": "execute_result"
    }
   ],
   "source": [
    "importances = pd.Series(\n",
    "    best_rf_1.feature_importances_,\n",
    "    index = X1_train.columns\n",
    ").sort_values(ascending=False)\n",
    "importances[:25]"
   ]
  },
  {
   "cell_type": "code",
   "execution_count": null,
   "id": "7c9cb6af",
   "metadata": {},
   "outputs": [],
   "source": []
  }
 ],
 "metadata": {
  "kernelspec": {
   "display_name": "Python 3",
   "language": "python",
   "name": "python3"
  },
  "language_info": {
   "codemirror_mode": {
    "name": "ipython",
    "version": 3
   },
   "file_extension": ".py",
   "mimetype": "text/x-python",
   "name": "python",
   "nbconvert_exporter": "python",
   "pygments_lexer": "ipython3",
   "version": "3.8.8"
  }
 },
 "nbformat": 4,
 "nbformat_minor": 5
}
