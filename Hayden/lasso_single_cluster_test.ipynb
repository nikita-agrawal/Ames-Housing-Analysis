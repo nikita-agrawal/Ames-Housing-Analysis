{
 "cells": [
  {
   "cell_type": "code",
   "execution_count": 1,
   "id": "7a658854",
   "metadata": {},
   "outputs": [],
   "source": [
    "import pandas as pd\n",
    "import numpy as np\n",
    "\n",
    "from sklearn.preprocessing import StandardScaler\n",
    "from sklearn.preprocessing import OneHotEncoder\n",
    "from sklearn.compose import ColumnTransformer\n",
    "from sklearn.cluster import KMeans\n",
    "\n",
    "import helper\n"
   ]
  },
  {
   "cell_type": "code",
   "execution_count": 2,
   "id": "04d0c86b",
   "metadata": {},
   "outputs": [],
   "source": [
    "# colors = [\"#FF0B04\", \"#F1BE48\",\n",
    "#            \"#B9975B\", \"#8B5B29\",\n",
    "#            \"#524727\",\n",
    "#          ]\n",
    "# sns.set_palette(sns.color_palette(colors))"
   ]
  },
  {
   "cell_type": "code",
   "execution_count": 3,
   "id": "d1984778",
   "metadata": {},
   "outputs": [],
   "source": [
    "df = pd.read_csv('Ames_Housing_Price_Data.csv', \n",
    "                             index_col=0,low_memory = False)"
   ]
  },
  {
   "cell_type": "code",
   "execution_count": 4,
   "id": "80407260",
   "metadata": {},
   "outputs": [],
   "source": [
    "train, test = helper.data_processing_wrapper(df, num_to_cat_list=['MSSubClass','MoSold'], remove_PID=False)"
   ]
  },
  {
   "cell_type": "code",
   "execution_count": null,
   "id": "32d8d2e2",
   "metadata": {},
   "outputs": [],
   "source": []
  },
  {
   "cell_type": "code",
   "execution_count": 5,
   "id": "0d677ded",
   "metadata": {},
   "outputs": [],
   "source": [
    "schools = pd.read_csv('schoolFeatures.csv',index_col = 0)\n",
    "school_keep = [\n",
    "    'PID',\n",
    "    'closestSchool'\n",
    "]\n",
    "schools = schools[school_keep]"
   ]
  },
  {
   "cell_type": "code",
   "execution_count": 6,
   "id": "40dd4f3a",
   "metadata": {},
   "outputs": [],
   "source": [
    "train = train.merge(schools, how = 'left', left_on = 'PID', right_on = 'PID')\n",
    "test = test.merge(schools, how = 'left', left_on = 'PID', right_on = 'PID')\n",
    "\n",
    "train = train.dropna(subset=['closestSchool'])\n",
    "train = train.reset_index(drop=True)\n",
    "\n",
    "test = test.dropna(subset=['closestSchool'])\n",
    "test = test.reset_index(drop=True)"
   ]
  },
  {
   "cell_type": "code",
   "execution_count": null,
   "id": "0b3f1093",
   "metadata": {},
   "outputs": [],
   "source": []
  },
  {
   "cell_type": "code",
   "execution_count": null,
   "id": "6f4d330b",
   "metadata": {},
   "outputs": [],
   "source": []
  },
  {
   "cell_type": "code",
   "execution_count": null,
   "id": "4c647569",
   "metadata": {},
   "outputs": [],
   "source": []
  },
  {
   "cell_type": "code",
   "execution_count": 7,
   "id": "a40bfd81",
   "metadata": {},
   "outputs": [],
   "source": [
    "train['LogSalePrice'] = np.log(train['SalePrice'])\n",
    "test['LogSalePrice'] = np.log(test['SalePrice'])"
   ]
  },
  {
   "cell_type": "code",
   "execution_count": 8,
   "id": "169eaced",
   "metadata": {},
   "outputs": [],
   "source": [
    "nhds = train.groupby('Neighborhood').median()[['LogSalePrice', 'GrLivArea']]"
   ]
  },
  {
   "cell_type": "code",
   "execution_count": 9,
   "id": "1aa49c8d",
   "metadata": {},
   "outputs": [],
   "source": [
    "weights = train.groupby('Neighborhood').count().apply(lambda x: x['PID']/len(train) ,axis=1).to_list()"
   ]
  },
  {
   "cell_type": "code",
   "execution_count": 10,
   "id": "32af995e",
   "metadata": {},
   "outputs": [],
   "source": [
    "scaler = StandardScaler()\n",
    "_ = scaler.fit_transform(nhds)\n",
    "clusterer = KMeans(n_clusters=2, random_state=42)\n",
    "cluster_labels = clusterer.fit_predict(_, sample_weight=weights)\n",
    "nhds['Cluster'] = cluster_labels"
   ]
  },
  {
   "cell_type": "code",
   "execution_count": 11,
   "id": "bddab29a",
   "metadata": {},
   "outputs": [
    {
     "data": {
      "text/html": [
       "<div>\n",
       "<style scoped>\n",
       "    .dataframe tbody tr th:only-of-type {\n",
       "        vertical-align: middle;\n",
       "    }\n",
       "\n",
       "    .dataframe tbody tr th {\n",
       "        vertical-align: top;\n",
       "    }\n",
       "\n",
       "    .dataframe thead th {\n",
       "        text-align: right;\n",
       "    }\n",
       "</style>\n",
       "<table border=\"1\" class=\"dataframe\">\n",
       "  <thead>\n",
       "    <tr style=\"text-align: right;\">\n",
       "      <th></th>\n",
       "      <th>LogSalePrice</th>\n",
       "      <th>GrLivArea</th>\n",
       "      <th>Cluster</th>\n",
       "    </tr>\n",
       "    <tr>\n",
       "      <th>Neighborhood</th>\n",
       "      <th></th>\n",
       "      <th></th>\n",
       "      <th></th>\n",
       "    </tr>\n",
       "  </thead>\n",
       "  <tbody>\n",
       "    <tr>\n",
       "      <th>Blmngtn</th>\n",
       "      <td>12.180755</td>\n",
       "      <td>1504.0</td>\n",
       "      <td>0</td>\n",
       "    </tr>\n",
       "    <tr>\n",
       "      <th>Blueste</th>\n",
       "      <td>11.727633</td>\n",
       "      <td>1118.0</td>\n",
       "      <td>1</td>\n",
       "    </tr>\n",
       "    <tr>\n",
       "      <th>BrDale</th>\n",
       "      <td>11.566466</td>\n",
       "      <td>1030.0</td>\n",
       "      <td>1</td>\n",
       "    </tr>\n",
       "    <tr>\n",
       "      <th>BrkSide</th>\n",
       "      <td>11.747998</td>\n",
       "      <td>1203.0</td>\n",
       "      <td>1</td>\n",
       "    </tr>\n",
       "    <tr>\n",
       "      <th>ClearCr</th>\n",
       "      <td>12.345835</td>\n",
       "      <td>1743.0</td>\n",
       "      <td>0</td>\n",
       "    </tr>\n",
       "    <tr>\n",
       "      <th>CollgCr</th>\n",
       "      <td>12.200557</td>\n",
       "      <td>1536.0</td>\n",
       "      <td>0</td>\n",
       "    </tr>\n",
       "    <tr>\n",
       "      <th>Crawfor</th>\n",
       "      <td>12.170445</td>\n",
       "      <td>1640.0</td>\n",
       "      <td>0</td>\n",
       "    </tr>\n",
       "    <tr>\n",
       "      <th>Edwards</th>\n",
       "      <td>11.739263</td>\n",
       "      <td>1188.5</td>\n",
       "      <td>1</td>\n",
       "    </tr>\n",
       "    <tr>\n",
       "      <th>Gilbert</th>\n",
       "      <td>12.119970</td>\n",
       "      <td>1594.0</td>\n",
       "      <td>0</td>\n",
       "    </tr>\n",
       "    <tr>\n",
       "      <th>Greens</th>\n",
       "      <td>12.248806</td>\n",
       "      <td>1226.0</td>\n",
       "      <td>1</td>\n",
       "    </tr>\n",
       "    <tr>\n",
       "      <th>IDOTRR</th>\n",
       "      <td>11.691908</td>\n",
       "      <td>1330.0</td>\n",
       "      <td>1</td>\n",
       "    </tr>\n",
       "    <tr>\n",
       "      <th>MeadowV</th>\n",
       "      <td>11.449986</td>\n",
       "      <td>1092.0</td>\n",
       "      <td>1</td>\n",
       "    </tr>\n",
       "    <tr>\n",
       "      <th>Mitchel</th>\n",
       "      <td>11.976659</td>\n",
       "      <td>1285.0</td>\n",
       "      <td>1</td>\n",
       "    </tr>\n",
       "    <tr>\n",
       "      <th>NAmes</th>\n",
       "      <td>11.858285</td>\n",
       "      <td>1203.0</td>\n",
       "      <td>1</td>\n",
       "    </tr>\n",
       "    <tr>\n",
       "      <th>NPkVill</th>\n",
       "      <td>11.867097</td>\n",
       "      <td>1069.0</td>\n",
       "      <td>1</td>\n",
       "    </tr>\n",
       "    <tr>\n",
       "      <th>NWAmes</th>\n",
       "      <td>12.124048</td>\n",
       "      <td>1660.0</td>\n",
       "      <td>0</td>\n",
       "    </tr>\n",
       "    <tr>\n",
       "      <th>NoRidge</th>\n",
       "      <td>12.669762</td>\n",
       "      <td>2417.5</td>\n",
       "      <td>0</td>\n",
       "    </tr>\n",
       "    <tr>\n",
       "      <th>NridgHt</th>\n",
       "      <td>12.568940</td>\n",
       "      <td>1787.0</td>\n",
       "      <td>0</td>\n",
       "    </tr>\n",
       "    <tr>\n",
       "      <th>OldTown</th>\n",
       "      <td>11.695247</td>\n",
       "      <td>1378.0</td>\n",
       "      <td>1</td>\n",
       "    </tr>\n",
       "    <tr>\n",
       "      <th>SWISU</th>\n",
       "      <td>11.816352</td>\n",
       "      <td>1516.0</td>\n",
       "      <td>1</td>\n",
       "    </tr>\n",
       "    <tr>\n",
       "      <th>Sawyer</th>\n",
       "      <td>11.813030</td>\n",
       "      <td>1040.0</td>\n",
       "      <td>1</td>\n",
       "    </tr>\n",
       "    <tr>\n",
       "      <th>SawyerW</th>\n",
       "      <td>12.100434</td>\n",
       "      <td>1569.5</td>\n",
       "      <td>0</td>\n",
       "    </tr>\n",
       "    <tr>\n",
       "      <th>Somerst</th>\n",
       "      <td>12.340759</td>\n",
       "      <td>1573.0</td>\n",
       "      <td>0</td>\n",
       "    </tr>\n",
       "    <tr>\n",
       "      <th>StoneBr</th>\n",
       "      <td>12.619755</td>\n",
       "      <td>1696.0</td>\n",
       "      <td>0</td>\n",
       "    </tr>\n",
       "    <tr>\n",
       "      <th>Timber</th>\n",
       "      <td>12.337101</td>\n",
       "      <td>1629.0</td>\n",
       "      <td>0</td>\n",
       "    </tr>\n",
       "    <tr>\n",
       "      <th>Veenker</th>\n",
       "      <td>12.411052</td>\n",
       "      <td>1494.0</td>\n",
       "      <td>0</td>\n",
       "    </tr>\n",
       "  </tbody>\n",
       "</table>\n",
       "</div>"
      ],
      "text/plain": [
       "              LogSalePrice  GrLivArea  Cluster\n",
       "Neighborhood                                  \n",
       "Blmngtn          12.180755     1504.0        0\n",
       "Blueste          11.727633     1118.0        1\n",
       "BrDale           11.566466     1030.0        1\n",
       "BrkSide          11.747998     1203.0        1\n",
       "ClearCr          12.345835     1743.0        0\n",
       "CollgCr          12.200557     1536.0        0\n",
       "Crawfor          12.170445     1640.0        0\n",
       "Edwards          11.739263     1188.5        1\n",
       "Gilbert          12.119970     1594.0        0\n",
       "Greens           12.248806     1226.0        1\n",
       "IDOTRR           11.691908     1330.0        1\n",
       "MeadowV          11.449986     1092.0        1\n",
       "Mitchel          11.976659     1285.0        1\n",
       "NAmes            11.858285     1203.0        1\n",
       "NPkVill          11.867097     1069.0        1\n",
       "NWAmes           12.124048     1660.0        0\n",
       "NoRidge          12.669762     2417.5        0\n",
       "NridgHt          12.568940     1787.0        0\n",
       "OldTown          11.695247     1378.0        1\n",
       "SWISU            11.816352     1516.0        1\n",
       "Sawyer           11.813030     1040.0        1\n",
       "SawyerW          12.100434     1569.5        0\n",
       "Somerst          12.340759     1573.0        0\n",
       "StoneBr          12.619755     1696.0        0\n",
       "Timber           12.337101     1629.0        0\n",
       "Veenker          12.411052     1494.0        0"
      ]
     },
     "execution_count": 11,
     "metadata": {},
     "output_type": "execute_result"
    }
   ],
   "source": [
    "nhds"
   ]
  },
  {
   "cell_type": "code",
   "execution_count": 12,
   "id": "2728a85a",
   "metadata": {},
   "outputs": [],
   "source": [
    "cluster_dict = nhds['Cluster'].to_dict()"
   ]
  },
  {
   "cell_type": "code",
   "execution_count": 13,
   "id": "2deb9d4d",
   "metadata": {},
   "outputs": [],
   "source": [
    "train['NhdCluster'] = train.apply(lambda x: cluster_dict[x['Neighborhood']], axis=1)\n",
    "test['NhdCluster'] = test.apply(lambda x: cluster_dict[x['Neighborhood']], axis=1)"
   ]
  },
  {
   "cell_type": "code",
   "execution_count": null,
   "id": "a9f92387",
   "metadata": {},
   "outputs": [],
   "source": []
  },
  {
   "cell_type": "code",
   "execution_count": 14,
   "id": "02812146",
   "metadata": {},
   "outputs": [],
   "source": [
    "# myfunction does the log of them. and it'll just be easier for me later to drop this now.\n",
    "\n",
    "train = train.drop(columns = ['LogSalePrice'])\n",
    "test = test.drop(columns = ['LogSalePrice'])"
   ]
  },
  {
   "cell_type": "code",
   "execution_count": 15,
   "id": "6a094fc4",
   "metadata": {},
   "outputs": [],
   "source": [
    "# add price comps\n",
    "train, test = helper.add_price_comp_log_feature(train, test,'Neighborhood')\n",
    "train, test = helper.add_price_comp_log_feature(train, test,'GarageCars')\n",
    "train, test = helper.add_price_comp_log_feature(train, test,'BldgType')\n",
    "train, test = helper.add_price_comp_log_feature(train, test,'MSZoning')\n",
    "train, test = helper.add_price_comp_log_feature(train, test,'Condition1')"
   ]
  },
  {
   "cell_type": "code",
   "execution_count": 16,
   "id": "0bfe7f61",
   "metadata": {},
   "outputs": [],
   "source": [
    "num_features_to_transform = [\n",
    "    'OverallQual',\n",
    "    'overall_score',\n",
    "    'total_sf',\n",
    "    'GrLivArea',\n",
    "    'year_since_built',\n",
    "    'LotArea',\n",
    "    'GarageArea',\n",
    "    'year_since_remod',\n",
    "    'BsmtExposure',\n",
    "    'KitchenQual'\n",
    "]"
   ]
  },
  {
   "cell_type": "code",
   "execution_count": 17,
   "id": "f76e7c02",
   "metadata": {},
   "outputs": [],
   "source": [
    "train = helper.add_year_since_feature(train)\n",
    "train = helper.add_score_feature(train)\n",
    "train = helper.add_combined_related_num_features(train)\n",
    "train = helper.add_non_linear_transformed_features(train,num_features_to_transform)"
   ]
  },
  {
   "cell_type": "code",
   "execution_count": 18,
   "id": "e18b5f8c",
   "metadata": {},
   "outputs": [],
   "source": [
    "test = helper.add_year_since_feature(test)\n",
    "test = helper.add_score_feature(test)\n",
    "test = helper.add_combined_related_num_features(test)\n",
    "test = helper.add_non_linear_transformed_features(test,num_features_to_transform)"
   ]
  },
  {
   "cell_type": "code",
   "execution_count": 19,
   "id": "1353db02",
   "metadata": {},
   "outputs": [],
   "source": [
    "cat_feats = train.select_dtypes(['object','bool']).columns.to_list()"
   ]
  },
  {
   "cell_type": "code",
   "execution_count": 20,
   "id": "bbcc3830",
   "metadata": {},
   "outputs": [],
   "source": [
    "num_cols = train.select_dtypes(['float64','int64']).columns.to_list()\n",
    "num_cols.remove('SalePrice')\n",
    "num_cols.remove('PID')"
   ]
  },
  {
   "cell_type": "code",
   "execution_count": 21,
   "id": "17be7ac3",
   "metadata": {},
   "outputs": [],
   "source": [
    "train_0 = train.loc[train['NhdCluster']==0,:]\n",
    "test_0 = test.loc[test['NhdCluster']==0,:]\n",
    "train_1 = train.loc[train['NhdCluster']==1,:]\n",
    "test_1 = test.loc[test['NhdCluster']==1,:]"
   ]
  },
  {
   "cell_type": "markdown",
   "id": "2d98f661",
   "metadata": {},
   "source": [
    "### cluster only as a feature"
   ]
  },
  {
   "cell_type": "code",
   "execution_count": 31,
   "id": "74b67aaf",
   "metadata": {},
   "outputs": [
    {
     "name": "stdout",
     "output_type": "stream",
     "text": [
      "Performing Grid Search with alphas of: [0.0001, 0.0003, 0.0006, 0.001, 0.003, 0.006, 0.01, 0.03, 0.06, 0.1, 0.3, 0.6, 1]\n",
      "Current best alpha: 0.001\n",
      "Current best CV R2: 0.9473111529537663\n",
      "Performing Grid Search with alphas of: [0.0003 0.0004 0.0005 0.0006 0.0007 0.0008 0.0009 0.001  0.0011 0.0012\n",
      " 0.0013 0.0014 0.0015 0.0016 0.0017 0.0018 0.0019]\n",
      "Current best alpha: 0.0013000000000000002\n",
      "Current best CV R2: 0.9474134044270726\n",
      "Modeling complete :)\n"
     ]
    }
   ],
   "source": [
    "clf, transformer, scaler = helper.lasso_grid_cv(train,cat_feats,n_jobs_ = -1)"
   ]
  },
  {
   "cell_type": "code",
   "execution_count": 32,
   "id": "3687f8d8",
   "metadata": {},
   "outputs": [
    {
     "data": {
      "text/plain": [
       "0.9474134044270726"
      ]
     },
     "execution_count": 32,
     "metadata": {},
     "output_type": "execute_result"
    }
   ],
   "source": [
    "clf.best_score_"
   ]
  },
  {
   "cell_type": "code",
   "execution_count": 33,
   "id": "2535f8ed",
   "metadata": {},
   "outputs": [
    {
     "data": {
      "text/plain": [
       "0.9209695499003754"
      ]
     },
     "execution_count": 33,
     "metadata": {},
     "output_type": "execute_result"
    }
   ],
   "source": [
    "X_tst = test.drop(['SalePrice','PID'],axis=1)\n",
    "X_tst = transformer.transform(X_tst)\n",
    "X_tst = scaler.transform(X_tst)\n",
    "y_tst = np.log(test['SalePrice'])\n",
    "\n",
    "clf.score(X_tst,y_tst)"
   ]
  },
  {
   "cell_type": "markdown",
   "id": "fb96aba2",
   "metadata": {},
   "source": [
    "### cluster 0 seperated but cluster 1 train on the whole data set."
   ]
  },
  {
   "cell_type": "code",
   "execution_count": 22,
   "id": "ca605df4",
   "metadata": {},
   "outputs": [
    {
     "name": "stdout",
     "output_type": "stream",
     "text": [
      "Performing Grid Search with alphas of: [0.0001, 0.0003, 0.0006, 0.001, 0.003, 0.006, 0.01, 0.03, 0.06, 0.1, 0.3, 0.6, 1]\n",
      "Current best alpha: 0.003\n",
      "Current best CV R2: 0.9317064729739271\n",
      "Performing Grid Search with alphas of: [0.0009 0.0012 0.0015 0.0018 0.0021 0.0024 0.0027 0.003  0.0033 0.0036\n",
      " 0.0039 0.0042 0.0045 0.0048 0.0051 0.0054 0.0057]\n",
      "Current best alpha: 0.0021\n",
      "Current best CV R2: 0.9328977982767975\n",
      "Performing Grid Search with alphas of: [0.00063 0.00084 0.00105 0.00126 0.00147 0.00168 0.00189 0.0021  0.00231\n",
      " 0.00252 0.00273 0.00294 0.00315 0.00336 0.00357 0.00378 0.00399]\n",
      "Current best alpha: 0.0021\n",
      "Current best CV R2: 0.9328977982767975\n",
      "Modeling complete :)\n"
     ]
    }
   ],
   "source": [
    "clf, transformer, scaler = helper.lasso_grid_cv(train_0,cat_feats,n_jobs_ = -1)"
   ]
  },
  {
   "cell_type": "code",
   "execution_count": 23,
   "id": "c0ce2364",
   "metadata": {},
   "outputs": [
    {
     "data": {
      "text/plain": [
       "0.9328977982767975"
      ]
     },
     "execution_count": 23,
     "metadata": {},
     "output_type": "execute_result"
    }
   ],
   "source": [
    "clf.best_score_"
   ]
  },
  {
   "cell_type": "code",
   "execution_count": 24,
   "id": "56d5d16c",
   "metadata": {},
   "outputs": [
    {
     "data": {
      "text/plain": [
       "0.9366054507869461"
      ]
     },
     "execution_count": 24,
     "metadata": {},
     "output_type": "execute_result"
    }
   ],
   "source": [
    "X_tst = test_0.drop(['SalePrice','PID'],axis=1)\n",
    "X_tst = transformer.transform(X_tst)\n",
    "X_tst = scaler.transform(X_tst)\n",
    "y_tst = np.log(test_0['SalePrice'])\n",
    "\n",
    "clf.score(X_tst,y_tst)"
   ]
  },
  {
   "cell_type": "code",
   "execution_count": 25,
   "id": "7f49dbd8",
   "metadata": {},
   "outputs": [
    {
     "name": "stdout",
     "output_type": "stream",
     "text": [
      "Performing Grid Search with alphas of: [0.0001, 0.0003, 0.0006, 0.001, 0.003, 0.006, 0.01, 0.03, 0.06, 0.1, 0.3, 0.6, 1]\n",
      "Current best alpha: 0.001\n",
      "Current best CV R2: 0.9473111529537663\n",
      "Performing Grid Search with alphas of: [0.0003 0.0004 0.0005 0.0006 0.0007 0.0008 0.0009 0.001  0.0011 0.0012\n",
      " 0.0013 0.0014 0.0015 0.0016 0.0017 0.0018 0.0019]\n",
      "Current best alpha: 0.0013000000000000002\n",
      "Current best CV R2: 0.9474134044270726\n",
      "Modeling complete :)\n"
     ]
    }
   ],
   "source": [
    "clf, transformer, scaler = helper.lasso_grid_cv(train,cat_feats,n_jobs_ = -1)"
   ]
  },
  {
   "cell_type": "code",
   "execution_count": 26,
   "id": "05e4a305",
   "metadata": {},
   "outputs": [
    {
     "data": {
      "text/plain": [
       "0.9474134044270726"
      ]
     },
     "execution_count": 26,
     "metadata": {},
     "output_type": "execute_result"
    }
   ],
   "source": [
    "clf.best_score_"
   ]
  },
  {
   "cell_type": "code",
   "execution_count": 27,
   "id": "064b9f8b",
   "metadata": {},
   "outputs": [
    {
     "data": {
      "text/plain": [
       "0.7672036038751455"
      ]
     },
     "execution_count": 27,
     "metadata": {},
     "output_type": "execute_result"
    }
   ],
   "source": [
    "X_tst = test_1.drop(['SalePrice','PID'],axis=1)\n",
    "X_tst = transformer.transform(X_tst)\n",
    "X_tst = scaler.transform(X_tst)\n",
    "y_tst = np.log(test_1['SalePrice'])\n",
    "\n",
    "clf.score(X_tst,y_tst)"
   ]
  },
  {
   "cell_type": "markdown",
   "id": "d5cd772c",
   "metadata": {},
   "source": [
    "### cluster 1 train and tested only on itself"
   ]
  },
  {
   "cell_type": "code",
   "execution_count": 28,
   "id": "86217e8c",
   "metadata": {},
   "outputs": [
    {
     "name": "stdout",
     "output_type": "stream",
     "text": [
      "Performing Grid Search with alphas of: [0.0001, 0.0003, 0.0006, 0.001, 0.003, 0.006, 0.01, 0.03, 0.06, 0.1, 0.3, 0.6, 1]\n",
      "Current best alpha: 0.003\n",
      "Current best CV R2: 0.8714889105186439\n",
      "Performing Grid Search with alphas of: [0.0009 0.0012 0.0015 0.0018 0.0021 0.0024 0.0027 0.003  0.0033 0.0036\n",
      " 0.0039 0.0042 0.0045 0.0048 0.0051 0.0054 0.0057]\n",
      "Current best alpha: 0.0027\n",
      "Current best CV R2: 0.8715606275139433\n",
      "Modeling complete :)\n"
     ]
    }
   ],
   "source": [
    "clf, transformer, scaler = helper.lasso_grid_cv(train_1,cat_feats,n_jobs_ = -1)"
   ]
  },
  {
   "cell_type": "code",
   "execution_count": 29,
   "id": "2ee55006",
   "metadata": {},
   "outputs": [
    {
     "data": {
      "text/plain": [
       "0.8715606275139433"
      ]
     },
     "execution_count": 29,
     "metadata": {},
     "output_type": "execute_result"
    }
   ],
   "source": [
    "clf.best_score_"
   ]
  },
  {
   "cell_type": "code",
   "execution_count": 30,
   "id": "1b51c4d6",
   "metadata": {},
   "outputs": [
    {
     "data": {
      "text/plain": [
       "0.782570071594103"
      ]
     },
     "execution_count": 30,
     "metadata": {},
     "output_type": "execute_result"
    }
   ],
   "source": [
    "X_tst = test_1.drop(['SalePrice','PID'],axis=1)\n",
    "X_tst = transformer.transform(X_tst)\n",
    "X_tst = scaler.transform(X_tst)\n",
    "y_tst = np.log(test_1['SalePrice'])\n",
    "\n",
    "clf.score(X_tst,y_tst)"
   ]
  }
 ],
 "metadata": {
  "kernelspec": {
   "display_name": "Python 3",
   "language": "python",
   "name": "python3"
  },
  "language_info": {
   "codemirror_mode": {
    "name": "ipython",
    "version": 3
   },
   "file_extension": ".py",
   "mimetype": "text/x-python",
   "name": "python",
   "nbconvert_exporter": "python",
   "pygments_lexer": "ipython3",
   "version": "3.8.8"
  }
 },
 "nbformat": 4,
 "nbformat_minor": 5
}
