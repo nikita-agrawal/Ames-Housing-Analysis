{
 "cells": [
  {
   "cell_type": "code",
   "execution_count": 1,
   "metadata": {},
   "outputs": [],
   "source": [
    "import pandas as pd\n",
    "import numpy as np\n",
    "from sklearn.linear_model import LinearRegression\n",
    "from sklearn.pipeline import Pipeline\n",
    "from sklearn.compose import ColumnTransformer\n",
    "from sklearn.preprocessing import OneHotEncoder\n",
    "from sklearn.preprocessing import StandardScaler\n",
    "import helper"
   ]
  },
  {
   "cell_type": "code",
   "execution_count": 2,
   "metadata": {},
   "outputs": [],
   "source": [
    "# importing data\n",
    "housing = pd.read_csv('Ames_Housing_Price_Data.csv', index_col=0, low_memory = False)\n",
    "\n",
    "# data processing\n",
    "train, test = helper.data_processing_wrapper(housing, \n",
    "                                             num_to_cat_list = ['MSSubClass','MoSold'],\n",
    "                                             remove_PID = True\n",
    "                                        )"
   ]
  },
  {
   "cell_type": "code",
   "execution_count": 3,
   "metadata": {},
   "outputs": [],
   "source": [
    "categorical = train.select_dtypes(['O']).columns.to_list()"
   ]
  },
  {
   "cell_type": "code",
   "execution_count": 4,
   "metadata": {},
   "outputs": [],
   "source": [
    "train['LogSalePrice'] = np.log(train['SalePrice'])\n",
    "test['LogSalePrice'] = np.log(test['SalePrice'])"
   ]
  },
  {
   "cell_type": "code",
   "execution_count": 5,
   "metadata": {},
   "outputs": [],
   "source": [
    "X_train = train.drop(['SalePrice', 'LogSalePrice', 'TotalBsmtSF', 'GrLivArea'], axis=1)\n",
    "y_train = train['LogSalePrice']\n",
    "\n",
    "X_test = test.drop(['SalePrice', 'LogSalePrice', 'TotalBsmtSF', 'GrLivArea'], axis=1)\n",
    "y_test = test['LogSalePrice']"
   ]
  },
  {
   "cell_type": "code",
   "execution_count": 6,
   "metadata": {
    "scrolled": true
   },
   "outputs": [
    {
     "name": "stdout",
     "output_type": "stream",
     "text": [
      "The train score is 0.9581621720589614\n",
      "The test score is 0.9066004895249129\n"
     ]
    }
   ],
   "source": [
    "pipe = Pipeline([('transformer', ColumnTransformer([(\"Cat\", OneHotEncoder(handle_unknown='ignore'), categorical)], \n",
    "                                            remainder='passthrough')),\n",
    "                 ('scaler', StandardScaler(with_mean=False)),\n",
    "                 ('ols', LinearRegression())])\n",
    "\n",
    "pipe.fit(X_train, y_train)\n",
    "\n",
    "print(f'The train score is {pipe.score(X_train, y_train)}')\n",
    "print(f'The test score is {pipe.score(X_test, y_test)}')"
   ]
  }
 ],
 "metadata": {
  "kernelspec": {
   "display_name": "Python 3",
   "language": "python",
   "name": "python3"
  },
  "language_info": {
   "codemirror_mode": {
    "name": "ipython",
    "version": 3
   },
   "file_extension": ".py",
   "mimetype": "text/x-python",
   "name": "python",
   "nbconvert_exporter": "python",
   "pygments_lexer": "ipython3",
   "version": "3.8.5"
  }
 },
 "nbformat": 4,
 "nbformat_minor": 5
}
