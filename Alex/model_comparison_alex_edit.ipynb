{
 "cells": [
  {
   "cell_type": "code",
   "execution_count": 1,
   "metadata": {},
   "outputs": [],
   "source": [
    "import pandas as pd\n",
    "import numpy as np\n",
    "from sklearn import linear_model\n",
    "from sklearn.preprocessing import OneHotEncoder\n",
    "from sklearn.compose import ColumnTransformer\n",
    "import matplotlib.pyplot as plt\n",
    "import seaborn as sns\n",
    "import matplotlib.style as style\n",
    "style.use('fivethirtyeight')\n",
    "import helper\n",
    "import missingno as msno"
   ]
  },
  {
   "cell_type": "code",
   "execution_count": 2,
   "metadata": {},
   "outputs": [],
   "source": [
    "colors = [\"#FF0B04\", \"#F1BE48\",\n",
    "           \"#B9975B\", \"#8B5B29\",\n",
    "           \"#524727\",\n",
    "         ]\n",
    "sns.set_palette(sns.color_palette(colors))"
   ]
  },
  {
   "cell_type": "code",
   "execution_count": 3,
   "metadata": {
    "scrolled": false
   },
   "outputs": [],
   "source": [
    "train = pd.read_csv('train.csv', index_col=0)"
   ]
  },
  {
   "cell_type": "code",
   "execution_count": 4,
   "metadata": {},
   "outputs": [],
   "source": [
    "target = ['SalePrice']\n",
    "key = ['PID'] \n",
    "numeric = ['GrLivArea','LotFrontage','LotArea','YearBuilt','YearRemodAdd','MasVnrArea',\n",
    "           'BsmtFinSF1','BsmtFinSF2','BsmtUnfSF','TotalBsmtSF','1stFlrSF','2ndFlrSF',\n",
    "           'LowQualFinSF','GarageYrBlt','GarageArea','WoodDeckSF','OpenPorchSF',\n",
    "           'EnclosedPorch','3SsnPorch','ScreenPorch','PoolArea','MiscVal','YrSold'\n",
    "          ] \n",
    "## Let's say you wanted to classify 'YearBuilt' (for example) as ordinal. From a math point of view,\n",
    "## does it make any difference?\n",
    "numeric_to_categorical = ['MSSubClass','MoSold']\n",
    "\n",
    "## Had to remove 'MasVnrType','Electrical','RoofMatl', 'Exterior1st','Exterior2nd', 'Utilities'\n",
    "## because they get dropped later and am running these categorical through\n",
    "## OneHotEncoder\n",
    "categorical = ['MSZoning','Street','Alley','LotShape','LandContour','LotConfig',\n",
    "               'LandSlope','Neighborhood','Condition1','Condition2','BldgType','HouseStyle',\n",
    "               'RoofStyle','Foundation', 'BsmtFinType1','BsmtFinType2','Heating','GarageType',\n",
    "               'GarageFinish','PavedDrive','MiscFeature','SaleType','SaleCondition',\n",
    "               'BedroomAbvGr', 'CentralAir'\n",
    "              ]\n",
    "## Moved 'BedroomAbvGr' to categorical for one-hot encoding. Moved 'CentralAir' to categorical because\n",
    "## although binary was currently encoded as Y/N.\n",
    "    \n",
    "cat_ordinal = [\n",
    "               'OverallQual','OverallCond', # numeric?\n",
    "               'ExterQual','ExterCond', # {'Po':1,'Fa':2,'TA':3,'Gd':4,'Ex':5}\n",
    "               'BsmtQual','BsmtCond', # {'Po':1,'Fa':2,'TA':3,'Gd':4,'Ex':5}\n",
    "               'BsmtExposure', # {'No':1,'Mn':2,'Av':3,'Gd':4}\n",
    "               'HeatingQC', # {'Po':1,'Fa':2,'TA':3,'Gd':4,'Ex':5}\n",
    "               'BsmtFullBath','BsmtHalfBath', # numeric?\n",
    "               'FullBath','HalfBath', # numeric?\n",
    "               'KitchenAbvGr', # numeric?\n",
    "               'KitchenQual', # {'Po':1,'Fa':2,'TA':3,'Gd':4,'Ex':5}\n",
    "               'TotRmsAbvGrd', # numeric?\n",
    "               'Functional', # {'Sal':1,'Sev':2,'Maj2':3,'Maj1':4,\n",
    "                             #  'Mod':5,'Min2':6,'Min1':7,'Typ':8}\n",
    "               'Fireplaces', # numeric?\n",
    "               'FireplaceQu', # {'Po':1,'Fa':2,'TA':3,'Gd':4,'Ex':5}\n",
    "               'GarageCars', # numeric?\n",
    "               'GarageQual', # {'Po':1,'Fa':2,'TA':3,'Gd':4,'Ex':5}\n",
    "               'GarageCond', # {'Po':1,'Fa':2,'TA':3,'Gd':4,'Ex':5}\n",
    "               'PoolQC', # {'Fa':1,'TA':2,'Gd':3,'Ex':4}\n",
    "               'Fence' #{'MnWw':1,'GdWo':2,'MnPrv':3,'GdPrv':4}\n",
    "               ]"
   ]
  },
  {
   "cell_type": "markdown",
   "metadata": {},
   "source": [
    "## train cleaning"
   ]
  },
  {
   "cell_type": "code",
   "execution_count": 5,
   "metadata": {},
   "outputs": [],
   "source": [
    "# converting all similar mappings together\n",
    "# most popular mapping\n",
    "\n",
    "## There is some imputing hidden in the convert_cat_ordinal function.\n",
    "\n",
    "cat_ordinal_features = [\n",
    "    'GarageQual','GarageCond',\n",
    "    'FireplaceQu',\n",
    "    'KitchenQual',\n",
    "    'ExterQual','ExterCond',\n",
    "    'BsmtQual','BsmtCond',\n",
    "    'HeatingQC'\n",
    "    ]\n",
    "cat_ordinal_dict = {'Po':1,'Fa':2,'TA':3,'Gd':4,'Ex':5}\n",
    "train = helper.convert_cat_ordinal_vars_to_num(train,\n",
    "                                               cat_ordinal_features,\n",
    "                                               cat_ordinal_dict)\n",
    "# now just unique mappings\n",
    "# BsmtExposure\n",
    "cat_ordinal_features = [\n",
    "    'BsmtExposure'\n",
    "]\n",
    "cat_ordinal_dict = {'No':1,'Mn':2,'Av':3,'Gd':4}\n",
    "train = helper.convert_cat_ordinal_vars_to_num(train,\n",
    "                                               cat_ordinal_features,\n",
    "                                               cat_ordinal_dict)\n",
    "# Functional\n",
    "cat_ordinal_features = [\n",
    "    'Functional'\n",
    "]\n",
    "cat_ordinal_dict = {'Sal':1,'Sev':2,'Maj2':3,'Maj1':4,\n",
    "                    'Mod':5,'Min2':6,'Min1':7,'Typ':8}\n",
    "train = helper.convert_cat_ordinal_vars_to_num(train,\n",
    "                                               cat_ordinal_features,\n",
    "                                               cat_ordinal_dict)\n",
    "# PoolQC\n",
    "cat_ordinal_features = [\n",
    "    'PoolQC'\n",
    "]\n",
    "cat_ordinal_dict = {'Fa':1,'TA':2,'Gd':3,'Ex':4}\n",
    "train = helper.convert_cat_ordinal_vars_to_num(train,\n",
    "                                               cat_ordinal_features,\n",
    "                                               cat_ordinal_dict)\n",
    "# Fence\n",
    "cat_ordinal_features = [\n",
    "    'Fence'\n",
    "]\n",
    "cat_ordinal_dict = {'MnWw':1,'GdWo':2,'MnPrv':3,'GdPrv':4}\n",
    "train = helper.convert_cat_ordinal_vars_to_num(train,\n",
    "                                               cat_ordinal_features,\n",
    "                                               cat_ordinal_dict)"
   ]
  },
  {
   "cell_type": "code",
   "execution_count": 6,
   "metadata": {
    "scrolled": true
   },
   "outputs": [],
   "source": [
    "LotFrontage_dict = {'1Fam':0.7139, 'TwnhsE':0.5849, 'Twnhs':0.5227, 'Duplex':0.7725, '2fmCon':0.6922}"
   ]
  },
  {
   "cell_type": "code",
   "execution_count": 7,
   "metadata": {
    "scrolled": true
   },
   "outputs": [],
   "source": [
    "train.loc[train['LotFrontage'].isna(), 'LotFrontage'] = train.loc[train['LotFrontage'].isna(), :].apply(\n",
    "    lambda x: LotFrontage_dict[x['BldgType']]*np.sqrt(x['LotArea']), axis=1\n",
    ")"
   ]
  },
  {
   "cell_type": "code",
   "execution_count": 8,
   "metadata": {},
   "outputs": [],
   "source": [
    "## Removed 'LotFrontage' from here. Imputed above. Added Electrical here because there was NA in test.\n",
    "## Also 'RoofMatl' because of 'Roll' in test.\n",
    "## Also 'Exterior1st', 'Exterior2nd'\n",
    "# weirdest nas. lot frontage. probably worth removing\n",
    "# not dealing with them out of expediance. \n",
    "drop_now_but_look_at_later = ['MasVnrArea','GarageYrBlt','MasVnrType', 'Electrical', 'RoofMatl', \n",
    "                              'Exterior1st', 'Exterior2nd', 'Utilities']\n",
    "train.drop(drop_now_but_look_at_later, axis=1,inplace = True)"
   ]
  },
  {
   "cell_type": "code",
   "execution_count": 9,
   "metadata": {},
   "outputs": [],
   "source": [
    "na_none_features = ['MiscFeature','Alley','BsmtFinType1','BsmtFinType2',\n",
    "                   'GarageFinish','GarageType']\n",
    "for na_none_feature in na_none_features:\n",
    "    train[na_none_feature] = train[na_none_feature].fillna(value = 'None')"
   ]
  },
  {
   "cell_type": "code",
   "execution_count": 10,
   "metadata": {},
   "outputs": [],
   "source": [
    "## Think there was a typo here.\n",
    "na_zero_features = ['BsmtFullBath','BsmtHalfBath','BsmtFinSF1','BsmtFinSF2','BsmtUnfSF','TotalBsmtSF']\n",
    "for na_zero_feature in na_zero_features:\n",
    "    train[na_zero_feature] = train[na_zero_feature].fillna(value = 0)"
   ]
  },
  {
   "cell_type": "code",
   "execution_count": 11,
   "metadata": {},
   "outputs": [
    {
     "data": {
      "text/plain": [
       "[]"
      ]
     },
     "execution_count": 11,
     "metadata": {},
     "output_type": "execute_result"
    }
   ],
   "source": [
    "cols_na = train.loc[:,train.isna().any(axis=0)].columns.to_list()\n",
    "cols_na"
   ]
  },
  {
   "cell_type": "code",
   "execution_count": 12,
   "metadata": {},
   "outputs": [],
   "source": [
    "X = train.drop('SalePrice',axis=1)\n",
    "transformer = ColumnTransformer([(\"Cat\", OneHotEncoder(drop='first'), categorical)], remainder='passthrough')\n",
    "X = transformer.fit_transform(X)"
   ]
  },
  {
   "cell_type": "code",
   "execution_count": 13,
   "metadata": {},
   "outputs": [],
   "source": [
    "y = np.log(train['SalePrice'])"
   ]
  },
  {
   "cell_type": "code",
   "execution_count": 14,
   "metadata": {},
   "outputs": [],
   "source": [
    "ols = linear_model.LinearRegression()"
   ]
  },
  {
   "cell_type": "code",
   "execution_count": 15,
   "metadata": {},
   "outputs": [
    {
     "data": {
      "text/plain": [
       "0.9531732835572826"
      ]
     },
     "execution_count": 15,
     "metadata": {},
     "output_type": "execute_result"
    }
   ],
   "source": [
    "ols.fit(X, y)\n",
    "ols.score(X, y)"
   ]
  },
  {
   "cell_type": "markdown",
   "metadata": {},
   "source": [
    "## test clean"
   ]
  },
  {
   "cell_type": "code",
   "execution_count": 16,
   "metadata": {},
   "outputs": [],
   "source": [
    "test = pd.read_csv('test.csv', index_col=0)"
   ]
  },
  {
   "cell_type": "code",
   "execution_count": 17,
   "metadata": {},
   "outputs": [],
   "source": [
    "# converting all similar mappings together\n",
    "# most popular mapping\n",
    "cat_ordinal_features = [\n",
    "    'GarageQual','GarageCond',\n",
    "    'FireplaceQu',\n",
    "    'KitchenQual',\n",
    "    'ExterQual','ExterCond',\n",
    "    'BsmtQual','BsmtCond',\n",
    "    'HeatingQC'\n",
    "    ]\n",
    "cat_ordinal_dict = {'Po':1,'Fa':2,'TA':3,'Gd':4,'Ex':5}\n",
    "test = helper.convert_cat_ordinal_vars_to_num(test,\n",
    "                                               cat_ordinal_features,\n",
    "                                               cat_ordinal_dict)\n",
    "# now just unique mappings\n",
    "# BsmtExposure\n",
    "cat_ordinal_features = [\n",
    "    'BsmtExposure'\n",
    "]\n",
    "cat_ordinal_dict = {'No':1,'Mn':2,'Av':3,'Gd':4}\n",
    "test = helper.convert_cat_ordinal_vars_to_num(test,\n",
    "                                               cat_ordinal_features,\n",
    "                                               cat_ordinal_dict)\n",
    "# Functional\n",
    "cat_ordinal_features = [\n",
    "    'Functional'\n",
    "]\n",
    "cat_ordinal_dict = {'Sal':1,'Sev':2,'Maj2':3,'Maj1':4,\n",
    "                    'Mod':5,'Min2':6,'Min1':7,'Typ':8}\n",
    "test = helper.convert_cat_ordinal_vars_to_num(test,\n",
    "                                               cat_ordinal_features,\n",
    "                                               cat_ordinal_dict)\n",
    "# PoolQC\n",
    "cat_ordinal_features = [\n",
    "    'PoolQC'\n",
    "]\n",
    "cat_ordinal_dict = {'Fa':1,'TA':2,'Gd':3,'Ex':4}\n",
    "test = helper.convert_cat_ordinal_vars_to_num(test,\n",
    "                                               cat_ordinal_features,\n",
    "                                               cat_ordinal_dict)\n",
    "# Fence\n",
    "cat_ordinal_features = [\n",
    "    'Fence'\n",
    "]\n",
    "cat_ordinal_dict = {'MnWw':1,'GdWo':2,'MnPrv':3,'GdPrv':4}\n",
    "test = helper.convert_cat_ordinal_vars_to_num(test,\n",
    "                                               cat_ordinal_features,\n",
    "                                               cat_ordinal_dict)"
   ]
  },
  {
   "cell_type": "code",
   "execution_count": 18,
   "metadata": {
    "scrolled": true
   },
   "outputs": [],
   "source": [
    "test.loc[test['LotFrontage'].isna(), 'LotFrontage'] = test.loc[test['LotFrontage'].isna(), :].apply(\n",
    "    lambda x: LotFrontage_dict[x['BldgType']]*np.sqrt(x['LotArea']), axis=1\n",
    ")"
   ]
  },
  {
   "cell_type": "code",
   "execution_count": 19,
   "metadata": {},
   "outputs": [],
   "source": [
    "## LotFrontage now dealt with above. Had to add 'Electrical', 'RoofMatl'.\n",
    "\n",
    "# weirdest nas. lot frontage. probably worth removing\n",
    "# not dealing with them out of expediance. \n",
    "drop_now_but_look_at_later = ['MasVnrArea','GarageYrBlt','MasVnrType', 'Electrical', 'RoofMatl', \n",
    "                              'Exterior1st', 'Exterior2nd', 'Utilities']\n",
    "test.drop(drop_now_but_look_at_later, axis=1,inplace = True)"
   ]
  },
  {
   "cell_type": "code",
   "execution_count": 20,
   "metadata": {},
   "outputs": [],
   "source": [
    "na_none_features = ['MiscFeature','Alley','BsmtFinType1','BsmtFinType2',\n",
    "                   'GarageFinish','GarageType']\n",
    "for na_none_feature in na_none_features:\n",
    "    test[na_none_feature] = test[na_none_feature].fillna(value = 'None')"
   ]
  },
  {
   "cell_type": "code",
   "execution_count": 21,
   "metadata": {},
   "outputs": [],
   "source": [
    "## Typo similar to train?\n",
    "na_zero_features = ['BsmtFullBath','BsmtHalfBath','BsmtFinSF1','BsmtFinSF2','BsmtUnfSF','TotalBsmtSF']\n",
    "for na_zero_feature in na_zero_features:\n",
    "    test[na_zero_feature] = test[na_zero_feature].fillna(value = 0)"
   ]
  },
  {
   "cell_type": "code",
   "execution_count": 22,
   "metadata": {},
   "outputs": [
    {
     "data": {
      "text/plain": [
       "[]"
      ]
     },
     "execution_count": 22,
     "metadata": {},
     "output_type": "execute_result"
    }
   ],
   "source": [
    "cols_na = test.loc[:,test.isna().any(axis=0)].columns.to_list()\n",
    "cols_na"
   ]
  },
  {
   "cell_type": "code",
   "execution_count": 23,
   "metadata": {
    "scrolled": true
   },
   "outputs": [],
   "source": [
    "X_tst = test.drop('SalePrice',axis=1)\n",
    "X_tst = transformer.transform(X_tst)"
   ]
  },
  {
   "cell_type": "code",
   "execution_count": 24,
   "metadata": {},
   "outputs": [],
   "source": [
    "y_tst = np.log(test['SalePrice'])"
   ]
  },
  {
   "cell_type": "code",
   "execution_count": 25,
   "metadata": {},
   "outputs": [
    {
     "data": {
      "text/plain": [
       "0.9533403078902463"
      ]
     },
     "execution_count": 25,
     "metadata": {},
     "output_type": "execute_result"
    }
   ],
   "source": [
    "ols.fit(X_tst, y_tst)\n",
    "ols.score(X_tst, y_tst)"
   ]
  }
 ],
 "metadata": {
  "kernelspec": {
   "display_name": "Python 3",
   "language": "python",
   "name": "python3"
  },
  "language_info": {
   "codemirror_mode": {
    "name": "ipython",
    "version": 3
   },
   "file_extension": ".py",
   "mimetype": "text/x-python",
   "name": "python",
   "nbconvert_exporter": "python",
   "pygments_lexer": "ipython3",
   "version": "3.8.5"
  }
 },
 "nbformat": 4,
 "nbformat_minor": 5
}
