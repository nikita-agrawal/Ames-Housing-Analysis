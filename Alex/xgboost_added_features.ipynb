{
 "cells": [
  {
   "cell_type": "code",
   "execution_count": 50,
   "metadata": {},
   "outputs": [],
   "source": [
    "import pandas as pd\n",
    "import numpy as np\n",
    "from sklearn import linear_model\n",
    "from sklearn.linear_model import LinearRegression\n",
    "from sklearn.linear_model import Ridge\n",
    "from sklearn.linear_model import Lasso\n",
    "from sklearn.preprocessing import OneHotEncoder\n",
    "from sklearn.preprocessing import OrdinalEncoder\n",
    "from sklearn.compose import ColumnTransformer\n",
    "from sklearn.cluster import KMeans\n",
    "from sklearn.metrics import silhouette_samples, silhouette_score\n",
    "from sklearn.preprocessing import StandardScaler\n",
    "from sklearn.feature_selection import SelectFromModel\n",
    "from sklearn.model_selection import ShuffleSplit\n",
    "from sklearn.model_selection import cross_val_score\n",
    "from sklearn.model_selection import RepeatedKFold\n",
    "from sklearn.model_selection import KFold\n",
    "from sklearn.model_selection import GridSearchCV\n",
    "from sklearn.metrics import r2_score\n",
    "import xgboost as xgb\n",
    "from bayes_opt import BayesianOptimization\n",
    "import matplotlib.pyplot as plt\n",
    "import matplotlib.cm as cm\n",
    "import seaborn as sns\n",
    "import matplotlib.style as style\n",
    "style.use('fivethirtyeight')\n",
    "import helper"
   ]
  },
  {
   "cell_type": "code",
   "execution_count": 2,
   "metadata": {},
   "outputs": [],
   "source": [
    "colors = [\"#FF0B04\", \"#F1BE48\",\n",
    "           \"#B9975B\", \"#8B5B29\",\n",
    "           \"#524727\",\n",
    "         ]\n",
    "sns.set_palette(sns.color_palette(colors))"
   ]
  },
  {
   "cell_type": "code",
   "execution_count": 3,
   "metadata": {},
   "outputs": [],
   "source": [
    "# importing data\n",
    "housing = pd.read_csv('Ames_Housing_Price_Data.csv', index_col=0,low_memory = False)\n",
    "# data processing\n",
    "train, test = helper.data_processing_wrapper(housing,\n",
    "                                               num_to_cat_list = ['MSSubClass','MoSold'],\n",
    "                                             remove_PID = False\n",
    "                                        )\n",
    "\n",
    "# feature engineering wrapper\n",
    "train, test = helper.feature_engineering_wrapper(train, test)\n",
    "\n",
    "# importing school feature\n",
    "schools = pd.read_csv('schoolFeatures.csv',index_col = 0)\n",
    "school_keep = [\n",
    "    'PID',\n",
    "    'closestSchool'\n",
    "]\n",
    "schools = schools[school_keep]\n",
    "\n",
    "# merge school feature onto original data set.\n",
    "train = train.merge(schools, how = 'left', left_on = 'PID', right_on = 'PID')\n",
    "test = test.merge(schools, how = 'left', left_on = 'PID', right_on = 'PID')\n",
    "\n",
    "train = train.dropna(subset=['closestSchool'])\n",
    "train = train.reset_index(drop=True)\n",
    "\n",
    "test = test.dropna(subset=['closestSchool'])\n",
    "test = test.reset_index(drop=True)"
   ]
  },
  {
   "cell_type": "code",
   "execution_count": 4,
   "metadata": {},
   "outputs": [],
   "source": [
    "train_raw = train.copy()\n",
    "test_raw = test.copy()\n",
    "\n",
    "X_train = train_raw.drop(['SalePrice','PID'],axis='columns')\n",
    "y_train = np.log(train_raw['SalePrice'])\n",
    "X_test = test_raw.drop(['SalePrice','PID'],axis='columns')\n",
    "y_test = np.log(test_raw['SalePrice'])"
   ]
  },
  {
   "cell_type": "code",
   "execution_count": 5,
   "metadata": {},
   "outputs": [],
   "source": [
    "categorical = train.select_dtypes(['object','bool']).columns.to_list()"
   ]
  },
  {
   "cell_type": "markdown",
   "metadata": {},
   "source": [
    "# XGBoost without Bayesian optimization (OneHotEncoder)"
   ]
  },
  {
   "cell_type": "code",
   "execution_count": 7,
   "metadata": {},
   "outputs": [
    {
     "name": "stdout",
     "output_type": "stream",
     "text": [
      "R2 mean: 0.922 (R2 sd: 0.010)\n",
      "RMSE mean: 0.106 (RMSE sd: 0.005)\n"
     ]
    }
   ],
   "source": [
    "transformer = ColumnTransformer([(\"Cat\", OneHotEncoder(handle_unknown = 'ignore'), categorical)], \n",
    "                                remainder='passthrough')\n",
    "\n",
    "X = transformer.fit_transform(X_train)\n",
    "y = y_train\n",
    "\n",
    "boost = xgb.XGBRegressor()\n",
    "\n",
    "cv = RepeatedKFold(n_splits=4, n_repeats=5, random_state=42)\n",
    "\n",
    "scores0 = cross_val_score(boost, X, y, scoring='r2', cv=cv, n_jobs=-1)\n",
    "scores1 = cross_val_score(boost, X, y, scoring='neg_root_mean_squared_error', cv=cv, n_jobs=-1)\n",
    "\n",
    "scores1 = abs(scores1)\n",
    "\n",
    "print('R2 mean: %.3f (R2 sd: %.3f)' % (scores0.mean(), scores0.std()))\n",
    "print('RMSE mean: %.3f (RMSE sd: %.3f)' % (scores1.mean(), scores1.std()))"
   ]
  },
  {
   "cell_type": "code",
   "execution_count": 8,
   "metadata": {},
   "outputs": [
    {
     "data": {
      "text/plain": [
       "GridSearchCV(cv=RepeatedKFold(n_repeats=5, n_splits=4, random_state=42),\n",
       "             estimator=XGBRegressor(base_score=None, booster=None,\n",
       "                                    colsample_bylevel=None,\n",
       "                                    colsample_bynode=None,\n",
       "                                    colsample_bytree=None, gamma=None,\n",
       "                                    gpu_id=None, importance_type='gain',\n",
       "                                    interaction_constraints=None,\n",
       "                                    learning_rate=None, max_delta_step=None,\n",
       "                                    max_depth=None, min_child_weight=None,\n",
       "                                    missing=nan, monotone_constraints=None,\n",
       "                                    n_estimators=100, n_jobs=None,\n",
       "                                    num_parallel_tree=None, random_state=None,\n",
       "                                    reg_alpha=None, reg_lambda=None,\n",
       "                                    scale_pos_weight=None, subsample=None,\n",
       "                                    tree_method=None, validate_parameters=None,\n",
       "                                    verbosity=None),\n",
       "             n_jobs=-1,\n",
       "             param_grid={'eta': [0.1, 0.3, 0.5], 'max_depth': [20, 50],\n",
       "                         'n_estimators': [1, 10, 100]},\n",
       "             scoring='r2')"
      ]
     },
     "execution_count": 8,
     "metadata": {},
     "output_type": "execute_result"
    }
   ],
   "source": [
    "transformer = ColumnTransformer([(\"Cat\", OneHotEncoder(handle_unknown = 'ignore'), categorical)], \n",
    "                                remainder='passthrough')\n",
    "\n",
    "X = transformer.fit_transform(X_train)\n",
    "y = y_train\n",
    "\n",
    "boost = xgb.XGBRegressor()\n",
    "\n",
    "param_grid = {\n",
    "    'n_estimators':[1,10,100],\n",
    "    'max_depth':[20,50],\n",
    "    'eta':[0.1,0.3,0.5]\n",
    "}\n",
    "\n",
    "cv = RepeatedKFold(n_splits=4, n_repeats=5, random_state=42)\n",
    "\n",
    "grid = GridSearchCV(boost, param_grid, scoring='r2', cv=cv, n_jobs=-1)\n",
    "\n",
    "grid.fit(X,y)"
   ]
  },
  {
   "cell_type": "code",
   "execution_count": 9,
   "metadata": {},
   "outputs": [
    {
     "data": {
      "text/plain": [
       "array([-7.50105689e+02, -1.12426350e+02,  9.30484861e-01, -7.50105689e+02,\n",
       "       -1.12426350e+02,  9.29670915e-01, -4.53980027e+02,  1.06522988e-01,\n",
       "        9.10997924e-01, -4.53980027e+02,  1.06522988e-01,  9.10551285e-01,\n",
       "       -2.31817926e+02,  8.84795615e-01,  8.89527814e-01, -2.31817926e+02,\n",
       "        8.84538672e-01,  8.88787510e-01])"
      ]
     },
     "execution_count": 9,
     "metadata": {},
     "output_type": "execute_result"
    }
   ],
   "source": [
    "grid.cv_results_['mean_test_score']"
   ]
  },
  {
   "cell_type": "code",
   "execution_count": 10,
   "metadata": {
    "scrolled": true
   },
   "outputs": [
    {
     "name": "stdout",
     "output_type": "stream",
     "text": [
      "0.9304848609458374\n",
      "{'eta': 0.1, 'max_depth': 20, 'n_estimators': 100}\n"
     ]
    }
   ],
   "source": [
    "print(grid.best_score_)\n",
    "print(grid.best_params_)"
   ]
  },
  {
   "cell_type": "code",
   "execution_count": 13,
   "metadata": {
    "scrolled": true
   },
   "outputs": [
    {
     "data": {
      "text/plain": [
       "[0.9266094732669216,\n",
       " 0.925089886701356,\n",
       " 0.9367783628307563,\n",
       " 0.9350228257994281,\n",
       " 0.931905393955254,\n",
       " 0.924291910720867,\n",
       " 0.9390481513818065,\n",
       " 0.928715176330204,\n",
       " 0.9278364755762685,\n",
       " 0.93738961631268,\n",
       " 0.9349303235003271,\n",
       " 0.930556154633325,\n",
       " 0.9256630413554444,\n",
       " 0.9400218219750167,\n",
       " 0.9323589550484906,\n",
       " 0.9114086982332865,\n",
       " 0.9254541323572523,\n",
       " 0.9386657643149838,\n",
       " 0.9295163009874403,\n",
       " 0.9284347536356401]"
      ]
     },
     "execution_count": 13,
     "metadata": {},
     "output_type": "execute_result"
    }
   ],
   "source": [
    "split_scores_best_params = [grid.cv_results_[f'split{j}_test_score'][grid.best_index_] for j in range(20)]\n",
    "split_scores_best_params"
   ]
  },
  {
   "cell_type": "code",
   "execution_count": 14,
   "metadata": {},
   "outputs": [
    {
     "data": {
      "text/plain": [
       "0.9304848609458374"
      ]
     },
     "execution_count": 14,
     "metadata": {},
     "output_type": "execute_result"
    }
   ],
   "source": [
    "np.mean(split_scores_best_params)"
   ]
  },
  {
   "cell_type": "code",
   "execution_count": 16,
   "metadata": {},
   "outputs": [
    {
     "data": {
      "text/plain": [
       "0.9999628571398433"
      ]
     },
     "execution_count": 16,
     "metadata": {},
     "output_type": "execute_result"
    }
   ],
   "source": [
    "grid.score(X, y)"
   ]
  },
  {
   "cell_type": "code",
   "execution_count": 17,
   "metadata": {},
   "outputs": [
    {
     "data": {
      "text/plain": [
       "0.917702155202159"
      ]
     },
     "execution_count": 17,
     "metadata": {},
     "output_type": "execute_result"
    }
   ],
   "source": [
    "X = transformer.transform(X_test)\n",
    "y = y_test\n",
    "grid.score(X, y)"
   ]
  },
  {
   "cell_type": "markdown",
   "metadata": {},
   "source": [
    "# XGBoost without Bayesian optimization (OrdinalEncoder)"
   ]
  },
  {
   "cell_type": "code",
   "execution_count": 19,
   "metadata": {},
   "outputs": [
    {
     "name": "stdout",
     "output_type": "stream",
     "text": [
      "R2 mean: 0.922 (R2 sd: 0.007)\n",
      "RMSE mean: 0.105 (RMSE sd: 0.004)\n"
     ]
    }
   ],
   "source": [
    "transformer = ColumnTransformer([(\"Cat\", OrdinalEncoder(), categorical)], \n",
    "                                remainder='passthrough')\n",
    "\n",
    "X = transformer.fit_transform(X_train)\n",
    "y = y_train\n",
    "\n",
    "boost = xgb.XGBRegressor()\n",
    "\n",
    "cv = RepeatedKFold(n_splits=4, n_repeats=5, random_state=42)\n",
    "\n",
    "scores0 = cross_val_score(boost, X, y, scoring='r2', cv=cv, n_jobs=-1)\n",
    "scores1 = cross_val_score(boost, X, y, scoring='neg_root_mean_squared_error', cv=cv, n_jobs=-1)\n",
    "\n",
    "scores1 = abs(scores1)\n",
    "\n",
    "print('R2 mean: %.3f (R2 sd: %.3f)' % (scores0.mean(), scores0.std()))\n",
    "print('RMSE mean: %.3f (RMSE sd: %.3f)' % (scores1.mean(), scores1.std()))"
   ]
  },
  {
   "cell_type": "code",
   "execution_count": 28,
   "metadata": {},
   "outputs": [
    {
     "data": {
      "text/plain": [
       "GridSearchCV(cv=RepeatedKFold(n_repeats=5, n_splits=4, random_state=42),\n",
       "             estimator=XGBRegressor(base_score=None, booster=None,\n",
       "                                    colsample_bylevel=None,\n",
       "                                    colsample_bynode=None,\n",
       "                                    colsample_bytree=None, gamma=None,\n",
       "                                    gpu_id=None, importance_type='gain',\n",
       "                                    interaction_constraints=None,\n",
       "                                    learning_rate=None, max_delta_step=None,\n",
       "                                    max_depth=None, min_child_weight=None,\n",
       "                                    missing=nan, monotone_constraints=None,\n",
       "                                    n_estimators=100, n_jobs=None,\n",
       "                                    num_parallel_tree=None, random_state=None,\n",
       "                                    reg_alpha=None, reg_lambda=None,\n",
       "                                    scale_pos_weight=None, subsample=None,\n",
       "                                    tree_method=None, validate_parameters=None,\n",
       "                                    verbosity=None),\n",
       "             n_jobs=-1,\n",
       "             param_grid={'eta': [0.1, 0.3, 0.5], 'max_depth': [20, 50],\n",
       "                         'n_estimators': [1, 10, 100]},\n",
       "             scoring='r2')"
      ]
     },
     "execution_count": 28,
     "metadata": {},
     "output_type": "execute_result"
    }
   ],
   "source": [
    "transformer = ColumnTransformer([(\"Cat\", OrdinalEncoder(handle_unknown='use_encoded_value', unknown_value=np.nan), categorical)], \n",
    "                                remainder='passthrough')\n",
    "\n",
    "X = transformer.fit_transform(X_train)\n",
    "y = y_train\n",
    "\n",
    "boost = xgb.XGBRegressor()\n",
    "\n",
    "param_grid = {\n",
    "    'n_estimators':[1,10,100],\n",
    "    'max_depth':[20,50],\n",
    "    'eta':[0.1,0.3,0.5]\n",
    "}\n",
    "\n",
    "cv = RepeatedKFold(n_splits=4, n_repeats=5, random_state=42)\n",
    "\n",
    "grid = GridSearchCV(boost, param_grid, scoring='r2', cv=cv, n_jobs=-1)\n",
    "\n",
    "grid.fit(X,y)"
   ]
  },
  {
   "cell_type": "code",
   "execution_count": 29,
   "metadata": {},
   "outputs": [
    {
     "data": {
      "text/plain": [
       "array([-7.50105689e+02, -1.12426350e+02,  9.30520471e-01, -7.50105689e+02,\n",
       "       -1.12426350e+02,  9.30222396e-01, -4.53980027e+02,  1.08390614e-01,\n",
       "        9.10748454e-01, -4.53980027e+02,  1.08390614e-01,  9.10117497e-01,\n",
       "       -2.31817926e+02,  8.83535228e-01,  8.88583313e-01, -2.31817926e+02,\n",
       "        8.83013537e-01,  8.88483969e-01])"
      ]
     },
     "execution_count": 29,
     "metadata": {},
     "output_type": "execute_result"
    }
   ],
   "source": [
    "grid.cv_results_['mean_test_score']"
   ]
  },
  {
   "cell_type": "code",
   "execution_count": 30,
   "metadata": {
    "scrolled": true
   },
   "outputs": [
    {
     "name": "stdout",
     "output_type": "stream",
     "text": [
      "0.9305204707917465\n",
      "{'eta': 0.1, 'max_depth': 20, 'n_estimators': 100}\n"
     ]
    }
   ],
   "source": [
    "print(grid.best_score_)\n",
    "print(grid.best_params_)"
   ]
  },
  {
   "cell_type": "code",
   "execution_count": 31,
   "metadata": {
    "scrolled": true
   },
   "outputs": [
    {
     "data": {
      "text/plain": [
       "[0.9265817339741325,\n",
       " 0.9237718138392742,\n",
       " 0.9398831615418026,\n",
       " 0.9370476680173376,\n",
       " 0.9285377837231272,\n",
       " 0.9274072439206237,\n",
       " 0.9403541504010273,\n",
       " 0.9293170803093198,\n",
       " 0.9261413240532121,\n",
       " 0.9354011956047735,\n",
       " 0.9384689028196186,\n",
       " 0.9277287444140184,\n",
       " 0.9238587546919652,\n",
       " 0.9415214193446647,\n",
       " 0.930387606686341,\n",
       " 0.9142584857194735,\n",
       " 0.9238715647013296,\n",
       " 0.9394484547849568,\n",
       " 0.9312522684814525,\n",
       " 0.9251700588064814]"
      ]
     },
     "execution_count": 31,
     "metadata": {},
     "output_type": "execute_result"
    }
   ],
   "source": [
    "split_scores_best_params = [grid.cv_results_[f'split{j}_test_score'][grid.best_index_] for j in range(20)]\n",
    "split_scores_best_params"
   ]
  },
  {
   "cell_type": "code",
   "execution_count": 32,
   "metadata": {},
   "outputs": [
    {
     "data": {
      "text/plain": [
       "0.9305204707917465"
      ]
     },
     "execution_count": 32,
     "metadata": {},
     "output_type": "execute_result"
    }
   ],
   "source": [
    "np.mean(split_scores_best_params)"
   ]
  },
  {
   "cell_type": "code",
   "execution_count": 33,
   "metadata": {},
   "outputs": [
    {
     "data": {
      "text/plain": [
       "0.9999658058887606"
      ]
     },
     "execution_count": 33,
     "metadata": {},
     "output_type": "execute_result"
    }
   ],
   "source": [
    "grid.score(X, y)"
   ]
  },
  {
   "cell_type": "code",
   "execution_count": 34,
   "metadata": {},
   "outputs": [
    {
     "data": {
      "text/plain": [
       "0.9179438632948476"
      ]
     },
     "execution_count": 34,
     "metadata": {},
     "output_type": "execute_result"
    }
   ],
   "source": [
    "X = transformer.transform(X_test)\n",
    "y = y_test\n",
    "grid.score(X, y)"
   ]
  },
  {
   "cell_type": "markdown",
   "metadata": {},
   "source": [
    "# XGBoost with Bayesian Optimization (OneHotEncoder)"
   ]
  },
  {
   "cell_type": "code",
   "execution_count": 35,
   "metadata": {},
   "outputs": [],
   "source": [
    "xgb.set_config(verbosity=0)"
   ]
  },
  {
   "cell_type": "code",
   "execution_count": 36,
   "metadata": {},
   "outputs": [],
   "source": [
    "def bo_tune_xgb(max_depth, gamma, n_estimators, learning_rate):\n",
    "    params = {'max_depth':int(max_depth), \n",
    "              'gamma':gamma, \n",
    "             'n_estimators':int(n_estimators), \n",
    "             'learning_rate':learning_rate,\n",
    "             'subsample': 0.8,\n",
    "             'eta':0.1,\n",
    "             'eval_metric':'rmse'}\n",
    "    cv_result = xgb.cv(params, dtrain, nfold=5, seed=42)\n",
    "    return -1.0 * cv_result['test-rmse-mean'].iloc[-1]"
   ]
  },
  {
   "cell_type": "code",
   "execution_count": 37,
   "metadata": {},
   "outputs": [
    {
     "name": "stdout",
     "output_type": "stream",
     "text": [
      "|   iter    |  target   |   gamma   | learni... | max_depth | n_esti... |\n",
      "-------------------------------------------------------------------------\n",
      "| \u001b[0m 1       \u001b[0m | \u001b[0m-0.1466  \u001b[0m | \u001b[0m 0.3745  \u001b[0m | \u001b[0m 0.9507  \u001b[0m | \u001b[0m 8.124   \u001b[0m | \u001b[0m 112.0   \u001b[0m |\n",
      "| \u001b[0m 2       \u001b[0m | \u001b[0m-2.133   \u001b[0m | \u001b[0m 0.156   \u001b[0m | \u001b[0m 0.156   \u001b[0m | \u001b[0m 3.407   \u001b[0m | \u001b[0m 117.3   \u001b[0m |\n",
      "| \u001b[95m 3       \u001b[0m | \u001b[95m-0.1416  \u001b[0m | \u001b[95m 0.6011  \u001b[0m | \u001b[95m 0.7081  \u001b[0m | \u001b[95m 3.144   \u001b[0m | \u001b[95m 119.4   \u001b[0m |\n",
      "| \u001b[0m 4       \u001b[0m | \u001b[0m-1.082   \u001b[0m | \u001b[0m 0.8324  \u001b[0m | \u001b[0m 0.2123  \u001b[0m | \u001b[0m 4.273   \u001b[0m | \u001b[0m 103.7   \u001b[0m |\n",
      "| \u001b[95m 5       \u001b[0m | \u001b[95m-0.129   \u001b[0m | \u001b[95m 0.3042  \u001b[0m | \u001b[95m 0.5248  \u001b[0m | \u001b[95m 6.024   \u001b[0m | \u001b[95m 105.8   \u001b[0m |\n",
      "| \u001b[0m 6       \u001b[0m | \u001b[0m-2.583   \u001b[0m | \u001b[0m 0.6119  \u001b[0m | \u001b[0m 0.1395  \u001b[0m | \u001b[0m 5.045   \u001b[0m | \u001b[0m 107.3   \u001b[0m |\n",
      "| \u001b[0m 7       \u001b[0m | \u001b[0m-0.1439  \u001b[0m | \u001b[0m 0.4561  \u001b[0m | \u001b[0m 0.7852  \u001b[0m | \u001b[0m 4.398   \u001b[0m | \u001b[0m 110.3   \u001b[0m |\n",
      "| \u001b[0m 8       \u001b[0m | \u001b[0m-7.174   \u001b[0m | \u001b[0m 0.5924  \u001b[0m | \u001b[0m 0.04645 \u001b[0m | \u001b[0m 7.253   \u001b[0m | \u001b[0m 103.4   \u001b[0m |\n",
      "| \u001b[0m 9       \u001b[0m | \u001b[0m-0.1296  \u001b[0m | \u001b[0m 0.2622  \u001b[0m | \u001b[0m 0.4912  \u001b[0m | \u001b[0m 5.935   \u001b[0m | \u001b[0m 105.8   \u001b[0m |\n",
      "| \u001b[0m 10      \u001b[0m | \u001b[0m-0.144   \u001b[0m | \u001b[0m 0.4181  \u001b[0m | \u001b[0m 0.8843  \u001b[0m | \u001b[0m 5.455   \u001b[0m | \u001b[0m 111.0   \u001b[0m |\n",
      "| \u001b[0m 11      \u001b[0m | \u001b[0m-0.1519  \u001b[0m | \u001b[0m 0.05287 \u001b[0m | \u001b[0m 1.0     \u001b[0m | \u001b[0m 7.039   \u001b[0m | \u001b[0m 111.2   \u001b[0m |\n",
      "| \u001b[0m 12      \u001b[0m | \u001b[0m-0.1727  \u001b[0m | \u001b[0m 1.0     \u001b[0m | \u001b[0m 0.3777  \u001b[0m | \u001b[0m 6.741   \u001b[0m | \u001b[0m 112.2   \u001b[0m |\n",
      "| \u001b[0m 13      \u001b[0m | \u001b[0m-0.1491  \u001b[0m | \u001b[0m 0.7162  \u001b[0m | \u001b[0m 0.8471  \u001b[0m | \u001b[0m 3.949   \u001b[0m | \u001b[0m 111.8   \u001b[0m |\n",
      "=========================================================================\n"
     ]
    }
   ],
   "source": [
    "transformer = ColumnTransformer([('Cat',OneHotEncoder(handle_unknown='ignore'), categorical)], remainder='passthrough')   \n",
    "X = transformer.fit_transform(X_train)\n",
    "\n",
    "y = y_train\n",
    "\n",
    "dtrain = xgb.DMatrix(X, y, enable_categorical=True)\n",
    "\n",
    "\n",
    "\n",
    "xgb_bo = BayesianOptimization(bo_tune_xgb, {'max_depth':(3,10), \n",
    "                                           'gamma':(0,1),\n",
    "                                           'learning_rate':(0,1),\n",
    "                                           'n_estimators':(100,120)},\n",
    "                             random_state = 42)\n",
    "\n",
    "xgb_bo.maximize(n_iter=5, init_points=8, acq='ei')"
   ]
  },
  {
   "cell_type": "code",
   "execution_count": 38,
   "metadata": {
    "scrolled": true
   },
   "outputs": [
    {
     "name": "stdout",
     "output_type": "stream",
     "text": [
      "{'gamma': 0.3042422429595377, 'learning_rate': 0.5247564316322378, 'max_depth': 6.023615130494811, 'n_estimators': 105.82458280396084}\n"
     ]
    }
   ],
   "source": [
    "params = xgb_bo.max['params']\n",
    "print(params)"
   ]
  },
  {
   "cell_type": "code",
   "execution_count": 39,
   "metadata": {},
   "outputs": [],
   "source": [
    "params['max_depth']= int(params['max_depth'])\n",
    "params['n_estimators']= int(params['n_estimators'])"
   ]
  },
  {
   "cell_type": "code",
   "execution_count": 40,
   "metadata": {},
   "outputs": [],
   "source": [
    "boost = xgb.XGBRegressor(**params).fit(X,y)\n",
    "predicts = boost.predict(X)"
   ]
  },
  {
   "cell_type": "code",
   "execution_count": 41,
   "metadata": {},
   "outputs": [
    {
     "data": {
      "text/plain": [
       "0.931204587530553"
      ]
     },
     "execution_count": 41,
     "metadata": {},
     "output_type": "execute_result"
    }
   ],
   "source": [
    "r2_score(y,predicts)"
   ]
  },
  {
   "cell_type": "code",
   "execution_count": 42,
   "metadata": {},
   "outputs": [
    {
     "data": {
      "text/plain": [
       "0.8871838885112392"
      ]
     },
     "execution_count": 42,
     "metadata": {},
     "output_type": "execute_result"
    }
   ],
   "source": [
    "X = transformer.transform(X_test)\n",
    "predicts = boost.predict(X)\n",
    "r2_score(y_test,predicts)"
   ]
  },
  {
   "cell_type": "markdown",
   "metadata": {},
   "source": [
    "# XGBoost with Bayesian Optimization (OrdinalEncoder)"
   ]
  },
  {
   "cell_type": "code",
   "execution_count": 43,
   "metadata": {},
   "outputs": [],
   "source": [
    "def bo_tune_xgb(max_depth, gamma, n_estimators, learning_rate):\n",
    "    params = {'max_depth':int(max_depth), \n",
    "              'gamma':gamma, \n",
    "             'n_estimators':int(n_estimators), \n",
    "             'learning_rate':learning_rate,\n",
    "             'subsample': 0.8,\n",
    "             'eta':0.1,\n",
    "             'eval_metric':'rmse'}\n",
    "    cv_result = xgb.cv(params, dtrain, nfold=5, seed=42)\n",
    "    return -1.0 * cv_result['test-rmse-mean'].iloc[-1]"
   ]
  },
  {
   "cell_type": "code",
   "execution_count": 44,
   "metadata": {},
   "outputs": [
    {
     "name": "stdout",
     "output_type": "stream",
     "text": [
      "|   iter    |  target   |   gamma   | learni... | max_depth | n_esti... |\n",
      "-------------------------------------------------------------------------\n",
      "| \u001b[0m 1       \u001b[0m | \u001b[0m-0.1452  \u001b[0m | \u001b[0m 0.3745  \u001b[0m | \u001b[0m 0.9507  \u001b[0m | \u001b[0m 8.124   \u001b[0m | \u001b[0m 112.0   \u001b[0m |\n",
      "| \u001b[0m 2       \u001b[0m | \u001b[0m-2.133   \u001b[0m | \u001b[0m 0.156   \u001b[0m | \u001b[0m 0.156   \u001b[0m | \u001b[0m 3.407   \u001b[0m | \u001b[0m 117.3   \u001b[0m |\n",
      "| \u001b[95m 3       \u001b[0m | \u001b[95m-0.1416  \u001b[0m | \u001b[95m 0.6011  \u001b[0m | \u001b[95m 0.7081  \u001b[0m | \u001b[95m 3.144   \u001b[0m | \u001b[95m 119.4   \u001b[0m |\n",
      "| \u001b[0m 4       \u001b[0m | \u001b[0m-1.082   \u001b[0m | \u001b[0m 0.8324  \u001b[0m | \u001b[0m 0.2123  \u001b[0m | \u001b[0m 4.273   \u001b[0m | \u001b[0m 103.7   \u001b[0m |\n",
      "| \u001b[95m 5       \u001b[0m | \u001b[95m-0.1285  \u001b[0m | \u001b[95m 0.3042  \u001b[0m | \u001b[95m 0.5248  \u001b[0m | \u001b[95m 6.024   \u001b[0m | \u001b[95m 105.8   \u001b[0m |\n",
      "| \u001b[0m 6       \u001b[0m | \u001b[0m-2.583   \u001b[0m | \u001b[0m 0.6119  \u001b[0m | \u001b[0m 0.1395  \u001b[0m | \u001b[0m 5.045   \u001b[0m | \u001b[0m 107.3   \u001b[0m |\n",
      "| \u001b[0m 7       \u001b[0m | \u001b[0m-0.1438  \u001b[0m | \u001b[0m 0.4561  \u001b[0m | \u001b[0m 0.7852  \u001b[0m | \u001b[0m 4.398   \u001b[0m | \u001b[0m 110.3   \u001b[0m |\n",
      "| \u001b[0m 8       \u001b[0m | \u001b[0m-7.174   \u001b[0m | \u001b[0m 0.5924  \u001b[0m | \u001b[0m 0.04645 \u001b[0m | \u001b[0m 7.253   \u001b[0m | \u001b[0m 103.4   \u001b[0m |\n",
      "| \u001b[95m 9       \u001b[0m | \u001b[95m-0.1273  \u001b[0m | \u001b[95m 0.2622  \u001b[0m | \u001b[95m 0.4912  \u001b[0m | \u001b[95m 5.935   \u001b[0m | \u001b[95m 105.8   \u001b[0m |\n",
      "| \u001b[0m 10      \u001b[0m | \u001b[0m-0.1452  \u001b[0m | \u001b[0m 0.3974  \u001b[0m | \u001b[0m 0.9085  \u001b[0m | \u001b[0m 6.922   \u001b[0m | \u001b[0m 111.5   \u001b[0m |\n",
      "| \u001b[0m 11      \u001b[0m | \u001b[0m-0.1468  \u001b[0m | \u001b[0m 0.3907  \u001b[0m | \u001b[0m 0.9915  \u001b[0m | \u001b[0m 5.237   \u001b[0m | \u001b[0m 111.3   \u001b[0m |\n",
      "| \u001b[0m 12      \u001b[0m | \u001b[0m-0.163   \u001b[0m | \u001b[0m 1.0     \u001b[0m | \u001b[0m 1.0     \u001b[0m | \u001b[0m 6.893   \u001b[0m | \u001b[0m 112.9   \u001b[0m |\n",
      "| \u001b[0m 13      \u001b[0m | \u001b[0m-0.1612  \u001b[0m | \u001b[0m 1.0     \u001b[0m | \u001b[0m 1.0     \u001b[0m | \u001b[0m 3.58    \u001b[0m | \u001b[0m 111.5   \u001b[0m |\n",
      "=========================================================================\n"
     ]
    }
   ],
   "source": [
    "transformer = ColumnTransformer([('Cat',OrdinalEncoder(handle_unknown='use_encoded_value', unknown_value=np.nan), categorical)], remainder='passthrough')   \n",
    "X = transformer.fit_transform(X_train)\n",
    "\n",
    "y = y_train\n",
    "\n",
    "dtrain = xgb.DMatrix(X, y, enable_categorical=True)\n",
    "\n",
    "\n",
    "\n",
    "xgb_bo = BayesianOptimization(bo_tune_xgb, {'max_depth':(3,10), \n",
    "                                           'gamma':(0,1),\n",
    "                                           'learning_rate':(0,1),\n",
    "                                           'n_estimators':(100,120)},\n",
    "                             random_state = 42)\n",
    "\n",
    "xgb_bo.maximize(n_iter=5, init_points=8, acq='ei')"
   ]
  },
  {
   "cell_type": "code",
   "execution_count": 45,
   "metadata": {
    "scrolled": true
   },
   "outputs": [
    {
     "name": "stdout",
     "output_type": "stream",
     "text": [
      "{'gamma': 0.26217155174161544, 'learning_rate': 0.49115317431045047, 'max_depth': 5.93465859048152, 'n_estimators': 105.82458656462529}\n"
     ]
    }
   ],
   "source": [
    "params = xgb_bo.max['params']\n",
    "print(params)"
   ]
  },
  {
   "cell_type": "code",
   "execution_count": 46,
   "metadata": {},
   "outputs": [],
   "source": [
    "params['max_depth']= int(params['max_depth'])\n",
    "params['n_estimators']= int(params['n_estimators'])"
   ]
  },
  {
   "cell_type": "code",
   "execution_count": 47,
   "metadata": {},
   "outputs": [],
   "source": [
    "boost = xgb.XGBRegressor(**params).fit(X,y)\n",
    "predicts = boost.predict(X)"
   ]
  },
  {
   "cell_type": "code",
   "execution_count": 48,
   "metadata": {},
   "outputs": [
    {
     "data": {
      "text/plain": [
       "0.9310885465150568"
      ]
     },
     "execution_count": 48,
     "metadata": {},
     "output_type": "execute_result"
    }
   ],
   "source": [
    "r2_score(y,predicts)"
   ]
  },
  {
   "cell_type": "code",
   "execution_count": 49,
   "metadata": {},
   "outputs": [
    {
     "data": {
      "text/plain": [
       "0.8856938356468382"
      ]
     },
     "execution_count": 49,
     "metadata": {},
     "output_type": "execute_result"
    }
   ],
   "source": [
    "X = transformer.transform(X_test)\n",
    "predicts = boost.predict(X)\n",
    "r2_score(y_test,predicts)"
   ]
  },
  {
   "cell_type": "markdown",
   "metadata": {},
   "source": [
    "## Tried tweaking best result so far (no Bayesian with ordinal encoder) but results horrible."
   ]
  },
  {
   "cell_type": "markdown",
   "metadata": {},
   "source": [
    "### Instead we will try using the reduced number of features. "
   ]
  },
  {
   "cell_type": "code",
   "execution_count": 71,
   "metadata": {},
   "outputs": [],
   "source": [
    "coef_df = pd.read_csv('lasso_coef.csv',index_col=0)"
   ]
  },
  {
   "cell_type": "code",
   "execution_count": 72,
   "metadata": {},
   "outputs": [],
   "source": [
    "selected_features = list(coef_df['features'])"
   ]
  },
  {
   "cell_type": "code",
   "execution_count": 73,
   "metadata": {
    "scrolled": true
   },
   "outputs": [
    {
     "data": {
      "text/plain": [
       "['GrLivArea_square_root',\n",
       " 'year_since_built_square_root',\n",
       " 'total_sf_square_root',\n",
       " 'overall_score_square_root',\n",
       " 'LotArea_square_root',\n",
       " 'total_high_qual_finished_sf',\n",
       " 'OverallQual_cubed',\n",
       " 'Neighborhood_log_comp',\n",
       " 'BsmtExposure_cubed',\n",
       " 'GarageCars',\n",
       " 'Neighborhood_Crawfor',\n",
       " 'KitchenQual_cubed',\n",
       " 'GarageArea',\n",
       " 'MSZoning_log_comp',\n",
       " 'YearRemodAdd',\n",
       " 'Exterior1st_BrkFace',\n",
       " 'Functional_Typ',\n",
       " 'Condition1_Norm',\n",
       " 'MSSubClass_30',\n",
       " 'Neighborhood_BrkSide',\n",
       " 'OverallCond',\n",
       " 'Fireplaces',\n",
       " 'BsmtFinSF1',\n",
       " 'Neighborhood_SawyerW',\n",
       " 'ScreenPorch',\n",
       " 'PavedDrive',\n",
       " 'closestSchool_Ames Middle School',\n",
       " 'HeatingQC',\n",
       " 'KitchenAbvGr',\n",
       " 'closestSchool_Abbie Sawyer',\n",
       " 'Exterior1st_PreCast',\n",
       " 'BldgType_1Fam',\n",
       " 'closestSchool_Ames High School',\n",
       " 'total_deck_sf',\n",
       " 'MSSubClass_160',\n",
       " 'FireplaceQu',\n",
       " 'Functional_Maj2',\n",
       " 'BsmtFullBath',\n",
       " 'SaleCondition_Normal',\n",
       " 'BsmtFinType1_GLQ',\n",
       " 'Foundation_BrkTil',\n",
       " 'Neighborhood_CollgCr',\n",
       " 'CentralAir_N',\n",
       " 'MasVnrArea',\n",
       " 'Neighborhood_MeadowV',\n",
       " 'Neighborhood_StoneBr',\n",
       " 'Exterior2nd_AsbShng',\n",
       " 'Functional_Maj1',\n",
       " 'BsmtFinType1_ALQ',\n",
       " 'Condition1_log_comp',\n",
       " 'BsmtFinType1_Rec',\n",
       " 'Exterior2nd_Plywood',\n",
       " 'garage_score',\n",
       " 'Neighborhood_Somerst',\n",
       " 'LotArea_squared',\n",
       " 'GarageCars_log_comp',\n",
       " 'BsmtQual',\n",
       " 'BsmtFinType1_LwQ',\n",
       " 'BsmtFinType1_Unf',\n",
       " 'LotConfig_FR2',\n",
       " 'BldgType_log_comp',\n",
       " 'YrSold',\n",
       " 'Condition2_Feedr',\n",
       " 'Street_Grvl',\n",
       " 'BsmtFinType2_GLQ',\n",
       " 'Exterior2nd_CBlock',\n",
       " 'Exterior2nd_Wd Shng',\n",
       " 'MoSold_7',\n",
       " 'MoSold_3',\n",
       " 'GarageType_2Types',\n",
       " 'BldgType_Twnhs',\n",
       " 'EnclosedPorch',\n",
       " 'MiscFeature_TenC',\n",
       " 'BsmtFinType2_Rec',\n",
       " 'ExterQual',\n",
       " 'LandContour_Bnk',\n",
       " 'PoolQC',\n",
       " 'HouseStyle_SFoyer',\n",
       " 'MSSubClass_60',\n",
       " 'Condition1_RRAe',\n",
       " 'SaleType_Con',\n",
       " 'HalfBath',\n",
       " 'TotRmsAbvGrd',\n",
       " 'MSZoning_C (all)',\n",
       " 'MiscFeature_Othr',\n",
       " 'Neighborhood_Blueste',\n",
       " 'BsmtFinType2_BLQ',\n",
       " 'Neighborhood_Greens',\n",
       " 'MoSold_11',\n",
       " 'Exterior1st_HdBoard',\n",
       " 'Neighborhood_NWAmes',\n",
       " 'MoSold_5',\n",
       " 'RoofStyle_Flat',\n",
       " 'BedroomAbvGr',\n",
       " 'Foundation_Wood',\n",
       " 'LotConfig_FR3',\n",
       " 'RoofStyle_Gambrel',\n",
       " 'Heating_Grav',\n",
       " 'Exterior2nd_Brk Cmn',\n",
       " 'BldgType_Duplex',\n",
       " 'closestSchool_Meeker',\n",
       " 'Neighborhood_Veenker',\n",
       " 'LotShape_IR3',\n",
       " 'GarageType_Basment',\n",
       " 'Functional_Mod',\n",
       " 'Exterior1st_Stucco',\n",
       " 'Foundation_PConc',\n",
       " 'RoofMatl_WdShngl',\n",
       " 'Neighborhood_Edwards',\n",
       " 'MoSold_10',\n",
       " 'Exterior1st_BrkComm',\n",
       " 'Heating_Floor',\n",
       " 'Heating_GasW',\n",
       " 'MoSold_12',\n",
       " 'MSZoning_RH',\n",
       " 'SaleType_Oth',\n",
       " 'SaleType_ConLD',\n",
       " 'GarageType_CarPort',\n",
       " 'Heating_Wall',\n",
       " 'LandContour_HLS',\n",
       " 'LandSlope_Mod',\n",
       " 'HouseStyle_1.5Fin',\n",
       " 'Exterior2nd_VinylSd',\n",
       " 'Neighborhood_NridgHt',\n",
       " 'Condition2_RRAn',\n",
       " 'MSSubClass_85',\n",
       " 'total_full_bath',\n",
       " 'MSSubClass_20',\n",
       " 'MSSubClass_150',\n",
       " 'Fence_GdPrv',\n",
       " 'SaleType_ConLw',\n",
       " 'Condition1_Feedr',\n",
       " 'Condition2_Norm',\n",
       " 'LotConfig_CulDSac',\n",
       " 'Fence_GdWo',\n",
       " 'Foundation_Stone',\n",
       " '3SsnPorch',\n",
       " 'Exterior2nd_PreCast',\n",
       " 'Condition1_RRNe',\n",
       " 'SaleCondition_Partial']"
      ]
     },
     "execution_count": 73,
     "metadata": {},
     "output_type": "execute_result"
    }
   ],
   "source": [
    "selected_features"
   ]
  },
  {
   "cell_type": "code",
   "execution_count": 74,
   "metadata": {},
   "outputs": [],
   "source": [
    "cat_feats = X_train.select_dtypes(['object']).columns.to_list()\n",
    "num_feats = X_train.select_dtypes(['int','float']).columns.to_list()"
   ]
  },
  {
   "cell_type": "code",
   "execution_count": 82,
   "metadata": {},
   "outputs": [
    {
     "data": {
      "text/plain": [
       "(1856, 127)"
      ]
     },
     "execution_count": 82,
     "metadata": {},
     "output_type": "execute_result"
    }
   ],
   "source": [
    "X_train.shape"
   ]
  },
  {
   "cell_type": "code",
   "execution_count": 78,
   "metadata": {},
   "outputs": [
    {
     "data": {
      "text/plain": [
       "(1856, 323)"
      ]
     },
     "execution_count": 78,
     "metadata": {},
     "output_type": "execute_result"
    }
   ],
   "source": [
    "X_train_transformed.shape"
   ]
  },
  {
   "cell_type": "code",
   "execution_count": 79,
   "metadata": {},
   "outputs": [
    {
     "data": {
      "text/plain": [
       "263"
      ]
     },
     "execution_count": 79,
     "metadata": {},
     "output_type": "execute_result"
    }
   ],
   "source": [
    "len(new_columns)"
   ]
  },
  {
   "cell_type": "code",
   "execution_count": 80,
   "metadata": {
    "scrolled": true
   },
   "outputs": [
    {
     "name": "stdout",
     "output_type": "stream",
     "text": [
      "32\n",
      "35\n"
     ]
    }
   ],
   "source": [
    "print(len(cat_feats))\n",
    "print(len(num_feats))"
   ]
  },
  {
   "cell_type": "code",
   "execution_count": 81,
   "metadata": {},
   "outputs": [
    {
     "data": {
      "text/plain": [
       "228"
      ]
     },
     "execution_count": 81,
     "metadata": {},
     "output_type": "execute_result"
    }
   ],
   "source": [
    "len(list(columns_transformed))"
   ]
  },
  {
   "cell_type": "code",
   "execution_count": 84,
   "metadata": {},
   "outputs": [
    {
     "data": {
      "text/plain": [
       "[dtype('int64'),\n",
       " dtype('O'),\n",
       " dtype('O'),\n",
       " dtype('float64'),\n",
       " dtype('int64'),\n",
       " dtype('O'),\n",
       " dtype('int64'),\n",
       " dtype('O'),\n",
       " dtype('O'),\n",
       " dtype('O'),\n",
       " dtype('O'),\n",
       " dtype('O'),\n",
       " dtype('O'),\n",
       " dtype('O'),\n",
       " dtype('O'),\n",
       " dtype('O'),\n",
       " dtype('O'),\n",
       " dtype('int64'),\n",
       " dtype('int64'),\n",
       " dtype('int64'),\n",
       " dtype('int64'),\n",
       " dtype('O'),\n",
       " dtype('O'),\n",
       " dtype('O'),\n",
       " dtype('O'),\n",
       " dtype('O'),\n",
       " dtype('float64'),\n",
       " dtype('int64'),\n",
       " dtype('int64'),\n",
       " dtype('O'),\n",
       " dtype('int64'),\n",
       " dtype('int64'),\n",
       " dtype('int64'),\n",
       " dtype('O'),\n",
       " dtype('float64'),\n",
       " dtype('O'),\n",
       " dtype('float64'),\n",
       " dtype('float64'),\n",
       " dtype('float64'),\n",
       " dtype('O'),\n",
       " dtype('int64'),\n",
       " dtype('O'),\n",
       " dtype('O'),\n",
       " dtype('int64'),\n",
       " dtype('int64'),\n",
       " dtype('int64'),\n",
       " dtype('float64'),\n",
       " dtype('float64'),\n",
       " dtype('int64'),\n",
       " dtype('int64'),\n",
       " dtype('int64'),\n",
       " dtype('int64'),\n",
       " dtype('int64'),\n",
       " dtype('int64'),\n",
       " dtype('O'),\n",
       " dtype('int64'),\n",
       " dtype('int64'),\n",
       " dtype('O'),\n",
       " dtype('float64'),\n",
       " dtype('int64'),\n",
       " dtype('float64'),\n",
       " dtype('float64'),\n",
       " dtype('int64'),\n",
       " dtype('int64'),\n",
       " dtype('int64'),\n",
       " dtype('int64'),\n",
       " dtype('int64'),\n",
       " dtype('int64'),\n",
       " dtype('int64'),\n",
       " dtype('int64'),\n",
       " dtype('int64'),\n",
       " dtype('int64'),\n",
       " dtype('O'),\n",
       " dtype('O'),\n",
       " dtype('int64'),\n",
       " dtype('O'),\n",
       " dtype('int64'),\n",
       " dtype('O'),\n",
       " dtype('O'),\n",
       " dtype('float64'),\n",
       " dtype('float64'),\n",
       " dtype('float64'),\n",
       " dtype('float64'),\n",
       " dtype('float64'),\n",
       " dtype('int64'),\n",
       " dtype('int64'),\n",
       " dtype('float64'),\n",
       " dtype('int64'),\n",
       " dtype('int64'),\n",
       " dtype('int64'),\n",
       " dtype('int64'),\n",
       " dtype('float64'),\n",
       " dtype('float64'),\n",
       " dtype('int64'),\n",
       " dtype('float64'),\n",
       " dtype('float64'),\n",
       " dtype('int64'),\n",
       " dtype('int64'),\n",
       " dtype('float64'),\n",
       " dtype('int64'),\n",
       " dtype('int64'),\n",
       " dtype('float64'),\n",
       " dtype('float64'),\n",
       " dtype('float64'),\n",
       " dtype('float64'),\n",
       " dtype('int64'),\n",
       " dtype('int64'),\n",
       " dtype('float64'),\n",
       " dtype('int64'),\n",
       " dtype('int64'),\n",
       " dtype('float64'),\n",
       " dtype('int64'),\n",
       " dtype('int64'),\n",
       " dtype('float64'),\n",
       " dtype('float64'),\n",
       " dtype('float64'),\n",
       " dtype('float64'),\n",
       " dtype('int64'),\n",
       " dtype('int64'),\n",
       " dtype('float64'),\n",
       " dtype('int64'),\n",
       " dtype('int64'),\n",
       " dtype('float64'),\n",
       " dtype('int64'),\n",
       " dtype('int64'),\n",
       " dtype('float64'),\n",
       " dtype('O')]"
      ]
     },
     "execution_count": 84,
     "metadata": {},
     "output_type": "execute_result"
    }
   ],
   "source": [
    "X_train.dtypes.to_list()"
   ]
  },
  {
   "cell_type": "code",
   "execution_count": 85,
   "metadata": {},
   "outputs": [
    {
     "data": {
      "text/plain": [
       "['MSSubClass_120',\n",
       " 'MSSubClass_150',\n",
       " 'MSSubClass_160',\n",
       " 'MSSubClass_180',\n",
       " 'MSSubClass_190',\n",
       " 'MSSubClass_20',\n",
       " 'MSSubClass_30',\n",
       " 'MSSubClass_40',\n",
       " 'MSSubClass_45',\n",
       " 'MSSubClass_50',\n",
       " 'MSSubClass_60',\n",
       " 'MSSubClass_70',\n",
       " 'MSSubClass_75',\n",
       " 'MSSubClass_80',\n",
       " 'MSSubClass_85',\n",
       " 'MSSubClass_90',\n",
       " 'MSZoning_C (all)',\n",
       " 'MSZoning_FV',\n",
       " 'MSZoning_I (all)',\n",
       " 'MSZoning_RH',\n",
       " 'MSZoning_RL',\n",
       " 'MSZoning_RM',\n",
       " 'Street_Grvl',\n",
       " 'Street_Pave',\n",
       " 'LotShape_IR1',\n",
       " 'LotShape_IR2',\n",
       " 'LotShape_IR3',\n",
       " 'LotShape_Reg',\n",
       " 'LandContour_Bnk',\n",
       " 'LandContour_HLS',\n",
       " 'LandContour_Low',\n",
       " 'LandContour_Lvl',\n",
       " 'Utilities_AllPub',\n",
       " 'LotConfig_Corner',\n",
       " 'LotConfig_CulDSac',\n",
       " 'LotConfig_FR2',\n",
       " 'LotConfig_FR3',\n",
       " 'LotConfig_Inside',\n",
       " 'LandSlope_Gtl',\n",
       " 'LandSlope_Mod',\n",
       " 'LandSlope_Sev',\n",
       " 'Neighborhood_Blmngtn',\n",
       " 'Neighborhood_Blueste',\n",
       " 'Neighborhood_BrDale',\n",
       " 'Neighborhood_BrkSide',\n",
       " 'Neighborhood_ClearCr',\n",
       " 'Neighborhood_CollgCr',\n",
       " 'Neighborhood_Crawfor',\n",
       " 'Neighborhood_Edwards',\n",
       " 'Neighborhood_Gilbert',\n",
       " 'Neighborhood_Greens',\n",
       " 'Neighborhood_IDOTRR',\n",
       " 'Neighborhood_MeadowV',\n",
       " 'Neighborhood_Mitchel',\n",
       " 'Neighborhood_NAmes',\n",
       " 'Neighborhood_NPkVill',\n",
       " 'Neighborhood_NWAmes',\n",
       " 'Neighborhood_NoRidge',\n",
       " 'Neighborhood_NridgHt',\n",
       " 'Neighborhood_OldTown',\n",
       " 'Neighborhood_SWISU',\n",
       " 'Neighborhood_Sawyer',\n",
       " 'Neighborhood_SawyerW',\n",
       " 'Neighborhood_Somerst',\n",
       " 'Neighborhood_StoneBr',\n",
       " 'Neighborhood_Timber',\n",
       " 'Neighborhood_Veenker',\n",
       " 'Condition1_Artery',\n",
       " 'Condition1_Feedr',\n",
       " 'Condition1_Norm',\n",
       " 'Condition1_PosA',\n",
       " 'Condition1_PosN',\n",
       " 'Condition1_RRAe',\n",
       " 'Condition1_RRAn',\n",
       " 'Condition1_RRNe',\n",
       " 'Condition1_RRNn',\n",
       " 'Condition2_Artery',\n",
       " 'Condition2_Feedr',\n",
       " 'Condition2_Norm',\n",
       " 'Condition2_PosN',\n",
       " 'Condition2_RRAe',\n",
       " 'Condition2_RRAn',\n",
       " 'Condition2_RRNn',\n",
       " 'BldgType_1Fam',\n",
       " 'BldgType_2fmCon',\n",
       " 'BldgType_Duplex',\n",
       " 'BldgType_Twnhs',\n",
       " 'BldgType_TwnhsE',\n",
       " 'HouseStyle_1.5Fin',\n",
       " 'HouseStyle_1.5Unf',\n",
       " 'HouseStyle_1Story',\n",
       " 'HouseStyle_2.5Fin',\n",
       " 'HouseStyle_2.5Unf',\n",
       " 'HouseStyle_2Story',\n",
       " 'HouseStyle_SFoyer',\n",
       " 'HouseStyle_SLvl',\n",
       " 'RoofStyle_Flat',\n",
       " 'RoofStyle_Gable',\n",
       " 'RoofStyle_Gambrel',\n",
       " 'RoofStyle_Hip',\n",
       " 'RoofStyle_Mansard',\n",
       " 'RoofStyle_Shed',\n",
       " 'RoofMatl_CompShg',\n",
       " 'RoofMatl_Membran',\n",
       " 'RoofMatl_Metal',\n",
       " 'RoofMatl_Tar&Grv',\n",
       " 'RoofMatl_WdShake',\n",
       " 'RoofMatl_WdShngl',\n",
       " 'Exterior1st_AsbShng',\n",
       " 'Exterior1st_AsphShn',\n",
       " 'Exterior1st_BrkComm',\n",
       " 'Exterior1st_BrkFace',\n",
       " 'Exterior1st_CemntBd',\n",
       " 'Exterior1st_HdBoard',\n",
       " 'Exterior1st_MetalSd',\n",
       " 'Exterior1st_Plywood',\n",
       " 'Exterior1st_PreCast',\n",
       " 'Exterior1st_Stucco',\n",
       " 'Exterior1st_VinylSd',\n",
       " 'Exterior1st_Wd Sdng',\n",
       " 'Exterior1st_WdShing',\n",
       " 'Exterior2nd_AsbShng',\n",
       " 'Exterior2nd_AsphShn',\n",
       " 'Exterior2nd_Brk Cmn',\n",
       " 'Exterior2nd_BrkFace',\n",
       " 'Exterior2nd_CBlock',\n",
       " 'Exterior2nd_CmentBd',\n",
       " 'Exterior2nd_HdBoard',\n",
       " 'Exterior2nd_ImStucc',\n",
       " 'Exterior2nd_MetalSd',\n",
       " 'Exterior2nd_Plywood',\n",
       " 'Exterior2nd_PreCast',\n",
       " 'Exterior2nd_Stone',\n",
       " 'Exterior2nd_Stucco',\n",
       " 'Exterior2nd_VinylSd',\n",
       " 'Exterior2nd_Wd Sdng',\n",
       " 'Exterior2nd_Wd Shng',\n",
       " 'MasVnrType_BrkCmn',\n",
       " 'MasVnrType_BrkFace',\n",
       " 'MasVnrType_None',\n",
       " 'MasVnrType_Stone',\n",
       " 'Foundation_BrkTil',\n",
       " 'Foundation_CBlock',\n",
       " 'Foundation_PConc',\n",
       " 'Foundation_Slab',\n",
       " 'Foundation_Stone',\n",
       " 'Foundation_Wood',\n",
       " 'BsmtFinType1_ALQ',\n",
       " 'BsmtFinType1_BLQ',\n",
       " 'BsmtFinType1_GLQ',\n",
       " 'BsmtFinType1_LwQ',\n",
       " 'BsmtFinType1_None',\n",
       " 'BsmtFinType1_Rec',\n",
       " 'BsmtFinType1_Unf',\n",
       " 'BsmtFinType2_ALQ',\n",
       " 'BsmtFinType2_BLQ',\n",
       " 'BsmtFinType2_GLQ',\n",
       " 'BsmtFinType2_LwQ',\n",
       " 'BsmtFinType2_None',\n",
       " 'BsmtFinType2_Rec',\n",
       " 'BsmtFinType2_Unf',\n",
       " 'Heating_Floor',\n",
       " 'Heating_GasA',\n",
       " 'Heating_GasW',\n",
       " 'Heating_Grav',\n",
       " 'Heating_OthW',\n",
       " 'Heating_Wall',\n",
       " 'CentralAir_N',\n",
       " 'CentralAir_Y',\n",
       " 'Electrical_FuseA',\n",
       " 'Electrical_FuseF',\n",
       " 'Electrical_FuseP',\n",
       " 'Electrical_SBrkr',\n",
       " 'Functional_Maj1',\n",
       " 'Functional_Maj2',\n",
       " 'Functional_Min1',\n",
       " 'Functional_Min2',\n",
       " 'Functional_Mod',\n",
       " 'Functional_Typ',\n",
       " 'GarageType_2Types',\n",
       " 'GarageType_Attchd',\n",
       " 'GarageType_Basment',\n",
       " 'GarageType_BuiltIn',\n",
       " 'GarageType_CarPort',\n",
       " 'GarageType_Detchd',\n",
       " 'GarageType_None',\n",
       " 'Fence_GdPrv',\n",
       " 'Fence_GdWo',\n",
       " 'Fence_MnPrv',\n",
       " 'Fence_MnWw',\n",
       " 'Fence_None',\n",
       " 'MiscFeature_Gar2',\n",
       " 'MiscFeature_None',\n",
       " 'MiscFeature_Othr',\n",
       " 'MiscFeature_Shed',\n",
       " 'MiscFeature_TenC',\n",
       " 'MoSold_1',\n",
       " 'MoSold_10',\n",
       " 'MoSold_11',\n",
       " 'MoSold_12',\n",
       " 'MoSold_2',\n",
       " 'MoSold_3',\n",
       " 'MoSold_4',\n",
       " 'MoSold_5',\n",
       " 'MoSold_6',\n",
       " 'MoSold_7',\n",
       " 'MoSold_8',\n",
       " 'MoSold_9',\n",
       " 'SaleType_COD',\n",
       " 'SaleType_CWD',\n",
       " 'SaleType_Con',\n",
       " 'SaleType_ConLD',\n",
       " 'SaleType_ConLI',\n",
       " 'SaleType_ConLw',\n",
       " 'SaleType_New',\n",
       " 'SaleType_Oth',\n",
       " 'SaleType_VWD',\n",
       " 'SaleType_WD ',\n",
       " 'SaleCondition_Normal',\n",
       " 'SaleCondition_Partial',\n",
       " 'closestSchool_Abbie Sawyer',\n",
       " 'closestSchool_Ames High School',\n",
       " 'closestSchool_Ames Middle School',\n",
       " 'closestSchool_Edwards',\n",
       " 'closestSchool_Fellows',\n",
       " 'closestSchool_Kate Mitchell',\n",
       " 'closestSchool_Meeker',\n",
       " 'closestSchool_Northwood Preschool Center']"
      ]
     },
     "execution_count": 85,
     "metadata": {},
     "output_type": "execute_result"
    }
   ],
   "source": [
    "list(columns_transformed)"
   ]
  },
  {
   "cell_type": "code",
   "execution_count": 75,
   "metadata": {},
   "outputs": [
    {
     "ename": "ValueError",
     "evalue": "Shape of passed values is (1856, 323), indices imply (1856, 263)",
     "output_type": "error",
     "traceback": [
      "\u001b[1;31m---------------------------------------------------------------------------\u001b[0m",
      "\u001b[1;31mValueError\u001b[0m                                Traceback (most recent call last)",
      "\u001b[1;32m~\\Anaconda3\\lib\\site-packages\\pandas\\core\\internals\\managers.py\u001b[0m in \u001b[0;36mcreate_block_manager_from_blocks\u001b[1;34m(blocks, axes)\u001b[0m\n\u001b[0;32m   1661\u001b[0m                 blocks = [\n\u001b[1;32m-> 1662\u001b[1;33m                     \u001b[0mmake_block\u001b[0m\u001b[1;33m(\u001b[0m\u001b[0mvalues\u001b[0m\u001b[1;33m=\u001b[0m\u001b[0mblocks\u001b[0m\u001b[1;33m[\u001b[0m\u001b[1;36m0\u001b[0m\u001b[1;33m]\u001b[0m\u001b[1;33m,\u001b[0m \u001b[0mplacement\u001b[0m\u001b[1;33m=\u001b[0m\u001b[0mslice\u001b[0m\u001b[1;33m(\u001b[0m\u001b[1;36m0\u001b[0m\u001b[1;33m,\u001b[0m \u001b[0mlen\u001b[0m\u001b[1;33m(\u001b[0m\u001b[0maxes\u001b[0m\u001b[1;33m[\u001b[0m\u001b[1;36m0\u001b[0m\u001b[1;33m]\u001b[0m\u001b[1;33m)\u001b[0m\u001b[1;33m)\u001b[0m\u001b[1;33m)\u001b[0m\u001b[1;33m\u001b[0m\u001b[1;33m\u001b[0m\u001b[0m\n\u001b[0m\u001b[0;32m   1663\u001b[0m                 ]\n",
      "\u001b[1;32m~\\Anaconda3\\lib\\site-packages\\pandas\\core\\internals\\blocks.py\u001b[0m in \u001b[0;36mmake_block\u001b[1;34m(values, placement, klass, ndim, dtype)\u001b[0m\n\u001b[0;32m   2721\u001b[0m \u001b[1;33m\u001b[0m\u001b[0m\n\u001b[1;32m-> 2722\u001b[1;33m     \u001b[1;32mreturn\u001b[0m \u001b[0mklass\u001b[0m\u001b[1;33m(\u001b[0m\u001b[0mvalues\u001b[0m\u001b[1;33m,\u001b[0m \u001b[0mndim\u001b[0m\u001b[1;33m=\u001b[0m\u001b[0mndim\u001b[0m\u001b[1;33m,\u001b[0m \u001b[0mplacement\u001b[0m\u001b[1;33m=\u001b[0m\u001b[0mplacement\u001b[0m\u001b[1;33m)\u001b[0m\u001b[1;33m\u001b[0m\u001b[1;33m\u001b[0m\u001b[0m\n\u001b[0m\u001b[0;32m   2723\u001b[0m \u001b[1;33m\u001b[0m\u001b[0m\n",
      "\u001b[1;32m~\\Anaconda3\\lib\\site-packages\\pandas\\core\\internals\\blocks.py\u001b[0m in \u001b[0;36m__init__\u001b[1;34m(self, values, placement, ndim)\u001b[0m\n\u001b[0;32m    129\u001b[0m         \u001b[1;32mif\u001b[0m \u001b[0mself\u001b[0m\u001b[1;33m.\u001b[0m\u001b[0m_validate_ndim\u001b[0m \u001b[1;32mand\u001b[0m \u001b[0mself\u001b[0m\u001b[1;33m.\u001b[0m\u001b[0mndim\u001b[0m \u001b[1;32mand\u001b[0m \u001b[0mlen\u001b[0m\u001b[1;33m(\u001b[0m\u001b[0mself\u001b[0m\u001b[1;33m.\u001b[0m\u001b[0mmgr_locs\u001b[0m\u001b[1;33m)\u001b[0m \u001b[1;33m!=\u001b[0m \u001b[0mlen\u001b[0m\u001b[1;33m(\u001b[0m\u001b[0mself\u001b[0m\u001b[1;33m.\u001b[0m\u001b[0mvalues\u001b[0m\u001b[1;33m)\u001b[0m\u001b[1;33m:\u001b[0m\u001b[1;33m\u001b[0m\u001b[1;33m\u001b[0m\u001b[0m\n\u001b[1;32m--> 130\u001b[1;33m             raise ValueError(\n\u001b[0m\u001b[0;32m    131\u001b[0m                 \u001b[1;34mf\"Wrong number of items passed {len(self.values)}, \"\u001b[0m\u001b[1;33m\u001b[0m\u001b[1;33m\u001b[0m\u001b[0m\n",
      "\u001b[1;31mValueError\u001b[0m: Wrong number of items passed 323, placement implies 263",
      "\nDuring handling of the above exception, another exception occurred:\n",
      "\u001b[1;31mValueError\u001b[0m                                Traceback (most recent call last)",
      "\u001b[1;32m<ipython-input-75-b07b6bdf841b>\u001b[0m in \u001b[0;36m<module>\u001b[1;34m\u001b[0m\n\u001b[0;32m      7\u001b[0m \u001b[0mnew_columns\u001b[0m \u001b[1;33m=\u001b[0m \u001b[0mlist\u001b[0m\u001b[1;33m(\u001b[0m\u001b[0mcolumns_transformed\u001b[0m\u001b[1;33m)\u001b[0m\u001b[1;33m+\u001b[0m\u001b[0mnum_feats\u001b[0m\u001b[1;33m\u001b[0m\u001b[1;33m\u001b[0m\u001b[0m\n\u001b[0;32m      8\u001b[0m \u001b[1;33m\u001b[0m\u001b[0m\n\u001b[1;32m----> 9\u001b[1;33m \u001b[0mX_train_transformed\u001b[0m \u001b[1;33m=\u001b[0m \u001b[0mpd\u001b[0m\u001b[1;33m.\u001b[0m\u001b[0mDataFrame\u001b[0m\u001b[1;33m(\u001b[0m\u001b[0mX_train_transformed\u001b[0m\u001b[1;33m,\u001b[0m\u001b[0mcolumns\u001b[0m\u001b[1;33m=\u001b[0m\u001b[0mnew_columns\u001b[0m\u001b[1;33m)\u001b[0m\u001b[1;33m\u001b[0m\u001b[1;33m\u001b[0m\u001b[0m\n\u001b[0m\u001b[0;32m     10\u001b[0m \u001b[1;33m\u001b[0m\u001b[0m\n\u001b[0;32m     11\u001b[0m \u001b[0mX_test_transformed\u001b[0m \u001b[1;33m=\u001b[0m \u001b[0mpreprocessor\u001b[0m\u001b[1;33m.\u001b[0m\u001b[0mtransform\u001b[0m\u001b[1;33m(\u001b[0m\u001b[0mX_test\u001b[0m\u001b[1;33m)\u001b[0m\u001b[1;33m\u001b[0m\u001b[1;33m\u001b[0m\u001b[0m\n",
      "\u001b[1;32m~\\Anaconda3\\lib\\site-packages\\pandas\\core\\frame.py\u001b[0m in \u001b[0;36m__init__\u001b[1;34m(self, data, index, columns, dtype, copy)\u001b[0m\n\u001b[0;32m    495\u001b[0m                 \u001b[0mmgr\u001b[0m \u001b[1;33m=\u001b[0m \u001b[0minit_dict\u001b[0m\u001b[1;33m(\u001b[0m\u001b[1;33m{\u001b[0m\u001b[0mdata\u001b[0m\u001b[1;33m.\u001b[0m\u001b[0mname\u001b[0m\u001b[1;33m:\u001b[0m \u001b[0mdata\u001b[0m\u001b[1;33m}\u001b[0m\u001b[1;33m,\u001b[0m \u001b[0mindex\u001b[0m\u001b[1;33m,\u001b[0m \u001b[0mcolumns\u001b[0m\u001b[1;33m,\u001b[0m \u001b[0mdtype\u001b[0m\u001b[1;33m=\u001b[0m\u001b[0mdtype\u001b[0m\u001b[1;33m)\u001b[0m\u001b[1;33m\u001b[0m\u001b[1;33m\u001b[0m\u001b[0m\n\u001b[0;32m    496\u001b[0m             \u001b[1;32melse\u001b[0m\u001b[1;33m:\u001b[0m\u001b[1;33m\u001b[0m\u001b[1;33m\u001b[0m\u001b[0m\n\u001b[1;32m--> 497\u001b[1;33m                 \u001b[0mmgr\u001b[0m \u001b[1;33m=\u001b[0m \u001b[0minit_ndarray\u001b[0m\u001b[1;33m(\u001b[0m\u001b[0mdata\u001b[0m\u001b[1;33m,\u001b[0m \u001b[0mindex\u001b[0m\u001b[1;33m,\u001b[0m \u001b[0mcolumns\u001b[0m\u001b[1;33m,\u001b[0m \u001b[0mdtype\u001b[0m\u001b[1;33m=\u001b[0m\u001b[0mdtype\u001b[0m\u001b[1;33m,\u001b[0m \u001b[0mcopy\u001b[0m\u001b[1;33m=\u001b[0m\u001b[0mcopy\u001b[0m\u001b[1;33m)\u001b[0m\u001b[1;33m\u001b[0m\u001b[1;33m\u001b[0m\u001b[0m\n\u001b[0m\u001b[0;32m    498\u001b[0m \u001b[1;33m\u001b[0m\u001b[0m\n\u001b[0;32m    499\u001b[0m         \u001b[1;31m# For data is list-like, or Iterable (will consume into list)\u001b[0m\u001b[1;33m\u001b[0m\u001b[1;33m\u001b[0m\u001b[1;33m\u001b[0m\u001b[0m\n",
      "\u001b[1;32m~\\Anaconda3\\lib\\site-packages\\pandas\\core\\internals\\construction.py\u001b[0m in \u001b[0;36minit_ndarray\u001b[1;34m(values, index, columns, dtype, copy)\u001b[0m\n\u001b[0;32m    232\u001b[0m         \u001b[0mblock_values\u001b[0m \u001b[1;33m=\u001b[0m \u001b[1;33m[\u001b[0m\u001b[0mvalues\u001b[0m\u001b[1;33m]\u001b[0m\u001b[1;33m\u001b[0m\u001b[1;33m\u001b[0m\u001b[0m\n\u001b[0;32m    233\u001b[0m \u001b[1;33m\u001b[0m\u001b[0m\n\u001b[1;32m--> 234\u001b[1;33m     \u001b[1;32mreturn\u001b[0m \u001b[0mcreate_block_manager_from_blocks\u001b[0m\u001b[1;33m(\u001b[0m\u001b[0mblock_values\u001b[0m\u001b[1;33m,\u001b[0m \u001b[1;33m[\u001b[0m\u001b[0mcolumns\u001b[0m\u001b[1;33m,\u001b[0m \u001b[0mindex\u001b[0m\u001b[1;33m]\u001b[0m\u001b[1;33m)\u001b[0m\u001b[1;33m\u001b[0m\u001b[1;33m\u001b[0m\u001b[0m\n\u001b[0m\u001b[0;32m    235\u001b[0m \u001b[1;33m\u001b[0m\u001b[0m\n\u001b[0;32m    236\u001b[0m \u001b[1;33m\u001b[0m\u001b[0m\n",
      "\u001b[1;32m~\\Anaconda3\\lib\\site-packages\\pandas\\core\\internals\\managers.py\u001b[0m in \u001b[0;36mcreate_block_manager_from_blocks\u001b[1;34m(blocks, axes)\u001b[0m\n\u001b[0;32m   1670\u001b[0m         \u001b[0mblocks\u001b[0m \u001b[1;33m=\u001b[0m \u001b[1;33m[\u001b[0m\u001b[0mgetattr\u001b[0m\u001b[1;33m(\u001b[0m\u001b[0mb\u001b[0m\u001b[1;33m,\u001b[0m \u001b[1;34m\"values\"\u001b[0m\u001b[1;33m,\u001b[0m \u001b[0mb\u001b[0m\u001b[1;33m)\u001b[0m \u001b[1;32mfor\u001b[0m \u001b[0mb\u001b[0m \u001b[1;32min\u001b[0m \u001b[0mblocks\u001b[0m\u001b[1;33m]\u001b[0m\u001b[1;33m\u001b[0m\u001b[1;33m\u001b[0m\u001b[0m\n\u001b[0;32m   1671\u001b[0m         \u001b[0mtot_items\u001b[0m \u001b[1;33m=\u001b[0m \u001b[0msum\u001b[0m\u001b[1;33m(\u001b[0m\u001b[0mb\u001b[0m\u001b[1;33m.\u001b[0m\u001b[0mshape\u001b[0m\u001b[1;33m[\u001b[0m\u001b[1;36m0\u001b[0m\u001b[1;33m]\u001b[0m \u001b[1;32mfor\u001b[0m \u001b[0mb\u001b[0m \u001b[1;32min\u001b[0m \u001b[0mblocks\u001b[0m\u001b[1;33m)\u001b[0m\u001b[1;33m\u001b[0m\u001b[1;33m\u001b[0m\u001b[0m\n\u001b[1;32m-> 1672\u001b[1;33m         \u001b[1;32mraise\u001b[0m \u001b[0mconstruction_error\u001b[0m\u001b[1;33m(\u001b[0m\u001b[0mtot_items\u001b[0m\u001b[1;33m,\u001b[0m \u001b[0mblocks\u001b[0m\u001b[1;33m[\u001b[0m\u001b[1;36m0\u001b[0m\u001b[1;33m]\u001b[0m\u001b[1;33m.\u001b[0m\u001b[0mshape\u001b[0m\u001b[1;33m[\u001b[0m\u001b[1;36m1\u001b[0m\u001b[1;33m:\u001b[0m\u001b[1;33m]\u001b[0m\u001b[1;33m,\u001b[0m \u001b[0maxes\u001b[0m\u001b[1;33m,\u001b[0m \u001b[0me\u001b[0m\u001b[1;33m)\u001b[0m\u001b[1;33m\u001b[0m\u001b[1;33m\u001b[0m\u001b[0m\n\u001b[0m\u001b[0;32m   1673\u001b[0m \u001b[1;33m\u001b[0m\u001b[0m\n\u001b[0;32m   1674\u001b[0m \u001b[1;33m\u001b[0m\u001b[0m\n",
      "\u001b[1;31mValueError\u001b[0m: Shape of passed values is (1856, 323), indices imply (1856, 263)"
     ]
    }
   ],
   "source": [
    "preprocessor = ColumnTransformer(transformers=[\n",
    "    ('tf1',OneHotEncoder(sparse=False, handle_unknown='ignore'), cat_feats)],remainder='passthrough')\n",
    "\n",
    "X_train_transformed = preprocessor.fit_transform(X_train)\n",
    "\n",
    "columns_transformed = preprocessor.named_transformers_['tf1'].get_feature_names(input_features = cat_feats)\n",
    "new_columns = list(columns_transformed) + num_feats\n",
    "\n",
    "X_train_transformed = pd.DataFrame(X_train_transformed,columns=new_columns)\n",
    "\n",
    "X_test_transformed = preprocessor.transform(X_test)\n",
    "X_test_transformed = pd.DataFrame(X_test_transformed,columns=new_columns)"
   ]
  },
  {
   "cell_type": "code",
   "execution_count": null,
   "metadata": {},
   "outputs": [],
   "source": [
    "X_train = X_train_transformed[selected_features]\n",
    "X_test = X_test_transformed[selected_features]"
   ]
  },
  {
   "cell_type": "code",
   "execution_count": 8,
   "metadata": {},
   "outputs": [
    {
     "data": {
      "text/plain": [
       "GridSearchCV(cv=RepeatedKFold(n_repeats=5, n_splits=4, random_state=42),\n",
       "             estimator=XGBRegressor(base_score=None, booster=None,\n",
       "                                    colsample_bylevel=None,\n",
       "                                    colsample_bynode=None,\n",
       "                                    colsample_bytree=None, gamma=None,\n",
       "                                    gpu_id=None, importance_type='gain',\n",
       "                                    interaction_constraints=None,\n",
       "                                    learning_rate=None, max_delta_step=None,\n",
       "                                    max_depth=None, min_child_weight=None,\n",
       "                                    missing=nan, monotone_constraints=None,\n",
       "                                    n_estimators=100, n_jobs=None,\n",
       "                                    num_parallel_tree=None, random_state=None,\n",
       "                                    reg_alpha=None, reg_lambda=None,\n",
       "                                    scale_pos_weight=None, subsample=None,\n",
       "                                    tree_method=None, validate_parameters=None,\n",
       "                                    verbosity=None),\n",
       "             n_jobs=-1,\n",
       "             param_grid={'eta': [0.1, 0.3, 0.5], 'max_depth': [20, 50],\n",
       "                         'n_estimators': [1, 10, 100]},\n",
       "             scoring='r2')"
      ]
     },
     "execution_count": 8,
     "metadata": {},
     "output_type": "execute_result"
    }
   ],
   "source": [
    "X = X_train\n",
    "y = y_train\n",
    "\n",
    "boost = xgb.XGBRegressor()\n",
    "\n",
    "param_grid = {\n",
    "    'n_estimators':[1,10,100],\n",
    "    'max_depth':[20,50],\n",
    "    'eta':[0.1,0.3,0.5]\n",
    "}\n",
    "\n",
    "cv = RepeatedKFold(n_splits=4, n_repeats=5, random_state=42)\n",
    "\n",
    "grid = GridSearchCV(boost, param_grid, scoring='r2', cv=cv, n_jobs=-1)\n",
    "\n",
    "grid.fit(X,y)"
   ]
  },
  {
   "cell_type": "code",
   "execution_count": 9,
   "metadata": {},
   "outputs": [
    {
     "data": {
      "text/plain": [
       "array([-7.50105689e+02, -1.12426350e+02,  9.30484861e-01, -7.50105689e+02,\n",
       "       -1.12426350e+02,  9.29670915e-01, -4.53980027e+02,  1.06522988e-01,\n",
       "        9.10997924e-01, -4.53980027e+02,  1.06522988e-01,  9.10551285e-01,\n",
       "       -2.31817926e+02,  8.84795615e-01,  8.89527814e-01, -2.31817926e+02,\n",
       "        8.84538672e-01,  8.88787510e-01])"
      ]
     },
     "execution_count": 9,
     "metadata": {},
     "output_type": "execute_result"
    }
   ],
   "source": [
    "grid.cv_results_['mean_test_score']"
   ]
  },
  {
   "cell_type": "code",
   "execution_count": 10,
   "metadata": {
    "scrolled": true
   },
   "outputs": [
    {
     "name": "stdout",
     "output_type": "stream",
     "text": [
      "0.9304848609458374\n",
      "{'eta': 0.1, 'max_depth': 20, 'n_estimators': 100}\n"
     ]
    }
   ],
   "source": [
    "print(grid.best_score_)\n",
    "print(grid.best_params_)"
   ]
  },
  {
   "cell_type": "code",
   "execution_count": 13,
   "metadata": {
    "scrolled": true
   },
   "outputs": [
    {
     "data": {
      "text/plain": [
       "[0.9266094732669216,\n",
       " 0.925089886701356,\n",
       " 0.9367783628307563,\n",
       " 0.9350228257994281,\n",
       " 0.931905393955254,\n",
       " 0.924291910720867,\n",
       " 0.9390481513818065,\n",
       " 0.928715176330204,\n",
       " 0.9278364755762685,\n",
       " 0.93738961631268,\n",
       " 0.9349303235003271,\n",
       " 0.930556154633325,\n",
       " 0.9256630413554444,\n",
       " 0.9400218219750167,\n",
       " 0.9323589550484906,\n",
       " 0.9114086982332865,\n",
       " 0.9254541323572523,\n",
       " 0.9386657643149838,\n",
       " 0.9295163009874403,\n",
       " 0.9284347536356401]"
      ]
     },
     "execution_count": 13,
     "metadata": {},
     "output_type": "execute_result"
    }
   ],
   "source": [
    "split_scores_best_params = [grid.cv_results_[f'split{j}_test_score'][grid.best_index_] for j in range(20)]\n",
    "split_scores_best_params"
   ]
  },
  {
   "cell_type": "code",
   "execution_count": 14,
   "metadata": {},
   "outputs": [
    {
     "data": {
      "text/plain": [
       "0.9304848609458374"
      ]
     },
     "execution_count": 14,
     "metadata": {},
     "output_type": "execute_result"
    }
   ],
   "source": [
    "np.mean(split_scores_best_params)"
   ]
  },
  {
   "cell_type": "code",
   "execution_count": 16,
   "metadata": {},
   "outputs": [
    {
     "data": {
      "text/plain": [
       "0.9999628571398433"
      ]
     },
     "execution_count": 16,
     "metadata": {},
     "output_type": "execute_result"
    }
   ],
   "source": [
    "grid.score(X, y)"
   ]
  },
  {
   "cell_type": "code",
   "execution_count": 17,
   "metadata": {},
   "outputs": [
    {
     "data": {
      "text/plain": [
       "0.917702155202159"
      ]
     },
     "execution_count": 17,
     "metadata": {},
     "output_type": "execute_result"
    }
   ],
   "source": [
    "X = transformer.transform(X_test)\n",
    "y = y_test\n",
    "grid.score(X, y)"
   ]
  },
  {
   "cell_type": "code",
   "execution_count": null,
   "metadata": {},
   "outputs": [],
   "source": []
  }
 ],
 "metadata": {
  "kernelspec": {
   "display_name": "Python 3",
   "language": "python",
   "name": "python3"
  },
  "language_info": {
   "codemirror_mode": {
    "name": "ipython",
    "version": 3
   },
   "file_extension": ".py",
   "mimetype": "text/x-python",
   "name": "python",
   "nbconvert_exporter": "python",
   "pygments_lexer": "ipython3",
   "version": "3.8.5"
  }
 },
 "nbformat": 4,
 "nbformat_minor": 5
}
