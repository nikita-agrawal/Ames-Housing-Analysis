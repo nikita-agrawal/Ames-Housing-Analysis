{
 "cells": [
  {
   "cell_type": "markdown",
   "id": "87c42814",
   "metadata": {},
   "source": [
    "## Ridge Regression with Lasso-Limited Features"
   ]
  },
  {
   "cell_type": "code",
   "execution_count": 1,
   "id": "419bdfdc",
   "metadata": {},
   "outputs": [],
   "source": [
    "import pandas as pd\n",
    "import numpy as np\n",
    "import helper\n",
    "import matplotlib.pyplot as plt\n",
    "import seaborn as sns\n",
    "import matplotlib.style as style\n",
    "style.use('fivethirtyeight')\n",
    "\n",
    "from sklearn.linear_model import ElasticNet, Ridge\n",
    "from sklearn.model_selection import GridSearchCV\n",
    "from sklearn.preprocessing import OneHotEncoder\n",
    "from sklearn.compose import ColumnTransformer\n",
    "from sklearn.preprocessing import StandardScaler"
   ]
  },
  {
   "cell_type": "code",
   "execution_count": 2,
   "id": "4273a1b8",
   "metadata": {},
   "outputs": [],
   "source": [
    "def net_grid(train, test, cat_feats, alpha, l1_ratio, cv_):\n",
    "    \n",
    "    scaler = StandardScaler(with_mean=False)\n",
    "    net = ElasticNet(max_iter = 50000)\n",
    "\n",
    "    X = train.drop(['SalePrice','PID'],axis=1)\n",
    "    transformer = ColumnTransformer([(\"Cat\", \n",
    "                                      OneHotEncoder(handle_unknown = 'ignore'), \n",
    "                                      cat_feats)], remainder='passthrough')\n",
    "    X = transformer.fit_transform(X)\n",
    "    X = scaler.fit_transform(X)\n",
    "    y = np.log(train['SalePrice'])\n",
    "    net.fit(X, y)\n",
    "\n",
    "    X_tst = test.drop(['SalePrice','PID'],axis=1)\n",
    "    X_tst = transformer.transform(X_tst)\n",
    "    X_tst = scaler.transform(X_tst)\n",
    "    y_tst = np.log(test['SalePrice'])\n",
    "    \n",
    "    tuned_parameters = [{'alpha': alpha, 'l1_ratio': l1_ratio}]\n",
    "    # print(f'Performing Grid Search with alphas of: {alphas}')\n",
    "    clf = GridSearchCV(net, tuned_parameters, cv=cv_)\n",
    "    clf.fit(X, y)\n",
    "    \n",
    "    \n",
    "    tst_score = clf.score(X_tst, y_tst)\n",
    "    print(f\"test score: {tst_score}\")\n",
    "    \n",
    "    return clf\n"
   ]
  },
  {
   "cell_type": "code",
   "execution_count": 3,
   "id": "8c3bef5e",
   "metadata": {},
   "outputs": [],
   "source": [
    "# loading and splitting data\n",
    "housing = pd.read_csv('Ames_Housing_Price_Data.csv', index_col = 0,\n",
    "                      low_memory=False)\n",
    "\n",
    "train, test = helper.data_processing_wrapper(housing,\n",
    "                                               num_to_cat_list = ['MSSubClass','MoSold'],\n",
    "                                             remove_PID = False\n",
    "                                        )\n",
    "train, test = helper.feature_engineering_wrapper(train,test)"
   ]
  },
  {
   "cell_type": "code",
   "execution_count": 5,
   "id": "ed05125b",
   "metadata": {},
   "outputs": [],
   "source": [
    "# importing school feature\n",
    "schools = pd.read_csv('schoolFeatures.csv',index_col = 0)\n",
    "school_keep = [\n",
    "    'PID',\n",
    "    'closestSchool'\n",
    "]\n",
    "schools = schools[school_keep]\n",
    "\n",
    "# merge school feature onto original data set.\n",
    "train = train.merge(schools, how = 'left', left_on = 'PID', right_on = 'PID')\n",
    "test = test.merge(schools, how = 'left', left_on = 'PID', right_on = 'PID')\n",
    "\n",
    "train = train.dropna(subset=['closestSchool'])\n",
    "train = train.reset_index(drop=True)\n",
    "\n",
    "test = test.dropna(subset=['closestSchool'])\n",
    "test = test.reset_index(drop=True)"
   ]
  },
  {
   "cell_type": "code",
   "execution_count": 6,
   "id": "c896b669",
   "metadata": {},
   "outputs": [],
   "source": [
    "cat_feats = train.select_dtypes(['object','bool']).columns.to_list()\n",
    "num_feats = train.select_dtypes(['int','float']).columns.to_list()"
   ]
  },
  {
   "cell_type": "code",
   "execution_count": 7,
   "id": "0464cb3e",
   "metadata": {},
   "outputs": [
    {
     "name": "stdout",
     "output_type": "stream",
     "text": [
      "train size: (1856, 129), test size: (621, 129)\n"
     ]
    }
   ],
   "source": [
    "print(f'train size: {train.shape}, test size: {test.shape}')"
   ]
  },
  {
   "cell_type": "code",
   "execution_count": null,
   "id": "f60b2e01",
   "metadata": {},
   "outputs": [],
   "source": [
    "coef_df = pd.read_csv('lasso_coef.csv',index_col=0) #Hayden shared this on Slack\n",
    "coef_df.features.to_list();"
   ]
  },
  {
   "cell_type": "markdown",
   "id": "8d22a6b1",
   "metadata": {},
   "source": [
    "# Ridge"
   ]
  },
  {
   "cell_type": "code",
   "execution_count": null,
   "id": "37a32f5f",
   "metadata": {},
   "outputs": [],
   "source": [
    "scaler = StandardScaler(with_mean=False)\n",
    "net = ElasticNet(max_iter = 50000)\n",
    "X = train.drop(['SalePrice'],axis=1)\n",
    "cat_feats = X.select_dtypes(['object','bool']).columns.to_list()\n",
    "num_feats = X.select_dtypes(['int64','float64']).columns.to_list()\n",
    "transformer = ColumnTransformer([(\"Cat\", \n",
    "                                      OneHotEncoder(handle_unknown = 'ignore'), \n",
    "                                      cat_feats)], remainder='passthrough')\n",
    "X = transformer.fit_transform(X)\n",
    "X = scaler.fit_transform(X)\n",
    "y = np.log(train['SalePrice'])\n",
    "# net.fit(X, y)\n",
    "\n",
    "X_tst = test.drop(['SalePrice'],axis=1)\n",
    "X_tst = transformer.transform(X_tst)\n",
    "X_tst = scaler.transform(X_tst)\n",
    "y_tst = np.log(test['SalePrice'])\n",
    "\n",
    "# add column names to the X Dataframe\n",
    "col_names = transformer.named_transformers_['Cat'].get_feature_names(input_features= cat_feats)\n",
    "new_columns = list(col_names)+num_feats\n",
    "X = pd.DataFrame(X, columns=new_columns)\n",
    "X_tst = pd.DataFrame(X_tst, columns=new_columns)"
   ]
  },
  {
   "cell_type": "code",
   "execution_count": null,
   "id": "d39215b9",
   "metadata": {},
   "outputs": [],
   "source": [
    "X = X[coef_df['features']]\n",
    "X_tst = X_tst[coef_df['features']]\n",
    "print(f'train size: {X_tst.shape}, test size: {y_tst.shape}')"
   ]
  },
  {
   "cell_type": "code",
   "execution_count": 18,
   "id": "a1213dfa",
   "metadata": {},
   "outputs": [
    {
     "data": {
      "text/plain": [
       "0.949411242949229"
      ]
     },
     "execution_count": 18,
     "metadata": {},
     "output_type": "execute_result"
    }
   ],
   "source": [
    "ridge = Ridge()\n",
    "alpha = [0.0001, 0.0003, 0.0006, 0.001, 0.003, 0.006, 0.01, 0.03, 0.06, 0.1, 0.3, 0.6, 1, 3, 6]\n",
    "tuned_parameters = [{'alpha': alpha}]\n",
    "clf = GridSearchCV(ridge, tuned_parameters, cv=5);\n",
    "clf.fit(X, y)\n",
    "clf.best_score_"
   ]
  },
  {
   "cell_type": "code",
   "execution_count": 19,
   "id": "a43bc803",
   "metadata": {},
   "outputs": [
    {
     "name": "stdout",
     "output_type": "stream",
     "text": [
      "test score: 0.9211997221838475\n",
      "best params: {'alpha': 6}\n"
     ]
    }
   ],
   "source": [
    "tst_score = clf.score(X_tst, y_tst)\n",
    "print(f\"test score: {tst_score}\")\n",
    "print(f'best params: {clf.best_params_}')\n",
    "best_alpha = clf.best_params_['alpha']"
   ]
  },
  {
   "cell_type": "code",
   "execution_count": 20,
   "id": "1b3e2ad9",
   "metadata": {},
   "outputs": [
    {
     "data": {
      "text/plain": [
       "0.9495383326380228"
      ]
     },
     "execution_count": 20,
     "metadata": {},
     "output_type": "execute_result"
    }
   ],
   "source": [
    "alpha = [best_alpha*0.8, best_alpha*0.85, best_alpha*0.9, best_alpha*0.95,\n",
    "         best_alpha*0.1, best_alpha*1.5, best_alpha*2, best_alpha*2.5]\n",
    "tuned_parameters = [{'alpha': alpha}]\n",
    "clf = GridSearchCV(ridge, tuned_parameters, cv=5);\n",
    "clf.fit(X, y)\n",
    "clf.best_score_"
   ]
  },
  {
   "cell_type": "code",
   "execution_count": 21,
   "id": "8f587f24",
   "metadata": {},
   "outputs": [
    {
     "name": "stdout",
     "output_type": "stream",
     "text": [
      "test score: 0.9214209260645868\n",
      "best params: {'alpha': 15.0}\n"
     ]
    }
   ],
   "source": [
    "tst_score = clf.score(X_tst, y_tst)\n",
    "print(f\"test score: {tst_score}\")\n",
    "print(f'best params: {clf.best_params_}')\n"
   ]
  },
  {
   "cell_type": "code",
   "execution_count": 22,
   "id": "7884dec1",
   "metadata": {
    "scrolled": true
   },
   "outputs": [
    {
     "data": {
      "text/plain": [
       "0.9495383326380228"
      ]
     },
     "execution_count": 22,
     "metadata": {},
     "output_type": "execute_result"
    }
   ],
   "source": [
    "alpha = [best_alpha*0.8, best_alpha*0.85, best_alpha*0.9, best_alpha*0.95,\n",
    "         best_alpha*0.1, best_alpha*1.5, best_alpha*2, best_alpha*2.5]\n",
    "tuned_parameters = [{'alpha': alpha}]\n",
    "clf = GridSearchCV(ridge, tuned_parameters, cv=5);\n",
    "clf.fit(X, y)\n",
    "clf.best_score_"
   ]
  },
  {
   "cell_type": "code",
   "execution_count": 23,
   "id": "4aa5e1c3",
   "metadata": {},
   "outputs": [
    {
     "name": "stdout",
     "output_type": "stream",
     "text": [
      "test score: 0.9214209260645868\n",
      "best params: {'alpha': 15.0}\n"
     ]
    }
   ],
   "source": [
    "tst_score = clf.score(X_tst, y_tst)\n",
    "print(f\"test score: {tst_score}\")\n",
    "print(f'best params: {clf.best_params_}')\n",
    "best_alpha = clf.best_params_['alpha']"
   ]
  },
  {
   "cell_type": "code",
   "execution_count": 24,
   "id": "ca2cf1a8",
   "metadata": {},
   "outputs": [
    {
     "data": {
      "text/plain": [
       "0.9496177681879183"
      ]
     },
     "execution_count": 24,
     "metadata": {},
     "output_type": "execute_result"
    }
   ],
   "source": [
    "## Round 3\n",
    "\n",
    "alpha = [best_alpha*0.8, best_alpha*0.85, best_alpha*0.9, best_alpha*0.95,\n",
    "         best_alpha*0.1, best_alpha*1.5, best_alpha*2, best_alpha*2.5]\n",
    "tuned_parameters = [{'alpha': alpha}]\n",
    "clf = GridSearchCV(ridge, tuned_parameters, cv=5);\n",
    "clf.fit(X, y)\n",
    "clf.best_score_"
   ]
  },
  {
   "cell_type": "code",
   "execution_count": 25,
   "id": "93f93205",
   "metadata": {},
   "outputs": [
    {
     "name": "stdout",
     "output_type": "stream",
     "text": [
      "test score: 0.9217873594983708\n",
      "best params: {'alpha': 37.5}\n"
     ]
    }
   ],
   "source": [
    "tst_score = clf.score(X_tst, y_tst)\n",
    "print(f\"test score: {tst_score}\")\n",
    "print(f'best params: {clf.best_params_}')\n",
    "best_alpha = clf.best_params_['alpha']"
   ]
  },
  {
   "cell_type": "code",
   "execution_count": 26,
   "id": "ab488e70",
   "metadata": {},
   "outputs": [
    {
     "data": {
      "text/plain": [
       "0.9496189389335381"
      ]
     },
     "execution_count": 26,
     "metadata": {},
     "output_type": "execute_result"
    }
   ],
   "source": [
    "## Round 4\n",
    "\n",
    "alpha = [best_alpha*0.8, best_alpha*0.85, best_alpha*0.9, best_alpha*0.95,\n",
    "         best_alpha*0.1, best_alpha*1.5, best_alpha*2, best_alpha*2.5]\n",
    "tuned_parameters = [{'alpha': alpha}]\n",
    "clf = GridSearchCV(ridge, tuned_parameters, cv=5);\n",
    "clf.fit(X, y)\n",
    "clf.best_score_"
   ]
  },
  {
   "cell_type": "code",
   "execution_count": 27,
   "id": "fd44792f",
   "metadata": {},
   "outputs": [
    {
     "name": "stdout",
     "output_type": "stream",
     "text": [
      "test score: 0.9217390613811546\n",
      "best params: {'alpha': 33.75}\n"
     ]
    }
   ],
   "source": [
    "tst_score = clf.score(X_tst, y_tst)\n",
    "print(f\"test score: {tst_score}\")\n",
    "print(f'best params: {clf.best_params_}')\n",
    "best_alpha = clf.best_params_['alpha']"
   ]
  },
  {
   "cell_type": "code",
   "execution_count": 28,
   "id": "13dcddea",
   "metadata": {},
   "outputs": [
    {
     "data": {
      "text/plain": [
       "0.9496180333736712"
      ]
     },
     "execution_count": 28,
     "metadata": {},
     "output_type": "execute_result"
    }
   ],
   "source": [
    "## Round 5\n",
    "\n",
    "alpha = [best_alpha*0.8, best_alpha*0.85, best_alpha*0.9, best_alpha*0.95,\n",
    "         best_alpha*0.1, best_alpha*1.5, best_alpha*2, best_alpha*2.5]\n",
    "tuned_parameters = [{'alpha': alpha}]\n",
    "clf = GridSearchCV(ridge, tuned_parameters, cv=5);\n",
    "clf.fit(X, y)\n",
    "clf.best_score_"
   ]
  },
  {
   "cell_type": "code",
   "execution_count": 29,
   "id": "689e6271",
   "metadata": {},
   "outputs": [
    {
     "name": "stdout",
     "output_type": "stream",
     "text": [
      "test score: 0.9217159637862055\n",
      "best params: {'alpha': 32.0625}\n"
     ]
    }
   ],
   "source": [
    "tst_score = clf.score(X_tst, y_tst)\n",
    "print(f\"test score: {tst_score}\")\n",
    "print(f'best params: {clf.best_params_}')\n",
    "best_alpha = clf.best_params_['alpha']"
   ]
  },
  {
   "cell_type": "code",
   "execution_count": 30,
   "id": "6897970a",
   "metadata": {},
   "outputs": [
    {
     "data": {
      "text/plain": [
       "0.9496162674327542"
      ]
     },
     "execution_count": 30,
     "metadata": {},
     "output_type": "execute_result"
    }
   ],
   "source": [
    "## Round 6\n",
    "\n",
    "alpha = [best_alpha*0.8, best_alpha*0.85, best_alpha*0.9, best_alpha*0.95,\n",
    "         best_alpha*0.1, best_alpha*1.5, best_alpha*2, best_alpha*2.5]\n",
    "tuned_parameters = [{'alpha': alpha}]\n",
    "clf = GridSearchCV(ridge, tuned_parameters, cv=5);\n",
    "clf.fit(X, y)\n",
    "clf.best_score_"
   ]
  },
  {
   "cell_type": "code",
   "execution_count": 31,
   "id": "2b152e21",
   "metadata": {},
   "outputs": [
    {
     "name": "stdout",
     "output_type": "stream",
     "text": [
      "test score: 0.9216931791415927\n",
      "best params: {'alpha': 30.459374999999998}\n"
     ]
    }
   ],
   "source": [
    "tst_score = clf.score(X_tst, y_tst)\n",
    "print(f\"test score: {tst_score}\")\n",
    "print(f'best params: {clf.best_params_}')\n",
    "best_alpha = clf.best_params_['alpha']"
   ]
  },
  {
   "cell_type": "markdown",
   "id": "c14aeb29",
   "metadata": {},
   "source": [
    "## Get coefficient table"
   ]
  },
  {
   "cell_type": "code",
   "execution_count": 27,
   "id": "3a4d5c06",
   "metadata": {},
   "outputs": [
    {
     "data": {
      "text/html": [
       "<div>\n",
       "<style scoped>\n",
       "    .dataframe tbody tr th:only-of-type {\n",
       "        vertical-align: middle;\n",
       "    }\n",
       "\n",
       "    .dataframe tbody tr th {\n",
       "        vertical-align: top;\n",
       "    }\n",
       "\n",
       "    .dataframe thead th {\n",
       "        text-align: right;\n",
       "    }\n",
       "</style>\n",
       "<table border=\"1\" class=\"dataframe\">\n",
       "  <thead>\n",
       "    <tr style=\"text-align: right;\">\n",
       "      <th></th>\n",
       "      <th>features</th>\n",
       "      <th>coefficients</th>\n",
       "      <th>absCoef</th>\n",
       "    </tr>\n",
       "  </thead>\n",
       "  <tbody>\n",
       "    <tr>\n",
       "      <th>0</th>\n",
       "      <td>GrLivArea_square_root</td>\n",
       "      <td>0.073881</td>\n",
       "      <td>0.073881</td>\n",
       "    </tr>\n",
       "    <tr>\n",
       "      <th>1</th>\n",
       "      <td>year_since_built_square_root</td>\n",
       "      <td>-0.070151</td>\n",
       "      <td>0.070151</td>\n",
       "    </tr>\n",
       "    <tr>\n",
       "      <th>2</th>\n",
       "      <td>total_sf_square_root</td>\n",
       "      <td>0.059132</td>\n",
       "      <td>0.059132</td>\n",
       "    </tr>\n",
       "    <tr>\n",
       "      <th>3</th>\n",
       "      <td>overall_score_square_root</td>\n",
       "      <td>0.039542</td>\n",
       "      <td>0.039542</td>\n",
       "    </tr>\n",
       "    <tr>\n",
       "      <th>4</th>\n",
       "      <td>LotArea_square_root</td>\n",
       "      <td>0.038704</td>\n",
       "      <td>0.038704</td>\n",
       "    </tr>\n",
       "    <tr>\n",
       "      <th>6</th>\n",
       "      <td>OverallQual_cubed</td>\n",
       "      <td>0.037801</td>\n",
       "      <td>0.037801</td>\n",
       "    </tr>\n",
       "    <tr>\n",
       "      <th>5</th>\n",
       "      <td>total_high_qual_finished_sf</td>\n",
       "      <td>0.025610</td>\n",
       "      <td>0.025610</td>\n",
       "    </tr>\n",
       "    <tr>\n",
       "      <th>7</th>\n",
       "      <td>Neighborhood_log_comp</td>\n",
       "      <td>0.022867</td>\n",
       "      <td>0.022867</td>\n",
       "    </tr>\n",
       "    <tr>\n",
       "      <th>20</th>\n",
       "      <td>OverallCond</td>\n",
       "      <td>0.019329</td>\n",
       "      <td>0.019329</td>\n",
       "    </tr>\n",
       "    <tr>\n",
       "      <th>10</th>\n",
       "      <td>Neighborhood_Crawfor</td>\n",
       "      <td>0.014146</td>\n",
       "      <td>0.014146</td>\n",
       "    </tr>\n",
       "    <tr>\n",
       "      <th>8</th>\n",
       "      <td>BsmtExposure_cubed</td>\n",
       "      <td>0.013428</td>\n",
       "      <td>0.013428</td>\n",
       "    </tr>\n",
       "    <tr>\n",
       "      <th>29</th>\n",
       "      <td>closestSchool_Abbie Sawyer</td>\n",
       "      <td>0.012946</td>\n",
       "      <td>0.012946</td>\n",
       "    </tr>\n",
       "    <tr>\n",
       "      <th>15</th>\n",
       "      <td>Exterior1st_BrkFace</td>\n",
       "      <td>0.012293</td>\n",
       "      <td>0.012293</td>\n",
       "    </tr>\n",
       "    <tr>\n",
       "      <th>9</th>\n",
       "      <td>GarageCars</td>\n",
       "      <td>0.012237</td>\n",
       "      <td>0.012237</td>\n",
       "    </tr>\n",
       "    <tr>\n",
       "      <th>19</th>\n",
       "      <td>Neighborhood_BrkSide</td>\n",
       "      <td>0.011841</td>\n",
       "      <td>0.011841</td>\n",
       "    </tr>\n",
       "  </tbody>\n",
       "</table>\n",
       "</div>"
      ],
      "text/plain": [
       "                        features  coefficients   absCoef\n",
       "0          GrLivArea_square_root      0.073881  0.073881\n",
       "1   year_since_built_square_root     -0.070151  0.070151\n",
       "2           total_sf_square_root      0.059132  0.059132\n",
       "3      overall_score_square_root      0.039542  0.039542\n",
       "4            LotArea_square_root      0.038704  0.038704\n",
       "6              OverallQual_cubed      0.037801  0.037801\n",
       "5    total_high_qual_finished_sf      0.025610  0.025610\n",
       "7          Neighborhood_log_comp      0.022867  0.022867\n",
       "20                   OverallCond      0.019329  0.019329\n",
       "10          Neighborhood_Crawfor      0.014146  0.014146\n",
       "8             BsmtExposure_cubed      0.013428  0.013428\n",
       "29    closestSchool_Abbie Sawyer      0.012946  0.012946\n",
       "15           Exterior1st_BrkFace      0.012293  0.012293\n",
       "9                     GarageCars      0.012237  0.012237\n",
       "19          Neighborhood_BrkSide      0.011841  0.011841"
      ]
     },
     "execution_count": 27,
     "metadata": {},
     "output_type": "execute_result"
    }
   ],
   "source": [
    "# Get top coefficients\n",
    "coef_table = pd.DataFrame({ 'features': coef_df['features'] , 'coefficients': clf.best_estimator_.coef_})\n",
    "coef_table['absCoef'] = np.abs(coef_table['coefficients'])\n",
    "coef_table = coef_table.sort_values('absCoef', ascending=False)\n",
    "top10coef = coef_table[['features', 'absCoef']]\n",
    "coef_table.head(15)"
   ]
  },
  {
   "cell_type": "markdown",
   "id": "dfd41d3f",
   "metadata": {},
   "source": [
    "## Graphing\n",
    "### Written by Hayden"
   ]
  },
  {
   "cell_type": "code",
   "execution_count": null,
   "id": "f483d460",
   "metadata": {},
   "outputs": [],
   "source": [
    "import matplotlib.patches as mpatches\n",
    "\n",
    "colors = [\"#FF0B04\", \"#F1BE48\",\n",
    "           \"#B9975B\", \"#8B5B29\",\n",
    "           \"#524727\",\n",
    "         ]\n",
    "\n",
    "coef_table = coef_table[coef_table['coefficients']!=0]\n",
    "coef_table = coef_table.sort_values('absCoef',ascending=False).reset_index(drop=True)\n",
    "coef_table.loc[:,'sign'] = np.sign(coef_table.loc[:,'coefficients'])\n",
    "\n",
    "graph_df = coef_table.loc[0:19,:]\n",
    "sign_=list(graph_df.sign)\n",
    "color_map = {1:colors[0],-1:colors[1]}\n",
    "sign_colors = map(color_map.get, sign_)\n",
    "g = sns.barplot(data = graph_df,y='features',x='absCoef',palette=sign_colors)\n",
    "\n",
    "pos_patch = mpatches.Patch(color=colors[0], label='Positive Coefficient')\n",
    "neg_patch = mpatches.Patch(color=colors[1], label='Negative Coefficient')\n",
    "plt.legend(handles=[pos_patch,neg_patch])\n",
    "\n",
    "plt.title('Ridge Top 20 Coefficient')\n",
    "plt.xlabel(r'Coefficient Value')\n",
    "plt.ylabel('')\n",
    "\n",
    "g.set_yticklabels(labels = [\n",
    "    r'Above Ground $ft^{2}$ $\\sqrt{~~}$',\n",
    "    r'Years Since Built $\\sqrt{~~}$',\n",
    "    r'Total $ft^{2}$ $\\sqrt{~~}$',\n",
    "    r'Overall Score $\\sqrt{~~}$',\n",
    "    r'Lot Area $\\sqrt{~~}$',\n",
    "    r'Overall Quality$^{3}$',\n",
    "    'Total High Quality $ft^{2}$',\n",
    "    'Neighborhood Comp',\n",
    "    'Overall Condition',\n",
    "    'Neighborhood: Crawford',\n",
    "    r'Basement Exposure$^{3}$',\n",
    "    'Closest School: Abbie Sawyer',\n",
    "    'Brick Face Exterior1st',\n",
    "    'Garage Cars',\n",
    "    'Neighborhood: Brookside',\n",
    "    'Garage Area',\n",
    "    'MSZoning Comp',\n",
    "    'Neighborhood: Sawyer West',\n",
    "    r'Kitchen Qualilty$^{3}$',\n",
    "    'Basement $ft^{2}$ Finish 1',\n",
    "])\n",
    "\n",
    "plt.show()"
   ]
  }
 ],
 "metadata": {
  "kernelspec": {
   "display_name": "Python 3",
   "language": "python",
   "name": "python3"
  },
  "language_info": {
   "codemirror_mode": {
    "name": "ipython",
    "version": 3
   },
   "file_extension": ".py",
   "mimetype": "text/x-python",
   "name": "python",
   "nbconvert_exporter": "python",
   "pygments_lexer": "ipython3",
   "version": "3.8.2"
  }
 },
 "nbformat": 4,
 "nbformat_minor": 5
}
